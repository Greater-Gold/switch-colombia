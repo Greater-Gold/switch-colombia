{
 "cells": [
  {
   "cell_type": "markdown",
   "metadata": {},
   "source": [
    "# Analysis of Dispatch vs. Demand\n",
    "## 1. Introduction\n",
    "\n",
    "This Notebook investigates how dispatch from models satisfies demand. We'll load various datasets, perform comparisons, and analyze results through visualizations."
   ]
  },
  {
   "cell_type": "markdown",
   "metadata": {},
   "source": [
    "## 2. Import Libraries"
   ]
  },
  {
   "cell_type": "code",
   "execution_count": 64,
   "metadata": {},
   "outputs": [],
   "source": [
    "# Import necessary libraries\n",
    "import pandas as pd\n",
    "import plotly.express as px\n",
    "import plotly.graph_objects as go\n",
    "from plotly.subplots import make_subplots\n",
    "import numpy as np"
   ]
  },
  {
   "cell_type": "markdown",
   "metadata": {},
   "source": [
    "## 3. Load and Prepare Data"
   ]
  },
  {
   "cell_type": "code",
   "execution_count": 65,
   "metadata": {},
   "outputs": [],
   "source": [
    "model_inputs_path = '../../model/inputs/'\n",
    "model_outputs_path = '../../model/outputs/'\n",
    "dema_path = '../../data/XM-API/variable_query/2022-12-01_2023-11-30/'"
   ]
  },
  {
   "cell_type": "markdown",
   "metadata": {},
   "source": [
    "### 3.1 Timepoints\n",
    "It is always advisable to load the timepoints from the model to simplify the transformations of many tables when merging."
   ]
  },
  {
   "cell_type": "code",
   "execution_count": 66,
   "metadata": {},
   "outputs": [],
   "source": [
    "# Load timepoints\n",
    "timepoints = pd.read_csv(model_inputs_path+'timepoints.csv')\n",
    "timepoints['timepoints'] = timepoints['timepoint_id']\n",
    "timepoints = timepoints.drop(columns=['timeseries','timepoint_id'])"
   ]
  },
  {
   "cell_type": "markdown",
   "metadata": {},
   "source": [
    "### 3.2.1 Dispatch by Tecnology from Switch\n",
    "`dispatch_system` will be compared with the system registry on xm, while `dispatch` will be used to compare by technology."
   ]
  },
  {
   "cell_type": "code",
   "execution_count": 67,
   "metadata": {},
   "outputs": [
    {
     "data": {
      "text/html": [
       "<div>\n",
       "<style scoped>\n",
       "    .dataframe tbody tr th:only-of-type {\n",
       "        vertical-align: middle;\n",
       "    }\n",
       "\n",
       "    .dataframe tbody tr th {\n",
       "        vertical-align: top;\n",
       "    }\n",
       "\n",
       "    .dataframe thead th {\n",
       "        text-align: right;\n",
       "    }\n",
       "</style>\n",
       "<table border=\"1\" class=\"dataframe\">\n",
       "  <thead>\n",
       "    <tr style=\"text-align: right;\">\n",
       "      <th></th>\n",
       "      <th>timestamp</th>\n",
       "      <th>gen_tech</th>\n",
       "      <th>DispatchGen_MW</th>\n",
       "      <th>timepoints</th>\n",
       "    </tr>\n",
       "  </thead>\n",
       "  <tbody>\n",
       "    <tr>\n",
       "      <th>120</th>\n",
       "      <td>2023_Q1_labor_0h</td>\n",
       "      <td>Eolica</td>\n",
       "      <td>26.734497</td>\n",
       "      <td>1</td>\n",
       "    </tr>\n",
       "    <tr>\n",
       "      <th>121</th>\n",
       "      <td>2023_Q1_labor_0h</td>\n",
       "      <td>Hidro</td>\n",
       "      <td>6852.668141</td>\n",
       "      <td>1</td>\n",
       "    </tr>\n",
       "    <tr>\n",
       "      <th>124</th>\n",
       "      <td>2023_Q1_labor_0h</td>\n",
       "      <td>pv_solar</td>\n",
       "      <td>0.000000</td>\n",
       "      <td>1</td>\n",
       "    </tr>\n",
       "  </tbody>\n",
       "</table>\n",
       "</div>"
      ],
      "text/plain": [
       "            timestamp  gen_tech  DispatchGen_MW  timepoints\n",
       "120  2023_Q1_labor_0h    Eolica       26.734497           1\n",
       "121  2023_Q1_labor_0h     Hidro     6852.668141           1\n",
       "124  2023_Q1_labor_0h  pv_solar        0.000000           1"
      ]
     },
     "execution_count": 67,
     "metadata": {},
     "output_type": "execute_result"
    }
   ],
   "source": [
    "dispatch_sw = pd.read_csv(model_outputs_path+'dispatch.csv')\n",
    "dispatch_sw = dispatch_sw.groupby(['timestamp','gen_tech']).agg({\n",
    "    'DispatchGen_MW' : 'sum'\n",
    "}).reset_index()\n",
    "dispatch_sw = pd.merge(dispatch_sw, timepoints, on='timestamp', how='inner')\n",
    "dispatch_sw = dispatch_sw.sort_values(by='timepoints')\n",
    "\n",
    "dispatch_sw.head(3)"
   ]
  },
  {
   "cell_type": "markdown",
   "metadata": {},
   "source": [
    "### 3.2.1 Dispatch by Tecnology from XM"
   ]
  },
  {
   "cell_type": "code",
   "execution_count": 68,
   "metadata": {},
   "outputs": [
    {
     "data": {
      "text/html": [
       "<div>\n",
       "<style scoped>\n",
       "    .dataframe tbody tr th:only-of-type {\n",
       "        vertical-align: middle;\n",
       "    }\n",
       "\n",
       "    .dataframe tbody tr th {\n",
       "        vertical-align: top;\n",
       "    }\n",
       "\n",
       "    .dataframe thead th {\n",
       "        text-align: right;\n",
       "    }\n",
       "</style>\n",
       "<table border=\"1\" class=\"dataframe\">\n",
       "  <thead>\n",
       "    <tr style=\"text-align: right;\">\n",
       "      <th></th>\n",
       "      <th>timestamp</th>\n",
       "      <th>Values_Type</th>\n",
       "      <th>GeneReal</th>\n",
       "      <th>DispatchGen_MW</th>\n",
       "      <th>timepoints</th>\n",
       "    </tr>\n",
       "  </thead>\n",
       "  <tbody>\n",
       "    <tr>\n",
       "      <th>120</th>\n",
       "      <td>2023_Q1_labor_0h</td>\n",
       "      <td>COGENERADOR</td>\n",
       "      <td>1.060746e+05</td>\n",
       "      <td>106.074569</td>\n",
       "      <td>1</td>\n",
       "    </tr>\n",
       "    <tr>\n",
       "      <th>123</th>\n",
       "      <td>2023_Q1_labor_0h</td>\n",
       "      <td>SOLAR</td>\n",
       "      <td>1.675325e-02</td>\n",
       "      <td>0.000017</td>\n",
       "      <td>1</td>\n",
       "    </tr>\n",
       "    <tr>\n",
       "      <th>124</th>\n",
       "      <td>2023_Q1_labor_0h</td>\n",
       "      <td>TERMICA</td>\n",
       "      <td>1.499315e+06</td>\n",
       "      <td>1499.314782</td>\n",
       "      <td>1</td>\n",
       "    </tr>\n",
       "  </tbody>\n",
       "</table>\n",
       "</div>"
      ],
      "text/plain": [
       "            timestamp  Values_Type      GeneReal  DispatchGen_MW  timepoints\n",
       "120  2023_Q1_labor_0h  COGENERADOR  1.060746e+05      106.074569           1\n",
       "123  2023_Q1_labor_0h        SOLAR  1.675325e-02        0.000017           1\n",
       "124  2023_Q1_labor_0h      TERMICA  1.499315e+06     1499.314782           1"
      ]
     },
     "execution_count": 68,
     "metadata": {},
     "output_type": "execute_result"
    }
   ],
   "source": [
    "dispatch_xm = pd.read_csv(dema_path+'Melted_Gen_Res.csv')\n",
    "dispatch_xm = dispatch_xm.drop(dispatch_xm.columns[0], axis=1)\n",
    "dispatch_xm['DispatchGen_MW'] = dispatch_xm['GeneReal'] / 1000\n",
    "# Add Timepoints\n",
    "dispatch_xm = pd.merge(dispatch_xm, timepoints, on='timestamp', how='inner')\n",
    "# Sort by timepoints\n",
    "dispatch_xm = dispatch_xm.sort_values(by='timepoints')\n",
    "\n",
    "dispatch_xm.head(3)"
   ]
  },
  {
   "cell_type": "markdown",
   "metadata": {},
   "source": [
    "### 3.3.1 Dispatch by System from Switch"
   ]
  },
  {
   "cell_type": "code",
   "execution_count": 69,
   "metadata": {},
   "outputs": [],
   "source": [
    "dispatch_sys = dispatch_sw.groupby(['timestamp','timepoints']).agg({\n",
    "    'DispatchGen_MW' : 'sum'\n",
    "    }).reset_index()"
   ]
  },
  {
   "cell_type": "markdown",
   "metadata": {},
   "source": [
    "### 3.3.2 Demand by System from Switch"
   ]
  },
  {
   "cell_type": "code",
   "execution_count": 70,
   "metadata": {},
   "outputs": [
    {
     "name": "stdout",
     "output_type": "stream",
     "text": [
      "(384, 2)\n"
     ]
    },
    {
     "data": {
      "text/html": [
       "<div>\n",
       "<style scoped>\n",
       "    .dataframe tbody tr th:only-of-type {\n",
       "        vertical-align: middle;\n",
       "    }\n",
       "\n",
       "    .dataframe tbody tr th {\n",
       "        vertical-align: top;\n",
       "    }\n",
       "\n",
       "    .dataframe thead th {\n",
       "        text-align: right;\n",
       "    }\n",
       "</style>\n",
       "<table border=\"1\" class=\"dataframe\">\n",
       "  <thead>\n",
       "    <tr style=\"text-align: right;\">\n",
       "      <th></th>\n",
       "      <th>timepoints</th>\n",
       "      <th>zone_demand_mw</th>\n",
       "    </tr>\n",
       "  </thead>\n",
       "  <tbody>\n",
       "    <tr>\n",
       "      <th>0</th>\n",
       "      <td>1</td>\n",
       "      <td>8433.925584</td>\n",
       "    </tr>\n",
       "    <tr>\n",
       "      <th>1</th>\n",
       "      <td>2</td>\n",
       "      <td>7961.776883</td>\n",
       "    </tr>\n",
       "    <tr>\n",
       "      <th>2</th>\n",
       "      <td>3</td>\n",
       "      <td>7689.767922</td>\n",
       "    </tr>\n",
       "  </tbody>\n",
       "</table>\n",
       "</div>"
      ],
      "text/plain": [
       "   timepoints  zone_demand_mw\n",
       "0           1     8433.925584\n",
       "1           2     7961.776883\n",
       "2           3     7689.767922"
      ]
     },
     "execution_count": 70,
     "metadata": {},
     "output_type": "execute_result"
    }
   ],
   "source": [
    "loads = pd.read_csv(model_inputs_path+'loads.csv')\n",
    "loads = loads.groupby(['timepoints']).agg({\n",
    "    'zone_demand_mw': 'sum'\n",
    "}).reset_index()\n",
    "\n",
    "print(loads.shape)\n",
    "loads.head(3)"
   ]
  },
  {
   "cell_type": "markdown",
   "metadata": {},
   "source": [
    "### 3.3.3 Dispatch and Demand by System from XM"
   ]
  },
  {
   "cell_type": "code",
   "execution_count": 71,
   "metadata": {},
   "outputs": [
    {
     "name": "stdout",
     "output_type": "stream",
     "text": [
      "(192, 5)\n"
     ]
    },
    {
     "data": {
      "text/html": [
       "<div>\n",
       "<style scoped>\n",
       "    .dataframe tbody tr th:only-of-type {\n",
       "        vertical-align: middle;\n",
       "    }\n",
       "\n",
       "    .dataframe tbody tr th {\n",
       "        vertical-align: top;\n",
       "    }\n",
       "\n",
       "    .dataframe thead th {\n",
       "        text-align: right;\n",
       "    }\n",
       "</style>\n",
       "<table border=\"1\" class=\"dataframe\">\n",
       "  <thead>\n",
       "    <tr style=\"text-align: right;\">\n",
       "      <th></th>\n",
       "      <th>timestamp</th>\n",
       "      <th>DemaReal_Sistema</th>\n",
       "      <th>DemaCome_Sistema</th>\n",
       "      <th>Gene_Sistema</th>\n",
       "      <th>GeneIdea_Sistema</th>\n",
       "    </tr>\n",
       "  </thead>\n",
       "  <tbody>\n",
       "    <tr>\n",
       "      <th>0</th>\n",
       "      <td>2023_Q1_holidays_0h</td>\n",
       "      <td>7915.745849</td>\n",
       "      <td>8076.836295</td>\n",
       "      <td>8076.777236</td>\n",
       "      <td>8076.777236</td>\n",
       "    </tr>\n",
       "    <tr>\n",
       "      <th>1</th>\n",
       "      <td>2023_Q1_holidays_10h</td>\n",
       "      <td>7725.791177</td>\n",
       "      <td>7856.700819</td>\n",
       "      <td>7856.700819</td>\n",
       "      <td>7856.700819</td>\n",
       "    </tr>\n",
       "    <tr>\n",
       "      <th>2</th>\n",
       "      <td>2023_Q1_holidays_11h</td>\n",
       "      <td>8022.721860</td>\n",
       "      <td>8154.997578</td>\n",
       "      <td>8154.919696</td>\n",
       "      <td>8154.919696</td>\n",
       "    </tr>\n",
       "  </tbody>\n",
       "</table>\n",
       "</div>"
      ],
      "text/plain": [
       "              timestamp  DemaReal_Sistema  DemaCome_Sistema  Gene_Sistema  \\\n",
       "0   2023_Q1_holidays_0h       7915.745849       8076.836295   8076.777236   \n",
       "1  2023_Q1_holidays_10h       7725.791177       7856.700819   7856.700819   \n",
       "2  2023_Q1_holidays_11h       8022.721860       8154.997578   8154.919696   \n",
       "\n",
       "   GeneIdea_Sistema  \n",
       "0       8076.777236  \n",
       "1       7856.700819  \n",
       "2       8154.919696  "
      ]
     },
     "execution_count": 71,
     "metadata": {},
     "output_type": "execute_result"
    }
   ],
   "source": [
    "XM = pd.read_csv(dema_path+'Melted_DemaGen_Sys.csv')\n",
    "# Group by timestamp\n",
    "XM = XM.groupby(['timestamp']).agg({\n",
    "    'DemaReal_Sistema': 'mean',\n",
    "    'DemaCome_Sistema': 'mean',\n",
    "    'Gene_Sistema': 'mean',\n",
    "    'GeneIdea_Sistema': 'mean'\n",
    "}).reset_index()\n",
    "# Adjust to MW\n",
    "XM['DemaReal_Sistema'] = XM['DemaReal_Sistema'] / 1000\n",
    "XM['DemaCome_Sistema'] = XM['DemaCome_Sistema'] / 1000\n",
    "XM['Gene_Sistema'] = XM['Gene_Sistema'] / 1000\n",
    "XM['GeneIdea_Sistema'] = XM['GeneIdea_Sistema'] / 1000\n",
    "\n",
    "print(XM.shape)\n",
    "XM.head(3)"
   ]
  },
  {
   "cell_type": "markdown",
   "metadata": {},
   "source": [
    "## 3.4 System Analysis"
   ]
  },
  {
   "cell_type": "markdown",
   "metadata": {},
   "source": [
    "### 3.4.1 Is Demand on Switch met by Switch Dispatch?"
   ]
  },
  {
   "cell_type": "code",
   "execution_count": 72,
   "metadata": {},
   "outputs": [
    {
     "data": {
      "application/vnd.plotly.v1+json": {
       "config": {
        "plotlyServerURL": "https://plot.ly"
       },
       "data": [
        {
         "hovertemplate": "Series=Dispatch<br>timestamp=%{x}<br>Value (MW)=%{y}<extra></extra>",
         "legendgroup": "Dispatch",
         "line": {
          "color": "#636efa",
          "dash": "solid"
         },
         "marker": {
          "symbol": "circle"
         },
         "mode": "lines",
         "name": "Dispatch",
         "orientation": "v",
         "showlegend": true,
         "type": "scatter",
         "x": [
          "2023_Q1_labor_0h",
          "2023_Q1_labor_1h",
          "2023_Q1_labor_2h",
          "2023_Q1_labor_3h",
          "2023_Q1_labor_4h",
          "2023_Q1_labor_5h",
          "2023_Q1_labor_6h",
          "2023_Q1_labor_7h",
          "2023_Q1_labor_8h",
          "2023_Q1_labor_9h",
          "2023_Q1_labor_10h",
          "2023_Q1_labor_11h",
          "2023_Q1_labor_12h",
          "2023_Q1_labor_13h",
          "2023_Q1_labor_14h",
          "2023_Q1_labor_15h",
          "2023_Q1_labor_16h",
          "2023_Q1_labor_17h",
          "2023_Q1_labor_18h",
          "2023_Q1_labor_19h",
          "2023_Q1_labor_20h",
          "2023_Q1_labor_21h",
          "2023_Q1_labor_22h",
          "2023_Q1_labor_23h",
          "2023_Q1_holidays_0h",
          "2023_Q1_holidays_1h",
          "2023_Q1_holidays_2h",
          "2023_Q1_holidays_3h",
          "2023_Q1_holidays_4h",
          "2023_Q1_holidays_5h",
          "2023_Q1_holidays_6h",
          "2023_Q1_holidays_7h",
          "2023_Q1_holidays_8h",
          "2023_Q1_holidays_9h",
          "2023_Q1_holidays_10h",
          "2023_Q1_holidays_11h",
          "2023_Q1_holidays_12h",
          "2023_Q1_holidays_13h",
          "2023_Q1_holidays_14h",
          "2023_Q1_holidays_15h",
          "2023_Q1_holidays_16h",
          "2023_Q1_holidays_17h",
          "2023_Q1_holidays_18h",
          "2023_Q1_holidays_19h",
          "2023_Q1_holidays_20h",
          "2023_Q1_holidays_21h",
          "2023_Q1_holidays_22h",
          "2023_Q1_holidays_23h",
          "2023_Q2_labor_0h",
          "2023_Q2_labor_1h",
          "2023_Q2_labor_2h",
          "2023_Q2_labor_3h",
          "2023_Q2_labor_4h",
          "2023_Q2_labor_5h",
          "2023_Q2_labor_6h",
          "2023_Q2_labor_7h",
          "2023_Q2_labor_8h",
          "2023_Q2_labor_9h",
          "2023_Q2_labor_10h",
          "2023_Q2_labor_11h",
          "2023_Q2_labor_12h",
          "2023_Q2_labor_13h",
          "2023_Q2_labor_14h",
          "2023_Q2_labor_15h",
          "2023_Q2_labor_16h",
          "2023_Q2_labor_17h",
          "2023_Q2_labor_18h",
          "2023_Q2_labor_19h",
          "2023_Q2_labor_20h",
          "2023_Q2_labor_21h",
          "2023_Q2_labor_22h",
          "2023_Q2_labor_23h",
          "2023_Q2_holidays_0h",
          "2023_Q2_holidays_1h",
          "2023_Q2_holidays_2h",
          "2023_Q2_holidays_3h",
          "2023_Q2_holidays_4h",
          "2023_Q2_holidays_5h",
          "2023_Q2_holidays_6h",
          "2023_Q2_holidays_7h",
          "2023_Q2_holidays_8h",
          "2023_Q2_holidays_9h",
          "2023_Q2_holidays_10h",
          "2023_Q2_holidays_11h",
          "2023_Q2_holidays_12h",
          "2023_Q2_holidays_13h",
          "2023_Q2_holidays_14h",
          "2023_Q2_holidays_15h",
          "2023_Q2_holidays_16h",
          "2023_Q2_holidays_17h",
          "2023_Q2_holidays_18h",
          "2023_Q2_holidays_19h",
          "2023_Q2_holidays_20h",
          "2023_Q2_holidays_21h",
          "2023_Q2_holidays_22h",
          "2023_Q2_holidays_23h",
          "2023_Q3_labor_0h",
          "2023_Q3_labor_1h",
          "2023_Q3_labor_2h",
          "2023_Q3_labor_3h",
          "2023_Q3_labor_4h",
          "2023_Q3_labor_5h",
          "2023_Q3_labor_6h",
          "2023_Q3_labor_7h",
          "2023_Q3_labor_8h",
          "2023_Q3_labor_9h",
          "2023_Q3_labor_10h",
          "2023_Q3_labor_11h",
          "2023_Q3_labor_12h",
          "2023_Q3_labor_13h",
          "2023_Q3_labor_14h",
          "2023_Q3_labor_15h",
          "2023_Q3_labor_16h",
          "2023_Q3_labor_17h",
          "2023_Q3_labor_18h",
          "2023_Q3_labor_19h",
          "2023_Q3_labor_20h",
          "2023_Q3_labor_21h",
          "2023_Q3_labor_22h",
          "2023_Q3_labor_23h",
          "2023_Q3_holidays_0h",
          "2023_Q3_holidays_1h",
          "2023_Q3_holidays_2h",
          "2023_Q3_holidays_3h",
          "2023_Q3_holidays_4h",
          "2023_Q3_holidays_5h",
          "2023_Q3_holidays_6h",
          "2023_Q3_holidays_7h",
          "2023_Q3_holidays_8h",
          "2023_Q3_holidays_9h",
          "2023_Q3_holidays_10h",
          "2023_Q3_holidays_11h",
          "2023_Q3_holidays_12h",
          "2023_Q3_holidays_13h",
          "2023_Q3_holidays_14h",
          "2023_Q3_holidays_15h",
          "2023_Q3_holidays_16h",
          "2023_Q3_holidays_17h",
          "2023_Q3_holidays_18h",
          "2023_Q3_holidays_19h",
          "2023_Q3_holidays_20h",
          "2023_Q3_holidays_21h",
          "2023_Q3_holidays_22h",
          "2023_Q3_holidays_23h",
          "2023_Q4_labor_0h",
          "2023_Q4_labor_1h",
          "2023_Q4_labor_2h",
          "2023_Q4_labor_3h",
          "2023_Q4_labor_4h",
          "2023_Q4_labor_5h",
          "2023_Q4_labor_6h",
          "2023_Q4_labor_7h",
          "2023_Q4_labor_8h",
          "2023_Q4_labor_9h",
          "2023_Q4_labor_10h",
          "2023_Q4_labor_11h",
          "2023_Q4_labor_12h",
          "2023_Q4_labor_13h",
          "2023_Q4_labor_14h",
          "2023_Q4_labor_15h",
          "2023_Q4_labor_16h",
          "2023_Q4_labor_17h",
          "2023_Q4_labor_18h",
          "2023_Q4_labor_19h",
          "2023_Q4_labor_20h",
          "2023_Q4_labor_21h",
          "2023_Q4_labor_22h",
          "2023_Q4_labor_23h",
          "2023_Q4_holidays_0h",
          "2023_Q4_holidays_1h",
          "2023_Q4_holidays_2h",
          "2023_Q4_holidays_3h",
          "2023_Q4_holidays_4h",
          "2023_Q4_holidays_5h",
          "2023_Q4_holidays_6h",
          "2023_Q4_holidays_7h",
          "2023_Q4_holidays_8h",
          "2023_Q4_holidays_9h",
          "2023_Q4_holidays_10h",
          "2023_Q4_holidays_11h",
          "2023_Q4_holidays_12h",
          "2023_Q4_holidays_13h",
          "2023_Q4_holidays_14h",
          "2023_Q4_holidays_15h",
          "2023_Q4_holidays_16h",
          "2023_Q4_holidays_17h",
          "2023_Q4_holidays_18h",
          "2023_Q4_holidays_19h",
          "2023_Q4_holidays_20h",
          "2023_Q4_holidays_21h",
          "2023_Q4_holidays_22h",
          "2023_Q4_holidays_23h",
          "2024_Q1_labor_0h",
          "2024_Q1_labor_1h",
          "2024_Q1_labor_2h",
          "2024_Q1_labor_3h",
          "2024_Q1_labor_4h",
          "2024_Q1_labor_5h",
          "2024_Q1_labor_6h",
          "2024_Q1_labor_7h",
          "2024_Q1_labor_8h",
          "2024_Q1_labor_9h",
          "2024_Q1_labor_10h",
          "2024_Q1_labor_11h",
          "2024_Q1_labor_12h",
          "2024_Q1_labor_13h",
          "2024_Q1_labor_14h",
          "2024_Q1_labor_15h",
          "2024_Q1_labor_16h",
          "2024_Q1_labor_17h",
          "2024_Q1_labor_18h",
          "2024_Q1_labor_19h",
          "2024_Q1_labor_20h",
          "2024_Q1_labor_21h",
          "2024_Q1_labor_22h",
          "2024_Q1_labor_23h",
          "2024_Q1_holidays_0h",
          "2024_Q1_holidays_1h",
          "2024_Q1_holidays_2h",
          "2024_Q1_holidays_3h",
          "2024_Q1_holidays_4h",
          "2024_Q1_holidays_5h",
          "2024_Q1_holidays_6h",
          "2024_Q1_holidays_7h",
          "2024_Q1_holidays_8h",
          "2024_Q1_holidays_9h",
          "2024_Q1_holidays_10h",
          "2024_Q1_holidays_11h",
          "2024_Q1_holidays_12h",
          "2024_Q1_holidays_13h",
          "2024_Q1_holidays_14h",
          "2024_Q1_holidays_15h",
          "2024_Q1_holidays_16h",
          "2024_Q1_holidays_17h",
          "2024_Q1_holidays_18h",
          "2024_Q1_holidays_19h",
          "2024_Q1_holidays_20h",
          "2024_Q1_holidays_21h",
          "2024_Q1_holidays_22h",
          "2024_Q1_holidays_23h",
          "2024_Q2_labor_0h",
          "2024_Q2_labor_1h",
          "2024_Q2_labor_2h",
          "2024_Q2_labor_3h",
          "2024_Q2_labor_4h",
          "2024_Q2_labor_5h",
          "2024_Q2_labor_6h",
          "2024_Q2_labor_7h",
          "2024_Q2_labor_8h",
          "2024_Q2_labor_9h",
          "2024_Q2_labor_10h",
          "2024_Q2_labor_11h",
          "2024_Q2_labor_12h",
          "2024_Q2_labor_13h",
          "2024_Q2_labor_14h",
          "2024_Q2_labor_15h",
          "2024_Q2_labor_16h",
          "2024_Q2_labor_17h",
          "2024_Q2_labor_18h",
          "2024_Q2_labor_19h",
          "2024_Q2_labor_20h",
          "2024_Q2_labor_21h",
          "2024_Q2_labor_22h",
          "2024_Q2_labor_23h",
          "2024_Q2_holidays_0h",
          "2024_Q2_holidays_1h",
          "2024_Q2_holidays_2h",
          "2024_Q2_holidays_3h",
          "2024_Q2_holidays_4h",
          "2024_Q2_holidays_5h",
          "2024_Q2_holidays_6h",
          "2024_Q2_holidays_7h",
          "2024_Q2_holidays_8h",
          "2024_Q2_holidays_9h",
          "2024_Q2_holidays_10h",
          "2024_Q2_holidays_11h",
          "2024_Q2_holidays_12h",
          "2024_Q2_holidays_13h",
          "2024_Q2_holidays_14h",
          "2024_Q2_holidays_15h",
          "2024_Q2_holidays_16h",
          "2024_Q2_holidays_17h",
          "2024_Q2_holidays_18h",
          "2024_Q2_holidays_19h",
          "2024_Q2_holidays_20h",
          "2024_Q2_holidays_21h",
          "2024_Q2_holidays_22h",
          "2024_Q2_holidays_23h",
          "2024_Q3_labor_0h",
          "2024_Q3_labor_1h",
          "2024_Q3_labor_2h",
          "2024_Q3_labor_3h",
          "2024_Q3_labor_4h",
          "2024_Q3_labor_5h",
          "2024_Q3_labor_6h",
          "2024_Q3_labor_7h",
          "2024_Q3_labor_8h",
          "2024_Q3_labor_9h",
          "2024_Q3_labor_10h",
          "2024_Q3_labor_11h",
          "2024_Q3_labor_12h",
          "2024_Q3_labor_13h",
          "2024_Q3_labor_14h",
          "2024_Q3_labor_15h",
          "2024_Q3_labor_16h",
          "2024_Q3_labor_17h",
          "2024_Q3_labor_18h",
          "2024_Q3_labor_19h",
          "2024_Q3_labor_20h",
          "2024_Q3_labor_21h",
          "2024_Q3_labor_22h",
          "2024_Q3_labor_23h",
          "2024_Q3_holidays_0h",
          "2024_Q3_holidays_1h",
          "2024_Q3_holidays_2h",
          "2024_Q3_holidays_3h",
          "2024_Q3_holidays_4h",
          "2024_Q3_holidays_5h",
          "2024_Q3_holidays_6h",
          "2024_Q3_holidays_7h",
          "2024_Q3_holidays_8h",
          "2024_Q3_holidays_9h",
          "2024_Q3_holidays_10h",
          "2024_Q3_holidays_11h",
          "2024_Q3_holidays_12h",
          "2024_Q3_holidays_13h",
          "2024_Q3_holidays_14h",
          "2024_Q3_holidays_15h",
          "2024_Q3_holidays_16h",
          "2024_Q3_holidays_17h",
          "2024_Q3_holidays_18h",
          "2024_Q3_holidays_19h",
          "2024_Q3_holidays_20h",
          "2024_Q3_holidays_21h",
          "2024_Q3_holidays_22h",
          "2024_Q3_holidays_23h",
          "2024_Q4_labor_0h",
          "2024_Q4_labor_1h",
          "2024_Q4_labor_2h",
          "2024_Q4_labor_3h",
          "2024_Q4_labor_4h",
          "2024_Q4_labor_5h",
          "2024_Q4_labor_6h",
          "2024_Q4_labor_7h",
          "2024_Q4_labor_8h",
          "2024_Q4_labor_9h",
          "2024_Q4_labor_10h",
          "2024_Q4_labor_11h",
          "2024_Q4_labor_12h",
          "2024_Q4_labor_13h",
          "2024_Q4_labor_14h",
          "2024_Q4_labor_15h",
          "2024_Q4_labor_16h",
          "2024_Q4_labor_17h",
          "2024_Q4_labor_18h",
          "2024_Q4_labor_19h",
          "2024_Q4_labor_20h",
          "2024_Q4_labor_21h",
          "2024_Q4_labor_22h",
          "2024_Q4_labor_23h",
          "2024_Q4_holidays_0h",
          "2024_Q4_holidays_1h",
          "2024_Q4_holidays_2h",
          "2024_Q4_holidays_3h",
          "2024_Q4_holidays_4h",
          "2024_Q4_holidays_5h",
          "2024_Q4_holidays_6h",
          "2024_Q4_holidays_7h",
          "2024_Q4_holidays_8h",
          "2024_Q4_holidays_9h",
          "2024_Q4_holidays_10h",
          "2024_Q4_holidays_11h",
          "2024_Q4_holidays_12h",
          "2024_Q4_holidays_13h",
          "2024_Q4_holidays_14h",
          "2024_Q4_holidays_15h",
          "2024_Q4_holidays_16h",
          "2024_Q4_holidays_17h",
          "2024_Q4_holidays_18h",
          "2024_Q4_holidays_19h",
          "2024_Q4_holidays_20h",
          "2024_Q4_holidays_21h",
          "2024_Q4_holidays_22h",
          "2024_Q4_holidays_23h"
         ],
         "xaxis": "x",
         "y": [
          8591.716751977408,
          8118.571200558311,
          7845.680329932813,
          7652.050338467347,
          7558.989742079157,
          7673.625984567856,
          7984.078237602783,
          8166.780970577888,
          8651.343971620576,
          9178.743957304074,
          9507.087309648845,
          9831.92928003809,
          10090.176567109898,
          10046.879424500134,
          10068.518390684518,
          10166.94925561062,
          10144.62676367885,
          9976.35214139515,
          9785.589474362949,
          10288.471952817768,
          10399.595435125691,
          10141.2805802463,
          9706.346226146572,
          9129.884059836986,
          8071.260901612704,
          7889.141691232475,
          7630.894524280993,
          7418.404976103639,
          7257.518732653085,
          7170.807686912524,
          7101.7542042586965,
          6885.635325996497,
          7107.2961131707725,
          7508.809910436979,
          7878.958253740222,
          8177.1264166988885,
          8428.491814113895,
          8537.05591076146,
          8521.322834042368,
          8437.32001951872,
          8364.74138422343,
          8299.658081423953,
          8344.80065864717,
          9048.133824657512,
          9286.076546998811,
          9172.121174002834,
          8900.67156608712,
          8509.184637274617,
          8521.475883444607,
          8024.824756194337,
          7756.566108830404,
          7565.166462238738,
          7478.528376880668,
          7636.141411811585,
          8012.79593538819,
          8171.411082147724,
          8650.327749832897,
          9144.137707572427,
          9454.852038923194,
          9790.17086301251,
          10043.109031971575,
          9966.259374868932,
          10016.887255660178,
          10131.000890252586,
          10126.616647075307,
          9966.458806105798,
          9712.029484985072,
          10184.872459786986,
          10389.200495797868,
          10154.208764223738,
          9693.932132270596,
          9074.435390385352,
          8001.737256204285,
          7956.443645094323,
          7648.747856429989,
          7412.271116948319,
          7243.46250399728,
          7161.893162983814,
          7054.993870238087,
          6899.651073264858,
          7195.8446659923175,
          7579.829557856991,
          7933.218275743421,
          8222.586547777999,
          8459.507980805094,
          8563.615340220766,
          8558.646167253637,
          8447.865751362528,
          8362.288277476999,
          8292.914660408322,
          8308.815703563347,
          8983.299214042227,
          9284.540910238973,
          9170.762818164972,
          8878.402347316833,
          8459.73062029867,
          8814.962711046455,
          8310.377703414313,
          8020.228512941001,
          7813.676496988765,
          7715.705060341277,
          7838.9017909160875,
          8124.640087038031,
          8307.442766993374,
          8830.590393955175,
          9344.19648153848,
          9674.314818829938,
          10029.32141104792,
          10293.959331703718,
          10237.221182129502,
          10291.306900305917,
          10405.460290379016,
          10380.930252810846,
          10228.030486120642,
          9943.914344860388,
          10334.756240306971,
          10630.860820096153,
          10432.66239356403,
          9994.69240088047,
          9389.348304504398,
          8244.643942596362,
          8151.842962501903,
          7856.7270405606705,
          7619.524922092214,
          7440.851866514636,
          7342.366312463071,
          7224.102481790557,
          7054.353308011047,
          7350.9746474839785,
          7725.972529526885,
          8048.241597411141,
          8313.125372709726,
          8535.415614256885,
          8666.02780243702,
          8674.995316095046,
          8570.703557947467,
          8478.409282651195,
          8409.033086265192,
          8418.527677205542,
          9029.819764304912,
          9430.749749327535,
          9340.373843734142,
          9096.0744471845,
          8691.391607087771,
          9229.332149587539,
          8710.741022842696,
          8415.369468292154,
          8209.9087270528,
          8109.136110252519,
          8240.920750866253,
          8537.02866379289,
          8731.329290099096,
          9263.86722419167,
          9783.913164771364,
          10123.169000687556,
          10480.70763061135,
          10742.018070949041,
          10698.20642035539,
          10759.840583383104,
          10876.99465831722,
          10854.593368022299,
          10713.085847015784,
          10598.853514743298,
          11113.946602434033,
          11095.977008915828,
          10863.52930136104,
          10417.860958886604,
          9807.993887338595,
          8611.483717387051,
          8434.2008552858,
          8134.241262987076,
          7881.829776361257,
          7660.5951800425355,
          7566.166874451312,
          7449.050841493944,
          7287.833266878907,
          7583.503496437663,
          7979.26016552907,
          8340.072184816772,
          8665.1764962107,
          8931.481250290533,
          9059.31921797544,
          9059.324484692712,
          8958.709191511645,
          8896.980371868196,
          8835.845162880873,
          8998.96185110932,
          9739.545192535767,
          9878.522847192544,
          9760.5770049506,
          9496.230345711927,
          9085.313065175083,
          8855.459694764286,
          8326.42685766769,
          8050.346619915693,
          7856.407521577461,
          7746.40469998341,
          7854.567926489061,
          8192.314302398343,
          8322.57796127336,
          8736.727289016217,
          9248.861913928964,
          9574.311893659473,
          9909.451939306535,
          10186.349561963974,
          10166.1965545009,
          10226.684047491277,
          10352.657275112455,
          10337.21344490974,
          10182.821872921437,
          9941.612845247484,
          10437.033570969956,
          10670.107322836728,
          10440.374327323,
          10024.113004857842,
          9429.94312590044,
          8672.478570028225,
          8594.143131907325,
          8336.446603470104,
          8084.137240797419,
          7981.117647767134,
          8019.443002278992,
          8181.42085077044,
          8234.886315355454,
          8652.132821634168,
          9224.945025766916,
          9613.725257080649,
          9949.985340841597,
          10183.79298149094,
          10159.769186381345,
          10045.823408356293,
          9901.657957680018,
          9836.38142458473,
          9680.19001677625,
          9613.171352693453,
          10227.719773271327,
          10431.694583575147,
          10146.32850813898,
          9679.814359292857,
          9157.944940121477,
          8654.271893802495,
          8229.583772093712,
          7948.178044211114,
          7746.181969822603,
          7644.247114541429,
          7759.654144334139,
          8054.806195981649,
          8166.744552431979,
          8626.673187645316,
          9118.2861919951,
          9447.436783686864,
          9785.768814230381,
          10046.766466009592,
          10003.194595704008,
          10042.527386771531,
          10113.713944578107,
          10094.858887202168,
          9946.852857241463,
          9738.29078824471,
          10269.201889084916,
          10500.608578853848,
          10277.028294268724,
          9826.172658026368,
          9211.10837573663,
          8927.525461140092,
          8367.28437336486,
          8098.410599283836,
          7897.455111544882,
          7808.174470433003,
          8000.541866788837,
          8436.035827713667,
          8589.078230424162,
          9061.637894981224,
          9535.514934919698,
          9831.88467659927,
          10179.66125992069,
          10440.30888063831,
          10337.143647609633,
          10417.89998080885,
          10595.958305739798,
          10595.941548232844,
          10421.947992368876,
          10112.809910514668,
          10540.85874948754,
          10724.408356153519,
          10494.381784035404,
          10050.674685214852,
          9478.149684644863,
          8945.062142135963,
          8502.240497423762,
          8205.065057156799,
          7992.33788633051,
          7877.504516303245,
          7962.461274588353,
          8176.846895600515,
          8296.464775841818,
          8789.810576345772,
          9293.291910577964,
          9633.186445985077,
          9983.909584439147,
          10252.63370732312,
          10227.397696798282,
          10270.745408557646,
          10343.396423119259,
          10310.529216582014,
          10172.688405005007,
          9939.836140689635,
          10390.211745607974,
          10719.816061571457,
          10532.473101086309,
          10113.020641886887,
          9518.80590165413,
          9264.07779231058,
          8700.164598142424,
          8405.27601961637,
          8172.586215107185,
          8077.965387980899,
          8226.360235471113,
          8575.264041687415,
          8798.607933387744,
          9348.563659098621,
          9881.315330240008,
          10205.498314581198,
          10574.22642774463,
          10840.02098572245,
          10779.688968844443,
          10873.843157704761,
          11054.705913917038,
          11009.89114696614,
          10821.107573893481,
          10467.941274992005,
          10803.72712626401,
          11065.571770794037,
          10870.682691452374,
          10427.307037422193,
          9833.466816827391,
          9366.816587267222,
          8885.33579139285,
          8581.808357404863,
          8366.128997759173,
          8243.549522809046,
          8339.40126813704,
          8566.034443893004,
          8699.826689933072,
          9208.917006591233,
          9718.927439461128,
          10070.818706945509,
          10432.70236074652,
          10703.397321374377,
          10689.136214249247,
          10745.668704370904,
          10823.51717613466,
          10793.651165259493,
          10667.66474749069,
          10602.187210767406,
          11183.275773469244,
          11195.706876411397,
          10971.614863089791,
          10544.570493681536,
          9943.816222053427,
          9693.547502626574,
          9182.738089335142,
          8860.337282735334,
          8624.740861351727,
          8511.073936916993,
          8654.684989436628,
          9002.037373779249,
          9215.687887748605,
          9750.24752978291,
          10298.62542520047,
          10636.986146589903,
          10999.402246749205,
          11271.526673810456,
          11230.366309979412,
          11307.503687487966,
          11471.036957818676,
          11454.585243868274,
          11276.131093487036,
          11131.089192207664,
          11592.992442035908,
          11550.882918354411,
          11336.376347616451,
          10867.975566232339,
          10279.598848355494
         ],
         "yaxis": "y"
        },
        {
         "hovertemplate": "Series=Demand<br>timestamp=%{x}<br>Value (MW)=%{y}<extra></extra>",
         "legendgroup": "Demand",
         "line": {
          "color": "#EF553B",
          "dash": "solid"
         },
         "marker": {
          "symbol": "circle"
         },
         "mode": "lines",
         "name": "Demand",
         "orientation": "v",
         "showlegend": true,
         "type": "scatter",
         "x": [
          "2023_Q1_labor_0h",
          "2023_Q1_labor_1h",
          "2023_Q1_labor_2h",
          "2023_Q1_labor_3h",
          "2023_Q1_labor_4h",
          "2023_Q1_labor_5h",
          "2023_Q1_labor_6h",
          "2023_Q1_labor_7h",
          "2023_Q1_labor_8h",
          "2023_Q1_labor_9h",
          "2023_Q1_labor_10h",
          "2023_Q1_labor_11h",
          "2023_Q1_labor_12h",
          "2023_Q1_labor_13h",
          "2023_Q1_labor_14h",
          "2023_Q1_labor_15h",
          "2023_Q1_labor_16h",
          "2023_Q1_labor_17h",
          "2023_Q1_labor_18h",
          "2023_Q1_labor_19h",
          "2023_Q1_labor_20h",
          "2023_Q1_labor_21h",
          "2023_Q1_labor_22h",
          "2023_Q1_labor_23h",
          "2023_Q1_holidays_0h",
          "2023_Q1_holidays_1h",
          "2023_Q1_holidays_2h",
          "2023_Q1_holidays_3h",
          "2023_Q1_holidays_4h",
          "2023_Q1_holidays_5h",
          "2023_Q1_holidays_6h",
          "2023_Q1_holidays_7h",
          "2023_Q1_holidays_8h",
          "2023_Q1_holidays_9h",
          "2023_Q1_holidays_10h",
          "2023_Q1_holidays_11h",
          "2023_Q1_holidays_12h",
          "2023_Q1_holidays_13h",
          "2023_Q1_holidays_14h",
          "2023_Q1_holidays_15h",
          "2023_Q1_holidays_16h",
          "2023_Q1_holidays_17h",
          "2023_Q1_holidays_18h",
          "2023_Q1_holidays_19h",
          "2023_Q1_holidays_20h",
          "2023_Q1_holidays_21h",
          "2023_Q1_holidays_22h",
          "2023_Q1_holidays_23h",
          "2023_Q2_labor_0h",
          "2023_Q2_labor_1h",
          "2023_Q2_labor_2h",
          "2023_Q2_labor_3h",
          "2023_Q2_labor_4h",
          "2023_Q2_labor_5h",
          "2023_Q2_labor_6h",
          "2023_Q2_labor_7h",
          "2023_Q2_labor_8h",
          "2023_Q2_labor_9h",
          "2023_Q2_labor_10h",
          "2023_Q2_labor_11h",
          "2023_Q2_labor_12h",
          "2023_Q2_labor_13h",
          "2023_Q2_labor_14h",
          "2023_Q2_labor_15h",
          "2023_Q2_labor_16h",
          "2023_Q2_labor_17h",
          "2023_Q2_labor_18h",
          "2023_Q2_labor_19h",
          "2023_Q2_labor_20h",
          "2023_Q2_labor_21h",
          "2023_Q2_labor_22h",
          "2023_Q2_labor_23h",
          "2023_Q2_holidays_0h",
          "2023_Q2_holidays_1h",
          "2023_Q2_holidays_2h",
          "2023_Q2_holidays_3h",
          "2023_Q2_holidays_4h",
          "2023_Q2_holidays_5h",
          "2023_Q2_holidays_6h",
          "2023_Q2_holidays_7h",
          "2023_Q2_holidays_8h",
          "2023_Q2_holidays_9h",
          "2023_Q2_holidays_10h",
          "2023_Q2_holidays_11h",
          "2023_Q2_holidays_12h",
          "2023_Q2_holidays_13h",
          "2023_Q2_holidays_14h",
          "2023_Q2_holidays_15h",
          "2023_Q2_holidays_16h",
          "2023_Q2_holidays_17h",
          "2023_Q2_holidays_18h",
          "2023_Q2_holidays_19h",
          "2023_Q2_holidays_20h",
          "2023_Q2_holidays_21h",
          "2023_Q2_holidays_22h",
          "2023_Q2_holidays_23h",
          "2023_Q3_labor_0h",
          "2023_Q3_labor_1h",
          "2023_Q3_labor_2h",
          "2023_Q3_labor_3h",
          "2023_Q3_labor_4h",
          "2023_Q3_labor_5h",
          "2023_Q3_labor_6h",
          "2023_Q3_labor_7h",
          "2023_Q3_labor_8h",
          "2023_Q3_labor_9h",
          "2023_Q3_labor_10h",
          "2023_Q3_labor_11h",
          "2023_Q3_labor_12h",
          "2023_Q3_labor_13h",
          "2023_Q3_labor_14h",
          "2023_Q3_labor_15h",
          "2023_Q3_labor_16h",
          "2023_Q3_labor_17h",
          "2023_Q3_labor_18h",
          "2023_Q3_labor_19h",
          "2023_Q3_labor_20h",
          "2023_Q3_labor_21h",
          "2023_Q3_labor_22h",
          "2023_Q3_labor_23h",
          "2023_Q3_holidays_0h",
          "2023_Q3_holidays_1h",
          "2023_Q3_holidays_2h",
          "2023_Q3_holidays_3h",
          "2023_Q3_holidays_4h",
          "2023_Q3_holidays_5h",
          "2023_Q3_holidays_6h",
          "2023_Q3_holidays_7h",
          "2023_Q3_holidays_8h",
          "2023_Q3_holidays_9h",
          "2023_Q3_holidays_10h",
          "2023_Q3_holidays_11h",
          "2023_Q3_holidays_12h",
          "2023_Q3_holidays_13h",
          "2023_Q3_holidays_14h",
          "2023_Q3_holidays_15h",
          "2023_Q3_holidays_16h",
          "2023_Q3_holidays_17h",
          "2023_Q3_holidays_18h",
          "2023_Q3_holidays_19h",
          "2023_Q3_holidays_20h",
          "2023_Q3_holidays_21h",
          "2023_Q3_holidays_22h",
          "2023_Q3_holidays_23h",
          "2023_Q4_labor_0h",
          "2023_Q4_labor_1h",
          "2023_Q4_labor_2h",
          "2023_Q4_labor_3h",
          "2023_Q4_labor_4h",
          "2023_Q4_labor_5h",
          "2023_Q4_labor_6h",
          "2023_Q4_labor_7h",
          "2023_Q4_labor_8h",
          "2023_Q4_labor_9h",
          "2023_Q4_labor_10h",
          "2023_Q4_labor_11h",
          "2023_Q4_labor_12h",
          "2023_Q4_labor_13h",
          "2023_Q4_labor_14h",
          "2023_Q4_labor_15h",
          "2023_Q4_labor_16h",
          "2023_Q4_labor_17h",
          "2023_Q4_labor_18h",
          "2023_Q4_labor_19h",
          "2023_Q4_labor_20h",
          "2023_Q4_labor_21h",
          "2023_Q4_labor_22h",
          "2023_Q4_labor_23h",
          "2023_Q4_holidays_0h",
          "2023_Q4_holidays_1h",
          "2023_Q4_holidays_2h",
          "2023_Q4_holidays_3h",
          "2023_Q4_holidays_4h",
          "2023_Q4_holidays_5h",
          "2023_Q4_holidays_6h",
          "2023_Q4_holidays_7h",
          "2023_Q4_holidays_8h",
          "2023_Q4_holidays_9h",
          "2023_Q4_holidays_10h",
          "2023_Q4_holidays_11h",
          "2023_Q4_holidays_12h",
          "2023_Q4_holidays_13h",
          "2023_Q4_holidays_14h",
          "2023_Q4_holidays_15h",
          "2023_Q4_holidays_16h",
          "2023_Q4_holidays_17h",
          "2023_Q4_holidays_18h",
          "2023_Q4_holidays_19h",
          "2023_Q4_holidays_20h",
          "2023_Q4_holidays_21h",
          "2023_Q4_holidays_22h",
          "2023_Q4_holidays_23h",
          "2024_Q1_labor_0h",
          "2024_Q1_labor_1h",
          "2024_Q1_labor_2h",
          "2024_Q1_labor_3h",
          "2024_Q1_labor_4h",
          "2024_Q1_labor_5h",
          "2024_Q1_labor_6h",
          "2024_Q1_labor_7h",
          "2024_Q1_labor_8h",
          "2024_Q1_labor_9h",
          "2024_Q1_labor_10h",
          "2024_Q1_labor_11h",
          "2024_Q1_labor_12h",
          "2024_Q1_labor_13h",
          "2024_Q1_labor_14h",
          "2024_Q1_labor_15h",
          "2024_Q1_labor_16h",
          "2024_Q1_labor_17h",
          "2024_Q1_labor_18h",
          "2024_Q1_labor_19h",
          "2024_Q1_labor_20h",
          "2024_Q1_labor_21h",
          "2024_Q1_labor_22h",
          "2024_Q1_labor_23h",
          "2024_Q1_holidays_0h",
          "2024_Q1_holidays_1h",
          "2024_Q1_holidays_2h",
          "2024_Q1_holidays_3h",
          "2024_Q1_holidays_4h",
          "2024_Q1_holidays_5h",
          "2024_Q1_holidays_6h",
          "2024_Q1_holidays_7h",
          "2024_Q1_holidays_8h",
          "2024_Q1_holidays_9h",
          "2024_Q1_holidays_10h",
          "2024_Q1_holidays_11h",
          "2024_Q1_holidays_12h",
          "2024_Q1_holidays_13h",
          "2024_Q1_holidays_14h",
          "2024_Q1_holidays_15h",
          "2024_Q1_holidays_16h",
          "2024_Q1_holidays_17h",
          "2024_Q1_holidays_18h",
          "2024_Q1_holidays_19h",
          "2024_Q1_holidays_20h",
          "2024_Q1_holidays_21h",
          "2024_Q1_holidays_22h",
          "2024_Q1_holidays_23h",
          "2024_Q2_labor_0h",
          "2024_Q2_labor_1h",
          "2024_Q2_labor_2h",
          "2024_Q2_labor_3h",
          "2024_Q2_labor_4h",
          "2024_Q2_labor_5h",
          "2024_Q2_labor_6h",
          "2024_Q2_labor_7h",
          "2024_Q2_labor_8h",
          "2024_Q2_labor_9h",
          "2024_Q2_labor_10h",
          "2024_Q2_labor_11h",
          "2024_Q2_labor_12h",
          "2024_Q2_labor_13h",
          "2024_Q2_labor_14h",
          "2024_Q2_labor_15h",
          "2024_Q2_labor_16h",
          "2024_Q2_labor_17h",
          "2024_Q2_labor_18h",
          "2024_Q2_labor_19h",
          "2024_Q2_labor_20h",
          "2024_Q2_labor_21h",
          "2024_Q2_labor_22h",
          "2024_Q2_labor_23h",
          "2024_Q2_holidays_0h",
          "2024_Q2_holidays_1h",
          "2024_Q2_holidays_2h",
          "2024_Q2_holidays_3h",
          "2024_Q2_holidays_4h",
          "2024_Q2_holidays_5h",
          "2024_Q2_holidays_6h",
          "2024_Q2_holidays_7h",
          "2024_Q2_holidays_8h",
          "2024_Q2_holidays_9h",
          "2024_Q2_holidays_10h",
          "2024_Q2_holidays_11h",
          "2024_Q2_holidays_12h",
          "2024_Q2_holidays_13h",
          "2024_Q2_holidays_14h",
          "2024_Q2_holidays_15h",
          "2024_Q2_holidays_16h",
          "2024_Q2_holidays_17h",
          "2024_Q2_holidays_18h",
          "2024_Q2_holidays_19h",
          "2024_Q2_holidays_20h",
          "2024_Q2_holidays_21h",
          "2024_Q2_holidays_22h",
          "2024_Q2_holidays_23h",
          "2024_Q3_labor_0h",
          "2024_Q3_labor_1h",
          "2024_Q3_labor_2h",
          "2024_Q3_labor_3h",
          "2024_Q3_labor_4h",
          "2024_Q3_labor_5h",
          "2024_Q3_labor_6h",
          "2024_Q3_labor_7h",
          "2024_Q3_labor_8h",
          "2024_Q3_labor_9h",
          "2024_Q3_labor_10h",
          "2024_Q3_labor_11h",
          "2024_Q3_labor_12h",
          "2024_Q3_labor_13h",
          "2024_Q3_labor_14h",
          "2024_Q3_labor_15h",
          "2024_Q3_labor_16h",
          "2024_Q3_labor_17h",
          "2024_Q3_labor_18h",
          "2024_Q3_labor_19h",
          "2024_Q3_labor_20h",
          "2024_Q3_labor_21h",
          "2024_Q3_labor_22h",
          "2024_Q3_labor_23h",
          "2024_Q3_holidays_0h",
          "2024_Q3_holidays_1h",
          "2024_Q3_holidays_2h",
          "2024_Q3_holidays_3h",
          "2024_Q3_holidays_4h",
          "2024_Q3_holidays_5h",
          "2024_Q3_holidays_6h",
          "2024_Q3_holidays_7h",
          "2024_Q3_holidays_8h",
          "2024_Q3_holidays_9h",
          "2024_Q3_holidays_10h",
          "2024_Q3_holidays_11h",
          "2024_Q3_holidays_12h",
          "2024_Q3_holidays_13h",
          "2024_Q3_holidays_14h",
          "2024_Q3_holidays_15h",
          "2024_Q3_holidays_16h",
          "2024_Q3_holidays_17h",
          "2024_Q3_holidays_18h",
          "2024_Q3_holidays_19h",
          "2024_Q3_holidays_20h",
          "2024_Q3_holidays_21h",
          "2024_Q3_holidays_22h",
          "2024_Q3_holidays_23h",
          "2024_Q4_labor_0h",
          "2024_Q4_labor_1h",
          "2024_Q4_labor_2h",
          "2024_Q4_labor_3h",
          "2024_Q4_labor_4h",
          "2024_Q4_labor_5h",
          "2024_Q4_labor_6h",
          "2024_Q4_labor_7h",
          "2024_Q4_labor_8h",
          "2024_Q4_labor_9h",
          "2024_Q4_labor_10h",
          "2024_Q4_labor_11h",
          "2024_Q4_labor_12h",
          "2024_Q4_labor_13h",
          "2024_Q4_labor_14h",
          "2024_Q4_labor_15h",
          "2024_Q4_labor_16h",
          "2024_Q4_labor_17h",
          "2024_Q4_labor_18h",
          "2024_Q4_labor_19h",
          "2024_Q4_labor_20h",
          "2024_Q4_labor_21h",
          "2024_Q4_labor_22h",
          "2024_Q4_labor_23h",
          "2024_Q4_holidays_0h",
          "2024_Q4_holidays_1h",
          "2024_Q4_holidays_2h",
          "2024_Q4_holidays_3h",
          "2024_Q4_holidays_4h",
          "2024_Q4_holidays_5h",
          "2024_Q4_holidays_6h",
          "2024_Q4_holidays_7h",
          "2024_Q4_holidays_8h",
          "2024_Q4_holidays_9h",
          "2024_Q4_holidays_10h",
          "2024_Q4_holidays_11h",
          "2024_Q4_holidays_12h",
          "2024_Q4_holidays_13h",
          "2024_Q4_holidays_14h",
          "2024_Q4_holidays_15h",
          "2024_Q4_holidays_16h",
          "2024_Q4_holidays_17h",
          "2024_Q4_holidays_18h",
          "2024_Q4_holidays_19h",
          "2024_Q4_holidays_20h",
          "2024_Q4_holidays_21h",
          "2024_Q4_holidays_22h",
          "2024_Q4_holidays_23h"
         ],
         "xaxis": "x",
         "y": [
          8433.925584415585,
          7961.776883116883,
          7689.767922077923,
          7496.935454545455,
          7404.314545454546,
          7518.465194805195,
          7827.851298701298,
          8010.217792207792,
          8493.746623376623,
          9020.34831168831,
          9348.282857142858,
          9672.737662337662,
          9930.652857142857,
          9887.387532467532,
          9908.975714285716,
          10007.234025974027,
          9984.894545454545,
          9816.863376623376,
          9626.386623376624,
          10128.335844155845,
          10239.198181818181,
          9981.452467532468,
          9547.224675324676,
          8971.423246753246,
          7915.745384615385,
          7734.308461538462,
          7477.162307692308,
          7265.735384615385,
          7105.731538461539,
          7019.513846153846,
          6951.114615384616,
          6737.09,
          6957.86,
          7357.335384615384,
          7725.794615384616,
          8022.723076923077,
          8273.045384615385,
          8381.069230769232,
          8365.173846153846,
          8281.186153846154,
          8208.579230769232,
          8143.4800000000005,
          8188.393076923077,
          8889.700769230769,
          9126.983846153846,
          9013.36923076923,
          8742.652307692308,
          8352.256153846154,
          8371.060632911393,
          7880.008227848102,
          7616.33164556962,
          7428.4797468354445,
          7343.518101265823,
          7498.170379746836,
          7869.240126582278,
          8027.594556962026,
          8501.765949367089,
          8992.949493670887,
          9303.17265822785,
          9638.029873417721,
          9890.666329113923,
          9813.853924050632,
          9864.382151898735,
          9978.30329113924,
          9973.844430379748,
          9813.785443037974,
          9559.640126582279,
          10031.831392405064,
          10235.826075949368,
          10001.209113924051,
          9541.493417721518,
          8922.781012658228,
          7839.792307692307,
          7794.763846153847,
          7489.423076923077,
          7255.099230769231,
          7088.807692307693,
          7008.4353846153845,
          6904.156923076923,
          6756.792307692308,
          7048.238461538462,
          7426.401538461539,
          7775.733846153846,
          8061.909230769231,
          8297.131538461537,
          8400.373846153845,
          8395.048461538461,
          8284.382307692307,
          8198.807692307691,
          8129.389230769231,
          8145.082307692308,
          8817.153076923078,
          9117.759230769232,
          9004.206153846155,
          8712.55153846154,
          8295.334615384616,
          8677.412278481013,
          8177.1556962025315,
          7892.238987341773,
          7689.08924050633,
          7592.600506329114,
          7714.008734177215,
          7995.990379746836,
          8177.794430379747,
          8694.93164556962,
          9205.708227848101,
          9534.260632911393,
          9887.590379746835,
          10150.997088607595,
          10094.281392405064,
          10147.785316455695,
          10261.051518987342,
          10236.169367088607,
          10083.429746835443,
          9800.24253164557,
          10189.543037974683,
          10484.520759493671,
          10287.09075949367,
          9850.789620253165,
          9248.19493670886,
          8098.960769230769,
          8007.002307692308,
          7714.584615384615,
          7479.507692307692,
          7302.370769230769,
          7204.714615384616,
          7087.736923076924,
          6920.2,
          7215.322307692308,
          7588.035384615386,
          7908.148461538462,
          8170.964615384615,
          8391.08923076923,
          8520.06076923077,
          8528.24846153846,
          8424.05153846154,
          8331.669230769232,
          8262.09923076923,
          8271.166923076924,
          8877.295384615385,
          9275.39230769231,
          9185.627692307691,
          8943.057692307691,
          8541.603076923077,
          9071.161153846153,
          8555.414743589743,
          8262.992948717949,
          8060.505128205128,
          7961.333205128205,
          8091.051282051281,
          8383.58,
          8576.958461538463,
          9107.35564102564,
          9624.676282051281,
          9961.598974358976,
          10316.072948717949,
          10576.000128205129,
          10532.175256410257,
          10593.512692307693,
          10710.243205128205,
          10687.704487179486,
          10546.29141025641,
          10432.227051282052,
          10946.393974358976,
          10928.459487179487,
          10696.415769230769,
          10251.566923076924,
          9644.194230769232,
          8430.732307692308,
          8254.707692307693,
          7960.946923076923,
          7714.6446153846155,
          7499.119230769231,
          7407.197692307692,
          7294.32076923077,
          7140.836923076923,
          7431.696153846155,
          7819.821538461539,
          8173.725384615385,
          8492.150769230768,
          8752.554615384615,
          8877.77923076923,
          8877.417692307692,
          8776.92076923077,
          8715.103076923077,
          8653.943076923077,
          8816.369999999999,
          9555.683076923078,
          9694.71,
          9576.758461538462,
          9312.474615384615,
          8902.516153846154,
          8703.468039215686,
          8175.527647058823,
          7900.25705882353,
          7707.015882352941,
          7597.4623529411765,
          7705.236666666667,
          8042.0007843137255,
          8172.232352941176,
          8585.536862745099,
          9096.820588235294,
          9424.46431372549,
          9758.21431372549,
          10032.936666666665,
          10012.78411764706,
          10073.131764705882,
          10198.68568627451,
          10182.996078431373,
          10028.703333333335,
          9787.953333333335,
          10282.149411764705,
          10514.503529411764,
          10285.48019607843,
          9870.22568627451,
          9277.07980392157,
          8519.775,
          8442.63625,
          8189.094999999999,
          7941.09,
          7839.88875,
          7877.516250000001,
          8040.075,
          8099.89,
          8515.19375,
          9085.39,
          9472.747500000001,
          9807.8,
          10040.68375,
          10016.529999999999,
          9900.95125,
          9750.435000000001,
          9676.74625,
          9519.925,
          9452.96125,
          10065.51125,
          10268.7925,
          9984.44125,
          9519.43,
          8999.32875,
          8510.783544303798,
          8087.451139240507,
          7807.227848101266,
          7606.224050632912,
          7504.829240506329,
          7619.68,
          7913.66088607595,
          8025.609493670886,
          8485.652911392404,
          8977.88075949367,
          9307.847974683544,
          9644.52759493671,
          9902.424810126582,
          9858.171012658227,
          9897.39,
          9968.205316455696,
          9949.099367088607,
          9801.076329113925,
          9592.774556962026,
          10122.662911392405,
          10353.536075949369,
          10130.46759493671,
          9680.455443037974,
          9066.402025316456,
          8752.01846153846,
          8204.57076923077,
          7942.5615384615385,
          7746.873076923077,
          7659.963846153846,
          7847.255384615384,
          8275.957692307693,
          8435.060000000001,
          8907.540769230769,
          9380.244615384616,
          9676.637692307693,
          10021.366923076923,
          10277.73923076923,
          10172.215384615385,
          10244.677692307694,
          10413.41076923077,
          10413.451538461537,
          10239.637692307693,
          9930.889230769231,
          10358.576923076924,
          10542.053846153847,
          10312.147692307693,
          9868.959230769231,
          9298.107692307693,
          8810.9882278481,
          8371.424050632912,
          8076.214683544304,
          7864.87506329114,
          7750.830506329114,
          7835.234556962025,
          8048.868734177215,
          8170.696075949367,
          8663.261392405064,
          9165.336329113925,
          9504.833797468355,
          9853.274556962024,
          10118.93405063291,
          10092.576329113925,
          10134.66658227848,
          10205.34911392405,
          10171.807088607595,
          10033.69911392405,
          9801.335822784811,
          10250.147088607595,
          10578.577594936709,
          10391.92253164557,
          9973.906329113925,
          9381.86746835443,
          9112.16076923077,
          8557.41,
          8266.834615384616,
          8037.424615384615,
          7944.074615384615,
          8090.496923076923,
          8436.761538461538,
          8661.808461538461,
          9209.394615384615,
          9739.283076923077,
          10062.394615384615,
          10427.223076923077,
          10688.273076923077,
          10626.287692307691,
          10713.834615384614,
          10885.949999999999,
          10838.875384615385,
          10650.458461538461,
          10299.303076923077,
          10632.966153846153,
          10893.486923076922,
          10699.559230769231,
          10259.043076923077,
          9671.563076923077,
          9205.099743589744,
          8727.163846153846,
          8428.237307692307,
          8216.026282051282,
          8095.501538461538,
          8189.812564102564,
          8414.634102564103,
          8552.066538461539,
          9060.046794871794,
          9568.80435897436,
          9920.491538461538,
          10280.165384615386,
          10547.42717948718,
          10530.727564102564,
          10581.719615384616,
          10658.560256410256,
          10628.373974358974,
          10502.340384615385,
          10436.880512820513,
          11016.655769230769,
          11029.063589743591,
          10805.483076923076,
          10379.412435897437,
          9780.230000000001,
          9512.83923076923,
          9011.836923076924,
          8695.648461538462,
          8463.843846153846,
          8352.130769230767,
          8493.246923076922,
          8835.867692307693,
          9048.255384615386,
          9577.826153846156,
          10122.084615384616,
          10458.663846153846,
          10819.251538461538,
          11090.242307692308,
          11048.587692307692,
          11121.345384615384,
          11278.169230769232,
          11256.332307692308,
          11075.606153846153,
          10930.742307692308,
          11391.137692307691,
          11349.049230769231,
          11135.013076923076,
          10670.063076923077,
          10089.332307692308
         ],
         "yaxis": "y"
        }
       ],
       "layout": {
        "legend": {
         "title": {
          "text": "Series"
         },
         "tracegroupgap": 0
        },
        "margin": {
         "t": 60
        },
        "plot_bgcolor": "white",
        "template": {
         "data": {
          "bar": [
           {
            "error_x": {
             "color": "#2a3f5f"
            },
            "error_y": {
             "color": "#2a3f5f"
            },
            "marker": {
             "line": {
              "color": "#E5ECF6",
              "width": 0.5
             },
             "pattern": {
              "fillmode": "overlay",
              "size": 10,
              "solidity": 0.2
             }
            },
            "type": "bar"
           }
          ],
          "barpolar": [
           {
            "marker": {
             "line": {
              "color": "#E5ECF6",
              "width": 0.5
             },
             "pattern": {
              "fillmode": "overlay",
              "size": 10,
              "solidity": 0.2
             }
            },
            "type": "barpolar"
           }
          ],
          "carpet": [
           {
            "aaxis": {
             "endlinecolor": "#2a3f5f",
             "gridcolor": "white",
             "linecolor": "white",
             "minorgridcolor": "white",
             "startlinecolor": "#2a3f5f"
            },
            "baxis": {
             "endlinecolor": "#2a3f5f",
             "gridcolor": "white",
             "linecolor": "white",
             "minorgridcolor": "white",
             "startlinecolor": "#2a3f5f"
            },
            "type": "carpet"
           }
          ],
          "choropleth": [
           {
            "colorbar": {
             "outlinewidth": 0,
             "ticks": ""
            },
            "type": "choropleth"
           }
          ],
          "contour": [
           {
            "colorbar": {
             "outlinewidth": 0,
             "ticks": ""
            },
            "colorscale": [
             [
              0,
              "#0d0887"
             ],
             [
              0.1111111111111111,
              "#46039f"
             ],
             [
              0.2222222222222222,
              "#7201a8"
             ],
             [
              0.3333333333333333,
              "#9c179e"
             ],
             [
              0.4444444444444444,
              "#bd3786"
             ],
             [
              0.5555555555555556,
              "#d8576b"
             ],
             [
              0.6666666666666666,
              "#ed7953"
             ],
             [
              0.7777777777777778,
              "#fb9f3a"
             ],
             [
              0.8888888888888888,
              "#fdca26"
             ],
             [
              1,
              "#f0f921"
             ]
            ],
            "type": "contour"
           }
          ],
          "contourcarpet": [
           {
            "colorbar": {
             "outlinewidth": 0,
             "ticks": ""
            },
            "type": "contourcarpet"
           }
          ],
          "heatmap": [
           {
            "colorbar": {
             "outlinewidth": 0,
             "ticks": ""
            },
            "colorscale": [
             [
              0,
              "#0d0887"
             ],
             [
              0.1111111111111111,
              "#46039f"
             ],
             [
              0.2222222222222222,
              "#7201a8"
             ],
             [
              0.3333333333333333,
              "#9c179e"
             ],
             [
              0.4444444444444444,
              "#bd3786"
             ],
             [
              0.5555555555555556,
              "#d8576b"
             ],
             [
              0.6666666666666666,
              "#ed7953"
             ],
             [
              0.7777777777777778,
              "#fb9f3a"
             ],
             [
              0.8888888888888888,
              "#fdca26"
             ],
             [
              1,
              "#f0f921"
             ]
            ],
            "type": "heatmap"
           }
          ],
          "heatmapgl": [
           {
            "colorbar": {
             "outlinewidth": 0,
             "ticks": ""
            },
            "colorscale": [
             [
              0,
              "#0d0887"
             ],
             [
              0.1111111111111111,
              "#46039f"
             ],
             [
              0.2222222222222222,
              "#7201a8"
             ],
             [
              0.3333333333333333,
              "#9c179e"
             ],
             [
              0.4444444444444444,
              "#bd3786"
             ],
             [
              0.5555555555555556,
              "#d8576b"
             ],
             [
              0.6666666666666666,
              "#ed7953"
             ],
             [
              0.7777777777777778,
              "#fb9f3a"
             ],
             [
              0.8888888888888888,
              "#fdca26"
             ],
             [
              1,
              "#f0f921"
             ]
            ],
            "type": "heatmapgl"
           }
          ],
          "histogram": [
           {
            "marker": {
             "pattern": {
              "fillmode": "overlay",
              "size": 10,
              "solidity": 0.2
             }
            },
            "type": "histogram"
           }
          ],
          "histogram2d": [
           {
            "colorbar": {
             "outlinewidth": 0,
             "ticks": ""
            },
            "colorscale": [
             [
              0,
              "#0d0887"
             ],
             [
              0.1111111111111111,
              "#46039f"
             ],
             [
              0.2222222222222222,
              "#7201a8"
             ],
             [
              0.3333333333333333,
              "#9c179e"
             ],
             [
              0.4444444444444444,
              "#bd3786"
             ],
             [
              0.5555555555555556,
              "#d8576b"
             ],
             [
              0.6666666666666666,
              "#ed7953"
             ],
             [
              0.7777777777777778,
              "#fb9f3a"
             ],
             [
              0.8888888888888888,
              "#fdca26"
             ],
             [
              1,
              "#f0f921"
             ]
            ],
            "type": "histogram2d"
           }
          ],
          "histogram2dcontour": [
           {
            "colorbar": {
             "outlinewidth": 0,
             "ticks": ""
            },
            "colorscale": [
             [
              0,
              "#0d0887"
             ],
             [
              0.1111111111111111,
              "#46039f"
             ],
             [
              0.2222222222222222,
              "#7201a8"
             ],
             [
              0.3333333333333333,
              "#9c179e"
             ],
             [
              0.4444444444444444,
              "#bd3786"
             ],
             [
              0.5555555555555556,
              "#d8576b"
             ],
             [
              0.6666666666666666,
              "#ed7953"
             ],
             [
              0.7777777777777778,
              "#fb9f3a"
             ],
             [
              0.8888888888888888,
              "#fdca26"
             ],
             [
              1,
              "#f0f921"
             ]
            ],
            "type": "histogram2dcontour"
           }
          ],
          "mesh3d": [
           {
            "colorbar": {
             "outlinewidth": 0,
             "ticks": ""
            },
            "type": "mesh3d"
           }
          ],
          "parcoords": [
           {
            "line": {
             "colorbar": {
              "outlinewidth": 0,
              "ticks": ""
             }
            },
            "type": "parcoords"
           }
          ],
          "pie": [
           {
            "automargin": true,
            "type": "pie"
           }
          ],
          "scatter": [
           {
            "fillpattern": {
             "fillmode": "overlay",
             "size": 10,
             "solidity": 0.2
            },
            "type": "scatter"
           }
          ],
          "scatter3d": [
           {
            "line": {
             "colorbar": {
              "outlinewidth": 0,
              "ticks": ""
             }
            },
            "marker": {
             "colorbar": {
              "outlinewidth": 0,
              "ticks": ""
             }
            },
            "type": "scatter3d"
           }
          ],
          "scattercarpet": [
           {
            "marker": {
             "colorbar": {
              "outlinewidth": 0,
              "ticks": ""
             }
            },
            "type": "scattercarpet"
           }
          ],
          "scattergeo": [
           {
            "marker": {
             "colorbar": {
              "outlinewidth": 0,
              "ticks": ""
             }
            },
            "type": "scattergeo"
           }
          ],
          "scattergl": [
           {
            "marker": {
             "colorbar": {
              "outlinewidth": 0,
              "ticks": ""
             }
            },
            "type": "scattergl"
           }
          ],
          "scattermapbox": [
           {
            "marker": {
             "colorbar": {
              "outlinewidth": 0,
              "ticks": ""
             }
            },
            "type": "scattermapbox"
           }
          ],
          "scatterpolar": [
           {
            "marker": {
             "colorbar": {
              "outlinewidth": 0,
              "ticks": ""
             }
            },
            "type": "scatterpolar"
           }
          ],
          "scatterpolargl": [
           {
            "marker": {
             "colorbar": {
              "outlinewidth": 0,
              "ticks": ""
             }
            },
            "type": "scatterpolargl"
           }
          ],
          "scatterternary": [
           {
            "marker": {
             "colorbar": {
              "outlinewidth": 0,
              "ticks": ""
             }
            },
            "type": "scatterternary"
           }
          ],
          "surface": [
           {
            "colorbar": {
             "outlinewidth": 0,
             "ticks": ""
            },
            "colorscale": [
             [
              0,
              "#0d0887"
             ],
             [
              0.1111111111111111,
              "#46039f"
             ],
             [
              0.2222222222222222,
              "#7201a8"
             ],
             [
              0.3333333333333333,
              "#9c179e"
             ],
             [
              0.4444444444444444,
              "#bd3786"
             ],
             [
              0.5555555555555556,
              "#d8576b"
             ],
             [
              0.6666666666666666,
              "#ed7953"
             ],
             [
              0.7777777777777778,
              "#fb9f3a"
             ],
             [
              0.8888888888888888,
              "#fdca26"
             ],
             [
              1,
              "#f0f921"
             ]
            ],
            "type": "surface"
           }
          ],
          "table": [
           {
            "cells": {
             "fill": {
              "color": "#EBF0F8"
             },
             "line": {
              "color": "white"
             }
            },
            "header": {
             "fill": {
              "color": "#C8D4E3"
             },
             "line": {
              "color": "white"
             }
            },
            "type": "table"
           }
          ]
         },
         "layout": {
          "annotationdefaults": {
           "arrowcolor": "#2a3f5f",
           "arrowhead": 0,
           "arrowwidth": 1
          },
          "autotypenumbers": "strict",
          "coloraxis": {
           "colorbar": {
            "outlinewidth": 0,
            "ticks": ""
           }
          },
          "colorscale": {
           "diverging": [
            [
             0,
             "#8e0152"
            ],
            [
             0.1,
             "#c51b7d"
            ],
            [
             0.2,
             "#de77ae"
            ],
            [
             0.3,
             "#f1b6da"
            ],
            [
             0.4,
             "#fde0ef"
            ],
            [
             0.5,
             "#f7f7f7"
            ],
            [
             0.6,
             "#e6f5d0"
            ],
            [
             0.7,
             "#b8e186"
            ],
            [
             0.8,
             "#7fbc41"
            ],
            [
             0.9,
             "#4d9221"
            ],
            [
             1,
             "#276419"
            ]
           ],
           "sequential": [
            [
             0,
             "#0d0887"
            ],
            [
             0.1111111111111111,
             "#46039f"
            ],
            [
             0.2222222222222222,
             "#7201a8"
            ],
            [
             0.3333333333333333,
             "#9c179e"
            ],
            [
             0.4444444444444444,
             "#bd3786"
            ],
            [
             0.5555555555555556,
             "#d8576b"
            ],
            [
             0.6666666666666666,
             "#ed7953"
            ],
            [
             0.7777777777777778,
             "#fb9f3a"
            ],
            [
             0.8888888888888888,
             "#fdca26"
            ],
            [
             1,
             "#f0f921"
            ]
           ],
           "sequentialminus": [
            [
             0,
             "#0d0887"
            ],
            [
             0.1111111111111111,
             "#46039f"
            ],
            [
             0.2222222222222222,
             "#7201a8"
            ],
            [
             0.3333333333333333,
             "#9c179e"
            ],
            [
             0.4444444444444444,
             "#bd3786"
            ],
            [
             0.5555555555555556,
             "#d8576b"
            ],
            [
             0.6666666666666666,
             "#ed7953"
            ],
            [
             0.7777777777777778,
             "#fb9f3a"
            ],
            [
             0.8888888888888888,
             "#fdca26"
            ],
            [
             1,
             "#f0f921"
            ]
           ]
          },
          "colorway": [
           "#636efa",
           "#EF553B",
           "#00cc96",
           "#ab63fa",
           "#FFA15A",
           "#19d3f3",
           "#FF6692",
           "#B6E880",
           "#FF97FF",
           "#FECB52"
          ],
          "font": {
           "color": "#2a3f5f"
          },
          "geo": {
           "bgcolor": "white",
           "lakecolor": "white",
           "landcolor": "#E5ECF6",
           "showlakes": true,
           "showland": true,
           "subunitcolor": "white"
          },
          "hoverlabel": {
           "align": "left"
          },
          "hovermode": "closest",
          "mapbox": {
           "style": "light"
          },
          "paper_bgcolor": "white",
          "plot_bgcolor": "#E5ECF6",
          "polar": {
           "angularaxis": {
            "gridcolor": "white",
            "linecolor": "white",
            "ticks": ""
           },
           "bgcolor": "#E5ECF6",
           "radialaxis": {
            "gridcolor": "white",
            "linecolor": "white",
            "ticks": ""
           }
          },
          "scene": {
           "xaxis": {
            "backgroundcolor": "#E5ECF6",
            "gridcolor": "white",
            "gridwidth": 2,
            "linecolor": "white",
            "showbackground": true,
            "ticks": "",
            "zerolinecolor": "white"
           },
           "yaxis": {
            "backgroundcolor": "#E5ECF6",
            "gridcolor": "white",
            "gridwidth": 2,
            "linecolor": "white",
            "showbackground": true,
            "ticks": "",
            "zerolinecolor": "white"
           },
           "zaxis": {
            "backgroundcolor": "#E5ECF6",
            "gridcolor": "white",
            "gridwidth": 2,
            "linecolor": "white",
            "showbackground": true,
            "ticks": "",
            "zerolinecolor": "white"
           }
          },
          "shapedefaults": {
           "line": {
            "color": "#2a3f5f"
           }
          },
          "ternary": {
           "aaxis": {
            "gridcolor": "white",
            "linecolor": "white",
            "ticks": ""
           },
           "baxis": {
            "gridcolor": "white",
            "linecolor": "white",
            "ticks": ""
           },
           "bgcolor": "#E5ECF6",
           "caxis": {
            "gridcolor": "white",
            "linecolor": "white",
            "ticks": ""
           }
          },
          "title": {
           "x": 0.05
          },
          "xaxis": {
           "automargin": true,
           "gridcolor": "white",
           "linecolor": "white",
           "ticks": "",
           "title": {
            "standoff": 15
           },
           "zerolinecolor": "white",
           "zerolinewidth": 2
          },
          "yaxis": {
           "automargin": true,
           "gridcolor": "white",
           "linecolor": "white",
           "ticks": "",
           "title": {
            "standoff": 15
           },
           "zerolinecolor": "white",
           "zerolinewidth": 2
          }
         }
        },
        "xaxis": {
         "anchor": "y",
         "domain": [
          0,
          1
         ],
         "gridcolor": "lightgray",
         "title": {
          "text": "timestamp"
         }
        },
        "yaxis": {
         "anchor": "x",
         "domain": [
          0,
          1
         ],
         "gridcolor": "lightgray",
         "title": {
          "text": "Value (MW)"
         }
        }
       }
      }
     },
     "metadata": {},
     "output_type": "display_data"
    }
   ],
   "source": [
    "# Merge tables, result will be: timepoints, timestamp, zone_demand_mw, dispatch_wide \n",
    "demand_x_dispatch = pd.merge(loads, dispatch_sys, on='timepoints', how='inner')\n",
    "# Sort by Timepoints\n",
    "demand_x_dispatch = demand_x_dispatch.sort_values(by='timepoints')\n",
    "# Rename columns for better undestanding\n",
    "demand_x_dispatch.rename(columns={'DispatchGen_MW': 'Dispatch', 'zone_demand_mw': 'Demand'}, inplace=True)\n",
    "\n",
    "fig = px.line(\n",
    "    demand_x_dispatch,\n",
    "    x='timestamp',\n",
    "    y=['Dispatch', 'Demand'],\n",
    "    labels={'value': 'Value (MW)', 'variable': 'Series'})\n",
    "fig.update_layout(plot_bgcolor='white',xaxis=dict(gridcolor='lightgray'),yaxis=dict(gridcolor='lightgray'))\n",
    "fig.show()"
   ]
  },
  {
   "cell_type": "markdown",
   "metadata": {},
   "source": [
    "### 3.4.2 Are Demand and Dispatch on XM similar to Switch Dispatch?"
   ]
  },
  {
   "cell_type": "code",
   "execution_count": 73,
   "metadata": {},
   "outputs": [
    {
     "data": {
      "application/vnd.plotly.v1+json": {
       "config": {
        "plotlyServerURL": "https://plot.ly"
       },
       "data": [
        {
         "hovertemplate": "Series=DemaReal_Sistema<br>timestamp=%{x}<br>Values=%{y}<extra></extra>",
         "legendgroup": "DemaReal_Sistema",
         "line": {
          "color": "#636efa",
          "dash": "solid"
         },
         "marker": {
          "symbol": "circle"
         },
         "mode": "lines",
         "name": "DemaReal_Sistema",
         "orientation": "v",
         "showlegend": true,
         "type": "scatter",
         "x": [
          "2023_Q1_labor_0h",
          "2023_Q1_labor_1h",
          "2023_Q1_labor_2h",
          "2023_Q1_labor_3h",
          "2023_Q1_labor_4h",
          "2023_Q1_labor_5h",
          "2023_Q1_labor_6h",
          "2023_Q1_labor_7h",
          "2023_Q1_labor_8h",
          "2023_Q1_labor_9h",
          "2023_Q1_labor_10h",
          "2023_Q1_labor_11h",
          "2023_Q1_labor_12h",
          "2023_Q1_labor_13h",
          "2023_Q1_labor_14h",
          "2023_Q1_labor_15h",
          "2023_Q1_labor_16h",
          "2023_Q1_labor_17h",
          "2023_Q1_labor_18h",
          "2023_Q1_labor_19h",
          "2023_Q1_labor_20h",
          "2023_Q1_labor_21h",
          "2023_Q1_labor_22h",
          "2023_Q1_labor_23h",
          "2023_Q1_holidays_0h",
          "2023_Q1_holidays_1h",
          "2023_Q1_holidays_2h",
          "2023_Q1_holidays_3h",
          "2023_Q1_holidays_4h",
          "2023_Q1_holidays_5h",
          "2023_Q1_holidays_6h",
          "2023_Q1_holidays_7h",
          "2023_Q1_holidays_8h",
          "2023_Q1_holidays_9h",
          "2023_Q1_holidays_10h",
          "2023_Q1_holidays_11h",
          "2023_Q1_holidays_12h",
          "2023_Q1_holidays_13h",
          "2023_Q1_holidays_14h",
          "2023_Q1_holidays_15h",
          "2023_Q1_holidays_16h",
          "2023_Q1_holidays_17h",
          "2023_Q1_holidays_18h",
          "2023_Q1_holidays_19h",
          "2023_Q1_holidays_20h",
          "2023_Q1_holidays_21h",
          "2023_Q1_holidays_22h",
          "2023_Q1_holidays_23h",
          "2023_Q2_labor_0h",
          "2023_Q2_labor_1h",
          "2023_Q2_labor_2h",
          "2023_Q2_labor_3h",
          "2023_Q2_labor_4h",
          "2023_Q2_labor_5h",
          "2023_Q2_labor_6h",
          "2023_Q2_labor_7h",
          "2023_Q2_labor_8h",
          "2023_Q2_labor_9h",
          "2023_Q2_labor_10h",
          "2023_Q2_labor_11h",
          "2023_Q2_labor_12h",
          "2023_Q2_labor_13h",
          "2023_Q2_labor_14h",
          "2023_Q2_labor_15h",
          "2023_Q2_labor_16h",
          "2023_Q2_labor_17h",
          "2023_Q2_labor_18h",
          "2023_Q2_labor_19h",
          "2023_Q2_labor_20h",
          "2023_Q2_labor_21h",
          "2023_Q2_labor_22h",
          "2023_Q2_labor_23h",
          "2023_Q2_holidays_0h",
          "2023_Q2_holidays_1h",
          "2023_Q2_holidays_2h",
          "2023_Q2_holidays_3h",
          "2023_Q2_holidays_4h",
          "2023_Q2_holidays_5h",
          "2023_Q2_holidays_6h",
          "2023_Q2_holidays_7h",
          "2023_Q2_holidays_8h",
          "2023_Q2_holidays_9h",
          "2023_Q2_holidays_10h",
          "2023_Q2_holidays_11h",
          "2023_Q2_holidays_12h",
          "2023_Q2_holidays_13h",
          "2023_Q2_holidays_14h",
          "2023_Q2_holidays_15h",
          "2023_Q2_holidays_16h",
          "2023_Q2_holidays_17h",
          "2023_Q2_holidays_18h",
          "2023_Q2_holidays_19h",
          "2023_Q2_holidays_20h",
          "2023_Q2_holidays_21h",
          "2023_Q2_holidays_22h",
          "2023_Q2_holidays_23h",
          "2023_Q3_labor_0h",
          "2023_Q3_labor_1h",
          "2023_Q3_labor_2h",
          "2023_Q3_labor_3h",
          "2023_Q3_labor_4h",
          "2023_Q3_labor_5h",
          "2023_Q3_labor_6h",
          "2023_Q3_labor_7h",
          "2023_Q3_labor_8h",
          "2023_Q3_labor_9h",
          "2023_Q3_labor_10h",
          "2023_Q3_labor_11h",
          "2023_Q3_labor_12h",
          "2023_Q3_labor_13h",
          "2023_Q3_labor_14h",
          "2023_Q3_labor_15h",
          "2023_Q3_labor_16h",
          "2023_Q3_labor_17h",
          "2023_Q3_labor_18h",
          "2023_Q3_labor_19h",
          "2023_Q3_labor_20h",
          "2023_Q3_labor_21h",
          "2023_Q3_labor_22h",
          "2023_Q3_labor_23h",
          "2023_Q3_holidays_0h",
          "2023_Q3_holidays_1h",
          "2023_Q3_holidays_2h",
          "2023_Q3_holidays_3h",
          "2023_Q3_holidays_4h",
          "2023_Q3_holidays_5h",
          "2023_Q3_holidays_6h",
          "2023_Q3_holidays_7h",
          "2023_Q3_holidays_8h",
          "2023_Q3_holidays_9h",
          "2023_Q3_holidays_10h",
          "2023_Q3_holidays_11h",
          "2023_Q3_holidays_12h",
          "2023_Q3_holidays_13h",
          "2023_Q3_holidays_14h",
          "2023_Q3_holidays_15h",
          "2023_Q3_holidays_16h",
          "2023_Q3_holidays_17h",
          "2023_Q3_holidays_18h",
          "2023_Q3_holidays_19h",
          "2023_Q3_holidays_20h",
          "2023_Q3_holidays_21h",
          "2023_Q3_holidays_22h",
          "2023_Q3_holidays_23h",
          "2023_Q4_labor_0h",
          "2023_Q4_labor_1h",
          "2023_Q4_labor_2h",
          "2023_Q4_labor_3h",
          "2023_Q4_labor_4h",
          "2023_Q4_labor_5h",
          "2023_Q4_labor_6h",
          "2023_Q4_labor_7h",
          "2023_Q4_labor_8h",
          "2023_Q4_labor_9h",
          "2023_Q4_labor_10h",
          "2023_Q4_labor_11h",
          "2023_Q4_labor_12h",
          "2023_Q4_labor_13h",
          "2023_Q4_labor_14h",
          "2023_Q4_labor_15h",
          "2023_Q4_labor_16h",
          "2023_Q4_labor_17h",
          "2023_Q4_labor_18h",
          "2023_Q4_labor_19h",
          "2023_Q4_labor_20h",
          "2023_Q4_labor_21h",
          "2023_Q4_labor_22h",
          "2023_Q4_labor_23h",
          "2023_Q4_holidays_0h",
          "2023_Q4_holidays_1h",
          "2023_Q4_holidays_2h",
          "2023_Q4_holidays_3h",
          "2023_Q4_holidays_4h",
          "2023_Q4_holidays_5h",
          "2023_Q4_holidays_6h",
          "2023_Q4_holidays_7h",
          "2023_Q4_holidays_8h",
          "2023_Q4_holidays_9h",
          "2023_Q4_holidays_10h",
          "2023_Q4_holidays_11h",
          "2023_Q4_holidays_12h",
          "2023_Q4_holidays_13h",
          "2023_Q4_holidays_14h",
          "2023_Q4_holidays_15h",
          "2023_Q4_holidays_16h",
          "2023_Q4_holidays_17h",
          "2023_Q4_holidays_18h",
          "2023_Q4_holidays_19h",
          "2023_Q4_holidays_20h",
          "2023_Q4_holidays_21h",
          "2023_Q4_holidays_22h",
          "2023_Q4_holidays_23h"
         ],
         "xaxis": "x",
         "y": [
          8433.925627272727,
          7961.777020779221,
          7689.768629090908,
          7496.9366288311685,
          7404.314201688311,
          7518.465902727273,
          7827.851616363637,
          8010.217818181818,
          8493.745995584415,
          9020.348477142858,
          9348.282378701297,
          9672.738450779221,
          9930.652591298702,
          9887.388501168833,
          9908.975837402597,
          10007.235422987014,
          9984.89375883117,
          9816.86435974026,
          9626.386632727274,
          10128.335234935066,
          10239.197506753248,
          9981.452142987013,
          9547.223911428571,
          8971.423466623375,
          7915.74584923077,
          7734.308100769231,
          7477.161632307692,
          7265.733779230769,
          7105.733626153847,
          7019.515147692307,
          6951.113508461539,
          6737.091114615385,
          6957.859379230769,
          7357.3349007692295,
          7725.791176923077,
          8022.721860000001,
          8273.046973846152,
          8381.07156,
          8365.173425384615,
          8281.184945384615,
          8208.578341538461,
          8143.480176153847,
          8188.391766923077,
          8889.701821538461,
          9126.980167692307,
          9013.37085,
          8742.65185,
          8352.25741076923,
          8371.062438607594,
          7880.007147468355,
          7616.33158835443,
          7428.478951898735,
          7343.517406835443,
          7498.17023721519,
          7869.24035443038,
          8027.595792658228,
          8501.765575443038,
          8992.94870164557,
          9303.172491772153,
          9638.03023113924,
          9890.666353544304,
          9813.854501645568,
          9864.382878734177,
          9978.304731898734,
          9973.844462405063,
          9813.78613177215,
          9559.640935316454,
          10031.831411898735,
          10235.82709443038,
          10001.210299240505,
          9541.493414177216,
          8922.78048164557,
          7839.791319999999,
          7794.767462307693,
          7489.425218461539,
          7255.098166923077,
          7088.807710769231,
          7008.434443846153,
          6904.1539923076925,
          6756.792933076923,
          7048.240288461538,
          7426.401651538461,
          7775.7333046153835,
          8061.908998461539,
          8297.131212307693,
          8400.372488461537,
          8395.050370769231,
          8284.38105076923,
          8198.809526923078,
          8129.390483076923,
          8145.08315076923,
          8817.156010769231,
          9117.758743076922,
          9004.20486076923,
          8712.553356153845,
          8295.332004615386,
          8677.412622151898,
          8177.154962151899,
          7892.239649113923,
          7689.089402531646,
          7592.6012255696205,
          7714.008403544304,
          7995.989843417722,
          8177.795338481013,
          8694.932431139241,
          9205.708257088607,
          9534.261648101266,
          9887.59126,
          10150.9976321519,
          10094.281112405064,
          10147.78564113924,
          10261.05129886076,
          10236.169328607595,
          10083.429637594936,
          9800.241119746835,
          10189.543047848101,
          10484.522426455696,
          10287.091202025316,
          9850.788509746835,
          9248.19631607595,
          8098.961743846154,
          8007.003110769231,
          7714.587510769231,
          7479.506354615385,
          7302.371938461539,
          7204.714588461538,
          7087.738653846154,
          6920.200302307693,
          7215.325728461538,
          7588.036130769231,
          7908.152576923077,
          8170.965547692308,
          8391.087423076924,
          8520.060137692308,
          8528.24516923077,
          8424.051266153845,
          8331.669407692307,
          8262.09947153846,
          8271.16535923077,
          8877.298853846154,
          9275.389135384616,
          9185.627900769232,
          8943.058529999998,
          8541.60102076923,
          9071.161731794873,
          8555.41528705128,
          8262.992922051282,
          8060.505427692308,
          7961.333962179487,
          8091.052212435899,
          8383.57989474359,
          8576.958386794871,
          9107.356016410256,
          9624.676166666666,
          9961.598652435898,
          10316.072335256411,
          10576.00028025641,
          10532.175062948716,
          10593.513442435898,
          10710.242932051282,
          10687.706371794871,
          10546.29177576923,
          10432.228769871794,
          10946.394296666667,
          10928.459173461537,
          10696.416158846154,
          10251.567954230768,
          9644.19409820513,
          8430.734503076925,
          8254.708874615386,
          7960.9486438461545,
          7714.6427984615375,
          7499.121769230769,
          7407.197004615385,
          7294.323366153846,
          7140.836179230769,
          7431.696433846154,
          7819.822990769231,
          8173.726306153847,
          8492.151588461538,
          8752.553194615384,
          8877.78006846154,
          8877.415679230768,
          8776.918411538461,
          8715.10250846154,
          8653.945196153845,
          8816.369187692308,
          9555.683282307691,
          9694.710016153846,
          9576.759639999998,
          9312.476728461537,
          8902.518054615384
         ],
         "yaxis": "y"
        },
        {
         "hovertemplate": "Series=DemaCome_Sistema<br>timestamp=%{x}<br>Values=%{y}<extra></extra>",
         "legendgroup": "DemaCome_Sistema",
         "line": {
          "color": "#EF553B",
          "dash": "solid"
         },
         "marker": {
          "symbol": "circle"
         },
         "mode": "lines",
         "name": "DemaCome_Sistema",
         "orientation": "v",
         "showlegend": true,
         "type": "scatter",
         "x": [
          "2023_Q1_labor_0h",
          "2023_Q1_labor_1h",
          "2023_Q1_labor_2h",
          "2023_Q1_labor_3h",
          "2023_Q1_labor_4h",
          "2023_Q1_labor_5h",
          "2023_Q1_labor_6h",
          "2023_Q1_labor_7h",
          "2023_Q1_labor_8h",
          "2023_Q1_labor_9h",
          "2023_Q1_labor_10h",
          "2023_Q1_labor_11h",
          "2023_Q1_labor_12h",
          "2023_Q1_labor_13h",
          "2023_Q1_labor_14h",
          "2023_Q1_labor_15h",
          "2023_Q1_labor_16h",
          "2023_Q1_labor_17h",
          "2023_Q1_labor_18h",
          "2023_Q1_labor_19h",
          "2023_Q1_labor_20h",
          "2023_Q1_labor_21h",
          "2023_Q1_labor_22h",
          "2023_Q1_labor_23h",
          "2023_Q1_holidays_0h",
          "2023_Q1_holidays_1h",
          "2023_Q1_holidays_2h",
          "2023_Q1_holidays_3h",
          "2023_Q1_holidays_4h",
          "2023_Q1_holidays_5h",
          "2023_Q1_holidays_6h",
          "2023_Q1_holidays_7h",
          "2023_Q1_holidays_8h",
          "2023_Q1_holidays_9h",
          "2023_Q1_holidays_10h",
          "2023_Q1_holidays_11h",
          "2023_Q1_holidays_12h",
          "2023_Q1_holidays_13h",
          "2023_Q1_holidays_14h",
          "2023_Q1_holidays_15h",
          "2023_Q1_holidays_16h",
          "2023_Q1_holidays_17h",
          "2023_Q1_holidays_18h",
          "2023_Q1_holidays_19h",
          "2023_Q1_holidays_20h",
          "2023_Q1_holidays_21h",
          "2023_Q1_holidays_22h",
          "2023_Q1_holidays_23h",
          "2023_Q2_labor_0h",
          "2023_Q2_labor_1h",
          "2023_Q2_labor_2h",
          "2023_Q2_labor_3h",
          "2023_Q2_labor_4h",
          "2023_Q2_labor_5h",
          "2023_Q2_labor_6h",
          "2023_Q2_labor_7h",
          "2023_Q2_labor_8h",
          "2023_Q2_labor_9h",
          "2023_Q2_labor_10h",
          "2023_Q2_labor_11h",
          "2023_Q2_labor_12h",
          "2023_Q2_labor_13h",
          "2023_Q2_labor_14h",
          "2023_Q2_labor_15h",
          "2023_Q2_labor_16h",
          "2023_Q2_labor_17h",
          "2023_Q2_labor_18h",
          "2023_Q2_labor_19h",
          "2023_Q2_labor_20h",
          "2023_Q2_labor_21h",
          "2023_Q2_labor_22h",
          "2023_Q2_labor_23h",
          "2023_Q2_holidays_0h",
          "2023_Q2_holidays_1h",
          "2023_Q2_holidays_2h",
          "2023_Q2_holidays_3h",
          "2023_Q2_holidays_4h",
          "2023_Q2_holidays_5h",
          "2023_Q2_holidays_6h",
          "2023_Q2_holidays_7h",
          "2023_Q2_holidays_8h",
          "2023_Q2_holidays_9h",
          "2023_Q2_holidays_10h",
          "2023_Q2_holidays_11h",
          "2023_Q2_holidays_12h",
          "2023_Q2_holidays_13h",
          "2023_Q2_holidays_14h",
          "2023_Q2_holidays_15h",
          "2023_Q2_holidays_16h",
          "2023_Q2_holidays_17h",
          "2023_Q2_holidays_18h",
          "2023_Q2_holidays_19h",
          "2023_Q2_holidays_20h",
          "2023_Q2_holidays_21h",
          "2023_Q2_holidays_22h",
          "2023_Q2_holidays_23h",
          "2023_Q3_labor_0h",
          "2023_Q3_labor_1h",
          "2023_Q3_labor_2h",
          "2023_Q3_labor_3h",
          "2023_Q3_labor_4h",
          "2023_Q3_labor_5h",
          "2023_Q3_labor_6h",
          "2023_Q3_labor_7h",
          "2023_Q3_labor_8h",
          "2023_Q3_labor_9h",
          "2023_Q3_labor_10h",
          "2023_Q3_labor_11h",
          "2023_Q3_labor_12h",
          "2023_Q3_labor_13h",
          "2023_Q3_labor_14h",
          "2023_Q3_labor_15h",
          "2023_Q3_labor_16h",
          "2023_Q3_labor_17h",
          "2023_Q3_labor_18h",
          "2023_Q3_labor_19h",
          "2023_Q3_labor_20h",
          "2023_Q3_labor_21h",
          "2023_Q3_labor_22h",
          "2023_Q3_labor_23h",
          "2023_Q3_holidays_0h",
          "2023_Q3_holidays_1h",
          "2023_Q3_holidays_2h",
          "2023_Q3_holidays_3h",
          "2023_Q3_holidays_4h",
          "2023_Q3_holidays_5h",
          "2023_Q3_holidays_6h",
          "2023_Q3_holidays_7h",
          "2023_Q3_holidays_8h",
          "2023_Q3_holidays_9h",
          "2023_Q3_holidays_10h",
          "2023_Q3_holidays_11h",
          "2023_Q3_holidays_12h",
          "2023_Q3_holidays_13h",
          "2023_Q3_holidays_14h",
          "2023_Q3_holidays_15h",
          "2023_Q3_holidays_16h",
          "2023_Q3_holidays_17h",
          "2023_Q3_holidays_18h",
          "2023_Q3_holidays_19h",
          "2023_Q3_holidays_20h",
          "2023_Q3_holidays_21h",
          "2023_Q3_holidays_22h",
          "2023_Q3_holidays_23h",
          "2023_Q4_labor_0h",
          "2023_Q4_labor_1h",
          "2023_Q4_labor_2h",
          "2023_Q4_labor_3h",
          "2023_Q4_labor_4h",
          "2023_Q4_labor_5h",
          "2023_Q4_labor_6h",
          "2023_Q4_labor_7h",
          "2023_Q4_labor_8h",
          "2023_Q4_labor_9h",
          "2023_Q4_labor_10h",
          "2023_Q4_labor_11h",
          "2023_Q4_labor_12h",
          "2023_Q4_labor_13h",
          "2023_Q4_labor_14h",
          "2023_Q4_labor_15h",
          "2023_Q4_labor_16h",
          "2023_Q4_labor_17h",
          "2023_Q4_labor_18h",
          "2023_Q4_labor_19h",
          "2023_Q4_labor_20h",
          "2023_Q4_labor_21h",
          "2023_Q4_labor_22h",
          "2023_Q4_labor_23h",
          "2023_Q4_holidays_0h",
          "2023_Q4_holidays_1h",
          "2023_Q4_holidays_2h",
          "2023_Q4_holidays_3h",
          "2023_Q4_holidays_4h",
          "2023_Q4_holidays_5h",
          "2023_Q4_holidays_6h",
          "2023_Q4_holidays_7h",
          "2023_Q4_holidays_8h",
          "2023_Q4_holidays_9h",
          "2023_Q4_holidays_10h",
          "2023_Q4_holidays_11h",
          "2023_Q4_holidays_12h",
          "2023_Q4_holidays_13h",
          "2023_Q4_holidays_14h",
          "2023_Q4_holidays_15h",
          "2023_Q4_holidays_16h",
          "2023_Q4_holidays_17h",
          "2023_Q4_holidays_18h",
          "2023_Q4_holidays_19h",
          "2023_Q4_holidays_20h",
          "2023_Q4_holidays_21h",
          "2023_Q4_holidays_22h",
          "2023_Q4_holidays_23h"
         ],
         "xaxis": "x",
         "y": [
          8599.683281948051,
          8123.494718441559,
          7847.743950909091,
          7648.74713,
          7546.1424945454555,
          7653.958372337662,
          7968.494744025974,
          8144.108198961038,
          8624.54744896104,
          9159.079873896104,
          9492.238898701298,
          9825.370667922078,
          10097.699321688311,
          10057.658726623376,
          10083.37281974026,
          10184.221536103894,
          10165.9327312987,
          9995.229455454548,
          9789.432223506494,
          10303.532968181817,
          10423.558916753247,
          10163.676751038962,
          9734.911820909092,
          9146.984163896104,
          8076.836294615384,
          7894.696375384615,
          7632.1214615384615,
          7418.471868461539,
          7255.2428369230765,
          7168.217795384616,
          7102.246554615384,
          6871.0599884615385,
          7076.215294615384,
          7476.381176153847,
          7856.700819230769,
          8154.997578461538,
          8411.651874615385,
          8522.22812076923,
          8510.548643076923,
          8424.289059230769,
          8355.092903076922,
          8286.373087692307,
          8326.328536153846,
          9041.790119230769,
          9294.75075923077,
          9184.134037692309,
          8916.86837076923,
          8523.056664615386,
          8525.303260632912,
          8028.140811518988,
          7764.560129620253,
          7572.131949113924,
          7479.481103670887,
          7628.553227468355,
          8005.785084556961,
          8158.938645822785,
          8630.57772227848,
          9128.213559746835,
          9442.089499620253,
          9779.982946455697,
          10039.617099113924,
          9964.32655443038,
          10020.489677974681,
          10136.89098278481,
          10134.347305696203,
          9971.934423417722,
          9711.454414936708,
          10185.71763670886,
          10398.9145,
          10165.516775316457,
          9708.031175316457,
          9082.213420379747,
          7987.493916153846,
          7945.754285384616,
          7642.491963076923,
          7404.127556153847,
          7236.746542307692,
          7155.337455384616,
          7051.052117692308,
          6889.406373846154,
          7177.931126153846,
          7554.1076261538465,
          7900.57010923077,
          8189.011700769231,
          8428.103812307692,
          8532.719850769232,
          8533.190846153846,
          8419.764415384616,
          8334.485464615385,
          8262.59320923077,
          8274.917006153846,
          8954.860360769231,
          9263.344624615384,
          9152.988587692307,
          8867.084086923076,
          8449.914576153846,
          8831.547275189872,
          8330.727517341773,
          8048.210505822785,
          7840.76977721519,
          7737.856705316456,
          7853.466620886075,
          8133.953995822784,
          8310.589621392406,
          8826.028976455696,
          9341.26758164557,
          9672.673590126582,
          10031.923954430378,
          10305.85924164557,
          10247.562554556962,
          10307.473156202532,
          10423.219795569621,
          10400.426145569621,
          10243.882941139242,
          9950.163524683545,
          10336.678059240505,
          10641.908910632912,
          10447.025571392405,
          10018.30462050633,
          9409.261687088607,
          8248.216244615385,
          8174.495964615384,
          7881.540685384615,
          7641.732761538462,
          7464.294095384615,
          7364.804563076923,
          7244.994003076924,
          7061.986000769231,
          7350.1751492307685,
          7723.947183076923,
          8048.35884923077,
          8311.166016923076,
          8528.429244615385,
          8659.927387692307,
          8672.257402307692,
          8565.614471538462,
          8469.858329230769,
          8400.611171538461,
          8401.079026153846,
          9002.50529153846,
          9418.548999230768,
          9335.241894615383,
          9102.250996153847,
          8702.097170769232,
          9209.655378461537,
          8684.523318333333,
          8390.444216153846,
          8184.092323461539,
          8082.21723525641,
          8211.583772692307,
          8509.569510128204,
          8701.260768461538,
          9236.86825948718,
          9759.395021666667,
          10096.371296666666,
          10456.618392307693,
          10721.846876153848,
          10676.342887179488,
          10743.192739102564,
          10862.333804358974,
          10843.146818461539,
          10701.096663717948,
          10584.349990128207,
          11102.555628076923,
          11087.515321410257,
          10854.78445294872,
          10409.611512179488,
          9794.551953076923,
          8561.125354615384,
          8383.488172307694,
          8088.934829999999,
          7835.959637692308,
          7616.075727692307,
          7519.484936923076,
          7403.685128461539,
          7239.382665384615,
          7528.638202307692,
          7917.499836923077,
          8277.469405384614,
          8600.882593846154,
          8871.685788461538,
          9001.896287692307,
          9000.804641538462,
          8899.56935076923,
          8835.32738230769,
          8776.228406923075,
          8938.892921538461,
          9696.575747692308,
          9842.254300769231,
          9724.705841538462,
          9456.070904615384,
          9038.51835076923
         ],
         "yaxis": "y"
        },
        {
         "hovertemplate": "Series=Gene_Sistema<br>timestamp=%{x}<br>Values=%{y}<extra></extra>",
         "legendgroup": "Gene_Sistema",
         "line": {
          "color": "#00cc96",
          "dash": "solid"
         },
         "marker": {
          "symbol": "circle"
         },
         "mode": "lines",
         "name": "Gene_Sistema",
         "orientation": "v",
         "showlegend": true,
         "type": "scatter",
         "x": [
          "2023_Q1_labor_0h",
          "2023_Q1_labor_1h",
          "2023_Q1_labor_2h",
          "2023_Q1_labor_3h",
          "2023_Q1_labor_4h",
          "2023_Q1_labor_5h",
          "2023_Q1_labor_6h",
          "2023_Q1_labor_7h",
          "2023_Q1_labor_8h",
          "2023_Q1_labor_9h",
          "2023_Q1_labor_10h",
          "2023_Q1_labor_11h",
          "2023_Q1_labor_12h",
          "2023_Q1_labor_13h",
          "2023_Q1_labor_14h",
          "2023_Q1_labor_15h",
          "2023_Q1_labor_16h",
          "2023_Q1_labor_17h",
          "2023_Q1_labor_18h",
          "2023_Q1_labor_19h",
          "2023_Q1_labor_20h",
          "2023_Q1_labor_21h",
          "2023_Q1_labor_22h",
          "2023_Q1_labor_23h",
          "2023_Q1_holidays_0h",
          "2023_Q1_holidays_1h",
          "2023_Q1_holidays_2h",
          "2023_Q1_holidays_3h",
          "2023_Q1_holidays_4h",
          "2023_Q1_holidays_5h",
          "2023_Q1_holidays_6h",
          "2023_Q1_holidays_7h",
          "2023_Q1_holidays_8h",
          "2023_Q1_holidays_9h",
          "2023_Q1_holidays_10h",
          "2023_Q1_holidays_11h",
          "2023_Q1_holidays_12h",
          "2023_Q1_holidays_13h",
          "2023_Q1_holidays_14h",
          "2023_Q1_holidays_15h",
          "2023_Q1_holidays_16h",
          "2023_Q1_holidays_17h",
          "2023_Q1_holidays_18h",
          "2023_Q1_holidays_19h",
          "2023_Q1_holidays_20h",
          "2023_Q1_holidays_21h",
          "2023_Q1_holidays_22h",
          "2023_Q1_holidays_23h",
          "2023_Q2_labor_0h",
          "2023_Q2_labor_1h",
          "2023_Q2_labor_2h",
          "2023_Q2_labor_3h",
          "2023_Q2_labor_4h",
          "2023_Q2_labor_5h",
          "2023_Q2_labor_6h",
          "2023_Q2_labor_7h",
          "2023_Q2_labor_8h",
          "2023_Q2_labor_9h",
          "2023_Q2_labor_10h",
          "2023_Q2_labor_11h",
          "2023_Q2_labor_12h",
          "2023_Q2_labor_13h",
          "2023_Q2_labor_14h",
          "2023_Q2_labor_15h",
          "2023_Q2_labor_16h",
          "2023_Q2_labor_17h",
          "2023_Q2_labor_18h",
          "2023_Q2_labor_19h",
          "2023_Q2_labor_20h",
          "2023_Q2_labor_21h",
          "2023_Q2_labor_22h",
          "2023_Q2_labor_23h",
          "2023_Q2_holidays_0h",
          "2023_Q2_holidays_1h",
          "2023_Q2_holidays_2h",
          "2023_Q2_holidays_3h",
          "2023_Q2_holidays_4h",
          "2023_Q2_holidays_5h",
          "2023_Q2_holidays_6h",
          "2023_Q2_holidays_7h",
          "2023_Q2_holidays_8h",
          "2023_Q2_holidays_9h",
          "2023_Q2_holidays_10h",
          "2023_Q2_holidays_11h",
          "2023_Q2_holidays_12h",
          "2023_Q2_holidays_13h",
          "2023_Q2_holidays_14h",
          "2023_Q2_holidays_15h",
          "2023_Q2_holidays_16h",
          "2023_Q2_holidays_17h",
          "2023_Q2_holidays_18h",
          "2023_Q2_holidays_19h",
          "2023_Q2_holidays_20h",
          "2023_Q2_holidays_21h",
          "2023_Q2_holidays_22h",
          "2023_Q2_holidays_23h",
          "2023_Q3_labor_0h",
          "2023_Q3_labor_1h",
          "2023_Q3_labor_2h",
          "2023_Q3_labor_3h",
          "2023_Q3_labor_4h",
          "2023_Q3_labor_5h",
          "2023_Q3_labor_6h",
          "2023_Q3_labor_7h",
          "2023_Q3_labor_8h",
          "2023_Q3_labor_9h",
          "2023_Q3_labor_10h",
          "2023_Q3_labor_11h",
          "2023_Q3_labor_12h",
          "2023_Q3_labor_13h",
          "2023_Q3_labor_14h",
          "2023_Q3_labor_15h",
          "2023_Q3_labor_16h",
          "2023_Q3_labor_17h",
          "2023_Q3_labor_18h",
          "2023_Q3_labor_19h",
          "2023_Q3_labor_20h",
          "2023_Q3_labor_21h",
          "2023_Q3_labor_22h",
          "2023_Q3_labor_23h",
          "2023_Q3_holidays_0h",
          "2023_Q3_holidays_1h",
          "2023_Q3_holidays_2h",
          "2023_Q3_holidays_3h",
          "2023_Q3_holidays_4h",
          "2023_Q3_holidays_5h",
          "2023_Q3_holidays_6h",
          "2023_Q3_holidays_7h",
          "2023_Q3_holidays_8h",
          "2023_Q3_holidays_9h",
          "2023_Q3_holidays_10h",
          "2023_Q3_holidays_11h",
          "2023_Q3_holidays_12h",
          "2023_Q3_holidays_13h",
          "2023_Q3_holidays_14h",
          "2023_Q3_holidays_15h",
          "2023_Q3_holidays_16h",
          "2023_Q3_holidays_17h",
          "2023_Q3_holidays_18h",
          "2023_Q3_holidays_19h",
          "2023_Q3_holidays_20h",
          "2023_Q3_holidays_21h",
          "2023_Q3_holidays_22h",
          "2023_Q3_holidays_23h",
          "2023_Q4_labor_0h",
          "2023_Q4_labor_1h",
          "2023_Q4_labor_2h",
          "2023_Q4_labor_3h",
          "2023_Q4_labor_4h",
          "2023_Q4_labor_5h",
          "2023_Q4_labor_6h",
          "2023_Q4_labor_7h",
          "2023_Q4_labor_8h",
          "2023_Q4_labor_9h",
          "2023_Q4_labor_10h",
          "2023_Q4_labor_11h",
          "2023_Q4_labor_12h",
          "2023_Q4_labor_13h",
          "2023_Q4_labor_14h",
          "2023_Q4_labor_15h",
          "2023_Q4_labor_16h",
          "2023_Q4_labor_17h",
          "2023_Q4_labor_18h",
          "2023_Q4_labor_19h",
          "2023_Q4_labor_20h",
          "2023_Q4_labor_21h",
          "2023_Q4_labor_22h",
          "2023_Q4_labor_23h",
          "2023_Q4_holidays_0h",
          "2023_Q4_holidays_1h",
          "2023_Q4_holidays_2h",
          "2023_Q4_holidays_3h",
          "2023_Q4_holidays_4h",
          "2023_Q4_holidays_5h",
          "2023_Q4_holidays_6h",
          "2023_Q4_holidays_7h",
          "2023_Q4_holidays_8h",
          "2023_Q4_holidays_9h",
          "2023_Q4_holidays_10h",
          "2023_Q4_holidays_11h",
          "2023_Q4_holidays_12h",
          "2023_Q4_holidays_13h",
          "2023_Q4_holidays_14h",
          "2023_Q4_holidays_15h",
          "2023_Q4_holidays_16h",
          "2023_Q4_holidays_17h",
          "2023_Q4_holidays_18h",
          "2023_Q4_holidays_19h",
          "2023_Q4_holidays_20h",
          "2023_Q4_holidays_21h",
          "2023_Q4_holidays_22h",
          "2023_Q4_holidays_23h"
         ],
         "xaxis": "x",
         "y": [
          8599.66201077922,
          8123.466352207792,
          7847.664315584415,
          7648.712031818182,
          7546.137557012987,
          7653.92960051948,
          7968.467541298701,
          8143.982934025973,
          8624.436361038961,
          9159.07741025974,
          9492.23770012987,
          9825.370667922078,
          10097.699321688311,
          10057.65469012987,
          10083.37281974026,
          10184.221536103894,
          10165.9327312987,
          9995.220217272727,
          9789.426800649351,
          10303.532968181817,
          10423.54221961039,
          10163.676751038962,
          9734.911820909092,
          9146.963381298703,
          8076.7772361538455,
          7894.68334,
          7632.004126153846,
          7418.246243076922,
          7255.2389961538465,
          7168.109029230769,
          7102.235082307691,
          6871.0599884615385,
          7076.153543846154,
          7476.377343846153,
          7856.700819230769,
          8154.9196961538455,
          8411.651874615385,
          8522.209581538462,
          8510.548643076923,
          8424.289059230769,
          8355.092903076922,
          8286.363940769232,
          8326.328536153846,
          9041.790119230769,
          9294.75075923077,
          9184.079577692308,
          8916.858936153845,
          8523.056664615386,
          8423.141901392406,
          7916.476318481013,
          7648.703745949366,
          7455.569074810126,
          7358.236504936709,
          7501.004221139241,
          7882.055214303797,
          8029.406444936709,
          8503.277868734178,
          9033.689378354431,
          9372.349360886077,
          9727.518839113924,
          9995.155910886077,
          9918.883269367088,
          9977.56670949367,
          10091.920795189873,
          10083.367253164557,
          9910.779643797468,
          9655.781055949366,
          10173.676494683545,
          10385.835954810125,
          10138.61408835443,
          9646.055350253166,
          8988.742148734176,
          7845.3463769230775,
          7825.247806153847,
          7514.098904615385,
          7247.866976153846,
          7079.213992307693,
          7002.2921776923085,
          6914.973547692308,
          6760.693274615383,
          7060.726747692307,
          7468.18060923077,
          7814.833133846154,
          8102.7651115384615,
          8319.523568461538,
          8420.48163923077,
          8414.398712307693,
          8314.732032307693,
          8233.641714615385,
          8159.269447692307,
          8170.7497299999995,
          8917.623272307692,
          9224.499016923077,
          9097.374024615385,
          8754.252457692308,
          8309.418803846154,
          8640.287491265823,
          8094.236046455695,
          7797.80335556962,
          7587.313637721519,
          7482.2557586075945,
          7596.992589746836,
          7876.507376708861,
          8053.60567721519,
          8601.882779873418,
          9179.225973544304,
          9542.105224050634,
          9928.964503037974,
          10211.501873037976,
          10151.091195696203,
          10220.545187215188,
          10345.749019113924,
          10316.657037468354,
          10139.37432329114,
          9819.393864303798,
          10300.211954683544,
          10606.74314113924,
          10397.741964303797,
          9895.70205063291,
          9253.582920506331,
          8010.915429230769,
          7938.167134615385,
          7620.757395384615,
          7391.943560000001,
          7202.4324761538455,
          7091.924921538462,
          6971.9920999999995,
          6805.529731538461,
          7163.679163846154,
          7552.8464284615375,
          7880.060945384616,
          8160.156696153846,
          8388.828403076925,
          8510.496439230768,
          8503.265076923077,
          8375.961775384616,
          8284.06512846154,
          8210.996548461539,
          8208.160887692307,
          8891.998995384614,
          9299.186910769231,
          9202.623843076924,
          8920.814549230769,
          8473.910722307694,
          9209.652445897436,
          8684.523318333333,
          8390.332746538463,
          8184.015227179487,
          8082.189385769231,
          8211.505456923076,
          8509.542706410257,
          8700.997038205129,
          9236.78079448718,
          9759.395021666667,
          10096.364190897435,
          10456.546559615384,
          10721.749042948719,
          10676.228238205129,
          10743.173069358974,
          10862.293691410257,
          10843.049806282052,
          10701.050749871794,
          10584.33284153846,
          11102.555628076923,
          11087.487889358976,
          10854.771355,
          10409.585287692309,
          9794.447355897435,
          8560.882585384616,
          8383.488172307694,
          8088.850806153847,
          7835.945610769231,
          7615.899834615384,
          7519.462358461538,
          7403.685128461539,
          7238.961298461538,
          7528.638202307692,
          7917.499836923077,
          8277.312384615385,
          8600.882593846154,
          8871.685788461538,
          9001.896287692307,
          9000.688126923076,
          8899.551684615384,
          8835.324489230768,
          8776.228406923075,
          8938.892921538461,
          9696.575747692308,
          9842.034441538462,
          9724.596913076924,
          9456.023813076923,
          9038.478810769231
         ],
         "yaxis": "y"
        },
        {
         "hovertemplate": "Series=GeneIdea_Sistema<br>timestamp=%{x}<br>Values=%{y}<extra></extra>",
         "legendgroup": "GeneIdea_Sistema",
         "line": {
          "color": "#ab63fa",
          "dash": "solid"
         },
         "marker": {
          "symbol": "circle"
         },
         "mode": "lines",
         "name": "GeneIdea_Sistema",
         "orientation": "v",
         "showlegend": true,
         "type": "scatter",
         "x": [
          "2023_Q1_labor_0h",
          "2023_Q1_labor_1h",
          "2023_Q1_labor_2h",
          "2023_Q1_labor_3h",
          "2023_Q1_labor_4h",
          "2023_Q1_labor_5h",
          "2023_Q1_labor_6h",
          "2023_Q1_labor_7h",
          "2023_Q1_labor_8h",
          "2023_Q1_labor_9h",
          "2023_Q1_labor_10h",
          "2023_Q1_labor_11h",
          "2023_Q1_labor_12h",
          "2023_Q1_labor_13h",
          "2023_Q1_labor_14h",
          "2023_Q1_labor_15h",
          "2023_Q1_labor_16h",
          "2023_Q1_labor_17h",
          "2023_Q1_labor_18h",
          "2023_Q1_labor_19h",
          "2023_Q1_labor_20h",
          "2023_Q1_labor_21h",
          "2023_Q1_labor_22h",
          "2023_Q1_labor_23h",
          "2023_Q1_holidays_0h",
          "2023_Q1_holidays_1h",
          "2023_Q1_holidays_2h",
          "2023_Q1_holidays_3h",
          "2023_Q1_holidays_4h",
          "2023_Q1_holidays_5h",
          "2023_Q1_holidays_6h",
          "2023_Q1_holidays_7h",
          "2023_Q1_holidays_8h",
          "2023_Q1_holidays_9h",
          "2023_Q1_holidays_10h",
          "2023_Q1_holidays_11h",
          "2023_Q1_holidays_12h",
          "2023_Q1_holidays_13h",
          "2023_Q1_holidays_14h",
          "2023_Q1_holidays_15h",
          "2023_Q1_holidays_16h",
          "2023_Q1_holidays_17h",
          "2023_Q1_holidays_18h",
          "2023_Q1_holidays_19h",
          "2023_Q1_holidays_20h",
          "2023_Q1_holidays_21h",
          "2023_Q1_holidays_22h",
          "2023_Q1_holidays_23h",
          "2023_Q2_labor_0h",
          "2023_Q2_labor_1h",
          "2023_Q2_labor_2h",
          "2023_Q2_labor_3h",
          "2023_Q2_labor_4h",
          "2023_Q2_labor_5h",
          "2023_Q2_labor_6h",
          "2023_Q2_labor_7h",
          "2023_Q2_labor_8h",
          "2023_Q2_labor_9h",
          "2023_Q2_labor_10h",
          "2023_Q2_labor_11h",
          "2023_Q2_labor_12h",
          "2023_Q2_labor_13h",
          "2023_Q2_labor_14h",
          "2023_Q2_labor_15h",
          "2023_Q2_labor_16h",
          "2023_Q2_labor_17h",
          "2023_Q2_labor_18h",
          "2023_Q2_labor_19h",
          "2023_Q2_labor_20h",
          "2023_Q2_labor_21h",
          "2023_Q2_labor_22h",
          "2023_Q2_labor_23h",
          "2023_Q2_holidays_0h",
          "2023_Q2_holidays_1h",
          "2023_Q2_holidays_2h",
          "2023_Q2_holidays_3h",
          "2023_Q2_holidays_4h",
          "2023_Q2_holidays_5h",
          "2023_Q2_holidays_6h",
          "2023_Q2_holidays_7h",
          "2023_Q2_holidays_8h",
          "2023_Q2_holidays_9h",
          "2023_Q2_holidays_10h",
          "2023_Q2_holidays_11h",
          "2023_Q2_holidays_12h",
          "2023_Q2_holidays_13h",
          "2023_Q2_holidays_14h",
          "2023_Q2_holidays_15h",
          "2023_Q2_holidays_16h",
          "2023_Q2_holidays_17h",
          "2023_Q2_holidays_18h",
          "2023_Q2_holidays_19h",
          "2023_Q2_holidays_20h",
          "2023_Q2_holidays_21h",
          "2023_Q2_holidays_22h",
          "2023_Q2_holidays_23h",
          "2023_Q3_labor_0h",
          "2023_Q3_labor_1h",
          "2023_Q3_labor_2h",
          "2023_Q3_labor_3h",
          "2023_Q3_labor_4h",
          "2023_Q3_labor_5h",
          "2023_Q3_labor_6h",
          "2023_Q3_labor_7h",
          "2023_Q3_labor_8h",
          "2023_Q3_labor_9h",
          "2023_Q3_labor_10h",
          "2023_Q3_labor_11h",
          "2023_Q3_labor_12h",
          "2023_Q3_labor_13h",
          "2023_Q3_labor_14h",
          "2023_Q3_labor_15h",
          "2023_Q3_labor_16h",
          "2023_Q3_labor_17h",
          "2023_Q3_labor_18h",
          "2023_Q3_labor_19h",
          "2023_Q3_labor_20h",
          "2023_Q3_labor_21h",
          "2023_Q3_labor_22h",
          "2023_Q3_labor_23h",
          "2023_Q3_holidays_0h",
          "2023_Q3_holidays_1h",
          "2023_Q3_holidays_2h",
          "2023_Q3_holidays_3h",
          "2023_Q3_holidays_4h",
          "2023_Q3_holidays_5h",
          "2023_Q3_holidays_6h",
          "2023_Q3_holidays_7h",
          "2023_Q3_holidays_8h",
          "2023_Q3_holidays_9h",
          "2023_Q3_holidays_10h",
          "2023_Q3_holidays_11h",
          "2023_Q3_holidays_12h",
          "2023_Q3_holidays_13h",
          "2023_Q3_holidays_14h",
          "2023_Q3_holidays_15h",
          "2023_Q3_holidays_16h",
          "2023_Q3_holidays_17h",
          "2023_Q3_holidays_18h",
          "2023_Q3_holidays_19h",
          "2023_Q3_holidays_20h",
          "2023_Q3_holidays_21h",
          "2023_Q3_holidays_22h",
          "2023_Q3_holidays_23h",
          "2023_Q4_labor_0h",
          "2023_Q4_labor_1h",
          "2023_Q4_labor_2h",
          "2023_Q4_labor_3h",
          "2023_Q4_labor_4h",
          "2023_Q4_labor_5h",
          "2023_Q4_labor_6h",
          "2023_Q4_labor_7h",
          "2023_Q4_labor_8h",
          "2023_Q4_labor_9h",
          "2023_Q4_labor_10h",
          "2023_Q4_labor_11h",
          "2023_Q4_labor_12h",
          "2023_Q4_labor_13h",
          "2023_Q4_labor_14h",
          "2023_Q4_labor_15h",
          "2023_Q4_labor_16h",
          "2023_Q4_labor_17h",
          "2023_Q4_labor_18h",
          "2023_Q4_labor_19h",
          "2023_Q4_labor_20h",
          "2023_Q4_labor_21h",
          "2023_Q4_labor_22h",
          "2023_Q4_labor_23h",
          "2023_Q4_holidays_0h",
          "2023_Q4_holidays_1h",
          "2023_Q4_holidays_2h",
          "2023_Q4_holidays_3h",
          "2023_Q4_holidays_4h",
          "2023_Q4_holidays_5h",
          "2023_Q4_holidays_6h",
          "2023_Q4_holidays_7h",
          "2023_Q4_holidays_8h",
          "2023_Q4_holidays_9h",
          "2023_Q4_holidays_10h",
          "2023_Q4_holidays_11h",
          "2023_Q4_holidays_12h",
          "2023_Q4_holidays_13h",
          "2023_Q4_holidays_14h",
          "2023_Q4_holidays_15h",
          "2023_Q4_holidays_16h",
          "2023_Q4_holidays_17h",
          "2023_Q4_holidays_18h",
          "2023_Q4_holidays_19h",
          "2023_Q4_holidays_20h",
          "2023_Q4_holidays_21h",
          "2023_Q4_holidays_22h",
          "2023_Q4_holidays_23h"
         ],
         "xaxis": "x",
         "y": [
          8599.66201077922,
          8123.466352207792,
          7847.718319090909,
          7648.712031818182,
          7546.1424945454555,
          7653.92960051948,
          7968.467541298701,
          8144.02238935065,
          8624.436361038961,
          9159.07741025974,
          9492.23770012987,
          9825.370667922078,
          10097.699321688311,
          10057.65469012987,
          10083.37281974026,
          10184.221536103894,
          10165.9327312987,
          9995.220217272727,
          9789.426800649351,
          10303.532968181817,
          10423.54221961039,
          10163.676751038962,
          9734.911820909092,
          9146.963381298703,
          8076.7772361538455,
          7894.68334,
          7632.1214615384615,
          7418.410834615384,
          7255.2389961538465,
          7168.109029230769,
          7102.246554615384,
          6871.0599884615385,
          7076.153543846154,
          7476.377343846153,
          7856.700819230769,
          8154.9196961538455,
          8411.651874615385,
          8522.209581538462,
          8510.548643076923,
          8424.289059230769,
          8355.092903076922,
          8286.363940769232,
          8326.328536153846,
          9041.790119230769,
          9294.75075923077,
          9184.079577692308,
          8916.858936153845,
          8523.056664615386,
          8429.928952658229,
          7930.587886329114,
          7658.4836635443025,
          7463.042980886075,
          7365.176021772152,
          7506.9389343037965,
          7886.298114303798,
          8034.892854683544,
          8513.309566075948,
          9044.550495443038,
          9378.110306582279,
          9737.455005316455,
          10001.819155189874,
          9925.47691392405,
          9982.43023670886,
          10095.429269620252,
          10086.862420632911,
          9915.395829746834,
          9658.165887341773,
          10176.399498481012,
          10386.80881113924,
          10140.647295949368,
          9648.110805696202,
          8994.270823924051,
          7852.529535384615,
          7826.079546923077,
          7515.646546923077,
          7250.053645384615,
          7094.24867,
          7031.414378461539,
          6952.359810000001,
          6783.751872307693,
          7087.406849230768,
          7474.698084615386,
          7816.817221538461,
          8104.5160323076925,
          8330.19395923077,
          8437.335235384615,
          8444.05183,
          8329.459656153847,
          8242.572269230768,
          8176.503200769231,
          8186.441754615385,
          8930.244976153846,
          9226.01867153846,
          9099.984844615385,
          8755.936604615385,
          8310.959791538462,
          8657.66695506329,
          8124.787027468354,
          7840.4582469620245,
          7633.988047848101,
          7528.327164683544,
          7622.896436455697,
          7897.376677341772,
          8073.716041898733,
          8622.834830379747,
          9198.692987468354,
          9555.419899113924,
          9944.024057468354,
          10219.727037341774,
          10158.032339746836,
          10229.605375822786,
          10353.413762658227,
          10324.05473443038,
          10148.558672658228,
          9828.836140759495,
          10303.696800000002,
          10607.64586835443,
          10398.663620886076,
          9897.892361772152,
          9262.187723797468,
          8034.723856153846,
          7973.719157692308,
          7651.760062307692,
          7418.548519230769,
          7235.110960769231,
          7107.818125384615,
          6999.250438461539,
          6879.298291538461,
          7214.790533846154,
          7563.794726153846,
          7914.512695384616,
          8190.242939999999,
          8397.072953076924,
          8519.399402307692,
          8513.841533846153,
          8394.403780769231,
          8293.767012307693,
          8255.80137923077,
          8250.07054923077,
          8895.473043846152,
          9301.05432153846,
          9204.631589999999,
          8921.741663846155,
          8481.911695384613,
          9209.655378461537,
          8684.523318333333,
          8390.444216153846,
          8184.092323461539,
          8082.21723525641,
          8211.583772692307,
          8509.569510128204,
          8701.260768461538,
          9236.86825948718,
          9759.395021666667,
          10096.371296666666,
          10456.618392307693,
          10721.846876153848,
          10676.342887179488,
          10743.192739102564,
          10862.333804358974,
          10843.146818461539,
          10701.096663717948,
          10584.349990128207,
          11102.555628076923,
          11087.515321410257,
          10854.78445294872,
          10409.611512179488,
          9794.551953076923,
          8561.125354615384,
          8383.488172307694,
          8088.934829999999,
          7835.959637692308,
          7616.075727692307,
          7519.484936923076,
          7403.685128461539,
          7239.382665384615,
          7528.638202307692,
          7917.499836923077,
          8277.469405384614,
          8600.882593846154,
          8871.685788461538,
          9001.896287692307,
          9000.804641538462,
          8899.56935076923,
          8835.32738230769,
          8776.228406923075,
          8938.892921538461,
          9696.575747692308,
          9842.254300769231,
          9724.705841538462,
          9456.070904615384,
          9038.51835076923
         ],
         "yaxis": "y"
        },
        {
         "hovertemplate": "Series=DispatchGen_MW<br>timestamp=%{x}<br>Values=%{y}<extra></extra>",
         "legendgroup": "DispatchGen_MW",
         "line": {
          "color": "#FFA15A",
          "dash": "solid"
         },
         "marker": {
          "symbol": "circle"
         },
         "mode": "lines",
         "name": "DispatchGen_MW",
         "orientation": "v",
         "showlegend": true,
         "type": "scatter",
         "x": [
          "2023_Q1_labor_0h",
          "2023_Q1_labor_1h",
          "2023_Q1_labor_2h",
          "2023_Q1_labor_3h",
          "2023_Q1_labor_4h",
          "2023_Q1_labor_5h",
          "2023_Q1_labor_6h",
          "2023_Q1_labor_7h",
          "2023_Q1_labor_8h",
          "2023_Q1_labor_9h",
          "2023_Q1_labor_10h",
          "2023_Q1_labor_11h",
          "2023_Q1_labor_12h",
          "2023_Q1_labor_13h",
          "2023_Q1_labor_14h",
          "2023_Q1_labor_15h",
          "2023_Q1_labor_16h",
          "2023_Q1_labor_17h",
          "2023_Q1_labor_18h",
          "2023_Q1_labor_19h",
          "2023_Q1_labor_20h",
          "2023_Q1_labor_21h",
          "2023_Q1_labor_22h",
          "2023_Q1_labor_23h",
          "2023_Q1_holidays_0h",
          "2023_Q1_holidays_1h",
          "2023_Q1_holidays_2h",
          "2023_Q1_holidays_3h",
          "2023_Q1_holidays_4h",
          "2023_Q1_holidays_5h",
          "2023_Q1_holidays_6h",
          "2023_Q1_holidays_7h",
          "2023_Q1_holidays_8h",
          "2023_Q1_holidays_9h",
          "2023_Q1_holidays_10h",
          "2023_Q1_holidays_11h",
          "2023_Q1_holidays_12h",
          "2023_Q1_holidays_13h",
          "2023_Q1_holidays_14h",
          "2023_Q1_holidays_15h",
          "2023_Q1_holidays_16h",
          "2023_Q1_holidays_17h",
          "2023_Q1_holidays_18h",
          "2023_Q1_holidays_19h",
          "2023_Q1_holidays_20h",
          "2023_Q1_holidays_21h",
          "2023_Q1_holidays_22h",
          "2023_Q1_holidays_23h",
          "2023_Q2_labor_0h",
          "2023_Q2_labor_1h",
          "2023_Q2_labor_2h",
          "2023_Q2_labor_3h",
          "2023_Q2_labor_4h",
          "2023_Q2_labor_5h",
          "2023_Q2_labor_6h",
          "2023_Q2_labor_7h",
          "2023_Q2_labor_8h",
          "2023_Q2_labor_9h",
          "2023_Q2_labor_10h",
          "2023_Q2_labor_11h",
          "2023_Q2_labor_12h",
          "2023_Q2_labor_13h",
          "2023_Q2_labor_14h",
          "2023_Q2_labor_15h",
          "2023_Q2_labor_16h",
          "2023_Q2_labor_17h",
          "2023_Q2_labor_18h",
          "2023_Q2_labor_19h",
          "2023_Q2_labor_20h",
          "2023_Q2_labor_21h",
          "2023_Q2_labor_22h",
          "2023_Q2_labor_23h",
          "2023_Q2_holidays_0h",
          "2023_Q2_holidays_1h",
          "2023_Q2_holidays_2h",
          "2023_Q2_holidays_3h",
          "2023_Q2_holidays_4h",
          "2023_Q2_holidays_5h",
          "2023_Q2_holidays_6h",
          "2023_Q2_holidays_7h",
          "2023_Q2_holidays_8h",
          "2023_Q2_holidays_9h",
          "2023_Q2_holidays_10h",
          "2023_Q2_holidays_11h",
          "2023_Q2_holidays_12h",
          "2023_Q2_holidays_13h",
          "2023_Q2_holidays_14h",
          "2023_Q2_holidays_15h",
          "2023_Q2_holidays_16h",
          "2023_Q2_holidays_17h",
          "2023_Q2_holidays_18h",
          "2023_Q2_holidays_19h",
          "2023_Q2_holidays_20h",
          "2023_Q2_holidays_21h",
          "2023_Q2_holidays_22h",
          "2023_Q2_holidays_23h",
          "2023_Q3_labor_0h",
          "2023_Q3_labor_1h",
          "2023_Q3_labor_2h",
          "2023_Q3_labor_3h",
          "2023_Q3_labor_4h",
          "2023_Q3_labor_5h",
          "2023_Q3_labor_6h",
          "2023_Q3_labor_7h",
          "2023_Q3_labor_8h",
          "2023_Q3_labor_9h",
          "2023_Q3_labor_10h",
          "2023_Q3_labor_11h",
          "2023_Q3_labor_12h",
          "2023_Q3_labor_13h",
          "2023_Q3_labor_14h",
          "2023_Q3_labor_15h",
          "2023_Q3_labor_16h",
          "2023_Q3_labor_17h",
          "2023_Q3_labor_18h",
          "2023_Q3_labor_19h",
          "2023_Q3_labor_20h",
          "2023_Q3_labor_21h",
          "2023_Q3_labor_22h",
          "2023_Q3_labor_23h",
          "2023_Q3_holidays_0h",
          "2023_Q3_holidays_1h",
          "2023_Q3_holidays_2h",
          "2023_Q3_holidays_3h",
          "2023_Q3_holidays_4h",
          "2023_Q3_holidays_5h",
          "2023_Q3_holidays_6h",
          "2023_Q3_holidays_7h",
          "2023_Q3_holidays_8h",
          "2023_Q3_holidays_9h",
          "2023_Q3_holidays_10h",
          "2023_Q3_holidays_11h",
          "2023_Q3_holidays_12h",
          "2023_Q3_holidays_13h",
          "2023_Q3_holidays_14h",
          "2023_Q3_holidays_15h",
          "2023_Q3_holidays_16h",
          "2023_Q3_holidays_17h",
          "2023_Q3_holidays_18h",
          "2023_Q3_holidays_19h",
          "2023_Q3_holidays_20h",
          "2023_Q3_holidays_21h",
          "2023_Q3_holidays_22h",
          "2023_Q3_holidays_23h",
          "2023_Q4_labor_0h",
          "2023_Q4_labor_1h",
          "2023_Q4_labor_2h",
          "2023_Q4_labor_3h",
          "2023_Q4_labor_4h",
          "2023_Q4_labor_5h",
          "2023_Q4_labor_6h",
          "2023_Q4_labor_7h",
          "2023_Q4_labor_8h",
          "2023_Q4_labor_9h",
          "2023_Q4_labor_10h",
          "2023_Q4_labor_11h",
          "2023_Q4_labor_12h",
          "2023_Q4_labor_13h",
          "2023_Q4_labor_14h",
          "2023_Q4_labor_15h",
          "2023_Q4_labor_16h",
          "2023_Q4_labor_17h",
          "2023_Q4_labor_18h",
          "2023_Q4_labor_19h",
          "2023_Q4_labor_20h",
          "2023_Q4_labor_21h",
          "2023_Q4_labor_22h",
          "2023_Q4_labor_23h",
          "2023_Q4_holidays_0h",
          "2023_Q4_holidays_1h",
          "2023_Q4_holidays_2h",
          "2023_Q4_holidays_3h",
          "2023_Q4_holidays_4h",
          "2023_Q4_holidays_5h",
          "2023_Q4_holidays_6h",
          "2023_Q4_holidays_7h",
          "2023_Q4_holidays_8h",
          "2023_Q4_holidays_9h",
          "2023_Q4_holidays_10h",
          "2023_Q4_holidays_11h",
          "2023_Q4_holidays_12h",
          "2023_Q4_holidays_13h",
          "2023_Q4_holidays_14h",
          "2023_Q4_holidays_15h",
          "2023_Q4_holidays_16h",
          "2023_Q4_holidays_17h",
          "2023_Q4_holidays_18h",
          "2023_Q4_holidays_19h",
          "2023_Q4_holidays_20h",
          "2023_Q4_holidays_21h",
          "2023_Q4_holidays_22h",
          "2023_Q4_holidays_23h"
         ],
         "xaxis": "x",
         "y": [
          8591.716751977408,
          8118.571200558311,
          7845.680329932813,
          7652.050338467347,
          7558.989742079157,
          7673.625984567856,
          7984.078237602783,
          8166.780970577888,
          8651.343971620576,
          9178.743957304074,
          9507.087309648845,
          9831.92928003809,
          10090.176567109898,
          10046.879424500134,
          10068.518390684518,
          10166.94925561062,
          10144.62676367885,
          9976.35214139515,
          9785.589474362949,
          10288.471952817768,
          10399.595435125691,
          10141.2805802463,
          9706.346226146572,
          9129.884059836986,
          8071.260901612704,
          7889.141691232475,
          7630.894524280993,
          7418.404976103639,
          7257.518732653085,
          7170.807686912524,
          7101.7542042586965,
          6885.635325996497,
          7107.2961131707725,
          7508.809910436979,
          7878.958253740222,
          8177.1264166988885,
          8428.491814113895,
          8537.05591076146,
          8521.322834042368,
          8437.32001951872,
          8364.74138422343,
          8299.658081423953,
          8344.80065864717,
          9048.133824657512,
          9286.076546998811,
          9172.121174002834,
          8900.67156608712,
          8509.184637274617,
          8521.475883444607,
          8024.824756194337,
          7756.566108830404,
          7565.166462238738,
          7478.528376880668,
          7636.141411811585,
          8012.79593538819,
          8171.411082147724,
          8650.327749832897,
          9144.137707572427,
          9454.852038923194,
          9790.17086301251,
          10043.109031971575,
          9966.259374868932,
          10016.887255660178,
          10131.000890252586,
          10126.616647075307,
          9966.458806105798,
          9712.029484985072,
          10184.872459786986,
          10389.200495797868,
          10154.208764223738,
          9693.932132270596,
          9074.435390385352,
          8001.737256204285,
          7956.443645094323,
          7648.747856429989,
          7412.271116948319,
          7243.46250399728,
          7161.893162983814,
          7054.993870238087,
          6899.651073264858,
          7195.8446659923175,
          7579.829557856991,
          7933.218275743421,
          8222.586547777999,
          8459.507980805094,
          8563.615340220766,
          8558.646167253637,
          8447.865751362528,
          8362.288277476999,
          8292.914660408322,
          8308.815703563347,
          8983.299214042227,
          9284.540910238973,
          9170.762818164972,
          8878.402347316833,
          8459.73062029867,
          8814.962711046455,
          8310.377703414313,
          8020.228512941001,
          7813.676496988765,
          7715.705060341277,
          7838.9017909160875,
          8124.640087038031,
          8307.442766993374,
          8830.590393955175,
          9344.19648153848,
          9674.314818829938,
          10029.32141104792,
          10293.959331703718,
          10237.221182129502,
          10291.306900305917,
          10405.460290379016,
          10380.930252810846,
          10228.030486120642,
          9943.914344860388,
          10334.756240306971,
          10630.860820096153,
          10432.66239356403,
          9994.69240088047,
          9389.348304504398,
          8244.643942596362,
          8151.842962501903,
          7856.7270405606705,
          7619.524922092214,
          7440.851866514636,
          7342.366312463071,
          7224.102481790557,
          7054.353308011047,
          7350.9746474839785,
          7725.972529526885,
          8048.241597411141,
          8313.125372709726,
          8535.415614256885,
          8666.02780243702,
          8674.995316095046,
          8570.703557947467,
          8478.409282651195,
          8409.033086265192,
          8418.527677205542,
          9029.819764304912,
          9430.749749327535,
          9340.373843734142,
          9096.0744471845,
          8691.391607087771,
          9229.332149587539,
          8710.741022842696,
          8415.369468292154,
          8209.9087270528,
          8109.136110252519,
          8240.920750866253,
          8537.02866379289,
          8731.329290099096,
          9263.86722419167,
          9783.913164771364,
          10123.169000687556,
          10480.70763061135,
          10742.018070949041,
          10698.20642035539,
          10759.840583383104,
          10876.99465831722,
          10854.593368022299,
          10713.085847015784,
          10598.853514743298,
          11113.946602434033,
          11095.977008915828,
          10863.52930136104,
          10417.860958886604,
          9807.993887338595,
          8611.483717387051,
          8434.2008552858,
          8134.241262987076,
          7881.829776361257,
          7660.5951800425355,
          7566.166874451312,
          7449.050841493944,
          7287.833266878907,
          7583.503496437663,
          7979.26016552907,
          8340.072184816772,
          8665.1764962107,
          8931.481250290533,
          9059.31921797544,
          9059.324484692712,
          8958.709191511645,
          8896.980371868196,
          8835.845162880873,
          8998.96185110932,
          9739.545192535767,
          9878.522847192544,
          9760.5770049506,
          9496.230345711927,
          9085.313065175083
         ],
         "yaxis": "y"
        }
       ],
       "layout": {
        "legend": {
         "title": {
          "text": "Series"
         },
         "tracegroupgap": 0
        },
        "template": {
         "data": {
          "bar": [
           {
            "error_x": {
             "color": "#2a3f5f"
            },
            "error_y": {
             "color": "#2a3f5f"
            },
            "marker": {
             "line": {
              "color": "#E5ECF6",
              "width": 0.5
             },
             "pattern": {
              "fillmode": "overlay",
              "size": 10,
              "solidity": 0.2
             }
            },
            "type": "bar"
           }
          ],
          "barpolar": [
           {
            "marker": {
             "line": {
              "color": "#E5ECF6",
              "width": 0.5
             },
             "pattern": {
              "fillmode": "overlay",
              "size": 10,
              "solidity": 0.2
             }
            },
            "type": "barpolar"
           }
          ],
          "carpet": [
           {
            "aaxis": {
             "endlinecolor": "#2a3f5f",
             "gridcolor": "white",
             "linecolor": "white",
             "minorgridcolor": "white",
             "startlinecolor": "#2a3f5f"
            },
            "baxis": {
             "endlinecolor": "#2a3f5f",
             "gridcolor": "white",
             "linecolor": "white",
             "minorgridcolor": "white",
             "startlinecolor": "#2a3f5f"
            },
            "type": "carpet"
           }
          ],
          "choropleth": [
           {
            "colorbar": {
             "outlinewidth": 0,
             "ticks": ""
            },
            "type": "choropleth"
           }
          ],
          "contour": [
           {
            "colorbar": {
             "outlinewidth": 0,
             "ticks": ""
            },
            "colorscale": [
             [
              0,
              "#0d0887"
             ],
             [
              0.1111111111111111,
              "#46039f"
             ],
             [
              0.2222222222222222,
              "#7201a8"
             ],
             [
              0.3333333333333333,
              "#9c179e"
             ],
             [
              0.4444444444444444,
              "#bd3786"
             ],
             [
              0.5555555555555556,
              "#d8576b"
             ],
             [
              0.6666666666666666,
              "#ed7953"
             ],
             [
              0.7777777777777778,
              "#fb9f3a"
             ],
             [
              0.8888888888888888,
              "#fdca26"
             ],
             [
              1,
              "#f0f921"
             ]
            ],
            "type": "contour"
           }
          ],
          "contourcarpet": [
           {
            "colorbar": {
             "outlinewidth": 0,
             "ticks": ""
            },
            "type": "contourcarpet"
           }
          ],
          "heatmap": [
           {
            "colorbar": {
             "outlinewidth": 0,
             "ticks": ""
            },
            "colorscale": [
             [
              0,
              "#0d0887"
             ],
             [
              0.1111111111111111,
              "#46039f"
             ],
             [
              0.2222222222222222,
              "#7201a8"
             ],
             [
              0.3333333333333333,
              "#9c179e"
             ],
             [
              0.4444444444444444,
              "#bd3786"
             ],
             [
              0.5555555555555556,
              "#d8576b"
             ],
             [
              0.6666666666666666,
              "#ed7953"
             ],
             [
              0.7777777777777778,
              "#fb9f3a"
             ],
             [
              0.8888888888888888,
              "#fdca26"
             ],
             [
              1,
              "#f0f921"
             ]
            ],
            "type": "heatmap"
           }
          ],
          "heatmapgl": [
           {
            "colorbar": {
             "outlinewidth": 0,
             "ticks": ""
            },
            "colorscale": [
             [
              0,
              "#0d0887"
             ],
             [
              0.1111111111111111,
              "#46039f"
             ],
             [
              0.2222222222222222,
              "#7201a8"
             ],
             [
              0.3333333333333333,
              "#9c179e"
             ],
             [
              0.4444444444444444,
              "#bd3786"
             ],
             [
              0.5555555555555556,
              "#d8576b"
             ],
             [
              0.6666666666666666,
              "#ed7953"
             ],
             [
              0.7777777777777778,
              "#fb9f3a"
             ],
             [
              0.8888888888888888,
              "#fdca26"
             ],
             [
              1,
              "#f0f921"
             ]
            ],
            "type": "heatmapgl"
           }
          ],
          "histogram": [
           {
            "marker": {
             "pattern": {
              "fillmode": "overlay",
              "size": 10,
              "solidity": 0.2
             }
            },
            "type": "histogram"
           }
          ],
          "histogram2d": [
           {
            "colorbar": {
             "outlinewidth": 0,
             "ticks": ""
            },
            "colorscale": [
             [
              0,
              "#0d0887"
             ],
             [
              0.1111111111111111,
              "#46039f"
             ],
             [
              0.2222222222222222,
              "#7201a8"
             ],
             [
              0.3333333333333333,
              "#9c179e"
             ],
             [
              0.4444444444444444,
              "#bd3786"
             ],
             [
              0.5555555555555556,
              "#d8576b"
             ],
             [
              0.6666666666666666,
              "#ed7953"
             ],
             [
              0.7777777777777778,
              "#fb9f3a"
             ],
             [
              0.8888888888888888,
              "#fdca26"
             ],
             [
              1,
              "#f0f921"
             ]
            ],
            "type": "histogram2d"
           }
          ],
          "histogram2dcontour": [
           {
            "colorbar": {
             "outlinewidth": 0,
             "ticks": ""
            },
            "colorscale": [
             [
              0,
              "#0d0887"
             ],
             [
              0.1111111111111111,
              "#46039f"
             ],
             [
              0.2222222222222222,
              "#7201a8"
             ],
             [
              0.3333333333333333,
              "#9c179e"
             ],
             [
              0.4444444444444444,
              "#bd3786"
             ],
             [
              0.5555555555555556,
              "#d8576b"
             ],
             [
              0.6666666666666666,
              "#ed7953"
             ],
             [
              0.7777777777777778,
              "#fb9f3a"
             ],
             [
              0.8888888888888888,
              "#fdca26"
             ],
             [
              1,
              "#f0f921"
             ]
            ],
            "type": "histogram2dcontour"
           }
          ],
          "mesh3d": [
           {
            "colorbar": {
             "outlinewidth": 0,
             "ticks": ""
            },
            "type": "mesh3d"
           }
          ],
          "parcoords": [
           {
            "line": {
             "colorbar": {
              "outlinewidth": 0,
              "ticks": ""
             }
            },
            "type": "parcoords"
           }
          ],
          "pie": [
           {
            "automargin": true,
            "type": "pie"
           }
          ],
          "scatter": [
           {
            "fillpattern": {
             "fillmode": "overlay",
             "size": 10,
             "solidity": 0.2
            },
            "type": "scatter"
           }
          ],
          "scatter3d": [
           {
            "line": {
             "colorbar": {
              "outlinewidth": 0,
              "ticks": ""
             }
            },
            "marker": {
             "colorbar": {
              "outlinewidth": 0,
              "ticks": ""
             }
            },
            "type": "scatter3d"
           }
          ],
          "scattercarpet": [
           {
            "marker": {
             "colorbar": {
              "outlinewidth": 0,
              "ticks": ""
             }
            },
            "type": "scattercarpet"
           }
          ],
          "scattergeo": [
           {
            "marker": {
             "colorbar": {
              "outlinewidth": 0,
              "ticks": ""
             }
            },
            "type": "scattergeo"
           }
          ],
          "scattergl": [
           {
            "marker": {
             "colorbar": {
              "outlinewidth": 0,
              "ticks": ""
             }
            },
            "type": "scattergl"
           }
          ],
          "scattermapbox": [
           {
            "marker": {
             "colorbar": {
              "outlinewidth": 0,
              "ticks": ""
             }
            },
            "type": "scattermapbox"
           }
          ],
          "scatterpolar": [
           {
            "marker": {
             "colorbar": {
              "outlinewidth": 0,
              "ticks": ""
             }
            },
            "type": "scatterpolar"
           }
          ],
          "scatterpolargl": [
           {
            "marker": {
             "colorbar": {
              "outlinewidth": 0,
              "ticks": ""
             }
            },
            "type": "scatterpolargl"
           }
          ],
          "scatterternary": [
           {
            "marker": {
             "colorbar": {
              "outlinewidth": 0,
              "ticks": ""
             }
            },
            "type": "scatterternary"
           }
          ],
          "surface": [
           {
            "colorbar": {
             "outlinewidth": 0,
             "ticks": ""
            },
            "colorscale": [
             [
              0,
              "#0d0887"
             ],
             [
              0.1111111111111111,
              "#46039f"
             ],
             [
              0.2222222222222222,
              "#7201a8"
             ],
             [
              0.3333333333333333,
              "#9c179e"
             ],
             [
              0.4444444444444444,
              "#bd3786"
             ],
             [
              0.5555555555555556,
              "#d8576b"
             ],
             [
              0.6666666666666666,
              "#ed7953"
             ],
             [
              0.7777777777777778,
              "#fb9f3a"
             ],
             [
              0.8888888888888888,
              "#fdca26"
             ],
             [
              1,
              "#f0f921"
             ]
            ],
            "type": "surface"
           }
          ],
          "table": [
           {
            "cells": {
             "fill": {
              "color": "#EBF0F8"
             },
             "line": {
              "color": "white"
             }
            },
            "header": {
             "fill": {
              "color": "#C8D4E3"
             },
             "line": {
              "color": "white"
             }
            },
            "type": "table"
           }
          ]
         },
         "layout": {
          "annotationdefaults": {
           "arrowcolor": "#2a3f5f",
           "arrowhead": 0,
           "arrowwidth": 1
          },
          "autotypenumbers": "strict",
          "coloraxis": {
           "colorbar": {
            "outlinewidth": 0,
            "ticks": ""
           }
          },
          "colorscale": {
           "diverging": [
            [
             0,
             "#8e0152"
            ],
            [
             0.1,
             "#c51b7d"
            ],
            [
             0.2,
             "#de77ae"
            ],
            [
             0.3,
             "#f1b6da"
            ],
            [
             0.4,
             "#fde0ef"
            ],
            [
             0.5,
             "#f7f7f7"
            ],
            [
             0.6,
             "#e6f5d0"
            ],
            [
             0.7,
             "#b8e186"
            ],
            [
             0.8,
             "#7fbc41"
            ],
            [
             0.9,
             "#4d9221"
            ],
            [
             1,
             "#276419"
            ]
           ],
           "sequential": [
            [
             0,
             "#0d0887"
            ],
            [
             0.1111111111111111,
             "#46039f"
            ],
            [
             0.2222222222222222,
             "#7201a8"
            ],
            [
             0.3333333333333333,
             "#9c179e"
            ],
            [
             0.4444444444444444,
             "#bd3786"
            ],
            [
             0.5555555555555556,
             "#d8576b"
            ],
            [
             0.6666666666666666,
             "#ed7953"
            ],
            [
             0.7777777777777778,
             "#fb9f3a"
            ],
            [
             0.8888888888888888,
             "#fdca26"
            ],
            [
             1,
             "#f0f921"
            ]
           ],
           "sequentialminus": [
            [
             0,
             "#0d0887"
            ],
            [
             0.1111111111111111,
             "#46039f"
            ],
            [
             0.2222222222222222,
             "#7201a8"
            ],
            [
             0.3333333333333333,
             "#9c179e"
            ],
            [
             0.4444444444444444,
             "#bd3786"
            ],
            [
             0.5555555555555556,
             "#d8576b"
            ],
            [
             0.6666666666666666,
             "#ed7953"
            ],
            [
             0.7777777777777778,
             "#fb9f3a"
            ],
            [
             0.8888888888888888,
             "#fdca26"
            ],
            [
             1,
             "#f0f921"
            ]
           ]
          },
          "colorway": [
           "#636efa",
           "#EF553B",
           "#00cc96",
           "#ab63fa",
           "#FFA15A",
           "#19d3f3",
           "#FF6692",
           "#B6E880",
           "#FF97FF",
           "#FECB52"
          ],
          "font": {
           "color": "#2a3f5f"
          },
          "geo": {
           "bgcolor": "white",
           "lakecolor": "white",
           "landcolor": "#E5ECF6",
           "showlakes": true,
           "showland": true,
           "subunitcolor": "white"
          },
          "hoverlabel": {
           "align": "left"
          },
          "hovermode": "closest",
          "mapbox": {
           "style": "light"
          },
          "paper_bgcolor": "white",
          "plot_bgcolor": "#E5ECF6",
          "polar": {
           "angularaxis": {
            "gridcolor": "white",
            "linecolor": "white",
            "ticks": ""
           },
           "bgcolor": "#E5ECF6",
           "radialaxis": {
            "gridcolor": "white",
            "linecolor": "white",
            "ticks": ""
           }
          },
          "scene": {
           "xaxis": {
            "backgroundcolor": "#E5ECF6",
            "gridcolor": "white",
            "gridwidth": 2,
            "linecolor": "white",
            "showbackground": true,
            "ticks": "",
            "zerolinecolor": "white"
           },
           "yaxis": {
            "backgroundcolor": "#E5ECF6",
            "gridcolor": "white",
            "gridwidth": 2,
            "linecolor": "white",
            "showbackground": true,
            "ticks": "",
            "zerolinecolor": "white"
           },
           "zaxis": {
            "backgroundcolor": "#E5ECF6",
            "gridcolor": "white",
            "gridwidth": 2,
            "linecolor": "white",
            "showbackground": true,
            "ticks": "",
            "zerolinecolor": "white"
           }
          },
          "shapedefaults": {
           "line": {
            "color": "#2a3f5f"
           }
          },
          "ternary": {
           "aaxis": {
            "gridcolor": "white",
            "linecolor": "white",
            "ticks": ""
           },
           "baxis": {
            "gridcolor": "white",
            "linecolor": "white",
            "ticks": ""
           },
           "bgcolor": "#E5ECF6",
           "caxis": {
            "gridcolor": "white",
            "linecolor": "white",
            "ticks": ""
           }
          },
          "title": {
           "x": 0.05
          },
          "xaxis": {
           "automargin": true,
           "gridcolor": "white",
           "linecolor": "white",
           "ticks": "",
           "title": {
            "standoff": 15
           },
           "zerolinecolor": "white",
           "zerolinewidth": 2
          },
          "yaxis": {
           "automargin": true,
           "gridcolor": "white",
           "linecolor": "white",
           "ticks": "",
           "title": {
            "standoff": 15
           },
           "zerolinecolor": "white",
           "zerolinewidth": 2
          }
         }
        },
        "title": {
         "text": "Demand/Dispatch XM vs Dispatch Switch"
        },
        "xaxis": {
         "anchor": "y",
         "domain": [
          0,
          1
         ],
         "title": {
          "text": "timestamp"
         }
        },
        "yaxis": {
         "anchor": "x",
         "domain": [
          0,
          1
         ],
         "title": {
          "text": "Values"
         }
        }
       }
      }
     },
     "metadata": {},
     "output_type": "display_data"
    }
   ],
   "source": [
    "# Merge tables\n",
    "demand_x_dispatch = pd.merge(XM, dispatch_sys, on='timestamp', how='inner')\n",
    "import plotly.express as px\n",
    "# Sort by timepoints to sort timestamps as well\n",
    "demand_x_dispatch = demand_x_dispatch.sort_values(by='timepoints')\n",
    "fig = px.line(\n",
    "    demand_x_dispatch,\n",
    "    x='timestamp',\n",
    "    y=['DemaReal_Sistema', 'DemaCome_Sistema', 'Gene_Sistema', 'GeneIdea_Sistema', 'DispatchGen_MW'],\n",
    "    labels={'value': 'Values','variable': 'Series'},\n",
    "    title='Demand/Dispatch XM vs Dispatch Switch'\n",
    ")\n",
    "fig.show()"
   ]
  },
  {
   "cell_type": "markdown",
   "metadata": {},
   "source": [
    "### 3.4.3 Dispatch by Technology XM"
   ]
  },
  {
   "cell_type": "code",
   "execution_count": 74,
   "metadata": {},
   "outputs": [
    {
     "data": {
      "application/vnd.plotly.v1+json": {
       "config": {
        "plotlyServerURL": "https://plot.ly"
       },
       "data": [
        {
         "hovertemplate": "Tech=Menores<br>timestamp=%{x}<br>DispatchGen_MW=%{y}<extra></extra>",
         "legendgroup": "Menores",
         "line": {
          "color": "#636efa",
          "dash": "solid"
         },
         "marker": {
          "symbol": "circle"
         },
         "mode": "lines",
         "name": "Menores",
         "orientation": "v",
         "showlegend": true,
         "type": "scatter",
         "x": [
          "2023_Q1_L_0h",
          "2023_Q1_L_1h",
          "2023_Q1_L_2h",
          "2023_Q1_L_3h",
          "2023_Q1_L_4h",
          "2023_Q1_L_5h",
          "2023_Q1_L_6h",
          "2023_Q1_L_7h",
          "2023_Q1_L_8h",
          "2023_Q1_L_9h",
          "2023_Q1_L_10h",
          "2023_Q1_L_11h",
          "2023_Q1_L_12h",
          "2023_Q1_L_13h",
          "2023_Q1_L_14h",
          "2023_Q1_L_15h",
          "2023_Q1_L_16h",
          "2023_Q1_L_17h",
          "2023_Q1_L_18h",
          "2023_Q1_L_19h",
          "2023_Q1_L_20h",
          "2023_Q1_L_21h",
          "2023_Q1_L_22h",
          "2023_Q1_L_23h",
          "2023_Q1_H_0h",
          "2023_Q1_H_1h",
          "2023_Q1_H_2h",
          "2023_Q1_H_3h",
          "2023_Q1_H_4h",
          "2023_Q1_H_5h",
          "2023_Q1_H_6h",
          "2023_Q1_H_7h",
          "2023_Q1_H_8h",
          "2023_Q1_H_9h",
          "2023_Q1_H_10h",
          "2023_Q1_H_11h",
          "2023_Q1_H_12h",
          "2023_Q1_H_13h",
          "2023_Q1_H_14h",
          "2023_Q1_H_15h",
          "2023_Q1_H_16h",
          "2023_Q1_H_17h",
          "2023_Q1_H_18h",
          "2023_Q1_H_19h",
          "2023_Q1_H_20h",
          "2023_Q1_H_21h",
          "2023_Q1_H_22h",
          "2023_Q1_H_23h",
          "2023_Q2_L_0h",
          "2023_Q2_L_1h",
          "2023_Q2_L_2h",
          "2023_Q2_L_3h",
          "2023_Q2_L_4h",
          "2023_Q2_L_5h",
          "2023_Q2_L_6h",
          "2023_Q2_L_7h",
          "2023_Q2_L_8h",
          "2023_Q2_L_9h",
          "2023_Q2_L_10h",
          "2023_Q2_L_11h",
          "2023_Q2_L_12h",
          "2023_Q2_L_13h",
          "2023_Q2_L_14h",
          "2023_Q2_L_15h",
          "2023_Q2_L_16h",
          "2023_Q2_L_17h",
          "2023_Q2_L_18h",
          "2023_Q2_L_19h",
          "2023_Q2_L_20h",
          "2023_Q2_L_21h",
          "2023_Q2_L_22h",
          "2023_Q2_L_23h",
          "2023_Q2_H_0h",
          "2023_Q2_H_1h",
          "2023_Q2_H_2h",
          "2023_Q2_H_3h",
          "2023_Q2_H_4h",
          "2023_Q2_H_5h",
          "2023_Q2_H_6h",
          "2023_Q2_H_7h",
          "2023_Q2_H_8h",
          "2023_Q2_H_9h",
          "2023_Q2_H_10h",
          "2023_Q2_H_11h",
          "2023_Q2_H_12h",
          "2023_Q2_H_13h",
          "2023_Q2_H_14h",
          "2023_Q2_H_15h",
          "2023_Q2_H_16h",
          "2023_Q2_H_17h",
          "2023_Q2_H_18h",
          "2023_Q2_H_19h",
          "2023_Q2_H_20h",
          "2023_Q2_H_21h",
          "2023_Q2_H_22h",
          "2023_Q2_H_23h",
          "2023_Q3_L_0h",
          "2023_Q3_L_1h",
          "2023_Q3_L_2h",
          "2023_Q3_L_3h",
          "2023_Q3_L_4h",
          "2023_Q3_L_5h",
          "2023_Q3_L_6h",
          "2023_Q3_L_7h",
          "2023_Q3_L_8h",
          "2023_Q3_L_9h",
          "2023_Q3_L_10h",
          "2023_Q3_L_11h",
          "2023_Q3_L_12h",
          "2023_Q3_L_13h",
          "2023_Q3_L_14h",
          "2023_Q3_L_15h",
          "2023_Q3_L_16h",
          "2023_Q3_L_17h",
          "2023_Q3_L_18h",
          "2023_Q3_L_19h",
          "2023_Q3_L_20h",
          "2023_Q3_L_21h",
          "2023_Q3_L_22h",
          "2023_Q3_L_23h",
          "2023_Q3_H_0h",
          "2023_Q3_H_1h",
          "2023_Q3_H_2h",
          "2023_Q3_H_3h",
          "2023_Q3_H_4h",
          "2023_Q3_H_5h",
          "2023_Q3_H_6h",
          "2023_Q3_H_7h",
          "2023_Q3_H_8h",
          "2023_Q3_H_9h",
          "2023_Q3_H_10h",
          "2023_Q3_H_11h",
          "2023_Q3_H_12h",
          "2023_Q3_H_13h",
          "2023_Q3_H_14h",
          "2023_Q3_H_15h",
          "2023_Q3_H_16h",
          "2023_Q3_H_17h",
          "2023_Q3_H_18h",
          "2023_Q3_H_19h",
          "2023_Q3_H_20h",
          "2023_Q3_H_21h",
          "2023_Q3_H_22h",
          "2023_Q3_H_23h",
          "2023_Q4_L_0h",
          "2023_Q4_L_1h",
          "2023_Q4_L_2h",
          "2023_Q4_L_3h",
          "2023_Q4_L_4h",
          "2023_Q4_L_5h",
          "2023_Q4_L_6h",
          "2023_Q4_L_7h",
          "2023_Q4_L_8h",
          "2023_Q4_L_9h",
          "2023_Q4_L_10h",
          "2023_Q4_L_11h",
          "2023_Q4_L_12h",
          "2023_Q4_L_13h",
          "2023_Q4_L_14h",
          "2023_Q4_L_15h",
          "2023_Q4_L_16h",
          "2023_Q4_L_17h",
          "2023_Q4_L_18h",
          "2023_Q4_L_19h",
          "2023_Q4_L_20h",
          "2023_Q4_L_21h",
          "2023_Q4_L_22h",
          "2023_Q4_L_23h",
          "2023_Q4_H_0h",
          "2023_Q4_H_1h",
          "2023_Q4_H_2h",
          "2023_Q4_H_3h",
          "2023_Q4_H_4h",
          "2023_Q4_H_5h",
          "2023_Q4_H_6h",
          "2023_Q4_H_7h",
          "2023_Q4_H_8h",
          "2023_Q4_H_9h",
          "2023_Q4_H_10h",
          "2023_Q4_H_11h",
          "2023_Q4_H_12h",
          "2023_Q4_H_13h",
          "2023_Q4_H_14h",
          "2023_Q4_H_15h",
          "2023_Q4_H_16h",
          "2023_Q4_H_17h",
          "2023_Q4_H_18h",
          "2023_Q4_H_19h",
          "2023_Q4_H_20h",
          "2023_Q4_H_21h",
          "2023_Q4_H_22h",
          "2023_Q4_H_23h"
         ],
         "xaxis": "x",
         "y": [
          106.07456935064936,
          104.69943584415584,
          105.44695246753247,
          105.20175246753249,
          106.1215516883117,
          105.7513225974026,
          105.77165935064937,
          104.74833987012988,
          104.43560168831168,
          102.7650638961039,
          99.35463935064936,
          97.92131155844156,
          98.10420012987014,
          98.81180623376625,
          99.38819077922078,
          98.41008064935063,
          98.63018675324676,
          100.6680896103896,
          102.32421636363635,
          102.96598753246754,
          103.47899103896104,
          104.91770623376624,
          104.88659181818184,
          105.34688155844155,
          98.69870846153843,
          106.4371753846154,
          106.40360230769231,
          106.86192461538462,
          105.25718923076924,
          101.70733461538462,
          100.34636538461541,
          99.41253153846154,
          100.86103,
          100.05026307692307,
          98.33399,
          97.99938692307693,
          94.94314076923075,
          94.30991538461538,
          95.10454692307692,
          95.50632153846152,
          96.91206615384615,
          96.8173676923077,
          98.87469307692308,
          98.19607153846152,
          97.18716,
          97.74883076923075,
          98.07274923076925,
          96.86000076923075,
          72.26760430379747,
          73.50397341772153,
          73.72879189873417,
          73.38900291139241,
          73.18948683544303,
          73.25226405063292,
          74.2141270886076,
          73.43843303797468,
          72.14659189873417,
          70.5506570886076,
          68.05233417721519,
          65.92670050632911,
          65.09881797468354,
          65.28964139240506,
          65.57994848101266,
          65.46179075949367,
          66.04767037974683,
          67.28133569620253,
          68.07881303797468,
          68.9303082278481,
          69.4215735443038,
          71.01387303797469,
          72.08646265822784,
          71.75116493670888,
          68.50010076923077,
          70.65852846153845,
          71.11809461538462,
          71.40040615384615,
          70.77627923076923,
          70.65549846153846,
          70.01696461538461,
          69.2576376923077,
          69.04307538461538,
          67.92741846153845,
          68.02228,
          66.53876846153847,
          65.40193923076923,
          64.31572923076922,
          64.68966307692308,
          65.34936307692307,
          64.74376923076923,
          66.0221046153846,
          67.59430692307691,
          66.8074023076923,
          65.44416076923076,
          65.59087923076922,
          68.01298307692308,
          67.16732,
          96.87880594936708,
          96.31199721518989,
          96.75780050632912,
          96.35199784810128,
          96.22794278481012,
          96.39066025316457,
          97.63772924050632,
          97.15956037974684,
          96.24944898734176,
          94.49827974683544,
          91.13826303797468,
          89.33884898734178,
          89.93755265822786,
          91.07299227848101,
          91.93634265822783,
          91.45755164556962,
          91.88554316455696,
          92.9214451898734,
          93.47612607594937,
          94.2255946835443,
          96.6221493670886,
          97.05267531645569,
          97.71837278481013,
          98.05243379746834,
          99.00986538461541,
          100.85685000000001,
          102.67766153846155,
          100.72117461538461,
          100.88954461538464,
          101.34094230769233,
          101.5340953846154,
          100.91045769230769,
          97.5398376923077,
          96.9635976923077,
          95.89578769230769,
          95.12314153846154,
          93.72937461538464,
          93.97830923076924,
          94.1115953846154,
          95.3039546153846,
          93.81807,
          95.33908230769232,
          96.43835307692308,
          96.16718615384617,
          96.20922615384616,
          99.25679692307693,
          99.3572046153846,
          99.45562538461536,
          89.4686803846154,
          91.70145025641025,
          92.02091230769231,
          91.48546833333334,
          90.58952269230768,
          91.21017307692308,
          92.0568471794872,
          91.91153282051282,
          89.96772128205129,
          88.66308769230768,
          85.8994485897436,
          84.05453499999999,
          84.5686508974359,
          84.7662994871795,
          84.47234038461538,
          84.45876025641026,
          85.39234538461538,
          86.01130423076923,
          87.81799910256409,
          87.81536153846154,
          88.98596064102564,
          89.74882256410257,
          90.42617602564104,
          89.7024823076923,
          95.41231307692308,
          89.48199153846153,
          90.03406461538462,
          91.59764846153844,
          91.32486615384616,
          91.86350384615383,
          92.83946923076924,
          90.83344923076925,
          91.67564692307691,
          92.53179384615386,
          91.48505076923075,
          90.15462846153844,
          87.9225,
          91.29685230769232,
          91.50753615384616,
          91.00483230769233,
          93.38121615384617,
          92.12761461538462,
          93.62566384615384,
          89.84289076923076,
          90.63472846153846,
          93.23994076923076,
          93.10494384615384,
          95.99463769230768
         ],
         "yaxis": "y"
        },
        {
         "hovertemplate": "Tech=Solar<br>timestamp=%{x}<br>DispatchGen_MW=%{y}<extra></extra>",
         "legendgroup": "Solar",
         "line": {
          "color": "#EF553B",
          "dash": "solid"
         },
         "marker": {
          "symbol": "circle"
         },
         "mode": "lines",
         "name": "Solar",
         "orientation": "v",
         "showlegend": true,
         "type": "scatter",
         "x": [
          "2023_Q1_L_0h",
          "2023_Q1_L_1h",
          "2023_Q1_L_2h",
          "2023_Q1_L_3h",
          "2023_Q1_L_4h",
          "2023_Q1_L_5h",
          "2023_Q1_L_6h",
          "2023_Q1_L_7h",
          "2023_Q1_L_8h",
          "2023_Q1_L_9h",
          "2023_Q1_L_10h",
          "2023_Q1_L_11h",
          "2023_Q1_L_12h",
          "2023_Q1_L_13h",
          "2023_Q1_L_14h",
          "2023_Q1_L_15h",
          "2023_Q1_L_16h",
          "2023_Q1_L_17h",
          "2023_Q1_L_18h",
          "2023_Q1_L_19h",
          "2023_Q1_L_20h",
          "2023_Q1_L_21h",
          "2023_Q1_L_22h",
          "2023_Q1_L_23h",
          "2023_Q1_H_0h",
          "2023_Q1_H_1h",
          "2023_Q1_H_2h",
          "2023_Q1_H_3h",
          "2023_Q1_H_4h",
          "2023_Q1_H_5h",
          "2023_Q1_H_6h",
          "2023_Q1_H_7h",
          "2023_Q1_H_8h",
          "2023_Q1_H_9h",
          "2023_Q1_H_10h",
          "2023_Q1_H_11h",
          "2023_Q1_H_12h",
          "2023_Q1_H_13h",
          "2023_Q1_H_14h",
          "2023_Q1_H_15h",
          "2023_Q1_H_16h",
          "2023_Q1_H_17h",
          "2023_Q1_H_18h",
          "2023_Q1_H_19h",
          "2023_Q1_H_20h",
          "2023_Q1_H_21h",
          "2023_Q1_H_22h",
          "2023_Q1_H_23h",
          "2023_Q2_L_0h",
          "2023_Q2_L_1h",
          "2023_Q2_L_2h",
          "2023_Q2_L_3h",
          "2023_Q2_L_4h",
          "2023_Q2_L_5h",
          "2023_Q2_L_6h",
          "2023_Q2_L_7h",
          "2023_Q2_L_8h",
          "2023_Q2_L_9h",
          "2023_Q2_L_10h",
          "2023_Q2_L_11h",
          "2023_Q2_L_12h",
          "2023_Q2_L_13h",
          "2023_Q2_L_14h",
          "2023_Q2_L_15h",
          "2023_Q2_L_16h",
          "2023_Q2_L_17h",
          "2023_Q2_L_18h",
          "2023_Q2_L_19h",
          "2023_Q2_L_20h",
          "2023_Q2_L_21h",
          "2023_Q2_L_22h",
          "2023_Q2_L_23h",
          "2023_Q2_H_0h",
          "2023_Q2_H_1h",
          "2023_Q2_H_2h",
          "2023_Q2_H_3h",
          "2023_Q2_H_4h",
          "2023_Q2_H_5h",
          "2023_Q2_H_6h",
          "2023_Q2_H_7h",
          "2023_Q2_H_8h",
          "2023_Q2_H_9h",
          "2023_Q2_H_10h",
          "2023_Q2_H_11h",
          "2023_Q2_H_12h",
          "2023_Q2_H_13h",
          "2023_Q2_H_14h",
          "2023_Q2_H_15h",
          "2023_Q2_H_16h",
          "2023_Q2_H_17h",
          "2023_Q2_H_18h",
          "2023_Q2_H_19h",
          "2023_Q2_H_20h",
          "2023_Q2_H_21h",
          "2023_Q2_H_22h",
          "2023_Q2_H_23h",
          "2023_Q3_L_0h",
          "2023_Q3_L_1h",
          "2023_Q3_L_2h",
          "2023_Q3_L_3h",
          "2023_Q3_L_4h",
          "2023_Q3_L_5h",
          "2023_Q3_L_6h",
          "2023_Q3_L_7h",
          "2023_Q3_L_8h",
          "2023_Q3_L_9h",
          "2023_Q3_L_10h",
          "2023_Q3_L_11h",
          "2023_Q3_L_12h",
          "2023_Q3_L_13h",
          "2023_Q3_L_14h",
          "2023_Q3_L_15h",
          "2023_Q3_L_16h",
          "2023_Q3_L_17h",
          "2023_Q3_L_18h",
          "2023_Q3_L_19h",
          "2023_Q3_L_20h",
          "2023_Q3_L_21h",
          "2023_Q3_L_22h",
          "2023_Q3_L_23h",
          "2023_Q3_H_0h",
          "2023_Q3_H_1h",
          "2023_Q3_H_2h",
          "2023_Q3_H_3h",
          "2023_Q3_H_4h",
          "2023_Q3_H_5h",
          "2023_Q3_H_6h",
          "2023_Q3_H_7h",
          "2023_Q3_H_8h",
          "2023_Q3_H_9h",
          "2023_Q3_H_10h",
          "2023_Q3_H_11h",
          "2023_Q3_H_12h",
          "2023_Q3_H_13h",
          "2023_Q3_H_14h",
          "2023_Q3_H_15h",
          "2023_Q3_H_16h",
          "2023_Q3_H_17h",
          "2023_Q3_H_18h",
          "2023_Q3_H_19h",
          "2023_Q3_H_20h",
          "2023_Q3_H_21h",
          "2023_Q3_H_22h",
          "2023_Q3_H_23h",
          "2023_Q4_L_0h",
          "2023_Q4_L_1h",
          "2023_Q4_L_2h",
          "2023_Q4_L_3h",
          "2023_Q4_L_4h",
          "2023_Q4_L_5h",
          "2023_Q4_L_6h",
          "2023_Q4_L_7h",
          "2023_Q4_L_8h",
          "2023_Q4_L_9h",
          "2023_Q4_L_10h",
          "2023_Q4_L_11h",
          "2023_Q4_L_12h",
          "2023_Q4_L_13h",
          "2023_Q4_L_14h",
          "2023_Q4_L_15h",
          "2023_Q4_L_16h",
          "2023_Q4_L_17h",
          "2023_Q4_L_18h",
          "2023_Q4_L_19h",
          "2023_Q4_L_20h",
          "2023_Q4_L_21h",
          "2023_Q4_L_22h",
          "2023_Q4_L_23h",
          "2023_Q4_H_0h",
          "2023_Q4_H_1h",
          "2023_Q4_H_2h",
          "2023_Q4_H_3h",
          "2023_Q4_H_4h",
          "2023_Q4_H_5h",
          "2023_Q4_H_6h",
          "2023_Q4_H_7h",
          "2023_Q4_H_8h",
          "2023_Q4_H_9h",
          "2023_Q4_H_10h",
          "2023_Q4_H_11h",
          "2023_Q4_H_12h",
          "2023_Q4_H_13h",
          "2023_Q4_H_14h",
          "2023_Q4_H_15h",
          "2023_Q4_H_16h",
          "2023_Q4_H_17h",
          "2023_Q4_H_18h",
          "2023_Q4_H_19h",
          "2023_Q4_H_20h",
          "2023_Q4_H_21h",
          "2023_Q4_H_22h",
          "2023_Q4_H_23h"
         ],
         "xaxis": "x",
         "y": [
          0.0000167532467532467,
          0.0000329870129870129,
          0.0000438961038961038,
          0.0000318181818181818,
          0.000034675324675324606,
          0.0000307792207792207,
          0.025963506493506493,
          19.160868961038958,
          116.54004506493509,
          196.93674831168832,
          243.17632012987008,
          262.80058207792206,
          270.5466641558442,
          268.74420922077917,
          258.1261984415585,
          239.45520363636365,
          202.4776192207792,
          124.7452374025974,
          20.75173103896104,
          0.012545194805194804,
          5.194805194805e-7,
          7.792207792206999e-7,
          0,
          0,
          0,
          0,
          0,
          0,
          0,
          0,
          0.030633846153846157,
          17.61660923076923,
          108.48702,
          189.82279,
          233.69373230769233,
          265.89607153846157,
          269.04437538461536,
          269.3413076923077,
          253.44489615384612,
          239.59313923076925,
          206.2919523076923,
          118.20721846153846,
          20.290775384615383,
          0.01447153846153846,
          0,
          0,
          0,
          0,
          0.0000177215189873417,
          0.0000025316455696201997,
          0.0000020253164556962,
          0.0000092405063291139,
          0.0000140506329113924,
          0.0000379746835443038,
          0.4152474683544304,
          28.54610658227848,
          109.21890734177217,
          185.27091240506329,
          240.93562911392405,
          271.3965759493671,
          288.1607858227848,
          290.21035822784813,
          281.2397140506329,
          256.83362645569616,
          202.26153898734177,
          124.31126050632912,
          27.95660278481013,
          0.07984721518987342,
          0.0000037974683544302998,
          0.0000162025316455696,
          0.000017215189873417702,
          0.0000177215189873417,
          0,
          0.0000015384615384615002,
          0.0000023076923076923,
          0.0000015384615384615002,
          0,
          0,
          0.5369315384615385,
          26.137053076923074,
          98.7901976923077,
          163.30255076923078,
          225.3532876923077,
          262.8008623076923,
          273.5864861538461,
          279.0660984615385,
          276.97743153846153,
          253.82124538461534,
          197.5332492307693,
          120.74589923076923,
          27.81057384615385,
          0.05326076923076924,
          0.0000015384615384615002,
          0,
          0,
          0,
          0.00002,
          0.0000320253164556962,
          0.0000284810126582278,
          0.0000278481012658227,
          0.0000415189873417721,
          0.0000422784810126582,
          0.2287121518987342,
          42.507012151898735,
          158.8501151898734,
          267.25628582278483,
          338.3630006329114,
          381.2922555696203,
          391.9539818987342,
          389.76135569620254,
          367.5446750632911,
          330.037496329114,
          268.1406559493671,
          174.66934556962025,
          46.77178670886076,
          0.45953164556962023,
          0.0002562025316455696,
          0.0000192405063291139,
          0.0000189873417721519,
          0.000023164556962025298,
          0,
          0.000011538461538461499,
          0.000012307692307692301,
          0.000012307692307692301,
          0.0000107692307692307,
          0.0000092307692307692,
          0.19724769230769232,
          43.87577692307692,
          173.73978461538462,
          274.84486846153845,
          329.4608307692307,
          388.57220384615385,
          402.8527576923077,
          391.5189461538462,
          361.4737715384616,
          321.8367084615385,
          243.8767346153846,
          148.43737692307693,
          41.06443,
          0.34464076923076925,
          0.0000153846153846153,
          0.00001,
          0,
          0,
          0.0006775641025641025,
          0.0007689743589743591,
          0.0005787179487179487,
          0.000588974358974359,
          0.0005602564102564103,
          0.0005112820512820511,
          0.5682333333333334,
          65.13903576923077,
          241.47203756410255,
          393.2111867948718,
          491.8807202564103,
          535.0610543589744,
          551.8461869230769,
          548.3798680769231,
          514.397585897436,
          444.02753923076926,
          342.5471961538462,
          173.63297999999998,
          18.84458,
          0.004502948717948718,
          0.0009097435897435896,
          0.0006012820512820514,
          0.0006356410256410257,
          0.0006760256410256411,
          0,
          0,
          0,
          0,
          0,
          0,
          0.56308,
          56.29506615384615,
          202.21573999999998,
          352.46721461538465,
          446.6933638461539,
          489.2721823076923,
          507.14789846153843,
          502.70255846153844,
          483.8132015384616,
          408.5403484615385,
          321.2780815384616,
          151.40090538461538,
          15.623336923076923,
          0.002468461538461538,
          0,
          0,
          0,
          0
         ],
         "yaxis": "y"
        },
        {
         "hovertemplate": "Tech=Thermal<br>timestamp=%{x}<br>DispatchGen_MW=%{y}<extra></extra>",
         "legendgroup": "Thermal",
         "line": {
          "color": "#00cc96",
          "dash": "solid"
         },
         "marker": {
          "symbol": "circle"
         },
         "mode": "lines",
         "name": "Thermal",
         "orientation": "v",
         "showlegend": true,
         "type": "scatter",
         "x": [
          "2023_Q1_L_0h",
          "2023_Q1_L_1h",
          "2023_Q1_L_2h",
          "2023_Q1_L_3h",
          "2023_Q1_L_4h",
          "2023_Q1_L_5h",
          "2023_Q1_L_6h",
          "2023_Q1_L_7h",
          "2023_Q1_L_8h",
          "2023_Q1_L_9h",
          "2023_Q1_L_10h",
          "2023_Q1_L_11h",
          "2023_Q1_L_12h",
          "2023_Q1_L_13h",
          "2023_Q1_L_14h",
          "2023_Q1_L_15h",
          "2023_Q1_L_16h",
          "2023_Q1_L_17h",
          "2023_Q1_L_18h",
          "2023_Q1_L_19h",
          "2023_Q1_L_20h",
          "2023_Q1_L_21h",
          "2023_Q1_L_22h",
          "2023_Q1_L_23h",
          "2023_Q1_H_0h",
          "2023_Q1_H_1h",
          "2023_Q1_H_2h",
          "2023_Q1_H_3h",
          "2023_Q1_H_4h",
          "2023_Q1_H_5h",
          "2023_Q1_H_6h",
          "2023_Q1_H_7h",
          "2023_Q1_H_8h",
          "2023_Q1_H_9h",
          "2023_Q1_H_10h",
          "2023_Q1_H_11h",
          "2023_Q1_H_12h",
          "2023_Q1_H_13h",
          "2023_Q1_H_14h",
          "2023_Q1_H_15h",
          "2023_Q1_H_16h",
          "2023_Q1_H_17h",
          "2023_Q1_H_18h",
          "2023_Q1_H_19h",
          "2023_Q1_H_20h",
          "2023_Q1_H_21h",
          "2023_Q1_H_22h",
          "2023_Q1_H_23h",
          "2023_Q2_L_0h",
          "2023_Q2_L_1h",
          "2023_Q2_L_2h",
          "2023_Q2_L_3h",
          "2023_Q2_L_4h",
          "2023_Q2_L_5h",
          "2023_Q2_L_6h",
          "2023_Q2_L_7h",
          "2023_Q2_L_8h",
          "2023_Q2_L_9h",
          "2023_Q2_L_10h",
          "2023_Q2_L_11h",
          "2023_Q2_L_12h",
          "2023_Q2_L_13h",
          "2023_Q2_L_14h",
          "2023_Q2_L_15h",
          "2023_Q2_L_16h",
          "2023_Q2_L_17h",
          "2023_Q2_L_18h",
          "2023_Q2_L_19h",
          "2023_Q2_L_20h",
          "2023_Q2_L_21h",
          "2023_Q2_L_22h",
          "2023_Q2_L_23h",
          "2023_Q2_H_0h",
          "2023_Q2_H_1h",
          "2023_Q2_H_2h",
          "2023_Q2_H_3h",
          "2023_Q2_H_4h",
          "2023_Q2_H_5h",
          "2023_Q2_H_6h",
          "2023_Q2_H_7h",
          "2023_Q2_H_8h",
          "2023_Q2_H_9h",
          "2023_Q2_H_10h",
          "2023_Q2_H_11h",
          "2023_Q2_H_12h",
          "2023_Q2_H_13h",
          "2023_Q2_H_14h",
          "2023_Q2_H_15h",
          "2023_Q2_H_16h",
          "2023_Q2_H_17h",
          "2023_Q2_H_18h",
          "2023_Q2_H_19h",
          "2023_Q2_H_20h",
          "2023_Q2_H_21h",
          "2023_Q2_H_22h",
          "2023_Q2_H_23h",
          "2023_Q3_L_0h",
          "2023_Q3_L_1h",
          "2023_Q3_L_2h",
          "2023_Q3_L_3h",
          "2023_Q3_L_4h",
          "2023_Q3_L_5h",
          "2023_Q3_L_6h",
          "2023_Q3_L_7h",
          "2023_Q3_L_8h",
          "2023_Q3_L_9h",
          "2023_Q3_L_10h",
          "2023_Q3_L_11h",
          "2023_Q3_L_12h",
          "2023_Q3_L_13h",
          "2023_Q3_L_14h",
          "2023_Q3_L_15h",
          "2023_Q3_L_16h",
          "2023_Q3_L_17h",
          "2023_Q3_L_18h",
          "2023_Q3_L_19h",
          "2023_Q3_L_20h",
          "2023_Q3_L_21h",
          "2023_Q3_L_22h",
          "2023_Q3_L_23h",
          "2023_Q3_H_0h",
          "2023_Q3_H_1h",
          "2023_Q3_H_2h",
          "2023_Q3_H_3h",
          "2023_Q3_H_4h",
          "2023_Q3_H_5h",
          "2023_Q3_H_6h",
          "2023_Q3_H_7h",
          "2023_Q3_H_8h",
          "2023_Q3_H_9h",
          "2023_Q3_H_10h",
          "2023_Q3_H_11h",
          "2023_Q3_H_12h",
          "2023_Q3_H_13h",
          "2023_Q3_H_14h",
          "2023_Q3_H_15h",
          "2023_Q3_H_16h",
          "2023_Q3_H_17h",
          "2023_Q3_H_18h",
          "2023_Q3_H_19h",
          "2023_Q3_H_20h",
          "2023_Q3_H_21h",
          "2023_Q3_H_22h",
          "2023_Q3_H_23h",
          "2023_Q4_L_0h",
          "2023_Q4_L_1h",
          "2023_Q4_L_2h",
          "2023_Q4_L_3h",
          "2023_Q4_L_4h",
          "2023_Q4_L_5h",
          "2023_Q4_L_6h",
          "2023_Q4_L_7h",
          "2023_Q4_L_8h",
          "2023_Q4_L_9h",
          "2023_Q4_L_10h",
          "2023_Q4_L_11h",
          "2023_Q4_L_12h",
          "2023_Q4_L_13h",
          "2023_Q4_L_14h",
          "2023_Q4_L_15h",
          "2023_Q4_L_16h",
          "2023_Q4_L_17h",
          "2023_Q4_L_18h",
          "2023_Q4_L_19h",
          "2023_Q4_L_20h",
          "2023_Q4_L_21h",
          "2023_Q4_L_22h",
          "2023_Q4_L_23h",
          "2023_Q4_H_0h",
          "2023_Q4_H_1h",
          "2023_Q4_H_2h",
          "2023_Q4_H_3h",
          "2023_Q4_H_4h",
          "2023_Q4_H_5h",
          "2023_Q4_H_6h",
          "2023_Q4_H_7h",
          "2023_Q4_H_8h",
          "2023_Q4_H_9h",
          "2023_Q4_H_10h",
          "2023_Q4_H_11h",
          "2023_Q4_H_12h",
          "2023_Q4_H_13h",
          "2023_Q4_H_14h",
          "2023_Q4_H_15h",
          "2023_Q4_H_16h",
          "2023_Q4_H_17h",
          "2023_Q4_H_18h",
          "2023_Q4_H_19h",
          "2023_Q4_H_20h",
          "2023_Q4_H_21h",
          "2023_Q4_H_22h",
          "2023_Q4_H_23h"
         ],
         "xaxis": "x",
         "y": [
          1499.314782077922,
          1417.7121454545454,
          1370.235328961039,
          1329.130765194805,
          1301.9349536363636,
          1282.4876338961037,
          1301.34394,
          1334.8800074025971,
          1368.2782355844156,
          1405.524732207792,
          1442.3582900000001,
          1471.6045483116882,
          1500.9440777922077,
          1522.193358051948,
          1535.4539,
          1548.5173580519481,
          1559.180198311688,
          1559.7991000000002,
          1559.8319435064936,
          1598.1777481818183,
          1615.917687922078,
          1616.2436801298702,
          1580.5082994805196,
          1544.4163675324678,
          1396.0647761538462,
          1409.6358138461537,
          1390.2109592307693,
          1320.5007492307698,
          1281.1547684615384,
          1233.8538523076925,
          1201.536890769231,
          1123.2369784615385,
          1143.1785476923076,
          1171.990399230769,
          1232.471363846154,
          1287.9861761538464,
          1317.3767915384615,
          1346.459783076923,
          1349.952622307692,
          1370.8080576923076,
          1384.1369384615384,
          1405.3106169230769,
          1421.856016923077,
          1462.857602307692,
          1469.9882253846154,
          1462.1349253846156,
          1434.506856153846,
          1429.9137292307691,
          1470.8374851898734,
          1357.4178097468355,
          1278.296807721519,
          1222.9592973417718,
          1199.3638244303797,
          1191.335988607595,
          1199.2128269620255,
          1202.0965367088609,
          1218.110816835443,
          1265.8304437974684,
          1292.7474583544306,
          1320.0774018987345,
          1356.1175035443039,
          1374.7784096202531,
          1410.2636512658228,
          1457.0924430379746,
          1468.6516634177215,
          1451.1241078481014,
          1448.1019789873415,
          1495.9914079746836,
          1541.8294827848104,
          1552.6184529113923,
          1525.2912582278482,
          1515.3705030379747,
          1321.2486546153848,
          1307.1581107692307,
          1264.4506115384613,
          1221.8362323076924,
          1166.9256607692307,
          1128.4427492307693,
          1091.9717607692307,
          1058.5348061538461,
          1079.25593,
          1095.60726,
          1097.2081353846154,
          1116.6243961538462,
          1135.3803884615384,
          1145.9894138461539,
          1155.2989484615384,
          1193.7324346153846,
          1204.1582292307692,
          1211.27146,
          1228.4854284615385,
          1308.7093061538462,
          1353.99766,
          1371.373677692308,
          1348.6111815384618,
          1344.7652484615385,
          2060.383187468354,
          1884.2937167088608,
          1767.192948227848,
          1694.8587062025317,
          1656.2711096202531,
          1655.9812113924052,
          1681.009959113924,
          1696.9958865822784,
          1740.7684186075949,
          1815.7460827848101,
          1866.473490886076,
          1918.1708686075951,
          1973.1365262025315,
          2006.4667050632909,
          2046.489735443038,
          2076.0398,
          2088.04169886076,
          2081.312371772152,
          2088.3701565822785,
          2131.39598,
          2155.3167367088604,
          2165.650693670886,
          2148.986453544304,
          2126.806705189873,
          1950.9532946153845,
          1921.86171,
          1855.507996923077,
          1745.4466338461534,
          1659.6135007692303,
          1614.031463846154,
          1548.4366476923078,
          1532.088025384615,
          1551.1401484615383,
          1608.7654492307693,
          1680.5167876923074,
          1730.1654123076921,
          1745.8333023076923,
          1758.5309615384615,
          1774.3408369230767,
          1775.8654815384618,
          1799.3294907692307,
          1813.8725361538459,
          1879.4373869230772,
          1986.659267692308,
          2011.833676153846,
          2008.849507692308,
          1984.9461884615384,
          1995.8542153846156,
          2916.916886666667,
          2795.3256992307693,
          2732.222742948718,
          2688.4577666666664,
          2688.8610547435896,
          2700.5322323076925,
          2714.522983974359,
          2732.718401666667,
          2776.3580866666666,
          2822.763123717949,
          2870.3139989743586,
          2909.7483329487177,
          2933.849807051282,
          2958.0874005128208,
          2978.088406923077,
          3013.7925876923077,
          3043.1865103846153,
          3052.5254526923077,
          3076.7896773076923,
          3138.154015128205,
          3147.4036519230767,
          3124.675713846154,
          3058.8854410256413,
          2986.44085448718,
          2728.9183415384614,
          2745.0201453846157,
          2674.338377692308,
          2611.0838730769233,
          2617.212751538462,
          2583.646719230769,
          2529.173266923077,
          2493.009299230769,
          2515.4364915384617,
          2533.438156153846,
          2555.500694615385,
          2624.8108984615383,
          2661.021691538461,
          2679.5919584615385,
          2708.5569576923076,
          2747.282006153846,
          2769.25862,
          2763.146793076923,
          2807.249667692308,
          2847.302399230769,
          2804.5368315384617,
          2762.0971230769233,
          2735.6291407692306,
          2740.986423076923
         ],
         "yaxis": "y"
        },
        {
         "hovertemplate": "Tech=Eolica<br>timestamp=%{x}<br>DispatchGen_MW=%{y}<extra></extra>",
         "legendgroup": "Eolica",
         "line": {
          "color": "#ab63fa",
          "dash": "solid"
         },
         "marker": {
          "symbol": "circle"
         },
         "mode": "lines",
         "name": "Eolica",
         "orientation": "v",
         "showlegend": true,
         "type": "scatter",
         "x": [
          "2023_Q1_L_0h",
          "2023_Q1_L_1h",
          "2023_Q1_L_2h",
          "2023_Q1_L_3h",
          "2023_Q1_L_4h",
          "2023_Q1_L_5h",
          "2023_Q1_L_6h",
          "2023_Q1_L_7h",
          "2023_Q1_L_8h",
          "2023_Q1_L_9h",
          "2023_Q1_L_10h",
          "2023_Q1_L_11h",
          "2023_Q1_L_12h",
          "2023_Q1_L_13h",
          "2023_Q1_L_14h",
          "2023_Q1_L_15h",
          "2023_Q1_L_16h",
          "2023_Q1_L_17h",
          "2023_Q1_L_18h",
          "2023_Q1_L_19h",
          "2023_Q1_L_20h",
          "2023_Q1_L_21h",
          "2023_Q1_L_22h",
          "2023_Q1_L_23h",
          "2023_Q1_H_0h",
          "2023_Q1_H_1h",
          "2023_Q1_H_2h",
          "2023_Q1_H_3h",
          "2023_Q1_H_4h",
          "2023_Q1_H_5h",
          "2023_Q1_H_6h",
          "2023_Q1_H_7h",
          "2023_Q1_H_8h",
          "2023_Q1_H_9h",
          "2023_Q1_H_10h",
          "2023_Q1_H_11h",
          "2023_Q1_H_12h",
          "2023_Q1_H_13h",
          "2023_Q1_H_14h",
          "2023_Q1_H_15h",
          "2023_Q1_H_16h",
          "2023_Q1_H_17h",
          "2023_Q1_H_18h",
          "2023_Q1_H_19h",
          "2023_Q1_H_20h",
          "2023_Q1_H_21h",
          "2023_Q1_H_22h",
          "2023_Q1_H_23h",
          "2023_Q2_L_0h",
          "2023_Q2_L_1h",
          "2023_Q2_L_2h",
          "2023_Q2_L_3h",
          "2023_Q2_L_4h",
          "2023_Q2_L_5h",
          "2023_Q2_L_6h",
          "2023_Q2_L_7h",
          "2023_Q2_L_8h",
          "2023_Q2_L_9h",
          "2023_Q2_L_10h",
          "2023_Q2_L_11h",
          "2023_Q2_L_12h",
          "2023_Q2_L_13h",
          "2023_Q2_L_14h",
          "2023_Q2_L_15h",
          "2023_Q2_L_16h",
          "2023_Q2_L_17h",
          "2023_Q2_L_18h",
          "2023_Q2_L_19h",
          "2023_Q2_L_20h",
          "2023_Q2_L_21h",
          "2023_Q2_L_22h",
          "2023_Q2_L_23h",
          "2023_Q2_H_0h",
          "2023_Q2_H_1h",
          "2023_Q2_H_2h",
          "2023_Q2_H_3h",
          "2023_Q2_H_4h",
          "2023_Q2_H_5h",
          "2023_Q2_H_6h",
          "2023_Q2_H_7h",
          "2023_Q2_H_8h",
          "2023_Q2_H_9h",
          "2023_Q2_H_10h",
          "2023_Q2_H_11h",
          "2023_Q2_H_12h",
          "2023_Q2_H_13h",
          "2023_Q2_H_14h",
          "2023_Q2_H_15h",
          "2023_Q2_H_16h",
          "2023_Q2_H_17h",
          "2023_Q2_H_18h",
          "2023_Q2_H_19h",
          "2023_Q2_H_20h",
          "2023_Q2_H_21h",
          "2023_Q2_H_22h",
          "2023_Q2_H_23h",
          "2023_Q3_L_0h",
          "2023_Q3_L_1h",
          "2023_Q3_L_2h",
          "2023_Q3_L_3h",
          "2023_Q3_L_4h",
          "2023_Q3_L_5h",
          "2023_Q3_L_6h",
          "2023_Q3_L_7h",
          "2023_Q3_L_8h",
          "2023_Q3_L_9h",
          "2023_Q3_L_10h",
          "2023_Q3_L_11h",
          "2023_Q3_L_12h",
          "2023_Q3_L_13h",
          "2023_Q3_L_14h",
          "2023_Q3_L_15h",
          "2023_Q3_L_16h",
          "2023_Q3_L_17h",
          "2023_Q3_L_18h",
          "2023_Q3_L_19h",
          "2023_Q3_L_20h",
          "2023_Q3_L_21h",
          "2023_Q3_L_22h",
          "2023_Q3_L_23h",
          "2023_Q3_H_0h",
          "2023_Q3_H_1h",
          "2023_Q3_H_2h",
          "2023_Q3_H_3h",
          "2023_Q3_H_4h",
          "2023_Q3_H_5h",
          "2023_Q3_H_6h",
          "2023_Q3_H_7h",
          "2023_Q3_H_8h",
          "2023_Q3_H_9h",
          "2023_Q3_H_10h",
          "2023_Q3_H_11h",
          "2023_Q3_H_12h",
          "2023_Q3_H_13h",
          "2023_Q3_H_14h",
          "2023_Q3_H_15h",
          "2023_Q3_H_16h",
          "2023_Q3_H_17h",
          "2023_Q3_H_18h",
          "2023_Q3_H_19h",
          "2023_Q3_H_20h",
          "2023_Q3_H_21h",
          "2023_Q3_H_22h",
          "2023_Q3_H_23h",
          "2023_Q4_L_0h",
          "2023_Q4_L_1h",
          "2023_Q4_L_2h",
          "2023_Q4_L_3h",
          "2023_Q4_L_4h",
          "2023_Q4_L_5h",
          "2023_Q4_L_6h",
          "2023_Q4_L_7h",
          "2023_Q4_L_8h",
          "2023_Q4_L_9h",
          "2023_Q4_L_10h",
          "2023_Q4_L_11h",
          "2023_Q4_L_12h",
          "2023_Q4_L_13h",
          "2023_Q4_L_14h",
          "2023_Q4_L_15h",
          "2023_Q4_L_16h",
          "2023_Q4_L_17h",
          "2023_Q4_L_18h",
          "2023_Q4_L_19h",
          "2023_Q4_L_20h",
          "2023_Q4_L_21h",
          "2023_Q4_L_22h",
          "2023_Q4_L_23h",
          "2023_Q4_H_0h",
          "2023_Q4_H_1h",
          "2023_Q4_H_2h",
          "2023_Q4_H_3h",
          "2023_Q4_H_4h",
          "2023_Q4_H_5h",
          "2023_Q4_H_6h",
          "2023_Q4_H_7h",
          "2023_Q4_H_8h",
          "2023_Q4_H_9h",
          "2023_Q4_H_10h",
          "2023_Q4_H_11h",
          "2023_Q4_H_12h",
          "2023_Q4_H_13h",
          "2023_Q4_H_14h",
          "2023_Q4_H_15h",
          "2023_Q4_H_16h",
          "2023_Q4_H_17h",
          "2023_Q4_H_18h",
          "2023_Q4_H_19h",
          "2023_Q4_H_20h",
          "2023_Q4_H_21h",
          "2023_Q4_H_22h",
          "2023_Q4_H_23h"
         ],
         "xaxis": "x",
         "y": [
          21.928229740259738,
          20.540196103896104,
          19.905551298701297,
          19.21012909090909,
          17.485991818181816,
          16.509596363636362,
          16.182089610389607,
          15.538796233766234,
          15.10408181818182,
          17.11917675324675,
          19.168037402597406,
          20.669737792207798,
          22.08399194805195,
          23.44256116883117,
          24.919838571428567,
          25.153357272727277,
          25.412010779220786,
          25.684628701298703,
          25.767292467532467,
          25.36738194805195,
          24.303351818181813,
          23.228203896103896,
          22.79565974025974,
          22.503550909090908,
          20.02381076923077,
          19.79884769230769,
          18.509237692307693,
          17.932244615384615,
          18.19233923076923,
          17.71273846153846,
          16.250666923076924,
          14.05855076923077,
          13.636209230769232,
          17.331384615384618,
          18.291040769230772,
          19.067581538461535,
          21.15905538461538,
          23.371758461538466,
          23.628488461538453,
          24.08877538461538,
          24.053477692307695,
          24.707456153846156,
          25.04003846153846,
          24.55031384615385,
          22.90508307692308,
          22.771668461538464,
          22.784487692307692,
          21.93121307692308,
          21.51519050632912,
          20.618151012658224,
          19.9773517721519,
          18.899853797468356,
          18.085298101265824,
          17.187221898734176,
          16.49301240506329,
          15.441943417721522,
          15.83740164556962,
          16.41786430379747,
          16.664259746835445,
          18.793352151898738,
          22.347888481012657,
          25.219705063291137,
          26.850277215189873,
          27.49749898734177,
          27.470622151898734,
          27.853097974683546,
          27.85247848101265,
          26.633711898734177,
          25.60711113924051,
          24.40476341772152,
          23.403527721518984,
          22.508732278481013,
          19.473950000000002,
          20.63798769230769,
          19.28081153846154,
          17.90829,
          18.40178461538461,
          15.272185384615385,
          13.410236153846153,
          13.103881538461536,
          11.94945,
          11.005793846153848,
          12.177685384615385,
          12.657023846153848,
          18.147783846153846,
          20.402866153846155,
          22.658400769230767,
          23.89440846153846,
          24.314299230769237,
          25.382925384615387,
          23.849789230769233,
          23.26232230769231,
          23.31357461538461,
          22.404515384615383,
          22.15369384615385,
          20.526132307692308,
          20.58436341772152,
          19.450768860759492,
          18.09618227848101,
          17.12812240506329,
          16.62046012658228,
          15.682761139240503,
          15.248010886075948,
          14.783063164556959,
          16.457180379746834,
          17.87298582278481,
          18.31821683544304,
          18.978911012658227,
          21.55569670886076,
          22.907253797468353,
          23.298163670886076,
          23.50896151898734,
          24.15983379746836,
          24.54724594936709,
          24.845949620253165,
          24.84414924050633,
          23.791843670886074,
          22.48726860759493,
          21.8523435443038,
          20.980759493670885,
          18.93491076923077,
          21.51671461538461,
          18.892049999999998,
          17.389384615384618,
          18.10652076923077,
          18.22288384615385,
          17.14818153846154,
          16.423496153846155,
          18.77485846153846,
          18.40076461538461,
          17.888526923076924,
          18.566558461538463,
          19.97653923076923,
          22.950033076923074,
          25.65026076923077,
          25.93675,
          25.42515846153846,
          24.08117538461539,
          25.091168461538466,
          23.67521153846154,
          22.814206923076924,
          22.135094615384613,
          21.422718461538466,
          20.32232384615385,
          13.476736923076924,
          11.019211666666665,
          10.159110897435898,
          10.070741923076925,
          10.05727294871795,
          9.653785384615384,
          8.797637564102564,
          8.421595384615385,
          9.081372307692309,
          9.089981666666668,
          9.593769743589744,
          11.370048333333335,
          14.84715358974359,
          18.177292948717948,
          20.34661141025641,
          20.540356025641028,
          20.250654102564102,
          20.56111871794872,
          20.966141282051282,
          20.01593935897436,
          18.55989435897436,
          16.966965000000002,
          15.10098205128205,
          14.01730217948718,
          10.413023076923077,
          10.855805384615383,
          8.763176153846155,
          8.25478769230769,
          8.275776153846152,
          8.240633076923077,
          7.261223076923076,
          6.82606,
          7.2992838461538465,
          7.1760807692307695,
          10.034446923076924,
          11.583081538461538,
          12.733040769230767,
          16.013184615384617,
          17.355710769230768,
          18.612125384615386,
          19.247875384615384,
          18.416106923076924,
          16.91921846153846,
          15.815109230769233,
          14.394766153846152,
          13.742505384615386,
          12.10500923076923,
          10.801173846153846
         ],
         "yaxis": "y"
        },
        {
         "hovertemplate": "Tech=Hidro<br>timestamp=%{x}<br>DispatchGen_MW=%{y}<extra></extra>",
         "legendgroup": "Hidro",
         "line": {
          "color": "#FFA15A",
          "dash": "solid"
         },
         "marker": {
          "symbol": "circle"
         },
         "mode": "lines",
         "name": "Hidro",
         "orientation": "v",
         "showlegend": true,
         "type": "scatter",
         "x": [
          "2023_Q1_L_0h",
          "2023_Q1_L_1h",
          "2023_Q1_L_2h",
          "2023_Q1_L_3h",
          "2023_Q1_L_4h",
          "2023_Q1_L_5h",
          "2023_Q1_L_6h",
          "2023_Q1_L_7h",
          "2023_Q1_L_8h",
          "2023_Q1_L_9h",
          "2023_Q1_L_10h",
          "2023_Q1_L_11h",
          "2023_Q1_L_12h",
          "2023_Q1_L_13h",
          "2023_Q1_L_14h",
          "2023_Q1_L_15h",
          "2023_Q1_L_16h",
          "2023_Q1_L_17h",
          "2023_Q1_L_18h",
          "2023_Q1_L_19h",
          "2023_Q1_L_20h",
          "2023_Q1_L_21h",
          "2023_Q1_L_22h",
          "2023_Q1_L_23h",
          "2023_Q1_H_0h",
          "2023_Q1_H_1h",
          "2023_Q1_H_2h",
          "2023_Q1_H_3h",
          "2023_Q1_H_4h",
          "2023_Q1_H_5h",
          "2023_Q1_H_6h",
          "2023_Q1_H_7h",
          "2023_Q1_H_8h",
          "2023_Q1_H_9h",
          "2023_Q1_H_10h",
          "2023_Q1_H_11h",
          "2023_Q1_H_12h",
          "2023_Q1_H_13h",
          "2023_Q1_H_14h",
          "2023_Q1_H_15h",
          "2023_Q1_H_16h",
          "2023_Q1_H_17h",
          "2023_Q1_H_18h",
          "2023_Q1_H_19h",
          "2023_Q1_H_20h",
          "2023_Q1_H_21h",
          "2023_Q1_H_22h",
          "2023_Q1_H_23h",
          "2023_Q2_L_0h",
          "2023_Q2_L_1h",
          "2023_Q2_L_2h",
          "2023_Q2_L_3h",
          "2023_Q2_L_4h",
          "2023_Q2_L_5h",
          "2023_Q2_L_6h",
          "2023_Q2_L_7h",
          "2023_Q2_L_8h",
          "2023_Q2_L_9h",
          "2023_Q2_L_10h",
          "2023_Q2_L_11h",
          "2023_Q2_L_12h",
          "2023_Q2_L_13h",
          "2023_Q2_L_14h",
          "2023_Q2_L_15h",
          "2023_Q2_L_16h",
          "2023_Q2_L_17h",
          "2023_Q2_L_18h",
          "2023_Q2_L_19h",
          "2023_Q2_L_20h",
          "2023_Q2_L_21h",
          "2023_Q2_L_22h",
          "2023_Q2_L_23h",
          "2023_Q2_H_0h",
          "2023_Q2_H_1h",
          "2023_Q2_H_2h",
          "2023_Q2_H_3h",
          "2023_Q2_H_4h",
          "2023_Q2_H_5h",
          "2023_Q2_H_6h",
          "2023_Q2_H_7h",
          "2023_Q2_H_8h",
          "2023_Q2_H_9h",
          "2023_Q2_H_10h",
          "2023_Q2_H_11h",
          "2023_Q2_H_12h",
          "2023_Q2_H_13h",
          "2023_Q2_H_14h",
          "2023_Q2_H_15h",
          "2023_Q2_H_16h",
          "2023_Q2_H_17h",
          "2023_Q2_H_18h",
          "2023_Q2_H_19h",
          "2023_Q2_H_20h",
          "2023_Q2_H_21h",
          "2023_Q2_H_22h",
          "2023_Q2_H_23h",
          "2023_Q3_L_0h",
          "2023_Q3_L_1h",
          "2023_Q3_L_2h",
          "2023_Q3_L_3h",
          "2023_Q3_L_4h",
          "2023_Q3_L_5h",
          "2023_Q3_L_6h",
          "2023_Q3_L_7h",
          "2023_Q3_L_8h",
          "2023_Q3_L_9h",
          "2023_Q3_L_10h",
          "2023_Q3_L_11h",
          "2023_Q3_L_12h",
          "2023_Q3_L_13h",
          "2023_Q3_L_14h",
          "2023_Q3_L_15h",
          "2023_Q3_L_16h",
          "2023_Q3_L_17h",
          "2023_Q3_L_18h",
          "2023_Q3_L_19h",
          "2023_Q3_L_20h",
          "2023_Q3_L_21h",
          "2023_Q3_L_22h",
          "2023_Q3_L_23h",
          "2023_Q3_H_0h",
          "2023_Q3_H_1h",
          "2023_Q3_H_2h",
          "2023_Q3_H_3h",
          "2023_Q3_H_4h",
          "2023_Q3_H_5h",
          "2023_Q3_H_6h",
          "2023_Q3_H_7h",
          "2023_Q3_H_8h",
          "2023_Q3_H_9h",
          "2023_Q3_H_10h",
          "2023_Q3_H_11h",
          "2023_Q3_H_12h",
          "2023_Q3_H_13h",
          "2023_Q3_H_14h",
          "2023_Q3_H_15h",
          "2023_Q3_H_16h",
          "2023_Q3_H_17h",
          "2023_Q3_H_18h",
          "2023_Q3_H_19h",
          "2023_Q3_H_20h",
          "2023_Q3_H_21h",
          "2023_Q3_H_22h",
          "2023_Q3_H_23h",
          "2023_Q4_L_0h",
          "2023_Q4_L_1h",
          "2023_Q4_L_2h",
          "2023_Q4_L_3h",
          "2023_Q4_L_4h",
          "2023_Q4_L_5h",
          "2023_Q4_L_6h",
          "2023_Q4_L_7h",
          "2023_Q4_L_8h",
          "2023_Q4_L_9h",
          "2023_Q4_L_10h",
          "2023_Q4_L_11h",
          "2023_Q4_L_12h",
          "2023_Q4_L_13h",
          "2023_Q4_L_14h",
          "2023_Q4_L_15h",
          "2023_Q4_L_16h",
          "2023_Q4_L_17h",
          "2023_Q4_L_18h",
          "2023_Q4_L_19h",
          "2023_Q4_L_20h",
          "2023_Q4_L_21h",
          "2023_Q4_L_22h",
          "2023_Q4_L_23h",
          "2023_Q4_H_0h",
          "2023_Q4_H_1h",
          "2023_Q4_H_2h",
          "2023_Q4_H_3h",
          "2023_Q4_H_4h",
          "2023_Q4_H_5h",
          "2023_Q4_H_6h",
          "2023_Q4_H_7h",
          "2023_Q4_H_8h",
          "2023_Q4_H_9h",
          "2023_Q4_H_10h",
          "2023_Q4_H_11h",
          "2023_Q4_H_12h",
          "2023_Q4_H_13h",
          "2023_Q4_H_14h",
          "2023_Q4_H_15h",
          "2023_Q4_H_16h",
          "2023_Q4_H_17h",
          "2023_Q4_H_18h",
          "2023_Q4_H_19h",
          "2023_Q4_H_20h",
          "2023_Q4_H_21h",
          "2023_Q4_H_22h",
          "2023_Q4_H_23h"
         ],
         "xaxis": "x",
         "y": [
          6966.895811948051,
          6576.691520779222,
          6348.364212337663,
          6191.568129610389,
          6116.723455584415,
          6244.810741818183,
          6539.973871038961,
          6662.229255584416,
          7008.33375935065,
          7421.5309777922075,
          7670.990523246753,
          7953.249152987013,
          8187.346466233766,
          8126.44400987013,
          8147.603709610389,
          8255.349431818182,
          8262.905646883117,
          8166.6181503896105,
          8063.414943116883,
          8563.89770025974,
          8671.519088701298,
          8411.898743896105,
          8019.849319999999,
          7468.387998831169,
          6558.009311538462,
          6350.677928461539,
          6108.950120769231,
          5965.3150723076915,
          5842.998582307691,
          5807.2309323076925,
          5776.403989230769,
          5606.667970769231,
          5697.0741384615385,
          5978.85366,
          6254.597437692308,
          6462.063486923077,
          6688.695650769232,
          6767.060144615384,
          6762.384094615385,
          6668.7528807692315,
          6619.398513076922,
          6621.313908461539,
          6745.857963076923,
          7443.720403846154,
          7698.258128461539,
          7595.629643076923,
          7356.0473146153845,
          6969.781076153846,
          6847.656811265823,
          6454.106359493671,
          6266.302229493671,
          6130.97889670886,
          6059.434369493671,
          6211.335452405064,
          6582.254981265823,
          6700.550197341772,
          7076.702672278481,
          7480.690894683544,
          7738.10117443038,
          8035.189337468354,
          8245.955765443037,
          8144.478683670886,
          8172.818343291139,
          8262.130560506328,
          8295.98884392405,
          8218.998461012658,
          8063.687681012658,
          8562.947623670885,
          8731.144216582277,
          8474.942987215189,
          8011.675823924051,
          7365.945061898735,
          6432.303634615385,
          6421.685367692307,
          6154.561653076924,
          5932.140770000001,
          5818.657873846154,
          5784.925706923077,
          5736.703513076923,
          5591.231033076922,
          5799.236140769231,
          6127.702516153846,
          6409.055970769231,
          6640.532416923077,
          6821.942157692308,
          6904.474543846153,
          6887.437827692308,
          6769.92176,
          6734.453570769231,
          6727.810320769231,
          6816.061065384615,
          7512.844233846154,
          7776.3861969230775,
          7633.268868461538,
          7311.333096153846,
          6873.310323076923,
          6385.33633721519,
          6026.328163544304,
          5849.1307310126585,
          5712.503489999999,
          5647.2053124050635,
          5764.395988227848,
          6016.26141392405,
          6136.127457341772,
          6522.436893164558,
          6914.090959367088,
          7160.282352151899,
          7452.5144394936715,
          7659.635978481012,
          7558.780275949366,
          7603.260104810126,
          7733.48486278481,
          7751.205485063292,
          7673.743007974684,
          7473.949401392406,
          7955.02261,
          8241.03769506329,
          8025.618745063291,
          7547.375524303797,
          6929.852446582278,
          5864.617354615385,
          5846.774751538461,
          5600.369943076925,
          5485.227504615385,
          5380.772219230769,
          5315.251050000001,
          5266.476606923077,
          5076.346262307692,
          5286.539598461539,
          5516.097713846154,
          5709.3547538461535,
          5881.220344615385,
          6083.980764615385,
          6203.098288461538,
          6206.445158461539,
          6111.841375384614,
          6084.327934615385,
          6081.669078461538,
          6096.566029230768,
          6698.18988,
          7081.583833076923,
          6987.000079230769,
          6735.383935384615,
          6281.592903846154,
          5993.423220897436,
          5594.859225128205,
          5363.467312307692,
          5204.958051282051,
          5103.483736538461,
          5220.94516974359,
          5504.398117692308,
          5615.6338762820515,
          5935.690781282053,
          6261.673735897436,
          6451.9525635897435,
          6731.771894230769,
          6955.672827179487,
          6890.335423717947,
          6973.928537820513,
          7125.071372820514,
          7169.512970384616,
          7177.683676794872,
          7188.828965897436,
          7666.262459871795,
          7642.687605897436,
          7431.065333333333,
          7046.3990973076925,
          6504.582062179487,
          5544.945588461539,
          5363.25542923077,
          5143.583765384616,
          4950.596946153846,
          4723.031037692308,
          4656.888716153846,
          4594.829226923077,
          4413.609333846153,
          4542.767375384615,
          4773.068235384615,
          5012.92592,
          5223.740148461539,
          5441.458928461538,
          5551.433135384616,
          5538.296462307692,
          5470.646457692308,
          5467.866978461539,
          5583.87779923077,
          5822.022386153846,
          6572.4686161538475,
          6771.177505384615,
          6695.84755076923,
          6442.930586153846,
          6011.495091538461
         ],
         "yaxis": "y"
        }
       ],
       "layout": {
        "legend": {
         "title": {
          "text": "Tech"
         },
         "tracegroupgap": 0
        },
        "plot_bgcolor": "white",
        "template": {
         "data": {
          "bar": [
           {
            "error_x": {
             "color": "#2a3f5f"
            },
            "error_y": {
             "color": "#2a3f5f"
            },
            "marker": {
             "line": {
              "color": "#E5ECF6",
              "width": 0.5
             },
             "pattern": {
              "fillmode": "overlay",
              "size": 10,
              "solidity": 0.2
             }
            },
            "type": "bar"
           }
          ],
          "barpolar": [
           {
            "marker": {
             "line": {
              "color": "#E5ECF6",
              "width": 0.5
             },
             "pattern": {
              "fillmode": "overlay",
              "size": 10,
              "solidity": 0.2
             }
            },
            "type": "barpolar"
           }
          ],
          "carpet": [
           {
            "aaxis": {
             "endlinecolor": "#2a3f5f",
             "gridcolor": "white",
             "linecolor": "white",
             "minorgridcolor": "white",
             "startlinecolor": "#2a3f5f"
            },
            "baxis": {
             "endlinecolor": "#2a3f5f",
             "gridcolor": "white",
             "linecolor": "white",
             "minorgridcolor": "white",
             "startlinecolor": "#2a3f5f"
            },
            "type": "carpet"
           }
          ],
          "choropleth": [
           {
            "colorbar": {
             "outlinewidth": 0,
             "ticks": ""
            },
            "type": "choropleth"
           }
          ],
          "contour": [
           {
            "colorbar": {
             "outlinewidth": 0,
             "ticks": ""
            },
            "colorscale": [
             [
              0,
              "#0d0887"
             ],
             [
              0.1111111111111111,
              "#46039f"
             ],
             [
              0.2222222222222222,
              "#7201a8"
             ],
             [
              0.3333333333333333,
              "#9c179e"
             ],
             [
              0.4444444444444444,
              "#bd3786"
             ],
             [
              0.5555555555555556,
              "#d8576b"
             ],
             [
              0.6666666666666666,
              "#ed7953"
             ],
             [
              0.7777777777777778,
              "#fb9f3a"
             ],
             [
              0.8888888888888888,
              "#fdca26"
             ],
             [
              1,
              "#f0f921"
             ]
            ],
            "type": "contour"
           }
          ],
          "contourcarpet": [
           {
            "colorbar": {
             "outlinewidth": 0,
             "ticks": ""
            },
            "type": "contourcarpet"
           }
          ],
          "heatmap": [
           {
            "colorbar": {
             "outlinewidth": 0,
             "ticks": ""
            },
            "colorscale": [
             [
              0,
              "#0d0887"
             ],
             [
              0.1111111111111111,
              "#46039f"
             ],
             [
              0.2222222222222222,
              "#7201a8"
             ],
             [
              0.3333333333333333,
              "#9c179e"
             ],
             [
              0.4444444444444444,
              "#bd3786"
             ],
             [
              0.5555555555555556,
              "#d8576b"
             ],
             [
              0.6666666666666666,
              "#ed7953"
             ],
             [
              0.7777777777777778,
              "#fb9f3a"
             ],
             [
              0.8888888888888888,
              "#fdca26"
             ],
             [
              1,
              "#f0f921"
             ]
            ],
            "type": "heatmap"
           }
          ],
          "heatmapgl": [
           {
            "colorbar": {
             "outlinewidth": 0,
             "ticks": ""
            },
            "colorscale": [
             [
              0,
              "#0d0887"
             ],
             [
              0.1111111111111111,
              "#46039f"
             ],
             [
              0.2222222222222222,
              "#7201a8"
             ],
             [
              0.3333333333333333,
              "#9c179e"
             ],
             [
              0.4444444444444444,
              "#bd3786"
             ],
             [
              0.5555555555555556,
              "#d8576b"
             ],
             [
              0.6666666666666666,
              "#ed7953"
             ],
             [
              0.7777777777777778,
              "#fb9f3a"
             ],
             [
              0.8888888888888888,
              "#fdca26"
             ],
             [
              1,
              "#f0f921"
             ]
            ],
            "type": "heatmapgl"
           }
          ],
          "histogram": [
           {
            "marker": {
             "pattern": {
              "fillmode": "overlay",
              "size": 10,
              "solidity": 0.2
             }
            },
            "type": "histogram"
           }
          ],
          "histogram2d": [
           {
            "colorbar": {
             "outlinewidth": 0,
             "ticks": ""
            },
            "colorscale": [
             [
              0,
              "#0d0887"
             ],
             [
              0.1111111111111111,
              "#46039f"
             ],
             [
              0.2222222222222222,
              "#7201a8"
             ],
             [
              0.3333333333333333,
              "#9c179e"
             ],
             [
              0.4444444444444444,
              "#bd3786"
             ],
             [
              0.5555555555555556,
              "#d8576b"
             ],
             [
              0.6666666666666666,
              "#ed7953"
             ],
             [
              0.7777777777777778,
              "#fb9f3a"
             ],
             [
              0.8888888888888888,
              "#fdca26"
             ],
             [
              1,
              "#f0f921"
             ]
            ],
            "type": "histogram2d"
           }
          ],
          "histogram2dcontour": [
           {
            "colorbar": {
             "outlinewidth": 0,
             "ticks": ""
            },
            "colorscale": [
             [
              0,
              "#0d0887"
             ],
             [
              0.1111111111111111,
              "#46039f"
             ],
             [
              0.2222222222222222,
              "#7201a8"
             ],
             [
              0.3333333333333333,
              "#9c179e"
             ],
             [
              0.4444444444444444,
              "#bd3786"
             ],
             [
              0.5555555555555556,
              "#d8576b"
             ],
             [
              0.6666666666666666,
              "#ed7953"
             ],
             [
              0.7777777777777778,
              "#fb9f3a"
             ],
             [
              0.8888888888888888,
              "#fdca26"
             ],
             [
              1,
              "#f0f921"
             ]
            ],
            "type": "histogram2dcontour"
           }
          ],
          "mesh3d": [
           {
            "colorbar": {
             "outlinewidth": 0,
             "ticks": ""
            },
            "type": "mesh3d"
           }
          ],
          "parcoords": [
           {
            "line": {
             "colorbar": {
              "outlinewidth": 0,
              "ticks": ""
             }
            },
            "type": "parcoords"
           }
          ],
          "pie": [
           {
            "automargin": true,
            "type": "pie"
           }
          ],
          "scatter": [
           {
            "fillpattern": {
             "fillmode": "overlay",
             "size": 10,
             "solidity": 0.2
            },
            "type": "scatter"
           }
          ],
          "scatter3d": [
           {
            "line": {
             "colorbar": {
              "outlinewidth": 0,
              "ticks": ""
             }
            },
            "marker": {
             "colorbar": {
              "outlinewidth": 0,
              "ticks": ""
             }
            },
            "type": "scatter3d"
           }
          ],
          "scattercarpet": [
           {
            "marker": {
             "colorbar": {
              "outlinewidth": 0,
              "ticks": ""
             }
            },
            "type": "scattercarpet"
           }
          ],
          "scattergeo": [
           {
            "marker": {
             "colorbar": {
              "outlinewidth": 0,
              "ticks": ""
             }
            },
            "type": "scattergeo"
           }
          ],
          "scattergl": [
           {
            "marker": {
             "colorbar": {
              "outlinewidth": 0,
              "ticks": ""
             }
            },
            "type": "scattergl"
           }
          ],
          "scattermapbox": [
           {
            "marker": {
             "colorbar": {
              "outlinewidth": 0,
              "ticks": ""
             }
            },
            "type": "scattermapbox"
           }
          ],
          "scatterpolar": [
           {
            "marker": {
             "colorbar": {
              "outlinewidth": 0,
              "ticks": ""
             }
            },
            "type": "scatterpolar"
           }
          ],
          "scatterpolargl": [
           {
            "marker": {
             "colorbar": {
              "outlinewidth": 0,
              "ticks": ""
             }
            },
            "type": "scatterpolargl"
           }
          ],
          "scatterternary": [
           {
            "marker": {
             "colorbar": {
              "outlinewidth": 0,
              "ticks": ""
             }
            },
            "type": "scatterternary"
           }
          ],
          "surface": [
           {
            "colorbar": {
             "outlinewidth": 0,
             "ticks": ""
            },
            "colorscale": [
             [
              0,
              "#0d0887"
             ],
             [
              0.1111111111111111,
              "#46039f"
             ],
             [
              0.2222222222222222,
              "#7201a8"
             ],
             [
              0.3333333333333333,
              "#9c179e"
             ],
             [
              0.4444444444444444,
              "#bd3786"
             ],
             [
              0.5555555555555556,
              "#d8576b"
             ],
             [
              0.6666666666666666,
              "#ed7953"
             ],
             [
              0.7777777777777778,
              "#fb9f3a"
             ],
             [
              0.8888888888888888,
              "#fdca26"
             ],
             [
              1,
              "#f0f921"
             ]
            ],
            "type": "surface"
           }
          ],
          "table": [
           {
            "cells": {
             "fill": {
              "color": "#EBF0F8"
             },
             "line": {
              "color": "white"
             }
            },
            "header": {
             "fill": {
              "color": "#C8D4E3"
             },
             "line": {
              "color": "white"
             }
            },
            "type": "table"
           }
          ]
         },
         "layout": {
          "annotationdefaults": {
           "arrowcolor": "#2a3f5f",
           "arrowhead": 0,
           "arrowwidth": 1
          },
          "autotypenumbers": "strict",
          "coloraxis": {
           "colorbar": {
            "outlinewidth": 0,
            "ticks": ""
           }
          },
          "colorscale": {
           "diverging": [
            [
             0,
             "#8e0152"
            ],
            [
             0.1,
             "#c51b7d"
            ],
            [
             0.2,
             "#de77ae"
            ],
            [
             0.3,
             "#f1b6da"
            ],
            [
             0.4,
             "#fde0ef"
            ],
            [
             0.5,
             "#f7f7f7"
            ],
            [
             0.6,
             "#e6f5d0"
            ],
            [
             0.7,
             "#b8e186"
            ],
            [
             0.8,
             "#7fbc41"
            ],
            [
             0.9,
             "#4d9221"
            ],
            [
             1,
             "#276419"
            ]
           ],
           "sequential": [
            [
             0,
             "#0d0887"
            ],
            [
             0.1111111111111111,
             "#46039f"
            ],
            [
             0.2222222222222222,
             "#7201a8"
            ],
            [
             0.3333333333333333,
             "#9c179e"
            ],
            [
             0.4444444444444444,
             "#bd3786"
            ],
            [
             0.5555555555555556,
             "#d8576b"
            ],
            [
             0.6666666666666666,
             "#ed7953"
            ],
            [
             0.7777777777777778,
             "#fb9f3a"
            ],
            [
             0.8888888888888888,
             "#fdca26"
            ],
            [
             1,
             "#f0f921"
            ]
           ],
           "sequentialminus": [
            [
             0,
             "#0d0887"
            ],
            [
             0.1111111111111111,
             "#46039f"
            ],
            [
             0.2222222222222222,
             "#7201a8"
            ],
            [
             0.3333333333333333,
             "#9c179e"
            ],
            [
             0.4444444444444444,
             "#bd3786"
            ],
            [
             0.5555555555555556,
             "#d8576b"
            ],
            [
             0.6666666666666666,
             "#ed7953"
            ],
            [
             0.7777777777777778,
             "#fb9f3a"
            ],
            [
             0.8888888888888888,
             "#fdca26"
            ],
            [
             1,
             "#f0f921"
            ]
           ]
          },
          "colorway": [
           "#636efa",
           "#EF553B",
           "#00cc96",
           "#ab63fa",
           "#FFA15A",
           "#19d3f3",
           "#FF6692",
           "#B6E880",
           "#FF97FF",
           "#FECB52"
          ],
          "font": {
           "color": "#2a3f5f"
          },
          "geo": {
           "bgcolor": "white",
           "lakecolor": "white",
           "landcolor": "#E5ECF6",
           "showlakes": true,
           "showland": true,
           "subunitcolor": "white"
          },
          "hoverlabel": {
           "align": "left"
          },
          "hovermode": "closest",
          "mapbox": {
           "style": "light"
          },
          "paper_bgcolor": "white",
          "plot_bgcolor": "#E5ECF6",
          "polar": {
           "angularaxis": {
            "gridcolor": "white",
            "linecolor": "white",
            "ticks": ""
           },
           "bgcolor": "#E5ECF6",
           "radialaxis": {
            "gridcolor": "white",
            "linecolor": "white",
            "ticks": ""
           }
          },
          "scene": {
           "xaxis": {
            "backgroundcolor": "#E5ECF6",
            "gridcolor": "white",
            "gridwidth": 2,
            "linecolor": "white",
            "showbackground": true,
            "ticks": "",
            "zerolinecolor": "white"
           },
           "yaxis": {
            "backgroundcolor": "#E5ECF6",
            "gridcolor": "white",
            "gridwidth": 2,
            "linecolor": "white",
            "showbackground": true,
            "ticks": "",
            "zerolinecolor": "white"
           },
           "zaxis": {
            "backgroundcolor": "#E5ECF6",
            "gridcolor": "white",
            "gridwidth": 2,
            "linecolor": "white",
            "showbackground": true,
            "ticks": "",
            "zerolinecolor": "white"
           }
          },
          "shapedefaults": {
           "line": {
            "color": "#2a3f5f"
           }
          },
          "ternary": {
           "aaxis": {
            "gridcolor": "white",
            "linecolor": "white",
            "ticks": ""
           },
           "baxis": {
            "gridcolor": "white",
            "linecolor": "white",
            "ticks": ""
           },
           "bgcolor": "#E5ECF6",
           "caxis": {
            "gridcolor": "white",
            "linecolor": "white",
            "ticks": ""
           }
          },
          "title": {
           "x": 0.05
          },
          "xaxis": {
           "automargin": true,
           "gridcolor": "white",
           "linecolor": "white",
           "ticks": "",
           "title": {
            "standoff": 15
           },
           "zerolinecolor": "white",
           "zerolinewidth": 2
          },
          "yaxis": {
           "automargin": true,
           "gridcolor": "white",
           "linecolor": "white",
           "ticks": "",
           "title": {
            "standoff": 15
           },
           "zerolinecolor": "white",
           "zerolinewidth": 2
          }
         }
        },
        "title": {
         "text": "Generation by Technology (XM)"
        },
        "xaxis": {
         "anchor": "y",
         "domain": [
          0,
          1
         ],
         "gridcolor": "lightgray",
         "title": {
          "text": "timestamp"
         }
        },
        "yaxis": {
         "anchor": "x",
         "domain": [
          0,
          1
         ],
         "gridcolor": "lightgray",
         "title": {
          "text": "DispatchGen_MW"
         }
        }
       }
      }
     },
     "metadata": {},
     "output_type": "display_data"
    }
   ],
   "source": [
    "gen_res = dispatch_xm.copy()\n",
    "gen_res['Tech'] = gen_res['Values_Type']\n",
    "# Change values on Tech to match Switch output\n",
    "gen_res['Tech'] = gen_res['Tech'].replace({\n",
    "        'EOLICA': 'Eolica', 'TERMICA': 'Thermal',\n",
    "        'SOLAR': 'Solar','HIDRAULICA': 'Hidro',\n",
    "        'COGENERADOR': 'Menores'})\n",
    "# Replace prefix 'labor_' by 'L_' and 'holidays_' by 'H_'\n",
    "gen_res['timestamp'] = gen_res['timestamp'].str.replace('labor_', 'L_')\n",
    "gen_res['timestamp'] = gen_res['timestamp'].str.replace('holidays_', 'H_')\n",
    "\n",
    "import plotly.express as px\n",
    "fig = px.line(\n",
    "    gen_res,\n",
    "    x='timestamp', y='DispatchGen_MW',\n",
    "    color='Tech', title='Generation by Technology (XM)',\n",
    "    labels={'GeneReal': 'Reported Generation (MW)'}\n",
    ")\n",
    "fig.update_layout(plot_bgcolor='white',xaxis=dict(gridcolor='lightgray'),yaxis=dict(gridcolor='lightgray'))\n",
    "fig.show()"
   ]
  },
  {
   "cell_type": "markdown",
   "metadata": {},
   "source": [
    "### 3.4.4 Dispatch by Technology Switch"
   ]
  },
  {
   "cell_type": "code",
   "execution_count": 75,
   "metadata": {},
   "outputs": [
    {
     "data": {
      "application/vnd.plotly.v1+json": {
       "config": {
        "plotlyServerURL": "https://plot.ly"
       },
       "data": [
        {
         "hovertemplate": "Tech=Eolica<br>timestamp=%{x}<br>DispatchGen_MW=%{y}<extra></extra>",
         "legendgroup": "Eolica",
         "line": {
          "color": "#636efa",
          "dash": "solid"
         },
         "marker": {
          "symbol": "circle"
         },
         "mode": "lines",
         "name": "Eolica",
         "showlegend": true,
         "type": "scattergl",
         "x": [
          "2023_Q1_L_0h",
          "2023_Q1_L_1h",
          "2023_Q1_L_2h",
          "2023_Q1_L_3h",
          "2023_Q1_L_4h",
          "2023_Q1_L_5h",
          "2023_Q1_L_6h",
          "2023_Q1_L_7h",
          "2023_Q1_L_8h",
          "2023_Q1_L_9h",
          "2023_Q1_L_10h",
          "2023_Q1_L_11h",
          "2023_Q1_L_12h",
          "2023_Q1_L_13h",
          "2023_Q1_L_14h",
          "2023_Q1_L_15h",
          "2023_Q1_L_16h",
          "2023_Q1_L_17h",
          "2023_Q1_L_18h",
          "2023_Q1_L_19h",
          "2023_Q1_L_20h",
          "2023_Q1_L_21h",
          "2023_Q1_L_22h",
          "2023_Q1_L_23h",
          "2023_Q1_H_0h",
          "2023_Q1_H_1h",
          "2023_Q1_H_2h",
          "2023_Q1_H_3h",
          "2023_Q1_H_4h",
          "2023_Q1_H_5h",
          "2023_Q1_H_6h",
          "2023_Q1_H_7h",
          "2023_Q1_H_8h",
          "2023_Q1_H_9h",
          "2023_Q1_H_10h",
          "2023_Q1_H_11h",
          "2023_Q1_H_12h",
          "2023_Q1_H_13h",
          "2023_Q1_H_14h",
          "2023_Q1_H_15h",
          "2023_Q1_H_16h",
          "2023_Q1_H_17h",
          "2023_Q1_H_18h",
          "2023_Q1_H_19h",
          "2023_Q1_H_20h",
          "2023_Q1_H_21h",
          "2023_Q1_H_22h",
          "2023_Q1_H_23h",
          "2023_Q2_L_0h",
          "2023_Q2_L_1h",
          "2023_Q2_L_2h",
          "2023_Q2_L_3h",
          "2023_Q2_L_4h",
          "2023_Q2_L_5h",
          "2023_Q2_L_6h",
          "2023_Q2_L_7h",
          "2023_Q2_L_8h",
          "2023_Q2_L_9h",
          "2023_Q2_L_10h",
          "2023_Q2_L_11h",
          "2023_Q2_L_12h",
          "2023_Q2_L_13h",
          "2023_Q2_L_14h",
          "2023_Q2_L_15h",
          "2023_Q2_L_16h",
          "2023_Q2_L_17h",
          "2023_Q2_L_18h",
          "2023_Q2_L_19h",
          "2023_Q2_L_20h",
          "2023_Q2_L_21h",
          "2023_Q2_L_22h",
          "2023_Q2_L_23h",
          "2023_Q2_H_0h",
          "2023_Q2_H_1h",
          "2023_Q2_H_2h",
          "2023_Q2_H_3h",
          "2023_Q2_H_4h",
          "2023_Q2_H_5h",
          "2023_Q2_H_6h",
          "2023_Q2_H_7h",
          "2023_Q2_H_8h",
          "2023_Q2_H_9h",
          "2023_Q2_H_10h",
          "2023_Q2_H_11h",
          "2023_Q2_H_12h",
          "2023_Q2_H_13h",
          "2023_Q2_H_14h",
          "2023_Q2_H_15h",
          "2023_Q2_H_16h",
          "2023_Q2_H_17h",
          "2023_Q2_H_18h",
          "2023_Q2_H_19h",
          "2023_Q2_H_20h",
          "2023_Q2_H_21h",
          "2023_Q2_H_22h",
          "2023_Q2_H_23h",
          "2023_Q3_L_0h",
          "2023_Q3_L_1h",
          "2023_Q3_L_2h",
          "2023_Q3_L_3h",
          "2023_Q3_L_4h",
          "2023_Q3_L_5h",
          "2023_Q3_L_6h",
          "2023_Q3_L_7h",
          "2023_Q3_L_8h",
          "2023_Q3_L_9h",
          "2023_Q3_L_10h",
          "2023_Q3_L_11h",
          "2023_Q3_L_12h",
          "2023_Q3_L_13h",
          "2023_Q3_L_14h",
          "2023_Q3_L_15h",
          "2023_Q3_L_16h",
          "2023_Q3_L_17h",
          "2023_Q3_L_18h",
          "2023_Q3_L_19h",
          "2023_Q3_L_20h",
          "2023_Q3_L_21h",
          "2023_Q3_L_22h",
          "2023_Q3_L_23h",
          "2023_Q3_H_0h",
          "2023_Q3_H_1h",
          "2023_Q3_H_2h",
          "2023_Q3_H_3h",
          "2023_Q3_H_4h",
          "2023_Q3_H_5h",
          "2023_Q3_H_6h",
          "2023_Q3_H_7h",
          "2023_Q3_H_8h",
          "2023_Q3_H_9h",
          "2023_Q3_H_10h",
          "2023_Q3_H_11h",
          "2023_Q3_H_12h",
          "2023_Q3_H_13h",
          "2023_Q3_H_14h",
          "2023_Q3_H_15h",
          "2023_Q3_H_16h",
          "2023_Q3_H_17h",
          "2023_Q3_H_18h",
          "2023_Q3_H_19h",
          "2023_Q3_H_20h",
          "2023_Q3_H_21h",
          "2023_Q3_H_22h",
          "2023_Q3_H_23h",
          "2023_Q4_L_0h",
          "2023_Q4_L_1h",
          "2023_Q4_L_2h",
          "2023_Q4_L_3h",
          "2023_Q4_L_4h",
          "2023_Q4_L_5h",
          "2023_Q4_L_6h",
          "2023_Q4_L_7h",
          "2023_Q4_L_8h",
          "2023_Q4_L_9h",
          "2023_Q4_L_10h",
          "2023_Q4_L_11h",
          "2023_Q4_L_12h",
          "2023_Q4_L_13h",
          "2023_Q4_L_14h",
          "2023_Q4_L_15h",
          "2023_Q4_L_16h",
          "2023_Q4_L_17h",
          "2023_Q4_L_18h",
          "2023_Q4_L_19h",
          "2023_Q4_L_20h",
          "2023_Q4_L_21h",
          "2023_Q4_L_22h",
          "2023_Q4_L_23h",
          "2023_Q4_H_0h",
          "2023_Q4_H_1h",
          "2023_Q4_H_2h",
          "2023_Q4_H_3h",
          "2023_Q4_H_4h",
          "2023_Q4_H_5h",
          "2023_Q4_H_6h",
          "2023_Q4_H_7h",
          "2023_Q4_H_8h",
          "2023_Q4_H_9h",
          "2023_Q4_H_10h",
          "2023_Q4_H_11h",
          "2023_Q4_H_12h",
          "2023_Q4_H_13h",
          "2023_Q4_H_14h",
          "2023_Q4_H_15h",
          "2023_Q4_H_16h",
          "2023_Q4_H_17h",
          "2023_Q4_H_18h",
          "2023_Q4_H_19h",
          "2023_Q4_H_20h",
          "2023_Q4_H_21h",
          "2023_Q4_H_22h",
          "2023_Q4_H_23h",
          "2024_Q1_L_0h",
          "2024_Q1_L_1h",
          "2024_Q1_L_2h",
          "2024_Q1_L_3h",
          "2024_Q1_L_4h",
          "2024_Q1_L_5h",
          "2024_Q1_L_6h",
          "2024_Q1_L_7h",
          "2024_Q1_L_8h",
          "2024_Q1_L_9h",
          "2024_Q1_L_10h",
          "2024_Q1_L_11h",
          "2024_Q1_L_12h",
          "2024_Q1_L_13h",
          "2024_Q1_L_14h",
          "2024_Q1_L_15h",
          "2024_Q1_L_16h",
          "2024_Q1_L_17h",
          "2024_Q1_L_18h",
          "2024_Q1_L_19h",
          "2024_Q1_L_20h",
          "2024_Q1_L_21h",
          "2024_Q1_L_22h",
          "2024_Q1_L_23h",
          "2024_Q1_H_0h",
          "2024_Q1_H_1h",
          "2024_Q1_H_2h",
          "2024_Q1_H_3h",
          "2024_Q1_H_4h",
          "2024_Q1_H_5h",
          "2024_Q1_H_6h",
          "2024_Q1_H_7h",
          "2024_Q1_H_8h",
          "2024_Q1_H_9h",
          "2024_Q1_H_10h",
          "2024_Q1_H_11h",
          "2024_Q1_H_12h",
          "2024_Q1_H_13h",
          "2024_Q1_H_14h",
          "2024_Q1_H_15h",
          "2024_Q1_H_16h",
          "2024_Q1_H_17h",
          "2024_Q1_H_18h",
          "2024_Q1_H_19h",
          "2024_Q1_H_20h",
          "2024_Q1_H_21h",
          "2024_Q1_H_22h",
          "2024_Q1_H_23h",
          "2024_Q2_L_0h",
          "2024_Q2_L_1h",
          "2024_Q2_L_2h",
          "2024_Q2_L_3h",
          "2024_Q2_L_4h",
          "2024_Q2_L_5h",
          "2024_Q2_L_6h",
          "2024_Q2_L_7h",
          "2024_Q2_L_8h",
          "2024_Q2_L_9h",
          "2024_Q2_L_10h",
          "2024_Q2_L_11h",
          "2024_Q2_L_12h",
          "2024_Q2_L_13h",
          "2024_Q2_L_14h",
          "2024_Q2_L_15h",
          "2024_Q2_L_16h",
          "2024_Q2_L_17h",
          "2024_Q2_L_18h",
          "2024_Q2_L_19h",
          "2024_Q2_L_20h",
          "2024_Q2_L_21h",
          "2024_Q2_L_22h",
          "2024_Q2_L_23h",
          "2024_Q2_H_0h",
          "2024_Q2_H_1h",
          "2024_Q2_H_2h",
          "2024_Q2_H_3h",
          "2024_Q2_H_4h",
          "2024_Q2_H_5h",
          "2024_Q2_H_6h",
          "2024_Q2_H_7h",
          "2024_Q2_H_8h",
          "2024_Q2_H_9h",
          "2024_Q2_H_10h",
          "2024_Q2_H_11h",
          "2024_Q2_H_12h",
          "2024_Q2_H_13h",
          "2024_Q2_H_14h",
          "2024_Q2_H_15h",
          "2024_Q2_H_16h",
          "2024_Q2_H_17h",
          "2024_Q2_H_18h",
          "2024_Q2_H_19h",
          "2024_Q2_H_20h",
          "2024_Q2_H_21h",
          "2024_Q2_H_22h",
          "2024_Q2_H_23h",
          "2024_Q3_L_0h",
          "2024_Q3_L_1h",
          "2024_Q3_L_2h",
          "2024_Q3_L_3h",
          "2024_Q3_L_4h",
          "2024_Q3_L_5h",
          "2024_Q3_L_6h",
          "2024_Q3_L_7h",
          "2024_Q3_L_8h",
          "2024_Q3_L_9h",
          "2024_Q3_L_10h",
          "2024_Q3_L_11h",
          "2024_Q3_L_12h",
          "2024_Q3_L_13h",
          "2024_Q3_L_14h",
          "2024_Q3_L_15h",
          "2024_Q3_L_16h",
          "2024_Q3_L_17h",
          "2024_Q3_L_18h",
          "2024_Q3_L_19h",
          "2024_Q3_L_20h",
          "2024_Q3_L_21h",
          "2024_Q3_L_22h",
          "2024_Q3_L_23h",
          "2024_Q3_H_0h",
          "2024_Q3_H_1h",
          "2024_Q3_H_2h",
          "2024_Q3_H_3h",
          "2024_Q3_H_4h",
          "2024_Q3_H_5h",
          "2024_Q3_H_6h",
          "2024_Q3_H_7h",
          "2024_Q3_H_8h",
          "2024_Q3_H_9h",
          "2024_Q3_H_10h",
          "2024_Q3_H_11h",
          "2024_Q3_H_12h",
          "2024_Q3_H_13h",
          "2024_Q3_H_14h",
          "2024_Q3_H_15h",
          "2024_Q3_H_16h",
          "2024_Q3_H_17h",
          "2024_Q3_H_18h",
          "2024_Q3_H_19h",
          "2024_Q3_H_20h",
          "2024_Q3_H_21h",
          "2024_Q3_H_22h",
          "2024_Q3_H_23h",
          "2024_Q4_L_0h",
          "2024_Q4_L_1h",
          "2024_Q4_L_2h",
          "2024_Q4_L_3h",
          "2024_Q4_L_4h",
          "2024_Q4_L_5h",
          "2024_Q4_L_6h",
          "2024_Q4_L_7h",
          "2024_Q4_L_8h",
          "2024_Q4_L_9h",
          "2024_Q4_L_10h",
          "2024_Q4_L_11h",
          "2024_Q4_L_12h",
          "2024_Q4_L_13h",
          "2024_Q4_L_14h",
          "2024_Q4_L_15h",
          "2024_Q4_L_16h",
          "2024_Q4_L_17h",
          "2024_Q4_L_18h",
          "2024_Q4_L_19h",
          "2024_Q4_L_20h",
          "2024_Q4_L_21h",
          "2024_Q4_L_22h",
          "2024_Q4_L_23h",
          "2024_Q4_H_0h",
          "2024_Q4_H_1h",
          "2024_Q4_H_2h",
          "2024_Q4_H_3h",
          "2024_Q4_H_4h",
          "2024_Q4_H_5h",
          "2024_Q4_H_6h",
          "2024_Q4_H_7h",
          "2024_Q4_H_8h",
          "2024_Q4_H_9h",
          "2024_Q4_H_10h",
          "2024_Q4_H_11h",
          "2024_Q4_H_12h",
          "2024_Q4_H_13h",
          "2024_Q4_H_14h",
          "2024_Q4_H_15h",
          "2024_Q4_H_16h",
          "2024_Q4_H_17h",
          "2024_Q4_H_18h",
          "2024_Q4_H_19h",
          "2024_Q4_H_20h",
          "2024_Q4_H_21h",
          "2024_Q4_H_22h",
          "2024_Q4_H_23h"
         ],
         "xaxis": "x",
         "y": [
          26.73449725036541,
          26.528070194126386,
          26.31629162651553,
          26.24277992041465,
          26.115741518258094,
          26.06889442888651,
          25.920076985377012,
          25.694144132211115,
          25.60068975476376,
          25.49268963653835,
          25.567607094421707,
          25.414492893944047,
          25.403130578641786,
          25.47265958068173,
          25.73553808266646,
          26.083120673332154,
          26.691334757505082,
          27.851461941721247,
          28.59567932394805,
          28.63813130215292,
          28.518859818967474,
          28.189687860785952,
          27.806896009689677,
          27.23506940183905,
          27.26037010005286,
          26.885536908889563,
          27.062806374675638,
          26.928477708884778,
          27.06158862547497,
          26.958932273976792,
          26.523018889370025,
          26.426519122555852,
          26.084425897913135,
          25.512858671431474,
          25.704769213088227,
          25.487744934559522,
          25.278023850813696,
          25.236955990301283,
          25.57232285848452,
          26.04133608038204,
          26.969460089344686,
          28.142248665089028,
          28.766824093464784,
          28.631740747265955,
          28.493408647221734,
          28.14828612208076,
          27.634495569098632,
          27.10016843454105,
          25.679397479979396,
          25.43824605684126,
          25.204193395233613,
          25.106095834704842,
          25.081052243614486,
          24.962213841809138,
          24.26148280791469,
          23.96331906919397,
          23.77564613164988,
          24.039980888248124,
          24.252849815372972,
          24.313333769485148,
          24.023327647017503,
          23.87481702169923,
          23.992102012426773,
          24.522127263472598,
          24.942546337928924,
          25.968307306671434,
          26.789490526837138,
          26.919501563336908,
          26.834019674490147,
          26.712494840000982,
          26.379345428588316,
          26.00917367798703,
          25.614850480281717,
          25.30629963290341,
          25.562058029329393,
          25.543345113129135,
          25.368543875374936,
          25.34568970052875,
          24.18549577480546,
          23.89714716294202,
          23.989358638026822,
          24.205449769886197,
          24.25886550126684,
          24.096028438413214,
          23.931376375105554,
          23.83397691927007,
          24.01388831903176,
          24.664622471256365,
          25.10867157340205,
          25.48386043222307,
          26.765102571626024,
          26.92089257585481,
          26.98054647124303,
          26.609076208504725,
          26.059902687636836,
          25.524126413894578,
          25.463390338444356,
          24.934802773000918,
          24.66730438000863,
          24.687987024189148,
          24.682560319008438,
          25.12698669841121,
          25.06592368244007,
          24.22365309091226,
          23.963238853614207,
          23.932224782308804,
          23.864722735281035,
          23.840450486098298,
          23.442764490840307,
          22.98554284830742,
          22.775258888975674,
          22.705778954630194,
          22.98348678395645,
          24.180902357185104,
          25.7650306351128,
          26.31310051512719,
          26.54402467401666,
          26.57052325758839,
          26.20549133591326,
          25.779775300384166,
          25.32267852541397,
          25.490098643968565,
          25.291046077894077,
          25.316400515427055,
          24.28683556860178,
          23.862554050495923,
          24.27889751005777,
          23.924215185563348,
          23.96596562597917,
          24.73524004818475,
          24.771652249683036,
          24.64463265742691,
          24.779823795416494,
          24.517738453299522,
          24.395339267358704,
          24.288452603863597,
          24.306884305563003,
          24.529924909526038,
          26.246370243288126,
          26.571354831009003,
          27.182808754628155,
          27.122735897575886,
          26.545015330381354,
          26.109324147875352,
          23.146410429912535,
          22.732786761091397,
          22.365699046942662,
          22.102069268443906,
          21.94410191743557,
          21.620243186048057,
          21.507381681041302,
          20.570059525842836,
          20.083698137191494,
          19.734495957008583,
          19.3764738410795,
          18.867363123234846,
          18.26258160583728,
          17.857888821197133,
          17.857781228220233,
          18.53044495426588,
          19.929312262619405,
          22.139097667288617,
          23.66058402709649,
          24.282111263771363,
          24.532119276044874,
          24.474305457212154,
          24.18732582929389,
          23.65385138859561,
          23.411801569360023,
          23.168812991719875,
          22.678764141483754,
          22.546773120214667,
          22.461422040410742,
          22.172241181145743,
          21.854135777067032,
          21.208636109801887,
          20.666621684697503,
          20.249388329909973,
          20.079566052943797,
          19.430804496179846,
          18.721497712512303,
          18.258222458381077,
          18.078706629341305,
          18.609822402731908,
          19.840054482988577,
          21.558328766553828,
          22.92486411003917,
          23.953875773430134,
          24.373493508911803,
          24.10129890687467,
          23.781039586391756,
          23.51755212358414,
          26.73449724949744,
          26.528070195396744,
          26.31629162774963,
          26.24277992164705,
          26.11574151948928,
          26.06889443011092,
          25.920076503429122,
          25.694144126413015,
          25.60068974282262,
          25.492689615356642,
          25.567606610069927,
          25.41449286748608,
          25.40313009432176,
          25.472659558278337,
          25.73553806455756,
          26.083120189753643,
          26.69133475215247,
          27.85146145994424,
          28.59567932450288,
          28.638131302415587,
          28.518859819209077,
          28.18968786102014,
          27.806896010232098,
          27.23506940239215,
          27.260370109261657,
          26.885536918135433,
          27.062806383946945,
          26.928477718474397,
          27.06158863502603,
          26.95893228356617,
          26.5230188969418,
          26.426519124222523,
          26.084425893186022,
          25.512858661095763,
          25.704769198094837,
          25.48774491796636,
          25.278023834130828,
          25.23695559398388,
          25.572322849870748,
          26.041336077423704,
          26.969460092543727,
          28.142248679411157,
          28.766824108760424,
          28.631740750741898,
          28.493408650680802,
          28.148286125532643,
          27.63449557257225,
          27.100168438117816,
          25.67939747914384,
          25.43824605719049,
          25.204193395549773,
          25.106095835026203,
          25.08105224393767,
          24.96221384208861,
          24.261482806229168,
          23.96331906294062,
          23.775645646604325,
          24.03998040232529,
          24.252849794894743,
          24.313333747557337,
          24.023327625363144,
          23.874817002177025,
          23.992101526655873,
          24.522127252448076,
          24.942546333024495,
          25.9683073057907,
          26.789490527385954,
          26.919501563593577,
          26.8340196747398,
          26.712494840250113,
          26.37934542915341,
          26.009173678580176,
          25.614850493522066,
          25.306299646067203,
          25.56205804255081,
          25.543345126778295,
          25.368543888897825,
          25.345689714056533,
          24.185495786417626,
          23.89714717007864,
          23.98935863995019,
          24.205449372868934,
          24.258865104235863,
          24.096028040899803,
          23.93137636726717,
          23.833976521397748,
          24.013888317125396,
          24.66462247634559,
          25.108671583242028,
          25.48386044617103,
          26.765102586976475,
          26.920892579388195,
          26.980546474771707,
          26.60907621200661,
          26.05990269114789,
          25.524126417433724,
          25.463390337583977,
          24.934802773285412,
          24.66730438029362,
          24.687987024474058,
          24.6825603192942,
          25.12698669860547,
          25.065923680769494,
          24.223652606249434,
          23.96323884292898,
          23.93222476783671,
          23.86472271782406,
          23.840450467009973,
          23.44276400445596,
          22.985542361478654,
          22.775258875009662,
          22.705778944745692,
          22.983486778196976,
          24.180901871603808,
          25.765030151167572,
          26.313100515707326,
          26.54402467462358,
          26.57052325813838,
          26.20549133662228,
          25.779775299553663,
          25.32267853897232,
          25.49009865751583,
          25.291046091476364,
          25.31640052903336,
          24.28683558222727,
          23.862554064064867,
          24.278897521759,
          23.92421519395571,
          23.965965629580854,
          24.735240047831418,
          24.771651853251726,
          24.644632260831074,
          24.779823398925103,
          24.51773844996142,
          24.39533926734549,
          24.28845260804419,
          24.306884316172592,
          24.52992492378958,
          26.24637025885241,
          26.571354846445985,
          27.18280875819496,
          27.122735901412806,
          26.545015345787874,
          26.109324161187267,
          23.146410430489585,
          22.732786760567677,
          22.365699046393853,
          22.10206926789549,
          21.944101916890716,
          21.620243185490228,
          21.507381679389574,
          20.57005903638065,
          20.083698128046883,
          19.73449546681454,
          19.376473825181964,
          18.86736310571409,
          18.26258111410621,
          17.857888329047825,
          17.857781215569254,
          18.5304444628293,
          19.92931177261242,
          22.139097666756047,
          23.66058402749418,
          24.28211126401843,
          24.53211927628749,
          24.47430545761995,
          24.187325829704534,
          23.65385138915136,
          23.411801581245935,
          23.168813003640132,
          22.678764151684753,
          22.54677313044518,
          22.461422050668624,
          22.172241191428583,
          21.854135786235645,
          21.2086357038935,
          20.666621278205128,
          20.249387922950106,
          20.079566047251223,
          19.430804088292042,
          18.72149770514127,
          18.25822245457601,
          18.078706219846424,
          18.60982199378229,
          19.840054490560185,
          21.558328777454378,
          22.92486370554105,
          23.95387577878257,
          24.373493514259202,
          24.101298912223918,
          23.781039591740942,
          23.51755213540061
         ],
         "yaxis": "y"
        },
        {
         "hovertemplate": "Tech=Hidro<br>timestamp=%{x}<br>DispatchGen_MW=%{y}<extra></extra>",
         "legendgroup": "Hidro",
         "line": {
          "color": "#EF553B",
          "dash": "solid"
         },
         "marker": {
          "symbol": "circle"
         },
         "mode": "lines",
         "name": "Hidro",
         "showlegend": true,
         "type": "scattergl",
         "x": [
          "2023_Q1_L_0h",
          "2023_Q1_L_1h",
          "2023_Q1_L_2h",
          "2023_Q1_L_3h",
          "2023_Q1_L_4h",
          "2023_Q1_L_5h",
          "2023_Q1_L_6h",
          "2023_Q1_L_7h",
          "2023_Q1_L_8h",
          "2023_Q1_L_9h",
          "2023_Q1_L_10h",
          "2023_Q1_L_11h",
          "2023_Q1_L_12h",
          "2023_Q1_L_13h",
          "2023_Q1_L_14h",
          "2023_Q1_L_15h",
          "2023_Q1_L_16h",
          "2023_Q1_L_17h",
          "2023_Q1_L_18h",
          "2023_Q1_L_19h",
          "2023_Q1_L_20h",
          "2023_Q1_L_21h",
          "2023_Q1_L_22h",
          "2023_Q1_L_23h",
          "2023_Q1_H_0h",
          "2023_Q1_H_1h",
          "2023_Q1_H_2h",
          "2023_Q1_H_3h",
          "2023_Q1_H_4h",
          "2023_Q1_H_5h",
          "2023_Q1_H_6h",
          "2023_Q1_H_7h",
          "2023_Q1_H_8h",
          "2023_Q1_H_9h",
          "2023_Q1_H_10h",
          "2023_Q1_H_11h",
          "2023_Q1_H_12h",
          "2023_Q1_H_13h",
          "2023_Q1_H_14h",
          "2023_Q1_H_15h",
          "2023_Q1_H_16h",
          "2023_Q1_H_17h",
          "2023_Q1_H_18h",
          "2023_Q1_H_19h",
          "2023_Q1_H_20h",
          "2023_Q1_H_21h",
          "2023_Q1_H_22h",
          "2023_Q1_H_23h",
          "2023_Q2_L_0h",
          "2023_Q2_L_1h",
          "2023_Q2_L_2h",
          "2023_Q2_L_3h",
          "2023_Q2_L_4h",
          "2023_Q2_L_5h",
          "2023_Q2_L_6h",
          "2023_Q2_L_7h",
          "2023_Q2_L_8h",
          "2023_Q2_L_9h",
          "2023_Q2_L_10h",
          "2023_Q2_L_11h",
          "2023_Q2_L_12h",
          "2023_Q2_L_13h",
          "2023_Q2_L_14h",
          "2023_Q2_L_15h",
          "2023_Q2_L_16h",
          "2023_Q2_L_17h",
          "2023_Q2_L_18h",
          "2023_Q2_L_19h",
          "2023_Q2_L_20h",
          "2023_Q2_L_21h",
          "2023_Q2_L_22h",
          "2023_Q2_L_23h",
          "2023_Q2_H_0h",
          "2023_Q2_H_1h",
          "2023_Q2_H_2h",
          "2023_Q2_H_3h",
          "2023_Q2_H_4h",
          "2023_Q2_H_5h",
          "2023_Q2_H_6h",
          "2023_Q2_H_7h",
          "2023_Q2_H_8h",
          "2023_Q2_H_9h",
          "2023_Q2_H_10h",
          "2023_Q2_H_11h",
          "2023_Q2_H_12h",
          "2023_Q2_H_13h",
          "2023_Q2_H_14h",
          "2023_Q2_H_15h",
          "2023_Q2_H_16h",
          "2023_Q2_H_17h",
          "2023_Q2_H_18h",
          "2023_Q2_H_19h",
          "2023_Q2_H_20h",
          "2023_Q2_H_21h",
          "2023_Q2_H_22h",
          "2023_Q2_H_23h",
          "2023_Q3_L_0h",
          "2023_Q3_L_1h",
          "2023_Q3_L_2h",
          "2023_Q3_L_3h",
          "2023_Q3_L_4h",
          "2023_Q3_L_5h",
          "2023_Q3_L_6h",
          "2023_Q3_L_7h",
          "2023_Q3_L_8h",
          "2023_Q3_L_9h",
          "2023_Q3_L_10h",
          "2023_Q3_L_11h",
          "2023_Q3_L_12h",
          "2023_Q3_L_13h",
          "2023_Q3_L_14h",
          "2023_Q3_L_15h",
          "2023_Q3_L_16h",
          "2023_Q3_L_17h",
          "2023_Q3_L_18h",
          "2023_Q3_L_19h",
          "2023_Q3_L_20h",
          "2023_Q3_L_21h",
          "2023_Q3_L_22h",
          "2023_Q3_L_23h",
          "2023_Q3_H_0h",
          "2023_Q3_H_1h",
          "2023_Q3_H_2h",
          "2023_Q3_H_3h",
          "2023_Q3_H_4h",
          "2023_Q3_H_5h",
          "2023_Q3_H_6h",
          "2023_Q3_H_7h",
          "2023_Q3_H_8h",
          "2023_Q3_H_9h",
          "2023_Q3_H_10h",
          "2023_Q3_H_11h",
          "2023_Q3_H_12h",
          "2023_Q3_H_13h",
          "2023_Q3_H_14h",
          "2023_Q3_H_15h",
          "2023_Q3_H_16h",
          "2023_Q3_H_17h",
          "2023_Q3_H_18h",
          "2023_Q3_H_19h",
          "2023_Q3_H_20h",
          "2023_Q3_H_21h",
          "2023_Q3_H_22h",
          "2023_Q3_H_23h",
          "2023_Q4_L_0h",
          "2023_Q4_L_1h",
          "2023_Q4_L_2h",
          "2023_Q4_L_3h",
          "2023_Q4_L_4h",
          "2023_Q4_L_5h",
          "2023_Q4_L_6h",
          "2023_Q4_L_7h",
          "2023_Q4_L_8h",
          "2023_Q4_L_9h",
          "2023_Q4_L_10h",
          "2023_Q4_L_11h",
          "2023_Q4_L_12h",
          "2023_Q4_L_13h",
          "2023_Q4_L_14h",
          "2023_Q4_L_15h",
          "2023_Q4_L_16h",
          "2023_Q4_L_17h",
          "2023_Q4_L_18h",
          "2023_Q4_L_19h",
          "2023_Q4_L_20h",
          "2023_Q4_L_21h",
          "2023_Q4_L_22h",
          "2023_Q4_L_23h",
          "2023_Q4_H_0h",
          "2023_Q4_H_1h",
          "2023_Q4_H_2h",
          "2023_Q4_H_3h",
          "2023_Q4_H_4h",
          "2023_Q4_H_5h",
          "2023_Q4_H_6h",
          "2023_Q4_H_7h",
          "2023_Q4_H_8h",
          "2023_Q4_H_9h",
          "2023_Q4_H_10h",
          "2023_Q4_H_11h",
          "2023_Q4_H_12h",
          "2023_Q4_H_13h",
          "2023_Q4_H_14h",
          "2023_Q4_H_15h",
          "2023_Q4_H_16h",
          "2023_Q4_H_17h",
          "2023_Q4_H_18h",
          "2023_Q4_H_19h",
          "2023_Q4_H_20h",
          "2023_Q4_H_21h",
          "2023_Q4_H_22h",
          "2023_Q4_H_23h",
          "2024_Q1_L_0h",
          "2024_Q1_L_1h",
          "2024_Q1_L_2h",
          "2024_Q1_L_3h",
          "2024_Q1_L_4h",
          "2024_Q1_L_5h",
          "2024_Q1_L_6h",
          "2024_Q1_L_7h",
          "2024_Q1_L_8h",
          "2024_Q1_L_9h",
          "2024_Q1_L_10h",
          "2024_Q1_L_11h",
          "2024_Q1_L_12h",
          "2024_Q1_L_13h",
          "2024_Q1_L_14h",
          "2024_Q1_L_15h",
          "2024_Q1_L_16h",
          "2024_Q1_L_17h",
          "2024_Q1_L_18h",
          "2024_Q1_L_19h",
          "2024_Q1_L_20h",
          "2024_Q1_L_21h",
          "2024_Q1_L_22h",
          "2024_Q1_L_23h",
          "2024_Q1_H_0h",
          "2024_Q1_H_1h",
          "2024_Q1_H_2h",
          "2024_Q1_H_3h",
          "2024_Q1_H_4h",
          "2024_Q1_H_5h",
          "2024_Q1_H_6h",
          "2024_Q1_H_7h",
          "2024_Q1_H_8h",
          "2024_Q1_H_9h",
          "2024_Q1_H_10h",
          "2024_Q1_H_11h",
          "2024_Q1_H_12h",
          "2024_Q1_H_13h",
          "2024_Q1_H_14h",
          "2024_Q1_H_15h",
          "2024_Q1_H_16h",
          "2024_Q1_H_17h",
          "2024_Q1_H_18h",
          "2024_Q1_H_19h",
          "2024_Q1_H_20h",
          "2024_Q1_H_21h",
          "2024_Q1_H_22h",
          "2024_Q1_H_23h",
          "2024_Q2_L_0h",
          "2024_Q2_L_1h",
          "2024_Q2_L_2h",
          "2024_Q2_L_3h",
          "2024_Q2_L_4h",
          "2024_Q2_L_5h",
          "2024_Q2_L_6h",
          "2024_Q2_L_7h",
          "2024_Q2_L_8h",
          "2024_Q2_L_9h",
          "2024_Q2_L_10h",
          "2024_Q2_L_11h",
          "2024_Q2_L_12h",
          "2024_Q2_L_13h",
          "2024_Q2_L_14h",
          "2024_Q2_L_15h",
          "2024_Q2_L_16h",
          "2024_Q2_L_17h",
          "2024_Q2_L_18h",
          "2024_Q2_L_19h",
          "2024_Q2_L_20h",
          "2024_Q2_L_21h",
          "2024_Q2_L_22h",
          "2024_Q2_L_23h",
          "2024_Q2_H_0h",
          "2024_Q2_H_1h",
          "2024_Q2_H_2h",
          "2024_Q2_H_3h",
          "2024_Q2_H_4h",
          "2024_Q2_H_5h",
          "2024_Q2_H_6h",
          "2024_Q2_H_7h",
          "2024_Q2_H_8h",
          "2024_Q2_H_9h",
          "2024_Q2_H_10h",
          "2024_Q2_H_11h",
          "2024_Q2_H_12h",
          "2024_Q2_H_13h",
          "2024_Q2_H_14h",
          "2024_Q2_H_15h",
          "2024_Q2_H_16h",
          "2024_Q2_H_17h",
          "2024_Q2_H_18h",
          "2024_Q2_H_19h",
          "2024_Q2_H_20h",
          "2024_Q2_H_21h",
          "2024_Q2_H_22h",
          "2024_Q2_H_23h",
          "2024_Q3_L_0h",
          "2024_Q3_L_1h",
          "2024_Q3_L_2h",
          "2024_Q3_L_3h",
          "2024_Q3_L_4h",
          "2024_Q3_L_5h",
          "2024_Q3_L_6h",
          "2024_Q3_L_7h",
          "2024_Q3_L_8h",
          "2024_Q3_L_9h",
          "2024_Q3_L_10h",
          "2024_Q3_L_11h",
          "2024_Q3_L_12h",
          "2024_Q3_L_13h",
          "2024_Q3_L_14h",
          "2024_Q3_L_15h",
          "2024_Q3_L_16h",
          "2024_Q3_L_17h",
          "2024_Q3_L_18h",
          "2024_Q3_L_19h",
          "2024_Q3_L_20h",
          "2024_Q3_L_21h",
          "2024_Q3_L_22h",
          "2024_Q3_L_23h",
          "2024_Q3_H_0h",
          "2024_Q3_H_1h",
          "2024_Q3_H_2h",
          "2024_Q3_H_3h",
          "2024_Q3_H_4h",
          "2024_Q3_H_5h",
          "2024_Q3_H_6h",
          "2024_Q3_H_7h",
          "2024_Q3_H_8h",
          "2024_Q3_H_9h",
          "2024_Q3_H_10h",
          "2024_Q3_H_11h",
          "2024_Q3_H_12h",
          "2024_Q3_H_13h",
          "2024_Q3_H_14h",
          "2024_Q3_H_15h",
          "2024_Q3_H_16h",
          "2024_Q3_H_17h",
          "2024_Q3_H_18h",
          "2024_Q3_H_19h",
          "2024_Q3_H_20h",
          "2024_Q3_H_21h",
          "2024_Q3_H_22h",
          "2024_Q3_H_23h",
          "2024_Q4_L_0h",
          "2024_Q4_L_1h",
          "2024_Q4_L_2h",
          "2024_Q4_L_3h",
          "2024_Q4_L_4h",
          "2024_Q4_L_5h",
          "2024_Q4_L_6h",
          "2024_Q4_L_7h",
          "2024_Q4_L_8h",
          "2024_Q4_L_9h",
          "2024_Q4_L_10h",
          "2024_Q4_L_11h",
          "2024_Q4_L_12h",
          "2024_Q4_L_13h",
          "2024_Q4_L_14h",
          "2024_Q4_L_15h",
          "2024_Q4_L_16h",
          "2024_Q4_L_17h",
          "2024_Q4_L_18h",
          "2024_Q4_L_19h",
          "2024_Q4_L_20h",
          "2024_Q4_L_21h",
          "2024_Q4_L_22h",
          "2024_Q4_L_23h",
          "2024_Q4_H_0h",
          "2024_Q4_H_1h",
          "2024_Q4_H_2h",
          "2024_Q4_H_3h",
          "2024_Q4_H_4h",
          "2024_Q4_H_5h",
          "2024_Q4_H_6h",
          "2024_Q4_H_7h",
          "2024_Q4_H_8h",
          "2024_Q4_H_9h",
          "2024_Q4_H_10h",
          "2024_Q4_H_11h",
          "2024_Q4_H_12h",
          "2024_Q4_H_13h",
          "2024_Q4_H_14h",
          "2024_Q4_H_15h",
          "2024_Q4_H_16h",
          "2024_Q4_H_17h",
          "2024_Q4_H_18h",
          "2024_Q4_H_19h",
          "2024_Q4_H_20h",
          "2024_Q4_H_21h",
          "2024_Q4_H_22h",
          "2024_Q4_H_23h"
         ],
         "xaxis": "x",
         "y": [
          6852.6681410176825,
          6516.170547581186,
          6321.733320102995,
          6183.9564152395915,
          6117.626863233084,
          6199.873245973225,
          6396.250506468044,
          6457.145527770535,
          6717.311051801785,
          7013.058936708681,
          7186.542759376102,
          7385.77259592413,
          7570.565645501103,
          7574.4011620172705,
          7651.552994225919,
          7801.323047699028,
          7869.0991389375995,
          7820.101252952591,
          7706.174201147517,
          8122.28378936354,
          8224.16635645213,
          7986.328458440378,
          7646.719355208343,
          7236.426303966018,
          6635.797995402023,
          6504.414909672202,
          6318.863324605441,
          6166.596733557374,
          6053.737556127648,
          5991.791495342268,
          5917.387365184571,
          5691.946162701146,
          5765.628489176653,
          5974.598847376265,
          6180.459129901562,
          6362.275548749398,
          6542.524608863011,
          6654.979405884549,
          6705.4274987533045,
          6725.175879558575,
          6756.752173363331,
          6781.464169265275,
          6837.8847044375325,
          7373.995790710018,
          7544.5858286090315,
          7459.938832167221,
          7262.261608819924,
          6959.952583252048,
          6581.222268078552,
          6131.33747937923,
          5861.939414696665,
          5670.642151900992,
          5584.59042574298,
          5744.79370532111,
          6073.953215384929,
          6118.963111648461,
          6464.87733435111,
          6785.634874396278,
          6953.374881593088,
          7164.982628074776,
          7348.018111812493,
          7325.545057047316,
          7419.454577016403,
          7572.422830396134,
          7643.975905725864,
          7591.784794949858,
          7432.733100499252,
          7819.416336606958,
          8015.212038351394,
          7791.111279437778,
          7418.701407979452,
          6975.864650085014,
          6502.901492264675,
          6468.058321246195,
          6244.549063835244,
          6075.363198389909,
          5935.7518793177605,
          5872.2092917674645,
          5747.973456448635,
          5465.783112595663,
          5649.457324509994,
          5906.0682372917645,
          6129.600398913596,
          6333.2393724024,
          6505.203506225381,
          6612.037188661553,
          6665.771157190683,
          6659.769068863981,
          6671.162989986686,
          6684.807136360187,
          6720.217549622878,
          7242.897946551214,
          7464.394233491379,
          7381.632994526064,
          7165.441064821882,
          6839.474411994419,
          6857.886151425596,
          6363.443930286412,
          6074.160491511887,
          5867.378390037094,
          5768.7925209698,
          5891.417503832968,
          6130.020394105108,
          6206.515888717738,
          6598.954029176059,
          6996.384583459293,
          7240.920894169873,
          7537.43707070943,
          7730.607744311741,
          7721.785870386414,
          7816.483073666847,
          7970.482865319551,
          8026.476108796711,
          7982.360209203943,
          7803.723611425086,
          8085.259356010693,
          8297.390466962735,
          8155.666546935485,
          7841.220802004543,
          7407.557422598032,
          6939.232392426122,
          6850.012074899831,
          6556.292297130466,
          6320.566212964123,
          6150.563019754514,
          6067.891075687967,
          5950.392491015601,
          5751.262086835499,
          5886.535496137725,
          6092.607041832727,
          6280.6486186669,
          6488.419122264542,
          6711.769762285284,
          6890.755743353487,
          6988.348421316038,
          6998.181692887394,
          7021.536131263349,
          7049.568440134368,
          7085.139627868084,
          7523.35458668318,
          7811.235265830347,
          7745.794162551888,
          7571.7246456599,
          7280.188610583443,
          6848.602741851038,
          6466.53602144253,
          6226.252749781656,
          6042.252388038407,
          5950.252439633931,
          6071.56465258426,
          6305.735115061375,
          6389.071038207111,
          6690.228330786878,
          7016.80195580998,
          7242.199922773417,
          7525.151216153016,
          7777.126758724031,
          7785.872720908053,
          7939.091812094367,
          8171.056778551041,
          8264.101844197034,
          8216.66604691467,
          8132.345155671516,
          8582.10194214624,
          8569.394762173828,
          8396.74253092846,
          7950.026933125356,
          7357.843674007728,
          6734.057333491403,
          6556.862049946608,
          6255.760115030974,
          6003.969010529539,
          5781.917865875661,
          5691.5440254181885,
          5539.253998216284,
          5277.312929480577,
          5450.598036638854,
          5732.259704572207,
          6004.012161895826,
          6279.188448871739,
          6550.011968320286,
          6730.498252579369,
          6823.3421147914305,
          6837.064198673486,
          6892.026479862467,
          6926.11721028417,
          7121.486809170846,
          7747.21165310212,
          7847.090667895323,
          7765.884363489176,
          7575.174002745528,
          7208.487617417093,
          6975.231398590053,
          6598.545037130685,
          6401.632380603627,
          6263.493882474709,
          6185.023998128571,
          6262.685967585202,
          6461.780457190147,
          6442.394800058153,
          6601.534389068077,
          6839.210224931945,
          6910.10119482332,
          7123.765611471247,
          7369.3158689568545,
          7411.5839927631505,
          7554.004032706397,
          7770.477124897093,
          7911.643978825569,
          7909.913528473146,
          7770.1088165983165,
          8124.8560864663605,
          8313.166737040066,
          8125.992282375494,
          7825.723554098011,
          7405.066274861888,
          6411.286900533995,
          6334.181410154926,
          6081.04452501903,
          5834.3237682488925,
          5735.759582893045,
          5772.67869093405,
          5808.000478961161,
          5577.5343177552995,
          5735.827626827946,
          6013.928851113483,
          6194.508968546235,
          6382.556386971406,
          6549.3867275491075,
          6588.177738009586,
          6655.02086996588,
          6862.750744848993,
          7169.287092147476,
          7208.237370013309,
          7195.685649150624,
          7625.74472179632,
          7768.346753814005,
          7564.473961649397,
          7238.096968356689,
          6861.600534001961,
          6650.631847254945,
          6346.060670848056,
          6143.100913566306,
          5998.275032732059,
          5925.764373443178,
          6011.096411310029,
          6178.624258556288,
          6152.7170570756025,
          6316.3094758995185,
          6498.067022111798,
          6601.7928559798065,
          6835.359269084246,
          7115.098214092146,
          7160.5807984295225,
          7280.946131361737,
          7445.201500676043,
          7570.58717978476,
          7562.778346560345,
          7448.065729160599,
          7830.1133287925395,
          8005.068719108586,
          7836.295309416032,
          7510.6339475004,
          7067.3831932075755,
          6354.619730299517,
          5793.624520825809,
          5522.283953379695,
          5322.751342076919,
          5233.010726382149,
          5425.492628441752,
          5736.3569300299005,
          5599.116117765322,
          5735.792456378991,
          5902.602371429006,
          5974.5011647307265,
          6221.020648576431,
          6499.551823078492,
          6537.582455855605,
          6864.8241154975285,
          7330.672524270314,
          7451.022574361788,
          7426.276293649355,
          7241.071891298636,
          7552.329538393821,
          7715.492751326186,
          7518.1511273202295,
          7197.262017474248,
          6788.354699078838,
          7127.730827356855,
          6731.123339269405,
          6449.95467793894,
          6245.6485520660135,
          6135.793438010181,
          6213.347085816231,
          6307.3215361964185,
          6182.8322075858705,
          6380.46401393729,
          6611.702806426336,
          6745.414474054891,
          6985.022925300891,
          7257.126640906063,
          7350.352533636467,
          7594.612283178812,
          7879.890135466994,
          7972.805336545238,
          7976.562430268666,
          7849.546526997285,
          8172.025249144836,
          8407.55473220407,
          8273.876327831678,
          7973.757581614186,
          7547.860267864832,
          6577.099397935771,
          6021.788563810695,
          5729.211487463746,
          5498.562783931977,
          5406.6030313701895,
          5548.327191742351,
          5770.760380696825,
          5730.889829606416,
          5977.466428586729,
          6228.130413344116,
          6338.817048354329,
          6592.050744555779,
          6864.129015060748,
          6930.688395248759,
          7245.073739295321,
          7702.591777515044,
          7861.867909045062,
          7830.204863922956,
          7621.352743487508,
          7858.3610986137055,
          8043.728046255711,
          7905.488804167029,
          7593.649690857485,
          7135.175641853819,
          7203.174917669234,
          6759.86909139734,
          6457.505261585712,
          6242.500344910172,
          6120.162072288517,
          6216.118856836594,
          6359.996489336038,
          6247.081052965975,
          6458.981811828962,
          6694.617939447145,
          6835.766575127561,
          7085.1453652562,
          7365.411755183556,
          7480.28201376265,
          7760.149442496781,
          8057.544364874447,
          8250.629509360657,
          8261.037432583365,
          8245.728457538293,
          8673.736344628447,
          8683.266780253347,
          8516.06878896787,
          8203.767712164337,
          7738.4771490645535,
          6223.652849297259,
          5724.568252941626,
          5433.825882950009,
          5264.39308295936,
          5181.532005409628,
          5288.5998271202225,
          5499.373618099466,
          5547.080818242779,
          5805.5683125455935,
          6083.052501268552,
          6237.43307208641,
          6449.560851773404,
          6651.051147606817,
          6690.272601633242,
          6973.93381281099,
          7401.31507671065,
          7647.778355365449,
          7681.6807418569015,
          7610.689663804057,
          8002.799164626749,
          7969.885808449833,
          7795.685794012353,
          7367.620503949566,
          6799.7772781800995
         ],
         "yaxis": "y"
        },
        {
         "hovertemplate": "Tech=Solar<br>timestamp=%{x}<br>DispatchGen_MW=%{y}<extra></extra>",
         "legendgroup": "Solar",
         "line": {
          "color": "#00cc96",
          "dash": "solid"
         },
         "marker": {
          "symbol": "circle"
         },
         "mode": "lines",
         "name": "Solar",
         "showlegend": true,
         "type": "scattergl",
         "x": [
          "2023_Q1_L_0h",
          "2023_Q1_L_1h",
          "2023_Q1_L_2h",
          "2023_Q1_L_3h",
          "2023_Q1_L_4h",
          "2023_Q1_L_5h",
          "2023_Q1_L_6h",
          "2023_Q1_L_7h",
          "2023_Q1_L_8h",
          "2023_Q1_L_9h",
          "2023_Q1_L_10h",
          "2023_Q1_L_11h",
          "2023_Q1_L_12h",
          "2023_Q1_L_13h",
          "2023_Q1_L_14h",
          "2023_Q1_L_15h",
          "2023_Q1_L_16h",
          "2023_Q1_L_17h",
          "2023_Q1_L_18h",
          "2023_Q1_L_19h",
          "2023_Q1_L_20h",
          "2023_Q1_L_21h",
          "2023_Q1_L_22h",
          "2023_Q1_L_23h",
          "2023_Q1_H_0h",
          "2023_Q1_H_1h",
          "2023_Q1_H_2h",
          "2023_Q1_H_3h",
          "2023_Q1_H_4h",
          "2023_Q1_H_5h",
          "2023_Q1_H_6h",
          "2023_Q1_H_7h",
          "2023_Q1_H_8h",
          "2023_Q1_H_9h",
          "2023_Q1_H_10h",
          "2023_Q1_H_11h",
          "2023_Q1_H_12h",
          "2023_Q1_H_13h",
          "2023_Q1_H_14h",
          "2023_Q1_H_15h",
          "2023_Q1_H_16h",
          "2023_Q1_H_17h",
          "2023_Q1_H_18h",
          "2023_Q1_H_19h",
          "2023_Q1_H_20h",
          "2023_Q1_H_21h",
          "2023_Q1_H_22h",
          "2023_Q1_H_23h",
          "2023_Q2_L_0h",
          "2023_Q2_L_1h",
          "2023_Q2_L_2h",
          "2023_Q2_L_3h",
          "2023_Q2_L_4h",
          "2023_Q2_L_5h",
          "2023_Q2_L_6h",
          "2023_Q2_L_7h",
          "2023_Q2_L_8h",
          "2023_Q2_L_9h",
          "2023_Q2_L_10h",
          "2023_Q2_L_11h",
          "2023_Q2_L_12h",
          "2023_Q2_L_13h",
          "2023_Q2_L_14h",
          "2023_Q2_L_15h",
          "2023_Q2_L_16h",
          "2023_Q2_L_17h",
          "2023_Q2_L_18h",
          "2023_Q2_L_19h",
          "2023_Q2_L_20h",
          "2023_Q2_L_21h",
          "2023_Q2_L_22h",
          "2023_Q2_L_23h",
          "2023_Q2_H_0h",
          "2023_Q2_H_1h",
          "2023_Q2_H_2h",
          "2023_Q2_H_3h",
          "2023_Q2_H_4h",
          "2023_Q2_H_5h",
          "2023_Q2_H_6h",
          "2023_Q2_H_7h",
          "2023_Q2_H_8h",
          "2023_Q2_H_9h",
          "2023_Q2_H_10h",
          "2023_Q2_H_11h",
          "2023_Q2_H_12h",
          "2023_Q2_H_13h",
          "2023_Q2_H_14h",
          "2023_Q2_H_15h",
          "2023_Q2_H_16h",
          "2023_Q2_H_17h",
          "2023_Q2_H_18h",
          "2023_Q2_H_19h",
          "2023_Q2_H_20h",
          "2023_Q2_H_21h",
          "2023_Q2_H_22h",
          "2023_Q2_H_23h",
          "2023_Q3_L_0h",
          "2023_Q3_L_1h",
          "2023_Q3_L_2h",
          "2023_Q3_L_3h",
          "2023_Q3_L_4h",
          "2023_Q3_L_5h",
          "2023_Q3_L_6h",
          "2023_Q3_L_7h",
          "2023_Q3_L_8h",
          "2023_Q3_L_9h",
          "2023_Q3_L_10h",
          "2023_Q3_L_11h",
          "2023_Q3_L_12h",
          "2023_Q3_L_13h",
          "2023_Q3_L_14h",
          "2023_Q3_L_15h",
          "2023_Q3_L_16h",
          "2023_Q3_L_17h",
          "2023_Q3_L_18h",
          "2023_Q3_L_19h",
          "2023_Q3_L_20h",
          "2023_Q3_L_21h",
          "2023_Q3_L_22h",
          "2023_Q3_L_23h",
          "2023_Q3_H_0h",
          "2023_Q3_H_1h",
          "2023_Q3_H_2h",
          "2023_Q3_H_3h",
          "2023_Q3_H_4h",
          "2023_Q3_H_5h",
          "2023_Q3_H_6h",
          "2023_Q3_H_7h",
          "2023_Q3_H_8h",
          "2023_Q3_H_9h",
          "2023_Q3_H_10h",
          "2023_Q3_H_11h",
          "2023_Q3_H_12h",
          "2023_Q3_H_13h",
          "2023_Q3_H_14h",
          "2023_Q3_H_15h",
          "2023_Q3_H_16h",
          "2023_Q3_H_17h",
          "2023_Q3_H_18h",
          "2023_Q3_H_19h",
          "2023_Q3_H_20h",
          "2023_Q3_H_21h",
          "2023_Q3_H_22h",
          "2023_Q3_H_23h",
          "2023_Q4_L_0h",
          "2023_Q4_L_1h",
          "2023_Q4_L_2h",
          "2023_Q4_L_3h",
          "2023_Q4_L_4h",
          "2023_Q4_L_5h",
          "2023_Q4_L_6h",
          "2023_Q4_L_7h",
          "2023_Q4_L_8h",
          "2023_Q4_L_9h",
          "2023_Q4_L_10h",
          "2023_Q4_L_11h",
          "2023_Q4_L_12h",
          "2023_Q4_L_13h",
          "2023_Q4_L_14h",
          "2023_Q4_L_15h",
          "2023_Q4_L_16h",
          "2023_Q4_L_17h",
          "2023_Q4_L_18h",
          "2023_Q4_L_19h",
          "2023_Q4_L_20h",
          "2023_Q4_L_21h",
          "2023_Q4_L_22h",
          "2023_Q4_L_23h",
          "2023_Q4_H_0h",
          "2023_Q4_H_1h",
          "2023_Q4_H_2h",
          "2023_Q4_H_3h",
          "2023_Q4_H_4h",
          "2023_Q4_H_5h",
          "2023_Q4_H_6h",
          "2023_Q4_H_7h",
          "2023_Q4_H_8h",
          "2023_Q4_H_9h",
          "2023_Q4_H_10h",
          "2023_Q4_H_11h",
          "2023_Q4_H_12h",
          "2023_Q4_H_13h",
          "2023_Q4_H_14h",
          "2023_Q4_H_15h",
          "2023_Q4_H_16h",
          "2023_Q4_H_17h",
          "2023_Q4_H_18h",
          "2023_Q4_H_19h",
          "2023_Q4_H_20h",
          "2023_Q4_H_21h",
          "2023_Q4_H_22h",
          "2023_Q4_H_23h",
          "2024_Q1_L_0h",
          "2024_Q1_L_1h",
          "2024_Q1_L_2h",
          "2024_Q1_L_3h",
          "2024_Q1_L_4h",
          "2024_Q1_L_5h",
          "2024_Q1_L_6h",
          "2024_Q1_L_7h",
          "2024_Q1_L_8h",
          "2024_Q1_L_9h",
          "2024_Q1_L_10h",
          "2024_Q1_L_11h",
          "2024_Q1_L_12h",
          "2024_Q1_L_13h",
          "2024_Q1_L_14h",
          "2024_Q1_L_15h",
          "2024_Q1_L_16h",
          "2024_Q1_L_17h",
          "2024_Q1_L_18h",
          "2024_Q1_L_19h",
          "2024_Q1_L_20h",
          "2024_Q1_L_21h",
          "2024_Q1_L_22h",
          "2024_Q1_L_23h",
          "2024_Q1_H_0h",
          "2024_Q1_H_1h",
          "2024_Q1_H_2h",
          "2024_Q1_H_3h",
          "2024_Q1_H_4h",
          "2024_Q1_H_5h",
          "2024_Q1_H_6h",
          "2024_Q1_H_7h",
          "2024_Q1_H_8h",
          "2024_Q1_H_9h",
          "2024_Q1_H_10h",
          "2024_Q1_H_11h",
          "2024_Q1_H_12h",
          "2024_Q1_H_13h",
          "2024_Q1_H_14h",
          "2024_Q1_H_15h",
          "2024_Q1_H_16h",
          "2024_Q1_H_17h",
          "2024_Q1_H_18h",
          "2024_Q1_H_19h",
          "2024_Q1_H_20h",
          "2024_Q1_H_21h",
          "2024_Q1_H_22h",
          "2024_Q1_H_23h",
          "2024_Q2_L_0h",
          "2024_Q2_L_1h",
          "2024_Q2_L_2h",
          "2024_Q2_L_3h",
          "2024_Q2_L_4h",
          "2024_Q2_L_5h",
          "2024_Q2_L_6h",
          "2024_Q2_L_7h",
          "2024_Q2_L_8h",
          "2024_Q2_L_9h",
          "2024_Q2_L_10h",
          "2024_Q2_L_11h",
          "2024_Q2_L_12h",
          "2024_Q2_L_13h",
          "2024_Q2_L_14h",
          "2024_Q2_L_15h",
          "2024_Q2_L_16h",
          "2024_Q2_L_17h",
          "2024_Q2_L_18h",
          "2024_Q2_L_19h",
          "2024_Q2_L_20h",
          "2024_Q2_L_21h",
          "2024_Q2_L_22h",
          "2024_Q2_L_23h",
          "2024_Q2_H_0h",
          "2024_Q2_H_1h",
          "2024_Q2_H_2h",
          "2024_Q2_H_3h",
          "2024_Q2_H_4h",
          "2024_Q2_H_5h",
          "2024_Q2_H_6h",
          "2024_Q2_H_7h",
          "2024_Q2_H_8h",
          "2024_Q2_H_9h",
          "2024_Q2_H_10h",
          "2024_Q2_H_11h",
          "2024_Q2_H_12h",
          "2024_Q2_H_13h",
          "2024_Q2_H_14h",
          "2024_Q2_H_15h",
          "2024_Q2_H_16h",
          "2024_Q2_H_17h",
          "2024_Q2_H_18h",
          "2024_Q2_H_19h",
          "2024_Q2_H_20h",
          "2024_Q2_H_21h",
          "2024_Q2_H_22h",
          "2024_Q2_H_23h",
          "2024_Q3_L_0h",
          "2024_Q3_L_1h",
          "2024_Q3_L_2h",
          "2024_Q3_L_3h",
          "2024_Q3_L_4h",
          "2024_Q3_L_5h",
          "2024_Q3_L_6h",
          "2024_Q3_L_7h",
          "2024_Q3_L_8h",
          "2024_Q3_L_9h",
          "2024_Q3_L_10h",
          "2024_Q3_L_11h",
          "2024_Q3_L_12h",
          "2024_Q3_L_13h",
          "2024_Q3_L_14h",
          "2024_Q3_L_15h",
          "2024_Q3_L_16h",
          "2024_Q3_L_17h",
          "2024_Q3_L_18h",
          "2024_Q3_L_19h",
          "2024_Q3_L_20h",
          "2024_Q3_L_21h",
          "2024_Q3_L_22h",
          "2024_Q3_L_23h",
          "2024_Q3_H_0h",
          "2024_Q3_H_1h",
          "2024_Q3_H_2h",
          "2024_Q3_H_3h",
          "2024_Q3_H_4h",
          "2024_Q3_H_5h",
          "2024_Q3_H_6h",
          "2024_Q3_H_7h",
          "2024_Q3_H_8h",
          "2024_Q3_H_9h",
          "2024_Q3_H_10h",
          "2024_Q3_H_11h",
          "2024_Q3_H_12h",
          "2024_Q3_H_13h",
          "2024_Q3_H_14h",
          "2024_Q3_H_15h",
          "2024_Q3_H_16h",
          "2024_Q3_H_17h",
          "2024_Q3_H_18h",
          "2024_Q3_H_19h",
          "2024_Q3_H_20h",
          "2024_Q3_H_21h",
          "2024_Q3_H_22h",
          "2024_Q3_H_23h",
          "2024_Q4_L_0h",
          "2024_Q4_L_1h",
          "2024_Q4_L_2h",
          "2024_Q4_L_3h",
          "2024_Q4_L_4h",
          "2024_Q4_L_5h",
          "2024_Q4_L_6h",
          "2024_Q4_L_7h",
          "2024_Q4_L_8h",
          "2024_Q4_L_9h",
          "2024_Q4_L_10h",
          "2024_Q4_L_11h",
          "2024_Q4_L_12h",
          "2024_Q4_L_13h",
          "2024_Q4_L_14h",
          "2024_Q4_L_15h",
          "2024_Q4_L_16h",
          "2024_Q4_L_17h",
          "2024_Q4_L_18h",
          "2024_Q4_L_19h",
          "2024_Q4_L_20h",
          "2024_Q4_L_21h",
          "2024_Q4_L_22h",
          "2024_Q4_L_23h",
          "2024_Q4_H_0h",
          "2024_Q4_H_1h",
          "2024_Q4_H_2h",
          "2024_Q4_H_3h",
          "2024_Q4_H_4h",
          "2024_Q4_H_5h",
          "2024_Q4_H_6h",
          "2024_Q4_H_7h",
          "2024_Q4_H_8h",
          "2024_Q4_H_9h",
          "2024_Q4_H_10h",
          "2024_Q4_H_11h",
          "2024_Q4_H_12h",
          "2024_Q4_H_13h",
          "2024_Q4_H_14h",
          "2024_Q4_H_15h",
          "2024_Q4_H_16h",
          "2024_Q4_H_17h",
          "2024_Q4_H_18h",
          "2024_Q4_H_19h",
          "2024_Q4_H_20h",
          "2024_Q4_H_21h",
          "2024_Q4_H_22h",
          "2024_Q4_H_23h"
         ],
         "xaxis": "x",
         "y": [
          0,
          0,
          0,
          0,
          0,
          0.06080900048763405,
          45.58382747359684,
          168.5840307307824,
          322.01740380243155,
          459.84549611983294,
          562.0259607415801,
          612.8854825158728,
          610.0797366250163,
          551.1043446638232,
          442.87061001883774,
          304.42313287654963,
          157.11637470400143,
          33.05872425124498,
          0.03198457224524666,
          0,
          0,
          0,
          0,
          0,
          0,
          0,
          0,
          0,
          0,
          0.06149823422240105,
          45.67554597344441,
          168.0885307565782,
          320.98590312326206,
          458.75765058044317,
          561.0092668152424,
          611.8969127781874,
          608.7741575611044,
          549.802831795987,
          441.84360597224554,
          303.8139106783744,
          156.90576876977877,
          33.095881061152944,
          0.03207166946789125,
          0,
          0,
          0,
          0,
          0,
          0,
          0,
          0,
          0,
          0,
          0.6524430072651566,
          46.11395107749946,
          159.62250415613642,
          292.8768012892431,
          416.3133624197833,
          507.94789185009904,
          552.3469758493108,
          546.3828312334783,
          490.7517337313653,
          393.03380902619017,
          271.65036284122937,
          147.0912014360926,
          39.23480301803167,
          0.2529743181009027,
          0,
          0,
          0,
          0,
          0,
          0,
          0,
          0,
          0,
          0,
          0.6611103057007807,
          45.65393442326967,
          158.28606023362332,
          290.60154821730544,
          413.24613858250837,
          504.1145716284799,
          548.0224794709227,
          542.4513047041796,
          487.58571644165784,
          390.6100203825086,
          270.1604568981295,
          146.57783688858387,
          39.41587916458439,
          0.2649238935753702,
          0,
          0,
          0,
          0,
          0,
          0,
          0,
          0,
          0,
          0,
          1.2934116970841367,
          47.95173289119395,
          155.45736129075624,
          278.41226745525285,
          391.5204267765173,
          477.3661338973508,
          522.8246855424945,
          519.1147497364549,
          467.613009491405,
          377.22729687943314,
          263.7355898066413,
          146.67918341478986,
          43.514426633102886,
          0.5342519019846093,
          0,
          0,
          0,
          0,
          0,
          0,
          0,
          0,
          0,
          0,
          1.307508492862352,
          48.11628714327616,
          155.9267145578324,
          279.39827837438975,
          393.19421772118415,
          479.722161162863,
          525.7867575599118,
          522.3885448054459,
          470.92848630638696,
          379.9417980982542,
          265.47130792297156,
          147.58596640088862,
          43.76874335885578,
          0.5379714977935884,
          0,
          0,
          0,
          0,
          0,
          0,
          0,
          0,
          0,
          0,
          0.13795287710902607,
          33.25186909903424,
          135.3139346452609,
          258.23825505921224,
          372.630453746235,
          460.779240393338,
          508.04009217181726,
          504.9538382720805,
          453.0506372169616,
          361.604970462691,
          246.9584917943603,
          129.82482305503046,
          32.729793819078566,
          0.05693471571881664,
          0,
          0,
          0,
          0,
          0,
          0,
          0,
          0,
          0,
          0,
          0.138770084925342,
          33.38375698120598,
          135.55008188571253,
          258.5651428901285,
          373.113980974945,
          461.5052073755135,
          509.02582511928404,
          506.0409723627465,
          453.87152125484903,
          362.2550777340336,
          247.3642157853002,
          129.96996345310077,
          32.65062220871494,
          0.056934727333036665,
          0,
          0,
          0,
          0,
          0,
          0,
          0,
          0,
          0,
          0,
          0.12081658224267713,
          124.18935296343815,
          443.3936380329387,
          841.069756896733,
          1191.8882972582953,
          1446.4793397727378,
          1567.0111220452768,
          1555.756652871304,
          1403.6028114745293,
          1125.3337092812742,
          769.8761631887022,
          390.3850298724711,
          75.58135120891319,
          0.04756791066055676,
          0,
          0,
          0,
          0,
          0,
          0,
          0,
          0,
          0,
          0,
          0.12451406927357389,
          124.7998444057961,
          442.97051388933056,
          839.678660522524,
          1190.654434523071,
          1445.6863868977177,
          1566.813684092603,
          1555.0623153404385,
          1402.618057586761,
          1124.7123496505744,
          769.9133873722562,
          390.83268935500627,
          75.99523165561227,
          0.047620294893436006,
          0,
          0,
          0,
          0,
          0,
          0,
          0,
          0,
          0,
          0,
          2.2682499211547547,
          125.56010032412216,
          417.5297261994686,
          755.5016136999456,
          1065.5506042947163,
          1291.6425883840054,
          1396.39290388514,
          1377.2771090578194,
          1234.1628961728843,
          985.4814108529458,
          679.0960109964112,
          365.3752631771831,
          95.56421749573362,
          0.5449244888407969,
          0,
          0,
          0,
          0,
          0,
          0,
          0,
          0,
          0,
          0,
          2.303763805762726,
          124.21380342865118,
          413.75825152497146,
          749.1013945316631,
          1056.5037712214341,
          1279.7680545041023,
          1382.1811593391963,
          1363.51941421832,
          1222.6352829365264,
          976.1561117783658,
          672.8753661503473,
          362.7079209010433,
          95.70202529487307,
          0.5692918321064355,
          0,
          0,
          0,
          0,
          0,
          0,
          0,
          0,
          0,
          0,
          4.53229919323644,
          127.47467704992543,
          390.9208289715826,
          688.0709374335603,
          961.0738398900781,
          1169.0942192285759,
          1278.9421787401382,
          1267.9537490370744,
          1139.4022534366657,
          916.3634690130166,
          638.5045530978861,
          353.31931655959875,
          105.47324908464084,
          1.3032940301033218,
          0,
          0,
          0,
          0,
          0,
          0,
          0,
          0,
          0,
          0,
          4.583025059596274,
          128.12596053165632,
          392.8138444096549,
          692.0776615516182,
          967.6539111180094,
          1178.0410102588996,
          1289.8339567104613,
          1279.5806839386457,
          1150.7974691269321,
          925.8234416547583,
          644.5193627953097,
          356.4098801480642,
          106.28743367187616,
          1.3150952255457848,
          0,
          0,
          0,
          0,
          0,
          0,
          0,
          0,
          0,
          0,
          0.3993617128319292,
          82.73763838926284,
          331.43754871621485,
          628.1893669878232,
          902.8459902398686,
          1114.359399792105,
          1227.5008340000409,
          1218.0376361746546,
          1089.40571715888,
          865.7751135054103,
          587.6261408155351,
          304.4858192730023,
          72.3976663620487,
          0.08298881424123075,
          0,
          0,
          0,
          0,
          0,
          0,
          0,
          0,
          0,
          0,
          0.4032509026974354,
          83.37705541596007,
          333.2435306485441,
          631.3842672244253,
          907.3276102254608,
          1119.938914631535,
          1233.4388194684338,
          1223.5058049555864,
          1093.5896330628234,
          868.9840512877701,
          589.6990478951824,
          305.4171186429047,
          72.41002123421704,
          0.08307945805206671,
          0,
          0,
          0,
          0,
          0
         ],
         "yaxis": "y"
        },
        {
         "hovertemplate": "Tech=Thermal<br>timestamp=%{x}<br>DispatchGen_MW=%{y}<extra></extra>",
         "legendgroup": "Thermal",
         "line": {
          "color": "#ab63fa",
          "dash": "solid"
         },
         "marker": {
          "symbol": "circle"
         },
         "mode": "lines",
         "name": "Thermal",
         "showlegend": true,
         "type": "scattergl",
         "x": [
          "2023_Q1_L_0h",
          "2023_Q1_L_1h",
          "2023_Q1_L_2h",
          "2023_Q1_L_3h",
          "2023_Q1_L_4h",
          "2023_Q1_L_5h",
          "2023_Q1_L_6h",
          "2023_Q1_L_7h",
          "2023_Q1_L_8h",
          "2023_Q1_L_9h",
          "2023_Q1_L_10h",
          "2023_Q1_L_11h",
          "2023_Q1_L_12h",
          "2023_Q1_L_13h",
          "2023_Q1_L_14h",
          "2023_Q1_L_15h",
          "2023_Q1_L_16h",
          "2023_Q1_L_17h",
          "2023_Q1_L_18h",
          "2023_Q1_L_19h",
          "2023_Q1_L_20h",
          "2023_Q1_L_21h",
          "2023_Q1_L_22h",
          "2023_Q1_L_23h",
          "2023_Q1_H_0h",
          "2023_Q1_H_1h",
          "2023_Q1_H_2h",
          "2023_Q1_H_3h",
          "2023_Q1_H_4h",
          "2023_Q1_H_5h",
          "2023_Q1_H_6h",
          "2023_Q1_H_7h",
          "2023_Q1_H_8h",
          "2023_Q1_H_9h",
          "2023_Q1_H_10h",
          "2023_Q1_H_11h",
          "2023_Q1_H_12h",
          "2023_Q1_H_13h",
          "2023_Q1_H_14h",
          "2023_Q1_H_15h",
          "2023_Q1_H_16h",
          "2023_Q1_H_17h",
          "2023_Q1_H_18h",
          "2023_Q1_H_19h",
          "2023_Q1_H_20h",
          "2023_Q1_H_21h",
          "2023_Q1_H_22h",
          "2023_Q1_H_23h",
          "2023_Q2_L_0h",
          "2023_Q2_L_1h",
          "2023_Q2_L_2h",
          "2023_Q2_L_3h",
          "2023_Q2_L_4h",
          "2023_Q2_L_5h",
          "2023_Q2_L_6h",
          "2023_Q2_L_7h",
          "2023_Q2_L_8h",
          "2023_Q2_L_9h",
          "2023_Q2_L_10h",
          "2023_Q2_L_11h",
          "2023_Q2_L_12h",
          "2023_Q2_L_13h",
          "2023_Q2_L_14h",
          "2023_Q2_L_15h",
          "2023_Q2_L_16h",
          "2023_Q2_L_17h",
          "2023_Q2_L_18h",
          "2023_Q2_L_19h",
          "2023_Q2_L_20h",
          "2023_Q2_L_21h",
          "2023_Q2_L_22h",
          "2023_Q2_L_23h",
          "2023_Q2_H_0h",
          "2023_Q2_H_1h",
          "2023_Q2_H_2h",
          "2023_Q2_H_3h",
          "2023_Q2_H_4h",
          "2023_Q2_H_5h",
          "2023_Q2_H_6h",
          "2023_Q2_H_7h",
          "2023_Q2_H_8h",
          "2023_Q2_H_9h",
          "2023_Q2_H_10h",
          "2023_Q2_H_11h",
          "2023_Q2_H_12h",
          "2023_Q2_H_13h",
          "2023_Q2_H_14h",
          "2023_Q2_H_15h",
          "2023_Q2_H_16h",
          "2023_Q2_H_17h",
          "2023_Q2_H_18h",
          "2023_Q2_H_19h",
          "2023_Q2_H_20h",
          "2023_Q2_H_21h",
          "2023_Q2_H_22h",
          "2023_Q2_H_23h",
          "2023_Q3_L_0h",
          "2023_Q3_L_1h",
          "2023_Q3_L_2h",
          "2023_Q3_L_3h",
          "2023_Q3_L_4h",
          "2023_Q3_L_5h",
          "2023_Q3_L_6h",
          "2023_Q3_L_7h",
          "2023_Q3_L_8h",
          "2023_Q3_L_9h",
          "2023_Q3_L_10h",
          "2023_Q3_L_11h",
          "2023_Q3_L_12h",
          "2023_Q3_L_13h",
          "2023_Q3_L_14h",
          "2023_Q3_L_15h",
          "2023_Q3_L_16h",
          "2023_Q3_L_17h",
          "2023_Q3_L_18h",
          "2023_Q3_L_19h",
          "2023_Q3_L_20h",
          "2023_Q3_L_21h",
          "2023_Q3_L_22h",
          "2023_Q3_L_23h",
          "2023_Q3_H_0h",
          "2023_Q3_H_1h",
          "2023_Q3_H_2h",
          "2023_Q3_H_3h",
          "2023_Q3_H_4h",
          "2023_Q3_H_5h",
          "2023_Q3_H_6h",
          "2023_Q3_H_7h",
          "2023_Q3_H_8h",
          "2023_Q3_H_9h",
          "2023_Q3_H_10h",
          "2023_Q3_H_11h",
          "2023_Q3_H_12h",
          "2023_Q3_H_13h",
          "2023_Q3_H_14h",
          "2023_Q3_H_15h",
          "2023_Q3_H_16h",
          "2023_Q3_H_17h",
          "2023_Q3_H_18h",
          "2023_Q3_H_19h",
          "2023_Q3_H_20h",
          "2023_Q3_H_21h",
          "2023_Q3_H_22h",
          "2023_Q3_H_23h",
          "2023_Q4_L_0h",
          "2023_Q4_L_1h",
          "2023_Q4_L_2h",
          "2023_Q4_L_3h",
          "2023_Q4_L_4h",
          "2023_Q4_L_5h",
          "2023_Q4_L_6h",
          "2023_Q4_L_7h",
          "2023_Q4_L_8h",
          "2023_Q4_L_9h",
          "2023_Q4_L_10h",
          "2023_Q4_L_11h",
          "2023_Q4_L_12h",
          "2023_Q4_L_13h",
          "2023_Q4_L_14h",
          "2023_Q4_L_15h",
          "2023_Q4_L_16h",
          "2023_Q4_L_17h",
          "2023_Q4_L_18h",
          "2023_Q4_L_19h",
          "2023_Q4_L_20h",
          "2023_Q4_L_21h",
          "2023_Q4_L_22h",
          "2023_Q4_L_23h",
          "2023_Q4_H_0h",
          "2023_Q4_H_1h",
          "2023_Q4_H_2h",
          "2023_Q4_H_3h",
          "2023_Q4_H_4h",
          "2023_Q4_H_5h",
          "2023_Q4_H_6h",
          "2023_Q4_H_7h",
          "2023_Q4_H_8h",
          "2023_Q4_H_9h",
          "2023_Q4_H_10h",
          "2023_Q4_H_11h",
          "2023_Q4_H_12h",
          "2023_Q4_H_13h",
          "2023_Q4_H_14h",
          "2023_Q4_H_15h",
          "2023_Q4_H_16h",
          "2023_Q4_H_17h",
          "2023_Q4_H_18h",
          "2023_Q4_H_19h",
          "2023_Q4_H_20h",
          "2023_Q4_H_21h",
          "2023_Q4_H_22h",
          "2023_Q4_H_23h",
          "2024_Q1_L_0h",
          "2024_Q1_L_1h",
          "2024_Q1_L_2h",
          "2024_Q1_L_3h",
          "2024_Q1_L_4h",
          "2024_Q1_L_5h",
          "2024_Q1_L_6h",
          "2024_Q1_L_7h",
          "2024_Q1_L_8h",
          "2024_Q1_L_9h",
          "2024_Q1_L_10h",
          "2024_Q1_L_11h",
          "2024_Q1_L_12h",
          "2024_Q1_L_13h",
          "2024_Q1_L_14h",
          "2024_Q1_L_15h",
          "2024_Q1_L_16h",
          "2024_Q1_L_17h",
          "2024_Q1_L_18h",
          "2024_Q1_L_19h",
          "2024_Q1_L_20h",
          "2024_Q1_L_21h",
          "2024_Q1_L_22h",
          "2024_Q1_L_23h",
          "2024_Q1_H_0h",
          "2024_Q1_H_1h",
          "2024_Q1_H_2h",
          "2024_Q1_H_3h",
          "2024_Q1_H_4h",
          "2024_Q1_H_5h",
          "2024_Q1_H_6h",
          "2024_Q1_H_7h",
          "2024_Q1_H_8h",
          "2024_Q1_H_9h",
          "2024_Q1_H_10h",
          "2024_Q1_H_11h",
          "2024_Q1_H_12h",
          "2024_Q1_H_13h",
          "2024_Q1_H_14h",
          "2024_Q1_H_15h",
          "2024_Q1_H_16h",
          "2024_Q1_H_17h",
          "2024_Q1_H_18h",
          "2024_Q1_H_19h",
          "2024_Q1_H_20h",
          "2024_Q1_H_21h",
          "2024_Q1_H_22h",
          "2024_Q1_H_23h",
          "2024_Q2_L_0h",
          "2024_Q2_L_1h",
          "2024_Q2_L_2h",
          "2024_Q2_L_3h",
          "2024_Q2_L_4h",
          "2024_Q2_L_5h",
          "2024_Q2_L_6h",
          "2024_Q2_L_7h",
          "2024_Q2_L_8h",
          "2024_Q2_L_9h",
          "2024_Q2_L_10h",
          "2024_Q2_L_11h",
          "2024_Q2_L_12h",
          "2024_Q2_L_13h",
          "2024_Q2_L_14h",
          "2024_Q2_L_15h",
          "2024_Q2_L_16h",
          "2024_Q2_L_17h",
          "2024_Q2_L_18h",
          "2024_Q2_L_19h",
          "2024_Q2_L_20h",
          "2024_Q2_L_21h",
          "2024_Q2_L_22h",
          "2024_Q2_L_23h",
          "2024_Q2_H_0h",
          "2024_Q2_H_1h",
          "2024_Q2_H_2h",
          "2024_Q2_H_3h",
          "2024_Q2_H_4h",
          "2024_Q2_H_5h",
          "2024_Q2_H_6h",
          "2024_Q2_H_7h",
          "2024_Q2_H_8h",
          "2024_Q2_H_9h",
          "2024_Q2_H_10h",
          "2024_Q2_H_11h",
          "2024_Q2_H_12h",
          "2024_Q2_H_13h",
          "2024_Q2_H_14h",
          "2024_Q2_H_15h",
          "2024_Q2_H_16h",
          "2024_Q2_H_17h",
          "2024_Q2_H_18h",
          "2024_Q2_H_19h",
          "2024_Q2_H_20h",
          "2024_Q2_H_21h",
          "2024_Q2_H_22h",
          "2024_Q2_H_23h",
          "2024_Q3_L_0h",
          "2024_Q3_L_1h",
          "2024_Q3_L_2h",
          "2024_Q3_L_3h",
          "2024_Q3_L_4h",
          "2024_Q3_L_5h",
          "2024_Q3_L_6h",
          "2024_Q3_L_7h",
          "2024_Q3_L_8h",
          "2024_Q3_L_9h",
          "2024_Q3_L_10h",
          "2024_Q3_L_11h",
          "2024_Q3_L_12h",
          "2024_Q3_L_13h",
          "2024_Q3_L_14h",
          "2024_Q3_L_15h",
          "2024_Q3_L_16h",
          "2024_Q3_L_17h",
          "2024_Q3_L_18h",
          "2024_Q3_L_19h",
          "2024_Q3_L_20h",
          "2024_Q3_L_21h",
          "2024_Q3_L_22h",
          "2024_Q3_L_23h",
          "2024_Q3_H_0h",
          "2024_Q3_H_1h",
          "2024_Q3_H_2h",
          "2024_Q3_H_3h",
          "2024_Q3_H_4h",
          "2024_Q3_H_5h",
          "2024_Q3_H_6h",
          "2024_Q3_H_7h",
          "2024_Q3_H_8h",
          "2024_Q3_H_9h",
          "2024_Q3_H_10h",
          "2024_Q3_H_11h",
          "2024_Q3_H_12h",
          "2024_Q3_H_13h",
          "2024_Q3_H_14h",
          "2024_Q3_H_15h",
          "2024_Q3_H_16h",
          "2024_Q3_H_17h",
          "2024_Q3_H_18h",
          "2024_Q3_H_19h",
          "2024_Q3_H_20h",
          "2024_Q3_H_21h",
          "2024_Q3_H_22h",
          "2024_Q3_H_23h",
          "2024_Q4_L_0h",
          "2024_Q4_L_1h",
          "2024_Q4_L_2h",
          "2024_Q4_L_3h",
          "2024_Q4_L_4h",
          "2024_Q4_L_5h",
          "2024_Q4_L_6h",
          "2024_Q4_L_7h",
          "2024_Q4_L_8h",
          "2024_Q4_L_9h",
          "2024_Q4_L_10h",
          "2024_Q4_L_11h",
          "2024_Q4_L_12h",
          "2024_Q4_L_13h",
          "2024_Q4_L_14h",
          "2024_Q4_L_15h",
          "2024_Q4_L_16h",
          "2024_Q4_L_17h",
          "2024_Q4_L_18h",
          "2024_Q4_L_19h",
          "2024_Q4_L_20h",
          "2024_Q4_L_21h",
          "2024_Q4_L_22h",
          "2024_Q4_L_23h",
          "2024_Q4_H_0h",
          "2024_Q4_H_1h",
          "2024_Q4_H_2h",
          "2024_Q4_H_3h",
          "2024_Q4_H_4h",
          "2024_Q4_H_5h",
          "2024_Q4_H_6h",
          "2024_Q4_H_7h",
          "2024_Q4_H_8h",
          "2024_Q4_H_9h",
          "2024_Q4_H_10h",
          "2024_Q4_H_11h",
          "2024_Q4_H_12h",
          "2024_Q4_H_13h",
          "2024_Q4_H_14h",
          "2024_Q4_H_15h",
          "2024_Q4_H_16h",
          "2024_Q4_H_17h",
          "2024_Q4_H_18h",
          "2024_Q4_H_19h",
          "2024_Q4_H_20h",
          "2024_Q4_H_21h",
          "2024_Q4_H_22h",
          "2024_Q4_H_23h"
         ],
         "xaxis": "x",
         "y": [
          1588.8537252011067,
          1452.7048894816323,
          1374.4850220869728,
          1318.8202455348849,
          1292.072520076649,
          1325.0751246797122,
          1393.013031269791,
          1392.368310440118,
          1464.355678612809,
          1557.8355591415907,
          1610.2208031300293,
          1685.043833222983,
          1761.5730383329696,
          1774.0601129766517,
          1827.2611928329188,
          1915.6020597130964,
          1973.1727784203965,
          1976.0069279809697,
          1931.5038956826036,
          2017.39691906893,
          2025.4165387053067,
          2005.4174520255654,
          1909.502745572945,
          1743.7270063942492,
          1285.3304321441076,
          1234.0722380798431,
          1160.3595428480774,
          1100.3139099783384,
          1054.572392927176,
          1029.8301215530141,
          988.8786681922257,
          874.9005672365565,
          871.1344102973603,
          927.1411078797304,
          990.3254740211902,
          1056.5774326518022,
          1130.0490141015157,
          1186.4743789594409,
          1227.811372334413,
          1262.7055115169314,
          1305.3405517166982,
          1338.3533774720818,
          1361.747325674343,
          1528.3905780051214,
          1593.144767616459,
          1562.4944259519289,
          1489.718585915641,
          1397.7044086247238,
          1773.096154222811,
          1726.0511264112904,
          1725.9122127537491,
          1725.796698370794,
          1725.7386113149646,
          1725.8509234781372,
          1726.032152978013,
          1726.057296139468,
          1726.2113597414254,
          1776.0208151441134,
          1828.0278554031563,
          1907.3245336422242,
          1982.8167099417085,
          1984.2525209284286,
          2039.3259501891005,
          2121.4164546641327,
          2171.111307447291,
          2168.6170953088204,
          2110.8728110431093,
          2196.505015295619,
          2205.457850733888,
          2194.8972960585747,
          2106.275336579898,
          1930.128842577837,
          1333.1348478627538,
          1320.4740237164951,
          1233.1474966496348,
          1166.7955674340155,
          1136.9182427822284,
          1121.1974031608124,
          1091.6432627419003,
          1104.9241172346915,
          1085.0892973618581,
          1090.6970645871324,
          1128.7303836627052,
          1172.4100639744697,
          1242.9049215462967,
          1295.3669525226474,
          1334.4197197095282,
          1351.3488156820265,
          1377.526839944471,
          1400.3619762818787,
          1419.3171317979463,
          1571.3952779478275,
          1651.4312905813235,
          1621.4151448976825,
          1544.8283429483242,
          1453.6001304813558,
          1798.6195684700328,
          1787.974629639004,
          1787.7917546041504,
          1787.6697275040597,
          1787.6134771708,
          1787.7063852718204,
          1787.8500191788323,
          1787.9040477953386,
          1795.3309446605517,
          1798.7861312983612,
          1799.5744664294925,
          1812.9973655628482,
          1887.476795329258,
          1891.9447977794307,
          1941.6553574821462,
          2016.1132052795404,
          2053.2872605070756,
          2045.9732484350916,
          1981.3448411297327,
          2090.6492963845835,
          2174.087912983173,
          2118.0524199376296,
          1995.126487338056,
          1823.3707069635655,
          1148.0247435149856,
          1145.5291667828967,
          1142.6970796752657,
          1140.3218415767797,
          1133.1308586031657,
          1116.0115195529647,
          1068.8335309841036,
          992.0196375574762,
          1029.635481666057,
          1082.2865700759942,
          1128.991011592597,
          1140.2865483298474,
          1142.5978637366197,
          1144.327919096388,
          1145.931391719214,
          1147.2189400929508,
          1150.2549372385204,
          1156.5834312663694,
          1172.666581357676,
          1345.6439142889933,
          1458.9192970818542,
          1433.3554565453446,
          1364.9203606626404,
          1250.8775576328924,
          2228.7853143399366,
          2092.3857422822616,
          2038.066492732355,
          2017.0102737686325,
          2008.3258437343466,
          2019.2906084659003,
          2047.8879606675562,
          2058.6750278789173,
          2166.98459789734,
          2246.6612539144153,
          2273.333630696385,
          2301.6096437974675,
          2314.5000073452807,
          2314.5000073489564,
          2314.500007375005,
          2314.5000074049954,
          2314.500007416871,
          2314.500007414003,
          2314.5000074060226,
          2379.321489483266,
          2373.958019965878,
          2314.5000074636932,
          2314.5000073897177,
          2297.575213012597,
          1724.175568707726,
          1724.085763842362,
          1723.8608419864474,
          1723.6525990208672,
          1723.4602380061633,
          1723.386927629162,
          1723.2457926614322,
          1722.9827363584996,
          1723.172016927661,
          1723.4424065387554,
          1723.6809022777495,
          1723.9065946629896,
          1724.1081774785716,
          1724.2147266443615,
          1724.249732783066,
          1724.2471176406634,
          1724.263831498742,
          1724.2737961910232,
          1724.3562678718604,
          1838.2753923062041,
          1877.4661000694655,
          1844.0671137797706,
          1769.08302581413,
          1724.385733111179,
          1730.0334100085747,
          1578.186056630033,
          1499.2522511576046,
          1443.6399618169362,
          1412.090343083333,
          1443.144337452007,
          1457.1136207902007,
          1288.1064224164334,
          1146.4633061153727,
          1069.759426885339,
          1069.433573195529,
          1070.447837489888,
          1113.3188940162722,
          1203.6959463124379,
          1400.5127119155925,
          1666.7029726472556,
          1889.9459650116883,
          2050.1417570987755,
          2023.5770673652478,
          2163.3862401182123,
          2206.928046239397,
          2164.847374755967,
          2048.265325393881,
          1875.1461015606917,
          2111.059195717838,
          2109.3071779307706,
          2103.730421282787,
          2098.319139638474,
          2096.1492812563242,
          2097.5152257825985,
          2098.8079024774324,
          2063.6814183839433,
          1927.0792236919845,
          1872.04943551733,
          1826.36551825148,
          1854.2387468906518,
          1932.1999046464323,
          2023.174096350537,
          2119.849831055246,
          2123.3691076240525,
          2130.5187523686973,
          2249.212761061208,
          2272.3015256449407,
          2456.22759519951,
          2515.001878654859,
          2432.166630584991,
          2293.026019940238,
          2144.816761075653,
          1836.4825861737334,
          1716.0869516082194,
          1636.3626492285705,
          1579.1793250872408,
          1550.2834012397007,
          1581.4451434990044,
          1583.925221556129,
          1429.7295985575633,
          1388.4998444814364,
          1388.499910866009,
          1388.4999292674693,
          1388.4999154340296,
          1388.4997643015163,
          1442.7408375566479,
          1611.0269256148651,
          1823.9051905661245,
          1994.458212182341,
          2121.688180759389,
          2121.509535872311,
          2270.1374527726152,
          2327.009252995657,
          2272.5327968925285,
          2146.5833231786455,
          1975.2832851706398,
          2407.204814992787,
          2405.7485529525597,
          2405.0753505010534,
          2404.5914185702254,
          2404.371362396596,
          2404.9201167637916,
          2405.741877904351,
          2405.5460778953216,
          2406.047547835168,
          2406.59067524399,
          2406.842536512122,
          2407.5448201458926,
          2408.289394990193,
          2408.3004266067883,
          2409.07448323266,
          2425.823005363301,
          2615.190442589255,
          2731.6400047929155,
          2702.1526291035793,
          2819.523221543345,
          2840.2002186538693,
          2808.515978270123,
          2685.279728170615,
          2523.138907417327,
          1658.87432403256,
          1612.1580146648662,
          1596.8341123923005,
          1588.0609548162918,
          1582.4120160917923,
          1586.0973998659015,
          1583.2327414923927,
          1565.1462705789206,
          1563.3824719209815,
          1563.0099246750042,
          1562.2244287895326,
          1563.8821907813992,
          1570.7932755406239,
          1581.7654057402326,
          1603.82848450587,
          1669.8731045914974,
          1829.9168633911524,
          1934.4701242878764,
          1930.6746801457775,
          2059.338909005626,
          2152.8788892158987,
          2099.6533474207986,
          1980.9179491887355,
          1812.5254589006863,
          2529.591588049745,
          2522.074313844084,
          2518.3268687293626,
          2515.3865638967172,
          2514.2043684664723,
          2516.293809893555,
          2519.6175274664993,
          2519.75939026969,
          2523.614177937405,
          2527.646306166836,
          2529.7604503429206,
          2533.7087826058696,
          2537.651843357776,
          2538.187450758718,
          2542.172272077936,
          2547.763156544203,
          2632.5811102972216,
          2725.5028050628093,
          2685.089939746582,
          2784.5447643242996,
          2861.248538455959,
          2803.969662941824,
          2674.2279060294313,
          2537.9657361149784,
          2011.6975757986193,
          1973.6474404773396,
          1973.25287044434,
          1972.98258720254,
          1972.8296236373956,
          1972.9555126497598,
          1973.1465976075053,
          1973.0387989705903,
          1973.3297869340904,
          1973.6440089647876,
          1973.8365256214265,
          1974.1494830199067,
          1974.5104643046213,
          1974.665428939775,
          1975.1003549316463,
          2033.8672903695456,
          2092.3691433590584,
          2185.0396492747473,
          2204.424347464007,
          2357.0162580357546,
          2359.815868979385,
          2303.2593112141553,
          2187.4687640108027,
          2052.7640726694594,
          3316.6438381686803,
          3304.9167949253856,
          3271.8910941547138,
          3206.13961224142,
          3174.324855685194,
          3214.5847603820916,
          3266.1194062870172,
          3183.376019776148,
          3162.1266501061145,
          3157.801240645284,
          3128.740246277558,
          3163.3469483337212,
          3245.6495887958927,
          3295.7693577779587,
          3315.108264708701,
          3329.9891745046593,
          3350.6696730935446,
          3369.2367961613495,
          3367.254609998387,
          3436.135130953622,
          3427.031030717783,
          3390.065026273451,
          3348.3817458042854,
          3327.381855555927
         ],
         "yaxis": "y"
        },
        {
         "hovertemplate": "Tech=Menores<br>timestamp=%{x}<br>DispatchGen_MW=%{y}<extra></extra>",
         "legendgroup": "Menores",
         "line": {
          "color": "#FFA15A",
          "dash": "solid"
         },
         "marker": {
          "symbol": "circle"
         },
         "mode": "lines",
         "name": "Menores",
         "showlegend": true,
         "type": "scattergl",
         "x": [
          "2023_Q1_L_0h",
          "2023_Q1_L_1h",
          "2023_Q1_L_2h",
          "2023_Q1_L_3h",
          "2023_Q1_L_4h",
          "2023_Q1_L_5h",
          "2023_Q1_L_6h",
          "2023_Q1_L_7h",
          "2023_Q1_L_8h",
          "2023_Q1_L_9h",
          "2023_Q1_L_10h",
          "2023_Q1_L_11h",
          "2023_Q1_L_12h",
          "2023_Q1_L_13h",
          "2023_Q1_L_14h",
          "2023_Q1_L_15h",
          "2023_Q1_L_16h",
          "2023_Q1_L_17h",
          "2023_Q1_L_18h",
          "2023_Q1_L_19h",
          "2023_Q1_L_20h",
          "2023_Q1_L_21h",
          "2023_Q1_L_22h",
          "2023_Q1_L_23h",
          "2023_Q1_H_0h",
          "2023_Q1_H_1h",
          "2023_Q1_H_2h",
          "2023_Q1_H_3h",
          "2023_Q1_H_4h",
          "2023_Q1_H_5h",
          "2023_Q1_H_6h",
          "2023_Q1_H_7h",
          "2023_Q1_H_8h",
          "2023_Q1_H_9h",
          "2023_Q1_H_10h",
          "2023_Q1_H_11h",
          "2023_Q1_H_12h",
          "2023_Q1_H_13h",
          "2023_Q1_H_14h",
          "2023_Q1_H_15h",
          "2023_Q1_H_16h",
          "2023_Q1_H_17h",
          "2023_Q1_H_18h",
          "2023_Q1_H_19h",
          "2023_Q1_H_20h",
          "2023_Q1_H_21h",
          "2023_Q1_H_22h",
          "2023_Q1_H_23h",
          "2023_Q2_L_0h",
          "2023_Q2_L_1h",
          "2023_Q2_L_2h",
          "2023_Q2_L_3h",
          "2023_Q2_L_4h",
          "2023_Q2_L_5h",
          "2023_Q2_L_6h",
          "2023_Q2_L_7h",
          "2023_Q2_L_8h",
          "2023_Q2_L_9h",
          "2023_Q2_L_10h",
          "2023_Q2_L_11h",
          "2023_Q2_L_12h",
          "2023_Q2_L_13h",
          "2023_Q2_L_14h",
          "2023_Q2_L_15h",
          "2023_Q2_L_16h",
          "2023_Q2_L_17h",
          "2023_Q2_L_18h",
          "2023_Q2_L_19h",
          "2023_Q2_L_20h",
          "2023_Q2_L_21h",
          "2023_Q2_L_22h",
          "2023_Q2_L_23h",
          "2023_Q2_H_0h",
          "2023_Q2_H_1h",
          "2023_Q2_H_2h",
          "2023_Q2_H_3h",
          "2023_Q2_H_4h",
          "2023_Q2_H_5h",
          "2023_Q2_H_6h",
          "2023_Q2_H_7h",
          "2023_Q2_H_8h",
          "2023_Q2_H_9h",
          "2023_Q2_H_10h",
          "2023_Q2_H_11h",
          "2023_Q2_H_12h",
          "2023_Q2_H_13h",
          "2023_Q2_H_14h",
          "2023_Q2_H_15h",
          "2023_Q2_H_16h",
          "2023_Q2_H_17h",
          "2023_Q2_H_18h",
          "2023_Q2_H_19h",
          "2023_Q2_H_20h",
          "2023_Q2_H_21h",
          "2023_Q2_H_22h",
          "2023_Q2_H_23h",
          "2023_Q3_L_0h",
          "2023_Q3_L_1h",
          "2023_Q3_L_2h",
          "2023_Q3_L_3h",
          "2023_Q3_L_4h",
          "2023_Q3_L_5h",
          "2023_Q3_L_6h",
          "2023_Q3_L_7h",
          "2023_Q3_L_8h",
          "2023_Q3_L_9h",
          "2023_Q3_L_10h",
          "2023_Q3_L_11h",
          "2023_Q3_L_12h",
          "2023_Q3_L_13h",
          "2023_Q3_L_14h",
          "2023_Q3_L_15h",
          "2023_Q3_L_16h",
          "2023_Q3_L_17h",
          "2023_Q3_L_18h",
          "2023_Q3_L_19h",
          "2023_Q3_L_20h",
          "2023_Q3_L_21h",
          "2023_Q3_L_22h",
          "2023_Q3_L_23h",
          "2023_Q3_H_0h",
          "2023_Q3_H_1h",
          "2023_Q3_H_2h",
          "2023_Q3_H_3h",
          "2023_Q3_H_4h",
          "2023_Q3_H_5h",
          "2023_Q3_H_6h",
          "2023_Q3_H_7h",
          "2023_Q3_H_8h",
          "2023_Q3_H_9h",
          "2023_Q3_H_10h",
          "2023_Q3_H_11h",
          "2023_Q3_H_12h",
          "2023_Q3_H_13h",
          "2023_Q3_H_14h",
          "2023_Q3_H_15h",
          "2023_Q3_H_16h",
          "2023_Q3_H_17h",
          "2023_Q3_H_18h",
          "2023_Q3_H_19h",
          "2023_Q3_H_20h",
          "2023_Q3_H_21h",
          "2023_Q3_H_22h",
          "2023_Q3_H_23h",
          "2023_Q4_L_0h",
          "2023_Q4_L_1h",
          "2023_Q4_L_2h",
          "2023_Q4_L_3h",
          "2023_Q4_L_4h",
          "2023_Q4_L_5h",
          "2023_Q4_L_6h",
          "2023_Q4_L_7h",
          "2023_Q4_L_8h",
          "2023_Q4_L_9h",
          "2023_Q4_L_10h",
          "2023_Q4_L_11h",
          "2023_Q4_L_12h",
          "2023_Q4_L_13h",
          "2023_Q4_L_14h",
          "2023_Q4_L_15h",
          "2023_Q4_L_16h",
          "2023_Q4_L_17h",
          "2023_Q4_L_18h",
          "2023_Q4_L_19h",
          "2023_Q4_L_20h",
          "2023_Q4_L_21h",
          "2023_Q4_L_22h",
          "2023_Q4_L_23h",
          "2023_Q4_H_0h",
          "2023_Q4_H_1h",
          "2023_Q4_H_2h",
          "2023_Q4_H_3h",
          "2023_Q4_H_4h",
          "2023_Q4_H_5h",
          "2023_Q4_H_6h",
          "2023_Q4_H_7h",
          "2023_Q4_H_8h",
          "2023_Q4_H_9h",
          "2023_Q4_H_10h",
          "2023_Q4_H_11h",
          "2023_Q4_H_12h",
          "2023_Q4_H_13h",
          "2023_Q4_H_14h",
          "2023_Q4_H_15h",
          "2023_Q4_H_16h",
          "2023_Q4_H_17h",
          "2023_Q4_H_18h",
          "2023_Q4_H_19h",
          "2023_Q4_H_20h",
          "2023_Q4_H_21h",
          "2023_Q4_H_22h",
          "2023_Q4_H_23h",
          "2024_Q1_L_0h",
          "2024_Q1_L_1h",
          "2024_Q1_L_2h",
          "2024_Q1_L_3h",
          "2024_Q1_L_4h",
          "2024_Q1_L_5h",
          "2024_Q1_L_6h",
          "2024_Q1_L_7h",
          "2024_Q1_L_8h",
          "2024_Q1_L_9h",
          "2024_Q1_L_10h",
          "2024_Q1_L_11h",
          "2024_Q1_L_12h",
          "2024_Q1_L_13h",
          "2024_Q1_L_14h",
          "2024_Q1_L_15h",
          "2024_Q1_L_16h",
          "2024_Q1_L_17h",
          "2024_Q1_L_18h",
          "2024_Q1_L_19h",
          "2024_Q1_L_20h",
          "2024_Q1_L_21h",
          "2024_Q1_L_22h",
          "2024_Q1_L_23h",
          "2024_Q1_H_0h",
          "2024_Q1_H_1h",
          "2024_Q1_H_2h",
          "2024_Q1_H_3h",
          "2024_Q1_H_4h",
          "2024_Q1_H_5h",
          "2024_Q1_H_6h",
          "2024_Q1_H_7h",
          "2024_Q1_H_8h",
          "2024_Q1_H_9h",
          "2024_Q1_H_10h",
          "2024_Q1_H_11h",
          "2024_Q1_H_12h",
          "2024_Q1_H_13h",
          "2024_Q1_H_14h",
          "2024_Q1_H_15h",
          "2024_Q1_H_16h",
          "2024_Q1_H_17h",
          "2024_Q1_H_18h",
          "2024_Q1_H_19h",
          "2024_Q1_H_20h",
          "2024_Q1_H_21h",
          "2024_Q1_H_22h",
          "2024_Q1_H_23h",
          "2024_Q2_L_0h",
          "2024_Q2_L_1h",
          "2024_Q2_L_2h",
          "2024_Q2_L_3h",
          "2024_Q2_L_4h",
          "2024_Q2_L_5h",
          "2024_Q2_L_6h",
          "2024_Q2_L_7h",
          "2024_Q2_L_8h",
          "2024_Q2_L_9h",
          "2024_Q2_L_10h",
          "2024_Q2_L_11h",
          "2024_Q2_L_12h",
          "2024_Q2_L_13h",
          "2024_Q2_L_14h",
          "2024_Q2_L_15h",
          "2024_Q2_L_16h",
          "2024_Q2_L_17h",
          "2024_Q2_L_18h",
          "2024_Q2_L_19h",
          "2024_Q2_L_20h",
          "2024_Q2_L_21h",
          "2024_Q2_L_22h",
          "2024_Q2_L_23h",
          "2024_Q2_H_0h",
          "2024_Q2_H_1h",
          "2024_Q2_H_2h",
          "2024_Q2_H_3h",
          "2024_Q2_H_4h",
          "2024_Q2_H_5h",
          "2024_Q2_H_6h",
          "2024_Q2_H_7h",
          "2024_Q2_H_8h",
          "2024_Q2_H_9h",
          "2024_Q2_H_10h",
          "2024_Q2_H_11h",
          "2024_Q2_H_12h",
          "2024_Q2_H_13h",
          "2024_Q2_H_14h",
          "2024_Q2_H_15h",
          "2024_Q2_H_16h",
          "2024_Q2_H_17h",
          "2024_Q2_H_18h",
          "2024_Q2_H_19h",
          "2024_Q2_H_20h",
          "2024_Q2_H_21h",
          "2024_Q2_H_22h",
          "2024_Q2_H_23h",
          "2024_Q3_L_0h",
          "2024_Q3_L_1h",
          "2024_Q3_L_2h",
          "2024_Q3_L_3h",
          "2024_Q3_L_4h",
          "2024_Q3_L_5h",
          "2024_Q3_L_6h",
          "2024_Q3_L_7h",
          "2024_Q3_L_8h",
          "2024_Q3_L_9h",
          "2024_Q3_L_10h",
          "2024_Q3_L_11h",
          "2024_Q3_L_12h",
          "2024_Q3_L_13h",
          "2024_Q3_L_14h",
          "2024_Q3_L_15h",
          "2024_Q3_L_16h",
          "2024_Q3_L_17h",
          "2024_Q3_L_18h",
          "2024_Q3_L_19h",
          "2024_Q3_L_20h",
          "2024_Q3_L_21h",
          "2024_Q3_L_22h",
          "2024_Q3_L_23h",
          "2024_Q3_H_0h",
          "2024_Q3_H_1h",
          "2024_Q3_H_2h",
          "2024_Q3_H_3h",
          "2024_Q3_H_4h",
          "2024_Q3_H_5h",
          "2024_Q3_H_6h",
          "2024_Q3_H_7h",
          "2024_Q3_H_8h",
          "2024_Q3_H_9h",
          "2024_Q3_H_10h",
          "2024_Q3_H_11h",
          "2024_Q3_H_12h",
          "2024_Q3_H_13h",
          "2024_Q3_H_14h",
          "2024_Q3_H_15h",
          "2024_Q3_H_16h",
          "2024_Q3_H_17h",
          "2024_Q3_H_18h",
          "2024_Q3_H_19h",
          "2024_Q3_H_20h",
          "2024_Q3_H_21h",
          "2024_Q3_H_22h",
          "2024_Q3_H_23h",
          "2024_Q4_L_0h",
          "2024_Q4_L_1h",
          "2024_Q4_L_2h",
          "2024_Q4_L_3h",
          "2024_Q4_L_4h",
          "2024_Q4_L_5h",
          "2024_Q4_L_6h",
          "2024_Q4_L_7h",
          "2024_Q4_L_8h",
          "2024_Q4_L_9h",
          "2024_Q4_L_10h",
          "2024_Q4_L_11h",
          "2024_Q4_L_12h",
          "2024_Q4_L_13h",
          "2024_Q4_L_14h",
          "2024_Q4_L_15h",
          "2024_Q4_L_16h",
          "2024_Q4_L_17h",
          "2024_Q4_L_18h",
          "2024_Q4_L_19h",
          "2024_Q4_L_20h",
          "2024_Q4_L_21h",
          "2024_Q4_L_22h",
          "2024_Q4_L_23h",
          "2024_Q4_H_0h",
          "2024_Q4_H_1h",
          "2024_Q4_H_2h",
          "2024_Q4_H_3h",
          "2024_Q4_H_4h",
          "2024_Q4_H_5h",
          "2024_Q4_H_6h",
          "2024_Q4_H_7h",
          "2024_Q4_H_8h",
          "2024_Q4_H_9h",
          "2024_Q4_H_10h",
          "2024_Q4_H_11h",
          "2024_Q4_H_12h",
          "2024_Q4_H_13h",
          "2024_Q4_H_14h",
          "2024_Q4_H_15h",
          "2024_Q4_H_16h",
          "2024_Q4_H_17h",
          "2024_Q4_H_18h",
          "2024_Q4_H_19h",
          "2024_Q4_H_20h",
          "2024_Q4_H_21h",
          "2024_Q4_H_22h",
          "2024_Q4_H_23h"
         ],
         "xaxis": "x",
         "y": [
          123.46038850825423,
          123.16769330136627,
          123.14569611632912,
          123.0308977724557,
          123.17461725116586,
          122.54791048554517,
          123.31079540597419,
          122.98895750424148,
          122.05914764878649,
          122.5112756974311,
          122.73017930671179,
          122.81287548116102,
          122.55501607216658,
          121.84114526170576,
          121.09805552417473,
          119.51789464861298,
          118.54713685934826,
          119.33377426862303,
          119.28371363663435,
          120.15311308314509,
          121.49368014928783,
          121.34498191957235,
          122.31722935559475,
          122.49568007487943,
          122.87210396652054,
          123.76900657153985,
          124.60885045279862,
          124.56585485904067,
          122.14719497278688,
          122.16563950904312,
          123.289606019086,
          124.27354617966029,
          123.46288467558381,
          122.79944592910834,
          121.45961378913903,
          120.88877758494198,
          121.86600973744999,
          120.5623381311816,
          120.6680341239215,
          119.58338168445815,
          118.77343028427526,
          118.60240496035378,
          116.36973277236073,
          117.11571519510672,
          119.8525421260991,
          121.53962976160291,
          121.05687578245684,
          124.42747696330403,
          141.4780636632645,
          141.99790434697576,
          143.51028798475605,
          143.6215161322473,
          143.118287579109,
          139.882126163264,
          142.43513313983328,
          142.80485113446494,
          142.58660831946818,
          142.1286747240031,
          141.24856026147745,
          141.20339167671415,
          141.86805133687767,
          141.8352461401244,
          141.08081741605773,
          140.9891150876176,
          139.4956861281302,
          140.85380552241722,
          141.38110859777353,
          142.0316063210722,
          141.69658703809608,
          141.4876938873856,
          142.57604228265834,
          142.43272404451508,
          140.08606559657485,
          142.60500049872903,
          145.4892379157806,
          144.5690060112655,
          145.4238380219159,
          142.4796680493073,
          145.53772084947576,
          146.76063603793793,
          146.70713726513353,
          145.61266762570006,
          146.51405603737277,
          144.81860349179448,
          145.0168719541317,
          144.79150567563684,
          143.83138165188572,
          141.92278744713425,
          141.9119390838556,
          142.8458081694481,
          142.25099567732101,
          142.08509696732963,
          141.73483969502723,
          141.105602532721,
          142.07303685899026,
          141.13195140900004,
          132.99360081238166,
          134.02434071589693,
          133.60896244495552,
          133.94039242342316,
          134.6165018816689,
          133.35750341580413,
          133.7520171804572,
          133.3418160986294,
          133.92991380969912,
          133.57311522199862,
          132.5886015979405,
          132.22183874704982,
          133.31727783542428,
          132.89196162394498,
          133.16591338851487,
          132.42285101865457,
          131.50421330831307,
          132.0016994913199,
          132.54660976847262,
          132.5344873965682,
          132.8384154762293,
          132.3729034333267,
          132.139620201958,
          132.64039964241655,
          132.06412812984104,
          130.8116221752069,
          132.44661767704463,
          133.3204670358847,
          132.87115258835456,
          133.29365467878122,
          132.48127513751857,
          131.22065387467626,
          131.43942567982725,
          133.14945984879483,
          134.10815373909827,
          133.98831189799742,
          133.87961963411897,
          135.4979152274589,
          136.3783656941818,
          135.54316444028777,
          134.72536344287485,
          134.58254659607294,
          133.93712623869976,
          134.24990850172932,
          133.41237766070512,
          134.1014887393321,
          132.88442553157728,
          134.2161147235609,
          128.7976829666522,
          129.08647235681437,
          128.68452673119936,
          128.54399597731634,
          128.61372496680562,
          128.30729375293618,
          128.6463372838832,
          127.69922984196423,
          128.3323423110479,
          128.08500534372527,
          127.47973298333677,
          127.03931536581473,
          127.1748850018128,
          126.92516606022187,
          126.78601222282101,
          125.94893561255697,
          126.23738109074444,
          127.05090120074473,
          128.29083292294303,
          128.2410595407553,
          128.09210750007688,
          127.81245751167532,
          129.1466925422367,
          128.9211489296729,
          129.83901361856195,
          130.08422850511005,
          131.94154182817158,
          131.6613936906356,
          132.75565412029985,
          128.92491013789083,
          131.31315785795417,
          130.77888304431633,
          130.50167829632161,
          130.19468511325312,
          130.79434721474007,
          133.62482306050788,
          132.59863441641764,
          132.47649503847967,
          131.39885275483937,
          131.4238370094642,
          130.88004257089904,
          131.24520543041126,
          130.1369752292408,
          130.1042713540126,
          129.59258571884322,
          126.52422877477922,
          128.19227756587713,
          128.92216252322615,
          123.46038891616085,
          123.16769371157413,
          123.14569652671139,
          123.03089736416919,
          123.17461725201633,
          122.54791043949852,
          123.31079495112773,
          122.98895663942236,
          122.05914719321132,
          122.51127523802738,
          122.73017925781605,
          122.81287543263599,
          122.55501602522206,
          121.84114439250529,
          121.0980555234551,
          119.51789418965001,
          118.54713644785818,
          119.3337746806587,
          119.2837140487569,
          120.15311308296788,
          121.49367973805445,
          121.34498233051853,
          122.31722935571727,
          122.49568007546694,
          122.8721036671285,
          123.76900690349285,
          124.60885078433981,
          124.5658551915776,
          122.14719498273863,
          122.16563920950362,
          123.28960602910846,
          124.27354620265783,
          123.46288469852732,
          122.79944595193629,
          121.45961418711946,
          120.88877796896898,
          121.86601012083064,
          120.56233884047667,
          120.66803483472162,
          119.58338175729112,
          118.77343062100721,
          118.60240536671024,
          116.36973349423498,
          117.11571552475418,
          119.85254245560259,
          121.53962977906028,
          121.05687542335718,
          124.42747660574506,
          141.47806289467408,
          141.99790358024723,
          143.51028802068703,
          143.6215161682766,
          143.11828761461265,
          139.88212576186183,
          142.43513273888152,
          142.80485153640427,
          142.58660791781134,
          142.1286743202517,
          141.2485602606875,
          141.20339207940737,
          141.86805093274734,
          141.8352465427759,
          141.0808174153281,
          140.98911508707945,
          139.49568572486,
          140.85380512020447,
          141.38110819557266,
          142.03160595616782,
          141.696587074865,
          141.4876931199133,
          142.57604191816986,
          142.4327236798348,
          140.08606535426537,
          142.60499994042465,
          145.48923736053632,
          144.56900577095922,
          145.42383776536053,
          142.479668063475,
          145.53772056434767,
          146.76063606846725,
          146.70713759545066,
          145.61266765239964,
          146.51405574808285,
          144.81860381826843,
          145.01687198403704,
          144.7915056893157,
          143.83138198316973,
          141.92278747949007,
          141.91193879751532,
          142.84580818556208,
          142.25099569336987,
          142.08509697098577,
          141.73483969869065,
          141.1056022330448,
          142.07303687884135,
          141.1319517312637,
          132.99360040896306,
          134.02434071620485,
          133.60896244526361,
          133.94039242373097,
          134.61650188197729,
          133.35750301437872,
          133.75201718100956,
          133.34181609919384,
          133.92991421101192,
          133.57311481870923,
          132.58860119425367,
          132.22183914970827,
          133.31727783490325,
          132.89196162343615,
          133.16591298493904,
          132.4228510181354,
          131.50421330782754,
          132.00169949221947,
          132.54660936530175,
          132.53448694180452,
          132.83841547686495,
          132.3729025756934,
          132.13961974734372,
          132.6403995890573,
          132.06412778609206,
          130.8116218301299,
          132.44661733178586,
          133.32046674945764,
          132.8711525620104,
          133.2936547115457,
          132.4812754706739,
          131.22065390802655,
          131.4394253932884,
          133.14945956321375,
          134.1081537717977,
          133.98831161168857,
          133.8796199663563,
          135.49791526007337,
          136.37836540940108,
          135.5431644544367,
          134.7253631596192,
          134.5825463120507,
          133.93712627351576,
          134.2499084795586,
          133.41237732417193,
          134.10148844210735,
          132.88442518948963,
          134.2161146974074,
          128.79768336887994,
          129.0864727576039,
          128.68452632841783,
          128.54399637856525,
          128.6137249662422,
          128.30729375236425,
          128.64633688080812,
          127.69923024391188,
          128.33234271230975,
          128.08500534251343,
          127.47973257923519,
          127.03931536465802,
          127.1748845974396,
          126.92516605889493,
          126.78601222149668,
          125.94893561230259,
          126.23738149416229,
          127.05090160377272,
          128.29083292337123,
          128.24105954102384,
          128.09210790237836,
          127.8124574501461,
          129.14669167669263,
          128.92114893026258,
          129.8390135793888,
          130.08422846448948,
          131.94154147892613,
          131.66139302050271,
          132.7556537715024,
          128.92490984018735,
          131.3131581905709,
          130.77888337723996,
          130.50167862857117,
          130.19468513822346,
          130.79434754714862,
          133.6248230853543,
          132.59863474702001,
          132.47649505081236,
          131.39885246065774,
          131.42383671440206,
          130.880042275816,
          131.2452054571135,
          130.1369752416268,
          130.10427067675352,
          129.59258567253502,
          126.52422841842387,
          128.19227688674553,
          128.9221624840675
         ],
         "yaxis": "y"
        }
       ],
       "layout": {
        "legend": {
         "title": {
          "text": "Tech"
         },
         "tracegroupgap": 0
        },
        "plot_bgcolor": "white",
        "template": {
         "data": {
          "bar": [
           {
            "error_x": {
             "color": "#2a3f5f"
            },
            "error_y": {
             "color": "#2a3f5f"
            },
            "marker": {
             "line": {
              "color": "#E5ECF6",
              "width": 0.5
             },
             "pattern": {
              "fillmode": "overlay",
              "size": 10,
              "solidity": 0.2
             }
            },
            "type": "bar"
           }
          ],
          "barpolar": [
           {
            "marker": {
             "line": {
              "color": "#E5ECF6",
              "width": 0.5
             },
             "pattern": {
              "fillmode": "overlay",
              "size": 10,
              "solidity": 0.2
             }
            },
            "type": "barpolar"
           }
          ],
          "carpet": [
           {
            "aaxis": {
             "endlinecolor": "#2a3f5f",
             "gridcolor": "white",
             "linecolor": "white",
             "minorgridcolor": "white",
             "startlinecolor": "#2a3f5f"
            },
            "baxis": {
             "endlinecolor": "#2a3f5f",
             "gridcolor": "white",
             "linecolor": "white",
             "minorgridcolor": "white",
             "startlinecolor": "#2a3f5f"
            },
            "type": "carpet"
           }
          ],
          "choropleth": [
           {
            "colorbar": {
             "outlinewidth": 0,
             "ticks": ""
            },
            "type": "choropleth"
           }
          ],
          "contour": [
           {
            "colorbar": {
             "outlinewidth": 0,
             "ticks": ""
            },
            "colorscale": [
             [
              0,
              "#0d0887"
             ],
             [
              0.1111111111111111,
              "#46039f"
             ],
             [
              0.2222222222222222,
              "#7201a8"
             ],
             [
              0.3333333333333333,
              "#9c179e"
             ],
             [
              0.4444444444444444,
              "#bd3786"
             ],
             [
              0.5555555555555556,
              "#d8576b"
             ],
             [
              0.6666666666666666,
              "#ed7953"
             ],
             [
              0.7777777777777778,
              "#fb9f3a"
             ],
             [
              0.8888888888888888,
              "#fdca26"
             ],
             [
              1,
              "#f0f921"
             ]
            ],
            "type": "contour"
           }
          ],
          "contourcarpet": [
           {
            "colorbar": {
             "outlinewidth": 0,
             "ticks": ""
            },
            "type": "contourcarpet"
           }
          ],
          "heatmap": [
           {
            "colorbar": {
             "outlinewidth": 0,
             "ticks": ""
            },
            "colorscale": [
             [
              0,
              "#0d0887"
             ],
             [
              0.1111111111111111,
              "#46039f"
             ],
             [
              0.2222222222222222,
              "#7201a8"
             ],
             [
              0.3333333333333333,
              "#9c179e"
             ],
             [
              0.4444444444444444,
              "#bd3786"
             ],
             [
              0.5555555555555556,
              "#d8576b"
             ],
             [
              0.6666666666666666,
              "#ed7953"
             ],
             [
              0.7777777777777778,
              "#fb9f3a"
             ],
             [
              0.8888888888888888,
              "#fdca26"
             ],
             [
              1,
              "#f0f921"
             ]
            ],
            "type": "heatmap"
           }
          ],
          "heatmapgl": [
           {
            "colorbar": {
             "outlinewidth": 0,
             "ticks": ""
            },
            "colorscale": [
             [
              0,
              "#0d0887"
             ],
             [
              0.1111111111111111,
              "#46039f"
             ],
             [
              0.2222222222222222,
              "#7201a8"
             ],
             [
              0.3333333333333333,
              "#9c179e"
             ],
             [
              0.4444444444444444,
              "#bd3786"
             ],
             [
              0.5555555555555556,
              "#d8576b"
             ],
             [
              0.6666666666666666,
              "#ed7953"
             ],
             [
              0.7777777777777778,
              "#fb9f3a"
             ],
             [
              0.8888888888888888,
              "#fdca26"
             ],
             [
              1,
              "#f0f921"
             ]
            ],
            "type": "heatmapgl"
           }
          ],
          "histogram": [
           {
            "marker": {
             "pattern": {
              "fillmode": "overlay",
              "size": 10,
              "solidity": 0.2
             }
            },
            "type": "histogram"
           }
          ],
          "histogram2d": [
           {
            "colorbar": {
             "outlinewidth": 0,
             "ticks": ""
            },
            "colorscale": [
             [
              0,
              "#0d0887"
             ],
             [
              0.1111111111111111,
              "#46039f"
             ],
             [
              0.2222222222222222,
              "#7201a8"
             ],
             [
              0.3333333333333333,
              "#9c179e"
             ],
             [
              0.4444444444444444,
              "#bd3786"
             ],
             [
              0.5555555555555556,
              "#d8576b"
             ],
             [
              0.6666666666666666,
              "#ed7953"
             ],
             [
              0.7777777777777778,
              "#fb9f3a"
             ],
             [
              0.8888888888888888,
              "#fdca26"
             ],
             [
              1,
              "#f0f921"
             ]
            ],
            "type": "histogram2d"
           }
          ],
          "histogram2dcontour": [
           {
            "colorbar": {
             "outlinewidth": 0,
             "ticks": ""
            },
            "colorscale": [
             [
              0,
              "#0d0887"
             ],
             [
              0.1111111111111111,
              "#46039f"
             ],
             [
              0.2222222222222222,
              "#7201a8"
             ],
             [
              0.3333333333333333,
              "#9c179e"
             ],
             [
              0.4444444444444444,
              "#bd3786"
             ],
             [
              0.5555555555555556,
              "#d8576b"
             ],
             [
              0.6666666666666666,
              "#ed7953"
             ],
             [
              0.7777777777777778,
              "#fb9f3a"
             ],
             [
              0.8888888888888888,
              "#fdca26"
             ],
             [
              1,
              "#f0f921"
             ]
            ],
            "type": "histogram2dcontour"
           }
          ],
          "mesh3d": [
           {
            "colorbar": {
             "outlinewidth": 0,
             "ticks": ""
            },
            "type": "mesh3d"
           }
          ],
          "parcoords": [
           {
            "line": {
             "colorbar": {
              "outlinewidth": 0,
              "ticks": ""
             }
            },
            "type": "parcoords"
           }
          ],
          "pie": [
           {
            "automargin": true,
            "type": "pie"
           }
          ],
          "scatter": [
           {
            "fillpattern": {
             "fillmode": "overlay",
             "size": 10,
             "solidity": 0.2
            },
            "type": "scatter"
           }
          ],
          "scatter3d": [
           {
            "line": {
             "colorbar": {
              "outlinewidth": 0,
              "ticks": ""
             }
            },
            "marker": {
             "colorbar": {
              "outlinewidth": 0,
              "ticks": ""
             }
            },
            "type": "scatter3d"
           }
          ],
          "scattercarpet": [
           {
            "marker": {
             "colorbar": {
              "outlinewidth": 0,
              "ticks": ""
             }
            },
            "type": "scattercarpet"
           }
          ],
          "scattergeo": [
           {
            "marker": {
             "colorbar": {
              "outlinewidth": 0,
              "ticks": ""
             }
            },
            "type": "scattergeo"
           }
          ],
          "scattergl": [
           {
            "marker": {
             "colorbar": {
              "outlinewidth": 0,
              "ticks": ""
             }
            },
            "type": "scattergl"
           }
          ],
          "scattermapbox": [
           {
            "marker": {
             "colorbar": {
              "outlinewidth": 0,
              "ticks": ""
             }
            },
            "type": "scattermapbox"
           }
          ],
          "scatterpolar": [
           {
            "marker": {
             "colorbar": {
              "outlinewidth": 0,
              "ticks": ""
             }
            },
            "type": "scatterpolar"
           }
          ],
          "scatterpolargl": [
           {
            "marker": {
             "colorbar": {
              "outlinewidth": 0,
              "ticks": ""
             }
            },
            "type": "scatterpolargl"
           }
          ],
          "scatterternary": [
           {
            "marker": {
             "colorbar": {
              "outlinewidth": 0,
              "ticks": ""
             }
            },
            "type": "scatterternary"
           }
          ],
          "surface": [
           {
            "colorbar": {
             "outlinewidth": 0,
             "ticks": ""
            },
            "colorscale": [
             [
              0,
              "#0d0887"
             ],
             [
              0.1111111111111111,
              "#46039f"
             ],
             [
              0.2222222222222222,
              "#7201a8"
             ],
             [
              0.3333333333333333,
              "#9c179e"
             ],
             [
              0.4444444444444444,
              "#bd3786"
             ],
             [
              0.5555555555555556,
              "#d8576b"
             ],
             [
              0.6666666666666666,
              "#ed7953"
             ],
             [
              0.7777777777777778,
              "#fb9f3a"
             ],
             [
              0.8888888888888888,
              "#fdca26"
             ],
             [
              1,
              "#f0f921"
             ]
            ],
            "type": "surface"
           }
          ],
          "table": [
           {
            "cells": {
             "fill": {
              "color": "#EBF0F8"
             },
             "line": {
              "color": "white"
             }
            },
            "header": {
             "fill": {
              "color": "#C8D4E3"
             },
             "line": {
              "color": "white"
             }
            },
            "type": "table"
           }
          ]
         },
         "layout": {
          "annotationdefaults": {
           "arrowcolor": "#2a3f5f",
           "arrowhead": 0,
           "arrowwidth": 1
          },
          "autotypenumbers": "strict",
          "coloraxis": {
           "colorbar": {
            "outlinewidth": 0,
            "ticks": ""
           }
          },
          "colorscale": {
           "diverging": [
            [
             0,
             "#8e0152"
            ],
            [
             0.1,
             "#c51b7d"
            ],
            [
             0.2,
             "#de77ae"
            ],
            [
             0.3,
             "#f1b6da"
            ],
            [
             0.4,
             "#fde0ef"
            ],
            [
             0.5,
             "#f7f7f7"
            ],
            [
             0.6,
             "#e6f5d0"
            ],
            [
             0.7,
             "#b8e186"
            ],
            [
             0.8,
             "#7fbc41"
            ],
            [
             0.9,
             "#4d9221"
            ],
            [
             1,
             "#276419"
            ]
           ],
           "sequential": [
            [
             0,
             "#0d0887"
            ],
            [
             0.1111111111111111,
             "#46039f"
            ],
            [
             0.2222222222222222,
             "#7201a8"
            ],
            [
             0.3333333333333333,
             "#9c179e"
            ],
            [
             0.4444444444444444,
             "#bd3786"
            ],
            [
             0.5555555555555556,
             "#d8576b"
            ],
            [
             0.6666666666666666,
             "#ed7953"
            ],
            [
             0.7777777777777778,
             "#fb9f3a"
            ],
            [
             0.8888888888888888,
             "#fdca26"
            ],
            [
             1,
             "#f0f921"
            ]
           ],
           "sequentialminus": [
            [
             0,
             "#0d0887"
            ],
            [
             0.1111111111111111,
             "#46039f"
            ],
            [
             0.2222222222222222,
             "#7201a8"
            ],
            [
             0.3333333333333333,
             "#9c179e"
            ],
            [
             0.4444444444444444,
             "#bd3786"
            ],
            [
             0.5555555555555556,
             "#d8576b"
            ],
            [
             0.6666666666666666,
             "#ed7953"
            ],
            [
             0.7777777777777778,
             "#fb9f3a"
            ],
            [
             0.8888888888888888,
             "#fdca26"
            ],
            [
             1,
             "#f0f921"
            ]
           ]
          },
          "colorway": [
           "#636efa",
           "#EF553B",
           "#00cc96",
           "#ab63fa",
           "#FFA15A",
           "#19d3f3",
           "#FF6692",
           "#B6E880",
           "#FF97FF",
           "#FECB52"
          ],
          "font": {
           "color": "#2a3f5f"
          },
          "geo": {
           "bgcolor": "white",
           "lakecolor": "white",
           "landcolor": "#E5ECF6",
           "showlakes": true,
           "showland": true,
           "subunitcolor": "white"
          },
          "hoverlabel": {
           "align": "left"
          },
          "hovermode": "closest",
          "mapbox": {
           "style": "light"
          },
          "paper_bgcolor": "white",
          "plot_bgcolor": "#E5ECF6",
          "polar": {
           "angularaxis": {
            "gridcolor": "white",
            "linecolor": "white",
            "ticks": ""
           },
           "bgcolor": "#E5ECF6",
           "radialaxis": {
            "gridcolor": "white",
            "linecolor": "white",
            "ticks": ""
           }
          },
          "scene": {
           "xaxis": {
            "backgroundcolor": "#E5ECF6",
            "gridcolor": "white",
            "gridwidth": 2,
            "linecolor": "white",
            "showbackground": true,
            "ticks": "",
            "zerolinecolor": "white"
           },
           "yaxis": {
            "backgroundcolor": "#E5ECF6",
            "gridcolor": "white",
            "gridwidth": 2,
            "linecolor": "white",
            "showbackground": true,
            "ticks": "",
            "zerolinecolor": "white"
           },
           "zaxis": {
            "backgroundcolor": "#E5ECF6",
            "gridcolor": "white",
            "gridwidth": 2,
            "linecolor": "white",
            "showbackground": true,
            "ticks": "",
            "zerolinecolor": "white"
           }
          },
          "shapedefaults": {
           "line": {
            "color": "#2a3f5f"
           }
          },
          "ternary": {
           "aaxis": {
            "gridcolor": "white",
            "linecolor": "white",
            "ticks": ""
           },
           "baxis": {
            "gridcolor": "white",
            "linecolor": "white",
            "ticks": ""
           },
           "bgcolor": "#E5ECF6",
           "caxis": {
            "gridcolor": "white",
            "linecolor": "white",
            "ticks": ""
           }
          },
          "title": {
           "x": 0.05
          },
          "xaxis": {
           "automargin": true,
           "gridcolor": "white",
           "linecolor": "white",
           "ticks": "",
           "title": {
            "standoff": 15
           },
           "zerolinecolor": "white",
           "zerolinewidth": 2
          },
          "yaxis": {
           "automargin": true,
           "gridcolor": "white",
           "linecolor": "white",
           "ticks": "",
           "title": {
            "standoff": 15
           },
           "zerolinecolor": "white",
           "zerolinewidth": 2
          }
         }
        },
        "title": {
         "text": "Generation by Technology (Switch)"
        },
        "xaxis": {
         "anchor": "y",
         "domain": [
          0,
          1
         ],
         "gridcolor": "lightgray",
         "title": {
          "text": "timestamp"
         }
        },
        "yaxis": {
         "anchor": "x",
         "domain": [
          0,
          1
         ],
         "gridcolor": "lightgray",
         "title": {
          "text": "DispatchGen_MW"
         }
        }
       }
      }
     },
     "metadata": {},
     "output_type": "display_data"
    }
   ],
   "source": [
    "gen_disp = dispatch_sw.copy()\n",
    "# Add Timepoints\n",
    "gen_disp = pd.merge(gen_disp, timepoints, on='timestamp', how='inner')\n",
    "# Sort by timepoints to sort timestamps as well\n",
    "gen_disp = gen_disp.sort_values(by='timepoints_x')\n",
    "gen_disp.rename(columns={'timepoints_x': 'timepoints'}, inplace=True)\n",
    "\n",
    "# Change values on gen_tech to match Switch output\n",
    "gen_disp['gen_tech'] = gen_disp['gen_tech'].replace({\n",
    "    'Eolica': 'Eolica', 'Thermal': 'Thermal',\n",
    "    'pv_solar': 'Solar', 'Hidro': 'Hidro',\n",
    "    'Menores': 'Menores'})\n",
    "# Replace prefix 'labor_' by 'L_' and 'holidays_' by 'H_'\n",
    "gen_disp['timestamp'] = gen_disp['timestamp'].str.replace('labor_', 'L_')\n",
    "gen_disp['timestamp'] = gen_disp['timestamp'].str.replace('holidays_', 'H_')\n",
    "\n",
    "gen_disp['Tech'] = gen_disp['gen_tech']\n",
    "fig = px.line(\n",
    "    gen_disp, \n",
    "    x='timestamp', y='DispatchGen_MW', \n",
    "    color='Tech', title='Generation by Technology (Switch)'\n",
    ")\n",
    "fig.update_layout(plot_bgcolor='white',xaxis=dict(gridcolor='lightgray'),yaxis=dict(gridcolor='lightgray'))\n",
    "fig.show()"
   ]
  },
  {
   "cell_type": "markdown",
   "metadata": {},
   "source": [
    "### 3.4.5 Dispatch by Technology Switch x XM"
   ]
  },
  {
   "cell_type": "code",
   "execution_count": 76,
   "metadata": {},
   "outputs": [
    {
     "data": {
      "application/vnd.plotly.v1+json": {
       "config": {
        "plotlyServerURL": "https://plot.ly"
       },
       "data": [
        {
         "hovertemplate": "Tech=Menores<br>timestamp=%{x}<br>DispatchGen_MW=%{y}<extra></extra>",
         "legendgroup": "Menores",
         "line": {
          "color": "#AEE83C",
          "dash": "solid"
         },
         "marker": {
          "symbol": "circle"
         },
         "mode": "lines",
         "name": "Menores",
         "orientation": "v",
         "showlegend": true,
         "type": "scatter",
         "x": [
          "2023_Q1_L_0h",
          "2023_Q1_L_1h",
          "2023_Q1_L_2h",
          "2023_Q1_L_3h",
          "2023_Q1_L_4h",
          "2023_Q1_L_5h",
          "2023_Q1_L_6h",
          "2023_Q1_L_7h",
          "2023_Q1_L_8h",
          "2023_Q1_L_9h",
          "2023_Q1_L_10h",
          "2023_Q1_L_11h",
          "2023_Q1_L_12h",
          "2023_Q1_L_13h",
          "2023_Q1_L_14h",
          "2023_Q1_L_15h",
          "2023_Q1_L_16h",
          "2023_Q1_L_17h",
          "2023_Q1_L_18h",
          "2023_Q1_L_19h",
          "2023_Q1_L_20h",
          "2023_Q1_L_21h",
          "2023_Q1_L_22h",
          "2023_Q1_L_23h",
          "2023_Q1_H_0h",
          "2023_Q1_H_1h",
          "2023_Q1_H_2h",
          "2023_Q1_H_3h",
          "2023_Q1_H_4h",
          "2023_Q1_H_5h",
          "2023_Q1_H_6h",
          "2023_Q1_H_7h",
          "2023_Q1_H_8h",
          "2023_Q1_H_9h",
          "2023_Q1_H_10h",
          "2023_Q1_H_11h",
          "2023_Q1_H_12h",
          "2023_Q1_H_13h",
          "2023_Q1_H_14h",
          "2023_Q1_H_15h",
          "2023_Q1_H_16h",
          "2023_Q1_H_17h",
          "2023_Q1_H_18h",
          "2023_Q1_H_19h",
          "2023_Q1_H_20h",
          "2023_Q1_H_21h",
          "2023_Q1_H_22h",
          "2023_Q1_H_23h",
          "2023_Q2_L_0h",
          "2023_Q2_L_1h",
          "2023_Q2_L_2h",
          "2023_Q2_L_3h",
          "2023_Q2_L_4h",
          "2023_Q2_L_5h",
          "2023_Q2_L_6h",
          "2023_Q2_L_7h",
          "2023_Q2_L_8h",
          "2023_Q2_L_9h",
          "2023_Q2_L_10h",
          "2023_Q2_L_11h",
          "2023_Q2_L_12h",
          "2023_Q2_L_13h",
          "2023_Q2_L_14h",
          "2023_Q2_L_15h",
          "2023_Q2_L_16h",
          "2023_Q2_L_17h",
          "2023_Q2_L_18h",
          "2023_Q2_L_19h",
          "2023_Q2_L_20h",
          "2023_Q2_L_21h",
          "2023_Q2_L_22h",
          "2023_Q2_L_23h",
          "2023_Q2_H_0h",
          "2023_Q2_H_1h",
          "2023_Q2_H_2h",
          "2023_Q2_H_3h",
          "2023_Q2_H_4h",
          "2023_Q2_H_5h",
          "2023_Q2_H_6h",
          "2023_Q2_H_7h",
          "2023_Q2_H_8h",
          "2023_Q2_H_9h",
          "2023_Q2_H_10h",
          "2023_Q2_H_11h",
          "2023_Q2_H_12h",
          "2023_Q2_H_13h",
          "2023_Q2_H_14h",
          "2023_Q2_H_15h",
          "2023_Q2_H_16h",
          "2023_Q2_H_17h",
          "2023_Q2_H_18h",
          "2023_Q2_H_19h",
          "2023_Q2_H_20h",
          "2023_Q2_H_21h",
          "2023_Q2_H_22h",
          "2023_Q2_H_23h",
          "2023_Q3_L_0h",
          "2023_Q3_L_1h",
          "2023_Q3_L_2h",
          "2023_Q3_L_3h",
          "2023_Q3_L_4h",
          "2023_Q3_L_5h",
          "2023_Q3_L_6h",
          "2023_Q3_L_7h",
          "2023_Q3_L_8h",
          "2023_Q3_L_9h",
          "2023_Q3_L_10h",
          "2023_Q3_L_11h",
          "2023_Q3_L_12h",
          "2023_Q3_L_13h",
          "2023_Q3_L_14h",
          "2023_Q3_L_15h",
          "2023_Q3_L_16h",
          "2023_Q3_L_17h",
          "2023_Q3_L_18h",
          "2023_Q3_L_19h",
          "2023_Q3_L_20h",
          "2023_Q3_L_21h",
          "2023_Q3_L_22h",
          "2023_Q3_L_23h",
          "2023_Q3_H_0h",
          "2023_Q3_H_1h",
          "2023_Q3_H_2h",
          "2023_Q3_H_3h",
          "2023_Q3_H_4h",
          "2023_Q3_H_5h",
          "2023_Q3_H_6h",
          "2023_Q3_H_7h",
          "2023_Q3_H_8h",
          "2023_Q3_H_9h",
          "2023_Q3_H_10h",
          "2023_Q3_H_11h",
          "2023_Q3_H_12h",
          "2023_Q3_H_13h",
          "2023_Q3_H_14h",
          "2023_Q3_H_15h",
          "2023_Q3_H_16h",
          "2023_Q3_H_17h",
          "2023_Q3_H_18h",
          "2023_Q3_H_19h",
          "2023_Q3_H_20h",
          "2023_Q3_H_21h",
          "2023_Q3_H_22h",
          "2023_Q3_H_23h",
          "2023_Q4_L_0h",
          "2023_Q4_L_1h",
          "2023_Q4_L_2h",
          "2023_Q4_L_3h",
          "2023_Q4_L_4h",
          "2023_Q4_L_5h",
          "2023_Q4_L_6h",
          "2023_Q4_L_7h",
          "2023_Q4_L_8h",
          "2023_Q4_L_9h",
          "2023_Q4_L_10h",
          "2023_Q4_L_11h",
          "2023_Q4_L_12h",
          "2023_Q4_L_13h",
          "2023_Q4_L_14h",
          "2023_Q4_L_15h",
          "2023_Q4_L_16h",
          "2023_Q4_L_17h",
          "2023_Q4_L_18h",
          "2023_Q4_L_19h",
          "2023_Q4_L_20h",
          "2023_Q4_L_21h",
          "2023_Q4_L_22h",
          "2023_Q4_L_23h",
          "2023_Q4_H_0h",
          "2023_Q4_H_1h",
          "2023_Q4_H_2h",
          "2023_Q4_H_3h",
          "2023_Q4_H_4h",
          "2023_Q4_H_5h",
          "2023_Q4_H_6h",
          "2023_Q4_H_7h",
          "2023_Q4_H_8h",
          "2023_Q4_H_9h",
          "2023_Q4_H_10h",
          "2023_Q4_H_11h",
          "2023_Q4_H_12h",
          "2023_Q4_H_13h",
          "2023_Q4_H_14h",
          "2023_Q4_H_15h",
          "2023_Q4_H_16h",
          "2023_Q4_H_17h",
          "2023_Q4_H_18h",
          "2023_Q4_H_19h",
          "2023_Q4_H_20h",
          "2023_Q4_H_21h",
          "2023_Q4_H_22h",
          "2023_Q4_H_23h"
         ],
         "xaxis": "x",
         "y": [
          106.07456935064936,
          104.69943584415584,
          105.44695246753247,
          105.20175246753249,
          106.1215516883117,
          105.7513225974026,
          105.77165935064937,
          104.74833987012988,
          104.43560168831168,
          102.7650638961039,
          99.35463935064936,
          97.92131155844156,
          98.10420012987014,
          98.81180623376625,
          99.38819077922078,
          98.41008064935063,
          98.63018675324676,
          100.6680896103896,
          102.32421636363635,
          102.96598753246754,
          103.47899103896104,
          104.91770623376624,
          104.88659181818184,
          105.34688155844155,
          98.69870846153843,
          106.4371753846154,
          106.40360230769231,
          106.86192461538462,
          105.25718923076924,
          101.70733461538462,
          100.34636538461541,
          99.41253153846154,
          100.86103,
          100.05026307692307,
          98.33399,
          97.99938692307693,
          94.94314076923075,
          94.30991538461538,
          95.10454692307692,
          95.50632153846152,
          96.91206615384615,
          96.8173676923077,
          98.87469307692308,
          98.19607153846152,
          97.18716,
          97.74883076923075,
          98.07274923076925,
          96.86000076923075,
          72.26760430379747,
          73.50397341772153,
          73.72879189873417,
          73.38900291139241,
          73.18948683544303,
          73.25226405063292,
          74.2141270886076,
          73.43843303797468,
          72.14659189873417,
          70.5506570886076,
          68.05233417721519,
          65.92670050632911,
          65.09881797468354,
          65.28964139240506,
          65.57994848101266,
          65.46179075949367,
          66.04767037974683,
          67.28133569620253,
          68.07881303797468,
          68.9303082278481,
          69.4215735443038,
          71.01387303797469,
          72.08646265822784,
          71.75116493670888,
          68.50010076923077,
          70.65852846153845,
          71.11809461538462,
          71.40040615384615,
          70.77627923076923,
          70.65549846153846,
          70.01696461538461,
          69.2576376923077,
          69.04307538461538,
          67.92741846153845,
          68.02228,
          66.53876846153847,
          65.40193923076923,
          64.31572923076922,
          64.68966307692308,
          65.34936307692307,
          64.74376923076923,
          66.0221046153846,
          67.59430692307691,
          66.8074023076923,
          65.44416076923076,
          65.59087923076922,
          68.01298307692308,
          67.16732,
          96.87880594936708,
          96.31199721518989,
          96.75780050632912,
          96.35199784810128,
          96.22794278481012,
          96.39066025316457,
          97.63772924050632,
          97.15956037974684,
          96.24944898734176,
          94.49827974683544,
          91.13826303797468,
          89.33884898734178,
          89.93755265822786,
          91.07299227848101,
          91.93634265822783,
          91.45755164556962,
          91.88554316455696,
          92.9214451898734,
          93.47612607594937,
          94.2255946835443,
          96.6221493670886,
          97.05267531645569,
          97.71837278481013,
          98.05243379746834,
          99.00986538461541,
          100.85685000000001,
          102.67766153846155,
          100.72117461538461,
          100.88954461538464,
          101.34094230769233,
          101.5340953846154,
          100.91045769230769,
          97.5398376923077,
          96.9635976923077,
          95.89578769230769,
          95.12314153846154,
          93.72937461538464,
          93.97830923076924,
          94.1115953846154,
          95.3039546153846,
          93.81807,
          95.33908230769232,
          96.43835307692308,
          96.16718615384617,
          96.20922615384616,
          99.25679692307693,
          99.3572046153846,
          99.45562538461536,
          89.4686803846154,
          91.70145025641025,
          92.02091230769231,
          91.48546833333334,
          90.58952269230768,
          91.21017307692308,
          92.0568471794872,
          91.91153282051282,
          89.96772128205129,
          88.66308769230768,
          85.8994485897436,
          84.05453499999999,
          84.5686508974359,
          84.7662994871795,
          84.47234038461538,
          84.45876025641026,
          85.39234538461538,
          86.01130423076923,
          87.81799910256409,
          87.81536153846154,
          88.98596064102564,
          89.74882256410257,
          90.42617602564104,
          89.7024823076923,
          95.41231307692308,
          89.48199153846153,
          90.03406461538462,
          91.59764846153844,
          91.32486615384616,
          91.86350384615383,
          92.83946923076924,
          90.83344923076925,
          91.67564692307691,
          92.53179384615386,
          91.48505076923075,
          90.15462846153844,
          87.9225,
          91.29685230769232,
          91.50753615384616,
          91.00483230769233,
          93.38121615384617,
          92.12761461538462,
          93.62566384615384,
          89.84289076923076,
          90.63472846153846,
          93.23994076923076,
          93.10494384615384,
          95.99463769230768
         ],
         "yaxis": "y"
        },
        {
         "hovertemplate": "Tech=Solar<br>timestamp=%{x}<br>DispatchGen_MW=%{y}<extra></extra>",
         "legendgroup": "Solar",
         "line": {
          "color": "#EFB52D",
          "dash": "solid"
         },
         "marker": {
          "symbol": "circle"
         },
         "mode": "lines",
         "name": "Solar",
         "orientation": "v",
         "showlegend": true,
         "type": "scatter",
         "x": [
          "2023_Q1_L_0h",
          "2023_Q1_L_1h",
          "2023_Q1_L_2h",
          "2023_Q1_L_3h",
          "2023_Q1_L_4h",
          "2023_Q1_L_5h",
          "2023_Q1_L_6h",
          "2023_Q1_L_7h",
          "2023_Q1_L_8h",
          "2023_Q1_L_9h",
          "2023_Q1_L_10h",
          "2023_Q1_L_11h",
          "2023_Q1_L_12h",
          "2023_Q1_L_13h",
          "2023_Q1_L_14h",
          "2023_Q1_L_15h",
          "2023_Q1_L_16h",
          "2023_Q1_L_17h",
          "2023_Q1_L_18h",
          "2023_Q1_L_19h",
          "2023_Q1_L_20h",
          "2023_Q1_L_21h",
          "2023_Q1_L_22h",
          "2023_Q1_L_23h",
          "2023_Q1_H_0h",
          "2023_Q1_H_1h",
          "2023_Q1_H_2h",
          "2023_Q1_H_3h",
          "2023_Q1_H_4h",
          "2023_Q1_H_5h",
          "2023_Q1_H_6h",
          "2023_Q1_H_7h",
          "2023_Q1_H_8h",
          "2023_Q1_H_9h",
          "2023_Q1_H_10h",
          "2023_Q1_H_11h",
          "2023_Q1_H_12h",
          "2023_Q1_H_13h",
          "2023_Q1_H_14h",
          "2023_Q1_H_15h",
          "2023_Q1_H_16h",
          "2023_Q1_H_17h",
          "2023_Q1_H_18h",
          "2023_Q1_H_19h",
          "2023_Q1_H_20h",
          "2023_Q1_H_21h",
          "2023_Q1_H_22h",
          "2023_Q1_H_23h",
          "2023_Q2_L_0h",
          "2023_Q2_L_1h",
          "2023_Q2_L_2h",
          "2023_Q2_L_3h",
          "2023_Q2_L_4h",
          "2023_Q2_L_5h",
          "2023_Q2_L_6h",
          "2023_Q2_L_7h",
          "2023_Q2_L_8h",
          "2023_Q2_L_9h",
          "2023_Q2_L_10h",
          "2023_Q2_L_11h",
          "2023_Q2_L_12h",
          "2023_Q2_L_13h",
          "2023_Q2_L_14h",
          "2023_Q2_L_15h",
          "2023_Q2_L_16h",
          "2023_Q2_L_17h",
          "2023_Q2_L_18h",
          "2023_Q2_L_19h",
          "2023_Q2_L_20h",
          "2023_Q2_L_21h",
          "2023_Q2_L_22h",
          "2023_Q2_L_23h",
          "2023_Q2_H_0h",
          "2023_Q2_H_1h",
          "2023_Q2_H_2h",
          "2023_Q2_H_3h",
          "2023_Q2_H_4h",
          "2023_Q2_H_5h",
          "2023_Q2_H_6h",
          "2023_Q2_H_7h",
          "2023_Q2_H_8h",
          "2023_Q2_H_9h",
          "2023_Q2_H_10h",
          "2023_Q2_H_11h",
          "2023_Q2_H_12h",
          "2023_Q2_H_13h",
          "2023_Q2_H_14h",
          "2023_Q2_H_15h",
          "2023_Q2_H_16h",
          "2023_Q2_H_17h",
          "2023_Q2_H_18h",
          "2023_Q2_H_19h",
          "2023_Q2_H_20h",
          "2023_Q2_H_21h",
          "2023_Q2_H_22h",
          "2023_Q2_H_23h",
          "2023_Q3_L_0h",
          "2023_Q3_L_1h",
          "2023_Q3_L_2h",
          "2023_Q3_L_3h",
          "2023_Q3_L_4h",
          "2023_Q3_L_5h",
          "2023_Q3_L_6h",
          "2023_Q3_L_7h",
          "2023_Q3_L_8h",
          "2023_Q3_L_9h",
          "2023_Q3_L_10h",
          "2023_Q3_L_11h",
          "2023_Q3_L_12h",
          "2023_Q3_L_13h",
          "2023_Q3_L_14h",
          "2023_Q3_L_15h",
          "2023_Q3_L_16h",
          "2023_Q3_L_17h",
          "2023_Q3_L_18h",
          "2023_Q3_L_19h",
          "2023_Q3_L_20h",
          "2023_Q3_L_21h",
          "2023_Q3_L_22h",
          "2023_Q3_L_23h",
          "2023_Q3_H_0h",
          "2023_Q3_H_1h",
          "2023_Q3_H_2h",
          "2023_Q3_H_3h",
          "2023_Q3_H_4h",
          "2023_Q3_H_5h",
          "2023_Q3_H_6h",
          "2023_Q3_H_7h",
          "2023_Q3_H_8h",
          "2023_Q3_H_9h",
          "2023_Q3_H_10h",
          "2023_Q3_H_11h",
          "2023_Q3_H_12h",
          "2023_Q3_H_13h",
          "2023_Q3_H_14h",
          "2023_Q3_H_15h",
          "2023_Q3_H_16h",
          "2023_Q3_H_17h",
          "2023_Q3_H_18h",
          "2023_Q3_H_19h",
          "2023_Q3_H_20h",
          "2023_Q3_H_21h",
          "2023_Q3_H_22h",
          "2023_Q3_H_23h",
          "2023_Q4_L_0h",
          "2023_Q4_L_1h",
          "2023_Q4_L_2h",
          "2023_Q4_L_3h",
          "2023_Q4_L_4h",
          "2023_Q4_L_5h",
          "2023_Q4_L_6h",
          "2023_Q4_L_7h",
          "2023_Q4_L_8h",
          "2023_Q4_L_9h",
          "2023_Q4_L_10h",
          "2023_Q4_L_11h",
          "2023_Q4_L_12h",
          "2023_Q4_L_13h",
          "2023_Q4_L_14h",
          "2023_Q4_L_15h",
          "2023_Q4_L_16h",
          "2023_Q4_L_17h",
          "2023_Q4_L_18h",
          "2023_Q4_L_19h",
          "2023_Q4_L_20h",
          "2023_Q4_L_21h",
          "2023_Q4_L_22h",
          "2023_Q4_L_23h",
          "2023_Q4_H_0h",
          "2023_Q4_H_1h",
          "2023_Q4_H_2h",
          "2023_Q4_H_3h",
          "2023_Q4_H_4h",
          "2023_Q4_H_5h",
          "2023_Q4_H_6h",
          "2023_Q4_H_7h",
          "2023_Q4_H_8h",
          "2023_Q4_H_9h",
          "2023_Q4_H_10h",
          "2023_Q4_H_11h",
          "2023_Q4_H_12h",
          "2023_Q4_H_13h",
          "2023_Q4_H_14h",
          "2023_Q4_H_15h",
          "2023_Q4_H_16h",
          "2023_Q4_H_17h",
          "2023_Q4_H_18h",
          "2023_Q4_H_19h",
          "2023_Q4_H_20h",
          "2023_Q4_H_21h",
          "2023_Q4_H_22h",
          "2023_Q4_H_23h"
         ],
         "xaxis": "x",
         "y": [
          0.0000167532467532467,
          0.0000329870129870129,
          0.0000438961038961038,
          0.0000318181818181818,
          0.000034675324675324606,
          0.0000307792207792207,
          0.025963506493506493,
          19.160868961038958,
          116.54004506493509,
          196.93674831168832,
          243.17632012987008,
          262.80058207792206,
          270.5466641558442,
          268.74420922077917,
          258.1261984415585,
          239.45520363636365,
          202.4776192207792,
          124.7452374025974,
          20.75173103896104,
          0.012545194805194804,
          5.194805194805e-7,
          7.792207792206999e-7,
          0,
          0,
          0,
          0,
          0,
          0,
          0,
          0,
          0.030633846153846157,
          17.61660923076923,
          108.48702,
          189.82279,
          233.69373230769233,
          265.89607153846157,
          269.04437538461536,
          269.3413076923077,
          253.44489615384612,
          239.59313923076925,
          206.2919523076923,
          118.20721846153846,
          20.290775384615383,
          0.01447153846153846,
          0,
          0,
          0,
          0,
          0.0000177215189873417,
          0.0000025316455696201997,
          0.0000020253164556962,
          0.0000092405063291139,
          0.0000140506329113924,
          0.0000379746835443038,
          0.4152474683544304,
          28.54610658227848,
          109.21890734177217,
          185.27091240506329,
          240.93562911392405,
          271.3965759493671,
          288.1607858227848,
          290.21035822784813,
          281.2397140506329,
          256.83362645569616,
          202.26153898734177,
          124.31126050632912,
          27.95660278481013,
          0.07984721518987342,
          0.0000037974683544302998,
          0.0000162025316455696,
          0.000017215189873417702,
          0.0000177215189873417,
          0,
          0.0000015384615384615002,
          0.0000023076923076923,
          0.0000015384615384615002,
          0,
          0,
          0.5369315384615385,
          26.137053076923074,
          98.7901976923077,
          163.30255076923078,
          225.3532876923077,
          262.8008623076923,
          273.5864861538461,
          279.0660984615385,
          276.97743153846153,
          253.82124538461534,
          197.5332492307693,
          120.74589923076923,
          27.81057384615385,
          0.05326076923076924,
          0.0000015384615384615002,
          0,
          0,
          0,
          0.00002,
          0.0000320253164556962,
          0.0000284810126582278,
          0.0000278481012658227,
          0.0000415189873417721,
          0.0000422784810126582,
          0.2287121518987342,
          42.507012151898735,
          158.8501151898734,
          267.25628582278483,
          338.3630006329114,
          381.2922555696203,
          391.9539818987342,
          389.76135569620254,
          367.5446750632911,
          330.037496329114,
          268.1406559493671,
          174.66934556962025,
          46.77178670886076,
          0.45953164556962023,
          0.0002562025316455696,
          0.0000192405063291139,
          0.0000189873417721519,
          0.000023164556962025298,
          0,
          0.000011538461538461499,
          0.000012307692307692301,
          0.000012307692307692301,
          0.0000107692307692307,
          0.0000092307692307692,
          0.19724769230769232,
          43.87577692307692,
          173.73978461538462,
          274.84486846153845,
          329.4608307692307,
          388.57220384615385,
          402.8527576923077,
          391.5189461538462,
          361.4737715384616,
          321.8367084615385,
          243.8767346153846,
          148.43737692307693,
          41.06443,
          0.34464076923076925,
          0.0000153846153846153,
          0.00001,
          0,
          0,
          0.0006775641025641025,
          0.0007689743589743591,
          0.0005787179487179487,
          0.000588974358974359,
          0.0005602564102564103,
          0.0005112820512820511,
          0.5682333333333334,
          65.13903576923077,
          241.47203756410255,
          393.2111867948718,
          491.8807202564103,
          535.0610543589744,
          551.8461869230769,
          548.3798680769231,
          514.397585897436,
          444.02753923076926,
          342.5471961538462,
          173.63297999999998,
          18.84458,
          0.004502948717948718,
          0.0009097435897435896,
          0.0006012820512820514,
          0.0006356410256410257,
          0.0006760256410256411,
          0,
          0,
          0,
          0,
          0,
          0,
          0.56308,
          56.29506615384615,
          202.21573999999998,
          352.46721461538465,
          446.6933638461539,
          489.2721823076923,
          507.14789846153843,
          502.70255846153844,
          483.8132015384616,
          408.5403484615385,
          321.2780815384616,
          151.40090538461538,
          15.623336923076923,
          0.002468461538461538,
          0,
          0,
          0,
          0
         ],
         "yaxis": "y"
        },
        {
         "hovertemplate": "Tech=Thermal<br>timestamp=%{x}<br>DispatchGen_MW=%{y}<extra></extra>",
         "legendgroup": "Thermal",
         "line": {
          "color": "#E84A59",
          "dash": "solid"
         },
         "marker": {
          "symbol": "circle"
         },
         "mode": "lines",
         "name": "Thermal",
         "orientation": "v",
         "showlegend": true,
         "type": "scatter",
         "x": [
          "2023_Q1_L_0h",
          "2023_Q1_L_1h",
          "2023_Q1_L_2h",
          "2023_Q1_L_3h",
          "2023_Q1_L_4h",
          "2023_Q1_L_5h",
          "2023_Q1_L_6h",
          "2023_Q1_L_7h",
          "2023_Q1_L_8h",
          "2023_Q1_L_9h",
          "2023_Q1_L_10h",
          "2023_Q1_L_11h",
          "2023_Q1_L_12h",
          "2023_Q1_L_13h",
          "2023_Q1_L_14h",
          "2023_Q1_L_15h",
          "2023_Q1_L_16h",
          "2023_Q1_L_17h",
          "2023_Q1_L_18h",
          "2023_Q1_L_19h",
          "2023_Q1_L_20h",
          "2023_Q1_L_21h",
          "2023_Q1_L_22h",
          "2023_Q1_L_23h",
          "2023_Q1_H_0h",
          "2023_Q1_H_1h",
          "2023_Q1_H_2h",
          "2023_Q1_H_3h",
          "2023_Q1_H_4h",
          "2023_Q1_H_5h",
          "2023_Q1_H_6h",
          "2023_Q1_H_7h",
          "2023_Q1_H_8h",
          "2023_Q1_H_9h",
          "2023_Q1_H_10h",
          "2023_Q1_H_11h",
          "2023_Q1_H_12h",
          "2023_Q1_H_13h",
          "2023_Q1_H_14h",
          "2023_Q1_H_15h",
          "2023_Q1_H_16h",
          "2023_Q1_H_17h",
          "2023_Q1_H_18h",
          "2023_Q1_H_19h",
          "2023_Q1_H_20h",
          "2023_Q1_H_21h",
          "2023_Q1_H_22h",
          "2023_Q1_H_23h",
          "2023_Q2_L_0h",
          "2023_Q2_L_1h",
          "2023_Q2_L_2h",
          "2023_Q2_L_3h",
          "2023_Q2_L_4h",
          "2023_Q2_L_5h",
          "2023_Q2_L_6h",
          "2023_Q2_L_7h",
          "2023_Q2_L_8h",
          "2023_Q2_L_9h",
          "2023_Q2_L_10h",
          "2023_Q2_L_11h",
          "2023_Q2_L_12h",
          "2023_Q2_L_13h",
          "2023_Q2_L_14h",
          "2023_Q2_L_15h",
          "2023_Q2_L_16h",
          "2023_Q2_L_17h",
          "2023_Q2_L_18h",
          "2023_Q2_L_19h",
          "2023_Q2_L_20h",
          "2023_Q2_L_21h",
          "2023_Q2_L_22h",
          "2023_Q2_L_23h",
          "2023_Q2_H_0h",
          "2023_Q2_H_1h",
          "2023_Q2_H_2h",
          "2023_Q2_H_3h",
          "2023_Q2_H_4h",
          "2023_Q2_H_5h",
          "2023_Q2_H_6h",
          "2023_Q2_H_7h",
          "2023_Q2_H_8h",
          "2023_Q2_H_9h",
          "2023_Q2_H_10h",
          "2023_Q2_H_11h",
          "2023_Q2_H_12h",
          "2023_Q2_H_13h",
          "2023_Q2_H_14h",
          "2023_Q2_H_15h",
          "2023_Q2_H_16h",
          "2023_Q2_H_17h",
          "2023_Q2_H_18h",
          "2023_Q2_H_19h",
          "2023_Q2_H_20h",
          "2023_Q2_H_21h",
          "2023_Q2_H_22h",
          "2023_Q2_H_23h",
          "2023_Q3_L_0h",
          "2023_Q3_L_1h",
          "2023_Q3_L_2h",
          "2023_Q3_L_3h",
          "2023_Q3_L_4h",
          "2023_Q3_L_5h",
          "2023_Q3_L_6h",
          "2023_Q3_L_7h",
          "2023_Q3_L_8h",
          "2023_Q3_L_9h",
          "2023_Q3_L_10h",
          "2023_Q3_L_11h",
          "2023_Q3_L_12h",
          "2023_Q3_L_13h",
          "2023_Q3_L_14h",
          "2023_Q3_L_15h",
          "2023_Q3_L_16h",
          "2023_Q3_L_17h",
          "2023_Q3_L_18h",
          "2023_Q3_L_19h",
          "2023_Q3_L_20h",
          "2023_Q3_L_21h",
          "2023_Q3_L_22h",
          "2023_Q3_L_23h",
          "2023_Q3_H_0h",
          "2023_Q3_H_1h",
          "2023_Q3_H_2h",
          "2023_Q3_H_3h",
          "2023_Q3_H_4h",
          "2023_Q3_H_5h",
          "2023_Q3_H_6h",
          "2023_Q3_H_7h",
          "2023_Q3_H_8h",
          "2023_Q3_H_9h",
          "2023_Q3_H_10h",
          "2023_Q3_H_11h",
          "2023_Q3_H_12h",
          "2023_Q3_H_13h",
          "2023_Q3_H_14h",
          "2023_Q3_H_15h",
          "2023_Q3_H_16h",
          "2023_Q3_H_17h",
          "2023_Q3_H_18h",
          "2023_Q3_H_19h",
          "2023_Q3_H_20h",
          "2023_Q3_H_21h",
          "2023_Q3_H_22h",
          "2023_Q3_H_23h",
          "2023_Q4_L_0h",
          "2023_Q4_L_1h",
          "2023_Q4_L_2h",
          "2023_Q4_L_3h",
          "2023_Q4_L_4h",
          "2023_Q4_L_5h",
          "2023_Q4_L_6h",
          "2023_Q4_L_7h",
          "2023_Q4_L_8h",
          "2023_Q4_L_9h",
          "2023_Q4_L_10h",
          "2023_Q4_L_11h",
          "2023_Q4_L_12h",
          "2023_Q4_L_13h",
          "2023_Q4_L_14h",
          "2023_Q4_L_15h",
          "2023_Q4_L_16h",
          "2023_Q4_L_17h",
          "2023_Q4_L_18h",
          "2023_Q4_L_19h",
          "2023_Q4_L_20h",
          "2023_Q4_L_21h",
          "2023_Q4_L_22h",
          "2023_Q4_L_23h",
          "2023_Q4_H_0h",
          "2023_Q4_H_1h",
          "2023_Q4_H_2h",
          "2023_Q4_H_3h",
          "2023_Q4_H_4h",
          "2023_Q4_H_5h",
          "2023_Q4_H_6h",
          "2023_Q4_H_7h",
          "2023_Q4_H_8h",
          "2023_Q4_H_9h",
          "2023_Q4_H_10h",
          "2023_Q4_H_11h",
          "2023_Q4_H_12h",
          "2023_Q4_H_13h",
          "2023_Q4_H_14h",
          "2023_Q4_H_15h",
          "2023_Q4_H_16h",
          "2023_Q4_H_17h",
          "2023_Q4_H_18h",
          "2023_Q4_H_19h",
          "2023_Q4_H_20h",
          "2023_Q4_H_21h",
          "2023_Q4_H_22h",
          "2023_Q4_H_23h"
         ],
         "xaxis": "x",
         "y": [
          1499.314782077922,
          1417.7121454545454,
          1370.235328961039,
          1329.130765194805,
          1301.9349536363636,
          1282.4876338961037,
          1301.34394,
          1334.8800074025971,
          1368.2782355844156,
          1405.524732207792,
          1442.3582900000001,
          1471.6045483116882,
          1500.9440777922077,
          1522.193358051948,
          1535.4539,
          1548.5173580519481,
          1559.180198311688,
          1559.7991000000002,
          1559.8319435064936,
          1598.1777481818183,
          1615.917687922078,
          1616.2436801298702,
          1580.5082994805196,
          1544.4163675324678,
          1396.0647761538462,
          1409.6358138461537,
          1390.2109592307693,
          1320.5007492307698,
          1281.1547684615384,
          1233.8538523076925,
          1201.536890769231,
          1123.2369784615385,
          1143.1785476923076,
          1171.990399230769,
          1232.471363846154,
          1287.9861761538464,
          1317.3767915384615,
          1346.459783076923,
          1349.952622307692,
          1370.8080576923076,
          1384.1369384615384,
          1405.3106169230769,
          1421.856016923077,
          1462.857602307692,
          1469.9882253846154,
          1462.1349253846156,
          1434.506856153846,
          1429.9137292307691,
          1470.8374851898734,
          1357.4178097468355,
          1278.296807721519,
          1222.9592973417718,
          1199.3638244303797,
          1191.335988607595,
          1199.2128269620255,
          1202.0965367088609,
          1218.110816835443,
          1265.8304437974684,
          1292.7474583544306,
          1320.0774018987345,
          1356.1175035443039,
          1374.7784096202531,
          1410.2636512658228,
          1457.0924430379746,
          1468.6516634177215,
          1451.1241078481014,
          1448.1019789873415,
          1495.9914079746836,
          1541.8294827848104,
          1552.6184529113923,
          1525.2912582278482,
          1515.3705030379747,
          1321.2486546153848,
          1307.1581107692307,
          1264.4506115384613,
          1221.8362323076924,
          1166.9256607692307,
          1128.4427492307693,
          1091.9717607692307,
          1058.5348061538461,
          1079.25593,
          1095.60726,
          1097.2081353846154,
          1116.6243961538462,
          1135.3803884615384,
          1145.9894138461539,
          1155.2989484615384,
          1193.7324346153846,
          1204.1582292307692,
          1211.27146,
          1228.4854284615385,
          1308.7093061538462,
          1353.99766,
          1371.373677692308,
          1348.6111815384618,
          1344.7652484615385,
          2060.383187468354,
          1884.2937167088608,
          1767.192948227848,
          1694.8587062025317,
          1656.2711096202531,
          1655.9812113924052,
          1681.009959113924,
          1696.9958865822784,
          1740.7684186075949,
          1815.7460827848101,
          1866.473490886076,
          1918.1708686075951,
          1973.1365262025315,
          2006.4667050632909,
          2046.489735443038,
          2076.0398,
          2088.04169886076,
          2081.312371772152,
          2088.3701565822785,
          2131.39598,
          2155.3167367088604,
          2165.650693670886,
          2148.986453544304,
          2126.806705189873,
          1950.9532946153845,
          1921.86171,
          1855.507996923077,
          1745.4466338461534,
          1659.6135007692303,
          1614.031463846154,
          1548.4366476923078,
          1532.088025384615,
          1551.1401484615383,
          1608.7654492307693,
          1680.5167876923074,
          1730.1654123076921,
          1745.8333023076923,
          1758.5309615384615,
          1774.3408369230767,
          1775.8654815384618,
          1799.3294907692307,
          1813.8725361538459,
          1879.4373869230772,
          1986.659267692308,
          2011.833676153846,
          2008.849507692308,
          1984.9461884615384,
          1995.8542153846156,
          2916.916886666667,
          2795.3256992307693,
          2732.222742948718,
          2688.4577666666664,
          2688.8610547435896,
          2700.5322323076925,
          2714.522983974359,
          2732.718401666667,
          2776.3580866666666,
          2822.763123717949,
          2870.3139989743586,
          2909.7483329487177,
          2933.849807051282,
          2958.0874005128208,
          2978.088406923077,
          3013.7925876923077,
          3043.1865103846153,
          3052.5254526923077,
          3076.7896773076923,
          3138.154015128205,
          3147.4036519230767,
          3124.675713846154,
          3058.8854410256413,
          2986.44085448718,
          2728.9183415384614,
          2745.0201453846157,
          2674.338377692308,
          2611.0838730769233,
          2617.212751538462,
          2583.646719230769,
          2529.173266923077,
          2493.009299230769,
          2515.4364915384617,
          2533.438156153846,
          2555.500694615385,
          2624.8108984615383,
          2661.021691538461,
          2679.5919584615385,
          2708.5569576923076,
          2747.282006153846,
          2769.25862,
          2763.146793076923,
          2807.249667692308,
          2847.302399230769,
          2804.5368315384617,
          2762.0971230769233,
          2735.6291407692306,
          2740.986423076923
         ],
         "yaxis": "y"
        },
        {
         "hovertemplate": "Tech=Eolica<br>timestamp=%{x}<br>DispatchGen_MW=%{y}<extra></extra>",
         "legendgroup": "Eolica",
         "line": {
          "color": "#45CFFF",
          "dash": "solid"
         },
         "marker": {
          "symbol": "circle"
         },
         "mode": "lines",
         "name": "Eolica",
         "orientation": "v",
         "showlegend": true,
         "type": "scatter",
         "x": [
          "2023_Q1_L_0h",
          "2023_Q1_L_1h",
          "2023_Q1_L_2h",
          "2023_Q1_L_3h",
          "2023_Q1_L_4h",
          "2023_Q1_L_5h",
          "2023_Q1_L_6h",
          "2023_Q1_L_7h",
          "2023_Q1_L_8h",
          "2023_Q1_L_9h",
          "2023_Q1_L_10h",
          "2023_Q1_L_11h",
          "2023_Q1_L_12h",
          "2023_Q1_L_13h",
          "2023_Q1_L_14h",
          "2023_Q1_L_15h",
          "2023_Q1_L_16h",
          "2023_Q1_L_17h",
          "2023_Q1_L_18h",
          "2023_Q1_L_19h",
          "2023_Q1_L_20h",
          "2023_Q1_L_21h",
          "2023_Q1_L_22h",
          "2023_Q1_L_23h",
          "2023_Q1_H_0h",
          "2023_Q1_H_1h",
          "2023_Q1_H_2h",
          "2023_Q1_H_3h",
          "2023_Q1_H_4h",
          "2023_Q1_H_5h",
          "2023_Q1_H_6h",
          "2023_Q1_H_7h",
          "2023_Q1_H_8h",
          "2023_Q1_H_9h",
          "2023_Q1_H_10h",
          "2023_Q1_H_11h",
          "2023_Q1_H_12h",
          "2023_Q1_H_13h",
          "2023_Q1_H_14h",
          "2023_Q1_H_15h",
          "2023_Q1_H_16h",
          "2023_Q1_H_17h",
          "2023_Q1_H_18h",
          "2023_Q1_H_19h",
          "2023_Q1_H_20h",
          "2023_Q1_H_21h",
          "2023_Q1_H_22h",
          "2023_Q1_H_23h",
          "2023_Q2_L_0h",
          "2023_Q2_L_1h",
          "2023_Q2_L_2h",
          "2023_Q2_L_3h",
          "2023_Q2_L_4h",
          "2023_Q2_L_5h",
          "2023_Q2_L_6h",
          "2023_Q2_L_7h",
          "2023_Q2_L_8h",
          "2023_Q2_L_9h",
          "2023_Q2_L_10h",
          "2023_Q2_L_11h",
          "2023_Q2_L_12h",
          "2023_Q2_L_13h",
          "2023_Q2_L_14h",
          "2023_Q2_L_15h",
          "2023_Q2_L_16h",
          "2023_Q2_L_17h",
          "2023_Q2_L_18h",
          "2023_Q2_L_19h",
          "2023_Q2_L_20h",
          "2023_Q2_L_21h",
          "2023_Q2_L_22h",
          "2023_Q2_L_23h",
          "2023_Q2_H_0h",
          "2023_Q2_H_1h",
          "2023_Q2_H_2h",
          "2023_Q2_H_3h",
          "2023_Q2_H_4h",
          "2023_Q2_H_5h",
          "2023_Q2_H_6h",
          "2023_Q2_H_7h",
          "2023_Q2_H_8h",
          "2023_Q2_H_9h",
          "2023_Q2_H_10h",
          "2023_Q2_H_11h",
          "2023_Q2_H_12h",
          "2023_Q2_H_13h",
          "2023_Q2_H_14h",
          "2023_Q2_H_15h",
          "2023_Q2_H_16h",
          "2023_Q2_H_17h",
          "2023_Q2_H_18h",
          "2023_Q2_H_19h",
          "2023_Q2_H_20h",
          "2023_Q2_H_21h",
          "2023_Q2_H_22h",
          "2023_Q2_H_23h",
          "2023_Q3_L_0h",
          "2023_Q3_L_1h",
          "2023_Q3_L_2h",
          "2023_Q3_L_3h",
          "2023_Q3_L_4h",
          "2023_Q3_L_5h",
          "2023_Q3_L_6h",
          "2023_Q3_L_7h",
          "2023_Q3_L_8h",
          "2023_Q3_L_9h",
          "2023_Q3_L_10h",
          "2023_Q3_L_11h",
          "2023_Q3_L_12h",
          "2023_Q3_L_13h",
          "2023_Q3_L_14h",
          "2023_Q3_L_15h",
          "2023_Q3_L_16h",
          "2023_Q3_L_17h",
          "2023_Q3_L_18h",
          "2023_Q3_L_19h",
          "2023_Q3_L_20h",
          "2023_Q3_L_21h",
          "2023_Q3_L_22h",
          "2023_Q3_L_23h",
          "2023_Q3_H_0h",
          "2023_Q3_H_1h",
          "2023_Q3_H_2h",
          "2023_Q3_H_3h",
          "2023_Q3_H_4h",
          "2023_Q3_H_5h",
          "2023_Q3_H_6h",
          "2023_Q3_H_7h",
          "2023_Q3_H_8h",
          "2023_Q3_H_9h",
          "2023_Q3_H_10h",
          "2023_Q3_H_11h",
          "2023_Q3_H_12h",
          "2023_Q3_H_13h",
          "2023_Q3_H_14h",
          "2023_Q3_H_15h",
          "2023_Q3_H_16h",
          "2023_Q3_H_17h",
          "2023_Q3_H_18h",
          "2023_Q3_H_19h",
          "2023_Q3_H_20h",
          "2023_Q3_H_21h",
          "2023_Q3_H_22h",
          "2023_Q3_H_23h",
          "2023_Q4_L_0h",
          "2023_Q4_L_1h",
          "2023_Q4_L_2h",
          "2023_Q4_L_3h",
          "2023_Q4_L_4h",
          "2023_Q4_L_5h",
          "2023_Q4_L_6h",
          "2023_Q4_L_7h",
          "2023_Q4_L_8h",
          "2023_Q4_L_9h",
          "2023_Q4_L_10h",
          "2023_Q4_L_11h",
          "2023_Q4_L_12h",
          "2023_Q4_L_13h",
          "2023_Q4_L_14h",
          "2023_Q4_L_15h",
          "2023_Q4_L_16h",
          "2023_Q4_L_17h",
          "2023_Q4_L_18h",
          "2023_Q4_L_19h",
          "2023_Q4_L_20h",
          "2023_Q4_L_21h",
          "2023_Q4_L_22h",
          "2023_Q4_L_23h",
          "2023_Q4_H_0h",
          "2023_Q4_H_1h",
          "2023_Q4_H_2h",
          "2023_Q4_H_3h",
          "2023_Q4_H_4h",
          "2023_Q4_H_5h",
          "2023_Q4_H_6h",
          "2023_Q4_H_7h",
          "2023_Q4_H_8h",
          "2023_Q4_H_9h",
          "2023_Q4_H_10h",
          "2023_Q4_H_11h",
          "2023_Q4_H_12h",
          "2023_Q4_H_13h",
          "2023_Q4_H_14h",
          "2023_Q4_H_15h",
          "2023_Q4_H_16h",
          "2023_Q4_H_17h",
          "2023_Q4_H_18h",
          "2023_Q4_H_19h",
          "2023_Q4_H_20h",
          "2023_Q4_H_21h",
          "2023_Q4_H_22h",
          "2023_Q4_H_23h"
         ],
         "xaxis": "x",
         "y": [
          21.928229740259738,
          20.540196103896104,
          19.905551298701297,
          19.21012909090909,
          17.485991818181816,
          16.509596363636362,
          16.182089610389607,
          15.538796233766234,
          15.10408181818182,
          17.11917675324675,
          19.168037402597406,
          20.669737792207798,
          22.08399194805195,
          23.44256116883117,
          24.919838571428567,
          25.153357272727277,
          25.412010779220786,
          25.684628701298703,
          25.767292467532467,
          25.36738194805195,
          24.303351818181813,
          23.228203896103896,
          22.79565974025974,
          22.503550909090908,
          20.02381076923077,
          19.79884769230769,
          18.509237692307693,
          17.932244615384615,
          18.19233923076923,
          17.71273846153846,
          16.250666923076924,
          14.05855076923077,
          13.636209230769232,
          17.331384615384618,
          18.291040769230772,
          19.067581538461535,
          21.15905538461538,
          23.371758461538466,
          23.628488461538453,
          24.08877538461538,
          24.053477692307695,
          24.707456153846156,
          25.04003846153846,
          24.55031384615385,
          22.90508307692308,
          22.771668461538464,
          22.784487692307692,
          21.93121307692308,
          21.51519050632912,
          20.618151012658224,
          19.9773517721519,
          18.899853797468356,
          18.085298101265824,
          17.187221898734176,
          16.49301240506329,
          15.441943417721522,
          15.83740164556962,
          16.41786430379747,
          16.664259746835445,
          18.793352151898738,
          22.347888481012657,
          25.219705063291137,
          26.850277215189873,
          27.49749898734177,
          27.470622151898734,
          27.853097974683546,
          27.85247848101265,
          26.633711898734177,
          25.60711113924051,
          24.40476341772152,
          23.403527721518984,
          22.508732278481013,
          19.473950000000002,
          20.63798769230769,
          19.28081153846154,
          17.90829,
          18.40178461538461,
          15.272185384615385,
          13.410236153846153,
          13.103881538461536,
          11.94945,
          11.005793846153848,
          12.177685384615385,
          12.657023846153848,
          18.147783846153846,
          20.402866153846155,
          22.658400769230767,
          23.89440846153846,
          24.314299230769237,
          25.382925384615387,
          23.849789230769233,
          23.26232230769231,
          23.31357461538461,
          22.404515384615383,
          22.15369384615385,
          20.526132307692308,
          20.58436341772152,
          19.450768860759492,
          18.09618227848101,
          17.12812240506329,
          16.62046012658228,
          15.682761139240503,
          15.248010886075948,
          14.783063164556959,
          16.457180379746834,
          17.87298582278481,
          18.31821683544304,
          18.978911012658227,
          21.55569670886076,
          22.907253797468353,
          23.298163670886076,
          23.50896151898734,
          24.15983379746836,
          24.54724594936709,
          24.845949620253165,
          24.84414924050633,
          23.791843670886074,
          22.48726860759493,
          21.8523435443038,
          20.980759493670885,
          18.93491076923077,
          21.51671461538461,
          18.892049999999998,
          17.389384615384618,
          18.10652076923077,
          18.22288384615385,
          17.14818153846154,
          16.423496153846155,
          18.77485846153846,
          18.40076461538461,
          17.888526923076924,
          18.566558461538463,
          19.97653923076923,
          22.950033076923074,
          25.65026076923077,
          25.93675,
          25.42515846153846,
          24.08117538461539,
          25.091168461538466,
          23.67521153846154,
          22.814206923076924,
          22.135094615384613,
          21.422718461538466,
          20.32232384615385,
          13.476736923076924,
          11.019211666666665,
          10.159110897435898,
          10.070741923076925,
          10.05727294871795,
          9.653785384615384,
          8.797637564102564,
          8.421595384615385,
          9.081372307692309,
          9.089981666666668,
          9.593769743589744,
          11.370048333333335,
          14.84715358974359,
          18.177292948717948,
          20.34661141025641,
          20.540356025641028,
          20.250654102564102,
          20.56111871794872,
          20.966141282051282,
          20.01593935897436,
          18.55989435897436,
          16.966965000000002,
          15.10098205128205,
          14.01730217948718,
          10.413023076923077,
          10.855805384615383,
          8.763176153846155,
          8.25478769230769,
          8.275776153846152,
          8.240633076923077,
          7.261223076923076,
          6.82606,
          7.2992838461538465,
          7.1760807692307695,
          10.034446923076924,
          11.583081538461538,
          12.733040769230767,
          16.013184615384617,
          17.355710769230768,
          18.612125384615386,
          19.247875384615384,
          18.416106923076924,
          16.91921846153846,
          15.815109230769233,
          14.394766153846152,
          13.742505384615386,
          12.10500923076923,
          10.801173846153846
         ],
         "yaxis": "y"
        },
        {
         "hovertemplate": "Tech=Hidro<br>timestamp=%{x}<br>DispatchGen_MW=%{y}<extra></extra>",
         "legendgroup": "Hidro",
         "line": {
          "color": "#744FD0",
          "dash": "solid"
         },
         "marker": {
          "symbol": "circle"
         },
         "mode": "lines",
         "name": "Hidro",
         "orientation": "v",
         "showlegend": true,
         "type": "scatter",
         "x": [
          "2023_Q1_L_0h",
          "2023_Q1_L_1h",
          "2023_Q1_L_2h",
          "2023_Q1_L_3h",
          "2023_Q1_L_4h",
          "2023_Q1_L_5h",
          "2023_Q1_L_6h",
          "2023_Q1_L_7h",
          "2023_Q1_L_8h",
          "2023_Q1_L_9h",
          "2023_Q1_L_10h",
          "2023_Q1_L_11h",
          "2023_Q1_L_12h",
          "2023_Q1_L_13h",
          "2023_Q1_L_14h",
          "2023_Q1_L_15h",
          "2023_Q1_L_16h",
          "2023_Q1_L_17h",
          "2023_Q1_L_18h",
          "2023_Q1_L_19h",
          "2023_Q1_L_20h",
          "2023_Q1_L_21h",
          "2023_Q1_L_22h",
          "2023_Q1_L_23h",
          "2023_Q1_H_0h",
          "2023_Q1_H_1h",
          "2023_Q1_H_2h",
          "2023_Q1_H_3h",
          "2023_Q1_H_4h",
          "2023_Q1_H_5h",
          "2023_Q1_H_6h",
          "2023_Q1_H_7h",
          "2023_Q1_H_8h",
          "2023_Q1_H_9h",
          "2023_Q1_H_10h",
          "2023_Q1_H_11h",
          "2023_Q1_H_12h",
          "2023_Q1_H_13h",
          "2023_Q1_H_14h",
          "2023_Q1_H_15h",
          "2023_Q1_H_16h",
          "2023_Q1_H_17h",
          "2023_Q1_H_18h",
          "2023_Q1_H_19h",
          "2023_Q1_H_20h",
          "2023_Q1_H_21h",
          "2023_Q1_H_22h",
          "2023_Q1_H_23h",
          "2023_Q2_L_0h",
          "2023_Q2_L_1h",
          "2023_Q2_L_2h",
          "2023_Q2_L_3h",
          "2023_Q2_L_4h",
          "2023_Q2_L_5h",
          "2023_Q2_L_6h",
          "2023_Q2_L_7h",
          "2023_Q2_L_8h",
          "2023_Q2_L_9h",
          "2023_Q2_L_10h",
          "2023_Q2_L_11h",
          "2023_Q2_L_12h",
          "2023_Q2_L_13h",
          "2023_Q2_L_14h",
          "2023_Q2_L_15h",
          "2023_Q2_L_16h",
          "2023_Q2_L_17h",
          "2023_Q2_L_18h",
          "2023_Q2_L_19h",
          "2023_Q2_L_20h",
          "2023_Q2_L_21h",
          "2023_Q2_L_22h",
          "2023_Q2_L_23h",
          "2023_Q2_H_0h",
          "2023_Q2_H_1h",
          "2023_Q2_H_2h",
          "2023_Q2_H_3h",
          "2023_Q2_H_4h",
          "2023_Q2_H_5h",
          "2023_Q2_H_6h",
          "2023_Q2_H_7h",
          "2023_Q2_H_8h",
          "2023_Q2_H_9h",
          "2023_Q2_H_10h",
          "2023_Q2_H_11h",
          "2023_Q2_H_12h",
          "2023_Q2_H_13h",
          "2023_Q2_H_14h",
          "2023_Q2_H_15h",
          "2023_Q2_H_16h",
          "2023_Q2_H_17h",
          "2023_Q2_H_18h",
          "2023_Q2_H_19h",
          "2023_Q2_H_20h",
          "2023_Q2_H_21h",
          "2023_Q2_H_22h",
          "2023_Q2_H_23h",
          "2023_Q3_L_0h",
          "2023_Q3_L_1h",
          "2023_Q3_L_2h",
          "2023_Q3_L_3h",
          "2023_Q3_L_4h",
          "2023_Q3_L_5h",
          "2023_Q3_L_6h",
          "2023_Q3_L_7h",
          "2023_Q3_L_8h",
          "2023_Q3_L_9h",
          "2023_Q3_L_10h",
          "2023_Q3_L_11h",
          "2023_Q3_L_12h",
          "2023_Q3_L_13h",
          "2023_Q3_L_14h",
          "2023_Q3_L_15h",
          "2023_Q3_L_16h",
          "2023_Q3_L_17h",
          "2023_Q3_L_18h",
          "2023_Q3_L_19h",
          "2023_Q3_L_20h",
          "2023_Q3_L_21h",
          "2023_Q3_L_22h",
          "2023_Q3_L_23h",
          "2023_Q3_H_0h",
          "2023_Q3_H_1h",
          "2023_Q3_H_2h",
          "2023_Q3_H_3h",
          "2023_Q3_H_4h",
          "2023_Q3_H_5h",
          "2023_Q3_H_6h",
          "2023_Q3_H_7h",
          "2023_Q3_H_8h",
          "2023_Q3_H_9h",
          "2023_Q3_H_10h",
          "2023_Q3_H_11h",
          "2023_Q3_H_12h",
          "2023_Q3_H_13h",
          "2023_Q3_H_14h",
          "2023_Q3_H_15h",
          "2023_Q3_H_16h",
          "2023_Q3_H_17h",
          "2023_Q3_H_18h",
          "2023_Q3_H_19h",
          "2023_Q3_H_20h",
          "2023_Q3_H_21h",
          "2023_Q3_H_22h",
          "2023_Q3_H_23h",
          "2023_Q4_L_0h",
          "2023_Q4_L_1h",
          "2023_Q4_L_2h",
          "2023_Q4_L_3h",
          "2023_Q4_L_4h",
          "2023_Q4_L_5h",
          "2023_Q4_L_6h",
          "2023_Q4_L_7h",
          "2023_Q4_L_8h",
          "2023_Q4_L_9h",
          "2023_Q4_L_10h",
          "2023_Q4_L_11h",
          "2023_Q4_L_12h",
          "2023_Q4_L_13h",
          "2023_Q4_L_14h",
          "2023_Q4_L_15h",
          "2023_Q4_L_16h",
          "2023_Q4_L_17h",
          "2023_Q4_L_18h",
          "2023_Q4_L_19h",
          "2023_Q4_L_20h",
          "2023_Q4_L_21h",
          "2023_Q4_L_22h",
          "2023_Q4_L_23h",
          "2023_Q4_H_0h",
          "2023_Q4_H_1h",
          "2023_Q4_H_2h",
          "2023_Q4_H_3h",
          "2023_Q4_H_4h",
          "2023_Q4_H_5h",
          "2023_Q4_H_6h",
          "2023_Q4_H_7h",
          "2023_Q4_H_8h",
          "2023_Q4_H_9h",
          "2023_Q4_H_10h",
          "2023_Q4_H_11h",
          "2023_Q4_H_12h",
          "2023_Q4_H_13h",
          "2023_Q4_H_14h",
          "2023_Q4_H_15h",
          "2023_Q4_H_16h",
          "2023_Q4_H_17h",
          "2023_Q4_H_18h",
          "2023_Q4_H_19h",
          "2023_Q4_H_20h",
          "2023_Q4_H_21h",
          "2023_Q4_H_22h",
          "2023_Q4_H_23h"
         ],
         "xaxis": "x",
         "y": [
          6966.895811948051,
          6576.691520779222,
          6348.364212337663,
          6191.568129610389,
          6116.723455584415,
          6244.810741818183,
          6539.973871038961,
          6662.229255584416,
          7008.33375935065,
          7421.5309777922075,
          7670.990523246753,
          7953.249152987013,
          8187.346466233766,
          8126.44400987013,
          8147.603709610389,
          8255.349431818182,
          8262.905646883117,
          8166.6181503896105,
          8063.414943116883,
          8563.89770025974,
          8671.519088701298,
          8411.898743896105,
          8019.849319999999,
          7468.387998831169,
          6558.009311538462,
          6350.677928461539,
          6108.950120769231,
          5965.3150723076915,
          5842.998582307691,
          5807.2309323076925,
          5776.403989230769,
          5606.667970769231,
          5697.0741384615385,
          5978.85366,
          6254.597437692308,
          6462.063486923077,
          6688.695650769232,
          6767.060144615384,
          6762.384094615385,
          6668.7528807692315,
          6619.398513076922,
          6621.313908461539,
          6745.857963076923,
          7443.720403846154,
          7698.258128461539,
          7595.629643076923,
          7356.0473146153845,
          6969.781076153846,
          6847.656811265823,
          6454.106359493671,
          6266.302229493671,
          6130.97889670886,
          6059.434369493671,
          6211.335452405064,
          6582.254981265823,
          6700.550197341772,
          7076.702672278481,
          7480.690894683544,
          7738.10117443038,
          8035.189337468354,
          8245.955765443037,
          8144.478683670886,
          8172.818343291139,
          8262.130560506328,
          8295.98884392405,
          8218.998461012658,
          8063.687681012658,
          8562.947623670885,
          8731.144216582277,
          8474.942987215189,
          8011.675823924051,
          7365.945061898735,
          6432.303634615385,
          6421.685367692307,
          6154.561653076924,
          5932.140770000001,
          5818.657873846154,
          5784.925706923077,
          5736.703513076923,
          5591.231033076922,
          5799.236140769231,
          6127.702516153846,
          6409.055970769231,
          6640.532416923077,
          6821.942157692308,
          6904.474543846153,
          6887.437827692308,
          6769.92176,
          6734.453570769231,
          6727.810320769231,
          6816.061065384615,
          7512.844233846154,
          7776.3861969230775,
          7633.268868461538,
          7311.333096153846,
          6873.310323076923,
          6385.33633721519,
          6026.328163544304,
          5849.1307310126585,
          5712.503489999999,
          5647.2053124050635,
          5764.395988227848,
          6016.26141392405,
          6136.127457341772,
          6522.436893164558,
          6914.090959367088,
          7160.282352151899,
          7452.5144394936715,
          7659.635978481012,
          7558.780275949366,
          7603.260104810126,
          7733.48486278481,
          7751.205485063292,
          7673.743007974684,
          7473.949401392406,
          7955.02261,
          8241.03769506329,
          8025.618745063291,
          7547.375524303797,
          6929.852446582278,
          5864.617354615385,
          5846.774751538461,
          5600.369943076925,
          5485.227504615385,
          5380.772219230769,
          5315.251050000001,
          5266.476606923077,
          5076.346262307692,
          5286.539598461539,
          5516.097713846154,
          5709.3547538461535,
          5881.220344615385,
          6083.980764615385,
          6203.098288461538,
          6206.445158461539,
          6111.841375384614,
          6084.327934615385,
          6081.669078461538,
          6096.566029230768,
          6698.18988,
          7081.583833076923,
          6987.000079230769,
          6735.383935384615,
          6281.592903846154,
          5993.423220897436,
          5594.859225128205,
          5363.467312307692,
          5204.958051282051,
          5103.483736538461,
          5220.94516974359,
          5504.398117692308,
          5615.6338762820515,
          5935.690781282053,
          6261.673735897436,
          6451.9525635897435,
          6731.771894230769,
          6955.672827179487,
          6890.335423717947,
          6973.928537820513,
          7125.071372820514,
          7169.512970384616,
          7177.683676794872,
          7188.828965897436,
          7666.262459871795,
          7642.687605897436,
          7431.065333333333,
          7046.3990973076925,
          6504.582062179487,
          5544.945588461539,
          5363.25542923077,
          5143.583765384616,
          4950.596946153846,
          4723.031037692308,
          4656.888716153846,
          4594.829226923077,
          4413.609333846153,
          4542.767375384615,
          4773.068235384615,
          5012.92592,
          5223.740148461539,
          5441.458928461538,
          5551.433135384616,
          5538.296462307692,
          5470.646457692308,
          5467.866978461539,
          5583.87779923077,
          5822.022386153846,
          6572.4686161538475,
          6771.177505384615,
          6695.84755076923,
          6442.930586153846,
          6011.495091538461
         ],
         "yaxis": "y"
        },
        {
         "hovertemplate": "Tech=Eolica<br>timestamp=%{x}<br>DispatchGen_MW=%{y}<extra></extra>",
         "legendgroup": "Eolica",
         "line": {
          "color": "#45CFFF",
          "dash": "solid"
         },
         "marker": {
          "symbol": "circle"
         },
         "mode": "lines",
         "name": "Eolica",
         "orientation": "v",
         "showlegend": false,
         "type": "scatter",
         "x": [
          "2023_Q1_L_0h",
          "2023_Q1_L_1h",
          "2023_Q1_L_2h",
          "2023_Q1_L_3h",
          "2023_Q1_L_4h",
          "2023_Q1_L_5h",
          "2023_Q1_L_6h",
          "2023_Q1_L_7h",
          "2023_Q1_L_8h",
          "2023_Q1_L_9h",
          "2023_Q1_L_10h",
          "2023_Q1_L_11h",
          "2023_Q1_L_12h",
          "2023_Q1_L_13h",
          "2023_Q1_L_14h",
          "2023_Q1_L_15h",
          "2023_Q1_L_16h",
          "2023_Q1_L_17h",
          "2023_Q1_L_18h",
          "2023_Q1_L_19h",
          "2023_Q1_L_20h",
          "2023_Q1_L_21h",
          "2023_Q1_L_22h",
          "2023_Q1_L_23h",
          "2023_Q1_H_0h",
          "2023_Q1_H_1h",
          "2023_Q1_H_2h",
          "2023_Q1_H_3h",
          "2023_Q1_H_4h",
          "2023_Q1_H_5h",
          "2023_Q1_H_6h",
          "2023_Q1_H_7h",
          "2023_Q1_H_8h",
          "2023_Q1_H_9h",
          "2023_Q1_H_10h",
          "2023_Q1_H_11h",
          "2023_Q1_H_12h",
          "2023_Q1_H_13h",
          "2023_Q1_H_14h",
          "2023_Q1_H_15h",
          "2023_Q1_H_16h",
          "2023_Q1_H_17h",
          "2023_Q1_H_18h",
          "2023_Q1_H_19h",
          "2023_Q1_H_20h",
          "2023_Q1_H_21h",
          "2023_Q1_H_22h",
          "2023_Q1_H_23h",
          "2023_Q2_L_0h",
          "2023_Q2_L_1h",
          "2023_Q2_L_2h",
          "2023_Q2_L_3h",
          "2023_Q2_L_4h",
          "2023_Q2_L_5h",
          "2023_Q2_L_6h",
          "2023_Q2_L_7h",
          "2023_Q2_L_8h",
          "2023_Q2_L_9h",
          "2023_Q2_L_10h",
          "2023_Q2_L_11h",
          "2023_Q2_L_12h",
          "2023_Q2_L_13h",
          "2023_Q2_L_14h",
          "2023_Q2_L_15h",
          "2023_Q2_L_16h",
          "2023_Q2_L_17h",
          "2023_Q2_L_18h",
          "2023_Q2_L_19h",
          "2023_Q2_L_20h",
          "2023_Q2_L_21h",
          "2023_Q2_L_22h",
          "2023_Q2_L_23h",
          "2023_Q2_H_0h",
          "2023_Q2_H_1h",
          "2023_Q2_H_2h",
          "2023_Q2_H_3h",
          "2023_Q2_H_4h",
          "2023_Q2_H_5h",
          "2023_Q2_H_6h",
          "2023_Q2_H_7h",
          "2023_Q2_H_8h",
          "2023_Q2_H_9h",
          "2023_Q2_H_10h",
          "2023_Q2_H_11h",
          "2023_Q2_H_12h",
          "2023_Q2_H_13h",
          "2023_Q2_H_14h",
          "2023_Q2_H_15h",
          "2023_Q2_H_16h",
          "2023_Q2_H_17h",
          "2023_Q2_H_18h",
          "2023_Q2_H_19h",
          "2023_Q2_H_20h",
          "2023_Q2_H_21h",
          "2023_Q2_H_22h",
          "2023_Q2_H_23h",
          "2023_Q3_L_0h",
          "2023_Q3_L_1h",
          "2023_Q3_L_2h",
          "2023_Q3_L_3h",
          "2023_Q3_L_4h",
          "2023_Q3_L_5h",
          "2023_Q3_L_6h",
          "2023_Q3_L_7h",
          "2023_Q3_L_8h",
          "2023_Q3_L_9h",
          "2023_Q3_L_10h",
          "2023_Q3_L_11h",
          "2023_Q3_L_12h",
          "2023_Q3_L_13h",
          "2023_Q3_L_14h",
          "2023_Q3_L_15h",
          "2023_Q3_L_16h",
          "2023_Q3_L_17h",
          "2023_Q3_L_18h",
          "2023_Q3_L_19h",
          "2023_Q3_L_20h",
          "2023_Q3_L_21h",
          "2023_Q3_L_22h",
          "2023_Q3_L_23h",
          "2023_Q3_H_0h",
          "2023_Q3_H_1h",
          "2023_Q3_H_2h",
          "2023_Q3_H_3h",
          "2023_Q3_H_4h",
          "2023_Q3_H_5h",
          "2023_Q3_H_6h",
          "2023_Q3_H_7h",
          "2023_Q3_H_8h",
          "2023_Q3_H_9h",
          "2023_Q3_H_10h",
          "2023_Q3_H_11h",
          "2023_Q3_H_12h",
          "2023_Q3_H_13h",
          "2023_Q3_H_14h",
          "2023_Q3_H_15h",
          "2023_Q3_H_16h",
          "2023_Q3_H_17h",
          "2023_Q3_H_18h",
          "2023_Q3_H_19h",
          "2023_Q3_H_20h",
          "2023_Q3_H_21h",
          "2023_Q3_H_22h",
          "2023_Q3_H_23h",
          "2023_Q4_L_0h",
          "2023_Q4_L_1h",
          "2023_Q4_L_2h",
          "2023_Q4_L_3h",
          "2023_Q4_L_4h",
          "2023_Q4_L_5h",
          "2023_Q4_L_6h",
          "2023_Q4_L_7h",
          "2023_Q4_L_8h",
          "2023_Q4_L_9h",
          "2023_Q4_L_10h",
          "2023_Q4_L_11h",
          "2023_Q4_L_12h",
          "2023_Q4_L_13h",
          "2023_Q4_L_14h",
          "2023_Q4_L_15h",
          "2023_Q4_L_16h",
          "2023_Q4_L_17h",
          "2023_Q4_L_18h",
          "2023_Q4_L_19h",
          "2023_Q4_L_20h",
          "2023_Q4_L_21h",
          "2023_Q4_L_22h",
          "2023_Q4_L_23h",
          "2023_Q4_H_0h",
          "2023_Q4_H_1h",
          "2023_Q4_H_2h",
          "2023_Q4_H_3h",
          "2023_Q4_H_4h",
          "2023_Q4_H_5h",
          "2023_Q4_H_6h",
          "2023_Q4_H_7h",
          "2023_Q4_H_8h",
          "2023_Q4_H_9h",
          "2023_Q4_H_10h",
          "2023_Q4_H_11h",
          "2023_Q4_H_12h",
          "2023_Q4_H_13h",
          "2023_Q4_H_14h",
          "2023_Q4_H_15h",
          "2023_Q4_H_16h",
          "2023_Q4_H_17h",
          "2023_Q4_H_18h",
          "2023_Q4_H_19h",
          "2023_Q4_H_20h",
          "2023_Q4_H_21h",
          "2023_Q4_H_22h",
          "2023_Q4_H_23h"
         ],
         "xaxis": "x2",
         "y": [
          26.73449725036541,
          26.528070194126386,
          26.31629162651553,
          26.24277992041465,
          26.115741518258094,
          26.06889442888651,
          25.920076985377012,
          25.694144132211115,
          25.60068975476376,
          25.49268963653835,
          25.567607094421707,
          25.414492893944047,
          25.403130578641786,
          25.47265958068173,
          25.73553808266646,
          26.083120673332154,
          26.691334757505082,
          27.851461941721247,
          28.59567932394805,
          28.63813130215292,
          28.518859818967474,
          28.189687860785952,
          27.806896009689677,
          27.23506940183905,
          27.26037010005286,
          26.885536908889563,
          27.062806374675638,
          26.928477708884778,
          27.06158862547497,
          26.958932273976792,
          26.523018889370025,
          26.426519122555852,
          26.084425897913135,
          25.512858671431474,
          25.704769213088227,
          25.487744934559522,
          25.278023850813696,
          25.236955990301283,
          25.57232285848452,
          26.04133608038204,
          26.969460089344686,
          28.142248665089028,
          28.766824093464784,
          28.631740747265955,
          28.493408647221734,
          28.14828612208076,
          27.634495569098632,
          27.10016843454105,
          25.679397479979396,
          25.43824605684126,
          25.204193395233613,
          25.106095834704842,
          25.081052243614486,
          24.962213841809138,
          24.26148280791469,
          23.96331906919397,
          23.77564613164988,
          24.039980888248124,
          24.252849815372972,
          24.313333769485148,
          24.023327647017503,
          23.87481702169923,
          23.992102012426773,
          24.522127263472598,
          24.942546337928924,
          25.968307306671434,
          26.789490526837138,
          26.919501563336908,
          26.834019674490147,
          26.712494840000982,
          26.379345428588316,
          26.00917367798703,
          25.614850480281717,
          25.30629963290341,
          25.562058029329393,
          25.543345113129135,
          25.368543875374936,
          25.34568970052875,
          24.18549577480546,
          23.89714716294202,
          23.989358638026822,
          24.205449769886197,
          24.25886550126684,
          24.096028438413214,
          23.931376375105554,
          23.83397691927007,
          24.01388831903176,
          24.664622471256365,
          25.10867157340205,
          25.48386043222307,
          26.765102571626024,
          26.92089257585481,
          26.98054647124303,
          26.609076208504725,
          26.059902687636836,
          25.524126413894578,
          25.463390338444356,
          24.934802773000918,
          24.66730438000863,
          24.687987024189148,
          24.682560319008438,
          25.12698669841121,
          25.06592368244007,
          24.22365309091226,
          23.963238853614207,
          23.932224782308804,
          23.864722735281035,
          23.840450486098298,
          23.442764490840307,
          22.98554284830742,
          22.775258888975674,
          22.705778954630194,
          22.98348678395645,
          24.180902357185104,
          25.7650306351128,
          26.31310051512719,
          26.54402467401666,
          26.57052325758839,
          26.20549133591326,
          25.779775300384166,
          25.32267852541397,
          25.490098643968565,
          25.291046077894077,
          25.316400515427055,
          24.28683556860178,
          23.862554050495923,
          24.27889751005777,
          23.924215185563348,
          23.96596562597917,
          24.73524004818475,
          24.771652249683036,
          24.64463265742691,
          24.779823795416494,
          24.517738453299522,
          24.395339267358704,
          24.288452603863597,
          24.306884305563003,
          24.529924909526038,
          26.246370243288126,
          26.571354831009003,
          27.182808754628155,
          27.122735897575886,
          26.545015330381354,
          26.109324147875352,
          23.146410429912535,
          22.732786761091397,
          22.365699046942662,
          22.102069268443906,
          21.94410191743557,
          21.620243186048057,
          21.507381681041302,
          20.570059525842836,
          20.083698137191494,
          19.734495957008583,
          19.3764738410795,
          18.867363123234846,
          18.26258160583728,
          17.857888821197133,
          17.857781228220233,
          18.53044495426588,
          19.929312262619405,
          22.139097667288617,
          23.66058402709649,
          24.282111263771363,
          24.532119276044874,
          24.474305457212154,
          24.18732582929389,
          23.65385138859561,
          23.411801569360023,
          23.168812991719875,
          22.678764141483754,
          22.546773120214667,
          22.461422040410742,
          22.172241181145743,
          21.854135777067032,
          21.208636109801887,
          20.666621684697503,
          20.249388329909973,
          20.079566052943797,
          19.430804496179846,
          18.721497712512303,
          18.258222458381077,
          18.078706629341305,
          18.609822402731908,
          19.840054482988577,
          21.558328766553828,
          22.92486411003917,
          23.953875773430134,
          24.373493508911803,
          24.10129890687467,
          23.781039586391756,
          23.51755212358414
         ],
         "yaxis": "y2"
        },
        {
         "hovertemplate": "Tech=Hidro<br>timestamp=%{x}<br>DispatchGen_MW=%{y}<extra></extra>",
         "legendgroup": "Hidro",
         "line": {
          "color": "#744FD0",
          "dash": "solid"
         },
         "marker": {
          "symbol": "circle"
         },
         "mode": "lines",
         "name": "Hidro",
         "orientation": "v",
         "showlegend": false,
         "type": "scatter",
         "x": [
          "2023_Q1_L_0h",
          "2023_Q1_L_1h",
          "2023_Q1_L_2h",
          "2023_Q1_L_3h",
          "2023_Q1_L_4h",
          "2023_Q1_L_5h",
          "2023_Q1_L_6h",
          "2023_Q1_L_7h",
          "2023_Q1_L_8h",
          "2023_Q1_L_9h",
          "2023_Q1_L_10h",
          "2023_Q1_L_11h",
          "2023_Q1_L_12h",
          "2023_Q1_L_13h",
          "2023_Q1_L_14h",
          "2023_Q1_L_15h",
          "2023_Q1_L_16h",
          "2023_Q1_L_17h",
          "2023_Q1_L_18h",
          "2023_Q1_L_19h",
          "2023_Q1_L_20h",
          "2023_Q1_L_21h",
          "2023_Q1_L_22h",
          "2023_Q1_L_23h",
          "2023_Q1_H_0h",
          "2023_Q1_H_1h",
          "2023_Q1_H_2h",
          "2023_Q1_H_3h",
          "2023_Q1_H_4h",
          "2023_Q1_H_5h",
          "2023_Q1_H_6h",
          "2023_Q1_H_7h",
          "2023_Q1_H_8h",
          "2023_Q1_H_9h",
          "2023_Q1_H_10h",
          "2023_Q1_H_11h",
          "2023_Q1_H_12h",
          "2023_Q1_H_13h",
          "2023_Q1_H_14h",
          "2023_Q1_H_15h",
          "2023_Q1_H_16h",
          "2023_Q1_H_17h",
          "2023_Q1_H_18h",
          "2023_Q1_H_19h",
          "2023_Q1_H_20h",
          "2023_Q1_H_21h",
          "2023_Q1_H_22h",
          "2023_Q1_H_23h",
          "2023_Q2_L_0h",
          "2023_Q2_L_1h",
          "2023_Q2_L_2h",
          "2023_Q2_L_3h",
          "2023_Q2_L_4h",
          "2023_Q2_L_5h",
          "2023_Q2_L_6h",
          "2023_Q2_L_7h",
          "2023_Q2_L_8h",
          "2023_Q2_L_9h",
          "2023_Q2_L_10h",
          "2023_Q2_L_11h",
          "2023_Q2_L_12h",
          "2023_Q2_L_13h",
          "2023_Q2_L_14h",
          "2023_Q2_L_15h",
          "2023_Q2_L_16h",
          "2023_Q2_L_17h",
          "2023_Q2_L_18h",
          "2023_Q2_L_19h",
          "2023_Q2_L_20h",
          "2023_Q2_L_21h",
          "2023_Q2_L_22h",
          "2023_Q2_L_23h",
          "2023_Q2_H_0h",
          "2023_Q2_H_1h",
          "2023_Q2_H_2h",
          "2023_Q2_H_3h",
          "2023_Q2_H_4h",
          "2023_Q2_H_5h",
          "2023_Q2_H_6h",
          "2023_Q2_H_7h",
          "2023_Q2_H_8h",
          "2023_Q2_H_9h",
          "2023_Q2_H_10h",
          "2023_Q2_H_11h",
          "2023_Q2_H_12h",
          "2023_Q2_H_13h",
          "2023_Q2_H_14h",
          "2023_Q2_H_15h",
          "2023_Q2_H_16h",
          "2023_Q2_H_17h",
          "2023_Q2_H_18h",
          "2023_Q2_H_19h",
          "2023_Q2_H_20h",
          "2023_Q2_H_21h",
          "2023_Q2_H_22h",
          "2023_Q2_H_23h",
          "2023_Q3_L_0h",
          "2023_Q3_L_1h",
          "2023_Q3_L_2h",
          "2023_Q3_L_3h",
          "2023_Q3_L_4h",
          "2023_Q3_L_5h",
          "2023_Q3_L_6h",
          "2023_Q3_L_7h",
          "2023_Q3_L_8h",
          "2023_Q3_L_9h",
          "2023_Q3_L_10h",
          "2023_Q3_L_11h",
          "2023_Q3_L_12h",
          "2023_Q3_L_13h",
          "2023_Q3_L_14h",
          "2023_Q3_L_15h",
          "2023_Q3_L_16h",
          "2023_Q3_L_17h",
          "2023_Q3_L_18h",
          "2023_Q3_L_19h",
          "2023_Q3_L_20h",
          "2023_Q3_L_21h",
          "2023_Q3_L_22h",
          "2023_Q3_L_23h",
          "2023_Q3_H_0h",
          "2023_Q3_H_1h",
          "2023_Q3_H_2h",
          "2023_Q3_H_3h",
          "2023_Q3_H_4h",
          "2023_Q3_H_5h",
          "2023_Q3_H_6h",
          "2023_Q3_H_7h",
          "2023_Q3_H_8h",
          "2023_Q3_H_9h",
          "2023_Q3_H_10h",
          "2023_Q3_H_11h",
          "2023_Q3_H_12h",
          "2023_Q3_H_13h",
          "2023_Q3_H_14h",
          "2023_Q3_H_15h",
          "2023_Q3_H_16h",
          "2023_Q3_H_17h",
          "2023_Q3_H_18h",
          "2023_Q3_H_19h",
          "2023_Q3_H_20h",
          "2023_Q3_H_21h",
          "2023_Q3_H_22h",
          "2023_Q3_H_23h",
          "2023_Q4_L_0h",
          "2023_Q4_L_1h",
          "2023_Q4_L_2h",
          "2023_Q4_L_3h",
          "2023_Q4_L_4h",
          "2023_Q4_L_5h",
          "2023_Q4_L_6h",
          "2023_Q4_L_7h",
          "2023_Q4_L_8h",
          "2023_Q4_L_9h",
          "2023_Q4_L_10h",
          "2023_Q4_L_11h",
          "2023_Q4_L_12h",
          "2023_Q4_L_13h",
          "2023_Q4_L_14h",
          "2023_Q4_L_15h",
          "2023_Q4_L_16h",
          "2023_Q4_L_17h",
          "2023_Q4_L_18h",
          "2023_Q4_L_19h",
          "2023_Q4_L_20h",
          "2023_Q4_L_21h",
          "2023_Q4_L_22h",
          "2023_Q4_L_23h",
          "2023_Q4_H_0h",
          "2023_Q4_H_1h",
          "2023_Q4_H_2h",
          "2023_Q4_H_3h",
          "2023_Q4_H_4h",
          "2023_Q4_H_5h",
          "2023_Q4_H_6h",
          "2023_Q4_H_7h",
          "2023_Q4_H_8h",
          "2023_Q4_H_9h",
          "2023_Q4_H_10h",
          "2023_Q4_H_11h",
          "2023_Q4_H_12h",
          "2023_Q4_H_13h",
          "2023_Q4_H_14h",
          "2023_Q4_H_15h",
          "2023_Q4_H_16h",
          "2023_Q4_H_17h",
          "2023_Q4_H_18h",
          "2023_Q4_H_19h",
          "2023_Q4_H_20h",
          "2023_Q4_H_21h",
          "2023_Q4_H_22h",
          "2023_Q4_H_23h"
         ],
         "xaxis": "x2",
         "y": [
          6852.6681410176825,
          6516.170547581186,
          6321.733320102995,
          6183.9564152395915,
          6117.626863233084,
          6199.873245973225,
          6396.250506468044,
          6457.145527770535,
          6717.311051801785,
          7013.058936708681,
          7186.542759376102,
          7385.77259592413,
          7570.565645501103,
          7574.4011620172705,
          7651.552994225919,
          7801.323047699028,
          7869.0991389375995,
          7820.101252952591,
          7706.174201147517,
          8122.28378936354,
          8224.16635645213,
          7986.328458440378,
          7646.719355208343,
          7236.426303966018,
          6635.797995402023,
          6504.414909672202,
          6318.863324605441,
          6166.596733557374,
          6053.737556127648,
          5991.791495342268,
          5917.387365184571,
          5691.946162701146,
          5765.628489176653,
          5974.598847376265,
          6180.459129901562,
          6362.275548749398,
          6542.524608863011,
          6654.979405884549,
          6705.4274987533045,
          6725.175879558575,
          6756.752173363331,
          6781.464169265275,
          6837.8847044375325,
          7373.995790710018,
          7544.5858286090315,
          7459.938832167221,
          7262.261608819924,
          6959.952583252048,
          6581.222268078552,
          6131.33747937923,
          5861.939414696665,
          5670.642151900992,
          5584.59042574298,
          5744.79370532111,
          6073.953215384929,
          6118.963111648461,
          6464.87733435111,
          6785.634874396278,
          6953.374881593088,
          7164.982628074776,
          7348.018111812493,
          7325.545057047316,
          7419.454577016403,
          7572.422830396134,
          7643.975905725864,
          7591.784794949858,
          7432.733100499252,
          7819.416336606958,
          8015.212038351394,
          7791.111279437778,
          7418.701407979452,
          6975.864650085014,
          6502.901492264675,
          6468.058321246195,
          6244.549063835244,
          6075.363198389909,
          5935.7518793177605,
          5872.2092917674645,
          5747.973456448635,
          5465.783112595663,
          5649.457324509994,
          5906.0682372917645,
          6129.600398913596,
          6333.2393724024,
          6505.203506225381,
          6612.037188661553,
          6665.771157190683,
          6659.769068863981,
          6671.162989986686,
          6684.807136360187,
          6720.217549622878,
          7242.897946551214,
          7464.394233491379,
          7381.632994526064,
          7165.441064821882,
          6839.474411994419,
          6857.886151425596,
          6363.443930286412,
          6074.160491511887,
          5867.378390037094,
          5768.7925209698,
          5891.417503832968,
          6130.020394105108,
          6206.515888717738,
          6598.954029176059,
          6996.384583459293,
          7240.920894169873,
          7537.43707070943,
          7730.607744311741,
          7721.785870386414,
          7816.483073666847,
          7970.482865319551,
          8026.476108796711,
          7982.360209203943,
          7803.723611425086,
          8085.259356010693,
          8297.390466962735,
          8155.666546935485,
          7841.220802004543,
          7407.557422598032,
          6939.232392426122,
          6850.012074899831,
          6556.292297130466,
          6320.566212964123,
          6150.563019754514,
          6067.891075687967,
          5950.392491015601,
          5751.262086835499,
          5886.535496137725,
          6092.607041832727,
          6280.6486186669,
          6488.419122264542,
          6711.769762285284,
          6890.755743353487,
          6988.348421316038,
          6998.181692887394,
          7021.536131263349,
          7049.568440134368,
          7085.139627868084,
          7523.35458668318,
          7811.235265830347,
          7745.794162551888,
          7571.7246456599,
          7280.188610583443,
          6848.602741851038,
          6466.53602144253,
          6226.252749781656,
          6042.252388038407,
          5950.252439633931,
          6071.56465258426,
          6305.735115061375,
          6389.071038207111,
          6690.228330786878,
          7016.80195580998,
          7242.199922773417,
          7525.151216153016,
          7777.126758724031,
          7785.872720908053,
          7939.091812094367,
          8171.056778551041,
          8264.101844197034,
          8216.66604691467,
          8132.345155671516,
          8582.10194214624,
          8569.394762173828,
          8396.74253092846,
          7950.026933125356,
          7357.843674007728,
          6734.057333491403,
          6556.862049946608,
          6255.760115030974,
          6003.969010529539,
          5781.917865875661,
          5691.5440254181885,
          5539.253998216284,
          5277.312929480577,
          5450.598036638854,
          5732.259704572207,
          6004.012161895826,
          6279.188448871739,
          6550.011968320286,
          6730.498252579369,
          6823.3421147914305,
          6837.064198673486,
          6892.026479862467,
          6926.11721028417,
          7121.486809170846,
          7747.21165310212,
          7847.090667895323,
          7765.884363489176,
          7575.174002745528,
          7208.487617417093
         ],
         "yaxis": "y2"
        },
        {
         "hovertemplate": "Tech=Solar<br>timestamp=%{x}<br>DispatchGen_MW=%{y}<extra></extra>",
         "legendgroup": "Solar",
         "line": {
          "color": "#EFB52D",
          "dash": "solid"
         },
         "marker": {
          "symbol": "circle"
         },
         "mode": "lines",
         "name": "Solar",
         "orientation": "v",
         "showlegend": false,
         "type": "scatter",
         "x": [
          "2023_Q1_L_0h",
          "2023_Q1_L_1h",
          "2023_Q1_L_2h",
          "2023_Q1_L_3h",
          "2023_Q1_L_4h",
          "2023_Q1_L_5h",
          "2023_Q1_L_6h",
          "2023_Q1_L_7h",
          "2023_Q1_L_8h",
          "2023_Q1_L_9h",
          "2023_Q1_L_10h",
          "2023_Q1_L_11h",
          "2023_Q1_L_12h",
          "2023_Q1_L_13h",
          "2023_Q1_L_14h",
          "2023_Q1_L_15h",
          "2023_Q1_L_16h",
          "2023_Q1_L_17h",
          "2023_Q1_L_18h",
          "2023_Q1_L_19h",
          "2023_Q1_L_20h",
          "2023_Q1_L_21h",
          "2023_Q1_L_22h",
          "2023_Q1_L_23h",
          "2023_Q1_H_0h",
          "2023_Q1_H_1h",
          "2023_Q1_H_2h",
          "2023_Q1_H_3h",
          "2023_Q1_H_4h",
          "2023_Q1_H_5h",
          "2023_Q1_H_6h",
          "2023_Q1_H_7h",
          "2023_Q1_H_8h",
          "2023_Q1_H_9h",
          "2023_Q1_H_10h",
          "2023_Q1_H_11h",
          "2023_Q1_H_12h",
          "2023_Q1_H_13h",
          "2023_Q1_H_14h",
          "2023_Q1_H_15h",
          "2023_Q1_H_16h",
          "2023_Q1_H_17h",
          "2023_Q1_H_18h",
          "2023_Q1_H_19h",
          "2023_Q1_H_20h",
          "2023_Q1_H_21h",
          "2023_Q1_H_22h",
          "2023_Q1_H_23h",
          "2023_Q2_L_0h",
          "2023_Q2_L_1h",
          "2023_Q2_L_2h",
          "2023_Q2_L_3h",
          "2023_Q2_L_4h",
          "2023_Q2_L_5h",
          "2023_Q2_L_6h",
          "2023_Q2_L_7h",
          "2023_Q2_L_8h",
          "2023_Q2_L_9h",
          "2023_Q2_L_10h",
          "2023_Q2_L_11h",
          "2023_Q2_L_12h",
          "2023_Q2_L_13h",
          "2023_Q2_L_14h",
          "2023_Q2_L_15h",
          "2023_Q2_L_16h",
          "2023_Q2_L_17h",
          "2023_Q2_L_18h",
          "2023_Q2_L_19h",
          "2023_Q2_L_20h",
          "2023_Q2_L_21h",
          "2023_Q2_L_22h",
          "2023_Q2_L_23h",
          "2023_Q2_H_0h",
          "2023_Q2_H_1h",
          "2023_Q2_H_2h",
          "2023_Q2_H_3h",
          "2023_Q2_H_4h",
          "2023_Q2_H_5h",
          "2023_Q2_H_6h",
          "2023_Q2_H_7h",
          "2023_Q2_H_8h",
          "2023_Q2_H_9h",
          "2023_Q2_H_10h",
          "2023_Q2_H_11h",
          "2023_Q2_H_12h",
          "2023_Q2_H_13h",
          "2023_Q2_H_14h",
          "2023_Q2_H_15h",
          "2023_Q2_H_16h",
          "2023_Q2_H_17h",
          "2023_Q2_H_18h",
          "2023_Q2_H_19h",
          "2023_Q2_H_20h",
          "2023_Q2_H_21h",
          "2023_Q2_H_22h",
          "2023_Q2_H_23h",
          "2023_Q3_L_0h",
          "2023_Q3_L_1h",
          "2023_Q3_L_2h",
          "2023_Q3_L_3h",
          "2023_Q3_L_4h",
          "2023_Q3_L_5h",
          "2023_Q3_L_6h",
          "2023_Q3_L_7h",
          "2023_Q3_L_8h",
          "2023_Q3_L_9h",
          "2023_Q3_L_10h",
          "2023_Q3_L_11h",
          "2023_Q3_L_12h",
          "2023_Q3_L_13h",
          "2023_Q3_L_14h",
          "2023_Q3_L_15h",
          "2023_Q3_L_16h",
          "2023_Q3_L_17h",
          "2023_Q3_L_18h",
          "2023_Q3_L_19h",
          "2023_Q3_L_20h",
          "2023_Q3_L_21h",
          "2023_Q3_L_22h",
          "2023_Q3_L_23h",
          "2023_Q3_H_0h",
          "2023_Q3_H_1h",
          "2023_Q3_H_2h",
          "2023_Q3_H_3h",
          "2023_Q3_H_4h",
          "2023_Q3_H_5h",
          "2023_Q3_H_6h",
          "2023_Q3_H_7h",
          "2023_Q3_H_8h",
          "2023_Q3_H_9h",
          "2023_Q3_H_10h",
          "2023_Q3_H_11h",
          "2023_Q3_H_12h",
          "2023_Q3_H_13h",
          "2023_Q3_H_14h",
          "2023_Q3_H_15h",
          "2023_Q3_H_16h",
          "2023_Q3_H_17h",
          "2023_Q3_H_18h",
          "2023_Q3_H_19h",
          "2023_Q3_H_20h",
          "2023_Q3_H_21h",
          "2023_Q3_H_22h",
          "2023_Q3_H_23h",
          "2023_Q4_L_0h",
          "2023_Q4_L_1h",
          "2023_Q4_L_2h",
          "2023_Q4_L_3h",
          "2023_Q4_L_4h",
          "2023_Q4_L_5h",
          "2023_Q4_L_6h",
          "2023_Q4_L_7h",
          "2023_Q4_L_8h",
          "2023_Q4_L_9h",
          "2023_Q4_L_10h",
          "2023_Q4_L_11h",
          "2023_Q4_L_12h",
          "2023_Q4_L_13h",
          "2023_Q4_L_14h",
          "2023_Q4_L_15h",
          "2023_Q4_L_16h",
          "2023_Q4_L_17h",
          "2023_Q4_L_18h",
          "2023_Q4_L_19h",
          "2023_Q4_L_20h",
          "2023_Q4_L_21h",
          "2023_Q4_L_22h",
          "2023_Q4_L_23h",
          "2023_Q4_H_0h",
          "2023_Q4_H_1h",
          "2023_Q4_H_2h",
          "2023_Q4_H_3h",
          "2023_Q4_H_4h",
          "2023_Q4_H_5h",
          "2023_Q4_H_6h",
          "2023_Q4_H_7h",
          "2023_Q4_H_8h",
          "2023_Q4_H_9h",
          "2023_Q4_H_10h",
          "2023_Q4_H_11h",
          "2023_Q4_H_12h",
          "2023_Q4_H_13h",
          "2023_Q4_H_14h",
          "2023_Q4_H_15h",
          "2023_Q4_H_16h",
          "2023_Q4_H_17h",
          "2023_Q4_H_18h",
          "2023_Q4_H_19h",
          "2023_Q4_H_20h",
          "2023_Q4_H_21h",
          "2023_Q4_H_22h",
          "2023_Q4_H_23h"
         ],
         "xaxis": "x2",
         "y": [
          0,
          0,
          0,
          0,
          0,
          0.06080900048763405,
          45.58382747359684,
          168.5840307307824,
          322.01740380243155,
          459.84549611983294,
          562.0259607415801,
          612.8854825158728,
          610.0797366250163,
          551.1043446638232,
          442.87061001883774,
          304.42313287654963,
          157.11637470400143,
          33.05872425124498,
          0.03198457224524666,
          0,
          0,
          0,
          0,
          0,
          0,
          0,
          0,
          0,
          0,
          0.06149823422240105,
          45.67554597344441,
          168.0885307565782,
          320.98590312326206,
          458.75765058044317,
          561.0092668152424,
          611.8969127781874,
          608.7741575611044,
          549.802831795987,
          441.84360597224554,
          303.8139106783744,
          156.90576876977877,
          33.095881061152944,
          0.03207166946789125,
          0,
          0,
          0,
          0,
          0,
          0,
          0,
          0,
          0,
          0,
          0.6524430072651566,
          46.11395107749946,
          159.62250415613642,
          292.8768012892431,
          416.3133624197833,
          507.94789185009904,
          552.3469758493108,
          546.3828312334783,
          490.7517337313653,
          393.03380902619017,
          271.65036284122937,
          147.0912014360926,
          39.23480301803167,
          0.2529743181009027,
          0,
          0,
          0,
          0,
          0,
          0,
          0,
          0,
          0,
          0,
          0.6611103057007807,
          45.65393442326967,
          158.28606023362332,
          290.60154821730544,
          413.24613858250837,
          504.1145716284799,
          548.0224794709227,
          542.4513047041796,
          487.58571644165784,
          390.6100203825086,
          270.1604568981295,
          146.57783688858387,
          39.41587916458439,
          0.2649238935753702,
          0,
          0,
          0,
          0,
          0,
          0,
          0,
          0,
          0,
          0,
          1.2934116970841367,
          47.95173289119395,
          155.45736129075624,
          278.41226745525285,
          391.5204267765173,
          477.3661338973508,
          522.8246855424945,
          519.1147497364549,
          467.613009491405,
          377.22729687943314,
          263.7355898066413,
          146.67918341478986,
          43.514426633102886,
          0.5342519019846093,
          0,
          0,
          0,
          0,
          0,
          0,
          0,
          0,
          0,
          0,
          1.307508492862352,
          48.11628714327616,
          155.9267145578324,
          279.39827837438975,
          393.19421772118415,
          479.722161162863,
          525.7867575599118,
          522.3885448054459,
          470.92848630638696,
          379.9417980982542,
          265.47130792297156,
          147.58596640088862,
          43.76874335885578,
          0.5379714977935884,
          0,
          0,
          0,
          0,
          0,
          0,
          0,
          0,
          0,
          0,
          0.13795287710902607,
          33.25186909903424,
          135.3139346452609,
          258.23825505921224,
          372.630453746235,
          460.779240393338,
          508.04009217181726,
          504.9538382720805,
          453.0506372169616,
          361.604970462691,
          246.9584917943603,
          129.82482305503046,
          32.729793819078566,
          0.05693471571881664,
          0,
          0,
          0,
          0,
          0,
          0,
          0,
          0,
          0,
          0,
          0.138770084925342,
          33.38375698120598,
          135.55008188571253,
          258.5651428901285,
          373.113980974945,
          461.5052073755135,
          509.02582511928404,
          506.0409723627465,
          453.87152125484903,
          362.2550777340336,
          247.3642157853002,
          129.96996345310077,
          32.65062220871494,
          0.056934727333036665,
          0,
          0,
          0,
          0,
          0
         ],
         "yaxis": "y2"
        },
        {
         "hovertemplate": "Tech=Thermal<br>timestamp=%{x}<br>DispatchGen_MW=%{y}<extra></extra>",
         "legendgroup": "Thermal",
         "line": {
          "color": "#E84A59",
          "dash": "solid"
         },
         "marker": {
          "symbol": "circle"
         },
         "mode": "lines",
         "name": "Thermal",
         "orientation": "v",
         "showlegend": false,
         "type": "scatter",
         "x": [
          "2023_Q1_L_0h",
          "2023_Q1_L_1h",
          "2023_Q1_L_2h",
          "2023_Q1_L_3h",
          "2023_Q1_L_4h",
          "2023_Q1_L_5h",
          "2023_Q1_L_6h",
          "2023_Q1_L_7h",
          "2023_Q1_L_8h",
          "2023_Q1_L_9h",
          "2023_Q1_L_10h",
          "2023_Q1_L_11h",
          "2023_Q1_L_12h",
          "2023_Q1_L_13h",
          "2023_Q1_L_14h",
          "2023_Q1_L_15h",
          "2023_Q1_L_16h",
          "2023_Q1_L_17h",
          "2023_Q1_L_18h",
          "2023_Q1_L_19h",
          "2023_Q1_L_20h",
          "2023_Q1_L_21h",
          "2023_Q1_L_22h",
          "2023_Q1_L_23h",
          "2023_Q1_H_0h",
          "2023_Q1_H_1h",
          "2023_Q1_H_2h",
          "2023_Q1_H_3h",
          "2023_Q1_H_4h",
          "2023_Q1_H_5h",
          "2023_Q1_H_6h",
          "2023_Q1_H_7h",
          "2023_Q1_H_8h",
          "2023_Q1_H_9h",
          "2023_Q1_H_10h",
          "2023_Q1_H_11h",
          "2023_Q1_H_12h",
          "2023_Q1_H_13h",
          "2023_Q1_H_14h",
          "2023_Q1_H_15h",
          "2023_Q1_H_16h",
          "2023_Q1_H_17h",
          "2023_Q1_H_18h",
          "2023_Q1_H_19h",
          "2023_Q1_H_20h",
          "2023_Q1_H_21h",
          "2023_Q1_H_22h",
          "2023_Q1_H_23h",
          "2023_Q2_L_0h",
          "2023_Q2_L_1h",
          "2023_Q2_L_2h",
          "2023_Q2_L_3h",
          "2023_Q2_L_4h",
          "2023_Q2_L_5h",
          "2023_Q2_L_6h",
          "2023_Q2_L_7h",
          "2023_Q2_L_8h",
          "2023_Q2_L_9h",
          "2023_Q2_L_10h",
          "2023_Q2_L_11h",
          "2023_Q2_L_12h",
          "2023_Q2_L_13h",
          "2023_Q2_L_14h",
          "2023_Q2_L_15h",
          "2023_Q2_L_16h",
          "2023_Q2_L_17h",
          "2023_Q2_L_18h",
          "2023_Q2_L_19h",
          "2023_Q2_L_20h",
          "2023_Q2_L_21h",
          "2023_Q2_L_22h",
          "2023_Q2_L_23h",
          "2023_Q2_H_0h",
          "2023_Q2_H_1h",
          "2023_Q2_H_2h",
          "2023_Q2_H_3h",
          "2023_Q2_H_4h",
          "2023_Q2_H_5h",
          "2023_Q2_H_6h",
          "2023_Q2_H_7h",
          "2023_Q2_H_8h",
          "2023_Q2_H_9h",
          "2023_Q2_H_10h",
          "2023_Q2_H_11h",
          "2023_Q2_H_12h",
          "2023_Q2_H_13h",
          "2023_Q2_H_14h",
          "2023_Q2_H_15h",
          "2023_Q2_H_16h",
          "2023_Q2_H_17h",
          "2023_Q2_H_18h",
          "2023_Q2_H_19h",
          "2023_Q2_H_20h",
          "2023_Q2_H_21h",
          "2023_Q2_H_22h",
          "2023_Q2_H_23h",
          "2023_Q3_L_0h",
          "2023_Q3_L_1h",
          "2023_Q3_L_2h",
          "2023_Q3_L_3h",
          "2023_Q3_L_4h",
          "2023_Q3_L_5h",
          "2023_Q3_L_6h",
          "2023_Q3_L_7h",
          "2023_Q3_L_8h",
          "2023_Q3_L_9h",
          "2023_Q3_L_10h",
          "2023_Q3_L_11h",
          "2023_Q3_L_12h",
          "2023_Q3_L_13h",
          "2023_Q3_L_14h",
          "2023_Q3_L_15h",
          "2023_Q3_L_16h",
          "2023_Q3_L_17h",
          "2023_Q3_L_18h",
          "2023_Q3_L_19h",
          "2023_Q3_L_20h",
          "2023_Q3_L_21h",
          "2023_Q3_L_22h",
          "2023_Q3_L_23h",
          "2023_Q3_H_0h",
          "2023_Q3_H_1h",
          "2023_Q3_H_2h",
          "2023_Q3_H_3h",
          "2023_Q3_H_4h",
          "2023_Q3_H_5h",
          "2023_Q3_H_6h",
          "2023_Q3_H_7h",
          "2023_Q3_H_8h",
          "2023_Q3_H_9h",
          "2023_Q3_H_10h",
          "2023_Q3_H_11h",
          "2023_Q3_H_12h",
          "2023_Q3_H_13h",
          "2023_Q3_H_14h",
          "2023_Q3_H_15h",
          "2023_Q3_H_16h",
          "2023_Q3_H_17h",
          "2023_Q3_H_18h",
          "2023_Q3_H_19h",
          "2023_Q3_H_20h",
          "2023_Q3_H_21h",
          "2023_Q3_H_22h",
          "2023_Q3_H_23h",
          "2023_Q4_L_0h",
          "2023_Q4_L_1h",
          "2023_Q4_L_2h",
          "2023_Q4_L_3h",
          "2023_Q4_L_4h",
          "2023_Q4_L_5h",
          "2023_Q4_L_6h",
          "2023_Q4_L_7h",
          "2023_Q4_L_8h",
          "2023_Q4_L_9h",
          "2023_Q4_L_10h",
          "2023_Q4_L_11h",
          "2023_Q4_L_12h",
          "2023_Q4_L_13h",
          "2023_Q4_L_14h",
          "2023_Q4_L_15h",
          "2023_Q4_L_16h",
          "2023_Q4_L_17h",
          "2023_Q4_L_18h",
          "2023_Q4_L_19h",
          "2023_Q4_L_20h",
          "2023_Q4_L_21h",
          "2023_Q4_L_22h",
          "2023_Q4_L_23h",
          "2023_Q4_H_0h",
          "2023_Q4_H_1h",
          "2023_Q4_H_2h",
          "2023_Q4_H_3h",
          "2023_Q4_H_4h",
          "2023_Q4_H_5h",
          "2023_Q4_H_6h",
          "2023_Q4_H_7h",
          "2023_Q4_H_8h",
          "2023_Q4_H_9h",
          "2023_Q4_H_10h",
          "2023_Q4_H_11h",
          "2023_Q4_H_12h",
          "2023_Q4_H_13h",
          "2023_Q4_H_14h",
          "2023_Q4_H_15h",
          "2023_Q4_H_16h",
          "2023_Q4_H_17h",
          "2023_Q4_H_18h",
          "2023_Q4_H_19h",
          "2023_Q4_H_20h",
          "2023_Q4_H_21h",
          "2023_Q4_H_22h",
          "2023_Q4_H_23h"
         ],
         "xaxis": "x2",
         "y": [
          1588.8537252011067,
          1452.7048894816323,
          1374.4850220869728,
          1318.8202455348849,
          1292.072520076649,
          1325.0751246797122,
          1393.013031269791,
          1392.368310440118,
          1464.355678612809,
          1557.8355591415907,
          1610.2208031300293,
          1685.043833222983,
          1761.5730383329696,
          1774.0601129766517,
          1827.2611928329188,
          1915.6020597130964,
          1973.1727784203965,
          1976.0069279809697,
          1931.5038956826036,
          2017.39691906893,
          2025.4165387053067,
          2005.4174520255654,
          1909.502745572945,
          1743.7270063942492,
          1285.3304321441076,
          1234.0722380798431,
          1160.3595428480774,
          1100.3139099783384,
          1054.572392927176,
          1029.8301215530141,
          988.8786681922257,
          874.9005672365565,
          871.1344102973603,
          927.1411078797304,
          990.3254740211902,
          1056.5774326518022,
          1130.0490141015157,
          1186.4743789594409,
          1227.811372334413,
          1262.7055115169314,
          1305.3405517166982,
          1338.3533774720818,
          1361.747325674343,
          1528.3905780051214,
          1593.144767616459,
          1562.4944259519289,
          1489.718585915641,
          1397.7044086247238,
          1773.096154222811,
          1726.0511264112904,
          1725.9122127537491,
          1725.796698370794,
          1725.7386113149646,
          1725.8509234781372,
          1726.032152978013,
          1726.057296139468,
          1726.2113597414254,
          1776.0208151441134,
          1828.0278554031563,
          1907.3245336422242,
          1982.8167099417085,
          1984.2525209284286,
          2039.3259501891005,
          2121.4164546641327,
          2171.111307447291,
          2168.6170953088204,
          2110.8728110431093,
          2196.505015295619,
          2205.457850733888,
          2194.8972960585747,
          2106.275336579898,
          1930.128842577837,
          1333.1348478627538,
          1320.4740237164951,
          1233.1474966496348,
          1166.7955674340155,
          1136.9182427822284,
          1121.1974031608124,
          1091.6432627419003,
          1104.9241172346915,
          1085.0892973618581,
          1090.6970645871324,
          1128.7303836627052,
          1172.4100639744697,
          1242.9049215462967,
          1295.3669525226474,
          1334.4197197095282,
          1351.3488156820265,
          1377.526839944471,
          1400.3619762818787,
          1419.3171317979463,
          1571.3952779478275,
          1651.4312905813235,
          1621.4151448976825,
          1544.8283429483242,
          1453.6001304813558,
          1798.6195684700328,
          1787.974629639004,
          1787.7917546041504,
          1787.6697275040597,
          1787.6134771708,
          1787.7063852718204,
          1787.8500191788323,
          1787.9040477953386,
          1795.3309446605517,
          1798.7861312983612,
          1799.5744664294925,
          1812.9973655628482,
          1887.476795329258,
          1891.9447977794307,
          1941.6553574821462,
          2016.1132052795404,
          2053.2872605070756,
          2045.9732484350916,
          1981.3448411297327,
          2090.6492963845835,
          2174.087912983173,
          2118.0524199376296,
          1995.126487338056,
          1823.3707069635655,
          1148.0247435149856,
          1145.5291667828967,
          1142.6970796752657,
          1140.3218415767797,
          1133.1308586031657,
          1116.0115195529647,
          1068.8335309841036,
          992.0196375574762,
          1029.635481666057,
          1082.2865700759942,
          1128.991011592597,
          1140.2865483298474,
          1142.5978637366197,
          1144.327919096388,
          1145.931391719214,
          1147.2189400929508,
          1150.2549372385204,
          1156.5834312663694,
          1172.666581357676,
          1345.6439142889933,
          1458.9192970818542,
          1433.3554565453446,
          1364.9203606626404,
          1250.8775576328924,
          2228.7853143399366,
          2092.3857422822616,
          2038.066492732355,
          2017.0102737686325,
          2008.3258437343466,
          2019.2906084659003,
          2047.8879606675562,
          2058.6750278789173,
          2166.98459789734,
          2246.6612539144153,
          2273.333630696385,
          2301.6096437974675,
          2314.5000073452807,
          2314.5000073489564,
          2314.500007375005,
          2314.5000074049954,
          2314.500007416871,
          2314.500007414003,
          2314.5000074060226,
          2379.321489483266,
          2373.958019965878,
          2314.5000074636932,
          2314.5000073897177,
          2297.575213012597,
          1724.175568707726,
          1724.085763842362,
          1723.8608419864474,
          1723.6525990208672,
          1723.4602380061633,
          1723.386927629162,
          1723.2457926614322,
          1722.9827363584996,
          1723.172016927661,
          1723.4424065387554,
          1723.6809022777495,
          1723.9065946629896,
          1724.1081774785716,
          1724.2147266443615,
          1724.249732783066,
          1724.2471176406634,
          1724.263831498742,
          1724.2737961910232,
          1724.3562678718604,
          1838.2753923062041,
          1877.4661000694655,
          1844.0671137797706,
          1769.08302581413,
          1724.385733111179
         ],
         "yaxis": "y2"
        },
        {
         "hovertemplate": "Tech=Menores<br>timestamp=%{x}<br>DispatchGen_MW=%{y}<extra></extra>",
         "legendgroup": "Menores",
         "line": {
          "color": "#AEE83C",
          "dash": "solid"
         },
         "marker": {
          "symbol": "circle"
         },
         "mode": "lines",
         "name": "Menores",
         "orientation": "v",
         "showlegend": false,
         "type": "scatter",
         "x": [
          "2023_Q1_L_0h",
          "2023_Q1_L_1h",
          "2023_Q1_L_2h",
          "2023_Q1_L_3h",
          "2023_Q1_L_4h",
          "2023_Q1_L_5h",
          "2023_Q1_L_6h",
          "2023_Q1_L_7h",
          "2023_Q1_L_8h",
          "2023_Q1_L_9h",
          "2023_Q1_L_10h",
          "2023_Q1_L_11h",
          "2023_Q1_L_12h",
          "2023_Q1_L_13h",
          "2023_Q1_L_14h",
          "2023_Q1_L_15h",
          "2023_Q1_L_16h",
          "2023_Q1_L_17h",
          "2023_Q1_L_18h",
          "2023_Q1_L_19h",
          "2023_Q1_L_20h",
          "2023_Q1_L_21h",
          "2023_Q1_L_22h",
          "2023_Q1_L_23h",
          "2023_Q1_H_0h",
          "2023_Q1_H_1h",
          "2023_Q1_H_2h",
          "2023_Q1_H_3h",
          "2023_Q1_H_4h",
          "2023_Q1_H_5h",
          "2023_Q1_H_6h",
          "2023_Q1_H_7h",
          "2023_Q1_H_8h",
          "2023_Q1_H_9h",
          "2023_Q1_H_10h",
          "2023_Q1_H_11h",
          "2023_Q1_H_12h",
          "2023_Q1_H_13h",
          "2023_Q1_H_14h",
          "2023_Q1_H_15h",
          "2023_Q1_H_16h",
          "2023_Q1_H_17h",
          "2023_Q1_H_18h",
          "2023_Q1_H_19h",
          "2023_Q1_H_20h",
          "2023_Q1_H_21h",
          "2023_Q1_H_22h",
          "2023_Q1_H_23h",
          "2023_Q2_L_0h",
          "2023_Q2_L_1h",
          "2023_Q2_L_2h",
          "2023_Q2_L_3h",
          "2023_Q2_L_4h",
          "2023_Q2_L_5h",
          "2023_Q2_L_6h",
          "2023_Q2_L_7h",
          "2023_Q2_L_8h",
          "2023_Q2_L_9h",
          "2023_Q2_L_10h",
          "2023_Q2_L_11h",
          "2023_Q2_L_12h",
          "2023_Q2_L_13h",
          "2023_Q2_L_14h",
          "2023_Q2_L_15h",
          "2023_Q2_L_16h",
          "2023_Q2_L_17h",
          "2023_Q2_L_18h",
          "2023_Q2_L_19h",
          "2023_Q2_L_20h",
          "2023_Q2_L_21h",
          "2023_Q2_L_22h",
          "2023_Q2_L_23h",
          "2023_Q2_H_0h",
          "2023_Q2_H_1h",
          "2023_Q2_H_2h",
          "2023_Q2_H_3h",
          "2023_Q2_H_4h",
          "2023_Q2_H_5h",
          "2023_Q2_H_6h",
          "2023_Q2_H_7h",
          "2023_Q2_H_8h",
          "2023_Q2_H_9h",
          "2023_Q2_H_10h",
          "2023_Q2_H_11h",
          "2023_Q2_H_12h",
          "2023_Q2_H_13h",
          "2023_Q2_H_14h",
          "2023_Q2_H_15h",
          "2023_Q2_H_16h",
          "2023_Q2_H_17h",
          "2023_Q2_H_18h",
          "2023_Q2_H_19h",
          "2023_Q2_H_20h",
          "2023_Q2_H_21h",
          "2023_Q2_H_22h",
          "2023_Q2_H_23h",
          "2023_Q3_L_0h",
          "2023_Q3_L_1h",
          "2023_Q3_L_2h",
          "2023_Q3_L_3h",
          "2023_Q3_L_4h",
          "2023_Q3_L_5h",
          "2023_Q3_L_6h",
          "2023_Q3_L_7h",
          "2023_Q3_L_8h",
          "2023_Q3_L_9h",
          "2023_Q3_L_10h",
          "2023_Q3_L_11h",
          "2023_Q3_L_12h",
          "2023_Q3_L_13h",
          "2023_Q3_L_14h",
          "2023_Q3_L_15h",
          "2023_Q3_L_16h",
          "2023_Q3_L_17h",
          "2023_Q3_L_18h",
          "2023_Q3_L_19h",
          "2023_Q3_L_20h",
          "2023_Q3_L_21h",
          "2023_Q3_L_22h",
          "2023_Q3_L_23h",
          "2023_Q3_H_0h",
          "2023_Q3_H_1h",
          "2023_Q3_H_2h",
          "2023_Q3_H_3h",
          "2023_Q3_H_4h",
          "2023_Q3_H_5h",
          "2023_Q3_H_6h",
          "2023_Q3_H_7h",
          "2023_Q3_H_8h",
          "2023_Q3_H_9h",
          "2023_Q3_H_10h",
          "2023_Q3_H_11h",
          "2023_Q3_H_12h",
          "2023_Q3_H_13h",
          "2023_Q3_H_14h",
          "2023_Q3_H_15h",
          "2023_Q3_H_16h",
          "2023_Q3_H_17h",
          "2023_Q3_H_18h",
          "2023_Q3_H_19h",
          "2023_Q3_H_20h",
          "2023_Q3_H_21h",
          "2023_Q3_H_22h",
          "2023_Q3_H_23h",
          "2023_Q4_L_0h",
          "2023_Q4_L_1h",
          "2023_Q4_L_2h",
          "2023_Q4_L_3h",
          "2023_Q4_L_4h",
          "2023_Q4_L_5h",
          "2023_Q4_L_6h",
          "2023_Q4_L_7h",
          "2023_Q4_L_8h",
          "2023_Q4_L_9h",
          "2023_Q4_L_10h",
          "2023_Q4_L_11h",
          "2023_Q4_L_12h",
          "2023_Q4_L_13h",
          "2023_Q4_L_14h",
          "2023_Q4_L_15h",
          "2023_Q4_L_16h",
          "2023_Q4_L_17h",
          "2023_Q4_L_18h",
          "2023_Q4_L_19h",
          "2023_Q4_L_20h",
          "2023_Q4_L_21h",
          "2023_Q4_L_22h",
          "2023_Q4_L_23h",
          "2023_Q4_H_0h",
          "2023_Q4_H_1h",
          "2023_Q4_H_2h",
          "2023_Q4_H_3h",
          "2023_Q4_H_4h",
          "2023_Q4_H_5h",
          "2023_Q4_H_6h",
          "2023_Q4_H_7h",
          "2023_Q4_H_8h",
          "2023_Q4_H_9h",
          "2023_Q4_H_10h",
          "2023_Q4_H_11h",
          "2023_Q4_H_12h",
          "2023_Q4_H_13h",
          "2023_Q4_H_14h",
          "2023_Q4_H_15h",
          "2023_Q4_H_16h",
          "2023_Q4_H_17h",
          "2023_Q4_H_18h",
          "2023_Q4_H_19h",
          "2023_Q4_H_20h",
          "2023_Q4_H_21h",
          "2023_Q4_H_22h",
          "2023_Q4_H_23h"
         ],
         "xaxis": "x2",
         "y": [
          123.46038850825423,
          123.16769330136627,
          123.14569611632912,
          123.0308977724557,
          123.17461725116586,
          122.54791048554517,
          123.31079540597419,
          122.98895750424148,
          122.05914764878649,
          122.5112756974311,
          122.73017930671179,
          122.81287548116102,
          122.55501607216658,
          121.84114526170576,
          121.09805552417473,
          119.51789464861298,
          118.54713685934826,
          119.33377426862303,
          119.28371363663435,
          120.15311308314509,
          121.49368014928783,
          121.34498191957235,
          122.31722935559475,
          122.49568007487943,
          122.87210396652054,
          123.76900657153985,
          124.60885045279862,
          124.56585485904067,
          122.14719497278688,
          122.16563950904312,
          123.289606019086,
          124.27354617966029,
          123.46288467558381,
          122.79944592910834,
          121.45961378913903,
          120.88877758494198,
          121.86600973744999,
          120.5623381311816,
          120.6680341239215,
          119.58338168445815,
          118.77343028427526,
          118.60240496035378,
          116.36973277236073,
          117.11571519510672,
          119.8525421260991,
          121.53962976160291,
          121.05687578245684,
          124.42747696330403,
          141.4780636632645,
          141.99790434697576,
          143.51028798475605,
          143.6215161322473,
          143.118287579109,
          139.882126163264,
          142.43513313983328,
          142.80485113446494,
          142.58660831946818,
          142.1286747240031,
          141.24856026147745,
          141.20339167671415,
          141.86805133687767,
          141.8352461401244,
          141.08081741605773,
          140.9891150876176,
          139.4956861281302,
          140.85380552241722,
          141.38110859777353,
          142.0316063210722,
          141.69658703809608,
          141.4876938873856,
          142.57604228265834,
          142.43272404451508,
          140.08606559657485,
          142.60500049872903,
          145.4892379157806,
          144.5690060112655,
          145.4238380219159,
          142.4796680493073,
          145.53772084947576,
          146.76063603793793,
          146.70713726513353,
          145.61266762570006,
          146.51405603737277,
          144.81860349179448,
          145.0168719541317,
          144.79150567563684,
          143.83138165188572,
          141.92278744713425,
          141.9119390838556,
          142.8458081694481,
          142.25099567732101,
          142.08509696732963,
          141.73483969502723,
          141.105602532721,
          142.07303685899026,
          141.13195140900004,
          132.99360081238166,
          134.02434071589693,
          133.60896244495552,
          133.94039242342316,
          134.6165018816689,
          133.35750341580413,
          133.7520171804572,
          133.3418160986294,
          133.92991380969912,
          133.57311522199862,
          132.5886015979405,
          132.22183874704982,
          133.31727783542428,
          132.89196162394498,
          133.16591338851487,
          132.42285101865457,
          131.50421330831307,
          132.0016994913199,
          132.54660976847262,
          132.5344873965682,
          132.8384154762293,
          132.3729034333267,
          132.139620201958,
          132.64039964241655,
          132.06412812984104,
          130.8116221752069,
          132.44661767704463,
          133.3204670358847,
          132.87115258835456,
          133.29365467878122,
          132.48127513751857,
          131.22065387467626,
          131.43942567982725,
          133.14945984879483,
          134.10815373909827,
          133.98831189799742,
          133.87961963411897,
          135.4979152274589,
          136.3783656941818,
          135.54316444028777,
          134.72536344287485,
          134.58254659607294,
          133.93712623869976,
          134.24990850172932,
          133.41237766070512,
          134.1014887393321,
          132.88442553157728,
          134.2161147235609,
          128.7976829666522,
          129.08647235681437,
          128.68452673119936,
          128.54399597731634,
          128.61372496680562,
          128.30729375293618,
          128.6463372838832,
          127.69922984196423,
          128.3323423110479,
          128.08500534372527,
          127.47973298333677,
          127.03931536581473,
          127.1748850018128,
          126.92516606022187,
          126.78601222282101,
          125.94893561255697,
          126.23738109074444,
          127.05090120074473,
          128.29083292294303,
          128.2410595407553,
          128.09210750007688,
          127.81245751167532,
          129.1466925422367,
          128.9211489296729,
          129.83901361856195,
          130.08422850511005,
          131.94154182817158,
          131.6613936906356,
          132.75565412029985,
          128.92491013789083,
          131.31315785795417,
          130.77888304431633,
          130.50167829632161,
          130.19468511325312,
          130.79434721474007,
          133.62482306050788,
          132.59863441641764,
          132.47649503847967,
          131.39885275483937,
          131.4238370094642,
          130.88004257089904,
          131.24520543041126,
          130.1369752292408,
          130.1042713540126,
          129.59258571884322,
          126.52422877477922,
          128.19227756587713,
          128.92216252322615
         ],
         "yaxis": "y2"
        }
       ],
       "layout": {
        "annotations": [
         {
          "font": {
           "size": 16
          },
          "showarrow": false,
          "text": "Generation Reported (XM)",
          "x": 0.225,
          "xanchor": "center",
          "xref": "paper",
          "y": 1,
          "yanchor": "bottom",
          "yref": "paper"
         },
         {
          "font": {
           "size": 16
          },
          "showarrow": false,
          "text": "Generation Predicted (Switch)",
          "x": 0.775,
          "xanchor": "center",
          "xref": "paper",
          "y": 1,
          "yanchor": "bottom",
          "yref": "paper"
         }
        ],
        "plot_bgcolor": "white",
        "template": {
         "data": {
          "bar": [
           {
            "error_x": {
             "color": "#2a3f5f"
            },
            "error_y": {
             "color": "#2a3f5f"
            },
            "marker": {
             "line": {
              "color": "#E5ECF6",
              "width": 0.5
             },
             "pattern": {
              "fillmode": "overlay",
              "size": 10,
              "solidity": 0.2
             }
            },
            "type": "bar"
           }
          ],
          "barpolar": [
           {
            "marker": {
             "line": {
              "color": "#E5ECF6",
              "width": 0.5
             },
             "pattern": {
              "fillmode": "overlay",
              "size": 10,
              "solidity": 0.2
             }
            },
            "type": "barpolar"
           }
          ],
          "carpet": [
           {
            "aaxis": {
             "endlinecolor": "#2a3f5f",
             "gridcolor": "white",
             "linecolor": "white",
             "minorgridcolor": "white",
             "startlinecolor": "#2a3f5f"
            },
            "baxis": {
             "endlinecolor": "#2a3f5f",
             "gridcolor": "white",
             "linecolor": "white",
             "minorgridcolor": "white",
             "startlinecolor": "#2a3f5f"
            },
            "type": "carpet"
           }
          ],
          "choropleth": [
           {
            "colorbar": {
             "outlinewidth": 0,
             "ticks": ""
            },
            "type": "choropleth"
           }
          ],
          "contour": [
           {
            "colorbar": {
             "outlinewidth": 0,
             "ticks": ""
            },
            "colorscale": [
             [
              0,
              "#0d0887"
             ],
             [
              0.1111111111111111,
              "#46039f"
             ],
             [
              0.2222222222222222,
              "#7201a8"
             ],
             [
              0.3333333333333333,
              "#9c179e"
             ],
             [
              0.4444444444444444,
              "#bd3786"
             ],
             [
              0.5555555555555556,
              "#d8576b"
             ],
             [
              0.6666666666666666,
              "#ed7953"
             ],
             [
              0.7777777777777778,
              "#fb9f3a"
             ],
             [
              0.8888888888888888,
              "#fdca26"
             ],
             [
              1,
              "#f0f921"
             ]
            ],
            "type": "contour"
           }
          ],
          "contourcarpet": [
           {
            "colorbar": {
             "outlinewidth": 0,
             "ticks": ""
            },
            "type": "contourcarpet"
           }
          ],
          "heatmap": [
           {
            "colorbar": {
             "outlinewidth": 0,
             "ticks": ""
            },
            "colorscale": [
             [
              0,
              "#0d0887"
             ],
             [
              0.1111111111111111,
              "#46039f"
             ],
             [
              0.2222222222222222,
              "#7201a8"
             ],
             [
              0.3333333333333333,
              "#9c179e"
             ],
             [
              0.4444444444444444,
              "#bd3786"
             ],
             [
              0.5555555555555556,
              "#d8576b"
             ],
             [
              0.6666666666666666,
              "#ed7953"
             ],
             [
              0.7777777777777778,
              "#fb9f3a"
             ],
             [
              0.8888888888888888,
              "#fdca26"
             ],
             [
              1,
              "#f0f921"
             ]
            ],
            "type": "heatmap"
           }
          ],
          "heatmapgl": [
           {
            "colorbar": {
             "outlinewidth": 0,
             "ticks": ""
            },
            "colorscale": [
             [
              0,
              "#0d0887"
             ],
             [
              0.1111111111111111,
              "#46039f"
             ],
             [
              0.2222222222222222,
              "#7201a8"
             ],
             [
              0.3333333333333333,
              "#9c179e"
             ],
             [
              0.4444444444444444,
              "#bd3786"
             ],
             [
              0.5555555555555556,
              "#d8576b"
             ],
             [
              0.6666666666666666,
              "#ed7953"
             ],
             [
              0.7777777777777778,
              "#fb9f3a"
             ],
             [
              0.8888888888888888,
              "#fdca26"
             ],
             [
              1,
              "#f0f921"
             ]
            ],
            "type": "heatmapgl"
           }
          ],
          "histogram": [
           {
            "marker": {
             "pattern": {
              "fillmode": "overlay",
              "size": 10,
              "solidity": 0.2
             }
            },
            "type": "histogram"
           }
          ],
          "histogram2d": [
           {
            "colorbar": {
             "outlinewidth": 0,
             "ticks": ""
            },
            "colorscale": [
             [
              0,
              "#0d0887"
             ],
             [
              0.1111111111111111,
              "#46039f"
             ],
             [
              0.2222222222222222,
              "#7201a8"
             ],
             [
              0.3333333333333333,
              "#9c179e"
             ],
             [
              0.4444444444444444,
              "#bd3786"
             ],
             [
              0.5555555555555556,
              "#d8576b"
             ],
             [
              0.6666666666666666,
              "#ed7953"
             ],
             [
              0.7777777777777778,
              "#fb9f3a"
             ],
             [
              0.8888888888888888,
              "#fdca26"
             ],
             [
              1,
              "#f0f921"
             ]
            ],
            "type": "histogram2d"
           }
          ],
          "histogram2dcontour": [
           {
            "colorbar": {
             "outlinewidth": 0,
             "ticks": ""
            },
            "colorscale": [
             [
              0,
              "#0d0887"
             ],
             [
              0.1111111111111111,
              "#46039f"
             ],
             [
              0.2222222222222222,
              "#7201a8"
             ],
             [
              0.3333333333333333,
              "#9c179e"
             ],
             [
              0.4444444444444444,
              "#bd3786"
             ],
             [
              0.5555555555555556,
              "#d8576b"
             ],
             [
              0.6666666666666666,
              "#ed7953"
             ],
             [
              0.7777777777777778,
              "#fb9f3a"
             ],
             [
              0.8888888888888888,
              "#fdca26"
             ],
             [
              1,
              "#f0f921"
             ]
            ],
            "type": "histogram2dcontour"
           }
          ],
          "mesh3d": [
           {
            "colorbar": {
             "outlinewidth": 0,
             "ticks": ""
            },
            "type": "mesh3d"
           }
          ],
          "parcoords": [
           {
            "line": {
             "colorbar": {
              "outlinewidth": 0,
              "ticks": ""
             }
            },
            "type": "parcoords"
           }
          ],
          "pie": [
           {
            "automargin": true,
            "type": "pie"
           }
          ],
          "scatter": [
           {
            "fillpattern": {
             "fillmode": "overlay",
             "size": 10,
             "solidity": 0.2
            },
            "type": "scatter"
           }
          ],
          "scatter3d": [
           {
            "line": {
             "colorbar": {
              "outlinewidth": 0,
              "ticks": ""
             }
            },
            "marker": {
             "colorbar": {
              "outlinewidth": 0,
              "ticks": ""
             }
            },
            "type": "scatter3d"
           }
          ],
          "scattercarpet": [
           {
            "marker": {
             "colorbar": {
              "outlinewidth": 0,
              "ticks": ""
             }
            },
            "type": "scattercarpet"
           }
          ],
          "scattergeo": [
           {
            "marker": {
             "colorbar": {
              "outlinewidth": 0,
              "ticks": ""
             }
            },
            "type": "scattergeo"
           }
          ],
          "scattergl": [
           {
            "marker": {
             "colorbar": {
              "outlinewidth": 0,
              "ticks": ""
             }
            },
            "type": "scattergl"
           }
          ],
          "scattermapbox": [
           {
            "marker": {
             "colorbar": {
              "outlinewidth": 0,
              "ticks": ""
             }
            },
            "type": "scattermapbox"
           }
          ],
          "scatterpolar": [
           {
            "marker": {
             "colorbar": {
              "outlinewidth": 0,
              "ticks": ""
             }
            },
            "type": "scatterpolar"
           }
          ],
          "scatterpolargl": [
           {
            "marker": {
             "colorbar": {
              "outlinewidth": 0,
              "ticks": ""
             }
            },
            "type": "scatterpolargl"
           }
          ],
          "scatterternary": [
           {
            "marker": {
             "colorbar": {
              "outlinewidth": 0,
              "ticks": ""
             }
            },
            "type": "scatterternary"
           }
          ],
          "surface": [
           {
            "colorbar": {
             "outlinewidth": 0,
             "ticks": ""
            },
            "colorscale": [
             [
              0,
              "#0d0887"
             ],
             [
              0.1111111111111111,
              "#46039f"
             ],
             [
              0.2222222222222222,
              "#7201a8"
             ],
             [
              0.3333333333333333,
              "#9c179e"
             ],
             [
              0.4444444444444444,
              "#bd3786"
             ],
             [
              0.5555555555555556,
              "#d8576b"
             ],
             [
              0.6666666666666666,
              "#ed7953"
             ],
             [
              0.7777777777777778,
              "#fb9f3a"
             ],
             [
              0.8888888888888888,
              "#fdca26"
             ],
             [
              1,
              "#f0f921"
             ]
            ],
            "type": "surface"
           }
          ],
          "table": [
           {
            "cells": {
             "fill": {
              "color": "#EBF0F8"
             },
             "line": {
              "color": "white"
             }
            },
            "header": {
             "fill": {
              "color": "#C8D4E3"
             },
             "line": {
              "color": "white"
             }
            },
            "type": "table"
           }
          ]
         },
         "layout": {
          "annotationdefaults": {
           "arrowcolor": "#2a3f5f",
           "arrowhead": 0,
           "arrowwidth": 1
          },
          "autotypenumbers": "strict",
          "coloraxis": {
           "colorbar": {
            "outlinewidth": 0,
            "ticks": ""
           }
          },
          "colorscale": {
           "diverging": [
            [
             0,
             "#8e0152"
            ],
            [
             0.1,
             "#c51b7d"
            ],
            [
             0.2,
             "#de77ae"
            ],
            [
             0.3,
             "#f1b6da"
            ],
            [
             0.4,
             "#fde0ef"
            ],
            [
             0.5,
             "#f7f7f7"
            ],
            [
             0.6,
             "#e6f5d0"
            ],
            [
             0.7,
             "#b8e186"
            ],
            [
             0.8,
             "#7fbc41"
            ],
            [
             0.9,
             "#4d9221"
            ],
            [
             1,
             "#276419"
            ]
           ],
           "sequential": [
            [
             0,
             "#0d0887"
            ],
            [
             0.1111111111111111,
             "#46039f"
            ],
            [
             0.2222222222222222,
             "#7201a8"
            ],
            [
             0.3333333333333333,
             "#9c179e"
            ],
            [
             0.4444444444444444,
             "#bd3786"
            ],
            [
             0.5555555555555556,
             "#d8576b"
            ],
            [
             0.6666666666666666,
             "#ed7953"
            ],
            [
             0.7777777777777778,
             "#fb9f3a"
            ],
            [
             0.8888888888888888,
             "#fdca26"
            ],
            [
             1,
             "#f0f921"
            ]
           ],
           "sequentialminus": [
            [
             0,
             "#0d0887"
            ],
            [
             0.1111111111111111,
             "#46039f"
            ],
            [
             0.2222222222222222,
             "#7201a8"
            ],
            [
             0.3333333333333333,
             "#9c179e"
            ],
            [
             0.4444444444444444,
             "#bd3786"
            ],
            [
             0.5555555555555556,
             "#d8576b"
            ],
            [
             0.6666666666666666,
             "#ed7953"
            ],
            [
             0.7777777777777778,
             "#fb9f3a"
            ],
            [
             0.8888888888888888,
             "#fdca26"
            ],
            [
             1,
             "#f0f921"
            ]
           ]
          },
          "colorway": [
           "#636efa",
           "#EF553B",
           "#00cc96",
           "#ab63fa",
           "#FFA15A",
           "#19d3f3",
           "#FF6692",
           "#B6E880",
           "#FF97FF",
           "#FECB52"
          ],
          "font": {
           "color": "#2a3f5f"
          },
          "geo": {
           "bgcolor": "white",
           "lakecolor": "white",
           "landcolor": "#E5ECF6",
           "showlakes": true,
           "showland": true,
           "subunitcolor": "white"
          },
          "hoverlabel": {
           "align": "left"
          },
          "hovermode": "closest",
          "mapbox": {
           "style": "light"
          },
          "paper_bgcolor": "white",
          "plot_bgcolor": "#E5ECF6",
          "polar": {
           "angularaxis": {
            "gridcolor": "white",
            "linecolor": "white",
            "ticks": ""
           },
           "bgcolor": "#E5ECF6",
           "radialaxis": {
            "gridcolor": "white",
            "linecolor": "white",
            "ticks": ""
           }
          },
          "scene": {
           "xaxis": {
            "backgroundcolor": "#E5ECF6",
            "gridcolor": "white",
            "gridwidth": 2,
            "linecolor": "white",
            "showbackground": true,
            "ticks": "",
            "zerolinecolor": "white"
           },
           "yaxis": {
            "backgroundcolor": "#E5ECF6",
            "gridcolor": "white",
            "gridwidth": 2,
            "linecolor": "white",
            "showbackground": true,
            "ticks": "",
            "zerolinecolor": "white"
           },
           "zaxis": {
            "backgroundcolor": "#E5ECF6",
            "gridcolor": "white",
            "gridwidth": 2,
            "linecolor": "white",
            "showbackground": true,
            "ticks": "",
            "zerolinecolor": "white"
           }
          },
          "shapedefaults": {
           "line": {
            "color": "#2a3f5f"
           }
          },
          "ternary": {
           "aaxis": {
            "gridcolor": "white",
            "linecolor": "white",
            "ticks": ""
           },
           "baxis": {
            "gridcolor": "white",
            "linecolor": "white",
            "ticks": ""
           },
           "bgcolor": "#E5ECF6",
           "caxis": {
            "gridcolor": "white",
            "linecolor": "white",
            "ticks": ""
           }
          },
          "title": {
           "x": 0.05
          },
          "xaxis": {
           "automargin": true,
           "gridcolor": "white",
           "linecolor": "white",
           "ticks": "",
           "title": {
            "standoff": 15
           },
           "zerolinecolor": "white",
           "zerolinewidth": 2
          },
          "yaxis": {
           "automargin": true,
           "gridcolor": "white",
           "linecolor": "white",
           "ticks": "",
           "title": {
            "standoff": 15
           },
           "zerolinecolor": "white",
           "zerolinewidth": 2
          }
         }
        },
        "title": {
         "text": "Base Year (2023)"
        },
        "updatemenus": [
         {
          "buttons": [
           {
            "args": [
             {
              "yaxis.autorange": true,
              "yaxis2.autorange": true
             }
            ],
            "label": "Auto",
            "method": "relayout"
           },
           {
            "args": [
             {
              "yaxis.range": [
               0,
               700
              ],
              "yaxis2.range": [
               0,
               7000
              ]
             }
            ],
            "label": "700k Fixed",
            "method": "relayout"
           }
          ],
          "direction": "down",
          "x": 1.2,
          "xanchor": "right",
          "y": 1.2
         }
        ],
        "xaxis": {
         "anchor": "y",
         "domain": [
          0,
          0.45
         ],
         "gridcolor": "lightgray",
         "showgrid": true
        },
        "xaxis2": {
         "anchor": "y2",
         "domain": [
          0.55,
          1
         ],
         "gridcolor": "lightgray",
         "showgrid": true
        },
        "yaxis": {
         "anchor": "x",
         "domain": [
          0,
          1
         ],
         "gridcolor": "lightgray",
         "showgrid": true
        },
        "yaxis2": {
         "anchor": "x2",
         "domain": [
          0,
          1
         ],
         "gridcolor": "lightgray",
         "showgrid": true
        }
       }
      }
     },
     "metadata": {},
     "output_type": "display_data"
    }
   ],
   "source": [
    "# Take both Sets\n",
    "gen_res = gen_res[['timestamp', 'Tech', 'DispatchGen_MW', ]]\n",
    "gen_disp = gen_disp[['timestamp', 'Tech', 'DispatchGen_MW']].iloc[0:960]\n",
    "\n",
    "# Define colors by Technology\n",
    "tech_colors = {'Eolica': '#45CFFF',\n",
    "               'Thermal': '#E84A59',\n",
    "               'Solar': '#EFB52D',\n",
    "               'Hidro': '#744FD0',\n",
    "               'Menores': '#AEE83C'}\n",
    "\n",
    "# Crete individual plots\n",
    "fig1 = px.line(\n",
    "    gen_res, x='timestamp', y='DispatchGen_MW', \n",
    "    color='Tech', title='Generation Reported (XM)',\n",
    "    color_discrete_map=tech_colors)\n",
    "fig2 = px.line(\n",
    "    gen_disp, x='timestamp', y='DispatchGen_MW', \n",
    "    color='Tech', title='Generation Predicted (Switch)',\n",
    "    color_discrete_map=tech_colors)\n",
    "\n",
    "# Create subplots\n",
    "fig = make_subplots(rows=1, cols=2, subplot_titles=(\"Generation Reported (XM)\", \"Generation Predicted (Switch)\"))\n",
    "# Add figures to subplots\n",
    "for trace in fig1['data']:\n",
    "    fig.add_trace(trace, row=1, col=1)\n",
    "for trace in fig2['data']:\n",
    "    fig.add_trace(trace, row=1, col=2)\n",
    "\n",
    "# Only show one legend\n",
    "names = set()\n",
    "for trace in fig['data']:\n",
    "    if (trace.name in names): trace.showlegend = False\n",
    "    else: names.add(trace.name)\n",
    "\n",
    "# Add buttons to change y-range\n",
    "fig.update_layout(\n",
    "    title='Base Year (2023)',\n",
    "    updatemenus=[\n",
    "        go.layout.Updatemenu(\n",
    "            buttons=list([\n",
    "                dict(\n",
    "                    args=[{\"yaxis.autorange\": True, \"yaxis2.autorange\": True}],\n",
    "                    label=\"Auto\",\n",
    "                    method=\"relayout\"\n",
    "                ),\n",
    "                dict(\n",
    "                    args=[{\"yaxis.range\": [0, 700], \"yaxis2.range\": [0, 7000]}],\n",
    "                    label=\"700k Fixed\",\n",
    "                    method=\"relayout\"\n",
    "                )]),\n",
    "            direction=\"down\",\n",
    "            x=1.2, # Adjust horizontal position\n",
    "            xanchor=\"right\",\n",
    "            y=1.2  # Adjust vertical position\n",
    "        )],\n",
    "    plot_bgcolor='white',\n",
    "    xaxis=dict(showgrid=True, gridcolor='lightgray'),\n",
    "    yaxis=dict(showgrid=True, gridcolor='lightgray'),\n",
    "    xaxis2=dict(showgrid=True, gridcolor='lightgray'),\n",
    "    yaxis2=dict(showgrid=True, gridcolor='lightgray'))\n",
    "fig.show()"
   ]
  },
  {
   "cell_type": "markdown",
   "metadata": {},
   "source": [
    "## 4. Calibration\n",
    "### 4.1 Error by timestamp"
   ]
  },
  {
   "cell_type": "code",
   "execution_count": 77,
   "metadata": {},
   "outputs": [
    {
     "data": {
      "application/vnd.plotly.v1+json": {
       "config": {
        "plotlyServerURL": "https://plot.ly"
       },
       "data": [
        {
         "hovertemplate": "Tech=Menores<br>timestamp=%{x}<br>percentage_error (%)=%{y}<extra></extra>",
         "legendgroup": "Menores",
         "line": {
          "color": "#636efa",
          "dash": "solid"
         },
         "marker": {
          "symbol": "circle"
         },
         "mode": "lines",
         "name": "Menores",
         "orientation": "v",
         "showlegend": true,
         "type": "scatter",
         "x": [
          "2023_Q1_L_0h",
          "2023_Q1_L_1h",
          "2023_Q1_L_2h",
          "2023_Q1_L_3h",
          "2023_Q1_L_4h",
          "2023_Q1_L_5h",
          "2023_Q1_L_6h",
          "2023_Q1_L_7h",
          "2023_Q1_L_8h",
          "2023_Q1_L_9h",
          "2023_Q1_L_10h",
          "2023_Q1_L_11h",
          "2023_Q1_L_12h",
          "2023_Q1_L_13h",
          "2023_Q1_L_14h",
          "2023_Q1_L_15h",
          "2023_Q1_L_16h",
          "2023_Q1_L_17h",
          "2023_Q1_L_18h",
          "2023_Q1_L_19h",
          "2023_Q1_L_20h",
          "2023_Q1_L_21h",
          "2023_Q1_L_22h",
          "2023_Q1_L_23h",
          "2023_Q1_H_0h",
          "2023_Q1_H_1h",
          "2023_Q1_H_2h",
          "2023_Q1_H_3h",
          "2023_Q1_H_4h",
          "2023_Q1_H_5h",
          "2023_Q1_H_6h",
          "2023_Q1_H_7h",
          "2023_Q1_H_8h",
          "2023_Q1_H_9h",
          "2023_Q1_H_10h",
          "2023_Q1_H_11h",
          "2023_Q1_H_12h",
          "2023_Q1_H_13h",
          "2023_Q1_H_14h",
          "2023_Q1_H_15h",
          "2023_Q1_H_16h",
          "2023_Q1_H_17h",
          "2023_Q1_H_18h",
          "2023_Q1_H_19h",
          "2023_Q1_H_20h",
          "2023_Q1_H_21h",
          "2023_Q1_H_22h",
          "2023_Q1_H_23h",
          "2023_Q2_L_0h",
          "2023_Q2_L_1h",
          "2023_Q2_L_2h",
          "2023_Q2_L_3h",
          "2023_Q2_L_4h",
          "2023_Q2_L_5h",
          "2023_Q2_L_6h",
          "2023_Q2_L_7h",
          "2023_Q2_L_8h",
          "2023_Q2_L_9h",
          "2023_Q2_L_10h",
          "2023_Q2_L_11h",
          "2023_Q2_L_12h",
          "2023_Q2_L_13h",
          "2023_Q2_L_14h",
          "2023_Q2_L_15h",
          "2023_Q2_L_16h",
          "2023_Q2_L_17h",
          "2023_Q2_L_18h",
          "2023_Q2_L_19h",
          "2023_Q2_L_20h",
          "2023_Q2_L_21h",
          "2023_Q2_L_22h",
          "2023_Q2_L_23h",
          "2023_Q2_H_0h",
          "2023_Q2_H_1h",
          "2023_Q2_H_2h",
          "2023_Q2_H_3h",
          "2023_Q2_H_4h",
          "2023_Q2_H_5h",
          "2023_Q2_H_6h",
          "2023_Q2_H_7h",
          "2023_Q2_H_8h",
          "2023_Q2_H_9h",
          "2023_Q2_H_10h",
          "2023_Q2_H_11h",
          "2023_Q2_H_12h",
          "2023_Q2_H_13h",
          "2023_Q2_H_14h",
          "2023_Q2_H_15h",
          "2023_Q2_H_16h",
          "2023_Q2_H_17h",
          "2023_Q2_H_18h",
          "2023_Q2_H_19h",
          "2023_Q2_H_20h",
          "2023_Q2_H_21h",
          "2023_Q2_H_22h",
          "2023_Q2_H_23h",
          "2023_Q3_L_0h",
          "2023_Q3_L_1h",
          "2023_Q3_L_2h",
          "2023_Q3_L_3h",
          "2023_Q3_L_4h",
          "2023_Q3_L_5h",
          "2023_Q3_L_6h",
          "2023_Q3_L_7h",
          "2023_Q3_L_8h",
          "2023_Q3_L_9h",
          "2023_Q3_L_10h",
          "2023_Q3_L_11h",
          "2023_Q3_L_12h",
          "2023_Q3_L_13h",
          "2023_Q3_L_14h",
          "2023_Q3_L_15h",
          "2023_Q3_L_16h",
          "2023_Q3_L_17h",
          "2023_Q3_L_18h",
          "2023_Q3_L_19h",
          "2023_Q3_L_20h",
          "2023_Q3_L_21h",
          "2023_Q3_L_22h",
          "2023_Q3_L_23h",
          "2023_Q3_H_0h",
          "2023_Q3_H_1h",
          "2023_Q3_H_2h",
          "2023_Q3_H_3h",
          "2023_Q3_H_4h",
          "2023_Q3_H_5h",
          "2023_Q3_H_6h",
          "2023_Q3_H_7h",
          "2023_Q3_H_8h",
          "2023_Q3_H_9h",
          "2023_Q3_H_10h",
          "2023_Q3_H_11h",
          "2023_Q3_H_12h",
          "2023_Q3_H_13h",
          "2023_Q3_H_14h",
          "2023_Q3_H_15h",
          "2023_Q3_H_16h",
          "2023_Q3_H_17h",
          "2023_Q3_H_18h",
          "2023_Q3_H_19h",
          "2023_Q3_H_20h",
          "2023_Q3_H_21h",
          "2023_Q3_H_22h",
          "2023_Q3_H_23h",
          "2023_Q4_L_0h",
          "2023_Q4_L_1h",
          "2023_Q4_L_2h",
          "2023_Q4_L_3h",
          "2023_Q4_L_4h",
          "2023_Q4_L_5h",
          "2023_Q4_L_6h",
          "2023_Q4_L_7h",
          "2023_Q4_L_8h",
          "2023_Q4_L_9h",
          "2023_Q4_L_10h",
          "2023_Q4_L_11h",
          "2023_Q4_L_12h",
          "2023_Q4_L_13h",
          "2023_Q4_L_14h",
          "2023_Q4_L_15h",
          "2023_Q4_L_16h",
          "2023_Q4_L_17h",
          "2023_Q4_L_18h",
          "2023_Q4_L_19h",
          "2023_Q4_L_20h",
          "2023_Q4_L_21h",
          "2023_Q4_L_22h",
          "2023_Q4_L_23h",
          "2023_Q4_H_0h",
          "2023_Q4_H_1h",
          "2023_Q4_H_2h",
          "2023_Q4_H_3h",
          "2023_Q4_H_4h",
          "2023_Q4_H_5h",
          "2023_Q4_H_6h",
          "2023_Q4_H_7h",
          "2023_Q4_H_8h",
          "2023_Q4_H_9h",
          "2023_Q4_H_10h",
          "2023_Q4_H_11h",
          "2023_Q4_H_12h",
          "2023_Q4_H_13h",
          "2023_Q4_H_14h",
          "2023_Q4_H_15h",
          "2023_Q4_H_16h",
          "2023_Q4_H_17h",
          "2023_Q4_H_18h",
          "2023_Q4_H_19h",
          "2023_Q4_H_20h",
          "2023_Q4_H_21h",
          "2023_Q4_H_22h",
          "2023_Q4_H_23h"
         ],
         "xaxis": "x",
         "y": [
          16.39018594563677,
          17.639309427321326,
          16.78449991643538,
          16.947574433634728,
          16.069370727767442,
          15.8830995921323,
          16.582075163612476,
          17.41375343678655,
          16.87503655417464,
          19.21490733591209,
          23.527376385076316,
          25.41996581394197,
          24.923312059961255,
          23.30626258714201,
          21.843505324671696,
          21.448833147970436,
          20.19356422383116,
          18.541808760327385,
          16.574275255358817,
          16.692041675663095,
          17.409030499286615,
          15.657295870731902,
          16.618556514476566,
          16.278411152516668,
          24.49210925024632,
          16.28362564517061,
          17.109616357218194,
          16.56710779576138,
          16.046415323695797,
          20.11487664190925,
          22.86404748844857,
          25.00792833303951,
          22.408907261391064,
          22.7377541573226,
          23.517426465801925,
          23.35666720020577,
          28.356834153673184,
          27.83633368718803,
          26.879353330520562,
          25.20991255673113,
          22.55793834353359,
          22.501166668030503,
          17.69415322667729,
          19.267210347854636,
          23.3213750932727,
          24.338704417384193,
          23.435793053588206,
          28.46115628240895,
          95.76968826657257,
          93.1839841364829,
          94.64619491102762,
          95.69896092695447,
          95.54487094695949,
          90.95945767160951,
          91.92455497020606,
          94.45519903811292,
          97.63457228804997,
          101.45620266229076,
          107.5587295707622,
          114.1824034757485,
          117.92723086316118,
          117.24004469202623,
          115.12797841996596,
          115.37619648324467,
          111.20455169135806,
          109.35048935178501,
          107.67269916840422,
          106.05102453856561,
          104.11030721979739,
          99.23951171023305,
          97.78476710479136,
          98.50928437211277,
          104.5049044066508,
          101.82277158001271,
          104.57415050642771,
          102.47644768261299,
          105.46974156094721,
          101.65404130135256,
          107.860654412741,
          111.90534492376764,
          112.4863883132062,
          114.36508397289997,
          115.39127479610029,
          117.64545217800998,
          121.7317615651166,
          125.12611985804445,
          122.34059478846642,
          117.17547159576172,
          119.19011013713501,
          116.36057953863208,
          110.44819031757255,
          112.67867340947299,
          116.57369890464744,
          115.12991468869838,
          108.89105348945631,
          110.11996817648826,
          37.27832368401576,
          39.156433872351705,
          38.08598556993439,
          39.011536257483634,
          39.893359439996814,
          38.35106333492089,
          36.98804572870831,
          37.240036469354855,
          39.148758999454515,
          41.349784969468416,
          45.48072036735511,
          48.000383087299504,
          48.23316167168117,
          45.918079882113496,
          44.84578082854289,
          44.791598546000856,
          43.117414099412144,
          42.057303587552774,
          41.79728593029035,
          40.65656772099335,
          37.482364391985556,
          36.39284337263635,
          35.22494945034378,
          35.27496922349851,
          33.38481737837182,
          29.700285280778548,
          28.992631593418274,
          32.36587792485961,
          31.699625659815943,
          31.529914409196792,
          30.479593712510034,
          30.036724513517974,
          34.754607747510114,
          37.319017670234224,
          39.847804545283275,
          40.85774474113786,
          42.836352193204654,
          44.1799882723319,
          44.91133120932709,
          42.22197283134301,
          43.6027872273165,
          41.16199080008798,
          38.88367227908398,
          39.60053722166648,
          38.66900607574597,
          35.105597698522814,
          33.74412660458572,
          34.950752362694004,
          43.95840244090559,
          40.76819068386628,
          39.84269825636386,
          40.50755635742915,
          41.97417222701265,
          40.672130557988126,
          39.74662529236517,
          38.9371125942797,
          42.64265058878447,
          44.46260408641034,
          48.405764037183665,
          51.13915669846338,
          50.38064773677111,
          49.73540997789894,
          50.09174795624824,
          49.1247743042708,
          47.8321979823356,
          47.71418982307936,
          46.08717373884828,
          46.034881931890716,
          43.94642320804698,
          42.41129171403448,
          42.82003090080484,
          43.7208264621429,
          36.082031167071115,
          45.37475783515244,
          46.54624601456234,
          43.73883598760704,
          45.366382357089094,
          40.34399379519063,
          41.44109067615589,
          43.976568270640804,
          42.351521561470726,
          40.70264900485849,
          42.96799981525534,
          48.217374238877376,
          50.813084723953075,
          45.10521632443807,
          43.59347686285238,
          44.414130191584775,
          40.15671241127692,
          42.460223222250136,
          38.99711882746435,
          44.81309566073144,
          42.983366220197624,
          35.69745726021771,
          37.68579010981568,
          34.30142101943372
         ],
         "yaxis": "y"
        },
        {
         "hovertemplate": "Tech=Solar<br>timestamp=%{x}<br>percentage_error (%)=%{y}<extra></extra>",
         "legendgroup": "Solar",
         "line": {
          "color": "#EF553B",
          "dash": "solid"
         },
         "marker": {
          "symbol": "circle"
         },
         "mode": "lines",
         "name": "Solar",
         "orientation": "v",
         "showlegend": true,
         "type": "scatter",
         "x": [
          "2023_Q1_L_0h",
          "2023_Q1_L_1h",
          "2023_Q1_L_2h",
          "2023_Q1_L_3h",
          "2023_Q1_L_4h",
          "2023_Q1_L_5h",
          "2023_Q1_L_6h",
          "2023_Q1_L_7h",
          "2023_Q1_L_8h",
          "2023_Q1_L_9h",
          "2023_Q1_L_10h",
          "2023_Q1_L_11h",
          "2023_Q1_L_12h",
          "2023_Q1_L_13h",
          "2023_Q1_L_14h",
          "2023_Q1_L_15h",
          "2023_Q1_L_16h",
          "2023_Q1_L_17h",
          "2023_Q1_L_18h",
          "2023_Q1_L_19h",
          "2023_Q1_L_20h",
          "2023_Q1_L_21h",
          "2023_Q1_L_22h",
          "2023_Q1_L_23h",
          "2023_Q1_H_0h",
          "2023_Q1_H_1h",
          "2023_Q1_H_2h",
          "2023_Q1_H_3h",
          "2023_Q1_H_4h",
          "2023_Q1_H_5h",
          "2023_Q1_H_6h",
          "2023_Q1_H_7h",
          "2023_Q1_H_8h",
          "2023_Q1_H_9h",
          "2023_Q1_H_10h",
          "2023_Q1_H_11h",
          "2023_Q1_H_12h",
          "2023_Q1_H_13h",
          "2023_Q1_H_14h",
          "2023_Q1_H_15h",
          "2023_Q1_H_16h",
          "2023_Q1_H_17h",
          "2023_Q1_H_18h",
          "2023_Q1_H_19h",
          "2023_Q1_H_20h",
          "2023_Q1_H_21h",
          "2023_Q1_H_22h",
          "2023_Q1_H_23h",
          "2023_Q2_L_0h",
          "2023_Q2_L_1h",
          "2023_Q2_L_2h",
          "2023_Q2_L_3h",
          "2023_Q2_L_4h",
          "2023_Q2_L_5h",
          "2023_Q2_L_6h",
          "2023_Q2_L_7h",
          "2023_Q2_L_8h",
          "2023_Q2_L_9h",
          "2023_Q2_L_10h",
          "2023_Q2_L_11h",
          "2023_Q2_L_12h",
          "2023_Q2_L_13h",
          "2023_Q2_L_14h",
          "2023_Q2_L_15h",
          "2023_Q2_L_16h",
          "2023_Q2_L_17h",
          "2023_Q2_L_18h",
          "2023_Q2_L_19h",
          "2023_Q2_L_20h",
          "2023_Q2_L_21h",
          "2023_Q2_L_22h",
          "2023_Q2_L_23h",
          "2023_Q2_H_0h",
          "2023_Q2_H_1h",
          "2023_Q2_H_2h",
          "2023_Q2_H_3h",
          "2023_Q2_H_4h",
          "2023_Q2_H_5h",
          "2023_Q2_H_6h",
          "2023_Q2_H_7h",
          "2023_Q2_H_8h",
          "2023_Q2_H_9h",
          "2023_Q2_H_10h",
          "2023_Q2_H_11h",
          "2023_Q2_H_12h",
          "2023_Q2_H_13h",
          "2023_Q2_H_14h",
          "2023_Q2_H_15h",
          "2023_Q2_H_16h",
          "2023_Q2_H_17h",
          "2023_Q2_H_18h",
          "2023_Q2_H_19h",
          "2023_Q2_H_20h",
          "2023_Q2_H_21h",
          "2023_Q2_H_22h",
          "2023_Q2_H_23h",
          "2023_Q3_L_0h",
          "2023_Q3_L_1h",
          "2023_Q3_L_2h",
          "2023_Q3_L_3h",
          "2023_Q3_L_4h",
          "2023_Q3_L_5h",
          "2023_Q3_L_6h",
          "2023_Q3_L_7h",
          "2023_Q3_L_8h",
          "2023_Q3_L_9h",
          "2023_Q3_L_10h",
          "2023_Q3_L_11h",
          "2023_Q3_L_12h",
          "2023_Q3_L_13h",
          "2023_Q3_L_14h",
          "2023_Q3_L_15h",
          "2023_Q3_L_16h",
          "2023_Q3_L_17h",
          "2023_Q3_L_18h",
          "2023_Q3_L_19h",
          "2023_Q3_L_20h",
          "2023_Q3_L_21h",
          "2023_Q3_L_22h",
          "2023_Q3_L_23h",
          "2023_Q3_H_0h",
          "2023_Q3_H_1h",
          "2023_Q3_H_2h",
          "2023_Q3_H_3h",
          "2023_Q3_H_4h",
          "2023_Q3_H_5h",
          "2023_Q3_H_6h",
          "2023_Q3_H_7h",
          "2023_Q3_H_8h",
          "2023_Q3_H_9h",
          "2023_Q3_H_10h",
          "2023_Q3_H_11h",
          "2023_Q3_H_12h",
          "2023_Q3_H_13h",
          "2023_Q3_H_14h",
          "2023_Q3_H_15h",
          "2023_Q3_H_16h",
          "2023_Q3_H_17h",
          "2023_Q3_H_18h",
          "2023_Q3_H_19h",
          "2023_Q3_H_20h",
          "2023_Q3_H_21h",
          "2023_Q3_H_22h",
          "2023_Q3_H_23h",
          "2023_Q4_L_0h",
          "2023_Q4_L_1h",
          "2023_Q4_L_2h",
          "2023_Q4_L_3h",
          "2023_Q4_L_4h",
          "2023_Q4_L_5h",
          "2023_Q4_L_6h",
          "2023_Q4_L_7h",
          "2023_Q4_L_8h",
          "2023_Q4_L_9h",
          "2023_Q4_L_10h",
          "2023_Q4_L_11h",
          "2023_Q4_L_12h",
          "2023_Q4_L_13h",
          "2023_Q4_L_14h",
          "2023_Q4_L_15h",
          "2023_Q4_L_16h",
          "2023_Q4_L_17h",
          "2023_Q4_L_18h",
          "2023_Q4_L_19h",
          "2023_Q4_L_20h",
          "2023_Q4_L_21h",
          "2023_Q4_L_22h",
          "2023_Q4_L_23h",
          "2023_Q4_H_0h",
          "2023_Q4_H_1h",
          "2023_Q4_H_2h",
          "2023_Q4_H_3h",
          "2023_Q4_H_4h",
          "2023_Q4_H_5h",
          "2023_Q4_H_6h",
          "2023_Q4_H_7h",
          "2023_Q4_H_8h",
          "2023_Q4_H_9h",
          "2023_Q4_H_10h",
          "2023_Q4_H_11h",
          "2023_Q4_H_12h",
          "2023_Q4_H_13h",
          "2023_Q4_H_14h",
          "2023_Q4_H_15h",
          "2023_Q4_H_16h",
          "2023_Q4_H_17h",
          "2023_Q4_H_18h",
          "2023_Q4_H_19h",
          "2023_Q4_H_20h",
          "2023_Q4_H_21h",
          "2023_Q4_H_22h",
          "2023_Q4_H_23h"
         ],
         "xaxis": "x",
         "y": [
          null,
          null,
          null,
          null,
          null,
          null,
          null,
          null,
          176.31480974887754,
          133.49908031996324,
          131.11870450273534,
          133.21313737963806,
          125.49889444343299,
          105.0665003207861,
          71.57135257586287,
          27.13155874400883,
          -22.403090618779153,
          -73.49900890841012,
          -99.84587034120095,
          null,
          null,
          null,
          null,
          null,
          null,
          null,
          null,
          null,
          null,
          null,
          null,
          null,
          195.8749379633269,
          141.67680318071564,
          140.06175145364654,
          130.12634569506122,
          126.27276882886869,
          104.12867098130944,
          74.33517607868406,
          26.804094496941964,
          -23.939946752868067,
          -72.00181047156484,
          -99.84193965553328,
          null,
          null,
          null,
          null,
          null,
          null,
          null,
          null,
          null,
          null,
          null,
          null,
          null,
          168.15576937861252,
          124.7051936083658,
          110.82307075883774,
          103.52024483623512,
          89.61040436969682,
          69.10207365722947,
          39.75046531139284,
          5.769001742491486,
          -27.27673181340814,
          -68.43825502353901,
          -99.09511781510751,
          null,
          null,
          null,
          null,
          null,
          null,
          null,
          null,
          null,
          null,
          null,
          null,
          null,
          194.1603063923549,
          153.0555319778701,
          123.69967475992034,
          108.53146167735459,
          98.27415905299594,
          74.7205121401939,
          41.02593782203798,
          6.437290735358014,
          -25.795866032991988,
          -67.35634136174441,
          -99.04739867993767,
          null,
          null,
          null,
          null,
          null,
          null,
          null,
          null,
          null,
          null,
          null,
          null,
          null,
          75.26727451375588,
          46.49624631696441,
          41.08106767123847,
          37.11914624686936,
          32.442779946186164,
          19.974184884528047,
          2.6344067736730814,
          -20.089204184350095,
          -45.29767114372718,
          -75.0875424126675,
          -98.85774750212099,
          null,
          null,
          null,
          null,
          null,
          null,
          null,
          null,
          null,
          null,
          null,
          null,
          null,
          60.814219375778535,
          43.06041801766709,
          45.6082533522421,
          35.31249851522702,
          29.6723268813857,
          20.282425903684633,
          5.109091727787374,
          -17.513664245451643,
          -39.48337604501517,
          -70.51366423597099,
          -98.6899331178015,
          null,
          null,
          null,
          null,
          null,
          null,
          null,
          null,
          null,
          null,
          null,
          null,
          null,
          6.9433370688557705,
          -5.2340151399032475,
          -6.322971928409704,
          -5.050070822203523,
          -8.497358460054528,
          -17.383794776103876,
          -29.703213938723604,
          -44.382167776757775,
          -62.10016473270941,
          -81.15001319502863,
          -99.69787219604355,
          null,
          null,
          null,
          null,
          null,
          null,
          null,
          null,
          null,
          null,
          null,
          null,
          null,
          27.865982583812986,
          5.857783505365255,
          3.315886182374772,
          4.037352526036142,
          -0.21826494838090849,
          -9.713703736883893,
          -25.12501176443498,
          -39.45170490092046,
          -59.545960050953084,
          -78.43432829825552,
          -99.63557895721407,
          null,
          null,
          null,
          null,
          null
         ],
         "yaxis": "y"
        },
        {
         "hovertemplate": "Tech=Thermal<br>timestamp=%{x}<br>percentage_error (%)=%{y}<extra></extra>",
         "legendgroup": "Thermal",
         "line": {
          "color": "#00cc96",
          "dash": "solid"
         },
         "marker": {
          "symbol": "circle"
         },
         "mode": "lines",
         "name": "Thermal",
         "orientation": "v",
         "showlegend": true,
         "type": "scatter",
         "x": [
          "2023_Q1_L_0h",
          "2023_Q1_L_1h",
          "2023_Q1_L_2h",
          "2023_Q1_L_3h",
          "2023_Q1_L_4h",
          "2023_Q1_L_5h",
          "2023_Q1_L_6h",
          "2023_Q1_L_7h",
          "2023_Q1_L_8h",
          "2023_Q1_L_9h",
          "2023_Q1_L_10h",
          "2023_Q1_L_11h",
          "2023_Q1_L_12h",
          "2023_Q1_L_13h",
          "2023_Q1_L_14h",
          "2023_Q1_L_15h",
          "2023_Q1_L_16h",
          "2023_Q1_L_17h",
          "2023_Q1_L_18h",
          "2023_Q1_L_19h",
          "2023_Q1_L_20h",
          "2023_Q1_L_21h",
          "2023_Q1_L_22h",
          "2023_Q1_L_23h",
          "2023_Q1_H_0h",
          "2023_Q1_H_1h",
          "2023_Q1_H_2h",
          "2023_Q1_H_3h",
          "2023_Q1_H_4h",
          "2023_Q1_H_5h",
          "2023_Q1_H_6h",
          "2023_Q1_H_7h",
          "2023_Q1_H_8h",
          "2023_Q1_H_9h",
          "2023_Q1_H_10h",
          "2023_Q1_H_11h",
          "2023_Q1_H_12h",
          "2023_Q1_H_13h",
          "2023_Q1_H_14h",
          "2023_Q1_H_15h",
          "2023_Q1_H_16h",
          "2023_Q1_H_17h",
          "2023_Q1_H_18h",
          "2023_Q1_H_19h",
          "2023_Q1_H_20h",
          "2023_Q1_H_21h",
          "2023_Q1_H_22h",
          "2023_Q1_H_23h",
          "2023_Q2_L_0h",
          "2023_Q2_L_1h",
          "2023_Q2_L_2h",
          "2023_Q2_L_3h",
          "2023_Q2_L_4h",
          "2023_Q2_L_5h",
          "2023_Q2_L_6h",
          "2023_Q2_L_7h",
          "2023_Q2_L_8h",
          "2023_Q2_L_9h",
          "2023_Q2_L_10h",
          "2023_Q2_L_11h",
          "2023_Q2_L_12h",
          "2023_Q2_L_13h",
          "2023_Q2_L_14h",
          "2023_Q2_L_15h",
          "2023_Q2_L_16h",
          "2023_Q2_L_17h",
          "2023_Q2_L_18h",
          "2023_Q2_L_19h",
          "2023_Q2_L_20h",
          "2023_Q2_L_21h",
          "2023_Q2_L_22h",
          "2023_Q2_L_23h",
          "2023_Q2_H_0h",
          "2023_Q2_H_1h",
          "2023_Q2_H_2h",
          "2023_Q2_H_3h",
          "2023_Q2_H_4h",
          "2023_Q2_H_5h",
          "2023_Q2_H_6h",
          "2023_Q2_H_7h",
          "2023_Q2_H_8h",
          "2023_Q2_H_9h",
          "2023_Q2_H_10h",
          "2023_Q2_H_11h",
          "2023_Q2_H_12h",
          "2023_Q2_H_13h",
          "2023_Q2_H_14h",
          "2023_Q2_H_15h",
          "2023_Q2_H_16h",
          "2023_Q2_H_17h",
          "2023_Q2_H_18h",
          "2023_Q2_H_19h",
          "2023_Q2_H_20h",
          "2023_Q2_H_21h",
          "2023_Q2_H_22h",
          "2023_Q2_H_23h",
          "2023_Q3_L_0h",
          "2023_Q3_L_1h",
          "2023_Q3_L_2h",
          "2023_Q3_L_3h",
          "2023_Q3_L_4h",
          "2023_Q3_L_5h",
          "2023_Q3_L_6h",
          "2023_Q3_L_7h",
          "2023_Q3_L_8h",
          "2023_Q3_L_9h",
          "2023_Q3_L_10h",
          "2023_Q3_L_11h",
          "2023_Q3_L_12h",
          "2023_Q3_L_13h",
          "2023_Q3_L_14h",
          "2023_Q3_L_15h",
          "2023_Q3_L_16h",
          "2023_Q3_L_17h",
          "2023_Q3_L_18h",
          "2023_Q3_L_19h",
          "2023_Q3_L_20h",
          "2023_Q3_L_21h",
          "2023_Q3_L_22h",
          "2023_Q3_L_23h",
          "2023_Q3_H_0h",
          "2023_Q3_H_1h",
          "2023_Q3_H_2h",
          "2023_Q3_H_3h",
          "2023_Q3_H_4h",
          "2023_Q3_H_5h",
          "2023_Q3_H_6h",
          "2023_Q3_H_7h",
          "2023_Q3_H_8h",
          "2023_Q3_H_9h",
          "2023_Q3_H_10h",
          "2023_Q3_H_11h",
          "2023_Q3_H_12h",
          "2023_Q3_H_13h",
          "2023_Q3_H_14h",
          "2023_Q3_H_15h",
          "2023_Q3_H_16h",
          "2023_Q3_H_17h",
          "2023_Q3_H_18h",
          "2023_Q3_H_19h",
          "2023_Q3_H_20h",
          "2023_Q3_H_21h",
          "2023_Q3_H_22h",
          "2023_Q3_H_23h",
          "2023_Q4_L_0h",
          "2023_Q4_L_1h",
          "2023_Q4_L_2h",
          "2023_Q4_L_3h",
          "2023_Q4_L_4h",
          "2023_Q4_L_5h",
          "2023_Q4_L_6h",
          "2023_Q4_L_7h",
          "2023_Q4_L_8h",
          "2023_Q4_L_9h",
          "2023_Q4_L_10h",
          "2023_Q4_L_11h",
          "2023_Q4_L_12h",
          "2023_Q4_L_13h",
          "2023_Q4_L_14h",
          "2023_Q4_L_15h",
          "2023_Q4_L_16h",
          "2023_Q4_L_17h",
          "2023_Q4_L_18h",
          "2023_Q4_L_19h",
          "2023_Q4_L_20h",
          "2023_Q4_L_21h",
          "2023_Q4_L_22h",
          "2023_Q4_L_23h",
          "2023_Q4_H_0h",
          "2023_Q4_H_1h",
          "2023_Q4_H_2h",
          "2023_Q4_H_3h",
          "2023_Q4_H_4h",
          "2023_Q4_H_5h",
          "2023_Q4_H_6h",
          "2023_Q4_H_7h",
          "2023_Q4_H_8h",
          "2023_Q4_H_9h",
          "2023_Q4_H_10h",
          "2023_Q4_H_11h",
          "2023_Q4_H_12h",
          "2023_Q4_H_13h",
          "2023_Q4_H_14h",
          "2023_Q4_H_15h",
          "2023_Q4_H_16h",
          "2023_Q4_H_17h",
          "2023_Q4_H_18h",
          "2023_Q4_H_19h",
          "2023_Q4_H_20h",
          "2023_Q4_H_21h",
          "2023_Q4_H_22h",
          "2023_Q4_H_23h"
         ],
         "xaxis": "x",
         "y": [
          5.97199095169938,
          2.468254514097268,
          0.3101433043005919,
          -0.7757340308354843,
          -0.7575212211768712,
          3.320694068154939,
          7.044186279439013,
          4.306627016564679,
          7.021776750498199,
          10.836581060693916,
          11.638059301481118,
          14.503847868380483,
          17.3643351805705,
          16.546304948211986,
          19.004627415575225,
          23.705559369573038,
          26.551939317661176,
          26.683425319386945,
          23.827692061530257,
          26.231072943171707,
          25.341566209960042,
          24.078904479578455,
          20.815736696894227,
          12.905240002100093,
          -7.931891549818437,
          -12.454534287639163,
          -16.533563834791888,
          -16.674495594243066,
          -17.68579262335741,
          -16.535485979404307,
          -17.69885088096298,
          -22.108995339978954,
          -23.797169562367383,
          -20.89174890099309,
          -19.64718182735726,
          -17.966710185746827,
          -14.219756916939485,
          -11.88192964455903,
          -9.047817527439106,
          -7.886045429099808,
          -5.692817275176687,
          -4.764586465417708,
          -4.227480879450107,
          4.47979185356453,
          8.378063177997252,
          6.863901465243605,
          3.8488299672423176,
          -2.2525359360926367,
          20.55010645815287,
          27.156953004263794,
          35.01654720002592,
          41.11644615826473,
          43.887832546106594,
          44.866850324505904,
          43.93042787497385,
          43.5872447370262,
          41.71217724065435,
          40.30479546818948,
          41.40641651155106,
          44.48581052132414,
          46.21275108974585,
          44.332534395599566,
          44.606006710776725,
          45.5924409463734,
          47.83024195096508,
          49.443943738534024,
          45.76824296029509,
          46.82604482797874,
          43.04161876256576,
          41.367461654395086,
          38.090041834178166,
          27.370094554986114,
          0.8996181911594014,
          1.0186918351773322,
          -2.4756297006128136,
          -4.504749770738181,
          -2.5714935403187256,
          -0.6420658978841254,
          -0.030083014884829673,
          4.382407721612802,
          0.5404989863579512,
          -0.44817112775134005,
          2.8729506518870185,
          4.995920563152145,
          9.470353211795036,
          13.03480964760002,
          15.504278912961622,
          13.203660761502656,
          14.397494158591751,
          15.610911552549812,
          15.533900436685766,
          20.072140586054708,
          21.96707124156503,
          18.232920120366746,
          14.549572485823736,
          8.093225352479072,
          -12.704608569435916,
          -5.111681168161475,
          1.165622938737898,
          5.476032955542265,
          7.930004139277713,
          7.95450896261416,
          6.3557065492476195,
          5.357005395938086,
          3.1343931490094734,
          -0.9340486341811394,
          -3.5842472332582864,
          -5.483010130431842,
          -4.3412977123348355,
          -5.70764055017039,
          -5.122643722334452,
          -2.8865821705566397,
          -1.664451355193064,
          -1.6979250119466882,
          -5.124824979672093,
          -1.9117369084751812,
          0.8709242569598263,
          -2.1978740095234373,
          -7.159652679638262,
          -14.26721090759482,
          -41.15570338441598,
          -40.39481816915449,
          -38.41594422820275,
          -34.66876503327746,
          -31.723207959084455,
          -30.855652783027754,
          -30.973376755385786,
          -35.25048031698833,
          -33.620731647796184,
          -32.725645581617314,
          -32.8188197903734,
          -34.093784315747314,
          -34.552865830529115,
          -34.927053084395745,
          -35.416501279066615,
          -35.39944595921219,
          -36.0731348460934,
          -36.236785760106336,
          -37.60544567661771,
          -32.265993662210356,
          -27.483105866337542,
          -28.6479424637473,
          -31.236404865940383,
          -37.326206093071825,
          -23.591058609595795,
          -25.146978655902096,
          -25.406283291061516,
          -24.975192142614176,
          -25.309422731556463,
          -25.22619858751507,
          -24.5580909516108,
          -24.665672590950283,
          -21.948663311689344,
          -20.40914680239736,
          -20.798434195397807,
          -20.900044250045735,
          -21.110480782535003,
          -21.756875508556327,
          -22.282360658113664,
          -23.20307585674859,
          -23.94485190050506,
          -24.177536165255265,
          -24.77548841000734,
          -24.18085670705803,
          -24.574084467514044,
          -25.928313225989708,
          -24.335185085791633,
          -23.066441796078095,
          -36.818352441586775,
          -37.19223639428725,
          -35.540660958768775,
          -33.98708418394464,
          -34.14902028911975,
          -33.296339828447316,
          -31.865253551494078,
          -30.88743243396105,
          -31.496103251895068,
          -31.972193505003123,
          -32.550168899986474,
          -34.322636511704104,
          -35.20878905418526,
          -35.653832621803275,
          -36.34065077028589,
          -37.23807334746155,
          -37.7355434033553,
          -37.597459515679766,
          -38.5748874524095,
          -35.43799939188633,
          -33.05610826870263,
          -33.236702707777525,
          -35.33176703488829,
          -37.088862659324974
         ],
         "yaxis": "y"
        },
        {
         "hovertemplate": "Tech=Eolica<br>timestamp=%{x}<br>percentage_error (%)=%{y}<extra></extra>",
         "legendgroup": "Eolica",
         "line": {
          "color": "#ab63fa",
          "dash": "solid"
         },
         "marker": {
          "symbol": "circle"
         },
         "mode": "lines",
         "name": "Eolica",
         "orientation": "v",
         "showlegend": true,
         "type": "scatter",
         "x": [
          "2023_Q1_L_0h",
          "2023_Q1_L_1h",
          "2023_Q1_L_2h",
          "2023_Q1_L_3h",
          "2023_Q1_L_4h",
          "2023_Q1_L_5h",
          "2023_Q1_L_6h",
          "2023_Q1_L_7h",
          "2023_Q1_L_8h",
          "2023_Q1_L_9h",
          "2023_Q1_L_10h",
          "2023_Q1_L_11h",
          "2023_Q1_L_12h",
          "2023_Q1_L_13h",
          "2023_Q1_L_14h",
          "2023_Q1_L_15h",
          "2023_Q1_L_16h",
          "2023_Q1_L_17h",
          "2023_Q1_L_18h",
          "2023_Q1_L_19h",
          "2023_Q1_L_20h",
          "2023_Q1_L_21h",
          "2023_Q1_L_22h",
          "2023_Q1_L_23h",
          "2023_Q1_H_0h",
          "2023_Q1_H_1h",
          "2023_Q1_H_2h",
          "2023_Q1_H_3h",
          "2023_Q1_H_4h",
          "2023_Q1_H_5h",
          "2023_Q1_H_6h",
          "2023_Q1_H_7h",
          "2023_Q1_H_8h",
          "2023_Q1_H_9h",
          "2023_Q1_H_10h",
          "2023_Q1_H_11h",
          "2023_Q1_H_12h",
          "2023_Q1_H_13h",
          "2023_Q1_H_14h",
          "2023_Q1_H_15h",
          "2023_Q1_H_16h",
          "2023_Q1_H_17h",
          "2023_Q1_H_18h",
          "2023_Q1_H_19h",
          "2023_Q1_H_20h",
          "2023_Q1_H_21h",
          "2023_Q1_H_22h",
          "2023_Q1_H_23h",
          "2023_Q2_L_0h",
          "2023_Q2_L_1h",
          "2023_Q2_L_2h",
          "2023_Q2_L_3h",
          "2023_Q2_L_4h",
          "2023_Q2_L_5h",
          "2023_Q2_L_6h",
          "2023_Q2_L_7h",
          "2023_Q2_L_8h",
          "2023_Q2_L_9h",
          "2023_Q2_L_10h",
          "2023_Q2_L_11h",
          "2023_Q2_L_12h",
          "2023_Q2_L_13h",
          "2023_Q2_L_14h",
          "2023_Q2_L_15h",
          "2023_Q2_L_16h",
          "2023_Q2_L_17h",
          "2023_Q2_L_18h",
          "2023_Q2_L_19h",
          "2023_Q2_L_20h",
          "2023_Q2_L_21h",
          "2023_Q2_L_22h",
          "2023_Q2_L_23h",
          "2023_Q2_H_0h",
          "2023_Q2_H_1h",
          "2023_Q2_H_2h",
          "2023_Q2_H_3h",
          "2023_Q2_H_4h",
          "2023_Q2_H_5h",
          "2023_Q2_H_6h",
          "2023_Q2_H_7h",
          "2023_Q2_H_8h",
          "2023_Q2_H_9h",
          "2023_Q2_H_10h",
          "2023_Q2_H_11h",
          "2023_Q2_H_12h",
          "2023_Q2_H_13h",
          "2023_Q2_H_14h",
          "2023_Q2_H_15h",
          "2023_Q2_H_16h",
          "2023_Q2_H_17h",
          "2023_Q2_H_18h",
          "2023_Q2_H_19h",
          "2023_Q2_H_20h",
          "2023_Q2_H_21h",
          "2023_Q2_H_22h",
          "2023_Q2_H_23h",
          "2023_Q3_L_0h",
          "2023_Q3_L_1h",
          "2023_Q3_L_2h",
          "2023_Q3_L_3h",
          "2023_Q3_L_4h",
          "2023_Q3_L_5h",
          "2023_Q3_L_6h",
          "2023_Q3_L_7h",
          "2023_Q3_L_8h",
          "2023_Q3_L_9h",
          "2023_Q3_L_10h",
          "2023_Q3_L_11h",
          "2023_Q3_L_12h",
          "2023_Q3_L_13h",
          "2023_Q3_L_14h",
          "2023_Q3_L_15h",
          "2023_Q3_L_16h",
          "2023_Q3_L_17h",
          "2023_Q3_L_18h",
          "2023_Q3_L_19h",
          "2023_Q3_L_20h",
          "2023_Q3_L_21h",
          "2023_Q3_L_22h",
          "2023_Q3_L_23h",
          "2023_Q3_H_0h",
          "2023_Q3_H_1h",
          "2023_Q3_H_2h",
          "2023_Q3_H_3h",
          "2023_Q3_H_4h",
          "2023_Q3_H_5h",
          "2023_Q3_H_6h",
          "2023_Q3_H_7h",
          "2023_Q3_H_8h",
          "2023_Q3_H_9h",
          "2023_Q3_H_10h",
          "2023_Q3_H_11h",
          "2023_Q3_H_12h",
          "2023_Q3_H_13h",
          "2023_Q3_H_14h",
          "2023_Q3_H_15h",
          "2023_Q3_H_16h",
          "2023_Q3_H_17h",
          "2023_Q3_H_18h",
          "2023_Q3_H_19h",
          "2023_Q3_H_20h",
          "2023_Q3_H_21h",
          "2023_Q3_H_22h",
          "2023_Q3_H_23h",
          "2023_Q4_L_0h",
          "2023_Q4_L_1h",
          "2023_Q4_L_2h",
          "2023_Q4_L_3h",
          "2023_Q4_L_4h",
          "2023_Q4_L_5h",
          "2023_Q4_L_6h",
          "2023_Q4_L_7h",
          "2023_Q4_L_8h",
          "2023_Q4_L_9h",
          "2023_Q4_L_10h",
          "2023_Q4_L_11h",
          "2023_Q4_L_12h",
          "2023_Q4_L_13h",
          "2023_Q4_L_14h",
          "2023_Q4_L_15h",
          "2023_Q4_L_16h",
          "2023_Q4_L_17h",
          "2023_Q4_L_18h",
          "2023_Q4_L_19h",
          "2023_Q4_L_20h",
          "2023_Q4_L_21h",
          "2023_Q4_L_22h",
          "2023_Q4_L_23h",
          "2023_Q4_H_0h",
          "2023_Q4_H_1h",
          "2023_Q4_H_2h",
          "2023_Q4_H_3h",
          "2023_Q4_H_4h",
          "2023_Q4_H_5h",
          "2023_Q4_H_6h",
          "2023_Q4_H_7h",
          "2023_Q4_H_8h",
          "2023_Q4_H_9h",
          "2023_Q4_H_10h",
          "2023_Q4_H_11h",
          "2023_Q4_H_12h",
          "2023_Q4_H_13h",
          "2023_Q4_H_14h",
          "2023_Q4_H_15h",
          "2023_Q4_H_16h",
          "2023_Q4_H_17h",
          "2023_Q4_H_18h",
          "2023_Q4_H_19h",
          "2023_Q4_H_20h",
          "2023_Q4_H_21h",
          "2023_Q4_H_22h",
          "2023_Q4_H_23h"
         ],
         "xaxis": "x",
         "y": [
          21.918173819938925,
          29.151981120056057,
          32.205791397661464,
          36.60907636916227,
          49.35236039115107,
          57.90146442529163,
          60.17756426670133,
          65.35479161749369,
          69.49517397308091,
          48.9130581685449,
          33.386671558545224,
          22.955081237290575,
          15.029613479290461,
          8.65988318098001,
          3.273293720983883,
          3.6963789386992962,
          5.034328016775391,
          8.436303540229817,
          10.976655230577425,
          12.893523505101578,
          17.34537701763408,
          21.35974002498857,
          21.983291234074365,
          21.025652848576513,
          36.13977086690221,
          35.79344276351606,
          46.21243091995488,
          50.167914204014494,
          48.752660568822925,
          52.20081486843815,
          63.21187933343057,
          87.97470348362096,
          91.28795588626859,
          47.206119058626015,
          40.53202077122285,
          33.67057003609906,
          19.4666935329882,
          7.980561376381945,
          8.226655717356458,
          8.10568683791908,
          12.122913926785417,
          13.90184602516511,
          14.883306340166659,
          16.624744297317882,
          24.397752898477385,
          23.6109956967951,
          21.28644691198547,
          23.568944132219283,
          19.354729731188257,
          23.37792094559694,
          26.16383634175099,
          32.83751347361117,
          38.68199519398032,
          45.237048714938524,
          47.1015858841318,
          55.18331094059785,
          50.123401955275384,
          46.425749679802465,
          45.53811680701032,
          29.371990547352734,
          7.497080394992772,
          -5.332687429201844,
          -10.644862918384169,
          -10.820517623216785,
          -9.202834213185351,
          -6.766897778212144,
          -3.816493224831541,
          1.073037305837632,
          4.791280549290522,
          9.456069631896957,
          12.715252770774121,
          15.551481781373088,
          31.533923422221545,
          22.61999575828666,
          32.577708040649455,
          42.63419406950153,
          37.8591501074621,
          65.9598090399101,
          80.35100573429412,
          82.36693526876671,
          100.75701089193912,
          119.93370135989947,
          99.20752372133173,
          90.37673256604783,
          31.869414899260295,
          16.816807695310576,
          5.98227369886446,
          3.22340689436893,
          3.2670994754705918,
          0.39764938862745236,
          12.223644044181615,
          15.727450680849264,
          15.728912946016393,
          18.76657786035625,
          17.632313909407713,
          24.34941971181408,
          23.70258832742127,
          28.194432577444605,
          36.31220110631644,
          44.13714732031029,
          48.50708181978589,
          60.2204259525442,
          64.38815442694602,
          63.86085090260272,
          45.60962631912795,
          33.90166041423011,
          30.278634376170977,
          25.61548167962644,
          8.7543808370798,
          0.3417653269625953,
          -2.2444034186429707,
          -3.4164952956703187,
          -4.869019478251435,
          -1.4924020109532088,
          3.6991180812443014,
          5.912664830663061,
          11.567750028966506,
          18.158073002313714,
          19.920736568980878,
          22.873413177253976,
          33.73539930572751,
          18.466499647408785,
          33.87136958611734,
          45.58537334914832,
          34.13308872609861,
          30.948285968098244,
          41.582927936719095,
          45.67065965403858,
          27.64924792948524,
          34.4250663774264,
          38.477876664772225,
          32.736676581604904,
          24.044628096787246,
          6.830950400471636,
          -4.8924317501576,
          -6.3550652881968706,
          -4.398297684819186,
          1.8634868013848616,
          4.604017479378997,
          12.232808512999082,
          19.14860265044902,
          22.532730800819344,
          23.910582954442795,
          28.47607559810015,
          71.75085157504056,
          106.30138932586739,
          120.15409884528023,
          119.4681329068458,
          118.19137284359864,
          123.95612005734917,
          144.46769401820933,
          144.25371424778172,
          121.15267887629435,
          117.10160350901235,
          101.96934426142809,
          65.93916375818552,
          23.00392459368823,
          -1.7571600370964169,
          -12.232160588576424,
          -9.785181273713683,
          -1.5868220271660682,
          7.6745772979872395,
          12.851400306797856,
          21.31387305030088,
          32.17811912912496,
          44.246808178198926,
          60.1705488236139,
          68.74753134173342,
          124.83193781875235,
          113.42325300483212,
          158.79616868742335,
          173.13571179092966,
          171.41166729082974,
          169.05992505887073,
          200.97045009568367,
          210.7009916379564,
          183.13218283170616,
          182.1789355651383,
          100.10635570521984,
          67.75159901672107,
          47.0308471622314,
          14.019933554250951,
          4.165751951757035,
          -0.012373556678169084,
          3.076594619095041,
          17.062356645743826,
          35.49599919259283,
          51.461968576394334,
          69.32191359287503,
          75.37776578829552,
          96.45618712907462,
          117.73144714227914
         ],
         "yaxis": "y"
        },
        {
         "hovertemplate": "Tech=Hidro<br>timestamp=%{x}<br>percentage_error (%)=%{y}<extra></extra>",
         "legendgroup": "Hidro",
         "line": {
          "color": "#FFA15A",
          "dash": "solid"
         },
         "marker": {
          "symbol": "circle"
         },
         "mode": "lines",
         "name": "Hidro",
         "orientation": "v",
         "showlegend": true,
         "type": "scatter",
         "x": [
          "2023_Q1_L_0h",
          "2023_Q1_L_1h",
          "2023_Q1_L_2h",
          "2023_Q1_L_3h",
          "2023_Q1_L_4h",
          "2023_Q1_L_5h",
          "2023_Q1_L_6h",
          "2023_Q1_L_7h",
          "2023_Q1_L_8h",
          "2023_Q1_L_9h",
          "2023_Q1_L_10h",
          "2023_Q1_L_11h",
          "2023_Q1_L_12h",
          "2023_Q1_L_13h",
          "2023_Q1_L_14h",
          "2023_Q1_L_15h",
          "2023_Q1_L_16h",
          "2023_Q1_L_17h",
          "2023_Q1_L_18h",
          "2023_Q1_L_19h",
          "2023_Q1_L_20h",
          "2023_Q1_L_21h",
          "2023_Q1_L_22h",
          "2023_Q1_L_23h",
          "2023_Q1_H_0h",
          "2023_Q1_H_1h",
          "2023_Q1_H_2h",
          "2023_Q1_H_3h",
          "2023_Q1_H_4h",
          "2023_Q1_H_5h",
          "2023_Q1_H_6h",
          "2023_Q1_H_7h",
          "2023_Q1_H_8h",
          "2023_Q1_H_9h",
          "2023_Q1_H_10h",
          "2023_Q1_H_11h",
          "2023_Q1_H_12h",
          "2023_Q1_H_13h",
          "2023_Q1_H_14h",
          "2023_Q1_H_15h",
          "2023_Q1_H_16h",
          "2023_Q1_H_17h",
          "2023_Q1_H_18h",
          "2023_Q1_H_19h",
          "2023_Q1_H_20h",
          "2023_Q1_H_21h",
          "2023_Q1_H_22h",
          "2023_Q1_H_23h",
          "2023_Q2_L_0h",
          "2023_Q2_L_1h",
          "2023_Q2_L_2h",
          "2023_Q2_L_3h",
          "2023_Q2_L_4h",
          "2023_Q2_L_5h",
          "2023_Q2_L_6h",
          "2023_Q2_L_7h",
          "2023_Q2_L_8h",
          "2023_Q2_L_9h",
          "2023_Q2_L_10h",
          "2023_Q2_L_11h",
          "2023_Q2_L_12h",
          "2023_Q2_L_13h",
          "2023_Q2_L_14h",
          "2023_Q2_L_15h",
          "2023_Q2_L_16h",
          "2023_Q2_L_17h",
          "2023_Q2_L_18h",
          "2023_Q2_L_19h",
          "2023_Q2_L_20h",
          "2023_Q2_L_21h",
          "2023_Q2_L_22h",
          "2023_Q2_L_23h",
          "2023_Q2_H_0h",
          "2023_Q2_H_1h",
          "2023_Q2_H_2h",
          "2023_Q2_H_3h",
          "2023_Q2_H_4h",
          "2023_Q2_H_5h",
          "2023_Q2_H_6h",
          "2023_Q2_H_7h",
          "2023_Q2_H_8h",
          "2023_Q2_H_9h",
          "2023_Q2_H_10h",
          "2023_Q2_H_11h",
          "2023_Q2_H_12h",
          "2023_Q2_H_13h",
          "2023_Q2_H_14h",
          "2023_Q2_H_15h",
          "2023_Q2_H_16h",
          "2023_Q2_H_17h",
          "2023_Q2_H_18h",
          "2023_Q2_H_19h",
          "2023_Q2_H_20h",
          "2023_Q2_H_21h",
          "2023_Q2_H_22h",
          "2023_Q2_H_23h",
          "2023_Q3_L_0h",
          "2023_Q3_L_1h",
          "2023_Q3_L_2h",
          "2023_Q3_L_3h",
          "2023_Q3_L_4h",
          "2023_Q3_L_5h",
          "2023_Q3_L_6h",
          "2023_Q3_L_7h",
          "2023_Q3_L_8h",
          "2023_Q3_L_9h",
          "2023_Q3_L_10h",
          "2023_Q3_L_11h",
          "2023_Q3_L_12h",
          "2023_Q3_L_13h",
          "2023_Q3_L_14h",
          "2023_Q3_L_15h",
          "2023_Q3_L_16h",
          "2023_Q3_L_17h",
          "2023_Q3_L_18h",
          "2023_Q3_L_19h",
          "2023_Q3_L_20h",
          "2023_Q3_L_21h",
          "2023_Q3_L_22h",
          "2023_Q3_L_23h",
          "2023_Q3_H_0h",
          "2023_Q3_H_1h",
          "2023_Q3_H_2h",
          "2023_Q3_H_3h",
          "2023_Q3_H_4h",
          "2023_Q3_H_5h",
          "2023_Q3_H_6h",
          "2023_Q3_H_7h",
          "2023_Q3_H_8h",
          "2023_Q3_H_9h",
          "2023_Q3_H_10h",
          "2023_Q3_H_11h",
          "2023_Q3_H_12h",
          "2023_Q3_H_13h",
          "2023_Q3_H_14h",
          "2023_Q3_H_15h",
          "2023_Q3_H_16h",
          "2023_Q3_H_17h",
          "2023_Q3_H_18h",
          "2023_Q3_H_19h",
          "2023_Q3_H_20h",
          "2023_Q3_H_21h",
          "2023_Q3_H_22h",
          "2023_Q3_H_23h",
          "2023_Q4_L_0h",
          "2023_Q4_L_1h",
          "2023_Q4_L_2h",
          "2023_Q4_L_3h",
          "2023_Q4_L_4h",
          "2023_Q4_L_5h",
          "2023_Q4_L_6h",
          "2023_Q4_L_7h",
          "2023_Q4_L_8h",
          "2023_Q4_L_9h",
          "2023_Q4_L_10h",
          "2023_Q4_L_11h",
          "2023_Q4_L_12h",
          "2023_Q4_L_13h",
          "2023_Q4_L_14h",
          "2023_Q4_L_15h",
          "2023_Q4_L_16h",
          "2023_Q4_L_17h",
          "2023_Q4_L_18h",
          "2023_Q4_L_19h",
          "2023_Q4_L_20h",
          "2023_Q4_L_21h",
          "2023_Q4_L_22h",
          "2023_Q4_L_23h",
          "2023_Q4_H_0h",
          "2023_Q4_H_1h",
          "2023_Q4_H_2h",
          "2023_Q4_H_3h",
          "2023_Q4_H_4h",
          "2023_Q4_H_5h",
          "2023_Q4_H_6h",
          "2023_Q4_H_7h",
          "2023_Q4_H_8h",
          "2023_Q4_H_9h",
          "2023_Q4_H_10h",
          "2023_Q4_H_11h",
          "2023_Q4_H_12h",
          "2023_Q4_H_13h",
          "2023_Q4_H_14h",
          "2023_Q4_H_15h",
          "2023_Q4_H_16h",
          "2023_Q4_H_17h",
          "2023_Q4_H_18h",
          "2023_Q4_H_19h",
          "2023_Q4_H_20h",
          "2023_Q4_H_21h",
          "2023_Q4_H_22h",
          "2023_Q4_H_23h"
         ],
         "xaxis": "x",
         "y": [
          -1.6395777117044208,
          -0.9202343306937588,
          -0.4194921926960693,
          -0.12293677807396763,
          0.01476947021110675,
          -0.7195974017921047,
          -2.19761374288312,
          -3.078304872831794,
          -4.152523517598993,
          -5.503878408724782,
          -6.315322153019787,
          -7.135153773596481,
          -7.53334213076714,
          -6.793166201383594,
          -6.088301948207919,
          -5.499783962738414,
          -4.765956732109933,
          -4.24308925746073,
          -4.430390157141972,
          -5.156692972673027,
          -5.1588738682712965,
          -5.059146554332116,
          -4.652580739405421,
          -3.1059138183695545,
          1.186163059065759,
          2.420796377055545,
          3.4361584181633154,
          3.3742000013390117,
          3.606692194964123,
          3.1781164755787294,
          2.44067721400103,
          1.521013771040458,
          1.2033255851858549,
          -0.07116435466886228,
          -1.1853409996295472,
          -1.5442116651378401,
          -2.1853444907365516,
          -1.6562692858584804,
          -0.8422561490914582,
          0.8460802161683212,
          2.0750172393316557,
          2.4187081751112283,
          1.3641962499701732,
          -0.9366903826762418,
          -1.9961957275030695,
          -1.7864326894002414,
          -1.2749470168458843,
          -0.141015805150968,
          -3.890886335730659,
          -5.000984832542532,
          -6.452973380278193,
          -7.508372685069576,
          -7.8364400832741214,
          -7.511134290828014,
          -7.722304397620638,
          -8.679691496439169,
          -8.645627296510138,
          -9.291334584900913,
          -10.14107046610253,
          -10.829946536987944,
          -10.889430881906993,
          -10.055077291386072,
          -9.217918894442988,
          -8.3478193071295,
          -7.859375783463318,
          -7.631266376773604,
          -7.824640604559829,
          -8.6831231456859,
          -8.199752065384258,
          -8.06886499188254,
          -7.40137805094272,
          -5.2957279552824925,
          1.097551696244059,
          0.722130576299973,
          1.462125425509897,
          2.414346421349456,
          2.012388561250922,
          1.5088108173961778,
          0.19645330015787277,
          -2.243654746854995,
          -2.5827335294432374,
          -3.6169229540404246,
          -4.360323472445726,
          -4.62753624600275,
          -4.642939563915505,
          -4.235475897948593,
          -3.218419912414605,
          -1.6270895741639868,
          -0.9398027637647854,
          -0.6391854460624513,
          -1.406142269594357,
          -3.5931303630495015,
          -4.012043068991944,
          -3.296567673322248,
          -1.9954231248021093,
          -0.49227969482043,
          7.4005469603265706,
          5.594049271685164,
          3.847234244673303,
          2.711156331163922,
          2.153050966601988,
          2.203552911086004,
          1.8908583313513194,
          1.147114884188838,
          1.173137237888655,
          1.1902305679203584,
          1.1261922093580345,
          1.1395164934632218,
          0.9265683908493472,
          2.1565065855360555,
          2.804362417140349,
          3.0645692949530012,
          3.551326619631867,
          4.021729694472942,
          4.412315260941457,
          1.6371637441605413,
          0.6838067484292942,
          1.6204084196273172,
          3.8933438087785044,
          6.893436472104852,
          18.323702516840722,
          17.158816030964562,
          17.068914442611693,
          15.22887988959194,
          14.306325730952295,
          14.160008974326166,
          12.986213271952597,
          13.295307090044561,
          11.349501625804415,
          10.451398033422365,
          10.006277231869154,
          10.32436708828779,
          10.318720948644987,
          11.085709477972806,
          12.598246546793268,
          14.50201769097783,
          15.403643700990099,
          15.91502841055068,
          16.2152528800225,
          12.319219393093416,
          10.30350624877645,
          10.86008408067254,
          12.417120067670307,
          15.897173249254326,
          14.268632289670858,
          15.579959409869693,
          16.086337200081523,
          16.086476173426977,
          16.59197416527496,
          16.292442367910297,
          14.558122073209034,
          13.772927134578982,
          12.711874275597834,
          12.059526761726392,
          12.248189232563034,
          11.78559425939827,
          11.809841433810542,
          12.997005836718522,
          13.839592261946043,
          14.680349865975684,
          15.267269594655563,
          14.475176350816099,
          13.124755008777612,
          11.946362221073258,
          12.125409333246907,
          12.995138035772813,
          12.82396616114072,
          13.11785451657963,
          21.444966881267202,
          22.2552633650535,
          21.622596235937742,
          21.277677739329313,
          22.419645768424367,
          22.217737470842348,
          20.554077739373145,
          19.569099353924145,
          19.98408868949353,
          20.095909421045597,
          19.77061416251342,
          20.20483926102341,
          20.372349666382018,
          21.23893215392325,
          23.202904742088993,
          24.9772627704693,
          26.04597930071875,
          24.037764781283478,
          22.31981151613973,
          17.873695647035625,
          15.889602091439992,
          15.98060297231556,
          17.5734225512987,
          19.91172757611448
         ],
         "yaxis": "y"
        }
       ],
       "layout": {
        "legend": {
         "title": {
          "text": "Tech"
         },
         "tracegroupgap": 0
        },
        "margin": {
         "t": 60
        },
        "plot_bgcolor": "white",
        "template": {
         "data": {
          "bar": [
           {
            "error_x": {
             "color": "#2a3f5f"
            },
            "error_y": {
             "color": "#2a3f5f"
            },
            "marker": {
             "line": {
              "color": "#E5ECF6",
              "width": 0.5
             },
             "pattern": {
              "fillmode": "overlay",
              "size": 10,
              "solidity": 0.2
             }
            },
            "type": "bar"
           }
          ],
          "barpolar": [
           {
            "marker": {
             "line": {
              "color": "#E5ECF6",
              "width": 0.5
             },
             "pattern": {
              "fillmode": "overlay",
              "size": 10,
              "solidity": 0.2
             }
            },
            "type": "barpolar"
           }
          ],
          "carpet": [
           {
            "aaxis": {
             "endlinecolor": "#2a3f5f",
             "gridcolor": "white",
             "linecolor": "white",
             "minorgridcolor": "white",
             "startlinecolor": "#2a3f5f"
            },
            "baxis": {
             "endlinecolor": "#2a3f5f",
             "gridcolor": "white",
             "linecolor": "white",
             "minorgridcolor": "white",
             "startlinecolor": "#2a3f5f"
            },
            "type": "carpet"
           }
          ],
          "choropleth": [
           {
            "colorbar": {
             "outlinewidth": 0,
             "ticks": ""
            },
            "type": "choropleth"
           }
          ],
          "contour": [
           {
            "colorbar": {
             "outlinewidth": 0,
             "ticks": ""
            },
            "colorscale": [
             [
              0,
              "#0d0887"
             ],
             [
              0.1111111111111111,
              "#46039f"
             ],
             [
              0.2222222222222222,
              "#7201a8"
             ],
             [
              0.3333333333333333,
              "#9c179e"
             ],
             [
              0.4444444444444444,
              "#bd3786"
             ],
             [
              0.5555555555555556,
              "#d8576b"
             ],
             [
              0.6666666666666666,
              "#ed7953"
             ],
             [
              0.7777777777777778,
              "#fb9f3a"
             ],
             [
              0.8888888888888888,
              "#fdca26"
             ],
             [
              1,
              "#f0f921"
             ]
            ],
            "type": "contour"
           }
          ],
          "contourcarpet": [
           {
            "colorbar": {
             "outlinewidth": 0,
             "ticks": ""
            },
            "type": "contourcarpet"
           }
          ],
          "heatmap": [
           {
            "colorbar": {
             "outlinewidth": 0,
             "ticks": ""
            },
            "colorscale": [
             [
              0,
              "#0d0887"
             ],
             [
              0.1111111111111111,
              "#46039f"
             ],
             [
              0.2222222222222222,
              "#7201a8"
             ],
             [
              0.3333333333333333,
              "#9c179e"
             ],
             [
              0.4444444444444444,
              "#bd3786"
             ],
             [
              0.5555555555555556,
              "#d8576b"
             ],
             [
              0.6666666666666666,
              "#ed7953"
             ],
             [
              0.7777777777777778,
              "#fb9f3a"
             ],
             [
              0.8888888888888888,
              "#fdca26"
             ],
             [
              1,
              "#f0f921"
             ]
            ],
            "type": "heatmap"
           }
          ],
          "heatmapgl": [
           {
            "colorbar": {
             "outlinewidth": 0,
             "ticks": ""
            },
            "colorscale": [
             [
              0,
              "#0d0887"
             ],
             [
              0.1111111111111111,
              "#46039f"
             ],
             [
              0.2222222222222222,
              "#7201a8"
             ],
             [
              0.3333333333333333,
              "#9c179e"
             ],
             [
              0.4444444444444444,
              "#bd3786"
             ],
             [
              0.5555555555555556,
              "#d8576b"
             ],
             [
              0.6666666666666666,
              "#ed7953"
             ],
             [
              0.7777777777777778,
              "#fb9f3a"
             ],
             [
              0.8888888888888888,
              "#fdca26"
             ],
             [
              1,
              "#f0f921"
             ]
            ],
            "type": "heatmapgl"
           }
          ],
          "histogram": [
           {
            "marker": {
             "pattern": {
              "fillmode": "overlay",
              "size": 10,
              "solidity": 0.2
             }
            },
            "type": "histogram"
           }
          ],
          "histogram2d": [
           {
            "colorbar": {
             "outlinewidth": 0,
             "ticks": ""
            },
            "colorscale": [
             [
              0,
              "#0d0887"
             ],
             [
              0.1111111111111111,
              "#46039f"
             ],
             [
              0.2222222222222222,
              "#7201a8"
             ],
             [
              0.3333333333333333,
              "#9c179e"
             ],
             [
              0.4444444444444444,
              "#bd3786"
             ],
             [
              0.5555555555555556,
              "#d8576b"
             ],
             [
              0.6666666666666666,
              "#ed7953"
             ],
             [
              0.7777777777777778,
              "#fb9f3a"
             ],
             [
              0.8888888888888888,
              "#fdca26"
             ],
             [
              1,
              "#f0f921"
             ]
            ],
            "type": "histogram2d"
           }
          ],
          "histogram2dcontour": [
           {
            "colorbar": {
             "outlinewidth": 0,
             "ticks": ""
            },
            "colorscale": [
             [
              0,
              "#0d0887"
             ],
             [
              0.1111111111111111,
              "#46039f"
             ],
             [
              0.2222222222222222,
              "#7201a8"
             ],
             [
              0.3333333333333333,
              "#9c179e"
             ],
             [
              0.4444444444444444,
              "#bd3786"
             ],
             [
              0.5555555555555556,
              "#d8576b"
             ],
             [
              0.6666666666666666,
              "#ed7953"
             ],
             [
              0.7777777777777778,
              "#fb9f3a"
             ],
             [
              0.8888888888888888,
              "#fdca26"
             ],
             [
              1,
              "#f0f921"
             ]
            ],
            "type": "histogram2dcontour"
           }
          ],
          "mesh3d": [
           {
            "colorbar": {
             "outlinewidth": 0,
             "ticks": ""
            },
            "type": "mesh3d"
           }
          ],
          "parcoords": [
           {
            "line": {
             "colorbar": {
              "outlinewidth": 0,
              "ticks": ""
             }
            },
            "type": "parcoords"
           }
          ],
          "pie": [
           {
            "automargin": true,
            "type": "pie"
           }
          ],
          "scatter": [
           {
            "fillpattern": {
             "fillmode": "overlay",
             "size": 10,
             "solidity": 0.2
            },
            "type": "scatter"
           }
          ],
          "scatter3d": [
           {
            "line": {
             "colorbar": {
              "outlinewidth": 0,
              "ticks": ""
             }
            },
            "marker": {
             "colorbar": {
              "outlinewidth": 0,
              "ticks": ""
             }
            },
            "type": "scatter3d"
           }
          ],
          "scattercarpet": [
           {
            "marker": {
             "colorbar": {
              "outlinewidth": 0,
              "ticks": ""
             }
            },
            "type": "scattercarpet"
           }
          ],
          "scattergeo": [
           {
            "marker": {
             "colorbar": {
              "outlinewidth": 0,
              "ticks": ""
             }
            },
            "type": "scattergeo"
           }
          ],
          "scattergl": [
           {
            "marker": {
             "colorbar": {
              "outlinewidth": 0,
              "ticks": ""
             }
            },
            "type": "scattergl"
           }
          ],
          "scattermapbox": [
           {
            "marker": {
             "colorbar": {
              "outlinewidth": 0,
              "ticks": ""
             }
            },
            "type": "scattermapbox"
           }
          ],
          "scatterpolar": [
           {
            "marker": {
             "colorbar": {
              "outlinewidth": 0,
              "ticks": ""
             }
            },
            "type": "scatterpolar"
           }
          ],
          "scatterpolargl": [
           {
            "marker": {
             "colorbar": {
              "outlinewidth": 0,
              "ticks": ""
             }
            },
            "type": "scatterpolargl"
           }
          ],
          "scatterternary": [
           {
            "marker": {
             "colorbar": {
              "outlinewidth": 0,
              "ticks": ""
             }
            },
            "type": "scatterternary"
           }
          ],
          "surface": [
           {
            "colorbar": {
             "outlinewidth": 0,
             "ticks": ""
            },
            "colorscale": [
             [
              0,
              "#0d0887"
             ],
             [
              0.1111111111111111,
              "#46039f"
             ],
             [
              0.2222222222222222,
              "#7201a8"
             ],
             [
              0.3333333333333333,
              "#9c179e"
             ],
             [
              0.4444444444444444,
              "#bd3786"
             ],
             [
              0.5555555555555556,
              "#d8576b"
             ],
             [
              0.6666666666666666,
              "#ed7953"
             ],
             [
              0.7777777777777778,
              "#fb9f3a"
             ],
             [
              0.8888888888888888,
              "#fdca26"
             ],
             [
              1,
              "#f0f921"
             ]
            ],
            "type": "surface"
           }
          ],
          "table": [
           {
            "cells": {
             "fill": {
              "color": "#EBF0F8"
             },
             "line": {
              "color": "white"
             }
            },
            "header": {
             "fill": {
              "color": "#C8D4E3"
             },
             "line": {
              "color": "white"
             }
            },
            "type": "table"
           }
          ]
         },
         "layout": {
          "annotationdefaults": {
           "arrowcolor": "#2a3f5f",
           "arrowhead": 0,
           "arrowwidth": 1
          },
          "autotypenumbers": "strict",
          "coloraxis": {
           "colorbar": {
            "outlinewidth": 0,
            "ticks": ""
           }
          },
          "colorscale": {
           "diverging": [
            [
             0,
             "#8e0152"
            ],
            [
             0.1,
             "#c51b7d"
            ],
            [
             0.2,
             "#de77ae"
            ],
            [
             0.3,
             "#f1b6da"
            ],
            [
             0.4,
             "#fde0ef"
            ],
            [
             0.5,
             "#f7f7f7"
            ],
            [
             0.6,
             "#e6f5d0"
            ],
            [
             0.7,
             "#b8e186"
            ],
            [
             0.8,
             "#7fbc41"
            ],
            [
             0.9,
             "#4d9221"
            ],
            [
             1,
             "#276419"
            ]
           ],
           "sequential": [
            [
             0,
             "#0d0887"
            ],
            [
             0.1111111111111111,
             "#46039f"
            ],
            [
             0.2222222222222222,
             "#7201a8"
            ],
            [
             0.3333333333333333,
             "#9c179e"
            ],
            [
             0.4444444444444444,
             "#bd3786"
            ],
            [
             0.5555555555555556,
             "#d8576b"
            ],
            [
             0.6666666666666666,
             "#ed7953"
            ],
            [
             0.7777777777777778,
             "#fb9f3a"
            ],
            [
             0.8888888888888888,
             "#fdca26"
            ],
            [
             1,
             "#f0f921"
            ]
           ],
           "sequentialminus": [
            [
             0,
             "#0d0887"
            ],
            [
             0.1111111111111111,
             "#46039f"
            ],
            [
             0.2222222222222222,
             "#7201a8"
            ],
            [
             0.3333333333333333,
             "#9c179e"
            ],
            [
             0.4444444444444444,
             "#bd3786"
            ],
            [
             0.5555555555555556,
             "#d8576b"
            ],
            [
             0.6666666666666666,
             "#ed7953"
            ],
            [
             0.7777777777777778,
             "#fb9f3a"
            ],
            [
             0.8888888888888888,
             "#fdca26"
            ],
            [
             1,
             "#f0f921"
            ]
           ]
          },
          "colorway": [
           "#636efa",
           "#EF553B",
           "#00cc96",
           "#ab63fa",
           "#FFA15A",
           "#19d3f3",
           "#FF6692",
           "#B6E880",
           "#FF97FF",
           "#FECB52"
          ],
          "font": {
           "color": "#2a3f5f"
          },
          "geo": {
           "bgcolor": "white",
           "lakecolor": "white",
           "landcolor": "#E5ECF6",
           "showlakes": true,
           "showland": true,
           "subunitcolor": "white"
          },
          "hoverlabel": {
           "align": "left"
          },
          "hovermode": "closest",
          "mapbox": {
           "style": "light"
          },
          "paper_bgcolor": "white",
          "plot_bgcolor": "#E5ECF6",
          "polar": {
           "angularaxis": {
            "gridcolor": "white",
            "linecolor": "white",
            "ticks": ""
           },
           "bgcolor": "#E5ECF6",
           "radialaxis": {
            "gridcolor": "white",
            "linecolor": "white",
            "ticks": ""
           }
          },
          "scene": {
           "xaxis": {
            "backgroundcolor": "#E5ECF6",
            "gridcolor": "white",
            "gridwidth": 2,
            "linecolor": "white",
            "showbackground": true,
            "ticks": "",
            "zerolinecolor": "white"
           },
           "yaxis": {
            "backgroundcolor": "#E5ECF6",
            "gridcolor": "white",
            "gridwidth": 2,
            "linecolor": "white",
            "showbackground": true,
            "ticks": "",
            "zerolinecolor": "white"
           },
           "zaxis": {
            "backgroundcolor": "#E5ECF6",
            "gridcolor": "white",
            "gridwidth": 2,
            "linecolor": "white",
            "showbackground": true,
            "ticks": "",
            "zerolinecolor": "white"
           }
          },
          "shapedefaults": {
           "line": {
            "color": "#2a3f5f"
           }
          },
          "ternary": {
           "aaxis": {
            "gridcolor": "white",
            "linecolor": "white",
            "ticks": ""
           },
           "baxis": {
            "gridcolor": "white",
            "linecolor": "white",
            "ticks": ""
           },
           "bgcolor": "#E5ECF6",
           "caxis": {
            "gridcolor": "white",
            "linecolor": "white",
            "ticks": ""
           }
          },
          "title": {
           "x": 0.05
          },
          "xaxis": {
           "automargin": true,
           "gridcolor": "white",
           "linecolor": "white",
           "ticks": "",
           "title": {
            "standoff": 15
           },
           "zerolinecolor": "white",
           "zerolinewidth": 2
          },
          "yaxis": {
           "automargin": true,
           "gridcolor": "white",
           "linecolor": "white",
           "ticks": "",
           "title": {
            "standoff": 15
           },
           "zerolinecolor": "white",
           "zerolinewidth": 2
          }
         }
        },
        "xaxis": {
         "anchor": "y",
         "domain": [
          0,
          1
         ],
         "gridcolor": "lightgray",
         "title": {
          "text": "timestamp"
         }
        },
        "yaxis": {
         "anchor": "x",
         "domain": [
          0,
          1
         ],
         "gridcolor": "lightgray",
         "title": {
          "text": "percentage_error (%)"
         }
        }
       }
      }
     },
     "metadata": {},
     "output_type": "display_data"
    }
   ],
   "source": [
    "# Align dataframes based on 'timestamp', 'Tech'\n",
    "gen_res['DispatchGen_MW_xm'] = gen_res['DispatchGen_MW']\n",
    "gen_disp['DispatchGen_MW_sw'] = gen_disp['DispatchGen_MW']\n",
    "gen_compare = pd.merge(gen_res, gen_disp, on=['timestamp', 'Tech'])\n",
    "# Calculate error percentage\n",
    "gen_compare['percentage_error (%)'] = 100*((gen_compare['DispatchGen_MW_sw'] / gen_compare['DispatchGen_MW_xm']) - 1)\n",
    "# Remove rows where 'type' contains '_0h' and 'tech' is 'solar'\n",
    "hours = r'_19h|_20h|_21h|_22h|_23h|_0h|_1h|_2h|_3h|_4h|_5h|_6h|_7h'\n",
    "condition = ((gen_compare['Tech'] == 'Solar') & (gen_compare['timestamp'].str.contains(hours)))\n",
    "gen_compare.loc[condition, ['percentage_error (%)']] = np.nan\n",
    "#print(gen_compare.head(5))\n",
    "import plotly.express as px\n",
    "fig = px.line(\n",
    "    gen_compare,\n",
    "    x='timestamp', y='percentage_error (%)', \n",
    "    color='Tech')\n",
    "fig.update_layout(plot_bgcolor='white',xaxis=dict(gridcolor='lightgray'),yaxis=dict(gridcolor='lightgray'))\n",
    "fig.show()"
   ]
  },
  {
   "cell_type": "markdown",
   "metadata": {},
   "source": [
    "### Error by Quartil"
   ]
  },
  {
   "cell_type": "code",
   "execution_count": 78,
   "metadata": {},
   "outputs": [
    {
     "data": {
      "application/vnd.plotly.v1+json": {
       "config": {
        "plotlyServerURL": "https://plot.ly"
       },
       "data": [
        {
         "hovertemplate": "Tech=Eolica<br>Quarter=%{x}<br>percentage_error (%)=%{y}<extra></extra>",
         "legendgroup": "Eolica",
         "line": {
          "color": "#636efa",
          "dash": "solid"
         },
         "marker": {
          "symbol": "circle"
         },
         "mode": "lines",
         "name": "Eolica",
         "orientation": "v",
         "showlegend": true,
         "type": "scatter",
         "x": [
          "2023_Q1",
          "2023_Q2",
          "2023_Q3",
          "2023_Q4"
         ],
         "xaxis": "x",
         "y": [
          27.95012852668839,
          23.19761714675048,
          20.799368412411745,
          63.070866738938406
         ],
         "yaxis": "y"
        },
        {
         "hovertemplate": "Tech=Hidro<br>Quarter=%{x}<br>percentage_error (%)=%{y}<extra></extra>",
         "legendgroup": "Hidro",
         "line": {
          "color": "#EF553B",
          "dash": "solid"
         },
         "marker": {
          "symbol": "circle"
         },
         "mode": "lines",
         "name": "Hidro",
         "orientation": "v",
         "showlegend": true,
         "type": "scatter",
         "x": [
          "2023_Q1",
          "2023_Q2",
          "2023_Q3",
          "2023_Q4"
         ],
         "xaxis": "x",
         "y": [
          -1.9818069388085724,
          -5.127336659833903,
          7.650510082039497,
          16.90167246675238
         ],
         "yaxis": "y"
        },
        {
         "hovertemplate": "Tech=Menores<br>Quarter=%{x}<br>percentage_error (%)=%{y}<extra></extra>",
         "legendgroup": "Menores",
         "line": {
          "color": "#00cc96",
          "dash": "solid"
         },
         "marker": {
          "symbol": "circle"
         },
         "mode": "lines",
         "name": "Menores",
         "orientation": "v",
         "showlegend": true,
         "type": "scatter",
         "x": [
          "2023_Q1",
          "2023_Q2",
          "2023_Q3",
          "2023_Q4"
         ],
         "xaxis": "x",
         "y": [
          20.467897747236186,
          107.30877740021563,
          38.52378176448057,
          43.4509956214099
         ],
         "yaxis": "y"
        },
        {
         "hovertemplate": "Tech=Solar<br>Quarter=%{x}<br>percentage_error (%)=%{y}<extra></extra>",
         "legendgroup": "Solar",
         "line": {
          "color": "#ab63fa",
          "dash": "solid"
         },
         "marker": {
          "symbol": "circle"
         },
         "mode": "lines",
         "name": "Solar",
         "orientation": "v",
         "showlegend": true,
         "type": "scatter",
         "x": [
          "2023_Q1",
          "2023_Q2",
          "2023_Q3",
          "2023_Q4"
         ],
         "xaxis": "x",
         "y": [
          93.20271599929511,
          70.64751359468882,
          17.952204461587627,
          -15.23145686210794
         ],
         "yaxis": "y"
        },
        {
         "hovertemplate": "Tech=Thermal<br>Quarter=%{x}<br>percentage_error (%)=%{y}<extra></extra>",
         "legendgroup": "Thermal",
         "line": {
          "color": "#FFA15A",
          "dash": "solid"
         },
         "marker": {
          "symbol": "circle"
         },
         "mode": "lines",
         "name": "Thermal",
         "orientation": "v",
         "showlegend": true,
         "type": "scatter",
         "x": [
          "2023_Q1",
          "2023_Q2",
          "2023_Q3",
          "2023_Q4"
         ],
         "xaxis": "x",
         "y": [
          2.9113903820332743,
          25.558038550841022,
          -17.59452907369452,
          -29.017735221544406
         ],
         "yaxis": "y"
        }
       ],
       "layout": {
        "legend": {
         "title": {
          "text": "Tech"
         },
         "tracegroupgap": 0
        },
        "margin": {
         "t": 60
        },
        "plot_bgcolor": "white",
        "template": {
         "data": {
          "bar": [
           {
            "error_x": {
             "color": "#2a3f5f"
            },
            "error_y": {
             "color": "#2a3f5f"
            },
            "marker": {
             "line": {
              "color": "#E5ECF6",
              "width": 0.5
             },
             "pattern": {
              "fillmode": "overlay",
              "size": 10,
              "solidity": 0.2
             }
            },
            "type": "bar"
           }
          ],
          "barpolar": [
           {
            "marker": {
             "line": {
              "color": "#E5ECF6",
              "width": 0.5
             },
             "pattern": {
              "fillmode": "overlay",
              "size": 10,
              "solidity": 0.2
             }
            },
            "type": "barpolar"
           }
          ],
          "carpet": [
           {
            "aaxis": {
             "endlinecolor": "#2a3f5f",
             "gridcolor": "white",
             "linecolor": "white",
             "minorgridcolor": "white",
             "startlinecolor": "#2a3f5f"
            },
            "baxis": {
             "endlinecolor": "#2a3f5f",
             "gridcolor": "white",
             "linecolor": "white",
             "minorgridcolor": "white",
             "startlinecolor": "#2a3f5f"
            },
            "type": "carpet"
           }
          ],
          "choropleth": [
           {
            "colorbar": {
             "outlinewidth": 0,
             "ticks": ""
            },
            "type": "choropleth"
           }
          ],
          "contour": [
           {
            "colorbar": {
             "outlinewidth": 0,
             "ticks": ""
            },
            "colorscale": [
             [
              0,
              "#0d0887"
             ],
             [
              0.1111111111111111,
              "#46039f"
             ],
             [
              0.2222222222222222,
              "#7201a8"
             ],
             [
              0.3333333333333333,
              "#9c179e"
             ],
             [
              0.4444444444444444,
              "#bd3786"
             ],
             [
              0.5555555555555556,
              "#d8576b"
             ],
             [
              0.6666666666666666,
              "#ed7953"
             ],
             [
              0.7777777777777778,
              "#fb9f3a"
             ],
             [
              0.8888888888888888,
              "#fdca26"
             ],
             [
              1,
              "#f0f921"
             ]
            ],
            "type": "contour"
           }
          ],
          "contourcarpet": [
           {
            "colorbar": {
             "outlinewidth": 0,
             "ticks": ""
            },
            "type": "contourcarpet"
           }
          ],
          "heatmap": [
           {
            "colorbar": {
             "outlinewidth": 0,
             "ticks": ""
            },
            "colorscale": [
             [
              0,
              "#0d0887"
             ],
             [
              0.1111111111111111,
              "#46039f"
             ],
             [
              0.2222222222222222,
              "#7201a8"
             ],
             [
              0.3333333333333333,
              "#9c179e"
             ],
             [
              0.4444444444444444,
              "#bd3786"
             ],
             [
              0.5555555555555556,
              "#d8576b"
             ],
             [
              0.6666666666666666,
              "#ed7953"
             ],
             [
              0.7777777777777778,
              "#fb9f3a"
             ],
             [
              0.8888888888888888,
              "#fdca26"
             ],
             [
              1,
              "#f0f921"
             ]
            ],
            "type": "heatmap"
           }
          ],
          "heatmapgl": [
           {
            "colorbar": {
             "outlinewidth": 0,
             "ticks": ""
            },
            "colorscale": [
             [
              0,
              "#0d0887"
             ],
             [
              0.1111111111111111,
              "#46039f"
             ],
             [
              0.2222222222222222,
              "#7201a8"
             ],
             [
              0.3333333333333333,
              "#9c179e"
             ],
             [
              0.4444444444444444,
              "#bd3786"
             ],
             [
              0.5555555555555556,
              "#d8576b"
             ],
             [
              0.6666666666666666,
              "#ed7953"
             ],
             [
              0.7777777777777778,
              "#fb9f3a"
             ],
             [
              0.8888888888888888,
              "#fdca26"
             ],
             [
              1,
              "#f0f921"
             ]
            ],
            "type": "heatmapgl"
           }
          ],
          "histogram": [
           {
            "marker": {
             "pattern": {
              "fillmode": "overlay",
              "size": 10,
              "solidity": 0.2
             }
            },
            "type": "histogram"
           }
          ],
          "histogram2d": [
           {
            "colorbar": {
             "outlinewidth": 0,
             "ticks": ""
            },
            "colorscale": [
             [
              0,
              "#0d0887"
             ],
             [
              0.1111111111111111,
              "#46039f"
             ],
             [
              0.2222222222222222,
              "#7201a8"
             ],
             [
              0.3333333333333333,
              "#9c179e"
             ],
             [
              0.4444444444444444,
              "#bd3786"
             ],
             [
              0.5555555555555556,
              "#d8576b"
             ],
             [
              0.6666666666666666,
              "#ed7953"
             ],
             [
              0.7777777777777778,
              "#fb9f3a"
             ],
             [
              0.8888888888888888,
              "#fdca26"
             ],
             [
              1,
              "#f0f921"
             ]
            ],
            "type": "histogram2d"
           }
          ],
          "histogram2dcontour": [
           {
            "colorbar": {
             "outlinewidth": 0,
             "ticks": ""
            },
            "colorscale": [
             [
              0,
              "#0d0887"
             ],
             [
              0.1111111111111111,
              "#46039f"
             ],
             [
              0.2222222222222222,
              "#7201a8"
             ],
             [
              0.3333333333333333,
              "#9c179e"
             ],
             [
              0.4444444444444444,
              "#bd3786"
             ],
             [
              0.5555555555555556,
              "#d8576b"
             ],
             [
              0.6666666666666666,
              "#ed7953"
             ],
             [
              0.7777777777777778,
              "#fb9f3a"
             ],
             [
              0.8888888888888888,
              "#fdca26"
             ],
             [
              1,
              "#f0f921"
             ]
            ],
            "type": "histogram2dcontour"
           }
          ],
          "mesh3d": [
           {
            "colorbar": {
             "outlinewidth": 0,
             "ticks": ""
            },
            "type": "mesh3d"
           }
          ],
          "parcoords": [
           {
            "line": {
             "colorbar": {
              "outlinewidth": 0,
              "ticks": ""
             }
            },
            "type": "parcoords"
           }
          ],
          "pie": [
           {
            "automargin": true,
            "type": "pie"
           }
          ],
          "scatter": [
           {
            "fillpattern": {
             "fillmode": "overlay",
             "size": 10,
             "solidity": 0.2
            },
            "type": "scatter"
           }
          ],
          "scatter3d": [
           {
            "line": {
             "colorbar": {
              "outlinewidth": 0,
              "ticks": ""
             }
            },
            "marker": {
             "colorbar": {
              "outlinewidth": 0,
              "ticks": ""
             }
            },
            "type": "scatter3d"
           }
          ],
          "scattercarpet": [
           {
            "marker": {
             "colorbar": {
              "outlinewidth": 0,
              "ticks": ""
             }
            },
            "type": "scattercarpet"
           }
          ],
          "scattergeo": [
           {
            "marker": {
             "colorbar": {
              "outlinewidth": 0,
              "ticks": ""
             }
            },
            "type": "scattergeo"
           }
          ],
          "scattergl": [
           {
            "marker": {
             "colorbar": {
              "outlinewidth": 0,
              "ticks": ""
             }
            },
            "type": "scattergl"
           }
          ],
          "scattermapbox": [
           {
            "marker": {
             "colorbar": {
              "outlinewidth": 0,
              "ticks": ""
             }
            },
            "type": "scattermapbox"
           }
          ],
          "scatterpolar": [
           {
            "marker": {
             "colorbar": {
              "outlinewidth": 0,
              "ticks": ""
             }
            },
            "type": "scatterpolar"
           }
          ],
          "scatterpolargl": [
           {
            "marker": {
             "colorbar": {
              "outlinewidth": 0,
              "ticks": ""
             }
            },
            "type": "scatterpolargl"
           }
          ],
          "scatterternary": [
           {
            "marker": {
             "colorbar": {
              "outlinewidth": 0,
              "ticks": ""
             }
            },
            "type": "scatterternary"
           }
          ],
          "surface": [
           {
            "colorbar": {
             "outlinewidth": 0,
             "ticks": ""
            },
            "colorscale": [
             [
              0,
              "#0d0887"
             ],
             [
              0.1111111111111111,
              "#46039f"
             ],
             [
              0.2222222222222222,
              "#7201a8"
             ],
             [
              0.3333333333333333,
              "#9c179e"
             ],
             [
              0.4444444444444444,
              "#bd3786"
             ],
             [
              0.5555555555555556,
              "#d8576b"
             ],
             [
              0.6666666666666666,
              "#ed7953"
             ],
             [
              0.7777777777777778,
              "#fb9f3a"
             ],
             [
              0.8888888888888888,
              "#fdca26"
             ],
             [
              1,
              "#f0f921"
             ]
            ],
            "type": "surface"
           }
          ],
          "table": [
           {
            "cells": {
             "fill": {
              "color": "#EBF0F8"
             },
             "line": {
              "color": "white"
             }
            },
            "header": {
             "fill": {
              "color": "#C8D4E3"
             },
             "line": {
              "color": "white"
             }
            },
            "type": "table"
           }
          ]
         },
         "layout": {
          "annotationdefaults": {
           "arrowcolor": "#2a3f5f",
           "arrowhead": 0,
           "arrowwidth": 1
          },
          "autotypenumbers": "strict",
          "coloraxis": {
           "colorbar": {
            "outlinewidth": 0,
            "ticks": ""
           }
          },
          "colorscale": {
           "diverging": [
            [
             0,
             "#8e0152"
            ],
            [
             0.1,
             "#c51b7d"
            ],
            [
             0.2,
             "#de77ae"
            ],
            [
             0.3,
             "#f1b6da"
            ],
            [
             0.4,
             "#fde0ef"
            ],
            [
             0.5,
             "#f7f7f7"
            ],
            [
             0.6,
             "#e6f5d0"
            ],
            [
             0.7,
             "#b8e186"
            ],
            [
             0.8,
             "#7fbc41"
            ],
            [
             0.9,
             "#4d9221"
            ],
            [
             1,
             "#276419"
            ]
           ],
           "sequential": [
            [
             0,
             "#0d0887"
            ],
            [
             0.1111111111111111,
             "#46039f"
            ],
            [
             0.2222222222222222,
             "#7201a8"
            ],
            [
             0.3333333333333333,
             "#9c179e"
            ],
            [
             0.4444444444444444,
             "#bd3786"
            ],
            [
             0.5555555555555556,
             "#d8576b"
            ],
            [
             0.6666666666666666,
             "#ed7953"
            ],
            [
             0.7777777777777778,
             "#fb9f3a"
            ],
            [
             0.8888888888888888,
             "#fdca26"
            ],
            [
             1,
             "#f0f921"
            ]
           ],
           "sequentialminus": [
            [
             0,
             "#0d0887"
            ],
            [
             0.1111111111111111,
             "#46039f"
            ],
            [
             0.2222222222222222,
             "#7201a8"
            ],
            [
             0.3333333333333333,
             "#9c179e"
            ],
            [
             0.4444444444444444,
             "#bd3786"
            ],
            [
             0.5555555555555556,
             "#d8576b"
            ],
            [
             0.6666666666666666,
             "#ed7953"
            ],
            [
             0.7777777777777778,
             "#fb9f3a"
            ],
            [
             0.8888888888888888,
             "#fdca26"
            ],
            [
             1,
             "#f0f921"
            ]
           ]
          },
          "colorway": [
           "#636efa",
           "#EF553B",
           "#00cc96",
           "#ab63fa",
           "#FFA15A",
           "#19d3f3",
           "#FF6692",
           "#B6E880",
           "#FF97FF",
           "#FECB52"
          ],
          "font": {
           "color": "#2a3f5f"
          },
          "geo": {
           "bgcolor": "white",
           "lakecolor": "white",
           "landcolor": "#E5ECF6",
           "showlakes": true,
           "showland": true,
           "subunitcolor": "white"
          },
          "hoverlabel": {
           "align": "left"
          },
          "hovermode": "closest",
          "mapbox": {
           "style": "light"
          },
          "paper_bgcolor": "white",
          "plot_bgcolor": "#E5ECF6",
          "polar": {
           "angularaxis": {
            "gridcolor": "white",
            "linecolor": "white",
            "ticks": ""
           },
           "bgcolor": "#E5ECF6",
           "radialaxis": {
            "gridcolor": "white",
            "linecolor": "white",
            "ticks": ""
           }
          },
          "scene": {
           "xaxis": {
            "backgroundcolor": "#E5ECF6",
            "gridcolor": "white",
            "gridwidth": 2,
            "linecolor": "white",
            "showbackground": true,
            "ticks": "",
            "zerolinecolor": "white"
           },
           "yaxis": {
            "backgroundcolor": "#E5ECF6",
            "gridcolor": "white",
            "gridwidth": 2,
            "linecolor": "white",
            "showbackground": true,
            "ticks": "",
            "zerolinecolor": "white"
           },
           "zaxis": {
            "backgroundcolor": "#E5ECF6",
            "gridcolor": "white",
            "gridwidth": 2,
            "linecolor": "white",
            "showbackground": true,
            "ticks": "",
            "zerolinecolor": "white"
           }
          },
          "shapedefaults": {
           "line": {
            "color": "#2a3f5f"
           }
          },
          "ternary": {
           "aaxis": {
            "gridcolor": "white",
            "linecolor": "white",
            "ticks": ""
           },
           "baxis": {
            "gridcolor": "white",
            "linecolor": "white",
            "ticks": ""
           },
           "bgcolor": "#E5ECF6",
           "caxis": {
            "gridcolor": "white",
            "linecolor": "white",
            "ticks": ""
           }
          },
          "title": {
           "x": 0.05
          },
          "xaxis": {
           "automargin": true,
           "gridcolor": "white",
           "linecolor": "white",
           "ticks": "",
           "title": {
            "standoff": 15
           },
           "zerolinecolor": "white",
           "zerolinewidth": 2
          },
          "yaxis": {
           "automargin": true,
           "gridcolor": "white",
           "linecolor": "white",
           "ticks": "",
           "title": {
            "standoff": 15
           },
           "zerolinecolor": "white",
           "zerolinewidth": 2
          }
         }
        },
        "xaxis": {
         "anchor": "y",
         "domain": [
          0,
          1
         ],
         "gridcolor": "lightgray",
         "title": {
          "text": "Quarter"
         }
        },
        "yaxis": {
         "anchor": "x",
         "domain": [
          0,
          1
         ],
         "gridcolor": "lightgray",
         "title": {
          "text": "percentage_error (%)"
         }
        }
       }
      }
     },
     "metadata": {},
     "output_type": "display_data"
    }
   ],
   "source": [
    "# Align dataframes based on 'timestamp', 'Tech'\n",
    "gen_compare_Q = pd.merge(gen_res, gen_disp, on=['timestamp', 'Tech'])\n",
    "gen_compare_Q['Quarter'] = gen_compare_Q['timestamp'].apply(lambda x: x[:7])\n",
    "\n",
    "gen_compare_Q = gen_compare_Q.groupby(['Quarter','Tech']).agg({\n",
    "    'DispatchGen_MW_xm': 'mean', 'DispatchGen_MW_sw' : 'mean'\n",
    "}).reset_index()\n",
    "\n",
    "# Calculate error percentage\n",
    "gen_compare_Q['percentage_error (%)'] = 100 * ((gen_compare_Q['DispatchGen_MW_sw'] / gen_compare_Q['DispatchGen_MW_xm']) -1)\n",
    "#print(gen_compare_Q.head(5))\n",
    "import plotly.express as px\n",
    "fig = px.line(\n",
    "    gen_compare_Q, \n",
    "    x='Quarter', y='percentage_error (%)', \n",
    "    color='Tech')\n",
    "fig.update_layout(plot_bgcolor='white',xaxis=dict(gridcolor='lightgray'),yaxis=dict(gridcolor='lightgray'))\n",
    "fig.show()"
   ]
  },
  {
   "cell_type": "code",
   "execution_count": 79,
   "metadata": {},
   "outputs": [
    {
     "name": "stdout",
     "output_type": "stream",
     "text": [
      "Error by Tech (Year)\n"
     ]
    },
    {
     "data": {
      "text/html": [
       "<div>\n",
       "<style scoped>\n",
       "    .dataframe tbody tr th:only-of-type {\n",
       "        vertical-align: middle;\n",
       "    }\n",
       "\n",
       "    .dataframe tbody tr th {\n",
       "        vertical-align: top;\n",
       "    }\n",
       "\n",
       "    .dataframe thead th {\n",
       "        text-align: right;\n",
       "    }\n",
       "</style>\n",
       "<table border=\"1\" class=\"dataframe\">\n",
       "  <thead>\n",
       "    <tr style=\"text-align: right;\">\n",
       "      <th></th>\n",
       "      <th>Tech</th>\n",
       "      <th>DispatchGen_MW_xm</th>\n",
       "      <th>DispatchGen_MW_sw</th>\n",
       "      <th>percentage</th>\n",
       "    </tr>\n",
       "  </thead>\n",
       "  <tbody>\n",
       "    <tr>\n",
       "      <th>0</th>\n",
       "      <td>Eolica</td>\n",
       "      <td>18.755296</td>\n",
       "      <td>24.543755</td>\n",
       "      <td>0.308631</td>\n",
       "    </tr>\n",
       "    <tr>\n",
       "      <th>1</th>\n",
       "      <td>Hidro</td>\n",
       "      <td>6613.706746</td>\n",
       "      <td>6863.502624</td>\n",
       "      <td>0.037769</td>\n",
       "    </tr>\n",
       "    <tr>\n",
       "      <th>2</th>\n",
       "      <td>Menores</td>\n",
       "      <td>89.051693</td>\n",
       "      <td>131.747254</td>\n",
       "      <td>0.479447</td>\n",
       "    </tr>\n",
       "    <tr>\n",
       "      <th>3</th>\n",
       "      <td>Solar</td>\n",
       "      <td>122.227058</td>\n",
       "      <td>159.587176</td>\n",
       "      <td>0.305662</td>\n",
       "    </tr>\n",
       "    <tr>\n",
       "      <th>4</th>\n",
       "      <td>Thermal</td>\n",
       "      <td>1836.659252</td>\n",
       "      <td>1644.438106</td>\n",
       "      <td>-0.104658</td>\n",
       "    </tr>\n",
       "  </tbody>\n",
       "</table>\n",
       "</div>"
      ],
      "text/plain": [
       "      Tech  DispatchGen_MW_xm  DispatchGen_MW_sw  percentage\n",
       "0   Eolica          18.755296          24.543755    0.308631\n",
       "1    Hidro        6613.706746        6863.502624    0.037769\n",
       "2  Menores          89.051693         131.747254    0.479447\n",
       "3    Solar         122.227058         159.587176    0.305662\n",
       "4  Thermal        1836.659252        1644.438106   -0.104658"
      ]
     },
     "execution_count": 79,
     "metadata": {},
     "output_type": "execute_result"
    }
   ],
   "source": [
    "# Alinear los dataframes usando merge\n",
    "gen_compare_year = pd.merge(gen_res, gen_disp, on=['timestamp', 'Tech'])\n",
    "\n",
    "gen_compare_year = gen_compare_Q.groupby(['Tech']).agg({\n",
    "    'DispatchGen_MW_xm': 'mean', 'DispatchGen_MW_sw' : 'mean'\n",
    "}).reset_index()\n",
    "\n",
    "# Calcular el porcentaje\n",
    "gen_compare_year['percentage'] = (gen_compare_year['DispatchGen_MW_sw'] / gen_compare_year['DispatchGen_MW_xm']) - 1\n",
    "print('Error by Tech (Year)')\n",
    "gen_compare_year"
   ]
  },
  {
   "cell_type": "code",
   "execution_count": 80,
   "metadata": {},
   "outputs": [
    {
     "name": "stdout",
     "output_type": "stream",
     "text": [
      "Average error percentage: 1.652215%\n"
     ]
    }
   ],
   "source": [
    "# Promedio ponderado de GeneReal y percentage\n",
    "weighted_avg_percentage = \\\n",
    "    (gen_compare_year['DispatchGen_MW_xm'] * gen_compare_year['percentage']).sum() / gen_compare_year['DispatchGen_MW_xm'].sum()\n",
    "print(f\"Average error percentage: {weighted_avg_percentage*100:.6f}%\")"
   ]
  },
  {
   "cell_type": "code",
   "execution_count": 81,
   "metadata": {},
   "outputs": [
    {
     "data": {
      "application/vnd.plotly.v1+json": {
       "config": {
        "plotlyServerURL": "https://plot.ly"
       },
       "data": [
        {
         "alignmentgroup": "True",
         "hovertemplate": "Year=%{x}<br>Annual Emissions (MtCO2)=%{text}<extra></extra>",
         "legendgroup": "",
         "marker": {
          "color": "#636efa",
          "pattern": {
           "shape": ""
          }
         },
         "name": "",
         "offsetgroup": "",
         "orientation": "v",
         "showlegend": false,
         "text": [
          13.264,
          14.0326
         ],
         "textposition": "outside",
         "texttemplate": "%{text:.2f}",
         "type": "bar",
         "x": [
          2023,
          2024
         ],
         "xaxis": "x",
         "y": [
          13.264,
          14.0326
         ],
         "yaxis": "y"
        }
       ],
       "layout": {
        "barmode": "relative",
        "legend": {
         "tracegroupgap": 0
        },
        "margin": {
         "t": 60
        },
        "template": {
         "data": {
          "bar": [
           {
            "error_x": {
             "color": "#2a3f5f"
            },
            "error_y": {
             "color": "#2a3f5f"
            },
            "marker": {
             "line": {
              "color": "#E5ECF6",
              "width": 0.5
             },
             "pattern": {
              "fillmode": "overlay",
              "size": 10,
              "solidity": 0.2
             }
            },
            "type": "bar"
           }
          ],
          "barpolar": [
           {
            "marker": {
             "line": {
              "color": "#E5ECF6",
              "width": 0.5
             },
             "pattern": {
              "fillmode": "overlay",
              "size": 10,
              "solidity": 0.2
             }
            },
            "type": "barpolar"
           }
          ],
          "carpet": [
           {
            "aaxis": {
             "endlinecolor": "#2a3f5f",
             "gridcolor": "white",
             "linecolor": "white",
             "minorgridcolor": "white",
             "startlinecolor": "#2a3f5f"
            },
            "baxis": {
             "endlinecolor": "#2a3f5f",
             "gridcolor": "white",
             "linecolor": "white",
             "minorgridcolor": "white",
             "startlinecolor": "#2a3f5f"
            },
            "type": "carpet"
           }
          ],
          "choropleth": [
           {
            "colorbar": {
             "outlinewidth": 0,
             "ticks": ""
            },
            "type": "choropleth"
           }
          ],
          "contour": [
           {
            "colorbar": {
             "outlinewidth": 0,
             "ticks": ""
            },
            "colorscale": [
             [
              0,
              "#0d0887"
             ],
             [
              0.1111111111111111,
              "#46039f"
             ],
             [
              0.2222222222222222,
              "#7201a8"
             ],
             [
              0.3333333333333333,
              "#9c179e"
             ],
             [
              0.4444444444444444,
              "#bd3786"
             ],
             [
              0.5555555555555556,
              "#d8576b"
             ],
             [
              0.6666666666666666,
              "#ed7953"
             ],
             [
              0.7777777777777778,
              "#fb9f3a"
             ],
             [
              0.8888888888888888,
              "#fdca26"
             ],
             [
              1,
              "#f0f921"
             ]
            ],
            "type": "contour"
           }
          ],
          "contourcarpet": [
           {
            "colorbar": {
             "outlinewidth": 0,
             "ticks": ""
            },
            "type": "contourcarpet"
           }
          ],
          "heatmap": [
           {
            "colorbar": {
             "outlinewidth": 0,
             "ticks": ""
            },
            "colorscale": [
             [
              0,
              "#0d0887"
             ],
             [
              0.1111111111111111,
              "#46039f"
             ],
             [
              0.2222222222222222,
              "#7201a8"
             ],
             [
              0.3333333333333333,
              "#9c179e"
             ],
             [
              0.4444444444444444,
              "#bd3786"
             ],
             [
              0.5555555555555556,
              "#d8576b"
             ],
             [
              0.6666666666666666,
              "#ed7953"
             ],
             [
              0.7777777777777778,
              "#fb9f3a"
             ],
             [
              0.8888888888888888,
              "#fdca26"
             ],
             [
              1,
              "#f0f921"
             ]
            ],
            "type": "heatmap"
           }
          ],
          "heatmapgl": [
           {
            "colorbar": {
             "outlinewidth": 0,
             "ticks": ""
            },
            "colorscale": [
             [
              0,
              "#0d0887"
             ],
             [
              0.1111111111111111,
              "#46039f"
             ],
             [
              0.2222222222222222,
              "#7201a8"
             ],
             [
              0.3333333333333333,
              "#9c179e"
             ],
             [
              0.4444444444444444,
              "#bd3786"
             ],
             [
              0.5555555555555556,
              "#d8576b"
             ],
             [
              0.6666666666666666,
              "#ed7953"
             ],
             [
              0.7777777777777778,
              "#fb9f3a"
             ],
             [
              0.8888888888888888,
              "#fdca26"
             ],
             [
              1,
              "#f0f921"
             ]
            ],
            "type": "heatmapgl"
           }
          ],
          "histogram": [
           {
            "marker": {
             "pattern": {
              "fillmode": "overlay",
              "size": 10,
              "solidity": 0.2
             }
            },
            "type": "histogram"
           }
          ],
          "histogram2d": [
           {
            "colorbar": {
             "outlinewidth": 0,
             "ticks": ""
            },
            "colorscale": [
             [
              0,
              "#0d0887"
             ],
             [
              0.1111111111111111,
              "#46039f"
             ],
             [
              0.2222222222222222,
              "#7201a8"
             ],
             [
              0.3333333333333333,
              "#9c179e"
             ],
             [
              0.4444444444444444,
              "#bd3786"
             ],
             [
              0.5555555555555556,
              "#d8576b"
             ],
             [
              0.6666666666666666,
              "#ed7953"
             ],
             [
              0.7777777777777778,
              "#fb9f3a"
             ],
             [
              0.8888888888888888,
              "#fdca26"
             ],
             [
              1,
              "#f0f921"
             ]
            ],
            "type": "histogram2d"
           }
          ],
          "histogram2dcontour": [
           {
            "colorbar": {
             "outlinewidth": 0,
             "ticks": ""
            },
            "colorscale": [
             [
              0,
              "#0d0887"
             ],
             [
              0.1111111111111111,
              "#46039f"
             ],
             [
              0.2222222222222222,
              "#7201a8"
             ],
             [
              0.3333333333333333,
              "#9c179e"
             ],
             [
              0.4444444444444444,
              "#bd3786"
             ],
             [
              0.5555555555555556,
              "#d8576b"
             ],
             [
              0.6666666666666666,
              "#ed7953"
             ],
             [
              0.7777777777777778,
              "#fb9f3a"
             ],
             [
              0.8888888888888888,
              "#fdca26"
             ],
             [
              1,
              "#f0f921"
             ]
            ],
            "type": "histogram2dcontour"
           }
          ],
          "mesh3d": [
           {
            "colorbar": {
             "outlinewidth": 0,
             "ticks": ""
            },
            "type": "mesh3d"
           }
          ],
          "parcoords": [
           {
            "line": {
             "colorbar": {
              "outlinewidth": 0,
              "ticks": ""
             }
            },
            "type": "parcoords"
           }
          ],
          "pie": [
           {
            "automargin": true,
            "type": "pie"
           }
          ],
          "scatter": [
           {
            "fillpattern": {
             "fillmode": "overlay",
             "size": 10,
             "solidity": 0.2
            },
            "type": "scatter"
           }
          ],
          "scatter3d": [
           {
            "line": {
             "colorbar": {
              "outlinewidth": 0,
              "ticks": ""
             }
            },
            "marker": {
             "colorbar": {
              "outlinewidth": 0,
              "ticks": ""
             }
            },
            "type": "scatter3d"
           }
          ],
          "scattercarpet": [
           {
            "marker": {
             "colorbar": {
              "outlinewidth": 0,
              "ticks": ""
             }
            },
            "type": "scattercarpet"
           }
          ],
          "scattergeo": [
           {
            "marker": {
             "colorbar": {
              "outlinewidth": 0,
              "ticks": ""
             }
            },
            "type": "scattergeo"
           }
          ],
          "scattergl": [
           {
            "marker": {
             "colorbar": {
              "outlinewidth": 0,
              "ticks": ""
             }
            },
            "type": "scattergl"
           }
          ],
          "scattermapbox": [
           {
            "marker": {
             "colorbar": {
              "outlinewidth": 0,
              "ticks": ""
             }
            },
            "type": "scattermapbox"
           }
          ],
          "scatterpolar": [
           {
            "marker": {
             "colorbar": {
              "outlinewidth": 0,
              "ticks": ""
             }
            },
            "type": "scatterpolar"
           }
          ],
          "scatterpolargl": [
           {
            "marker": {
             "colorbar": {
              "outlinewidth": 0,
              "ticks": ""
             }
            },
            "type": "scatterpolargl"
           }
          ],
          "scatterternary": [
           {
            "marker": {
             "colorbar": {
              "outlinewidth": 0,
              "ticks": ""
             }
            },
            "type": "scatterternary"
           }
          ],
          "surface": [
           {
            "colorbar": {
             "outlinewidth": 0,
             "ticks": ""
            },
            "colorscale": [
             [
              0,
              "#0d0887"
             ],
             [
              0.1111111111111111,
              "#46039f"
             ],
             [
              0.2222222222222222,
              "#7201a8"
             ],
             [
              0.3333333333333333,
              "#9c179e"
             ],
             [
              0.4444444444444444,
              "#bd3786"
             ],
             [
              0.5555555555555556,
              "#d8576b"
             ],
             [
              0.6666666666666666,
              "#ed7953"
             ],
             [
              0.7777777777777778,
              "#fb9f3a"
             ],
             [
              0.8888888888888888,
              "#fdca26"
             ],
             [
              1,
              "#f0f921"
             ]
            ],
            "type": "surface"
           }
          ],
          "table": [
           {
            "cells": {
             "fill": {
              "color": "#EBF0F8"
             },
             "line": {
              "color": "white"
             }
            },
            "header": {
             "fill": {
              "color": "#C8D4E3"
             },
             "line": {
              "color": "white"
             }
            },
            "type": "table"
           }
          ]
         },
         "layout": {
          "annotationdefaults": {
           "arrowcolor": "#2a3f5f",
           "arrowhead": 0,
           "arrowwidth": 1
          },
          "autotypenumbers": "strict",
          "coloraxis": {
           "colorbar": {
            "outlinewidth": 0,
            "ticks": ""
           }
          },
          "colorscale": {
           "diverging": [
            [
             0,
             "#8e0152"
            ],
            [
             0.1,
             "#c51b7d"
            ],
            [
             0.2,
             "#de77ae"
            ],
            [
             0.3,
             "#f1b6da"
            ],
            [
             0.4,
             "#fde0ef"
            ],
            [
             0.5,
             "#f7f7f7"
            ],
            [
             0.6,
             "#e6f5d0"
            ],
            [
             0.7,
             "#b8e186"
            ],
            [
             0.8,
             "#7fbc41"
            ],
            [
             0.9,
             "#4d9221"
            ],
            [
             1,
             "#276419"
            ]
           ],
           "sequential": [
            [
             0,
             "#0d0887"
            ],
            [
             0.1111111111111111,
             "#46039f"
            ],
            [
             0.2222222222222222,
             "#7201a8"
            ],
            [
             0.3333333333333333,
             "#9c179e"
            ],
            [
             0.4444444444444444,
             "#bd3786"
            ],
            [
             0.5555555555555556,
             "#d8576b"
            ],
            [
             0.6666666666666666,
             "#ed7953"
            ],
            [
             0.7777777777777778,
             "#fb9f3a"
            ],
            [
             0.8888888888888888,
             "#fdca26"
            ],
            [
             1,
             "#f0f921"
            ]
           ],
           "sequentialminus": [
            [
             0,
             "#0d0887"
            ],
            [
             0.1111111111111111,
             "#46039f"
            ],
            [
             0.2222222222222222,
             "#7201a8"
            ],
            [
             0.3333333333333333,
             "#9c179e"
            ],
            [
             0.4444444444444444,
             "#bd3786"
            ],
            [
             0.5555555555555556,
             "#d8576b"
            ],
            [
             0.6666666666666666,
             "#ed7953"
            ],
            [
             0.7777777777777778,
             "#fb9f3a"
            ],
            [
             0.8888888888888888,
             "#fdca26"
            ],
            [
             1,
             "#f0f921"
            ]
           ]
          },
          "colorway": [
           "#636efa",
           "#EF553B",
           "#00cc96",
           "#ab63fa",
           "#FFA15A",
           "#19d3f3",
           "#FF6692",
           "#B6E880",
           "#FF97FF",
           "#FECB52"
          ],
          "font": {
           "color": "#2a3f5f"
          },
          "geo": {
           "bgcolor": "white",
           "lakecolor": "white",
           "landcolor": "#E5ECF6",
           "showlakes": true,
           "showland": true,
           "subunitcolor": "white"
          },
          "hoverlabel": {
           "align": "left"
          },
          "hovermode": "closest",
          "mapbox": {
           "style": "light"
          },
          "paper_bgcolor": "white",
          "plot_bgcolor": "#E5ECF6",
          "polar": {
           "angularaxis": {
            "gridcolor": "white",
            "linecolor": "white",
            "ticks": ""
           },
           "bgcolor": "#E5ECF6",
           "radialaxis": {
            "gridcolor": "white",
            "linecolor": "white",
            "ticks": ""
           }
          },
          "scene": {
           "xaxis": {
            "backgroundcolor": "#E5ECF6",
            "gridcolor": "white",
            "gridwidth": 2,
            "linecolor": "white",
            "showbackground": true,
            "ticks": "",
            "zerolinecolor": "white"
           },
           "yaxis": {
            "backgroundcolor": "#E5ECF6",
            "gridcolor": "white",
            "gridwidth": 2,
            "linecolor": "white",
            "showbackground": true,
            "ticks": "",
            "zerolinecolor": "white"
           },
           "zaxis": {
            "backgroundcolor": "#E5ECF6",
            "gridcolor": "white",
            "gridwidth": 2,
            "linecolor": "white",
            "showbackground": true,
            "ticks": "",
            "zerolinecolor": "white"
           }
          },
          "shapedefaults": {
           "line": {
            "color": "#2a3f5f"
           }
          },
          "ternary": {
           "aaxis": {
            "gridcolor": "white",
            "linecolor": "white",
            "ticks": ""
           },
           "baxis": {
            "gridcolor": "white",
            "linecolor": "white",
            "ticks": ""
           },
           "bgcolor": "#E5ECF6",
           "caxis": {
            "gridcolor": "white",
            "linecolor": "white",
            "ticks": ""
           }
          },
          "title": {
           "x": 0.05
          },
          "xaxis": {
           "automargin": true,
           "gridcolor": "white",
           "linecolor": "white",
           "ticks": "",
           "title": {
            "standoff": 15
           },
           "zerolinecolor": "white",
           "zerolinewidth": 2
          },
          "yaxis": {
           "automargin": true,
           "gridcolor": "white",
           "linecolor": "white",
           "ticks": "",
           "title": {
            "standoff": 15
           },
           "zerolinecolor": "white",
           "zerolinewidth": 2
          }
         }
        },
        "xaxis": {
         "anchor": "y",
         "domain": [
          0,
          1
         ],
         "tickvals": [
          2023,
          2024
         ],
         "title": {
          "text": "Year"
         }
        },
        "yaxis": {
         "anchor": "x",
         "domain": [
          0,
          1
         ],
         "title": {
          "text": "Annual Emissions (MtCO2)"
         }
        }
       }
      }
     },
     "metadata": {},
     "output_type": "display_data"
    }
   ],
   "source": [
    "import pandas as pd\n",
    "import plotly.express as px\n",
    "\n",
    "model_outputs_path = '../../model/outputs/'\n",
    "\n",
    "# Cargar el archivo CSV\n",
    "emissions = pd.read_csv(model_outputs_path + 'emissions.csv')\n",
    "# Filtrar las columnas necesarias\n",
    "emissions = emissions[['PERIOD', 'AnnualEmissions_tCO2_per_yr']]\n",
    "# Convertir las emisiones a millones\n",
    "emissions['AnnualEmissions_tCO2_per_yr'] = emissions['AnnualEmissions_tCO2_per_yr'] / 1000000\n",
    "# Crear el gráfico de barras interactivo\n",
    "fig = px.bar(\n",
    "    emissions, x='PERIOD', y='AnnualEmissions_tCO2_per_yr',\n",
    "    labels={'AnnualEmissions_tCO2_per_yr': 'Annual Emissions (MtCO2)', 'PERIOD': 'Year'},\n",
    "    text='AnnualEmissions_tCO2_per_yr')\n",
    "# Mejorar la visualización\n",
    "fig.update_traces(texttemplate='%{text:.2f}', textposition='outside')\n",
    "fig.update_layout(xaxis=dict(tickvals=emissions['PERIOD'].to_list()))\n",
    "fig.show()"
   ]
  },
  {
   "cell_type": "code",
   "execution_count": 82,
   "metadata": {},
   "outputs": [
    {
     "data": {
      "application/vnd.plotly.v1+json": {
       "config": {
        "plotlyServerURL": "https://plot.ly"
       },
       "data": [
        {
         "alignmentgroup": "True",
         "hovertemplate": "Year=%{x}<br>Annual Emissions (MtCO2)=%{text}<extra></extra>",
         "legendgroup": "",
         "marker": {
          "color": "#636efa",
          "pattern": {
           "shape": ""
          }
         },
         "name": "",
         "offsetgroup": "",
         "orientation": "v",
         "showlegend": false,
         "text": [
          7.02,
          7.59,
          8.84,
          8.99,
          9.45,
          10.24,
          11.64,
          12.91,
          15.86,
          17.89,
          19.15,
          20.56,
          21.79,
          22.75
         ],
         "textposition": "outside",
         "texttemplate": "%{text:.2f}",
         "type": "bar",
         "x": [
          2024,
          2025,
          2026,
          2027,
          2028,
          2029,
          2030,
          2031,
          2032,
          2033,
          2034,
          2035,
          2036,
          2037
         ],
         "xaxis": "x",
         "y": [
          7.02,
          7.59,
          8.84,
          8.99,
          9.45,
          10.24,
          11.64,
          12.91,
          15.86,
          17.89,
          19.15,
          20.56,
          21.79,
          22.75
         ],
         "yaxis": "y"
        }
       ],
       "layout": {
        "barmode": "relative",
        "legend": {
         "tracegroupgap": 0
        },
        "margin": {
         "t": 60
        },
        "template": {
         "data": {
          "bar": [
           {
            "error_x": {
             "color": "#2a3f5f"
            },
            "error_y": {
             "color": "#2a3f5f"
            },
            "marker": {
             "line": {
              "color": "#E5ECF6",
              "width": 0.5
             },
             "pattern": {
              "fillmode": "overlay",
              "size": 10,
              "solidity": 0.2
             }
            },
            "type": "bar"
           }
          ],
          "barpolar": [
           {
            "marker": {
             "line": {
              "color": "#E5ECF6",
              "width": 0.5
             },
             "pattern": {
              "fillmode": "overlay",
              "size": 10,
              "solidity": 0.2
             }
            },
            "type": "barpolar"
           }
          ],
          "carpet": [
           {
            "aaxis": {
             "endlinecolor": "#2a3f5f",
             "gridcolor": "white",
             "linecolor": "white",
             "minorgridcolor": "white",
             "startlinecolor": "#2a3f5f"
            },
            "baxis": {
             "endlinecolor": "#2a3f5f",
             "gridcolor": "white",
             "linecolor": "white",
             "minorgridcolor": "white",
             "startlinecolor": "#2a3f5f"
            },
            "type": "carpet"
           }
          ],
          "choropleth": [
           {
            "colorbar": {
             "outlinewidth": 0,
             "ticks": ""
            },
            "type": "choropleth"
           }
          ],
          "contour": [
           {
            "colorbar": {
             "outlinewidth": 0,
             "ticks": ""
            },
            "colorscale": [
             [
              0,
              "#0d0887"
             ],
             [
              0.1111111111111111,
              "#46039f"
             ],
             [
              0.2222222222222222,
              "#7201a8"
             ],
             [
              0.3333333333333333,
              "#9c179e"
             ],
             [
              0.4444444444444444,
              "#bd3786"
             ],
             [
              0.5555555555555556,
              "#d8576b"
             ],
             [
              0.6666666666666666,
              "#ed7953"
             ],
             [
              0.7777777777777778,
              "#fb9f3a"
             ],
             [
              0.8888888888888888,
              "#fdca26"
             ],
             [
              1,
              "#f0f921"
             ]
            ],
            "type": "contour"
           }
          ],
          "contourcarpet": [
           {
            "colorbar": {
             "outlinewidth": 0,
             "ticks": ""
            },
            "type": "contourcarpet"
           }
          ],
          "heatmap": [
           {
            "colorbar": {
             "outlinewidth": 0,
             "ticks": ""
            },
            "colorscale": [
             [
              0,
              "#0d0887"
             ],
             [
              0.1111111111111111,
              "#46039f"
             ],
             [
              0.2222222222222222,
              "#7201a8"
             ],
             [
              0.3333333333333333,
              "#9c179e"
             ],
             [
              0.4444444444444444,
              "#bd3786"
             ],
             [
              0.5555555555555556,
              "#d8576b"
             ],
             [
              0.6666666666666666,
              "#ed7953"
             ],
             [
              0.7777777777777778,
              "#fb9f3a"
             ],
             [
              0.8888888888888888,
              "#fdca26"
             ],
             [
              1,
              "#f0f921"
             ]
            ],
            "type": "heatmap"
           }
          ],
          "heatmapgl": [
           {
            "colorbar": {
             "outlinewidth": 0,
             "ticks": ""
            },
            "colorscale": [
             [
              0,
              "#0d0887"
             ],
             [
              0.1111111111111111,
              "#46039f"
             ],
             [
              0.2222222222222222,
              "#7201a8"
             ],
             [
              0.3333333333333333,
              "#9c179e"
             ],
             [
              0.4444444444444444,
              "#bd3786"
             ],
             [
              0.5555555555555556,
              "#d8576b"
             ],
             [
              0.6666666666666666,
              "#ed7953"
             ],
             [
              0.7777777777777778,
              "#fb9f3a"
             ],
             [
              0.8888888888888888,
              "#fdca26"
             ],
             [
              1,
              "#f0f921"
             ]
            ],
            "type": "heatmapgl"
           }
          ],
          "histogram": [
           {
            "marker": {
             "pattern": {
              "fillmode": "overlay",
              "size": 10,
              "solidity": 0.2
             }
            },
            "type": "histogram"
           }
          ],
          "histogram2d": [
           {
            "colorbar": {
             "outlinewidth": 0,
             "ticks": ""
            },
            "colorscale": [
             [
              0,
              "#0d0887"
             ],
             [
              0.1111111111111111,
              "#46039f"
             ],
             [
              0.2222222222222222,
              "#7201a8"
             ],
             [
              0.3333333333333333,
              "#9c179e"
             ],
             [
              0.4444444444444444,
              "#bd3786"
             ],
             [
              0.5555555555555556,
              "#d8576b"
             ],
             [
              0.6666666666666666,
              "#ed7953"
             ],
             [
              0.7777777777777778,
              "#fb9f3a"
             ],
             [
              0.8888888888888888,
              "#fdca26"
             ],
             [
              1,
              "#f0f921"
             ]
            ],
            "type": "histogram2d"
           }
          ],
          "histogram2dcontour": [
           {
            "colorbar": {
             "outlinewidth": 0,
             "ticks": ""
            },
            "colorscale": [
             [
              0,
              "#0d0887"
             ],
             [
              0.1111111111111111,
              "#46039f"
             ],
             [
              0.2222222222222222,
              "#7201a8"
             ],
             [
              0.3333333333333333,
              "#9c179e"
             ],
             [
              0.4444444444444444,
              "#bd3786"
             ],
             [
              0.5555555555555556,
              "#d8576b"
             ],
             [
              0.6666666666666666,
              "#ed7953"
             ],
             [
              0.7777777777777778,
              "#fb9f3a"
             ],
             [
              0.8888888888888888,
              "#fdca26"
             ],
             [
              1,
              "#f0f921"
             ]
            ],
            "type": "histogram2dcontour"
           }
          ],
          "mesh3d": [
           {
            "colorbar": {
             "outlinewidth": 0,
             "ticks": ""
            },
            "type": "mesh3d"
           }
          ],
          "parcoords": [
           {
            "line": {
             "colorbar": {
              "outlinewidth": 0,
              "ticks": ""
             }
            },
            "type": "parcoords"
           }
          ],
          "pie": [
           {
            "automargin": true,
            "type": "pie"
           }
          ],
          "scatter": [
           {
            "fillpattern": {
             "fillmode": "overlay",
             "size": 10,
             "solidity": 0.2
            },
            "type": "scatter"
           }
          ],
          "scatter3d": [
           {
            "line": {
             "colorbar": {
              "outlinewidth": 0,
              "ticks": ""
             }
            },
            "marker": {
             "colorbar": {
              "outlinewidth": 0,
              "ticks": ""
             }
            },
            "type": "scatter3d"
           }
          ],
          "scattercarpet": [
           {
            "marker": {
             "colorbar": {
              "outlinewidth": 0,
              "ticks": ""
             }
            },
            "type": "scattercarpet"
           }
          ],
          "scattergeo": [
           {
            "marker": {
             "colorbar": {
              "outlinewidth": 0,
              "ticks": ""
             }
            },
            "type": "scattergeo"
           }
          ],
          "scattergl": [
           {
            "marker": {
             "colorbar": {
              "outlinewidth": 0,
              "ticks": ""
             }
            },
            "type": "scattergl"
           }
          ],
          "scattermapbox": [
           {
            "marker": {
             "colorbar": {
              "outlinewidth": 0,
              "ticks": ""
             }
            },
            "type": "scattermapbox"
           }
          ],
          "scatterpolar": [
           {
            "marker": {
             "colorbar": {
              "outlinewidth": 0,
              "ticks": ""
             }
            },
            "type": "scatterpolar"
           }
          ],
          "scatterpolargl": [
           {
            "marker": {
             "colorbar": {
              "outlinewidth": 0,
              "ticks": ""
             }
            },
            "type": "scatterpolargl"
           }
          ],
          "scatterternary": [
           {
            "marker": {
             "colorbar": {
              "outlinewidth": 0,
              "ticks": ""
             }
            },
            "type": "scatterternary"
           }
          ],
          "surface": [
           {
            "colorbar": {
             "outlinewidth": 0,
             "ticks": ""
            },
            "colorscale": [
             [
              0,
              "#0d0887"
             ],
             [
              0.1111111111111111,
              "#46039f"
             ],
             [
              0.2222222222222222,
              "#7201a8"
             ],
             [
              0.3333333333333333,
              "#9c179e"
             ],
             [
              0.4444444444444444,
              "#bd3786"
             ],
             [
              0.5555555555555556,
              "#d8576b"
             ],
             [
              0.6666666666666666,
              "#ed7953"
             ],
             [
              0.7777777777777778,
              "#fb9f3a"
             ],
             [
              0.8888888888888888,
              "#fdca26"
             ],
             [
              1,
              "#f0f921"
             ]
            ],
            "type": "surface"
           }
          ],
          "table": [
           {
            "cells": {
             "fill": {
              "color": "#EBF0F8"
             },
             "line": {
              "color": "white"
             }
            },
            "header": {
             "fill": {
              "color": "#C8D4E3"
             },
             "line": {
              "color": "white"
             }
            },
            "type": "table"
           }
          ]
         },
         "layout": {
          "annotationdefaults": {
           "arrowcolor": "#2a3f5f",
           "arrowhead": 0,
           "arrowwidth": 1
          },
          "autotypenumbers": "strict",
          "coloraxis": {
           "colorbar": {
            "outlinewidth": 0,
            "ticks": ""
           }
          },
          "colorscale": {
           "diverging": [
            [
             0,
             "#8e0152"
            ],
            [
             0.1,
             "#c51b7d"
            ],
            [
             0.2,
             "#de77ae"
            ],
            [
             0.3,
             "#f1b6da"
            ],
            [
             0.4,
             "#fde0ef"
            ],
            [
             0.5,
             "#f7f7f7"
            ],
            [
             0.6,
             "#e6f5d0"
            ],
            [
             0.7,
             "#b8e186"
            ],
            [
             0.8,
             "#7fbc41"
            ],
            [
             0.9,
             "#4d9221"
            ],
            [
             1,
             "#276419"
            ]
           ],
           "sequential": [
            [
             0,
             "#0d0887"
            ],
            [
             0.1111111111111111,
             "#46039f"
            ],
            [
             0.2222222222222222,
             "#7201a8"
            ],
            [
             0.3333333333333333,
             "#9c179e"
            ],
            [
             0.4444444444444444,
             "#bd3786"
            ],
            [
             0.5555555555555556,
             "#d8576b"
            ],
            [
             0.6666666666666666,
             "#ed7953"
            ],
            [
             0.7777777777777778,
             "#fb9f3a"
            ],
            [
             0.8888888888888888,
             "#fdca26"
            ],
            [
             1,
             "#f0f921"
            ]
           ],
           "sequentialminus": [
            [
             0,
             "#0d0887"
            ],
            [
             0.1111111111111111,
             "#46039f"
            ],
            [
             0.2222222222222222,
             "#7201a8"
            ],
            [
             0.3333333333333333,
             "#9c179e"
            ],
            [
             0.4444444444444444,
             "#bd3786"
            ],
            [
             0.5555555555555556,
             "#d8576b"
            ],
            [
             0.6666666666666666,
             "#ed7953"
            ],
            [
             0.7777777777777778,
             "#fb9f3a"
            ],
            [
             0.8888888888888888,
             "#fdca26"
            ],
            [
             1,
             "#f0f921"
            ]
           ]
          },
          "colorway": [
           "#636efa",
           "#EF553B",
           "#00cc96",
           "#ab63fa",
           "#FFA15A",
           "#19d3f3",
           "#FF6692",
           "#B6E880",
           "#FF97FF",
           "#FECB52"
          ],
          "font": {
           "color": "#2a3f5f"
          },
          "geo": {
           "bgcolor": "white",
           "lakecolor": "white",
           "landcolor": "#E5ECF6",
           "showlakes": true,
           "showland": true,
           "subunitcolor": "white"
          },
          "hoverlabel": {
           "align": "left"
          },
          "hovermode": "closest",
          "mapbox": {
           "style": "light"
          },
          "paper_bgcolor": "white",
          "plot_bgcolor": "#E5ECF6",
          "polar": {
           "angularaxis": {
            "gridcolor": "white",
            "linecolor": "white",
            "ticks": ""
           },
           "bgcolor": "#E5ECF6",
           "radialaxis": {
            "gridcolor": "white",
            "linecolor": "white",
            "ticks": ""
           }
          },
          "scene": {
           "xaxis": {
            "backgroundcolor": "#E5ECF6",
            "gridcolor": "white",
            "gridwidth": 2,
            "linecolor": "white",
            "showbackground": true,
            "ticks": "",
            "zerolinecolor": "white"
           },
           "yaxis": {
            "backgroundcolor": "#E5ECF6",
            "gridcolor": "white",
            "gridwidth": 2,
            "linecolor": "white",
            "showbackground": true,
            "ticks": "",
            "zerolinecolor": "white"
           },
           "zaxis": {
            "backgroundcolor": "#E5ECF6",
            "gridcolor": "white",
            "gridwidth": 2,
            "linecolor": "white",
            "showbackground": true,
            "ticks": "",
            "zerolinecolor": "white"
           }
          },
          "shapedefaults": {
           "line": {
            "color": "#2a3f5f"
           }
          },
          "ternary": {
           "aaxis": {
            "gridcolor": "white",
            "linecolor": "white",
            "ticks": ""
           },
           "baxis": {
            "gridcolor": "white",
            "linecolor": "white",
            "ticks": ""
           },
           "bgcolor": "#E5ECF6",
           "caxis": {
            "gridcolor": "white",
            "linecolor": "white",
            "ticks": ""
           }
          },
          "title": {
           "x": 0.05
          },
          "xaxis": {
           "automargin": true,
           "gridcolor": "white",
           "linecolor": "white",
           "ticks": "",
           "title": {
            "standoff": 15
           },
           "zerolinecolor": "white",
           "zerolinewidth": 2
          },
          "yaxis": {
           "automargin": true,
           "gridcolor": "white",
           "linecolor": "white",
           "ticks": "",
           "title": {
            "standoff": 15
           },
           "zerolinecolor": "white",
           "zerolinewidth": 2
          }
         }
        },
        "xaxis": {
         "anchor": "y",
         "domain": [
          0,
          1
         ],
         "tickvals": [
          2023,
          2024
         ],
         "title": {
          "text": "Year"
         }
        },
        "yaxis": {
         "anchor": "x",
         "domain": [
          0,
          1
         ],
         "title": {
          "text": "Annual Emissions (MtCO2)"
         }
        }
       }
      }
     },
     "metadata": {},
     "output_type": "display_data"
    }
   ],
   "source": [
    "import pandas as pd\n",
    "esc_ems = pd.read_csv('../../data/XM-API/Plan/emissions/esc0.csv')\n",
    "fig = px.bar(\n",
    "    esc_ems, x='PERIOD', y='AnnualEmissions_tCO2_per_yr',\n",
    "    labels={'AnnualEmissions_tCO2_per_yr': 'Annual Emissions (MtCO2)', 'PERIOD': 'Year'},\n",
    "    text='AnnualEmissions_tCO2_per_yr')\n",
    "# Mejorar la visualización\n",
    "fig.update_traces(texttemplate='%{text:.2f}', textposition='outside')\n",
    "fig.update_layout(xaxis=dict(tickvals=emissions['PERIOD'].to_list()))\n",
    "fig.show()"
   ]
  },
  {
   "cell_type": "code",
   "execution_count": 83,
   "metadata": {},
   "outputs": [
    {
     "data": {
      "application/vnd.plotly.v1+json": {
       "config": {
        "plotlyServerURL": "https://plot.ly"
       },
       "data": [
        {
         "domain": {
          "x": [
           0,
           0.45
          ],
          "y": [
           0,
           1
          ]
         },
         "hovertemplate": "gen_tech=%{label}<br>BuildGen=%{value}<extra></extra>",
         "labels": [
          "Eolica",
          "Hidro",
          "Menores",
          "Thermal",
          "pv_solar"
         ],
         "legendgroup": "",
         "name": "",
         "showlegend": true,
         "type": "pie",
         "values": [
          50.42,
          12988.792,
          184.76,
          5821.5,
          752.17
         ]
        },
        {
         "domain": {
          "x": [
           0.55,
           1
          ],
          "y": [
           0,
           1
          ]
         },
         "hovertemplate": "gen_tech=%{label}<br>BuildGen=%{value}<extra></extra>",
         "labels": [
          "Eolica",
          "Hidro",
          "Menores",
          "Thermal",
          "pv_solar"
         ],
         "legendgroup": "",
         "name": "",
         "showlegend": false,
         "type": "pie",
         "values": [
          1247.42,
          12988.792,
          184.76,
          5873.5,
          3195.0699999999997
         ]
        }
       ],
       "layout": {
        "annotations": [
         {
          "font": {
           "size": 16
          },
          "showarrow": false,
          "text": "2023",
          "x": 0.225,
          "xanchor": "center",
          "xref": "paper",
          "y": 1,
          "yanchor": "bottom",
          "yref": "paper"
         },
         {
          "font": {
           "size": 16
          },
          "showarrow": false,
          "text": "2037",
          "x": 0.775,
          "xanchor": "center",
          "xref": "paper",
          "y": 1,
          "yanchor": "bottom",
          "yref": "paper"
         }
        ],
        "template": {
         "data": {
          "bar": [
           {
            "error_x": {
             "color": "#2a3f5f"
            },
            "error_y": {
             "color": "#2a3f5f"
            },
            "marker": {
             "line": {
              "color": "#E5ECF6",
              "width": 0.5
             },
             "pattern": {
              "fillmode": "overlay",
              "size": 10,
              "solidity": 0.2
             }
            },
            "type": "bar"
           }
          ],
          "barpolar": [
           {
            "marker": {
             "line": {
              "color": "#E5ECF6",
              "width": 0.5
             },
             "pattern": {
              "fillmode": "overlay",
              "size": 10,
              "solidity": 0.2
             }
            },
            "type": "barpolar"
           }
          ],
          "carpet": [
           {
            "aaxis": {
             "endlinecolor": "#2a3f5f",
             "gridcolor": "white",
             "linecolor": "white",
             "minorgridcolor": "white",
             "startlinecolor": "#2a3f5f"
            },
            "baxis": {
             "endlinecolor": "#2a3f5f",
             "gridcolor": "white",
             "linecolor": "white",
             "minorgridcolor": "white",
             "startlinecolor": "#2a3f5f"
            },
            "type": "carpet"
           }
          ],
          "choropleth": [
           {
            "colorbar": {
             "outlinewidth": 0,
             "ticks": ""
            },
            "type": "choropleth"
           }
          ],
          "contour": [
           {
            "colorbar": {
             "outlinewidth": 0,
             "ticks": ""
            },
            "colorscale": [
             [
              0,
              "#0d0887"
             ],
             [
              0.1111111111111111,
              "#46039f"
             ],
             [
              0.2222222222222222,
              "#7201a8"
             ],
             [
              0.3333333333333333,
              "#9c179e"
             ],
             [
              0.4444444444444444,
              "#bd3786"
             ],
             [
              0.5555555555555556,
              "#d8576b"
             ],
             [
              0.6666666666666666,
              "#ed7953"
             ],
             [
              0.7777777777777778,
              "#fb9f3a"
             ],
             [
              0.8888888888888888,
              "#fdca26"
             ],
             [
              1,
              "#f0f921"
             ]
            ],
            "type": "contour"
           }
          ],
          "contourcarpet": [
           {
            "colorbar": {
             "outlinewidth": 0,
             "ticks": ""
            },
            "type": "contourcarpet"
           }
          ],
          "heatmap": [
           {
            "colorbar": {
             "outlinewidth": 0,
             "ticks": ""
            },
            "colorscale": [
             [
              0,
              "#0d0887"
             ],
             [
              0.1111111111111111,
              "#46039f"
             ],
             [
              0.2222222222222222,
              "#7201a8"
             ],
             [
              0.3333333333333333,
              "#9c179e"
             ],
             [
              0.4444444444444444,
              "#bd3786"
             ],
             [
              0.5555555555555556,
              "#d8576b"
             ],
             [
              0.6666666666666666,
              "#ed7953"
             ],
             [
              0.7777777777777778,
              "#fb9f3a"
             ],
             [
              0.8888888888888888,
              "#fdca26"
             ],
             [
              1,
              "#f0f921"
             ]
            ],
            "type": "heatmap"
           }
          ],
          "heatmapgl": [
           {
            "colorbar": {
             "outlinewidth": 0,
             "ticks": ""
            },
            "colorscale": [
             [
              0,
              "#0d0887"
             ],
             [
              0.1111111111111111,
              "#46039f"
             ],
             [
              0.2222222222222222,
              "#7201a8"
             ],
             [
              0.3333333333333333,
              "#9c179e"
             ],
             [
              0.4444444444444444,
              "#bd3786"
             ],
             [
              0.5555555555555556,
              "#d8576b"
             ],
             [
              0.6666666666666666,
              "#ed7953"
             ],
             [
              0.7777777777777778,
              "#fb9f3a"
             ],
             [
              0.8888888888888888,
              "#fdca26"
             ],
             [
              1,
              "#f0f921"
             ]
            ],
            "type": "heatmapgl"
           }
          ],
          "histogram": [
           {
            "marker": {
             "pattern": {
              "fillmode": "overlay",
              "size": 10,
              "solidity": 0.2
             }
            },
            "type": "histogram"
           }
          ],
          "histogram2d": [
           {
            "colorbar": {
             "outlinewidth": 0,
             "ticks": ""
            },
            "colorscale": [
             [
              0,
              "#0d0887"
             ],
             [
              0.1111111111111111,
              "#46039f"
             ],
             [
              0.2222222222222222,
              "#7201a8"
             ],
             [
              0.3333333333333333,
              "#9c179e"
             ],
             [
              0.4444444444444444,
              "#bd3786"
             ],
             [
              0.5555555555555556,
              "#d8576b"
             ],
             [
              0.6666666666666666,
              "#ed7953"
             ],
             [
              0.7777777777777778,
              "#fb9f3a"
             ],
             [
              0.8888888888888888,
              "#fdca26"
             ],
             [
              1,
              "#f0f921"
             ]
            ],
            "type": "histogram2d"
           }
          ],
          "histogram2dcontour": [
           {
            "colorbar": {
             "outlinewidth": 0,
             "ticks": ""
            },
            "colorscale": [
             [
              0,
              "#0d0887"
             ],
             [
              0.1111111111111111,
              "#46039f"
             ],
             [
              0.2222222222222222,
              "#7201a8"
             ],
             [
              0.3333333333333333,
              "#9c179e"
             ],
             [
              0.4444444444444444,
              "#bd3786"
             ],
             [
              0.5555555555555556,
              "#d8576b"
             ],
             [
              0.6666666666666666,
              "#ed7953"
             ],
             [
              0.7777777777777778,
              "#fb9f3a"
             ],
             [
              0.8888888888888888,
              "#fdca26"
             ],
             [
              1,
              "#f0f921"
             ]
            ],
            "type": "histogram2dcontour"
           }
          ],
          "mesh3d": [
           {
            "colorbar": {
             "outlinewidth": 0,
             "ticks": ""
            },
            "type": "mesh3d"
           }
          ],
          "parcoords": [
           {
            "line": {
             "colorbar": {
              "outlinewidth": 0,
              "ticks": ""
             }
            },
            "type": "parcoords"
           }
          ],
          "pie": [
           {
            "automargin": true,
            "type": "pie"
           }
          ],
          "scatter": [
           {
            "fillpattern": {
             "fillmode": "overlay",
             "size": 10,
             "solidity": 0.2
            },
            "type": "scatter"
           }
          ],
          "scatter3d": [
           {
            "line": {
             "colorbar": {
              "outlinewidth": 0,
              "ticks": ""
             }
            },
            "marker": {
             "colorbar": {
              "outlinewidth": 0,
              "ticks": ""
             }
            },
            "type": "scatter3d"
           }
          ],
          "scattercarpet": [
           {
            "marker": {
             "colorbar": {
              "outlinewidth": 0,
              "ticks": ""
             }
            },
            "type": "scattercarpet"
           }
          ],
          "scattergeo": [
           {
            "marker": {
             "colorbar": {
              "outlinewidth": 0,
              "ticks": ""
             }
            },
            "type": "scattergeo"
           }
          ],
          "scattergl": [
           {
            "marker": {
             "colorbar": {
              "outlinewidth": 0,
              "ticks": ""
             }
            },
            "type": "scattergl"
           }
          ],
          "scattermapbox": [
           {
            "marker": {
             "colorbar": {
              "outlinewidth": 0,
              "ticks": ""
             }
            },
            "type": "scattermapbox"
           }
          ],
          "scatterpolar": [
           {
            "marker": {
             "colorbar": {
              "outlinewidth": 0,
              "ticks": ""
             }
            },
            "type": "scatterpolar"
           }
          ],
          "scatterpolargl": [
           {
            "marker": {
             "colorbar": {
              "outlinewidth": 0,
              "ticks": ""
             }
            },
            "type": "scatterpolargl"
           }
          ],
          "scatterternary": [
           {
            "marker": {
             "colorbar": {
              "outlinewidth": 0,
              "ticks": ""
             }
            },
            "type": "scatterternary"
           }
          ],
          "surface": [
           {
            "colorbar": {
             "outlinewidth": 0,
             "ticks": ""
            },
            "colorscale": [
             [
              0,
              "#0d0887"
             ],
             [
              0.1111111111111111,
              "#46039f"
             ],
             [
              0.2222222222222222,
              "#7201a8"
             ],
             [
              0.3333333333333333,
              "#9c179e"
             ],
             [
              0.4444444444444444,
              "#bd3786"
             ],
             [
              0.5555555555555556,
              "#d8576b"
             ],
             [
              0.6666666666666666,
              "#ed7953"
             ],
             [
              0.7777777777777778,
              "#fb9f3a"
             ],
             [
              0.8888888888888888,
              "#fdca26"
             ],
             [
              1,
              "#f0f921"
             ]
            ],
            "type": "surface"
           }
          ],
          "table": [
           {
            "cells": {
             "fill": {
              "color": "#EBF0F8"
             },
             "line": {
              "color": "white"
             }
            },
            "header": {
             "fill": {
              "color": "#C8D4E3"
             },
             "line": {
              "color": "white"
             }
            },
            "type": "table"
           }
          ]
         },
         "layout": {
          "annotationdefaults": {
           "arrowcolor": "#2a3f5f",
           "arrowhead": 0,
           "arrowwidth": 1
          },
          "autotypenumbers": "strict",
          "coloraxis": {
           "colorbar": {
            "outlinewidth": 0,
            "ticks": ""
           }
          },
          "colorscale": {
           "diverging": [
            [
             0,
             "#8e0152"
            ],
            [
             0.1,
             "#c51b7d"
            ],
            [
             0.2,
             "#de77ae"
            ],
            [
             0.3,
             "#f1b6da"
            ],
            [
             0.4,
             "#fde0ef"
            ],
            [
             0.5,
             "#f7f7f7"
            ],
            [
             0.6,
             "#e6f5d0"
            ],
            [
             0.7,
             "#b8e186"
            ],
            [
             0.8,
             "#7fbc41"
            ],
            [
             0.9,
             "#4d9221"
            ],
            [
             1,
             "#276419"
            ]
           ],
           "sequential": [
            [
             0,
             "#0d0887"
            ],
            [
             0.1111111111111111,
             "#46039f"
            ],
            [
             0.2222222222222222,
             "#7201a8"
            ],
            [
             0.3333333333333333,
             "#9c179e"
            ],
            [
             0.4444444444444444,
             "#bd3786"
            ],
            [
             0.5555555555555556,
             "#d8576b"
            ],
            [
             0.6666666666666666,
             "#ed7953"
            ],
            [
             0.7777777777777778,
             "#fb9f3a"
            ],
            [
             0.8888888888888888,
             "#fdca26"
            ],
            [
             1,
             "#f0f921"
            ]
           ],
           "sequentialminus": [
            [
             0,
             "#0d0887"
            ],
            [
             0.1111111111111111,
             "#46039f"
            ],
            [
             0.2222222222222222,
             "#7201a8"
            ],
            [
             0.3333333333333333,
             "#9c179e"
            ],
            [
             0.4444444444444444,
             "#bd3786"
            ],
            [
             0.5555555555555556,
             "#d8576b"
            ],
            [
             0.6666666666666666,
             "#ed7953"
            ],
            [
             0.7777777777777778,
             "#fb9f3a"
            ],
            [
             0.8888888888888888,
             "#fdca26"
            ],
            [
             1,
             "#f0f921"
            ]
           ]
          },
          "colorway": [
           "#636efa",
           "#EF553B",
           "#00cc96",
           "#ab63fa",
           "#FFA15A",
           "#19d3f3",
           "#FF6692",
           "#B6E880",
           "#FF97FF",
           "#FECB52"
          ],
          "font": {
           "color": "#2a3f5f"
          },
          "geo": {
           "bgcolor": "white",
           "lakecolor": "white",
           "landcolor": "#E5ECF6",
           "showlakes": true,
           "showland": true,
           "subunitcolor": "white"
          },
          "hoverlabel": {
           "align": "left"
          },
          "hovermode": "closest",
          "mapbox": {
           "style": "light"
          },
          "paper_bgcolor": "white",
          "plot_bgcolor": "#E5ECF6",
          "polar": {
           "angularaxis": {
            "gridcolor": "white",
            "linecolor": "white",
            "ticks": ""
           },
           "bgcolor": "#E5ECF6",
           "radialaxis": {
            "gridcolor": "white",
            "linecolor": "white",
            "ticks": ""
           }
          },
          "scene": {
           "xaxis": {
            "backgroundcolor": "#E5ECF6",
            "gridcolor": "white",
            "gridwidth": 2,
            "linecolor": "white",
            "showbackground": true,
            "ticks": "",
            "zerolinecolor": "white"
           },
           "yaxis": {
            "backgroundcolor": "#E5ECF6",
            "gridcolor": "white",
            "gridwidth": 2,
            "linecolor": "white",
            "showbackground": true,
            "ticks": "",
            "zerolinecolor": "white"
           },
           "zaxis": {
            "backgroundcolor": "#E5ECF6",
            "gridcolor": "white",
            "gridwidth": 2,
            "linecolor": "white",
            "showbackground": true,
            "ticks": "",
            "zerolinecolor": "white"
           }
          },
          "shapedefaults": {
           "line": {
            "color": "#2a3f5f"
           }
          },
          "ternary": {
           "aaxis": {
            "gridcolor": "white",
            "linecolor": "white",
            "ticks": ""
           },
           "baxis": {
            "gridcolor": "white",
            "linecolor": "white",
            "ticks": ""
           },
           "bgcolor": "#E5ECF6",
           "caxis": {
            "gridcolor": "white",
            "linecolor": "white",
            "ticks": ""
           }
          },
          "title": {
           "x": 0.05
          },
          "xaxis": {
           "automargin": true,
           "gridcolor": "white",
           "linecolor": "white",
           "ticks": "",
           "title": {
            "standoff": 15
           },
           "zerolinecolor": "white",
           "zerolinewidth": 2
          },
          "yaxis": {
           "automargin": true,
           "gridcolor": "white",
           "linecolor": "white",
           "ticks": "",
           "title": {
            "standoff": 15
           },
           "zerolinecolor": "white",
           "zerolinewidth": 2
          }
         }
        }
       }
      }
     },
     "metadata": {},
     "output_type": "display_data"
    }
   ],
   "source": [
    "import pandas as pd\n",
    "model_outputs_path = '../../model/outputs/'\n",
    "model_inputs_path = '../../model/inputs/'\n",
    "cap_inst = pd.read_csv(model_outputs_path+'BuildGen.csv')\n",
    "\n",
    "gen_info = pd.read_csv(model_inputs_path+'gen_info.csv')\n",
    "#costs = gen_build_costs.merge(gen_info,on='GENERATION_PROJECT')\n",
    "cap_inst = pd.merge(cap_inst, gen_info, left_on='GEN_BLD_YRS_1',\n",
    "                    right_on='GENERATION_PROJECT', how='inner')\n",
    "## Remove disabled projects\n",
    "cap_inst = cap_inst[cap_inst['gen_max_age'] > 1]\n",
    "\n",
    "cap_inst = cap_inst[['GENERATION_PROJECT','gen_tech','GEN_BLD_YRS_2','BuildGen']]\n",
    "cap_inst_2023 = cap_inst[cap_inst['GEN_BLD_YRS_2'] <= 2023]\n",
    "cap_inst_2023 = cap_inst_2023.groupby(['gen_tech']).agg({\n",
    "    'BuildGen' : 'sum'}).reset_index()\n",
    "\n",
    "cap_inst = cap_inst[cap_inst['GEN_BLD_YRS_2'] <= 2037]\n",
    "cap_inst = cap_inst.groupby(['gen_tech']).agg({\n",
    "    'BuildGen' : 'sum'}).reset_index()\n",
    "\n",
    "# Create individual figures\n",
    "fig1 = px.pie(cap_inst_2023, names='gen_tech', values='BuildGen', title='Generation Reported (XM)')\n",
    "fig2 = px.pie(cap_inst, names='gen_tech', values='BuildGen', title='Generation Predicted (Switch)')\n",
    "\n",
    "# Create subplots with the 'type' argument set to 'domain' to accommodate pie charts\n",
    "fig = make_subplots(rows=1, cols=2, specs=[[{'type':'domain'}, {'type':'domain'}]], \n",
    "                    subplot_titles=(\"2023\", \"2037\"))\n",
    "\n",
    "# Add figures to the subplots\n",
    "for trace in fig1.data:\n",
    "    fig.add_trace(trace, row=1, col=1)\n",
    "\n",
    "for trace in fig2.data:\n",
    "    fig.add_trace(trace, row=1, col=2)\n",
    "\n",
    "# Ensure legend items show only once\n",
    "names = set()\n",
    "for trace in fig.data:\n",
    "    if (trace.name in names):\n",
    "        trace.showlegend = False\n",
    "    else:\n",
    "        names.add(trace.name)\n",
    "\n",
    "# Show the figure\n",
    "fig.show()"
   ]
  },
  {
   "cell_type": "code",
   "execution_count": 84,
   "metadata": {},
   "outputs": [
    {
     "data": {
      "application/vnd.plotly.v1+json": {
       "config": {
        "plotlyServerURL": "https://plot.ly"
       },
       "data": [
        {
         "domain": {
          "x": [
           0,
           0.45
          ],
          "y": [
           0,
           1
          ]
         },
         "hovertemplate": "gen_tech=%{label}<br>BuildGen=%{value}<extra></extra>",
         "labels": [
          "Eolica",
          "Hidro",
          "Menores",
          "Thermal",
          "pv_solar"
         ],
         "legendgroup": "",
         "name": "",
         "showlegend": true,
         "type": "pie",
         "values": [
          0,
          62.9,
          6.6,
          28.3,
          2.2
         ]
        },
        {
         "domain": {
          "x": [
           0.55,
           1
          ],
          "y": [
           0,
           1
          ]
         },
         "hovertemplate": "gen_tech=%{label}<br>BuildGen=%{value}<extra></extra>",
         "labels": [
          "Eolica",
          "Hidro",
          "Menores",
          "Thermal",
          "pv_solar"
         ],
         "legendgroup": "",
         "name": "",
         "showlegend": false,
         "type": "pie",
         "values": [
          5.1,
          52.8,
          5.5,
          23.9,
          12.7
         ]
        }
       ],
       "layout": {
        "annotations": [
         {
          "font": {
           "size": 16
          },
          "showarrow": false,
          "text": "2023",
          "x": 0.225,
          "xanchor": "center",
          "xref": "paper",
          "y": 1,
          "yanchor": "bottom",
          "yref": "paper"
         },
         {
          "font": {
           "size": 16
          },
          "showarrow": false,
          "text": "2037",
          "x": 0.775,
          "xanchor": "center",
          "xref": "paper",
          "y": 1,
          "yanchor": "bottom",
          "yref": "paper"
         }
        ],
        "template": {
         "data": {
          "bar": [
           {
            "error_x": {
             "color": "#2a3f5f"
            },
            "error_y": {
             "color": "#2a3f5f"
            },
            "marker": {
             "line": {
              "color": "#E5ECF6",
              "width": 0.5
             },
             "pattern": {
              "fillmode": "overlay",
              "size": 10,
              "solidity": 0.2
             }
            },
            "type": "bar"
           }
          ],
          "barpolar": [
           {
            "marker": {
             "line": {
              "color": "#E5ECF6",
              "width": 0.5
             },
             "pattern": {
              "fillmode": "overlay",
              "size": 10,
              "solidity": 0.2
             }
            },
            "type": "barpolar"
           }
          ],
          "carpet": [
           {
            "aaxis": {
             "endlinecolor": "#2a3f5f",
             "gridcolor": "white",
             "linecolor": "white",
             "minorgridcolor": "white",
             "startlinecolor": "#2a3f5f"
            },
            "baxis": {
             "endlinecolor": "#2a3f5f",
             "gridcolor": "white",
             "linecolor": "white",
             "minorgridcolor": "white",
             "startlinecolor": "#2a3f5f"
            },
            "type": "carpet"
           }
          ],
          "choropleth": [
           {
            "colorbar": {
             "outlinewidth": 0,
             "ticks": ""
            },
            "type": "choropleth"
           }
          ],
          "contour": [
           {
            "colorbar": {
             "outlinewidth": 0,
             "ticks": ""
            },
            "colorscale": [
             [
              0,
              "#0d0887"
             ],
             [
              0.1111111111111111,
              "#46039f"
             ],
             [
              0.2222222222222222,
              "#7201a8"
             ],
             [
              0.3333333333333333,
              "#9c179e"
             ],
             [
              0.4444444444444444,
              "#bd3786"
             ],
             [
              0.5555555555555556,
              "#d8576b"
             ],
             [
              0.6666666666666666,
              "#ed7953"
             ],
             [
              0.7777777777777778,
              "#fb9f3a"
             ],
             [
              0.8888888888888888,
              "#fdca26"
             ],
             [
              1,
              "#f0f921"
             ]
            ],
            "type": "contour"
           }
          ],
          "contourcarpet": [
           {
            "colorbar": {
             "outlinewidth": 0,
             "ticks": ""
            },
            "type": "contourcarpet"
           }
          ],
          "heatmap": [
           {
            "colorbar": {
             "outlinewidth": 0,
             "ticks": ""
            },
            "colorscale": [
             [
              0,
              "#0d0887"
             ],
             [
              0.1111111111111111,
              "#46039f"
             ],
             [
              0.2222222222222222,
              "#7201a8"
             ],
             [
              0.3333333333333333,
              "#9c179e"
             ],
             [
              0.4444444444444444,
              "#bd3786"
             ],
             [
              0.5555555555555556,
              "#d8576b"
             ],
             [
              0.6666666666666666,
              "#ed7953"
             ],
             [
              0.7777777777777778,
              "#fb9f3a"
             ],
             [
              0.8888888888888888,
              "#fdca26"
             ],
             [
              1,
              "#f0f921"
             ]
            ],
            "type": "heatmap"
           }
          ],
          "heatmapgl": [
           {
            "colorbar": {
             "outlinewidth": 0,
             "ticks": ""
            },
            "colorscale": [
             [
              0,
              "#0d0887"
             ],
             [
              0.1111111111111111,
              "#46039f"
             ],
             [
              0.2222222222222222,
              "#7201a8"
             ],
             [
              0.3333333333333333,
              "#9c179e"
             ],
             [
              0.4444444444444444,
              "#bd3786"
             ],
             [
              0.5555555555555556,
              "#d8576b"
             ],
             [
              0.6666666666666666,
              "#ed7953"
             ],
             [
              0.7777777777777778,
              "#fb9f3a"
             ],
             [
              0.8888888888888888,
              "#fdca26"
             ],
             [
              1,
              "#f0f921"
             ]
            ],
            "type": "heatmapgl"
           }
          ],
          "histogram": [
           {
            "marker": {
             "pattern": {
              "fillmode": "overlay",
              "size": 10,
              "solidity": 0.2
             }
            },
            "type": "histogram"
           }
          ],
          "histogram2d": [
           {
            "colorbar": {
             "outlinewidth": 0,
             "ticks": ""
            },
            "colorscale": [
             [
              0,
              "#0d0887"
             ],
             [
              0.1111111111111111,
              "#46039f"
             ],
             [
              0.2222222222222222,
              "#7201a8"
             ],
             [
              0.3333333333333333,
              "#9c179e"
             ],
             [
              0.4444444444444444,
              "#bd3786"
             ],
             [
              0.5555555555555556,
              "#d8576b"
             ],
             [
              0.6666666666666666,
              "#ed7953"
             ],
             [
              0.7777777777777778,
              "#fb9f3a"
             ],
             [
              0.8888888888888888,
              "#fdca26"
             ],
             [
              1,
              "#f0f921"
             ]
            ],
            "type": "histogram2d"
           }
          ],
          "histogram2dcontour": [
           {
            "colorbar": {
             "outlinewidth": 0,
             "ticks": ""
            },
            "colorscale": [
             [
              0,
              "#0d0887"
             ],
             [
              0.1111111111111111,
              "#46039f"
             ],
             [
              0.2222222222222222,
              "#7201a8"
             ],
             [
              0.3333333333333333,
              "#9c179e"
             ],
             [
              0.4444444444444444,
              "#bd3786"
             ],
             [
              0.5555555555555556,
              "#d8576b"
             ],
             [
              0.6666666666666666,
              "#ed7953"
             ],
             [
              0.7777777777777778,
              "#fb9f3a"
             ],
             [
              0.8888888888888888,
              "#fdca26"
             ],
             [
              1,
              "#f0f921"
             ]
            ],
            "type": "histogram2dcontour"
           }
          ],
          "mesh3d": [
           {
            "colorbar": {
             "outlinewidth": 0,
             "ticks": ""
            },
            "type": "mesh3d"
           }
          ],
          "parcoords": [
           {
            "line": {
             "colorbar": {
              "outlinewidth": 0,
              "ticks": ""
             }
            },
            "type": "parcoords"
           }
          ],
          "pie": [
           {
            "automargin": true,
            "type": "pie"
           }
          ],
          "scatter": [
           {
            "fillpattern": {
             "fillmode": "overlay",
             "size": 10,
             "solidity": 0.2
            },
            "type": "scatter"
           }
          ],
          "scatter3d": [
           {
            "line": {
             "colorbar": {
              "outlinewidth": 0,
              "ticks": ""
             }
            },
            "marker": {
             "colorbar": {
              "outlinewidth": 0,
              "ticks": ""
             }
            },
            "type": "scatter3d"
           }
          ],
          "scattercarpet": [
           {
            "marker": {
             "colorbar": {
              "outlinewidth": 0,
              "ticks": ""
             }
            },
            "type": "scattercarpet"
           }
          ],
          "scattergeo": [
           {
            "marker": {
             "colorbar": {
              "outlinewidth": 0,
              "ticks": ""
             }
            },
            "type": "scattergeo"
           }
          ],
          "scattergl": [
           {
            "marker": {
             "colorbar": {
              "outlinewidth": 0,
              "ticks": ""
             }
            },
            "type": "scattergl"
           }
          ],
          "scattermapbox": [
           {
            "marker": {
             "colorbar": {
              "outlinewidth": 0,
              "ticks": ""
             }
            },
            "type": "scattermapbox"
           }
          ],
          "scatterpolar": [
           {
            "marker": {
             "colorbar": {
              "outlinewidth": 0,
              "ticks": ""
             }
            },
            "type": "scatterpolar"
           }
          ],
          "scatterpolargl": [
           {
            "marker": {
             "colorbar": {
              "outlinewidth": 0,
              "ticks": ""
             }
            },
            "type": "scatterpolargl"
           }
          ],
          "scatterternary": [
           {
            "marker": {
             "colorbar": {
              "outlinewidth": 0,
              "ticks": ""
             }
            },
            "type": "scatterternary"
           }
          ],
          "surface": [
           {
            "colorbar": {
             "outlinewidth": 0,
             "ticks": ""
            },
            "colorscale": [
             [
              0,
              "#0d0887"
             ],
             [
              0.1111111111111111,
              "#46039f"
             ],
             [
              0.2222222222222222,
              "#7201a8"
             ],
             [
              0.3333333333333333,
              "#9c179e"
             ],
             [
              0.4444444444444444,
              "#bd3786"
             ],
             [
              0.5555555555555556,
              "#d8576b"
             ],
             [
              0.6666666666666666,
              "#ed7953"
             ],
             [
              0.7777777777777778,
              "#fb9f3a"
             ],
             [
              0.8888888888888888,
              "#fdca26"
             ],
             [
              1,
              "#f0f921"
             ]
            ],
            "type": "surface"
           }
          ],
          "table": [
           {
            "cells": {
             "fill": {
              "color": "#EBF0F8"
             },
             "line": {
              "color": "white"
             }
            },
            "header": {
             "fill": {
              "color": "#C8D4E3"
             },
             "line": {
              "color": "white"
             }
            },
            "type": "table"
           }
          ]
         },
         "layout": {
          "annotationdefaults": {
           "arrowcolor": "#2a3f5f",
           "arrowhead": 0,
           "arrowwidth": 1
          },
          "autotypenumbers": "strict",
          "coloraxis": {
           "colorbar": {
            "outlinewidth": 0,
            "ticks": ""
           }
          },
          "colorscale": {
           "diverging": [
            [
             0,
             "#8e0152"
            ],
            [
             0.1,
             "#c51b7d"
            ],
            [
             0.2,
             "#de77ae"
            ],
            [
             0.3,
             "#f1b6da"
            ],
            [
             0.4,
             "#fde0ef"
            ],
            [
             0.5,
             "#f7f7f7"
            ],
            [
             0.6,
             "#e6f5d0"
            ],
            [
             0.7,
             "#b8e186"
            ],
            [
             0.8,
             "#7fbc41"
            ],
            [
             0.9,
             "#4d9221"
            ],
            [
             1,
             "#276419"
            ]
           ],
           "sequential": [
            [
             0,
             "#0d0887"
            ],
            [
             0.1111111111111111,
             "#46039f"
            ],
            [
             0.2222222222222222,
             "#7201a8"
            ],
            [
             0.3333333333333333,
             "#9c179e"
            ],
            [
             0.4444444444444444,
             "#bd3786"
            ],
            [
             0.5555555555555556,
             "#d8576b"
            ],
            [
             0.6666666666666666,
             "#ed7953"
            ],
            [
             0.7777777777777778,
             "#fb9f3a"
            ],
            [
             0.8888888888888888,
             "#fdca26"
            ],
            [
             1,
             "#f0f921"
            ]
           ],
           "sequentialminus": [
            [
             0,
             "#0d0887"
            ],
            [
             0.1111111111111111,
             "#46039f"
            ],
            [
             0.2222222222222222,
             "#7201a8"
            ],
            [
             0.3333333333333333,
             "#9c179e"
            ],
            [
             0.4444444444444444,
             "#bd3786"
            ],
            [
             0.5555555555555556,
             "#d8576b"
            ],
            [
             0.6666666666666666,
             "#ed7953"
            ],
            [
             0.7777777777777778,
             "#fb9f3a"
            ],
            [
             0.8888888888888888,
             "#fdca26"
            ],
            [
             1,
             "#f0f921"
            ]
           ]
          },
          "colorway": [
           "#636efa",
           "#EF553B",
           "#00cc96",
           "#ab63fa",
           "#FFA15A",
           "#19d3f3",
           "#FF6692",
           "#B6E880",
           "#FF97FF",
           "#FECB52"
          ],
          "font": {
           "color": "#2a3f5f"
          },
          "geo": {
           "bgcolor": "white",
           "lakecolor": "white",
           "landcolor": "#E5ECF6",
           "showlakes": true,
           "showland": true,
           "subunitcolor": "white"
          },
          "hoverlabel": {
           "align": "left"
          },
          "hovermode": "closest",
          "mapbox": {
           "style": "light"
          },
          "paper_bgcolor": "white",
          "plot_bgcolor": "#E5ECF6",
          "polar": {
           "angularaxis": {
            "gridcolor": "white",
            "linecolor": "white",
            "ticks": ""
           },
           "bgcolor": "#E5ECF6",
           "radialaxis": {
            "gridcolor": "white",
            "linecolor": "white",
            "ticks": ""
           }
          },
          "scene": {
           "xaxis": {
            "backgroundcolor": "#E5ECF6",
            "gridcolor": "white",
            "gridwidth": 2,
            "linecolor": "white",
            "showbackground": true,
            "ticks": "",
            "zerolinecolor": "white"
           },
           "yaxis": {
            "backgroundcolor": "#E5ECF6",
            "gridcolor": "white",
            "gridwidth": 2,
            "linecolor": "white",
            "showbackground": true,
            "ticks": "",
            "zerolinecolor": "white"
           },
           "zaxis": {
            "backgroundcolor": "#E5ECF6",
            "gridcolor": "white",
            "gridwidth": 2,
            "linecolor": "white",
            "showbackground": true,
            "ticks": "",
            "zerolinecolor": "white"
           }
          },
          "shapedefaults": {
           "line": {
            "color": "#2a3f5f"
           }
          },
          "ternary": {
           "aaxis": {
            "gridcolor": "white",
            "linecolor": "white",
            "ticks": ""
           },
           "baxis": {
            "gridcolor": "white",
            "linecolor": "white",
            "ticks": ""
           },
           "bgcolor": "#E5ECF6",
           "caxis": {
            "gridcolor": "white",
            "linecolor": "white",
            "ticks": ""
           }
          },
          "title": {
           "x": 0.05
          },
          "xaxis": {
           "automargin": true,
           "gridcolor": "white",
           "linecolor": "white",
           "ticks": "",
           "title": {
            "standoff": 15
           },
           "zerolinecolor": "white",
           "zerolinewidth": 2
          },
          "yaxis": {
           "automargin": true,
           "gridcolor": "white",
           "linecolor": "white",
           "ticks": "",
           "title": {
            "standoff": 15
           },
           "zerolinecolor": "white",
           "zerolinewidth": 2
          }
         }
        }
       }
      }
     },
     "metadata": {},
     "output_type": "display_data"
    }
   ],
   "source": [
    "import pandas as pd\n",
    "esc_cap_2023 = pd.read_csv('../../data/XM-API/Plan/installed_capacity/esc0/2023.csv')\n",
    "esc_cap_2037 = pd.read_csv('../../data/XM-API/Plan/installed_capacity/esc0/2037.csv')\n",
    "\n",
    "# Create individual figures\n",
    "fig1 = px.pie(esc_cap_2023, names='gen_tech', values='BuildGen', title='Generation Reported (XM)')\n",
    "fig2 = px.pie(esc_cap_2037, names='gen_tech', values='BuildGen', title='Generation Predicted (Switch)')\n",
    "\n",
    "# Create subplots with the 'type' argument set to 'domain' to accommodate pie charts\n",
    "fig = make_subplots(rows=1, cols=2, specs=[[{'type':'domain'}, {'type':'domain'}]], \n",
    "                    subplot_titles=(\"2023\", \"2037\"))\n",
    "\n",
    "# Add figures to the subplots\n",
    "for trace in fig1.data: fig.add_trace(trace, row=1, col=1)\n",
    "for trace in fig2.data: fig.add_trace(trace, row=1, col=2)\n",
    "\n",
    "# Ensure legend items show only once\n",
    "names = set()\n",
    "for trace in fig.data:\n",
    "    if (trace.name in names): trace.showlegend = False\n",
    "    else: names.add(trace.name)\n",
    "\n",
    "# Show the figure\n",
    "fig.show()"
   ]
  }
 ],
 "metadata": {
  "kernelspec": {
   "display_name": "plot_switch",
   "language": "python",
   "name": "python3"
  },
  "language_info": {
   "codemirror_mode": {
    "name": "ipython",
    "version": 3
   },
   "file_extension": ".py",
   "mimetype": "text/x-python",
   "name": "python",
   "nbconvert_exporter": "python",
   "pygments_lexer": "ipython3",
   "version": "3.9.19"
  }
 },
 "nbformat": 4,
 "nbformat_minor": 2
}
