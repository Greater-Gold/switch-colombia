{
 "cells": [
  {
   "cell_type": "code",
   "execution_count": 1,
   "metadata": {},
   "outputs": [
    {
     "name": "stdout",
     "output_type": "stream",
     "text": [
      "185211810.9317301\n"
     ]
    },
    {
     "data": {
      "text/html": [
       "<div>\n",
       "<style scoped>\n",
       "    .dataframe tbody tr th:only-of-type {\n",
       "        vertical-align: middle;\n",
       "    }\n",
       "\n",
       "    .dataframe tbody tr th {\n",
       "        vertical-align: top;\n",
       "    }\n",
       "\n",
       "    .dataframe thead th {\n",
       "        text-align: right;\n",
       "    }\n",
       "</style>\n",
       "<table border=\"1\" class=\"dataframe\">\n",
       "  <thead>\n",
       "    <tr style=\"text-align: right;\">\n",
       "      <th></th>\n",
       "      <th>Values_Name</th>\n",
       "      <th>Value</th>\n",
       "      <th>Datetime</th>\n",
       "    </tr>\n",
       "  </thead>\n",
       "  <tbody>\n",
       "    <tr>\n",
       "      <th>0</th>\n",
       "      <td>EL POPAL</td>\n",
       "      <td>19.85625</td>\n",
       "      <td>2023-11-26</td>\n",
       "    </tr>\n",
       "    <tr>\n",
       "      <th>1</th>\n",
       "      <td>LA REBUSCA</td>\n",
       "      <td>0.65040</td>\n",
       "      <td>2023-11-26</td>\n",
       "    </tr>\n",
       "    <tr>\n",
       "      <th>2</th>\n",
       "      <td>BAJO TULUA</td>\n",
       "      <td>9.51840</td>\n",
       "      <td>2023-11-26</td>\n",
       "    </tr>\n",
       "  </tbody>\n",
       "</table>\n",
       "</div>"
      ],
      "text/plain": [
       "  Values_Name     Value   Datetime\n",
       "0    EL POPAL  19.85625 2023-11-26\n",
       "1  LA REBUSCA   0.65040 2023-11-26\n",
       "2  BAJO TULUA   9.51840 2023-11-26"
      ]
     },
     "execution_count": 1,
     "metadata": {},
     "output_type": "execute_result"
    }
   ],
   "source": [
    "import swcol as sc\n",
    "#sc.hydro_timeseries.to_swcol_names('../../model/inputs/',sc.hydro_capacitors.get_xm_reports(),2023)\n",
    "generation = sc.hydro_capacitors.get_xm_reports()\n",
    "print(generation['Value'].sum())\n",
    "generation.head(3)"
   ]
  },
  {
   "cell_type": "code",
   "execution_count": 2,
   "metadata": {},
   "outputs": [
    {
     "data": {
      "text/html": [
       "<div>\n",
       "<style scoped>\n",
       "    .dataframe tbody tr th:only-of-type {\n",
       "        vertical-align: middle;\n",
       "    }\n",
       "\n",
       "    .dataframe tbody tr th {\n",
       "        vertical-align: top;\n",
       "    }\n",
       "\n",
       "    .dataframe thead th {\n",
       "        text-align: right;\n",
       "    }\n",
       "</style>\n",
       "<table border=\"1\" class=\"dataframe\">\n",
       "  <thead>\n",
       "    <tr style=\"text-align: right;\">\n",
       "      <th></th>\n",
       "      <th>Name</th>\n",
       "      <th>Value</th>\n",
       "      <th>Datetime</th>\n",
       "    </tr>\n",
       "  </thead>\n",
       "  <tbody>\n",
       "    <tr>\n",
       "      <th>0</th>\n",
       "      <td>H_ElPopal</td>\n",
       "      <td>19.85625</td>\n",
       "      <td>2023-11-26</td>\n",
       "    </tr>\n",
       "    <tr>\n",
       "      <th>1</th>\n",
       "      <td>H_TuluaBajo</td>\n",
       "      <td>9.51840</td>\n",
       "      <td>2023-11-26</td>\n",
       "    </tr>\n",
       "    <tr>\n",
       "      <th>2</th>\n",
       "      <td>H_Alejandria</td>\n",
       "      <td>7.32500</td>\n",
       "      <td>2023-11-26</td>\n",
       "    </tr>\n",
       "  </tbody>\n",
       "</table>\n",
       "</div>"
      ],
      "text/plain": [
       "           Name     Value   Datetime\n",
       "0     H_ElPopal  19.85625 2023-11-26\n",
       "1   H_TuluaBajo   9.51840 2023-11-26\n",
       "2  H_Alejandria   7.32500 2023-11-26"
      ]
     },
     "execution_count": 2,
     "metadata": {},
     "output_type": "execute_result"
    }
   ],
   "source": [
    "import swcol as sc\n",
    "model_path = '../../model/inputs/'\n",
    "generation = sc.hydro_capacitors.to_swcol_names(model_path, generation)\n",
    "generation.head(3)"
   ]
  },
  {
   "cell_type": "code",
   "execution_count": 3,
   "metadata": {},
   "outputs": [
    {
     "data": {
      "text/html": [
       "<div>\n",
       "<style scoped>\n",
       "    .dataframe tbody tr th:only-of-type {\n",
       "        vertical-align: middle;\n",
       "    }\n",
       "\n",
       "    .dataframe tbody tr th {\n",
       "        vertical-align: top;\n",
       "    }\n",
       "\n",
       "    .dataframe thead th {\n",
       "        text-align: right;\n",
       "    }\n",
       "</style>\n",
       "<table border=\"1\" class=\"dataframe\">\n",
       "  <thead>\n",
       "    <tr style=\"text-align: right;\">\n",
       "      <th></th>\n",
       "      <th>Name</th>\n",
       "      <th>timestamp</th>\n",
       "      <th>Value</th>\n",
       "    </tr>\n",
       "  </thead>\n",
       "  <tbody>\n",
       "    <tr>\n",
       "      <th>0</th>\n",
       "      <td>H_AguaFresca</td>\n",
       "      <td>2023_Q1_holidays_0h</td>\n",
       "      <td>6.833046</td>\n",
       "    </tr>\n",
       "    <tr>\n",
       "      <th>1</th>\n",
       "      <td>H_AguaFresca</td>\n",
       "      <td>2023_Q1_holidays_10h</td>\n",
       "      <td>6.687108</td>\n",
       "    </tr>\n",
       "    <tr>\n",
       "      <th>2</th>\n",
       "      <td>H_AguaFresca</td>\n",
       "      <td>2023_Q1_holidays_11h</td>\n",
       "      <td>6.672831</td>\n",
       "    </tr>\n",
       "  </tbody>\n",
       "</table>\n",
       "</div>"
      ],
      "text/plain": [
       "           Name             timestamp     Value\n",
       "0  H_AguaFresca   2023_Q1_holidays_0h  6.833046\n",
       "1  H_AguaFresca  2023_Q1_holidays_10h  6.687108\n",
       "2  H_AguaFresca  2023_Q1_holidays_11h  6.672831"
      ]
     },
     "execution_count": 3,
     "metadata": {},
     "output_type": "execute_result"
    }
   ],
   "source": [
    "base_year = 2023\n",
    "generation = sc.hydro_capacitors.cluster(generation, base_year)\n",
    "generation.head(3)"
   ]
  },
  {
   "cell_type": "code",
   "execution_count": 4,
   "metadata": {},
   "outputs": [
    {
     "data": {
      "text/html": [
       "<div>\n",
       "<style scoped>\n",
       "    .dataframe tbody tr th:only-of-type {\n",
       "        vertical-align: middle;\n",
       "    }\n",
       "\n",
       "    .dataframe tbody tr th {\n",
       "        vertical-align: top;\n",
       "    }\n",
       "\n",
       "    .dataframe thead th {\n",
       "        text-align: right;\n",
       "    }\n",
       "</style>\n",
       "<table border=\"1\" class=\"dataframe\">\n",
       "  <thead>\n",
       "    <tr style=\"text-align: right;\">\n",
       "      <th></th>\n",
       "      <th>GENERATION_PROJECT</th>\n",
       "      <th>timepoint_id</th>\n",
       "      <th>gen_max_capacity_factor</th>\n",
       "    </tr>\n",
       "  </thead>\n",
       "  <tbody>\n",
       "    <tr>\n",
       "      <th>0</th>\n",
       "      <td>H_AguaFresca</td>\n",
       "      <td>25</td>\n",
       "      <td>0.937318</td>\n",
       "    </tr>\n",
       "    <tr>\n",
       "      <th>1</th>\n",
       "      <td>H_AguaFresca</td>\n",
       "      <td>35</td>\n",
       "      <td>0.917299</td>\n",
       "    </tr>\n",
       "    <tr>\n",
       "      <th>2</th>\n",
       "      <td>H_AguaFresca</td>\n",
       "      <td>36</td>\n",
       "      <td>0.915340</td>\n",
       "    </tr>\n",
       "  </tbody>\n",
       "</table>\n",
       "</div>"
      ],
      "text/plain": [
       "  GENERATION_PROJECT  timepoint_id  gen_max_capacity_factor\n",
       "0       H_AguaFresca            25                 0.937318\n",
       "1       H_AguaFresca            35                 0.917299\n",
       "2       H_AguaFresca            36                 0.915340"
      ]
     },
     "execution_count": 4,
     "metadata": {},
     "output_type": "execute_result"
    }
   ],
   "source": [
    "generation = sc.hydro_capacitors.normalize(model_path, generation)\n",
    "generation.head(3)"
   ]
  },
  {
   "cell_type": "code",
   "execution_count": 5,
   "metadata": {},
   "outputs": [
    {
     "name": "stdout",
     "output_type": "stream",
     "text": [
      "Hydro Variable Capacitors concatenated with ../../model/inputs/variable_capacity_factors.csv\n"
     ]
    },
    {
     "data": {
      "text/html": [
       "<div>\n",
       "<style scoped>\n",
       "    .dataframe tbody tr th:only-of-type {\n",
       "        vertical-align: middle;\n",
       "    }\n",
       "\n",
       "    .dataframe tbody tr th {\n",
       "        vertical-align: top;\n",
       "    }\n",
       "\n",
       "    .dataframe thead th {\n",
       "        text-align: right;\n",
       "    }\n",
       "</style>\n",
       "<table border=\"1\" class=\"dataframe\">\n",
       "  <thead>\n",
       "    <tr style=\"text-align: right;\">\n",
       "      <th></th>\n",
       "      <th>GENERATION_PROJECT</th>\n",
       "      <th>timepoint_id</th>\n",
       "      <th>gen_max_capacity_factor</th>\n",
       "    </tr>\n",
       "  </thead>\n",
       "  <tbody>\n",
       "    <tr>\n",
       "      <th>0</th>\n",
       "      <td>E_GuajiraI</td>\n",
       "      <td>1</td>\n",
       "      <td>0.842105</td>\n",
       "    </tr>\n",
       "    <tr>\n",
       "      <th>1</th>\n",
       "      <td>E_GuajiraI</td>\n",
       "      <td>10</td>\n",
       "      <td>0.798857</td>\n",
       "    </tr>\n",
       "    <tr>\n",
       "      <th>2</th>\n",
       "      <td>E_GuajiraI</td>\n",
       "      <td>100</td>\n",
       "      <td>0.772581</td>\n",
       "    </tr>\n",
       "  </tbody>\n",
       "</table>\n",
       "</div>"
      ],
      "text/plain": [
       "  GENERATION_PROJECT  timepoint_id  gen_max_capacity_factor\n",
       "0         E_GuajiraI             1                 0.842105\n",
       "1         E_GuajiraI            10                 0.798857\n",
       "2         E_GuajiraI           100                 0.772581"
      ]
     },
     "execution_count": 5,
     "metadata": {},
     "output_type": "execute_result"
    }
   ],
   "source": [
    "generation = sc.hydro_capacitors.generate(model_path, generation, 1, 2)\n",
    "generation.head(3)"
   ]
  },
  {
   "cell_type": "code",
   "execution_count": 6,
   "metadata": {},
   "outputs": [
    {
     "data": {
      "application/vnd.plotly.v1+json": {
       "config": {
        "plotlyServerURL": "https://plot.ly"
       },
       "data": [
        {
         "hovertemplate": "timestamp=%{x}<br>gen_max_capacity_factor=%{y}<extra></extra>",
         "legendgroup": "",
         "line": {
          "color": "#636efa",
          "dash": "solid"
         },
         "marker": {
          "symbol": "circle"
         },
         "mode": "lines",
         "name": "",
         "orientation": "v",
         "showlegend": false,
         "type": "scatter",
         "x": [
          "2023_Q1_labor_0h",
          "2023_Q1_labor_1h",
          "2023_Q1_labor_2h",
          "2023_Q1_labor_3h",
          "2023_Q1_labor_4h",
          "2023_Q1_labor_5h",
          "2023_Q1_labor_6h",
          "2023_Q1_labor_7h",
          "2023_Q1_labor_8h",
          "2023_Q1_labor_9h",
          "2023_Q1_labor_10h",
          "2023_Q1_labor_11h",
          "2023_Q1_labor_12h",
          "2023_Q1_labor_13h",
          "2023_Q1_labor_14h",
          "2023_Q1_labor_15h",
          "2023_Q1_labor_16h",
          "2023_Q1_labor_17h",
          "2023_Q1_labor_18h",
          "2023_Q1_labor_19h",
          "2023_Q1_labor_20h",
          "2023_Q1_labor_21h",
          "2023_Q1_labor_22h",
          "2023_Q1_labor_23h",
          "2023_Q1_holidays_0h",
          "2023_Q1_holidays_1h",
          "2023_Q1_holidays_2h",
          "2023_Q1_holidays_3h",
          "2023_Q1_holidays_4h",
          "2023_Q1_holidays_5h",
          "2023_Q1_holidays_6h",
          "2023_Q1_holidays_7h",
          "2023_Q1_holidays_8h",
          "2023_Q1_holidays_9h",
          "2023_Q1_holidays_10h",
          "2023_Q1_holidays_11h",
          "2023_Q1_holidays_12h",
          "2023_Q1_holidays_13h",
          "2023_Q1_holidays_14h",
          "2023_Q1_holidays_15h",
          "2023_Q1_holidays_16h",
          "2023_Q1_holidays_17h",
          "2023_Q1_holidays_18h",
          "2023_Q1_holidays_19h",
          "2023_Q1_holidays_20h",
          "2023_Q1_holidays_21h",
          "2023_Q1_holidays_22h",
          "2023_Q1_holidays_23h",
          "2023_Q2_labor_0h",
          "2023_Q2_labor_1h",
          "2023_Q2_labor_2h",
          "2023_Q2_labor_3h",
          "2023_Q2_labor_4h",
          "2023_Q2_labor_5h",
          "2023_Q2_labor_6h",
          "2023_Q2_labor_7h",
          "2023_Q2_labor_8h",
          "2023_Q2_labor_9h",
          "2023_Q2_labor_10h",
          "2023_Q2_labor_11h",
          "2023_Q2_labor_12h",
          "2023_Q2_labor_13h",
          "2023_Q2_labor_14h",
          "2023_Q2_labor_15h",
          "2023_Q2_labor_16h",
          "2023_Q2_labor_17h",
          "2023_Q2_labor_18h",
          "2023_Q2_labor_19h",
          "2023_Q2_labor_20h",
          "2023_Q2_labor_21h",
          "2023_Q2_labor_22h",
          "2023_Q2_labor_23h",
          "2023_Q2_holidays_0h",
          "2023_Q2_holidays_1h",
          "2023_Q2_holidays_2h",
          "2023_Q2_holidays_3h",
          "2023_Q2_holidays_4h",
          "2023_Q2_holidays_5h",
          "2023_Q2_holidays_6h",
          "2023_Q2_holidays_7h",
          "2023_Q2_holidays_8h",
          "2023_Q2_holidays_9h",
          "2023_Q2_holidays_10h",
          "2023_Q2_holidays_11h",
          "2023_Q2_holidays_12h",
          "2023_Q2_holidays_13h",
          "2023_Q2_holidays_14h",
          "2023_Q2_holidays_15h",
          "2023_Q2_holidays_16h",
          "2023_Q2_holidays_17h",
          "2023_Q2_holidays_18h",
          "2023_Q2_holidays_19h",
          "2023_Q2_holidays_20h",
          "2023_Q2_holidays_21h",
          "2023_Q2_holidays_22h",
          "2023_Q2_holidays_23h",
          "2023_Q3_labor_0h",
          "2023_Q3_labor_1h",
          "2023_Q3_labor_2h",
          "2023_Q3_labor_3h",
          "2023_Q3_labor_4h",
          "2023_Q3_labor_5h",
          "2023_Q3_labor_6h",
          "2023_Q3_labor_7h",
          "2023_Q3_labor_8h",
          "2023_Q3_labor_9h",
          "2023_Q3_labor_10h",
          "2023_Q3_labor_11h",
          "2023_Q3_labor_12h",
          "2023_Q3_labor_13h",
          "2023_Q3_labor_14h",
          "2023_Q3_labor_15h",
          "2023_Q3_labor_16h",
          "2023_Q3_labor_17h",
          "2023_Q3_labor_18h",
          "2023_Q3_labor_19h",
          "2023_Q3_labor_20h",
          "2023_Q3_labor_21h",
          "2023_Q3_labor_22h",
          "2023_Q3_labor_23h",
          "2023_Q3_holidays_0h",
          "2023_Q3_holidays_1h",
          "2023_Q3_holidays_2h",
          "2023_Q3_holidays_3h",
          "2023_Q3_holidays_4h",
          "2023_Q3_holidays_5h",
          "2023_Q3_holidays_6h",
          "2023_Q3_holidays_7h",
          "2023_Q3_holidays_8h",
          "2023_Q3_holidays_9h",
          "2023_Q3_holidays_10h",
          "2023_Q3_holidays_11h",
          "2023_Q3_holidays_12h",
          "2023_Q3_holidays_13h",
          "2023_Q3_holidays_14h",
          "2023_Q3_holidays_15h",
          "2023_Q3_holidays_16h",
          "2023_Q3_holidays_17h",
          "2023_Q3_holidays_18h",
          "2023_Q3_holidays_19h",
          "2023_Q3_holidays_20h",
          "2023_Q3_holidays_21h",
          "2023_Q3_holidays_22h",
          "2023_Q3_holidays_23h",
          "2023_Q4_labor_0h",
          "2023_Q4_labor_1h",
          "2023_Q4_labor_2h",
          "2023_Q4_labor_3h",
          "2023_Q4_labor_4h",
          "2023_Q4_labor_5h",
          "2023_Q4_labor_6h",
          "2023_Q4_labor_7h",
          "2023_Q4_labor_8h",
          "2023_Q4_labor_9h",
          "2023_Q4_labor_10h",
          "2023_Q4_labor_11h",
          "2023_Q4_labor_12h",
          "2023_Q4_labor_13h",
          "2023_Q4_labor_14h",
          "2023_Q4_labor_15h",
          "2023_Q4_labor_16h",
          "2023_Q4_labor_17h",
          "2023_Q4_labor_18h",
          "2023_Q4_labor_19h",
          "2023_Q4_labor_20h",
          "2023_Q4_labor_21h",
          "2023_Q4_labor_22h",
          "2023_Q4_labor_23h",
          "2023_Q4_holidays_0h",
          "2023_Q4_holidays_1h",
          "2023_Q4_holidays_2h",
          "2023_Q4_holidays_3h",
          "2023_Q4_holidays_4h",
          "2023_Q4_holidays_5h",
          "2023_Q4_holidays_6h",
          "2023_Q4_holidays_7h",
          "2023_Q4_holidays_8h",
          "2023_Q4_holidays_9h",
          "2023_Q4_holidays_10h",
          "2023_Q4_holidays_11h",
          "2023_Q4_holidays_12h",
          "2023_Q4_holidays_13h",
          "2023_Q4_holidays_14h",
          "2023_Q4_holidays_15h",
          "2023_Q4_holidays_16h",
          "2023_Q4_holidays_17h",
          "2023_Q4_holidays_18h",
          "2023_Q4_holidays_19h",
          "2023_Q4_holidays_20h",
          "2023_Q4_holidays_21h",
          "2023_Q4_holidays_22h",
          "2023_Q4_holidays_23h"
         ],
         "xaxis": "x",
         "y": [
          0.4364974241987765,
          0.44231225411215697,
          0.43604538341158056,
          0.434235734680043,
          0.42073234694361455,
          0.4142651721065361,
          0.4364007418999594,
          0.4436955504393884,
          0.42914756963759026,
          0.4394485157860744,
          0.43243426611980107,
          0.43036802666093094,
          0.42321209828746037,
          0.4268209015370086,
          0.42935803203851863,
          0.4264147641125395,
          0.42192830747029764,
          0.4188464072982251,
          0.4222881328695359,
          0.4277605759804848,
          0.44040802274994806,
          0.44396456336002343,
          0.4445471201190884,
          0.44842417801446594,
          0.4675111233851913,
          0.465270643468655,
          0.46202635114841684,
          0.46104246544079286,
          0.41841418883672393,
          0.4137661500664681,
          0.4479966681811297,
          0.467282037906451,
          0.466800991131977,
          0.45602959934036713,
          0.42889604525299946,
          0.4410441213589782,
          0.44723182381324983,
          0.43714523017736046,
          0.4470221621536175,
          0.4407063579735493,
          0.4425535303323207,
          0.43280755776488994,
          0.42770624673969737,
          0.4336293292866062,
          0.4321158533693745,
          0.44526965962441306,
          0.4581100189097548,
          0.4303316505965301,
          0.5770563243005792,
          0.564343174013215,
          0.5736340244499041,
          0.5788315481065244,
          0.5696823297035298,
          0.5292218876295558,
          0.5919343468216708,
          0.6161638814835786,
          0.6151334659735821,
          0.6068287773443685,
          0.6034137615568714,
          0.6062988277474585,
          0.5917037871674491,
          0.5948949110873529,
          0.593453721603404,
          0.5785491337091228,
          0.5784724899765383,
          0.5738459756359509,
          0.5645746619017588,
          0.5691293558290964,
          0.5745000469483567,
          0.5765410516327071,
          0.5748116554980405,
          0.5718649710404465,
          0.5772878195096505,
          0.5739551556251087,
          0.6141747522170057,
          0.5946711764012991,
          0.610630958991704,
          0.5321181859676577,
          0.606909216875326,
          0.6181997745132684,
          0.5792085126499739,
          0.5788175337095524,
          0.5839698057626805,
          0.5825586854460093,
          0.6223371113324164,
          0.5805432968179446,
          0.5561067888814366,
          0.5802875922199865,
          0.5877344660555928,
          0.5456792441894163,
          0.5355444428636917,
          0.5813934859154929,
          0.581135465571205,
          0.6019064293166405,
          0.5877670839853938,
          0.5984930392540427,
          0.5487300740150195,
          0.5518378559266148,
          0.5461376466064689,
          0.5510651374776218,
          0.5473971458729774,
          0.520836116278383,
          0.5469776704813751,
          0.5487740298204886,
          0.5657463978404769,
          0.5497744191843269,
          0.5298106899754443,
          0.5408493566764571,
          0.5471339434574038,
          0.5407627885761518,
          0.5414049014983039,
          0.5417854682933994,
          0.5376453963903927,
          0.5364793454424988,
          0.5357696503971418,
          0.5398085130053624,
          0.5569715428372705,
          0.5516555953001963,
          0.5428595623121445,
          0.5447703411976158,
          0.5390752515090542,
          0.5232561889857664,
          0.543834771592518,
          0.5315301844738464,
          0.5010584246218048,
          0.5139594753707429,
          0.5138317907444668,
          0.518555525747075,
          0.5308651017214397,
          0.507071108130263,
          0.5139170434127397,
          0.5283593433026139,
          0.5292898626325857,
          0.5261093143221468,
          0.5324777864719179,
          0.551727192372341,
          0.5365605546861415,
          0.5231031125021736,
          0.5152535790876948,
          0.5468258708630382,
          0.5538672549701501,
          0.539271590448038,
          0.5207905291833304,
          0.5181737089201877,
          0.4082745579479431,
          0.40279886383167335,
          0.40289478291631436,
          0.4008959833072509,
          0.4060518500530642,
          0.38952408376183023,
          0.39487730105746877,
          0.40189784842910614,
          0.3992187384650114,
          0.4048944244990641,
          0.3990021323522682,
          0.3895530686270941,
          0.400362286345319,
          0.392248889612563,
          0.39080522727681544,
          0.38274131306356657,
          0.38149153721239343,
          0.3894492418514416,
          0.40294520943163636,
          0.3973044855835348,
          0.39419692080080393,
          0.40065327371637227,
          0.408892287141819,
          0.41168613048446956,
          0.446389827856025,
          0.4196183098591548,
          0.409656099079543,
          0.420489534428795,
          0.424562353286385,
          0.409803691924546,
          0.42748673162030726,
          0.4303650360947044,
          0.43084914264559876,
          0.40966227217400925,
          0.4369114501825769,
          0.4341207127021387,
          0.4302204453573291,
          0.43151186750130405,
          0.429179919796557,
          0.4303402288732394,
          0.4311395735524256,
          0.42483119783515905,
          0.4104915558163797,
          0.40973656755346893,
          0.4281173545905059,
          0.42149706572769946,
          0.43010379120601744,
          0.43342721265866807
         ],
         "yaxis": "y"
        }
       ],
       "layout": {
        "legend": {
         "tracegroupgap": 0
        },
        "template": {
         "data": {
          "bar": [
           {
            "error_x": {
             "color": "#2a3f5f"
            },
            "error_y": {
             "color": "#2a3f5f"
            },
            "marker": {
             "line": {
              "color": "#E5ECF6",
              "width": 0.5
             },
             "pattern": {
              "fillmode": "overlay",
              "size": 10,
              "solidity": 0.2
             }
            },
            "type": "bar"
           }
          ],
          "barpolar": [
           {
            "marker": {
             "line": {
              "color": "#E5ECF6",
              "width": 0.5
             },
             "pattern": {
              "fillmode": "overlay",
              "size": 10,
              "solidity": 0.2
             }
            },
            "type": "barpolar"
           }
          ],
          "carpet": [
           {
            "aaxis": {
             "endlinecolor": "#2a3f5f",
             "gridcolor": "white",
             "linecolor": "white",
             "minorgridcolor": "white",
             "startlinecolor": "#2a3f5f"
            },
            "baxis": {
             "endlinecolor": "#2a3f5f",
             "gridcolor": "white",
             "linecolor": "white",
             "minorgridcolor": "white",
             "startlinecolor": "#2a3f5f"
            },
            "type": "carpet"
           }
          ],
          "choropleth": [
           {
            "colorbar": {
             "outlinewidth": 0,
             "ticks": ""
            },
            "type": "choropleth"
           }
          ],
          "contour": [
           {
            "colorbar": {
             "outlinewidth": 0,
             "ticks": ""
            },
            "colorscale": [
             [
              0,
              "#0d0887"
             ],
             [
              0.1111111111111111,
              "#46039f"
             ],
             [
              0.2222222222222222,
              "#7201a8"
             ],
             [
              0.3333333333333333,
              "#9c179e"
             ],
             [
              0.4444444444444444,
              "#bd3786"
             ],
             [
              0.5555555555555556,
              "#d8576b"
             ],
             [
              0.6666666666666666,
              "#ed7953"
             ],
             [
              0.7777777777777778,
              "#fb9f3a"
             ],
             [
              0.8888888888888888,
              "#fdca26"
             ],
             [
              1,
              "#f0f921"
             ]
            ],
            "type": "contour"
           }
          ],
          "contourcarpet": [
           {
            "colorbar": {
             "outlinewidth": 0,
             "ticks": ""
            },
            "type": "contourcarpet"
           }
          ],
          "heatmap": [
           {
            "colorbar": {
             "outlinewidth": 0,
             "ticks": ""
            },
            "colorscale": [
             [
              0,
              "#0d0887"
             ],
             [
              0.1111111111111111,
              "#46039f"
             ],
             [
              0.2222222222222222,
              "#7201a8"
             ],
             [
              0.3333333333333333,
              "#9c179e"
             ],
             [
              0.4444444444444444,
              "#bd3786"
             ],
             [
              0.5555555555555556,
              "#d8576b"
             ],
             [
              0.6666666666666666,
              "#ed7953"
             ],
             [
              0.7777777777777778,
              "#fb9f3a"
             ],
             [
              0.8888888888888888,
              "#fdca26"
             ],
             [
              1,
              "#f0f921"
             ]
            ],
            "type": "heatmap"
           }
          ],
          "heatmapgl": [
           {
            "colorbar": {
             "outlinewidth": 0,
             "ticks": ""
            },
            "colorscale": [
             [
              0,
              "#0d0887"
             ],
             [
              0.1111111111111111,
              "#46039f"
             ],
             [
              0.2222222222222222,
              "#7201a8"
             ],
             [
              0.3333333333333333,
              "#9c179e"
             ],
             [
              0.4444444444444444,
              "#bd3786"
             ],
             [
              0.5555555555555556,
              "#d8576b"
             ],
             [
              0.6666666666666666,
              "#ed7953"
             ],
             [
              0.7777777777777778,
              "#fb9f3a"
             ],
             [
              0.8888888888888888,
              "#fdca26"
             ],
             [
              1,
              "#f0f921"
             ]
            ],
            "type": "heatmapgl"
           }
          ],
          "histogram": [
           {
            "marker": {
             "pattern": {
              "fillmode": "overlay",
              "size": 10,
              "solidity": 0.2
             }
            },
            "type": "histogram"
           }
          ],
          "histogram2d": [
           {
            "colorbar": {
             "outlinewidth": 0,
             "ticks": ""
            },
            "colorscale": [
             [
              0,
              "#0d0887"
             ],
             [
              0.1111111111111111,
              "#46039f"
             ],
             [
              0.2222222222222222,
              "#7201a8"
             ],
             [
              0.3333333333333333,
              "#9c179e"
             ],
             [
              0.4444444444444444,
              "#bd3786"
             ],
             [
              0.5555555555555556,
              "#d8576b"
             ],
             [
              0.6666666666666666,
              "#ed7953"
             ],
             [
              0.7777777777777778,
              "#fb9f3a"
             ],
             [
              0.8888888888888888,
              "#fdca26"
             ],
             [
              1,
              "#f0f921"
             ]
            ],
            "type": "histogram2d"
           }
          ],
          "histogram2dcontour": [
           {
            "colorbar": {
             "outlinewidth": 0,
             "ticks": ""
            },
            "colorscale": [
             [
              0,
              "#0d0887"
             ],
             [
              0.1111111111111111,
              "#46039f"
             ],
             [
              0.2222222222222222,
              "#7201a8"
             ],
             [
              0.3333333333333333,
              "#9c179e"
             ],
             [
              0.4444444444444444,
              "#bd3786"
             ],
             [
              0.5555555555555556,
              "#d8576b"
             ],
             [
              0.6666666666666666,
              "#ed7953"
             ],
             [
              0.7777777777777778,
              "#fb9f3a"
             ],
             [
              0.8888888888888888,
              "#fdca26"
             ],
             [
              1,
              "#f0f921"
             ]
            ],
            "type": "histogram2dcontour"
           }
          ],
          "mesh3d": [
           {
            "colorbar": {
             "outlinewidth": 0,
             "ticks": ""
            },
            "type": "mesh3d"
           }
          ],
          "parcoords": [
           {
            "line": {
             "colorbar": {
              "outlinewidth": 0,
              "ticks": ""
             }
            },
            "type": "parcoords"
           }
          ],
          "pie": [
           {
            "automargin": true,
            "type": "pie"
           }
          ],
          "scatter": [
           {
            "fillpattern": {
             "fillmode": "overlay",
             "size": 10,
             "solidity": 0.2
            },
            "type": "scatter"
           }
          ],
          "scatter3d": [
           {
            "line": {
             "colorbar": {
              "outlinewidth": 0,
              "ticks": ""
             }
            },
            "marker": {
             "colorbar": {
              "outlinewidth": 0,
              "ticks": ""
             }
            },
            "type": "scatter3d"
           }
          ],
          "scattercarpet": [
           {
            "marker": {
             "colorbar": {
              "outlinewidth": 0,
              "ticks": ""
             }
            },
            "type": "scattercarpet"
           }
          ],
          "scattergeo": [
           {
            "marker": {
             "colorbar": {
              "outlinewidth": 0,
              "ticks": ""
             }
            },
            "type": "scattergeo"
           }
          ],
          "scattergl": [
           {
            "marker": {
             "colorbar": {
              "outlinewidth": 0,
              "ticks": ""
             }
            },
            "type": "scattergl"
           }
          ],
          "scattermapbox": [
           {
            "marker": {
             "colorbar": {
              "outlinewidth": 0,
              "ticks": ""
             }
            },
            "type": "scattermapbox"
           }
          ],
          "scatterpolar": [
           {
            "marker": {
             "colorbar": {
              "outlinewidth": 0,
              "ticks": ""
             }
            },
            "type": "scatterpolar"
           }
          ],
          "scatterpolargl": [
           {
            "marker": {
             "colorbar": {
              "outlinewidth": 0,
              "ticks": ""
             }
            },
            "type": "scatterpolargl"
           }
          ],
          "scatterternary": [
           {
            "marker": {
             "colorbar": {
              "outlinewidth": 0,
              "ticks": ""
             }
            },
            "type": "scatterternary"
           }
          ],
          "surface": [
           {
            "colorbar": {
             "outlinewidth": 0,
             "ticks": ""
            },
            "colorscale": [
             [
              0,
              "#0d0887"
             ],
             [
              0.1111111111111111,
              "#46039f"
             ],
             [
              0.2222222222222222,
              "#7201a8"
             ],
             [
              0.3333333333333333,
              "#9c179e"
             ],
             [
              0.4444444444444444,
              "#bd3786"
             ],
             [
              0.5555555555555556,
              "#d8576b"
             ],
             [
              0.6666666666666666,
              "#ed7953"
             ],
             [
              0.7777777777777778,
              "#fb9f3a"
             ],
             [
              0.8888888888888888,
              "#fdca26"
             ],
             [
              1,
              "#f0f921"
             ]
            ],
            "type": "surface"
           }
          ],
          "table": [
           {
            "cells": {
             "fill": {
              "color": "#EBF0F8"
             },
             "line": {
              "color": "white"
             }
            },
            "header": {
             "fill": {
              "color": "#C8D4E3"
             },
             "line": {
              "color": "white"
             }
            },
            "type": "table"
           }
          ]
         },
         "layout": {
          "annotationdefaults": {
           "arrowcolor": "#2a3f5f",
           "arrowhead": 0,
           "arrowwidth": 1
          },
          "autotypenumbers": "strict",
          "coloraxis": {
           "colorbar": {
            "outlinewidth": 0,
            "ticks": ""
           }
          },
          "colorscale": {
           "diverging": [
            [
             0,
             "#8e0152"
            ],
            [
             0.1,
             "#c51b7d"
            ],
            [
             0.2,
             "#de77ae"
            ],
            [
             0.3,
             "#f1b6da"
            ],
            [
             0.4,
             "#fde0ef"
            ],
            [
             0.5,
             "#f7f7f7"
            ],
            [
             0.6,
             "#e6f5d0"
            ],
            [
             0.7,
             "#b8e186"
            ],
            [
             0.8,
             "#7fbc41"
            ],
            [
             0.9,
             "#4d9221"
            ],
            [
             1,
             "#276419"
            ]
           ],
           "sequential": [
            [
             0,
             "#0d0887"
            ],
            [
             0.1111111111111111,
             "#46039f"
            ],
            [
             0.2222222222222222,
             "#7201a8"
            ],
            [
             0.3333333333333333,
             "#9c179e"
            ],
            [
             0.4444444444444444,
             "#bd3786"
            ],
            [
             0.5555555555555556,
             "#d8576b"
            ],
            [
             0.6666666666666666,
             "#ed7953"
            ],
            [
             0.7777777777777778,
             "#fb9f3a"
            ],
            [
             0.8888888888888888,
             "#fdca26"
            ],
            [
             1,
             "#f0f921"
            ]
           ],
           "sequentialminus": [
            [
             0,
             "#0d0887"
            ],
            [
             0.1111111111111111,
             "#46039f"
            ],
            [
             0.2222222222222222,
             "#7201a8"
            ],
            [
             0.3333333333333333,
             "#9c179e"
            ],
            [
             0.4444444444444444,
             "#bd3786"
            ],
            [
             0.5555555555555556,
             "#d8576b"
            ],
            [
             0.6666666666666666,
             "#ed7953"
            ],
            [
             0.7777777777777778,
             "#fb9f3a"
            ],
            [
             0.8888888888888888,
             "#fdca26"
            ],
            [
             1,
             "#f0f921"
            ]
           ]
          },
          "colorway": [
           "#636efa",
           "#EF553B",
           "#00cc96",
           "#ab63fa",
           "#FFA15A",
           "#19d3f3",
           "#FF6692",
           "#B6E880",
           "#FF97FF",
           "#FECB52"
          ],
          "font": {
           "color": "#2a3f5f"
          },
          "geo": {
           "bgcolor": "white",
           "lakecolor": "white",
           "landcolor": "#E5ECF6",
           "showlakes": true,
           "showland": true,
           "subunitcolor": "white"
          },
          "hoverlabel": {
           "align": "left"
          },
          "hovermode": "closest",
          "mapbox": {
           "style": "light"
          },
          "paper_bgcolor": "white",
          "plot_bgcolor": "#E5ECF6",
          "polar": {
           "angularaxis": {
            "gridcolor": "white",
            "linecolor": "white",
            "ticks": ""
           },
           "bgcolor": "#E5ECF6",
           "radialaxis": {
            "gridcolor": "white",
            "linecolor": "white",
            "ticks": ""
           }
          },
          "scene": {
           "xaxis": {
            "backgroundcolor": "#E5ECF6",
            "gridcolor": "white",
            "gridwidth": 2,
            "linecolor": "white",
            "showbackground": true,
            "ticks": "",
            "zerolinecolor": "white"
           },
           "yaxis": {
            "backgroundcolor": "#E5ECF6",
            "gridcolor": "white",
            "gridwidth": 2,
            "linecolor": "white",
            "showbackground": true,
            "ticks": "",
            "zerolinecolor": "white"
           },
           "zaxis": {
            "backgroundcolor": "#E5ECF6",
            "gridcolor": "white",
            "gridwidth": 2,
            "linecolor": "white",
            "showbackground": true,
            "ticks": "",
            "zerolinecolor": "white"
           }
          },
          "shapedefaults": {
           "line": {
            "color": "#2a3f5f"
           }
          },
          "ternary": {
           "aaxis": {
            "gridcolor": "white",
            "linecolor": "white",
            "ticks": ""
           },
           "baxis": {
            "gridcolor": "white",
            "linecolor": "white",
            "ticks": ""
           },
           "bgcolor": "#E5ECF6",
           "caxis": {
            "gridcolor": "white",
            "linecolor": "white",
            "ticks": ""
           }
          },
          "title": {
           "x": 0.05
          },
          "xaxis": {
           "automargin": true,
           "gridcolor": "white",
           "linecolor": "white",
           "ticks": "",
           "title": {
            "standoff": 15
           },
           "zerolinecolor": "white",
           "zerolinewidth": 2
          },
          "yaxis": {
           "automargin": true,
           "gridcolor": "white",
           "linecolor": "white",
           "ticks": "",
           "title": {
            "standoff": 15
           },
           "zerolinecolor": "white",
           "zerolinewidth": 2
          }
         }
        },
        "title": {
         "text": "Capacidad por H_AguaFresca"
        },
        "xaxis": {
         "anchor": "y",
         "domain": [
          0,
          1
         ],
         "title": {
          "text": "timestamp"
         }
        },
        "yaxis": {
         "anchor": "x",
         "domain": [
          0,
          1
         ],
         "title": {
          "text": "gen_max_capacity_factor"
         }
        }
       }
      }
     },
     "metadata": {},
     "output_type": "display_data"
    }
   ],
   "source": [
    "import plotly.express as px\n",
    "import pandas as pd\n",
    "plot_hydro_cap = generation[generation['GENERATION_PROJECT'] == 'H_Amaime'].copy()\n",
    "plot_hydro_cap = plot_hydro_cap.sort_values(by='timepoint_id')\n",
    "plot_hydro_cap = plot_hydro_cap[plot_hydro_cap['timepoint_id'] <= 192]\n",
    "\n",
    "timepoints = pd.read_csv(model_path+'timepoints.csv')\n",
    "\n",
    "plot_gen_minor = pd.merge(\n",
    "    plot_hydro_cap, timepoints,\n",
    "    on='timepoint_id', how=\"inner\")\n",
    "\n",
    "fig = px.line(\n",
    "    plot_gen_minor, \n",
    "    x='timestamp', y='gen_max_capacity_factor', title='Capacidad por H_AguaFresca'\n",
    ")\n",
    "fig.show()"
   ]
  },
  {
   "cell_type": "markdown",
   "metadata": {},
   "source": []
  }
 ],
 "metadata": {
  "kernelspec": {
   "display_name": "plot_switch",
   "language": "python",
   "name": "python3"
  },
  "language_info": {
   "codemirror_mode": {
    "name": "ipython",
    "version": 3
   },
   "file_extension": ".py",
   "mimetype": "text/x-python",
   "name": "python",
   "nbconvert_exporter": "python",
   "pygments_lexer": "ipython3",
   "version": "3.9.19"
  }
 },
 "nbformat": 4,
 "nbformat_minor": 2
}
