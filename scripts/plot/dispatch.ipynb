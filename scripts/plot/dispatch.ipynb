{
 "cells": [
  {
   "cell_type": "markdown",
   "metadata": {},
   "source": [
    "# Analysis of Dispatch vs. Demand\n",
    "## 1. Introduction\n",
    "\n",
    "This Notebook investigates how dispatch from models satisfies demand. We'll load various datasets, perform comparisons, and analyze results through visualizations."
   ]
  },
  {
   "cell_type": "markdown",
   "metadata": {},
   "source": [
    "## 2. Import Libraries"
   ]
  },
  {
   "cell_type": "code",
   "execution_count": null,
   "metadata": {},
   "outputs": [],
   "source": [
    "# Import necessary libraries\n",
    "import pandas as pd\n",
    "import plotly.express as px\n",
    "import plotly.graph_objects as go\n",
    "from plotly.subplots import make_subplots\n",
    "import numpy as np"
   ]
  },
  {
   "cell_type": "markdown",
   "metadata": {},
   "source": [
    "## 3. Load and Prepare Data"
   ]
  },
  {
   "cell_type": "code",
   "execution_count": 43,
   "metadata": {},
   "outputs": [],
   "source": [
    "model_inputs_path = '../../model/inputs/'\n",
    "model_outputs_path = '../../model/outputs/'\n",
    "dema_path = '../../data/XM-API/variable_query/2022-12-01_2023-11-30/'"
   ]
  },
  {
   "cell_type": "markdown",
   "metadata": {},
   "source": [
    "### 3.1 Timepoints\n",
    "It is always advisable to load the timepoints from the model to simplify the transformations of many tables when merging."
   ]
  },
  {
   "cell_type": "code",
   "execution_count": null,
   "metadata": {},
   "outputs": [],
   "source": [
    "# Load timepoints\n",
    "timepoints = pd.read_csv(model_inputs_path+'timepoints.csv')\n",
    "timepoints['timepoints'] = timepoints['timepoint_id']\n",
    "timepoints = timepoints.drop(columns=['timeseries','timepoint_id'])"
   ]
  },
  {
   "cell_type": "markdown",
   "metadata": {},
   "source": [
    "### 3.2.1 Dispatch by Tecnology from Switch\n",
    "`dispatch_system` will be compared with the system registry on xm, while `dispatch` will be used to compare by technology."
   ]
  },
  {
   "cell_type": "code",
   "execution_count": 63,
   "metadata": {},
   "outputs": [
    {
     "data": {
      "text/html": [
       "<div>\n",
       "<style scoped>\n",
       "    .dataframe tbody tr th:only-of-type {\n",
       "        vertical-align: middle;\n",
       "    }\n",
       "\n",
       "    .dataframe tbody tr th {\n",
       "        vertical-align: top;\n",
       "    }\n",
       "\n",
       "    .dataframe thead th {\n",
       "        text-align: right;\n",
       "    }\n",
       "</style>\n",
       "<table border=\"1\" class=\"dataframe\">\n",
       "  <thead>\n",
       "    <tr style=\"text-align: right;\">\n",
       "      <th></th>\n",
       "      <th>timestamp</th>\n",
       "      <th>gen_tech</th>\n",
       "      <th>DispatchGen_MW</th>\n",
       "      <th>timepoints</th>\n",
       "    </tr>\n",
       "  </thead>\n",
       "  <tbody>\n",
       "    <tr>\n",
       "      <th>120</th>\n",
       "      <td>2023_Q1_labor_0h</td>\n",
       "      <td>Eolica</td>\n",
       "      <td>26.847983</td>\n",
       "      <td>1</td>\n",
       "    </tr>\n",
       "    <tr>\n",
       "      <th>121</th>\n",
       "      <td>2023_Q1_labor_0h</td>\n",
       "      <td>Hidro</td>\n",
       "      <td>7042.448624</td>\n",
       "      <td>1</td>\n",
       "    </tr>\n",
       "    <tr>\n",
       "      <th>124</th>\n",
       "      <td>2023_Q1_labor_0h</td>\n",
       "      <td>pv_solar</td>\n",
       "      <td>0.000000</td>\n",
       "      <td>1</td>\n",
       "    </tr>\n",
       "  </tbody>\n",
       "</table>\n",
       "</div>"
      ],
      "text/plain": [
       "            timestamp  gen_tech  DispatchGen_MW  timepoints\n",
       "120  2023_Q1_labor_0h    Eolica       26.847983           1\n",
       "121  2023_Q1_labor_0h     Hidro     7042.448624           1\n",
       "124  2023_Q1_labor_0h  pv_solar        0.000000           1"
      ]
     },
     "execution_count": 63,
     "metadata": {},
     "output_type": "execute_result"
    }
   ],
   "source": [
    "dispatch_sw = pd.read_csv(model_outputs_path+'dispatch.csv')\n",
    "dispatch_sw = dispatch_sw.groupby(['timestamp','gen_tech']).agg({\n",
    "    'DispatchGen_MW' : 'sum'\n",
    "}).reset_index()\n",
    "dispatch_sw = pd.merge(dispatch_sw, timepoints, on='timestamp', how='inner')\n",
    "dispatch_sw = dispatch_sw.sort_values(by='timepoints')\n",
    "\n",
    "dispatch_sw.head(3)"
   ]
  },
  {
   "cell_type": "markdown",
   "metadata": {},
   "source": [
    "### 3.2.1 Dispatch by Tecnology from XM"
   ]
  },
  {
   "cell_type": "code",
   "execution_count": 66,
   "metadata": {},
   "outputs": [
    {
     "data": {
      "text/html": [
       "<div>\n",
       "<style scoped>\n",
       "    .dataframe tbody tr th:only-of-type {\n",
       "        vertical-align: middle;\n",
       "    }\n",
       "\n",
       "    .dataframe tbody tr th {\n",
       "        vertical-align: top;\n",
       "    }\n",
       "\n",
       "    .dataframe thead th {\n",
       "        text-align: right;\n",
       "    }\n",
       "</style>\n",
       "<table border=\"1\" class=\"dataframe\">\n",
       "  <thead>\n",
       "    <tr style=\"text-align: right;\">\n",
       "      <th></th>\n",
       "      <th>timestamp</th>\n",
       "      <th>Values_Type</th>\n",
       "      <th>GeneReal</th>\n",
       "      <th>DispatchGen_MW</th>\n",
       "      <th>timepoints</th>\n",
       "    </tr>\n",
       "  </thead>\n",
       "  <tbody>\n",
       "    <tr>\n",
       "      <th>120</th>\n",
       "      <td>2023_Q1_labor_0h</td>\n",
       "      <td>COGENERADOR</td>\n",
       "      <td>1.060746e+05</td>\n",
       "      <td>106.074569</td>\n",
       "      <td>1</td>\n",
       "    </tr>\n",
       "    <tr>\n",
       "      <th>123</th>\n",
       "      <td>2023_Q1_labor_0h</td>\n",
       "      <td>SOLAR</td>\n",
       "      <td>1.675325e-02</td>\n",
       "      <td>0.000017</td>\n",
       "      <td>1</td>\n",
       "    </tr>\n",
       "    <tr>\n",
       "      <th>124</th>\n",
       "      <td>2023_Q1_labor_0h</td>\n",
       "      <td>TERMICA</td>\n",
       "      <td>1.499315e+06</td>\n",
       "      <td>1499.314782</td>\n",
       "      <td>1</td>\n",
       "    </tr>\n",
       "  </tbody>\n",
       "</table>\n",
       "</div>"
      ],
      "text/plain": [
       "            timestamp  Values_Type      GeneReal  DispatchGen_MW  timepoints\n",
       "120  2023_Q1_labor_0h  COGENERADOR  1.060746e+05      106.074569           1\n",
       "123  2023_Q1_labor_0h        SOLAR  1.675325e-02        0.000017           1\n",
       "124  2023_Q1_labor_0h      TERMICA  1.499315e+06     1499.314782           1"
      ]
     },
     "execution_count": 66,
     "metadata": {},
     "output_type": "execute_result"
    }
   ],
   "source": [
    "dispatch_xm = pd.read_csv(dema_path+'Melted_Gen_Res.csv')\n",
    "dispatch_xm = dispatch_xm.drop(dispatch_xm.columns[0], axis=1)\n",
    "dispatch_xm['DispatchGen_MW'] = dispatch_xm['GeneReal'] / 1000\n",
    "# Add Timepoints\n",
    "dispatch_xm = pd.merge(dispatch_xm, timepoints, on='timestamp', how='inner')\n",
    "# Sort by timepoints\n",
    "dispatch_xm = dispatch_xm.sort_values(by='timepoints')\n",
    "\n",
    "dispatch_xm.head(3)"
   ]
  },
  {
   "cell_type": "markdown",
   "metadata": {},
   "source": [
    "### 3.3.1 Dispatch by System from Switch"
   ]
  },
  {
   "cell_type": "code",
   "execution_count": null,
   "metadata": {},
   "outputs": [],
   "source": [
    "dispatch_sys = dispatch_sw.groupby(['timestamp','timepoints']).agg({\n",
    "    'DispatchGen_MW' : 'sum'\n",
    "    }).reset_index()"
   ]
  },
  {
   "cell_type": "markdown",
   "metadata": {},
   "source": [
    "### 3.3.2 Demand by System from Switch"
   ]
  },
  {
   "cell_type": "code",
   "execution_count": 38,
   "metadata": {},
   "outputs": [
    {
     "name": "stdout",
     "output_type": "stream",
     "text": [
      "(384, 2)\n"
     ]
    },
    {
     "data": {
      "text/html": [
       "<div>\n",
       "<style scoped>\n",
       "    .dataframe tbody tr th:only-of-type {\n",
       "        vertical-align: middle;\n",
       "    }\n",
       "\n",
       "    .dataframe tbody tr th {\n",
       "        vertical-align: top;\n",
       "    }\n",
       "\n",
       "    .dataframe thead th {\n",
       "        text-align: right;\n",
       "    }\n",
       "</style>\n",
       "<table border=\"1\" class=\"dataframe\">\n",
       "  <thead>\n",
       "    <tr style=\"text-align: right;\">\n",
       "      <th></th>\n",
       "      <th>timepoints</th>\n",
       "      <th>zone_demand_mw</th>\n",
       "    </tr>\n",
       "  </thead>\n",
       "  <tbody>\n",
       "    <tr>\n",
       "      <th>0</th>\n",
       "      <td>1</td>\n",
       "      <td>8433.925628</td>\n",
       "    </tr>\n",
       "    <tr>\n",
       "      <th>1</th>\n",
       "      <td>2</td>\n",
       "      <td>7961.777022</td>\n",
       "    </tr>\n",
       "    <tr>\n",
       "      <th>2</th>\n",
       "      <td>3</td>\n",
       "      <td>7689.768630</td>\n",
       "    </tr>\n",
       "  </tbody>\n",
       "</table>\n",
       "</div>"
      ],
      "text/plain": [
       "   timepoints  zone_demand_mw\n",
       "0           1     8433.925628\n",
       "1           2     7961.777022\n",
       "2           3     7689.768630"
      ]
     },
     "execution_count": 38,
     "metadata": {},
     "output_type": "execute_result"
    }
   ],
   "source": [
    "loads = pd.read_csv(model_inputs_path+'loads.csv')\n",
    "loads = loads.groupby(['timepoints']).agg({\n",
    "    'zone_demand_mw': 'sum'\n",
    "}).reset_index()\n",
    "\n",
    "print(loads.shape)\n",
    "loads.head(3)"
   ]
  },
  {
   "cell_type": "markdown",
   "metadata": {},
   "source": [
    "### 3.3.3 Dispatch and Demand by System from XM"
   ]
  },
  {
   "cell_type": "code",
   "execution_count": null,
   "metadata": {},
   "outputs": [
    {
     "name": "stdout",
     "output_type": "stream",
     "text": [
      "(192, 5)\n"
     ]
    },
    {
     "data": {
      "text/html": [
       "<div>\n",
       "<style scoped>\n",
       "    .dataframe tbody tr th:only-of-type {\n",
       "        vertical-align: middle;\n",
       "    }\n",
       "\n",
       "    .dataframe tbody tr th {\n",
       "        vertical-align: top;\n",
       "    }\n",
       "\n",
       "    .dataframe thead th {\n",
       "        text-align: right;\n",
       "    }\n",
       "</style>\n",
       "<table border=\"1\" class=\"dataframe\">\n",
       "  <thead>\n",
       "    <tr style=\"text-align: right;\">\n",
       "      <th></th>\n",
       "      <th>timestamp</th>\n",
       "      <th>DemaReal_Sistema</th>\n",
       "      <th>DemaCome_Sistema</th>\n",
       "      <th>Gene_Sistema</th>\n",
       "      <th>GeneIdea_Sistema</th>\n",
       "    </tr>\n",
       "  </thead>\n",
       "  <tbody>\n",
       "    <tr>\n",
       "      <th>0</th>\n",
       "      <td>2023_Q1_holidays_0h</td>\n",
       "      <td>7915.745849</td>\n",
       "      <td>8076.836295</td>\n",
       "      <td>8076.777236</td>\n",
       "      <td>8076.777236</td>\n",
       "    </tr>\n",
       "    <tr>\n",
       "      <th>1</th>\n",
       "      <td>2023_Q1_holidays_10h</td>\n",
       "      <td>7725.791177</td>\n",
       "      <td>7856.700819</td>\n",
       "      <td>7856.700819</td>\n",
       "      <td>7856.700819</td>\n",
       "    </tr>\n",
       "    <tr>\n",
       "      <th>2</th>\n",
       "      <td>2023_Q1_holidays_11h</td>\n",
       "      <td>8022.721860</td>\n",
       "      <td>8154.997578</td>\n",
       "      <td>8154.919696</td>\n",
       "      <td>8154.919696</td>\n",
       "    </tr>\n",
       "  </tbody>\n",
       "</table>\n",
       "</div>"
      ],
      "text/plain": [
       "              timestamp  DemaReal_Sistema  DemaCome_Sistema  Gene_Sistema  \\\n",
       "0   2023_Q1_holidays_0h       7915.745849       8076.836295   8076.777236   \n",
       "1  2023_Q1_holidays_10h       7725.791177       7856.700819   7856.700819   \n",
       "2  2023_Q1_holidays_11h       8022.721860       8154.997578   8154.919696   \n",
       "\n",
       "   GeneIdea_Sistema  \n",
       "0       8076.777236  \n",
       "1       7856.700819  \n",
       "2       8154.919696  "
      ]
     },
     "execution_count": 47,
     "metadata": {},
     "output_type": "execute_result"
    }
   ],
   "source": [
    "XM = pd.read_csv(dema_path+'Melted_DemaGen_Sys.csv')\n",
    "# Group by timestamp\n",
    "XM = XM.groupby(['timestamp']).agg({\n",
    "    'DemaReal_Sistema': 'mean',\n",
    "    'DemaCome_Sistema': 'mean',\n",
    "    'Gene_Sistema': 'mean',\n",
    "    'GeneIdea_Sistema': 'mean'\n",
    "}).reset_index()\n",
    "# Adjust to MW\n",
    "XM['DemaReal_Sistema'] = XM['DemaReal_Sistema'] / 1000\n",
    "XM['DemaCome_Sistema'] = XM['DemaCome_Sistema'] / 1000\n",
    "XM['Gene_Sistema'] = XM['Gene_Sistema'] / 1000\n",
    "XM['GeneIdea_Sistema'] = XM['GeneIdea_Sistema'] / 1000\n",
    "\n",
    "print(XM.shape)\n",
    "XM.head(3)"
   ]
  },
  {
   "cell_type": "markdown",
   "metadata": {},
   "source": [
    "## 3.4 System Analysis"
   ]
  },
  {
   "cell_type": "markdown",
   "metadata": {},
   "source": [
    "### 3.4.1 Is Demand on Switch met by Switch Dispatch?"
   ]
  },
  {
   "cell_type": "code",
   "execution_count": null,
   "metadata": {},
   "outputs": [
    {
     "data": {
      "application/vnd.plotly.v1+json": {
       "config": {
        "plotlyServerURL": "https://plot.ly"
       },
       "data": [
        {
         "hovertemplate": "Series=Dispatch<br>timestamp=%{x}<br>Value (MW)=%{y}<extra></extra>",
         "legendgroup": "Dispatch",
         "line": {
          "color": "#636efa",
          "dash": "solid"
         },
         "marker": {
          "symbol": "circle"
         },
         "mode": "lines",
         "name": "Dispatch",
         "orientation": "v",
         "showlegend": true,
         "type": "scatter",
         "x": [
          "2023_Q1_labor_0h",
          "2023_Q1_labor_1h",
          "2023_Q1_labor_2h",
          "2023_Q1_labor_3h",
          "2023_Q1_labor_4h",
          "2023_Q1_labor_5h",
          "2023_Q1_labor_6h",
          "2023_Q1_labor_7h",
          "2023_Q1_labor_8h",
          "2023_Q1_labor_9h",
          "2023_Q1_labor_10h",
          "2023_Q1_labor_11h",
          "2023_Q1_labor_12h",
          "2023_Q1_labor_13h",
          "2023_Q1_labor_14h",
          "2023_Q1_labor_15h",
          "2023_Q1_labor_16h",
          "2023_Q1_labor_17h",
          "2023_Q1_labor_18h",
          "2023_Q1_labor_19h",
          "2023_Q1_labor_20h",
          "2023_Q1_labor_21h",
          "2023_Q1_labor_22h",
          "2023_Q1_labor_23h",
          "2023_Q1_holidays_0h",
          "2023_Q1_holidays_1h",
          "2023_Q1_holidays_2h",
          "2023_Q1_holidays_3h",
          "2023_Q1_holidays_4h",
          "2023_Q1_holidays_5h",
          "2023_Q1_holidays_6h",
          "2023_Q1_holidays_7h",
          "2023_Q1_holidays_8h",
          "2023_Q1_holidays_9h",
          "2023_Q1_holidays_10h",
          "2023_Q1_holidays_11h",
          "2023_Q1_holidays_12h",
          "2023_Q1_holidays_13h",
          "2023_Q1_holidays_14h",
          "2023_Q1_holidays_15h",
          "2023_Q1_holidays_16h",
          "2023_Q1_holidays_17h",
          "2023_Q1_holidays_18h",
          "2023_Q1_holidays_19h",
          "2023_Q1_holidays_20h",
          "2023_Q1_holidays_21h",
          "2023_Q1_holidays_22h",
          "2023_Q1_holidays_23h",
          "2023_Q2_labor_0h",
          "2023_Q2_labor_1h",
          "2023_Q2_labor_2h",
          "2023_Q2_labor_3h",
          "2023_Q2_labor_4h",
          "2023_Q2_labor_5h",
          "2023_Q2_labor_6h",
          "2023_Q2_labor_7h",
          "2023_Q2_labor_8h",
          "2023_Q2_labor_9h",
          "2023_Q2_labor_10h",
          "2023_Q2_labor_11h",
          "2023_Q2_labor_12h",
          "2023_Q2_labor_13h",
          "2023_Q2_labor_14h",
          "2023_Q2_labor_15h",
          "2023_Q2_labor_16h",
          "2023_Q2_labor_17h",
          "2023_Q2_labor_18h",
          "2023_Q2_labor_19h",
          "2023_Q2_labor_20h",
          "2023_Q2_labor_21h",
          "2023_Q2_labor_22h",
          "2023_Q2_labor_23h",
          "2023_Q2_holidays_0h",
          "2023_Q2_holidays_1h",
          "2023_Q2_holidays_2h",
          "2023_Q2_holidays_3h",
          "2023_Q2_holidays_4h",
          "2023_Q2_holidays_5h",
          "2023_Q2_holidays_6h",
          "2023_Q2_holidays_7h",
          "2023_Q2_holidays_8h",
          "2023_Q2_holidays_9h",
          "2023_Q2_holidays_10h",
          "2023_Q2_holidays_11h",
          "2023_Q2_holidays_12h",
          "2023_Q2_holidays_13h",
          "2023_Q2_holidays_14h",
          "2023_Q2_holidays_15h",
          "2023_Q2_holidays_16h",
          "2023_Q2_holidays_17h",
          "2023_Q2_holidays_18h",
          "2023_Q2_holidays_19h",
          "2023_Q2_holidays_20h",
          "2023_Q2_holidays_21h",
          "2023_Q2_holidays_22h",
          "2023_Q2_holidays_23h",
          "2023_Q3_labor_0h",
          "2023_Q3_labor_1h",
          "2023_Q3_labor_2h",
          "2023_Q3_labor_3h",
          "2023_Q3_labor_4h",
          "2023_Q3_labor_5h",
          "2023_Q3_labor_6h",
          "2023_Q3_labor_7h",
          "2023_Q3_labor_8h",
          "2023_Q3_labor_9h",
          "2023_Q3_labor_10h",
          "2023_Q3_labor_11h",
          "2023_Q3_labor_12h",
          "2023_Q3_labor_13h",
          "2023_Q3_labor_14h",
          "2023_Q3_labor_15h",
          "2023_Q3_labor_16h",
          "2023_Q3_labor_17h",
          "2023_Q3_labor_18h",
          "2023_Q3_labor_19h",
          "2023_Q3_labor_20h",
          "2023_Q3_labor_21h",
          "2023_Q3_labor_22h",
          "2023_Q3_labor_23h",
          "2023_Q3_holidays_0h",
          "2023_Q3_holidays_1h",
          "2023_Q3_holidays_2h",
          "2023_Q3_holidays_3h",
          "2023_Q3_holidays_4h",
          "2023_Q3_holidays_5h",
          "2023_Q3_holidays_6h",
          "2023_Q3_holidays_7h",
          "2023_Q3_holidays_8h",
          "2023_Q3_holidays_9h",
          "2023_Q3_holidays_10h",
          "2023_Q3_holidays_11h",
          "2023_Q3_holidays_12h",
          "2023_Q3_holidays_13h",
          "2023_Q3_holidays_14h",
          "2023_Q3_holidays_15h",
          "2023_Q3_holidays_16h",
          "2023_Q3_holidays_17h",
          "2023_Q3_holidays_18h",
          "2023_Q3_holidays_19h",
          "2023_Q3_holidays_20h",
          "2023_Q3_holidays_21h",
          "2023_Q3_holidays_22h",
          "2023_Q3_holidays_23h",
          "2023_Q4_labor_0h",
          "2023_Q4_labor_1h",
          "2023_Q4_labor_2h",
          "2023_Q4_labor_3h",
          "2023_Q4_labor_4h",
          "2023_Q4_labor_5h",
          "2023_Q4_labor_6h",
          "2023_Q4_labor_7h",
          "2023_Q4_labor_8h",
          "2023_Q4_labor_9h",
          "2023_Q4_labor_10h",
          "2023_Q4_labor_11h",
          "2023_Q4_labor_12h",
          "2023_Q4_labor_13h",
          "2023_Q4_labor_14h",
          "2023_Q4_labor_15h",
          "2023_Q4_labor_16h",
          "2023_Q4_labor_17h",
          "2023_Q4_labor_18h",
          "2023_Q4_labor_19h",
          "2023_Q4_labor_20h",
          "2023_Q4_labor_21h",
          "2023_Q4_labor_22h",
          "2023_Q4_labor_23h",
          "2023_Q4_holidays_0h",
          "2023_Q4_holidays_1h",
          "2023_Q4_holidays_2h",
          "2023_Q4_holidays_3h",
          "2023_Q4_holidays_4h",
          "2023_Q4_holidays_5h",
          "2023_Q4_holidays_6h",
          "2023_Q4_holidays_7h",
          "2023_Q4_holidays_8h",
          "2023_Q4_holidays_9h",
          "2023_Q4_holidays_10h",
          "2023_Q4_holidays_11h",
          "2023_Q4_holidays_12h",
          "2023_Q4_holidays_13h",
          "2023_Q4_holidays_14h",
          "2023_Q4_holidays_15h",
          "2023_Q4_holidays_16h",
          "2023_Q4_holidays_17h",
          "2023_Q4_holidays_18h",
          "2023_Q4_holidays_19h",
          "2023_Q4_holidays_20h",
          "2023_Q4_holidays_21h",
          "2023_Q4_holidays_22h",
          "2023_Q4_holidays_23h",
          "2024_Q1_labor_0h",
          "2024_Q1_labor_1h",
          "2024_Q1_labor_2h",
          "2024_Q1_labor_3h",
          "2024_Q1_labor_4h",
          "2024_Q1_labor_5h",
          "2024_Q1_labor_6h",
          "2024_Q1_labor_7h",
          "2024_Q1_labor_8h",
          "2024_Q1_labor_9h",
          "2024_Q1_labor_10h",
          "2024_Q1_labor_11h",
          "2024_Q1_labor_12h",
          "2024_Q1_labor_13h",
          "2024_Q1_labor_14h",
          "2024_Q1_labor_15h",
          "2024_Q1_labor_16h",
          "2024_Q1_labor_17h",
          "2024_Q1_labor_18h",
          "2024_Q1_labor_19h",
          "2024_Q1_labor_20h",
          "2024_Q1_labor_21h",
          "2024_Q1_labor_22h",
          "2024_Q1_labor_23h",
          "2024_Q1_holidays_0h",
          "2024_Q1_holidays_1h",
          "2024_Q1_holidays_2h",
          "2024_Q1_holidays_3h",
          "2024_Q1_holidays_4h",
          "2024_Q1_holidays_5h",
          "2024_Q1_holidays_6h",
          "2024_Q1_holidays_7h",
          "2024_Q1_holidays_8h",
          "2024_Q1_holidays_9h",
          "2024_Q1_holidays_10h",
          "2024_Q1_holidays_11h",
          "2024_Q1_holidays_12h",
          "2024_Q1_holidays_13h",
          "2024_Q1_holidays_14h",
          "2024_Q1_holidays_15h",
          "2024_Q1_holidays_16h",
          "2024_Q1_holidays_17h",
          "2024_Q1_holidays_18h",
          "2024_Q1_holidays_19h",
          "2024_Q1_holidays_20h",
          "2024_Q1_holidays_21h",
          "2024_Q1_holidays_22h",
          "2024_Q1_holidays_23h",
          "2024_Q2_labor_0h",
          "2024_Q2_labor_1h",
          "2024_Q2_labor_2h",
          "2024_Q2_labor_3h",
          "2024_Q2_labor_4h",
          "2024_Q2_labor_5h",
          "2024_Q2_labor_6h",
          "2024_Q2_labor_7h",
          "2024_Q2_labor_8h",
          "2024_Q2_labor_9h",
          "2024_Q2_labor_10h",
          "2024_Q2_labor_11h",
          "2024_Q2_labor_12h",
          "2024_Q2_labor_13h",
          "2024_Q2_labor_14h",
          "2024_Q2_labor_15h",
          "2024_Q2_labor_16h",
          "2024_Q2_labor_17h",
          "2024_Q2_labor_18h",
          "2024_Q2_labor_19h",
          "2024_Q2_labor_20h",
          "2024_Q2_labor_21h",
          "2024_Q2_labor_22h",
          "2024_Q2_labor_23h",
          "2024_Q2_holidays_0h",
          "2024_Q2_holidays_1h",
          "2024_Q2_holidays_2h",
          "2024_Q2_holidays_3h",
          "2024_Q2_holidays_4h",
          "2024_Q2_holidays_5h",
          "2024_Q2_holidays_6h",
          "2024_Q2_holidays_7h",
          "2024_Q2_holidays_8h",
          "2024_Q2_holidays_9h",
          "2024_Q2_holidays_10h",
          "2024_Q2_holidays_11h",
          "2024_Q2_holidays_12h",
          "2024_Q2_holidays_13h",
          "2024_Q2_holidays_14h",
          "2024_Q2_holidays_15h",
          "2024_Q2_holidays_16h",
          "2024_Q2_holidays_17h",
          "2024_Q2_holidays_18h",
          "2024_Q2_holidays_19h",
          "2024_Q2_holidays_20h",
          "2024_Q2_holidays_21h",
          "2024_Q2_holidays_22h",
          "2024_Q2_holidays_23h",
          "2024_Q3_labor_0h",
          "2024_Q3_labor_1h",
          "2024_Q3_labor_2h",
          "2024_Q3_labor_3h",
          "2024_Q3_labor_4h",
          "2024_Q3_labor_5h",
          "2024_Q3_labor_6h",
          "2024_Q3_labor_7h",
          "2024_Q3_labor_8h",
          "2024_Q3_labor_9h",
          "2024_Q3_labor_10h",
          "2024_Q3_labor_11h",
          "2024_Q3_labor_12h",
          "2024_Q3_labor_13h",
          "2024_Q3_labor_14h",
          "2024_Q3_labor_15h",
          "2024_Q3_labor_16h",
          "2024_Q3_labor_17h",
          "2024_Q3_labor_18h",
          "2024_Q3_labor_19h",
          "2024_Q3_labor_20h",
          "2024_Q3_labor_21h",
          "2024_Q3_labor_22h",
          "2024_Q3_labor_23h",
          "2024_Q3_holidays_0h",
          "2024_Q3_holidays_1h",
          "2024_Q3_holidays_2h",
          "2024_Q3_holidays_3h",
          "2024_Q3_holidays_4h",
          "2024_Q3_holidays_5h",
          "2024_Q3_holidays_6h",
          "2024_Q3_holidays_7h",
          "2024_Q3_holidays_8h",
          "2024_Q3_holidays_9h",
          "2024_Q3_holidays_10h",
          "2024_Q3_holidays_11h",
          "2024_Q3_holidays_12h",
          "2024_Q3_holidays_13h",
          "2024_Q3_holidays_14h",
          "2024_Q3_holidays_15h",
          "2024_Q3_holidays_16h",
          "2024_Q3_holidays_17h",
          "2024_Q3_holidays_18h",
          "2024_Q3_holidays_19h",
          "2024_Q3_holidays_20h",
          "2024_Q3_holidays_21h",
          "2024_Q3_holidays_22h",
          "2024_Q3_holidays_23h",
          "2024_Q4_labor_0h",
          "2024_Q4_labor_1h",
          "2024_Q4_labor_2h",
          "2024_Q4_labor_3h",
          "2024_Q4_labor_4h",
          "2024_Q4_labor_5h",
          "2024_Q4_labor_6h",
          "2024_Q4_labor_7h",
          "2024_Q4_labor_8h",
          "2024_Q4_labor_9h",
          "2024_Q4_labor_10h",
          "2024_Q4_labor_11h",
          "2024_Q4_labor_12h",
          "2024_Q4_labor_13h",
          "2024_Q4_labor_14h",
          "2024_Q4_labor_15h",
          "2024_Q4_labor_16h",
          "2024_Q4_labor_17h",
          "2024_Q4_labor_18h",
          "2024_Q4_labor_19h",
          "2024_Q4_labor_20h",
          "2024_Q4_labor_21h",
          "2024_Q4_labor_22h",
          "2024_Q4_labor_23h",
          "2024_Q4_holidays_0h",
          "2024_Q4_holidays_1h",
          "2024_Q4_holidays_2h",
          "2024_Q4_holidays_3h",
          "2024_Q4_holidays_4h",
          "2024_Q4_holidays_5h",
          "2024_Q4_holidays_6h",
          "2024_Q4_holidays_7h",
          "2024_Q4_holidays_8h",
          "2024_Q4_holidays_9h",
          "2024_Q4_holidays_10h",
          "2024_Q4_holidays_11h",
          "2024_Q4_holidays_12h",
          "2024_Q4_holidays_13h",
          "2024_Q4_holidays_14h",
          "2024_Q4_holidays_15h",
          "2024_Q4_holidays_16h",
          "2024_Q4_holidays_17h",
          "2024_Q4_holidays_18h",
          "2024_Q4_holidays_19h",
          "2024_Q4_holidays_20h",
          "2024_Q4_holidays_21h",
          "2024_Q4_holidays_22h",
          "2024_Q4_holidays_23h"
         ],
         "xaxis": "x",
         "y": [
          8592.514558621428,
          8119.6096602706,
          7846.90593540936,
          7651.445724301951,
          7557.302066494174,
          7673.283246254652,
          7985.235380886736,
          8167.876280786014,
          8652.251200504686,
          9179.507098911947,
          9507.797622871609,
          9832.592404217765,
          10090.802044621043,
          10047.508229236146,
          10069.127267161699,
          10167.534049913289,
          10145.191347714395,
          9976.904266223453,
          9786.110086163713,
          10288.978738010424,
          10400.116892875405,
          10141.776314256042,
          9706.864316270317,
          9130.509544973951,
          8071.108544847522,
          7889.0921956313905,
          7631.050304662316,
          7418.779673124633,
          7258.089934633885,
          7171.4935851857845,
          7102.570266195022,
          6886.897318127898,
          7108.385188360288,
          7509.487081714005,
          7879.2953724093,
          8177.2326571811145,
          8428.432137644466,
          8536.924045644913,
          8521.1609330654,
          8437.14470729176,
          8364.54523888845,
          8299.442877760206,
          8344.56402460057,
          9047.985835784586,
          9286.033869070967,
          9172.02228511066,
          8900.463377116117,
          8508.917195687312,
          8528.707753453162,
          8035.731421561775,
          7770.480590208936,
          7579.124695370945,
          7492.510558389982,
          7650.1211813719165,
          8024.7322819659485,
          8183.434343288929,
          8659.162829819534,
          9151.66125716241,
          9462.593732534931,
          9798.236957056492,
          10051.495365941888,
          9974.598235863508,
          10025.382400546478,
          10139.76454471653,
          10135.484361680268,
          9975.19377318418,
          9720.442450691988,
          10193.820257244264,
          10398.41160445882,
          10163.116406883317,
          9702.21258816263,
          9082.011500263423,
          8002.9294450337775,
          7957.699409326431,
          7650.424520033232,
          7414.3141991738385,
          7246.599458307318,
          7165.52409859364,
          7059.824762647722,
          6910.023623979962,
          7203.510682056743,
          7584.465022533922,
          7936.174332088902,
          8224.134021509797,
          8460.745641691778,
          8564.67968004747,
          8559.62942218966,
          8448.846879828121,
          8363.244314198793,
          8293.83513669152,
          8309.671894035819,
          8983.739655286347,
          9284.915786812757,
          9171.15166711765,
          8878.878750393586,
          8460.453761711702,
          8817.61004691434,
          8309.450163708982,
          8019.536843265064,
          7813.148386460622,
          7715.2739352843,
          7838.410004196523,
          8123.9595959561075,
          8306.730411427654,
          8830.570349680436,
          9346.875154688732,
          9677.36598874583,
          10032.536907403135,
          10297.75654641244,
          10241.079985035427,
          10295.383754010902,
          10409.442531457225,
          10384.869909578516,
          10231.943519895214,
          9947.878782557635,
          10338.580207107658,
          10634.767808293302,
          10436.500460215759,
          9998.578770149452,
          9392.652831693827,
          8244.675809952689,
          8151.915601542037,
          7856.879412717484,
          7619.695927373226,
          7441.034345860732,
          7342.554630568545,
          7224.2980882775855,
          7054.6088894249115,
          7351.2024119671905,
          7726.176448431582,
          8048.4427844922575,
          8313.302043158457,
          8535.53148295655,
          8666.068008710337,
          8674.987006309191,
          8570.706179856896,
          8478.409940161891,
          8409.019939197577,
          8418.475018239276,
          9029.36876160981,
          9430.235233351426,
          9339.850200136581,
          9095.594286159903,
          8691.140615593227,
          9234.03018261829,
          8715.550262803517,
          8418.299362398016,
          8212.23882772263,
          8111.247388462553,
          8243.329436007509,
          8540.242155460177,
          8734.844976406117,
          9269.343230354703,
          9788.113771467235,
          10125.86440355856,
          10481.25366030078,
          10741.898775562444,
          10698.097634249181,
          10759.799796108526,
          10877.065446197963,
          10854.719113869352,
          10713.193445469511,
          10598.940048113269,
          11114.266196015236,
          11096.286367541406,
          10863.726349404758,
          10417.872512082497,
          9808.919057555602,
          8611.698405147652,
          8433.513650921515,
          8135.0197239459085,
          7884.000093519622,
          7663.936301972573,
          7569.998695984389,
          7453.660827483131,
          7294.016739552859,
          7588.732942431619,
          7983.032444307331,
          8342.4846518089,
          8666.14556430224,
          8930.95245893999,
          9058.665980272883,
          9059.373918501413,
          8959.029337830267,
          8897.642159058354,
          8836.672527531213,
          8999.978622382312,
          9741.397763494268,
          9880.351335460691,
          9762.423653574595,
          9497.469858719614,
          9086.359320264808,
          8856.141312234084,
          8327.361182771292,
          8051.47795866988,
          7857.710650445138,
          7747.816214354842,
          7855.906918347648,
          8193.391112018662,
          8323.6397409703,
          8734.106689240585,
          9243.022944816448,
          9568.573536633956,
          9903.576653908573,
          10181.927502473973,
          10165.46126402129,
          10227.222992300856,
          10353.202157827336,
          10337.775638095922,
          10183.38802447185,
          9942.130553361178,
          10437.594382346708,
          10670.726593193269,
          10440.937640625536,
          10024.627735570397,
          9430.486234847252,
          8660.247443698325,
          8582.216039975707,
          8325.59886043997,
          8074.431586225759,
          7971.911800641597,
          8010.043271826651,
          8172.200457220532,
          8229.951950935458,
          8643.849652876006,
          9214.18419074623,
          9601.18676304179,
          9937.792613515865,
          10173.405879354837,
          10151.384074244388,
          10037.57341041632,
          9890.110453973051,
          9822.567006764064,
          9670.373804876002,
          9604.19627587612,
          10218.927736918708,
          10423.02190820159,
          10137.462321230127,
          9670.824139931701,
          9145.21160321648,
          8662.117581461527,
          8237.349680502648,
          7955.996067521508,
          7754.073013919379,
          7652.181730552923,
          7767.589853545279,
          8062.629667368843,
          8174.525518778057,
          8634.20552441946,
          9125.440825370102,
          9454.329967159227,
          9793.048696609932,
          10055.038002086765,
          10011.680080565411,
          10051.289138523123,
          10122.789906310021,
          10104.13340372365,
          9956.094284806215,
          9747.273639242529,
          10278.848310293204,
          10510.570610532859,
          10286.685365689445,
          9835.185333838777,
          9219.356117702235,
          8893.334617713836,
          8342.096121666618,
          8077.837509950564,
          7880.370793781615,
          7791.927408596226,
          7981.733872843548,
          8413.55060281579,
          8570.509889900703,
          9042.490581259359,
          9515.181120924326,
          9810.749667549557,
          10158.115925795142,
          10418.344767022312,
          10314.541979067957,
          10390.054550382505,
          10559.779641617442,
          10560.223819907911,
          10386.317140986474,
          10077.082204561902,
          10505.556089123671,
          10689.257972294881,
          10459.040769731972,
          10014.983495053977,
          9442.18252305843,
          8946.648156505962,
          8504.932266153248,
          8208.201119434349,
          7995.764801763991,
          7881.138586987371,
          7965.977697275347,
          8180.348921739539,
          8301.849027845386,
          8795.824405366318,
          9299.401456347587,
          9639.782093148442,
          9989.308732444757,
          10255.95191781463,
          10229.823607051909,
          10272.660437057224,
          10344.356117066942,
          10311.534695183653,
          10173.72854432826,
          9940.881834972735,
          10391.30099267251,
          10720.998952210604,
          10533.5974219387,
          10114.062844116963,
          9519.909549163585,
          9236.970818159072,
          8673.600329400673,
          8378.368949893847,
          8145.255914446593,
          8050.465477252405,
          8199.10125843894,
          8548.029013261314,
          8770.31184379595,
          9319.779399228037,
          9851.96604438502,
          10175.347798413868,
          10543.564177983153,
          10808.999504664793,
          10748.991568645946,
          10842.77102030041,
          11022.317846568978,
          10978.846832853624,
          10791.120451301444,
          10438.668673362792,
          10773.971263912532,
          11035.592311593096,
          10840.856160057312,
          10398.150447313346,
          9804.194332805087,
          9363.045279957376,
          8880.966902798507,
          8579.256922892037,
          8364.800928391796,
          8242.878488833256,
          8338.237315667406,
          8564.344888419811,
          8699.412299766196,
          9208.322401987667,
          9718.092778975602,
          10070.029332591967,
          10431.304386373082,
          10700.896023056921,
          10685.650603719721,
          10739.777487500045,
          10820.673938382308,
          10790.942755490998,
          10665.12960448207,
          10599.678916391105,
          11181.066680999733,
          11193.505846826547,
          10969.271339891648,
          10542.022820341492,
          9941.07160644964,
          9674.599343804344,
          9167.762934651788,
          8847.289137541764,
          8612.160268352705,
          8498.81187009642,
          8641.989705544793,
          8987.828858252706,
          9198.329899554836,
          9728.977524188327,
          10274.038099777412,
          10610.085006663383,
          10971.54230343732,
          11244.551090158511,
          11204.81491420997,
          11281.962443217575,
          11445.019499815795,
          11428.067384844253,
          11249.782383075377,
          11104.694737396581,
          11568.540301978603,
          11526.12582928669,
          11310.455589808364,
          10841.889704473282,
          10256.411262093823
         ],
         "yaxis": "y"
        },
        {
         "hovertemplate": "Series=Demand<br>timestamp=%{x}<br>Value (MW)=%{y}<extra></extra>",
         "legendgroup": "Demand",
         "line": {
          "color": "#EF553B",
          "dash": "solid"
         },
         "marker": {
          "symbol": "circle"
         },
         "mode": "lines",
         "name": "Demand",
         "orientation": "v",
         "showlegend": true,
         "type": "scatter",
         "x": [
          "2023_Q1_labor_0h",
          "2023_Q1_labor_1h",
          "2023_Q1_labor_2h",
          "2023_Q1_labor_3h",
          "2023_Q1_labor_4h",
          "2023_Q1_labor_5h",
          "2023_Q1_labor_6h",
          "2023_Q1_labor_7h",
          "2023_Q1_labor_8h",
          "2023_Q1_labor_9h",
          "2023_Q1_labor_10h",
          "2023_Q1_labor_11h",
          "2023_Q1_labor_12h",
          "2023_Q1_labor_13h",
          "2023_Q1_labor_14h",
          "2023_Q1_labor_15h",
          "2023_Q1_labor_16h",
          "2023_Q1_labor_17h",
          "2023_Q1_labor_18h",
          "2023_Q1_labor_19h",
          "2023_Q1_labor_20h",
          "2023_Q1_labor_21h",
          "2023_Q1_labor_22h",
          "2023_Q1_labor_23h",
          "2023_Q1_holidays_0h",
          "2023_Q1_holidays_1h",
          "2023_Q1_holidays_2h",
          "2023_Q1_holidays_3h",
          "2023_Q1_holidays_4h",
          "2023_Q1_holidays_5h",
          "2023_Q1_holidays_6h",
          "2023_Q1_holidays_7h",
          "2023_Q1_holidays_8h",
          "2023_Q1_holidays_9h",
          "2023_Q1_holidays_10h",
          "2023_Q1_holidays_11h",
          "2023_Q1_holidays_12h",
          "2023_Q1_holidays_13h",
          "2023_Q1_holidays_14h",
          "2023_Q1_holidays_15h",
          "2023_Q1_holidays_16h",
          "2023_Q1_holidays_17h",
          "2023_Q1_holidays_18h",
          "2023_Q1_holidays_19h",
          "2023_Q1_holidays_20h",
          "2023_Q1_holidays_21h",
          "2023_Q1_holidays_22h",
          "2023_Q1_holidays_23h",
          "2023_Q2_labor_0h",
          "2023_Q2_labor_1h",
          "2023_Q2_labor_2h",
          "2023_Q2_labor_3h",
          "2023_Q2_labor_4h",
          "2023_Q2_labor_5h",
          "2023_Q2_labor_6h",
          "2023_Q2_labor_7h",
          "2023_Q2_labor_8h",
          "2023_Q2_labor_9h",
          "2023_Q2_labor_10h",
          "2023_Q2_labor_11h",
          "2023_Q2_labor_12h",
          "2023_Q2_labor_13h",
          "2023_Q2_labor_14h",
          "2023_Q2_labor_15h",
          "2023_Q2_labor_16h",
          "2023_Q2_labor_17h",
          "2023_Q2_labor_18h",
          "2023_Q2_labor_19h",
          "2023_Q2_labor_20h",
          "2023_Q2_labor_21h",
          "2023_Q2_labor_22h",
          "2023_Q2_labor_23h",
          "2023_Q2_holidays_0h",
          "2023_Q2_holidays_1h",
          "2023_Q2_holidays_2h",
          "2023_Q2_holidays_3h",
          "2023_Q2_holidays_4h",
          "2023_Q2_holidays_5h",
          "2023_Q2_holidays_6h",
          "2023_Q2_holidays_7h",
          "2023_Q2_holidays_8h",
          "2023_Q2_holidays_9h",
          "2023_Q2_holidays_10h",
          "2023_Q2_holidays_11h",
          "2023_Q2_holidays_12h",
          "2023_Q2_holidays_13h",
          "2023_Q2_holidays_14h",
          "2023_Q2_holidays_15h",
          "2023_Q2_holidays_16h",
          "2023_Q2_holidays_17h",
          "2023_Q2_holidays_18h",
          "2023_Q2_holidays_19h",
          "2023_Q2_holidays_20h",
          "2023_Q2_holidays_21h",
          "2023_Q2_holidays_22h",
          "2023_Q2_holidays_23h",
          "2023_Q3_labor_0h",
          "2023_Q3_labor_1h",
          "2023_Q3_labor_2h",
          "2023_Q3_labor_3h",
          "2023_Q3_labor_4h",
          "2023_Q3_labor_5h",
          "2023_Q3_labor_6h",
          "2023_Q3_labor_7h",
          "2023_Q3_labor_8h",
          "2023_Q3_labor_9h",
          "2023_Q3_labor_10h",
          "2023_Q3_labor_11h",
          "2023_Q3_labor_12h",
          "2023_Q3_labor_13h",
          "2023_Q3_labor_14h",
          "2023_Q3_labor_15h",
          "2023_Q3_labor_16h",
          "2023_Q3_labor_17h",
          "2023_Q3_labor_18h",
          "2023_Q3_labor_19h",
          "2023_Q3_labor_20h",
          "2023_Q3_labor_21h",
          "2023_Q3_labor_22h",
          "2023_Q3_labor_23h",
          "2023_Q3_holidays_0h",
          "2023_Q3_holidays_1h",
          "2023_Q3_holidays_2h",
          "2023_Q3_holidays_3h",
          "2023_Q3_holidays_4h",
          "2023_Q3_holidays_5h",
          "2023_Q3_holidays_6h",
          "2023_Q3_holidays_7h",
          "2023_Q3_holidays_8h",
          "2023_Q3_holidays_9h",
          "2023_Q3_holidays_10h",
          "2023_Q3_holidays_11h",
          "2023_Q3_holidays_12h",
          "2023_Q3_holidays_13h",
          "2023_Q3_holidays_14h",
          "2023_Q3_holidays_15h",
          "2023_Q3_holidays_16h",
          "2023_Q3_holidays_17h",
          "2023_Q3_holidays_18h",
          "2023_Q3_holidays_19h",
          "2023_Q3_holidays_20h",
          "2023_Q3_holidays_21h",
          "2023_Q3_holidays_22h",
          "2023_Q3_holidays_23h",
          "2023_Q4_labor_0h",
          "2023_Q4_labor_1h",
          "2023_Q4_labor_2h",
          "2023_Q4_labor_3h",
          "2023_Q4_labor_4h",
          "2023_Q4_labor_5h",
          "2023_Q4_labor_6h",
          "2023_Q4_labor_7h",
          "2023_Q4_labor_8h",
          "2023_Q4_labor_9h",
          "2023_Q4_labor_10h",
          "2023_Q4_labor_11h",
          "2023_Q4_labor_12h",
          "2023_Q4_labor_13h",
          "2023_Q4_labor_14h",
          "2023_Q4_labor_15h",
          "2023_Q4_labor_16h",
          "2023_Q4_labor_17h",
          "2023_Q4_labor_18h",
          "2023_Q4_labor_19h",
          "2023_Q4_labor_20h",
          "2023_Q4_labor_21h",
          "2023_Q4_labor_22h",
          "2023_Q4_labor_23h",
          "2023_Q4_holidays_0h",
          "2023_Q4_holidays_1h",
          "2023_Q4_holidays_2h",
          "2023_Q4_holidays_3h",
          "2023_Q4_holidays_4h",
          "2023_Q4_holidays_5h",
          "2023_Q4_holidays_6h",
          "2023_Q4_holidays_7h",
          "2023_Q4_holidays_8h",
          "2023_Q4_holidays_9h",
          "2023_Q4_holidays_10h",
          "2023_Q4_holidays_11h",
          "2023_Q4_holidays_12h",
          "2023_Q4_holidays_13h",
          "2023_Q4_holidays_14h",
          "2023_Q4_holidays_15h",
          "2023_Q4_holidays_16h",
          "2023_Q4_holidays_17h",
          "2023_Q4_holidays_18h",
          "2023_Q4_holidays_19h",
          "2023_Q4_holidays_20h",
          "2023_Q4_holidays_21h",
          "2023_Q4_holidays_22h",
          "2023_Q4_holidays_23h",
          "2024_Q1_labor_0h",
          "2024_Q1_labor_1h",
          "2024_Q1_labor_2h",
          "2024_Q1_labor_3h",
          "2024_Q1_labor_4h",
          "2024_Q1_labor_5h",
          "2024_Q1_labor_6h",
          "2024_Q1_labor_7h",
          "2024_Q1_labor_8h",
          "2024_Q1_labor_9h",
          "2024_Q1_labor_10h",
          "2024_Q1_labor_11h",
          "2024_Q1_labor_12h",
          "2024_Q1_labor_13h",
          "2024_Q1_labor_14h",
          "2024_Q1_labor_15h",
          "2024_Q1_labor_16h",
          "2024_Q1_labor_17h",
          "2024_Q1_labor_18h",
          "2024_Q1_labor_19h",
          "2024_Q1_labor_20h",
          "2024_Q1_labor_21h",
          "2024_Q1_labor_22h",
          "2024_Q1_labor_23h",
          "2024_Q1_holidays_0h",
          "2024_Q1_holidays_1h",
          "2024_Q1_holidays_2h",
          "2024_Q1_holidays_3h",
          "2024_Q1_holidays_4h",
          "2024_Q1_holidays_5h",
          "2024_Q1_holidays_6h",
          "2024_Q1_holidays_7h",
          "2024_Q1_holidays_8h",
          "2024_Q1_holidays_9h",
          "2024_Q1_holidays_10h",
          "2024_Q1_holidays_11h",
          "2024_Q1_holidays_12h",
          "2024_Q1_holidays_13h",
          "2024_Q1_holidays_14h",
          "2024_Q1_holidays_15h",
          "2024_Q1_holidays_16h",
          "2024_Q1_holidays_17h",
          "2024_Q1_holidays_18h",
          "2024_Q1_holidays_19h",
          "2024_Q1_holidays_20h",
          "2024_Q1_holidays_21h",
          "2024_Q1_holidays_22h",
          "2024_Q1_holidays_23h",
          "2024_Q2_labor_0h",
          "2024_Q2_labor_1h",
          "2024_Q2_labor_2h",
          "2024_Q2_labor_3h",
          "2024_Q2_labor_4h",
          "2024_Q2_labor_5h",
          "2024_Q2_labor_6h",
          "2024_Q2_labor_7h",
          "2024_Q2_labor_8h",
          "2024_Q2_labor_9h",
          "2024_Q2_labor_10h",
          "2024_Q2_labor_11h",
          "2024_Q2_labor_12h",
          "2024_Q2_labor_13h",
          "2024_Q2_labor_14h",
          "2024_Q2_labor_15h",
          "2024_Q2_labor_16h",
          "2024_Q2_labor_17h",
          "2024_Q2_labor_18h",
          "2024_Q2_labor_19h",
          "2024_Q2_labor_20h",
          "2024_Q2_labor_21h",
          "2024_Q2_labor_22h",
          "2024_Q2_labor_23h",
          "2024_Q2_holidays_0h",
          "2024_Q2_holidays_1h",
          "2024_Q2_holidays_2h",
          "2024_Q2_holidays_3h",
          "2024_Q2_holidays_4h",
          "2024_Q2_holidays_5h",
          "2024_Q2_holidays_6h",
          "2024_Q2_holidays_7h",
          "2024_Q2_holidays_8h",
          "2024_Q2_holidays_9h",
          "2024_Q2_holidays_10h",
          "2024_Q2_holidays_11h",
          "2024_Q2_holidays_12h",
          "2024_Q2_holidays_13h",
          "2024_Q2_holidays_14h",
          "2024_Q2_holidays_15h",
          "2024_Q2_holidays_16h",
          "2024_Q2_holidays_17h",
          "2024_Q2_holidays_18h",
          "2024_Q2_holidays_19h",
          "2024_Q2_holidays_20h",
          "2024_Q2_holidays_21h",
          "2024_Q2_holidays_22h",
          "2024_Q2_holidays_23h",
          "2024_Q3_labor_0h",
          "2024_Q3_labor_1h",
          "2024_Q3_labor_2h",
          "2024_Q3_labor_3h",
          "2024_Q3_labor_4h",
          "2024_Q3_labor_5h",
          "2024_Q3_labor_6h",
          "2024_Q3_labor_7h",
          "2024_Q3_labor_8h",
          "2024_Q3_labor_9h",
          "2024_Q3_labor_10h",
          "2024_Q3_labor_11h",
          "2024_Q3_labor_12h",
          "2024_Q3_labor_13h",
          "2024_Q3_labor_14h",
          "2024_Q3_labor_15h",
          "2024_Q3_labor_16h",
          "2024_Q3_labor_17h",
          "2024_Q3_labor_18h",
          "2024_Q3_labor_19h",
          "2024_Q3_labor_20h",
          "2024_Q3_labor_21h",
          "2024_Q3_labor_22h",
          "2024_Q3_labor_23h",
          "2024_Q3_holidays_0h",
          "2024_Q3_holidays_1h",
          "2024_Q3_holidays_2h",
          "2024_Q3_holidays_3h",
          "2024_Q3_holidays_4h",
          "2024_Q3_holidays_5h",
          "2024_Q3_holidays_6h",
          "2024_Q3_holidays_7h",
          "2024_Q3_holidays_8h",
          "2024_Q3_holidays_9h",
          "2024_Q3_holidays_10h",
          "2024_Q3_holidays_11h",
          "2024_Q3_holidays_12h",
          "2024_Q3_holidays_13h",
          "2024_Q3_holidays_14h",
          "2024_Q3_holidays_15h",
          "2024_Q3_holidays_16h",
          "2024_Q3_holidays_17h",
          "2024_Q3_holidays_18h",
          "2024_Q3_holidays_19h",
          "2024_Q3_holidays_20h",
          "2024_Q3_holidays_21h",
          "2024_Q3_holidays_22h",
          "2024_Q3_holidays_23h",
          "2024_Q4_labor_0h",
          "2024_Q4_labor_1h",
          "2024_Q4_labor_2h",
          "2024_Q4_labor_3h",
          "2024_Q4_labor_4h",
          "2024_Q4_labor_5h",
          "2024_Q4_labor_6h",
          "2024_Q4_labor_7h",
          "2024_Q4_labor_8h",
          "2024_Q4_labor_9h",
          "2024_Q4_labor_10h",
          "2024_Q4_labor_11h",
          "2024_Q4_labor_12h",
          "2024_Q4_labor_13h",
          "2024_Q4_labor_14h",
          "2024_Q4_labor_15h",
          "2024_Q4_labor_16h",
          "2024_Q4_labor_17h",
          "2024_Q4_labor_18h",
          "2024_Q4_labor_19h",
          "2024_Q4_labor_20h",
          "2024_Q4_labor_21h",
          "2024_Q4_labor_22h",
          "2024_Q4_labor_23h",
          "2024_Q4_holidays_0h",
          "2024_Q4_holidays_1h",
          "2024_Q4_holidays_2h",
          "2024_Q4_holidays_3h",
          "2024_Q4_holidays_4h",
          "2024_Q4_holidays_5h",
          "2024_Q4_holidays_6h",
          "2024_Q4_holidays_7h",
          "2024_Q4_holidays_8h",
          "2024_Q4_holidays_9h",
          "2024_Q4_holidays_10h",
          "2024_Q4_holidays_11h",
          "2024_Q4_holidays_12h",
          "2024_Q4_holidays_13h",
          "2024_Q4_holidays_14h",
          "2024_Q4_holidays_15h",
          "2024_Q4_holidays_16h",
          "2024_Q4_holidays_17h",
          "2024_Q4_holidays_18h",
          "2024_Q4_holidays_19h",
          "2024_Q4_holidays_20h",
          "2024_Q4_holidays_21h",
          "2024_Q4_holidays_22h",
          "2024_Q4_holidays_23h"
         ],
         "xaxis": "x",
         "y": [
          8433.925628181818,
          7961.777021558442,
          7689.768630259741,
          7496.936628181818,
          7404.3142018181825,
          7518.465903246753,
          7827.851615844156,
          8010.2178183116885,
          8493.745995844156,
          9020.348477922078,
          9348.28237909091,
          9672.738449999999,
          9930.652590909092,
          9887.388500259742,
          9908.975837402597,
          10007.235422987012,
          9984.89375883117,
          9816.864358441559,
          9626.386632337662,
          10128.335234675325,
          10239.197506753246,
          9981.452143116883,
          9547.223912857144,
          8971.423467532468,
          7915.745849230769,
          7734.308102307692,
          7477.161634615385,
          7265.73377923077,
          7105.733623846154,
          7019.515148461538,
          6951.113508461538,
          6737.091120769232,
          6957.859382307693,
          7357.334902307692,
          7725.791179230769,
          8022.721860769231,
          8273.046973076924,
          8381.071561538462,
          8365.173426153848,
          8281.184943846154,
          8208.57834076923,
          8143.480176923076,
          8188.391764615384,
          8889.701825384616,
          9126.980166923076,
          9013.370853846154,
          8742.65185,
          8352.257413076923,
          8371.062437594937,
          7880.007149240507,
          7616.331587088607,
          7428.478952025316,
          7343.517406329114,
          7498.170236582278,
          7869.240354936709,
          8027.595794683544,
          8501.765575316454,
          8992.948700506327,
          9303.172491392404,
          9638.030230759494,
          9890.666353037974,
          9813.854501012658,
          9864.382878860759,
          9978.304731392405,
          9973.844461645569,
          9813.786130632912,
          9559.64093493671,
          10031.831412278481,
          10235.827093037975,
          10001.210298734179,
          9541.49341443038,
          8922.780482151898,
          7839.791318461538,
          7794.76746,
          7489.425219999999,
          7255.098165384616,
          7088.807711538461,
          7008.434444615385,
          6904.153990769231,
          6756.792933846154,
          7048.240289230769,
          7426.4016523076925,
          7775.733303846155,
          8061.908998461538,
          8297.13121153846,
          8400.372485384614,
          8395.05037,
          8284.38104923077,
          8198.809527692307,
          8129.390483846153,
          8145.083151538462,
          8817.156013846154,
          9117.758744615385,
          9004.20486076923,
          8712.553353846153,
          8295.332004615384,
          8677.41262278481,
          8177.1549622784805,
          7892.239649746834,
          7689.089404177215,
          7592.601225063291,
          7714.008402658228,
          7995.989843670886,
          8177.795339367089,
          8694.932430253164,
          9205.708256835444,
          9534.261648227848,
          9887.591260759493,
          10150.997632658227,
          10094.281113417721,
          10147.785641392406,
          10261.05129835443,
          10236.169327848102,
          10083.429637341771,
          9800.241118860758,
          10189.54304822785,
          10484.522426455696,
          10287.091201898733,
          9850.788508987342,
          9248.196315443038,
          8098.961744615385,
          8007.003109230769,
          7714.587510769231,
          7479.506356923077,
          7302.3719392307685,
          7204.71459076923,
          7087.738656153846,
          6920.2003038461535,
          7215.325728461538,
          7588.036129230769,
          7908.152577692307,
          8170.965546153847,
          8391.087420769232,
          8520.060135384616,
          8528.24517076923,
          8424.051268461539,
          8331.669406923076,
          8262.09947,
          8271.165360769231,
          8877.298853076923,
          9275.389135384616,
          9185.62790153846,
          8943.058528461539,
          8541.601018461539,
          9071.161731794871,
          8555.415286282052,
          8262.992921794872,
          8060.505426282051,
          7961.333961538461,
          8091.0522121794875,
          8383.579894102564,
          8576.958385897437,
          9107.356017948718,
          9624.676166666666,
          9961.598653076922,
          10316.072334743589,
          10576.000281153847,
          10532.175060897436,
          10593.513443846154,
          10710.242932435896,
          10687.706372051282,
          10546.29177525641,
          10432.22877025641,
          10946.394297948718,
          10928.459172948718,
          10696.416159102566,
          10251.56795346154,
          9644.194098461538,
          8430.734503076923,
          8254.708875384615,
          7960.948644615384,
          7714.642799230769,
          7499.121770769231,
          7407.197003076923,
          7294.323368461539,
          7140.836178461538,
          7431.696433076923,
          7819.822990769231,
          8173.726309230769,
          8492.151588461538,
          8752.553193076921,
          8877.780070769231,
          8877.415678461539,
          8776.918413846153,
          8715.102506153846,
          8653.945196153847,
          8816.369189230769,
          9555.683283076924,
          9694.710018461537,
          9576.75964076923,
          9312.476726923078,
          8902.518053076923,
          8703.468993529412,
          8175.528252549019,
          7900.256560980392,
          7707.01625117647,
          7597.462251960784,
          7705.236385294117,
          8042.00186490196,
          8172.231503137255,
          8585.536029803923,
          9096.820419607844,
          9424.463006666667,
          9758.215212352941,
          10032.938335686275,
          10012.783907254903,
          10073.131480588236,
          10198.683913529412,
          10182.995385098038,
          10028.702961764706,
          9787.954675490195,
          10282.147396470587,
          10514.502943333333,
          10285.480677450982,
          9870.226050980393,
          9277.078039019609,
          8519.7734875,
          8442.6349975,
          8189.0950975,
          7941.09089375,
          7839.88710875,
          7877.51668125,
          8040.0772175,
          8099.894155,
          8515.19549,
          9085.392485,
          9472.74923875,
          9807.7961175,
          10040.6842875,
          10016.524785,
          9900.95373125,
          9750.437275,
          9676.74482375,
          9519.92339625,
          9452.96164,
          10065.511535,
          10268.792928750001,
          9984.4392075,
          9519.428635,
          8999.329235,
          8510.783346962024,
          8087.45100164557,
          7807.228150253165,
          7606.224563417722,
          7504.830430886077,
          7619.679603797468,
          7913.661506329115,
          8025.609189873418,
          8485.65271886076,
          8977.880857468353,
          9307.847282151899,
          9644.528048734177,
          9902.424132405064,
          9858.170971898735,
          9897.38926329114,
          9968.205563670886,
          9949.100405949368,
          9801.076501772151,
          9592.7736121519,
          10122.66254721519,
          10353.535928101266,
          10130.467181772152,
          9680.454898227848,
          9066.401914050633,
          8752.020920769231,
          8204.576056153846,
          7942.560088461539,
          7746.873560000001,
          7659.964826153846,
          7847.25852,
          8275.957734615386,
          8435.061616153846,
          8907.541358461538,
          9380.243558461541,
          9676.63687076923,
          10021.366591538463,
          10277.738584615385,
          10172.217063076923,
          10244.677502307693,
          10413.40605846154,
          10413.450106923077,
          10239.636333076924,
          9930.886994615385,
          10358.5769,
          10542.053996923076,
          10312.144448461539,
          9868.95934846154,
          9298.107086923075,
          8810.987871012658,
          8371.42409443038,
          8076.215907721518,
          7864.876453924051,
          7750.831931392405,
          7835.2344008860755,
          8048.867810886075,
          8170.69820392405,
          8663.261972025317,
          9165.336967088608,
          9504.834040759493,
          9853.27385949367,
          10118.93399101266,
          10092.57648493671,
          10134.66666721519,
          10205.347651012658,
          10171.807377848101,
          10033.699021265824,
          9801.336792405064,
          10250.146737088608,
          10578.57893164557,
          10391.922212658228,
          9973.907308607595,
          9381.866676962025,
          9112.163164615384,
          8557.412875384616,
          8266.831575384616,
          8037.427307692307,
          7944.0768800000005,
          8090.4980323076925,
          8436.765934615385,
          8661.810053076922,
          9209.397515384615,
          9739.281863846154,
          10062.395696153846,
          10427.222661538462,
          10688.27328076923,
          10626.285923076923,
          10713.834903076924,
          10885.948163846153,
          10838.87451923077,
          10650.458375384615,
          10299.30134,
          10632.965923846154,
          10893.485738461539,
          10699.562604615385,
          10259.041333846153,
          9671.561883076924,
          9205.099357820513,
          8727.163473974359,
          8428.237426282052,
          8216.026787820512,
          8095.501771923077,
          8189.811211153847,
          8414.635056153847,
          8552.067624230769,
          9060.047372435898,
          9568.80488551282,
          9920.49229397436,
          10280.164786153846,
          10547.427947948718,
          10530.727281410256,
          10581.717796153847,
          10658.559956025641,
          10628.374727307692,
          10502.340181282052,
          10436.881732948717,
          11016.655371282051,
          11029.063148846153,
          10805.483419358974,
          10379.413042948718,
          9780.229526153846,
          9512.839891538462,
          9011.83577,
          8695.64880923077,
          8463.844897692308,
          8352.128676153847,
          8493.24831846154,
          8835.866486923078,
          9048.258353076923,
          9577.82327,
          10122.087078461538,
          10458.664003076923,
          10819.254447692307,
          11090.243833846154,
          11048.591672307692,
          11121.344451538462,
          11278.167543846153,
          11256.332591538461,
          11075.605643846153,
          10930.743658461539,
          11391.138306923078,
          11349.050121538463,
          11135.013776923077,
          10670.062728461538,
          10089.335965384615
         ],
         "yaxis": "y"
        }
       ],
       "layout": {
        "legend": {
         "title": {
          "text": "Series"
         },
         "tracegroupgap": 0
        },
        "margin": {
         "t": 60
        },
        "plot_bgcolor": "white",
        "template": {
         "data": {
          "bar": [
           {
            "error_x": {
             "color": "#2a3f5f"
            },
            "error_y": {
             "color": "#2a3f5f"
            },
            "marker": {
             "line": {
              "color": "#E5ECF6",
              "width": 0.5
             },
             "pattern": {
              "fillmode": "overlay",
              "size": 10,
              "solidity": 0.2
             }
            },
            "type": "bar"
           }
          ],
          "barpolar": [
           {
            "marker": {
             "line": {
              "color": "#E5ECF6",
              "width": 0.5
             },
             "pattern": {
              "fillmode": "overlay",
              "size": 10,
              "solidity": 0.2
             }
            },
            "type": "barpolar"
           }
          ],
          "carpet": [
           {
            "aaxis": {
             "endlinecolor": "#2a3f5f",
             "gridcolor": "white",
             "linecolor": "white",
             "minorgridcolor": "white",
             "startlinecolor": "#2a3f5f"
            },
            "baxis": {
             "endlinecolor": "#2a3f5f",
             "gridcolor": "white",
             "linecolor": "white",
             "minorgridcolor": "white",
             "startlinecolor": "#2a3f5f"
            },
            "type": "carpet"
           }
          ],
          "choropleth": [
           {
            "colorbar": {
             "outlinewidth": 0,
             "ticks": ""
            },
            "type": "choropleth"
           }
          ],
          "contour": [
           {
            "colorbar": {
             "outlinewidth": 0,
             "ticks": ""
            },
            "colorscale": [
             [
              0,
              "#0d0887"
             ],
             [
              0.1111111111111111,
              "#46039f"
             ],
             [
              0.2222222222222222,
              "#7201a8"
             ],
             [
              0.3333333333333333,
              "#9c179e"
             ],
             [
              0.4444444444444444,
              "#bd3786"
             ],
             [
              0.5555555555555556,
              "#d8576b"
             ],
             [
              0.6666666666666666,
              "#ed7953"
             ],
             [
              0.7777777777777778,
              "#fb9f3a"
             ],
             [
              0.8888888888888888,
              "#fdca26"
             ],
             [
              1,
              "#f0f921"
             ]
            ],
            "type": "contour"
           }
          ],
          "contourcarpet": [
           {
            "colorbar": {
             "outlinewidth": 0,
             "ticks": ""
            },
            "type": "contourcarpet"
           }
          ],
          "heatmap": [
           {
            "colorbar": {
             "outlinewidth": 0,
             "ticks": ""
            },
            "colorscale": [
             [
              0,
              "#0d0887"
             ],
             [
              0.1111111111111111,
              "#46039f"
             ],
             [
              0.2222222222222222,
              "#7201a8"
             ],
             [
              0.3333333333333333,
              "#9c179e"
             ],
             [
              0.4444444444444444,
              "#bd3786"
             ],
             [
              0.5555555555555556,
              "#d8576b"
             ],
             [
              0.6666666666666666,
              "#ed7953"
             ],
             [
              0.7777777777777778,
              "#fb9f3a"
             ],
             [
              0.8888888888888888,
              "#fdca26"
             ],
             [
              1,
              "#f0f921"
             ]
            ],
            "type": "heatmap"
           }
          ],
          "heatmapgl": [
           {
            "colorbar": {
             "outlinewidth": 0,
             "ticks": ""
            },
            "colorscale": [
             [
              0,
              "#0d0887"
             ],
             [
              0.1111111111111111,
              "#46039f"
             ],
             [
              0.2222222222222222,
              "#7201a8"
             ],
             [
              0.3333333333333333,
              "#9c179e"
             ],
             [
              0.4444444444444444,
              "#bd3786"
             ],
             [
              0.5555555555555556,
              "#d8576b"
             ],
             [
              0.6666666666666666,
              "#ed7953"
             ],
             [
              0.7777777777777778,
              "#fb9f3a"
             ],
             [
              0.8888888888888888,
              "#fdca26"
             ],
             [
              1,
              "#f0f921"
             ]
            ],
            "type": "heatmapgl"
           }
          ],
          "histogram": [
           {
            "marker": {
             "pattern": {
              "fillmode": "overlay",
              "size": 10,
              "solidity": 0.2
             }
            },
            "type": "histogram"
           }
          ],
          "histogram2d": [
           {
            "colorbar": {
             "outlinewidth": 0,
             "ticks": ""
            },
            "colorscale": [
             [
              0,
              "#0d0887"
             ],
             [
              0.1111111111111111,
              "#46039f"
             ],
             [
              0.2222222222222222,
              "#7201a8"
             ],
             [
              0.3333333333333333,
              "#9c179e"
             ],
             [
              0.4444444444444444,
              "#bd3786"
             ],
             [
              0.5555555555555556,
              "#d8576b"
             ],
             [
              0.6666666666666666,
              "#ed7953"
             ],
             [
              0.7777777777777778,
              "#fb9f3a"
             ],
             [
              0.8888888888888888,
              "#fdca26"
             ],
             [
              1,
              "#f0f921"
             ]
            ],
            "type": "histogram2d"
           }
          ],
          "histogram2dcontour": [
           {
            "colorbar": {
             "outlinewidth": 0,
             "ticks": ""
            },
            "colorscale": [
             [
              0,
              "#0d0887"
             ],
             [
              0.1111111111111111,
              "#46039f"
             ],
             [
              0.2222222222222222,
              "#7201a8"
             ],
             [
              0.3333333333333333,
              "#9c179e"
             ],
             [
              0.4444444444444444,
              "#bd3786"
             ],
             [
              0.5555555555555556,
              "#d8576b"
             ],
             [
              0.6666666666666666,
              "#ed7953"
             ],
             [
              0.7777777777777778,
              "#fb9f3a"
             ],
             [
              0.8888888888888888,
              "#fdca26"
             ],
             [
              1,
              "#f0f921"
             ]
            ],
            "type": "histogram2dcontour"
           }
          ],
          "mesh3d": [
           {
            "colorbar": {
             "outlinewidth": 0,
             "ticks": ""
            },
            "type": "mesh3d"
           }
          ],
          "parcoords": [
           {
            "line": {
             "colorbar": {
              "outlinewidth": 0,
              "ticks": ""
             }
            },
            "type": "parcoords"
           }
          ],
          "pie": [
           {
            "automargin": true,
            "type": "pie"
           }
          ],
          "scatter": [
           {
            "fillpattern": {
             "fillmode": "overlay",
             "size": 10,
             "solidity": 0.2
            },
            "type": "scatter"
           }
          ],
          "scatter3d": [
           {
            "line": {
             "colorbar": {
              "outlinewidth": 0,
              "ticks": ""
             }
            },
            "marker": {
             "colorbar": {
              "outlinewidth": 0,
              "ticks": ""
             }
            },
            "type": "scatter3d"
           }
          ],
          "scattercarpet": [
           {
            "marker": {
             "colorbar": {
              "outlinewidth": 0,
              "ticks": ""
             }
            },
            "type": "scattercarpet"
           }
          ],
          "scattergeo": [
           {
            "marker": {
             "colorbar": {
              "outlinewidth": 0,
              "ticks": ""
             }
            },
            "type": "scattergeo"
           }
          ],
          "scattergl": [
           {
            "marker": {
             "colorbar": {
              "outlinewidth": 0,
              "ticks": ""
             }
            },
            "type": "scattergl"
           }
          ],
          "scattermapbox": [
           {
            "marker": {
             "colorbar": {
              "outlinewidth": 0,
              "ticks": ""
             }
            },
            "type": "scattermapbox"
           }
          ],
          "scatterpolar": [
           {
            "marker": {
             "colorbar": {
              "outlinewidth": 0,
              "ticks": ""
             }
            },
            "type": "scatterpolar"
           }
          ],
          "scatterpolargl": [
           {
            "marker": {
             "colorbar": {
              "outlinewidth": 0,
              "ticks": ""
             }
            },
            "type": "scatterpolargl"
           }
          ],
          "scatterternary": [
           {
            "marker": {
             "colorbar": {
              "outlinewidth": 0,
              "ticks": ""
             }
            },
            "type": "scatterternary"
           }
          ],
          "surface": [
           {
            "colorbar": {
             "outlinewidth": 0,
             "ticks": ""
            },
            "colorscale": [
             [
              0,
              "#0d0887"
             ],
             [
              0.1111111111111111,
              "#46039f"
             ],
             [
              0.2222222222222222,
              "#7201a8"
             ],
             [
              0.3333333333333333,
              "#9c179e"
             ],
             [
              0.4444444444444444,
              "#bd3786"
             ],
             [
              0.5555555555555556,
              "#d8576b"
             ],
             [
              0.6666666666666666,
              "#ed7953"
             ],
             [
              0.7777777777777778,
              "#fb9f3a"
             ],
             [
              0.8888888888888888,
              "#fdca26"
             ],
             [
              1,
              "#f0f921"
             ]
            ],
            "type": "surface"
           }
          ],
          "table": [
           {
            "cells": {
             "fill": {
              "color": "#EBF0F8"
             },
             "line": {
              "color": "white"
             }
            },
            "header": {
             "fill": {
              "color": "#C8D4E3"
             },
             "line": {
              "color": "white"
             }
            },
            "type": "table"
           }
          ]
         },
         "layout": {
          "annotationdefaults": {
           "arrowcolor": "#2a3f5f",
           "arrowhead": 0,
           "arrowwidth": 1
          },
          "autotypenumbers": "strict",
          "coloraxis": {
           "colorbar": {
            "outlinewidth": 0,
            "ticks": ""
           }
          },
          "colorscale": {
           "diverging": [
            [
             0,
             "#8e0152"
            ],
            [
             0.1,
             "#c51b7d"
            ],
            [
             0.2,
             "#de77ae"
            ],
            [
             0.3,
             "#f1b6da"
            ],
            [
             0.4,
             "#fde0ef"
            ],
            [
             0.5,
             "#f7f7f7"
            ],
            [
             0.6,
             "#e6f5d0"
            ],
            [
             0.7,
             "#b8e186"
            ],
            [
             0.8,
             "#7fbc41"
            ],
            [
             0.9,
             "#4d9221"
            ],
            [
             1,
             "#276419"
            ]
           ],
           "sequential": [
            [
             0,
             "#0d0887"
            ],
            [
             0.1111111111111111,
             "#46039f"
            ],
            [
             0.2222222222222222,
             "#7201a8"
            ],
            [
             0.3333333333333333,
             "#9c179e"
            ],
            [
             0.4444444444444444,
             "#bd3786"
            ],
            [
             0.5555555555555556,
             "#d8576b"
            ],
            [
             0.6666666666666666,
             "#ed7953"
            ],
            [
             0.7777777777777778,
             "#fb9f3a"
            ],
            [
             0.8888888888888888,
             "#fdca26"
            ],
            [
             1,
             "#f0f921"
            ]
           ],
           "sequentialminus": [
            [
             0,
             "#0d0887"
            ],
            [
             0.1111111111111111,
             "#46039f"
            ],
            [
             0.2222222222222222,
             "#7201a8"
            ],
            [
             0.3333333333333333,
             "#9c179e"
            ],
            [
             0.4444444444444444,
             "#bd3786"
            ],
            [
             0.5555555555555556,
             "#d8576b"
            ],
            [
             0.6666666666666666,
             "#ed7953"
            ],
            [
             0.7777777777777778,
             "#fb9f3a"
            ],
            [
             0.8888888888888888,
             "#fdca26"
            ],
            [
             1,
             "#f0f921"
            ]
           ]
          },
          "colorway": [
           "#636efa",
           "#EF553B",
           "#00cc96",
           "#ab63fa",
           "#FFA15A",
           "#19d3f3",
           "#FF6692",
           "#B6E880",
           "#FF97FF",
           "#FECB52"
          ],
          "font": {
           "color": "#2a3f5f"
          },
          "geo": {
           "bgcolor": "white",
           "lakecolor": "white",
           "landcolor": "#E5ECF6",
           "showlakes": true,
           "showland": true,
           "subunitcolor": "white"
          },
          "hoverlabel": {
           "align": "left"
          },
          "hovermode": "closest",
          "mapbox": {
           "style": "light"
          },
          "paper_bgcolor": "white",
          "plot_bgcolor": "#E5ECF6",
          "polar": {
           "angularaxis": {
            "gridcolor": "white",
            "linecolor": "white",
            "ticks": ""
           },
           "bgcolor": "#E5ECF6",
           "radialaxis": {
            "gridcolor": "white",
            "linecolor": "white",
            "ticks": ""
           }
          },
          "scene": {
           "xaxis": {
            "backgroundcolor": "#E5ECF6",
            "gridcolor": "white",
            "gridwidth": 2,
            "linecolor": "white",
            "showbackground": true,
            "ticks": "",
            "zerolinecolor": "white"
           },
           "yaxis": {
            "backgroundcolor": "#E5ECF6",
            "gridcolor": "white",
            "gridwidth": 2,
            "linecolor": "white",
            "showbackground": true,
            "ticks": "",
            "zerolinecolor": "white"
           },
           "zaxis": {
            "backgroundcolor": "#E5ECF6",
            "gridcolor": "white",
            "gridwidth": 2,
            "linecolor": "white",
            "showbackground": true,
            "ticks": "",
            "zerolinecolor": "white"
           }
          },
          "shapedefaults": {
           "line": {
            "color": "#2a3f5f"
           }
          },
          "ternary": {
           "aaxis": {
            "gridcolor": "white",
            "linecolor": "white",
            "ticks": ""
           },
           "baxis": {
            "gridcolor": "white",
            "linecolor": "white",
            "ticks": ""
           },
           "bgcolor": "#E5ECF6",
           "caxis": {
            "gridcolor": "white",
            "linecolor": "white",
            "ticks": ""
           }
          },
          "title": {
           "x": 0.05
          },
          "xaxis": {
           "automargin": true,
           "gridcolor": "white",
           "linecolor": "white",
           "ticks": "",
           "title": {
            "standoff": 15
           },
           "zerolinecolor": "white",
           "zerolinewidth": 2
          },
          "yaxis": {
           "automargin": true,
           "gridcolor": "white",
           "linecolor": "white",
           "ticks": "",
           "title": {
            "standoff": 15
           },
           "zerolinecolor": "white",
           "zerolinewidth": 2
          }
         }
        },
        "xaxis": {
         "anchor": "y",
         "domain": [
          0,
          1
         ],
         "gridcolor": "lightgray",
         "title": {
          "text": "timestamp"
         }
        },
        "yaxis": {
         "anchor": "x",
         "domain": [
          0,
          1
         ],
         "gridcolor": "lightgray",
         "title": {
          "text": "Value (MW)"
         }
        }
       }
      }
     },
     "metadata": {},
     "output_type": "display_data"
    }
   ],
   "source": [
    "# Merge tables, result will be: timepoints, timestamp, zone_demand_mw, dispatch_wide \n",
    "demand_x_dispatch = pd.merge(loads, dispatch_sys, on='timepoints', how='inner')\n",
    "# Sort by Timepoints\n",
    "demand_x_dispatch = demand_x_dispatch.sort_values(by='timepoints')\n",
    "# Rename columns for better undestanding\n",
    "demand_x_dispatch.rename(columns={'DispatchGen_MW': 'Dispatch', 'zone_demand_mw': 'Demand'}, inplace=True)\n",
    "\n",
    "fig = px.line(\n",
    "    demand_x_dispatch,\n",
    "    x='timestamp',\n",
    "    y=['Dispatch', 'Demand'],\n",
    "    labels={'value': 'Value (MW)', 'variable': 'Series'})\n",
    "fig.update_layout(plot_bgcolor='white',xaxis=dict(gridcolor='lightgray'),yaxis=dict(gridcolor='lightgray'))\n",
    "fig.show()"
   ]
  },
  {
   "cell_type": "markdown",
   "metadata": {},
   "source": [
    "### 3.4.2 Are Demand and Dispatch on XM similar to Switch Dispatch?"
   ]
  },
  {
   "cell_type": "code",
   "execution_count": 83,
   "metadata": {},
   "outputs": [
    {
     "data": {
      "application/vnd.plotly.v1+json": {
       "config": {
        "plotlyServerURL": "https://plot.ly"
       },
       "data": [
        {
         "hovertemplate": "Series=DemaReal_Sistema<br>timestamp=%{x}<br>Values=%{y}<extra></extra>",
         "legendgroup": "DemaReal_Sistema",
         "line": {
          "color": "#636efa",
          "dash": "solid"
         },
         "marker": {
          "symbol": "circle"
         },
         "mode": "lines",
         "name": "DemaReal_Sistema",
         "orientation": "v",
         "showlegend": true,
         "type": "scatter",
         "x": [
          "2023_Q1_labor_0h",
          "2023_Q1_labor_1h",
          "2023_Q1_labor_2h",
          "2023_Q1_labor_3h",
          "2023_Q1_labor_4h",
          "2023_Q1_labor_5h",
          "2023_Q1_labor_6h",
          "2023_Q1_labor_7h",
          "2023_Q1_labor_8h",
          "2023_Q1_labor_9h",
          "2023_Q1_labor_10h",
          "2023_Q1_labor_11h",
          "2023_Q1_labor_12h",
          "2023_Q1_labor_13h",
          "2023_Q1_labor_14h",
          "2023_Q1_labor_15h",
          "2023_Q1_labor_16h",
          "2023_Q1_labor_17h",
          "2023_Q1_labor_18h",
          "2023_Q1_labor_19h",
          "2023_Q1_labor_20h",
          "2023_Q1_labor_21h",
          "2023_Q1_labor_22h",
          "2023_Q1_labor_23h",
          "2023_Q1_holidays_0h",
          "2023_Q1_holidays_1h",
          "2023_Q1_holidays_2h",
          "2023_Q1_holidays_3h",
          "2023_Q1_holidays_4h",
          "2023_Q1_holidays_5h",
          "2023_Q1_holidays_6h",
          "2023_Q1_holidays_7h",
          "2023_Q1_holidays_8h",
          "2023_Q1_holidays_9h",
          "2023_Q1_holidays_10h",
          "2023_Q1_holidays_11h",
          "2023_Q1_holidays_12h",
          "2023_Q1_holidays_13h",
          "2023_Q1_holidays_14h",
          "2023_Q1_holidays_15h",
          "2023_Q1_holidays_16h",
          "2023_Q1_holidays_17h",
          "2023_Q1_holidays_18h",
          "2023_Q1_holidays_19h",
          "2023_Q1_holidays_20h",
          "2023_Q1_holidays_21h",
          "2023_Q1_holidays_22h",
          "2023_Q1_holidays_23h",
          "2023_Q2_labor_0h",
          "2023_Q2_labor_1h",
          "2023_Q2_labor_2h",
          "2023_Q2_labor_3h",
          "2023_Q2_labor_4h",
          "2023_Q2_labor_5h",
          "2023_Q2_labor_6h",
          "2023_Q2_labor_7h",
          "2023_Q2_labor_8h",
          "2023_Q2_labor_9h",
          "2023_Q2_labor_10h",
          "2023_Q2_labor_11h",
          "2023_Q2_labor_12h",
          "2023_Q2_labor_13h",
          "2023_Q2_labor_14h",
          "2023_Q2_labor_15h",
          "2023_Q2_labor_16h",
          "2023_Q2_labor_17h",
          "2023_Q2_labor_18h",
          "2023_Q2_labor_19h",
          "2023_Q2_labor_20h",
          "2023_Q2_labor_21h",
          "2023_Q2_labor_22h",
          "2023_Q2_labor_23h",
          "2023_Q2_holidays_0h",
          "2023_Q2_holidays_1h",
          "2023_Q2_holidays_2h",
          "2023_Q2_holidays_3h",
          "2023_Q2_holidays_4h",
          "2023_Q2_holidays_5h",
          "2023_Q2_holidays_6h",
          "2023_Q2_holidays_7h",
          "2023_Q2_holidays_8h",
          "2023_Q2_holidays_9h",
          "2023_Q2_holidays_10h",
          "2023_Q2_holidays_11h",
          "2023_Q2_holidays_12h",
          "2023_Q2_holidays_13h",
          "2023_Q2_holidays_14h",
          "2023_Q2_holidays_15h",
          "2023_Q2_holidays_16h",
          "2023_Q2_holidays_17h",
          "2023_Q2_holidays_18h",
          "2023_Q2_holidays_19h",
          "2023_Q2_holidays_20h",
          "2023_Q2_holidays_21h",
          "2023_Q2_holidays_22h",
          "2023_Q2_holidays_23h",
          "2023_Q3_labor_0h",
          "2023_Q3_labor_1h",
          "2023_Q3_labor_2h",
          "2023_Q3_labor_3h",
          "2023_Q3_labor_4h",
          "2023_Q3_labor_5h",
          "2023_Q3_labor_6h",
          "2023_Q3_labor_7h",
          "2023_Q3_labor_8h",
          "2023_Q3_labor_9h",
          "2023_Q3_labor_10h",
          "2023_Q3_labor_11h",
          "2023_Q3_labor_12h",
          "2023_Q3_labor_13h",
          "2023_Q3_labor_14h",
          "2023_Q3_labor_15h",
          "2023_Q3_labor_16h",
          "2023_Q3_labor_17h",
          "2023_Q3_labor_18h",
          "2023_Q3_labor_19h",
          "2023_Q3_labor_20h",
          "2023_Q3_labor_21h",
          "2023_Q3_labor_22h",
          "2023_Q3_labor_23h",
          "2023_Q3_holidays_0h",
          "2023_Q3_holidays_1h",
          "2023_Q3_holidays_2h",
          "2023_Q3_holidays_3h",
          "2023_Q3_holidays_4h",
          "2023_Q3_holidays_5h",
          "2023_Q3_holidays_6h",
          "2023_Q3_holidays_7h",
          "2023_Q3_holidays_8h",
          "2023_Q3_holidays_9h",
          "2023_Q3_holidays_10h",
          "2023_Q3_holidays_11h",
          "2023_Q3_holidays_12h",
          "2023_Q3_holidays_13h",
          "2023_Q3_holidays_14h",
          "2023_Q3_holidays_15h",
          "2023_Q3_holidays_16h",
          "2023_Q3_holidays_17h",
          "2023_Q3_holidays_18h",
          "2023_Q3_holidays_19h",
          "2023_Q3_holidays_20h",
          "2023_Q3_holidays_21h",
          "2023_Q3_holidays_22h",
          "2023_Q3_holidays_23h",
          "2023_Q4_labor_0h",
          "2023_Q4_labor_1h",
          "2023_Q4_labor_2h",
          "2023_Q4_labor_3h",
          "2023_Q4_labor_4h",
          "2023_Q4_labor_5h",
          "2023_Q4_labor_6h",
          "2023_Q4_labor_7h",
          "2023_Q4_labor_8h",
          "2023_Q4_labor_9h",
          "2023_Q4_labor_10h",
          "2023_Q4_labor_11h",
          "2023_Q4_labor_12h",
          "2023_Q4_labor_13h",
          "2023_Q4_labor_14h",
          "2023_Q4_labor_15h",
          "2023_Q4_labor_16h",
          "2023_Q4_labor_17h",
          "2023_Q4_labor_18h",
          "2023_Q4_labor_19h",
          "2023_Q4_labor_20h",
          "2023_Q4_labor_21h",
          "2023_Q4_labor_22h",
          "2023_Q4_labor_23h",
          "2023_Q4_holidays_0h",
          "2023_Q4_holidays_1h",
          "2023_Q4_holidays_2h",
          "2023_Q4_holidays_3h",
          "2023_Q4_holidays_4h",
          "2023_Q4_holidays_5h",
          "2023_Q4_holidays_6h",
          "2023_Q4_holidays_7h",
          "2023_Q4_holidays_8h",
          "2023_Q4_holidays_9h",
          "2023_Q4_holidays_10h",
          "2023_Q4_holidays_11h",
          "2023_Q4_holidays_12h",
          "2023_Q4_holidays_13h",
          "2023_Q4_holidays_14h",
          "2023_Q4_holidays_15h",
          "2023_Q4_holidays_16h",
          "2023_Q4_holidays_17h",
          "2023_Q4_holidays_18h",
          "2023_Q4_holidays_19h",
          "2023_Q4_holidays_20h",
          "2023_Q4_holidays_21h",
          "2023_Q4_holidays_22h",
          "2023_Q4_holidays_23h"
         ],
         "xaxis": "x",
         "y": [
          8433.925627272727,
          7961.777020779221,
          7689.768629090908,
          7496.9366288311685,
          7404.314201688311,
          7518.465902727273,
          7827.851616363637,
          8010.217818181818,
          8493.745995584415,
          9020.348477142858,
          9348.282378701297,
          9672.738450779221,
          9930.652591298702,
          9887.388501168833,
          9908.975837402597,
          10007.235422987014,
          9984.89375883117,
          9816.86435974026,
          9626.386632727274,
          10128.335234935066,
          10239.197506753248,
          9981.452142987013,
          9547.223911428571,
          8971.423466623375,
          7915.74584923077,
          7734.308100769231,
          7477.161632307692,
          7265.733779230769,
          7105.733626153847,
          7019.515147692307,
          6951.113508461539,
          6737.091114615385,
          6957.859379230769,
          7357.3349007692295,
          7725.791176923077,
          8022.721860000001,
          8273.046973846152,
          8381.07156,
          8365.173425384615,
          8281.184945384615,
          8208.578341538461,
          8143.480176153847,
          8188.391766923077,
          8889.701821538461,
          9126.980167692307,
          9013.37085,
          8742.65185,
          8352.25741076923,
          8371.062438607594,
          7880.007147468355,
          7616.33158835443,
          7428.478951898735,
          7343.517406835443,
          7498.17023721519,
          7869.24035443038,
          8027.595792658228,
          8501.765575443038,
          8992.94870164557,
          9303.172491772153,
          9638.03023113924,
          9890.666353544304,
          9813.854501645568,
          9864.382878734177,
          9978.304731898734,
          9973.844462405063,
          9813.78613177215,
          9559.640935316454,
          10031.831411898735,
          10235.82709443038,
          10001.210299240505,
          9541.493414177216,
          8922.78048164557,
          7839.791319999999,
          7794.767462307693,
          7489.425218461539,
          7255.098166923077,
          7088.807710769231,
          7008.434443846153,
          6904.1539923076925,
          6756.792933076923,
          7048.240288461538,
          7426.401651538461,
          7775.7333046153835,
          8061.908998461539,
          8297.131212307693,
          8400.372488461537,
          8395.050370769231,
          8284.38105076923,
          8198.809526923078,
          8129.390483076923,
          8145.08315076923,
          8817.156010769231,
          9117.758743076922,
          9004.20486076923,
          8712.553356153845,
          8295.332004615386,
          8677.412622151898,
          8177.154962151899,
          7892.239649113923,
          7689.089402531646,
          7592.6012255696205,
          7714.008403544304,
          7995.989843417722,
          8177.795338481013,
          8694.932431139241,
          9205.708257088607,
          9534.261648101266,
          9887.59126,
          10150.9976321519,
          10094.281112405064,
          10147.78564113924,
          10261.05129886076,
          10236.169328607595,
          10083.429637594936,
          9800.241119746835,
          10189.543047848101,
          10484.522426455696,
          10287.091202025316,
          9850.788509746835,
          9248.19631607595,
          8098.961743846154,
          8007.003110769231,
          7714.587510769231,
          7479.506354615385,
          7302.371938461539,
          7204.714588461538,
          7087.738653846154,
          6920.200302307693,
          7215.325728461538,
          7588.036130769231,
          7908.152576923077,
          8170.965547692308,
          8391.087423076924,
          8520.060137692308,
          8528.24516923077,
          8424.051266153845,
          8331.669407692307,
          8262.09947153846,
          8271.16535923077,
          8877.298853846154,
          9275.389135384616,
          9185.627900769232,
          8943.058529999998,
          8541.60102076923,
          9071.161731794873,
          8555.41528705128,
          8262.992922051282,
          8060.505427692308,
          7961.333962179487,
          8091.052212435899,
          8383.57989474359,
          8576.958386794871,
          9107.356016410256,
          9624.676166666666,
          9961.598652435898,
          10316.072335256411,
          10576.00028025641,
          10532.175062948716,
          10593.513442435898,
          10710.242932051282,
          10687.706371794871,
          10546.29177576923,
          10432.228769871794,
          10946.394296666667,
          10928.459173461537,
          10696.416158846154,
          10251.567954230768,
          9644.19409820513,
          8430.734503076925,
          8254.708874615386,
          7960.9486438461545,
          7714.6427984615375,
          7499.121769230769,
          7407.197004615385,
          7294.323366153846,
          7140.836179230769,
          7431.696433846154,
          7819.822990769231,
          8173.726306153847,
          8492.151588461538,
          8752.553194615384,
          8877.78006846154,
          8877.415679230768,
          8776.918411538461,
          8715.10250846154,
          8653.945196153845,
          8816.369187692308,
          9555.683282307691,
          9694.710016153846,
          9576.759639999998,
          9312.476728461537,
          8902.518054615384
         ],
         "yaxis": "y"
        },
        {
         "hovertemplate": "Series=DemaCome_Sistema<br>timestamp=%{x}<br>Values=%{y}<extra></extra>",
         "legendgroup": "DemaCome_Sistema",
         "line": {
          "color": "#EF553B",
          "dash": "solid"
         },
         "marker": {
          "symbol": "circle"
         },
         "mode": "lines",
         "name": "DemaCome_Sistema",
         "orientation": "v",
         "showlegend": true,
         "type": "scatter",
         "x": [
          "2023_Q1_labor_0h",
          "2023_Q1_labor_1h",
          "2023_Q1_labor_2h",
          "2023_Q1_labor_3h",
          "2023_Q1_labor_4h",
          "2023_Q1_labor_5h",
          "2023_Q1_labor_6h",
          "2023_Q1_labor_7h",
          "2023_Q1_labor_8h",
          "2023_Q1_labor_9h",
          "2023_Q1_labor_10h",
          "2023_Q1_labor_11h",
          "2023_Q1_labor_12h",
          "2023_Q1_labor_13h",
          "2023_Q1_labor_14h",
          "2023_Q1_labor_15h",
          "2023_Q1_labor_16h",
          "2023_Q1_labor_17h",
          "2023_Q1_labor_18h",
          "2023_Q1_labor_19h",
          "2023_Q1_labor_20h",
          "2023_Q1_labor_21h",
          "2023_Q1_labor_22h",
          "2023_Q1_labor_23h",
          "2023_Q1_holidays_0h",
          "2023_Q1_holidays_1h",
          "2023_Q1_holidays_2h",
          "2023_Q1_holidays_3h",
          "2023_Q1_holidays_4h",
          "2023_Q1_holidays_5h",
          "2023_Q1_holidays_6h",
          "2023_Q1_holidays_7h",
          "2023_Q1_holidays_8h",
          "2023_Q1_holidays_9h",
          "2023_Q1_holidays_10h",
          "2023_Q1_holidays_11h",
          "2023_Q1_holidays_12h",
          "2023_Q1_holidays_13h",
          "2023_Q1_holidays_14h",
          "2023_Q1_holidays_15h",
          "2023_Q1_holidays_16h",
          "2023_Q1_holidays_17h",
          "2023_Q1_holidays_18h",
          "2023_Q1_holidays_19h",
          "2023_Q1_holidays_20h",
          "2023_Q1_holidays_21h",
          "2023_Q1_holidays_22h",
          "2023_Q1_holidays_23h",
          "2023_Q2_labor_0h",
          "2023_Q2_labor_1h",
          "2023_Q2_labor_2h",
          "2023_Q2_labor_3h",
          "2023_Q2_labor_4h",
          "2023_Q2_labor_5h",
          "2023_Q2_labor_6h",
          "2023_Q2_labor_7h",
          "2023_Q2_labor_8h",
          "2023_Q2_labor_9h",
          "2023_Q2_labor_10h",
          "2023_Q2_labor_11h",
          "2023_Q2_labor_12h",
          "2023_Q2_labor_13h",
          "2023_Q2_labor_14h",
          "2023_Q2_labor_15h",
          "2023_Q2_labor_16h",
          "2023_Q2_labor_17h",
          "2023_Q2_labor_18h",
          "2023_Q2_labor_19h",
          "2023_Q2_labor_20h",
          "2023_Q2_labor_21h",
          "2023_Q2_labor_22h",
          "2023_Q2_labor_23h",
          "2023_Q2_holidays_0h",
          "2023_Q2_holidays_1h",
          "2023_Q2_holidays_2h",
          "2023_Q2_holidays_3h",
          "2023_Q2_holidays_4h",
          "2023_Q2_holidays_5h",
          "2023_Q2_holidays_6h",
          "2023_Q2_holidays_7h",
          "2023_Q2_holidays_8h",
          "2023_Q2_holidays_9h",
          "2023_Q2_holidays_10h",
          "2023_Q2_holidays_11h",
          "2023_Q2_holidays_12h",
          "2023_Q2_holidays_13h",
          "2023_Q2_holidays_14h",
          "2023_Q2_holidays_15h",
          "2023_Q2_holidays_16h",
          "2023_Q2_holidays_17h",
          "2023_Q2_holidays_18h",
          "2023_Q2_holidays_19h",
          "2023_Q2_holidays_20h",
          "2023_Q2_holidays_21h",
          "2023_Q2_holidays_22h",
          "2023_Q2_holidays_23h",
          "2023_Q3_labor_0h",
          "2023_Q3_labor_1h",
          "2023_Q3_labor_2h",
          "2023_Q3_labor_3h",
          "2023_Q3_labor_4h",
          "2023_Q3_labor_5h",
          "2023_Q3_labor_6h",
          "2023_Q3_labor_7h",
          "2023_Q3_labor_8h",
          "2023_Q3_labor_9h",
          "2023_Q3_labor_10h",
          "2023_Q3_labor_11h",
          "2023_Q3_labor_12h",
          "2023_Q3_labor_13h",
          "2023_Q3_labor_14h",
          "2023_Q3_labor_15h",
          "2023_Q3_labor_16h",
          "2023_Q3_labor_17h",
          "2023_Q3_labor_18h",
          "2023_Q3_labor_19h",
          "2023_Q3_labor_20h",
          "2023_Q3_labor_21h",
          "2023_Q3_labor_22h",
          "2023_Q3_labor_23h",
          "2023_Q3_holidays_0h",
          "2023_Q3_holidays_1h",
          "2023_Q3_holidays_2h",
          "2023_Q3_holidays_3h",
          "2023_Q3_holidays_4h",
          "2023_Q3_holidays_5h",
          "2023_Q3_holidays_6h",
          "2023_Q3_holidays_7h",
          "2023_Q3_holidays_8h",
          "2023_Q3_holidays_9h",
          "2023_Q3_holidays_10h",
          "2023_Q3_holidays_11h",
          "2023_Q3_holidays_12h",
          "2023_Q3_holidays_13h",
          "2023_Q3_holidays_14h",
          "2023_Q3_holidays_15h",
          "2023_Q3_holidays_16h",
          "2023_Q3_holidays_17h",
          "2023_Q3_holidays_18h",
          "2023_Q3_holidays_19h",
          "2023_Q3_holidays_20h",
          "2023_Q3_holidays_21h",
          "2023_Q3_holidays_22h",
          "2023_Q3_holidays_23h",
          "2023_Q4_labor_0h",
          "2023_Q4_labor_1h",
          "2023_Q4_labor_2h",
          "2023_Q4_labor_3h",
          "2023_Q4_labor_4h",
          "2023_Q4_labor_5h",
          "2023_Q4_labor_6h",
          "2023_Q4_labor_7h",
          "2023_Q4_labor_8h",
          "2023_Q4_labor_9h",
          "2023_Q4_labor_10h",
          "2023_Q4_labor_11h",
          "2023_Q4_labor_12h",
          "2023_Q4_labor_13h",
          "2023_Q4_labor_14h",
          "2023_Q4_labor_15h",
          "2023_Q4_labor_16h",
          "2023_Q4_labor_17h",
          "2023_Q4_labor_18h",
          "2023_Q4_labor_19h",
          "2023_Q4_labor_20h",
          "2023_Q4_labor_21h",
          "2023_Q4_labor_22h",
          "2023_Q4_labor_23h",
          "2023_Q4_holidays_0h",
          "2023_Q4_holidays_1h",
          "2023_Q4_holidays_2h",
          "2023_Q4_holidays_3h",
          "2023_Q4_holidays_4h",
          "2023_Q4_holidays_5h",
          "2023_Q4_holidays_6h",
          "2023_Q4_holidays_7h",
          "2023_Q4_holidays_8h",
          "2023_Q4_holidays_9h",
          "2023_Q4_holidays_10h",
          "2023_Q4_holidays_11h",
          "2023_Q4_holidays_12h",
          "2023_Q4_holidays_13h",
          "2023_Q4_holidays_14h",
          "2023_Q4_holidays_15h",
          "2023_Q4_holidays_16h",
          "2023_Q4_holidays_17h",
          "2023_Q4_holidays_18h",
          "2023_Q4_holidays_19h",
          "2023_Q4_holidays_20h",
          "2023_Q4_holidays_21h",
          "2023_Q4_holidays_22h",
          "2023_Q4_holidays_23h"
         ],
         "xaxis": "x",
         "y": [
          8599.683281948051,
          8123.494718441559,
          7847.743950909091,
          7648.74713,
          7546.1424945454555,
          7653.958372337662,
          7968.494744025974,
          8144.108198961038,
          8624.54744896104,
          9159.079873896104,
          9492.238898701298,
          9825.370667922078,
          10097.699321688311,
          10057.658726623376,
          10083.37281974026,
          10184.221536103894,
          10165.9327312987,
          9995.229455454548,
          9789.432223506494,
          10303.532968181817,
          10423.558916753247,
          10163.676751038962,
          9734.911820909092,
          9146.984163896104,
          8076.836294615384,
          7894.696375384615,
          7632.1214615384615,
          7418.471868461539,
          7255.2428369230765,
          7168.217795384616,
          7102.246554615384,
          6871.0599884615385,
          7076.215294615384,
          7476.381176153847,
          7856.700819230769,
          8154.997578461538,
          8411.651874615385,
          8522.22812076923,
          8510.548643076923,
          8424.289059230769,
          8355.092903076922,
          8286.373087692307,
          8326.328536153846,
          9041.790119230769,
          9294.75075923077,
          9184.134037692309,
          8916.86837076923,
          8523.056664615386,
          8525.303260632912,
          8028.140811518988,
          7764.560129620253,
          7572.131949113924,
          7479.481103670887,
          7628.553227468355,
          8005.785084556961,
          8158.938645822785,
          8630.57772227848,
          9128.213559746835,
          9442.089499620253,
          9779.982946455697,
          10039.617099113924,
          9964.32655443038,
          10020.489677974681,
          10136.89098278481,
          10134.347305696203,
          9971.934423417722,
          9711.454414936708,
          10185.71763670886,
          10398.9145,
          10165.516775316457,
          9708.031175316457,
          9082.213420379747,
          7987.493916153846,
          7945.754285384616,
          7642.491963076923,
          7404.127556153847,
          7236.746542307692,
          7155.337455384616,
          7051.052117692308,
          6889.406373846154,
          7177.931126153846,
          7554.1076261538465,
          7900.57010923077,
          8189.011700769231,
          8428.103812307692,
          8532.719850769232,
          8533.190846153846,
          8419.764415384616,
          8334.485464615385,
          8262.59320923077,
          8274.917006153846,
          8954.860360769231,
          9263.344624615384,
          9152.988587692307,
          8867.084086923076,
          8449.914576153846,
          8831.547275189872,
          8330.727517341773,
          8048.210505822785,
          7840.76977721519,
          7737.856705316456,
          7853.466620886075,
          8133.953995822784,
          8310.589621392406,
          8826.028976455696,
          9341.26758164557,
          9672.673590126582,
          10031.923954430378,
          10305.85924164557,
          10247.562554556962,
          10307.473156202532,
          10423.219795569621,
          10400.426145569621,
          10243.882941139242,
          9950.163524683545,
          10336.678059240505,
          10641.908910632912,
          10447.025571392405,
          10018.30462050633,
          9409.261687088607,
          8248.216244615385,
          8174.495964615384,
          7881.540685384615,
          7641.732761538462,
          7464.294095384615,
          7364.804563076923,
          7244.994003076924,
          7061.986000769231,
          7350.1751492307685,
          7723.947183076923,
          8048.35884923077,
          8311.166016923076,
          8528.429244615385,
          8659.927387692307,
          8672.257402307692,
          8565.614471538462,
          8469.858329230769,
          8400.611171538461,
          8401.079026153846,
          9002.50529153846,
          9418.548999230768,
          9335.241894615383,
          9102.250996153847,
          8702.097170769232,
          9209.655378461537,
          8684.523318333333,
          8390.444216153846,
          8184.092323461539,
          8082.21723525641,
          8211.583772692307,
          8509.569510128204,
          8701.260768461538,
          9236.86825948718,
          9759.395021666667,
          10096.371296666666,
          10456.618392307693,
          10721.846876153848,
          10676.342887179488,
          10743.192739102564,
          10862.333804358974,
          10843.146818461539,
          10701.096663717948,
          10584.349990128207,
          11102.555628076923,
          11087.515321410257,
          10854.78445294872,
          10409.611512179488,
          9794.551953076923,
          8561.125354615384,
          8383.488172307694,
          8088.934829999999,
          7835.959637692308,
          7616.075727692307,
          7519.484936923076,
          7403.685128461539,
          7239.382665384615,
          7528.638202307692,
          7917.499836923077,
          8277.469405384614,
          8600.882593846154,
          8871.685788461538,
          9001.896287692307,
          9000.804641538462,
          8899.56935076923,
          8835.32738230769,
          8776.228406923075,
          8938.892921538461,
          9696.575747692308,
          9842.254300769231,
          9724.705841538462,
          9456.070904615384,
          9038.51835076923
         ],
         "yaxis": "y"
        },
        {
         "hovertemplate": "Series=Gene_Sistema<br>timestamp=%{x}<br>Values=%{y}<extra></extra>",
         "legendgroup": "Gene_Sistema",
         "line": {
          "color": "#00cc96",
          "dash": "solid"
         },
         "marker": {
          "symbol": "circle"
         },
         "mode": "lines",
         "name": "Gene_Sistema",
         "orientation": "v",
         "showlegend": true,
         "type": "scatter",
         "x": [
          "2023_Q1_labor_0h",
          "2023_Q1_labor_1h",
          "2023_Q1_labor_2h",
          "2023_Q1_labor_3h",
          "2023_Q1_labor_4h",
          "2023_Q1_labor_5h",
          "2023_Q1_labor_6h",
          "2023_Q1_labor_7h",
          "2023_Q1_labor_8h",
          "2023_Q1_labor_9h",
          "2023_Q1_labor_10h",
          "2023_Q1_labor_11h",
          "2023_Q1_labor_12h",
          "2023_Q1_labor_13h",
          "2023_Q1_labor_14h",
          "2023_Q1_labor_15h",
          "2023_Q1_labor_16h",
          "2023_Q1_labor_17h",
          "2023_Q1_labor_18h",
          "2023_Q1_labor_19h",
          "2023_Q1_labor_20h",
          "2023_Q1_labor_21h",
          "2023_Q1_labor_22h",
          "2023_Q1_labor_23h",
          "2023_Q1_holidays_0h",
          "2023_Q1_holidays_1h",
          "2023_Q1_holidays_2h",
          "2023_Q1_holidays_3h",
          "2023_Q1_holidays_4h",
          "2023_Q1_holidays_5h",
          "2023_Q1_holidays_6h",
          "2023_Q1_holidays_7h",
          "2023_Q1_holidays_8h",
          "2023_Q1_holidays_9h",
          "2023_Q1_holidays_10h",
          "2023_Q1_holidays_11h",
          "2023_Q1_holidays_12h",
          "2023_Q1_holidays_13h",
          "2023_Q1_holidays_14h",
          "2023_Q1_holidays_15h",
          "2023_Q1_holidays_16h",
          "2023_Q1_holidays_17h",
          "2023_Q1_holidays_18h",
          "2023_Q1_holidays_19h",
          "2023_Q1_holidays_20h",
          "2023_Q1_holidays_21h",
          "2023_Q1_holidays_22h",
          "2023_Q1_holidays_23h",
          "2023_Q2_labor_0h",
          "2023_Q2_labor_1h",
          "2023_Q2_labor_2h",
          "2023_Q2_labor_3h",
          "2023_Q2_labor_4h",
          "2023_Q2_labor_5h",
          "2023_Q2_labor_6h",
          "2023_Q2_labor_7h",
          "2023_Q2_labor_8h",
          "2023_Q2_labor_9h",
          "2023_Q2_labor_10h",
          "2023_Q2_labor_11h",
          "2023_Q2_labor_12h",
          "2023_Q2_labor_13h",
          "2023_Q2_labor_14h",
          "2023_Q2_labor_15h",
          "2023_Q2_labor_16h",
          "2023_Q2_labor_17h",
          "2023_Q2_labor_18h",
          "2023_Q2_labor_19h",
          "2023_Q2_labor_20h",
          "2023_Q2_labor_21h",
          "2023_Q2_labor_22h",
          "2023_Q2_labor_23h",
          "2023_Q2_holidays_0h",
          "2023_Q2_holidays_1h",
          "2023_Q2_holidays_2h",
          "2023_Q2_holidays_3h",
          "2023_Q2_holidays_4h",
          "2023_Q2_holidays_5h",
          "2023_Q2_holidays_6h",
          "2023_Q2_holidays_7h",
          "2023_Q2_holidays_8h",
          "2023_Q2_holidays_9h",
          "2023_Q2_holidays_10h",
          "2023_Q2_holidays_11h",
          "2023_Q2_holidays_12h",
          "2023_Q2_holidays_13h",
          "2023_Q2_holidays_14h",
          "2023_Q2_holidays_15h",
          "2023_Q2_holidays_16h",
          "2023_Q2_holidays_17h",
          "2023_Q2_holidays_18h",
          "2023_Q2_holidays_19h",
          "2023_Q2_holidays_20h",
          "2023_Q2_holidays_21h",
          "2023_Q2_holidays_22h",
          "2023_Q2_holidays_23h",
          "2023_Q3_labor_0h",
          "2023_Q3_labor_1h",
          "2023_Q3_labor_2h",
          "2023_Q3_labor_3h",
          "2023_Q3_labor_4h",
          "2023_Q3_labor_5h",
          "2023_Q3_labor_6h",
          "2023_Q3_labor_7h",
          "2023_Q3_labor_8h",
          "2023_Q3_labor_9h",
          "2023_Q3_labor_10h",
          "2023_Q3_labor_11h",
          "2023_Q3_labor_12h",
          "2023_Q3_labor_13h",
          "2023_Q3_labor_14h",
          "2023_Q3_labor_15h",
          "2023_Q3_labor_16h",
          "2023_Q3_labor_17h",
          "2023_Q3_labor_18h",
          "2023_Q3_labor_19h",
          "2023_Q3_labor_20h",
          "2023_Q3_labor_21h",
          "2023_Q3_labor_22h",
          "2023_Q3_labor_23h",
          "2023_Q3_holidays_0h",
          "2023_Q3_holidays_1h",
          "2023_Q3_holidays_2h",
          "2023_Q3_holidays_3h",
          "2023_Q3_holidays_4h",
          "2023_Q3_holidays_5h",
          "2023_Q3_holidays_6h",
          "2023_Q3_holidays_7h",
          "2023_Q3_holidays_8h",
          "2023_Q3_holidays_9h",
          "2023_Q3_holidays_10h",
          "2023_Q3_holidays_11h",
          "2023_Q3_holidays_12h",
          "2023_Q3_holidays_13h",
          "2023_Q3_holidays_14h",
          "2023_Q3_holidays_15h",
          "2023_Q3_holidays_16h",
          "2023_Q3_holidays_17h",
          "2023_Q3_holidays_18h",
          "2023_Q3_holidays_19h",
          "2023_Q3_holidays_20h",
          "2023_Q3_holidays_21h",
          "2023_Q3_holidays_22h",
          "2023_Q3_holidays_23h",
          "2023_Q4_labor_0h",
          "2023_Q4_labor_1h",
          "2023_Q4_labor_2h",
          "2023_Q4_labor_3h",
          "2023_Q4_labor_4h",
          "2023_Q4_labor_5h",
          "2023_Q4_labor_6h",
          "2023_Q4_labor_7h",
          "2023_Q4_labor_8h",
          "2023_Q4_labor_9h",
          "2023_Q4_labor_10h",
          "2023_Q4_labor_11h",
          "2023_Q4_labor_12h",
          "2023_Q4_labor_13h",
          "2023_Q4_labor_14h",
          "2023_Q4_labor_15h",
          "2023_Q4_labor_16h",
          "2023_Q4_labor_17h",
          "2023_Q4_labor_18h",
          "2023_Q4_labor_19h",
          "2023_Q4_labor_20h",
          "2023_Q4_labor_21h",
          "2023_Q4_labor_22h",
          "2023_Q4_labor_23h",
          "2023_Q4_holidays_0h",
          "2023_Q4_holidays_1h",
          "2023_Q4_holidays_2h",
          "2023_Q4_holidays_3h",
          "2023_Q4_holidays_4h",
          "2023_Q4_holidays_5h",
          "2023_Q4_holidays_6h",
          "2023_Q4_holidays_7h",
          "2023_Q4_holidays_8h",
          "2023_Q4_holidays_9h",
          "2023_Q4_holidays_10h",
          "2023_Q4_holidays_11h",
          "2023_Q4_holidays_12h",
          "2023_Q4_holidays_13h",
          "2023_Q4_holidays_14h",
          "2023_Q4_holidays_15h",
          "2023_Q4_holidays_16h",
          "2023_Q4_holidays_17h",
          "2023_Q4_holidays_18h",
          "2023_Q4_holidays_19h",
          "2023_Q4_holidays_20h",
          "2023_Q4_holidays_21h",
          "2023_Q4_holidays_22h",
          "2023_Q4_holidays_23h"
         ],
         "xaxis": "x",
         "y": [
          8599.66201077922,
          8123.466352207792,
          7847.664315584415,
          7648.712031818182,
          7546.137557012987,
          7653.92960051948,
          7968.467541298701,
          8143.982934025973,
          8624.436361038961,
          9159.07741025974,
          9492.23770012987,
          9825.370667922078,
          10097.699321688311,
          10057.65469012987,
          10083.37281974026,
          10184.221536103894,
          10165.9327312987,
          9995.220217272727,
          9789.426800649351,
          10303.532968181817,
          10423.54221961039,
          10163.676751038962,
          9734.911820909092,
          9146.963381298703,
          8076.7772361538455,
          7894.68334,
          7632.004126153846,
          7418.246243076922,
          7255.2389961538465,
          7168.109029230769,
          7102.235082307691,
          6871.0599884615385,
          7076.153543846154,
          7476.377343846153,
          7856.700819230769,
          8154.9196961538455,
          8411.651874615385,
          8522.209581538462,
          8510.548643076923,
          8424.289059230769,
          8355.092903076922,
          8286.363940769232,
          8326.328536153846,
          9041.790119230769,
          9294.75075923077,
          9184.079577692308,
          8916.858936153845,
          8523.056664615386,
          8423.141901392406,
          7916.476318481013,
          7648.703745949366,
          7455.569074810126,
          7358.236504936709,
          7501.004221139241,
          7882.055214303797,
          8029.406444936709,
          8503.277868734178,
          9033.689378354431,
          9372.349360886077,
          9727.518839113924,
          9995.155910886077,
          9918.883269367088,
          9977.56670949367,
          10091.920795189873,
          10083.367253164557,
          9910.779643797468,
          9655.781055949366,
          10173.676494683545,
          10385.835954810125,
          10138.61408835443,
          9646.055350253166,
          8988.742148734176,
          7845.3463769230775,
          7825.247806153847,
          7514.098904615385,
          7247.866976153846,
          7079.213992307693,
          7002.2921776923085,
          6914.973547692308,
          6760.693274615383,
          7060.726747692307,
          7468.18060923077,
          7814.833133846154,
          8102.7651115384615,
          8319.523568461538,
          8420.48163923077,
          8414.398712307693,
          8314.732032307693,
          8233.641714615385,
          8159.269447692307,
          8170.7497299999995,
          8917.623272307692,
          9224.499016923077,
          9097.374024615385,
          8754.252457692308,
          8309.418803846154,
          8640.287491265823,
          8094.236046455695,
          7797.80335556962,
          7587.313637721519,
          7482.2557586075945,
          7596.992589746836,
          7876.507376708861,
          8053.60567721519,
          8601.882779873418,
          9179.225973544304,
          9542.105224050634,
          9928.964503037974,
          10211.501873037976,
          10151.091195696203,
          10220.545187215188,
          10345.749019113924,
          10316.657037468354,
          10139.37432329114,
          9819.393864303798,
          10300.211954683544,
          10606.74314113924,
          10397.741964303797,
          9895.70205063291,
          9253.582920506331,
          8010.915429230769,
          7938.167134615385,
          7620.757395384615,
          7391.943560000001,
          7202.4324761538455,
          7091.924921538462,
          6971.9920999999995,
          6805.529731538461,
          7163.679163846154,
          7552.8464284615375,
          7880.060945384616,
          8160.156696153846,
          8388.828403076925,
          8510.496439230768,
          8503.265076923077,
          8375.961775384616,
          8284.06512846154,
          8210.996548461539,
          8208.160887692307,
          8891.998995384614,
          9299.186910769231,
          9202.623843076924,
          8920.814549230769,
          8473.910722307694,
          9209.652445897436,
          8684.523318333333,
          8390.332746538463,
          8184.015227179487,
          8082.189385769231,
          8211.505456923076,
          8509.542706410257,
          8700.997038205129,
          9236.78079448718,
          9759.395021666667,
          10096.364190897435,
          10456.546559615384,
          10721.749042948719,
          10676.228238205129,
          10743.173069358974,
          10862.293691410257,
          10843.049806282052,
          10701.050749871794,
          10584.33284153846,
          11102.555628076923,
          11087.487889358976,
          10854.771355,
          10409.585287692309,
          9794.447355897435,
          8560.882585384616,
          8383.488172307694,
          8088.850806153847,
          7835.945610769231,
          7615.899834615384,
          7519.462358461538,
          7403.685128461539,
          7238.961298461538,
          7528.638202307692,
          7917.499836923077,
          8277.312384615385,
          8600.882593846154,
          8871.685788461538,
          9001.896287692307,
          9000.688126923076,
          8899.551684615384,
          8835.324489230768,
          8776.228406923075,
          8938.892921538461,
          9696.575747692308,
          9842.034441538462,
          9724.596913076924,
          9456.023813076923,
          9038.478810769231
         ],
         "yaxis": "y"
        },
        {
         "hovertemplate": "Series=GeneIdea_Sistema<br>timestamp=%{x}<br>Values=%{y}<extra></extra>",
         "legendgroup": "GeneIdea_Sistema",
         "line": {
          "color": "#ab63fa",
          "dash": "solid"
         },
         "marker": {
          "symbol": "circle"
         },
         "mode": "lines",
         "name": "GeneIdea_Sistema",
         "orientation": "v",
         "showlegend": true,
         "type": "scatter",
         "x": [
          "2023_Q1_labor_0h",
          "2023_Q1_labor_1h",
          "2023_Q1_labor_2h",
          "2023_Q1_labor_3h",
          "2023_Q1_labor_4h",
          "2023_Q1_labor_5h",
          "2023_Q1_labor_6h",
          "2023_Q1_labor_7h",
          "2023_Q1_labor_8h",
          "2023_Q1_labor_9h",
          "2023_Q1_labor_10h",
          "2023_Q1_labor_11h",
          "2023_Q1_labor_12h",
          "2023_Q1_labor_13h",
          "2023_Q1_labor_14h",
          "2023_Q1_labor_15h",
          "2023_Q1_labor_16h",
          "2023_Q1_labor_17h",
          "2023_Q1_labor_18h",
          "2023_Q1_labor_19h",
          "2023_Q1_labor_20h",
          "2023_Q1_labor_21h",
          "2023_Q1_labor_22h",
          "2023_Q1_labor_23h",
          "2023_Q1_holidays_0h",
          "2023_Q1_holidays_1h",
          "2023_Q1_holidays_2h",
          "2023_Q1_holidays_3h",
          "2023_Q1_holidays_4h",
          "2023_Q1_holidays_5h",
          "2023_Q1_holidays_6h",
          "2023_Q1_holidays_7h",
          "2023_Q1_holidays_8h",
          "2023_Q1_holidays_9h",
          "2023_Q1_holidays_10h",
          "2023_Q1_holidays_11h",
          "2023_Q1_holidays_12h",
          "2023_Q1_holidays_13h",
          "2023_Q1_holidays_14h",
          "2023_Q1_holidays_15h",
          "2023_Q1_holidays_16h",
          "2023_Q1_holidays_17h",
          "2023_Q1_holidays_18h",
          "2023_Q1_holidays_19h",
          "2023_Q1_holidays_20h",
          "2023_Q1_holidays_21h",
          "2023_Q1_holidays_22h",
          "2023_Q1_holidays_23h",
          "2023_Q2_labor_0h",
          "2023_Q2_labor_1h",
          "2023_Q2_labor_2h",
          "2023_Q2_labor_3h",
          "2023_Q2_labor_4h",
          "2023_Q2_labor_5h",
          "2023_Q2_labor_6h",
          "2023_Q2_labor_7h",
          "2023_Q2_labor_8h",
          "2023_Q2_labor_9h",
          "2023_Q2_labor_10h",
          "2023_Q2_labor_11h",
          "2023_Q2_labor_12h",
          "2023_Q2_labor_13h",
          "2023_Q2_labor_14h",
          "2023_Q2_labor_15h",
          "2023_Q2_labor_16h",
          "2023_Q2_labor_17h",
          "2023_Q2_labor_18h",
          "2023_Q2_labor_19h",
          "2023_Q2_labor_20h",
          "2023_Q2_labor_21h",
          "2023_Q2_labor_22h",
          "2023_Q2_labor_23h",
          "2023_Q2_holidays_0h",
          "2023_Q2_holidays_1h",
          "2023_Q2_holidays_2h",
          "2023_Q2_holidays_3h",
          "2023_Q2_holidays_4h",
          "2023_Q2_holidays_5h",
          "2023_Q2_holidays_6h",
          "2023_Q2_holidays_7h",
          "2023_Q2_holidays_8h",
          "2023_Q2_holidays_9h",
          "2023_Q2_holidays_10h",
          "2023_Q2_holidays_11h",
          "2023_Q2_holidays_12h",
          "2023_Q2_holidays_13h",
          "2023_Q2_holidays_14h",
          "2023_Q2_holidays_15h",
          "2023_Q2_holidays_16h",
          "2023_Q2_holidays_17h",
          "2023_Q2_holidays_18h",
          "2023_Q2_holidays_19h",
          "2023_Q2_holidays_20h",
          "2023_Q2_holidays_21h",
          "2023_Q2_holidays_22h",
          "2023_Q2_holidays_23h",
          "2023_Q3_labor_0h",
          "2023_Q3_labor_1h",
          "2023_Q3_labor_2h",
          "2023_Q3_labor_3h",
          "2023_Q3_labor_4h",
          "2023_Q3_labor_5h",
          "2023_Q3_labor_6h",
          "2023_Q3_labor_7h",
          "2023_Q3_labor_8h",
          "2023_Q3_labor_9h",
          "2023_Q3_labor_10h",
          "2023_Q3_labor_11h",
          "2023_Q3_labor_12h",
          "2023_Q3_labor_13h",
          "2023_Q3_labor_14h",
          "2023_Q3_labor_15h",
          "2023_Q3_labor_16h",
          "2023_Q3_labor_17h",
          "2023_Q3_labor_18h",
          "2023_Q3_labor_19h",
          "2023_Q3_labor_20h",
          "2023_Q3_labor_21h",
          "2023_Q3_labor_22h",
          "2023_Q3_labor_23h",
          "2023_Q3_holidays_0h",
          "2023_Q3_holidays_1h",
          "2023_Q3_holidays_2h",
          "2023_Q3_holidays_3h",
          "2023_Q3_holidays_4h",
          "2023_Q3_holidays_5h",
          "2023_Q3_holidays_6h",
          "2023_Q3_holidays_7h",
          "2023_Q3_holidays_8h",
          "2023_Q3_holidays_9h",
          "2023_Q3_holidays_10h",
          "2023_Q3_holidays_11h",
          "2023_Q3_holidays_12h",
          "2023_Q3_holidays_13h",
          "2023_Q3_holidays_14h",
          "2023_Q3_holidays_15h",
          "2023_Q3_holidays_16h",
          "2023_Q3_holidays_17h",
          "2023_Q3_holidays_18h",
          "2023_Q3_holidays_19h",
          "2023_Q3_holidays_20h",
          "2023_Q3_holidays_21h",
          "2023_Q3_holidays_22h",
          "2023_Q3_holidays_23h",
          "2023_Q4_labor_0h",
          "2023_Q4_labor_1h",
          "2023_Q4_labor_2h",
          "2023_Q4_labor_3h",
          "2023_Q4_labor_4h",
          "2023_Q4_labor_5h",
          "2023_Q4_labor_6h",
          "2023_Q4_labor_7h",
          "2023_Q4_labor_8h",
          "2023_Q4_labor_9h",
          "2023_Q4_labor_10h",
          "2023_Q4_labor_11h",
          "2023_Q4_labor_12h",
          "2023_Q4_labor_13h",
          "2023_Q4_labor_14h",
          "2023_Q4_labor_15h",
          "2023_Q4_labor_16h",
          "2023_Q4_labor_17h",
          "2023_Q4_labor_18h",
          "2023_Q4_labor_19h",
          "2023_Q4_labor_20h",
          "2023_Q4_labor_21h",
          "2023_Q4_labor_22h",
          "2023_Q4_labor_23h",
          "2023_Q4_holidays_0h",
          "2023_Q4_holidays_1h",
          "2023_Q4_holidays_2h",
          "2023_Q4_holidays_3h",
          "2023_Q4_holidays_4h",
          "2023_Q4_holidays_5h",
          "2023_Q4_holidays_6h",
          "2023_Q4_holidays_7h",
          "2023_Q4_holidays_8h",
          "2023_Q4_holidays_9h",
          "2023_Q4_holidays_10h",
          "2023_Q4_holidays_11h",
          "2023_Q4_holidays_12h",
          "2023_Q4_holidays_13h",
          "2023_Q4_holidays_14h",
          "2023_Q4_holidays_15h",
          "2023_Q4_holidays_16h",
          "2023_Q4_holidays_17h",
          "2023_Q4_holidays_18h",
          "2023_Q4_holidays_19h",
          "2023_Q4_holidays_20h",
          "2023_Q4_holidays_21h",
          "2023_Q4_holidays_22h",
          "2023_Q4_holidays_23h"
         ],
         "xaxis": "x",
         "y": [
          8599.66201077922,
          8123.466352207792,
          7847.718319090909,
          7648.712031818182,
          7546.1424945454555,
          7653.92960051948,
          7968.467541298701,
          8144.02238935065,
          8624.436361038961,
          9159.07741025974,
          9492.23770012987,
          9825.370667922078,
          10097.699321688311,
          10057.65469012987,
          10083.37281974026,
          10184.221536103894,
          10165.9327312987,
          9995.220217272727,
          9789.426800649351,
          10303.532968181817,
          10423.54221961039,
          10163.676751038962,
          9734.911820909092,
          9146.963381298703,
          8076.7772361538455,
          7894.68334,
          7632.1214615384615,
          7418.410834615384,
          7255.2389961538465,
          7168.109029230769,
          7102.246554615384,
          6871.0599884615385,
          7076.153543846154,
          7476.377343846153,
          7856.700819230769,
          8154.9196961538455,
          8411.651874615385,
          8522.209581538462,
          8510.548643076923,
          8424.289059230769,
          8355.092903076922,
          8286.363940769232,
          8326.328536153846,
          9041.790119230769,
          9294.75075923077,
          9184.079577692308,
          8916.858936153845,
          8523.056664615386,
          8429.928952658229,
          7930.587886329114,
          7658.4836635443025,
          7463.042980886075,
          7365.176021772152,
          7506.9389343037965,
          7886.298114303798,
          8034.892854683544,
          8513.309566075948,
          9044.550495443038,
          9378.110306582279,
          9737.455005316455,
          10001.819155189874,
          9925.47691392405,
          9982.43023670886,
          10095.429269620252,
          10086.862420632911,
          9915.395829746834,
          9658.165887341773,
          10176.399498481012,
          10386.80881113924,
          10140.647295949368,
          9648.110805696202,
          8994.270823924051,
          7852.529535384615,
          7826.079546923077,
          7515.646546923077,
          7250.053645384615,
          7094.24867,
          7031.414378461539,
          6952.359810000001,
          6783.751872307693,
          7087.406849230768,
          7474.698084615386,
          7816.817221538461,
          8104.5160323076925,
          8330.19395923077,
          8437.335235384615,
          8444.05183,
          8329.459656153847,
          8242.572269230768,
          8176.503200769231,
          8186.441754615385,
          8930.244976153846,
          9226.01867153846,
          9099.984844615385,
          8755.936604615385,
          8310.959791538462,
          8657.66695506329,
          8124.787027468354,
          7840.4582469620245,
          7633.988047848101,
          7528.327164683544,
          7622.896436455697,
          7897.376677341772,
          8073.716041898733,
          8622.834830379747,
          9198.692987468354,
          9555.419899113924,
          9944.024057468354,
          10219.727037341774,
          10158.032339746836,
          10229.605375822786,
          10353.413762658227,
          10324.05473443038,
          10148.558672658228,
          9828.836140759495,
          10303.696800000002,
          10607.64586835443,
          10398.663620886076,
          9897.892361772152,
          9262.187723797468,
          8034.723856153846,
          7973.719157692308,
          7651.760062307692,
          7418.548519230769,
          7235.110960769231,
          7107.818125384615,
          6999.250438461539,
          6879.298291538461,
          7214.790533846154,
          7563.794726153846,
          7914.512695384616,
          8190.242939999999,
          8397.072953076924,
          8519.399402307692,
          8513.841533846153,
          8394.403780769231,
          8293.767012307693,
          8255.80137923077,
          8250.07054923077,
          8895.473043846152,
          9301.05432153846,
          9204.631589999999,
          8921.741663846155,
          8481.911695384613,
          9209.655378461537,
          8684.523318333333,
          8390.444216153846,
          8184.092323461539,
          8082.21723525641,
          8211.583772692307,
          8509.569510128204,
          8701.260768461538,
          9236.86825948718,
          9759.395021666667,
          10096.371296666666,
          10456.618392307693,
          10721.846876153848,
          10676.342887179488,
          10743.192739102564,
          10862.333804358974,
          10843.146818461539,
          10701.096663717948,
          10584.349990128207,
          11102.555628076923,
          11087.515321410257,
          10854.78445294872,
          10409.611512179488,
          9794.551953076923,
          8561.125354615384,
          8383.488172307694,
          8088.934829999999,
          7835.959637692308,
          7616.075727692307,
          7519.484936923076,
          7403.685128461539,
          7239.382665384615,
          7528.638202307692,
          7917.499836923077,
          8277.469405384614,
          8600.882593846154,
          8871.685788461538,
          9001.896287692307,
          9000.804641538462,
          8899.56935076923,
          8835.32738230769,
          8776.228406923075,
          8938.892921538461,
          9696.575747692308,
          9842.254300769231,
          9724.705841538462,
          9456.070904615384,
          9038.51835076923
         ],
         "yaxis": "y"
        },
        {
         "hovertemplate": "Series=DispatchGen_MW<br>timestamp=%{x}<br>Values=%{y}<extra></extra>",
         "legendgroup": "DispatchGen_MW",
         "line": {
          "color": "#FFA15A",
          "dash": "solid"
         },
         "marker": {
          "symbol": "circle"
         },
         "mode": "lines",
         "name": "DispatchGen_MW",
         "orientation": "v",
         "showlegend": true,
         "type": "scatter",
         "x": [
          "2023_Q1_labor_0h",
          "2023_Q1_labor_1h",
          "2023_Q1_labor_2h",
          "2023_Q1_labor_3h",
          "2023_Q1_labor_4h",
          "2023_Q1_labor_5h",
          "2023_Q1_labor_6h",
          "2023_Q1_labor_7h",
          "2023_Q1_labor_8h",
          "2023_Q1_labor_9h",
          "2023_Q1_labor_10h",
          "2023_Q1_labor_11h",
          "2023_Q1_labor_12h",
          "2023_Q1_labor_13h",
          "2023_Q1_labor_14h",
          "2023_Q1_labor_15h",
          "2023_Q1_labor_16h",
          "2023_Q1_labor_17h",
          "2023_Q1_labor_18h",
          "2023_Q1_labor_19h",
          "2023_Q1_labor_20h",
          "2023_Q1_labor_21h",
          "2023_Q1_labor_22h",
          "2023_Q1_labor_23h",
          "2023_Q1_holidays_0h",
          "2023_Q1_holidays_1h",
          "2023_Q1_holidays_2h",
          "2023_Q1_holidays_3h",
          "2023_Q1_holidays_4h",
          "2023_Q1_holidays_5h",
          "2023_Q1_holidays_6h",
          "2023_Q1_holidays_7h",
          "2023_Q1_holidays_8h",
          "2023_Q1_holidays_9h",
          "2023_Q1_holidays_10h",
          "2023_Q1_holidays_11h",
          "2023_Q1_holidays_12h",
          "2023_Q1_holidays_13h",
          "2023_Q1_holidays_14h",
          "2023_Q1_holidays_15h",
          "2023_Q1_holidays_16h",
          "2023_Q1_holidays_17h",
          "2023_Q1_holidays_18h",
          "2023_Q1_holidays_19h",
          "2023_Q1_holidays_20h",
          "2023_Q1_holidays_21h",
          "2023_Q1_holidays_22h",
          "2023_Q1_holidays_23h",
          "2023_Q2_labor_0h",
          "2023_Q2_labor_1h",
          "2023_Q2_labor_2h",
          "2023_Q2_labor_3h",
          "2023_Q2_labor_4h",
          "2023_Q2_labor_5h",
          "2023_Q2_labor_6h",
          "2023_Q2_labor_7h",
          "2023_Q2_labor_8h",
          "2023_Q2_labor_9h",
          "2023_Q2_labor_10h",
          "2023_Q2_labor_11h",
          "2023_Q2_labor_12h",
          "2023_Q2_labor_13h",
          "2023_Q2_labor_14h",
          "2023_Q2_labor_15h",
          "2023_Q2_labor_16h",
          "2023_Q2_labor_17h",
          "2023_Q2_labor_18h",
          "2023_Q2_labor_19h",
          "2023_Q2_labor_20h",
          "2023_Q2_labor_21h",
          "2023_Q2_labor_22h",
          "2023_Q2_labor_23h",
          "2023_Q2_holidays_0h",
          "2023_Q2_holidays_1h",
          "2023_Q2_holidays_2h",
          "2023_Q2_holidays_3h",
          "2023_Q2_holidays_4h",
          "2023_Q2_holidays_5h",
          "2023_Q2_holidays_6h",
          "2023_Q2_holidays_7h",
          "2023_Q2_holidays_8h",
          "2023_Q2_holidays_9h",
          "2023_Q2_holidays_10h",
          "2023_Q2_holidays_11h",
          "2023_Q2_holidays_12h",
          "2023_Q2_holidays_13h",
          "2023_Q2_holidays_14h",
          "2023_Q2_holidays_15h",
          "2023_Q2_holidays_16h",
          "2023_Q2_holidays_17h",
          "2023_Q2_holidays_18h",
          "2023_Q2_holidays_19h",
          "2023_Q2_holidays_20h",
          "2023_Q2_holidays_21h",
          "2023_Q2_holidays_22h",
          "2023_Q2_holidays_23h",
          "2023_Q3_labor_0h",
          "2023_Q3_labor_1h",
          "2023_Q3_labor_2h",
          "2023_Q3_labor_3h",
          "2023_Q3_labor_4h",
          "2023_Q3_labor_5h",
          "2023_Q3_labor_6h",
          "2023_Q3_labor_7h",
          "2023_Q3_labor_8h",
          "2023_Q3_labor_9h",
          "2023_Q3_labor_10h",
          "2023_Q3_labor_11h",
          "2023_Q3_labor_12h",
          "2023_Q3_labor_13h",
          "2023_Q3_labor_14h",
          "2023_Q3_labor_15h",
          "2023_Q3_labor_16h",
          "2023_Q3_labor_17h",
          "2023_Q3_labor_18h",
          "2023_Q3_labor_19h",
          "2023_Q3_labor_20h",
          "2023_Q3_labor_21h",
          "2023_Q3_labor_22h",
          "2023_Q3_labor_23h",
          "2023_Q3_holidays_0h",
          "2023_Q3_holidays_1h",
          "2023_Q3_holidays_2h",
          "2023_Q3_holidays_3h",
          "2023_Q3_holidays_4h",
          "2023_Q3_holidays_5h",
          "2023_Q3_holidays_6h",
          "2023_Q3_holidays_7h",
          "2023_Q3_holidays_8h",
          "2023_Q3_holidays_9h",
          "2023_Q3_holidays_10h",
          "2023_Q3_holidays_11h",
          "2023_Q3_holidays_12h",
          "2023_Q3_holidays_13h",
          "2023_Q3_holidays_14h",
          "2023_Q3_holidays_15h",
          "2023_Q3_holidays_16h",
          "2023_Q3_holidays_17h",
          "2023_Q3_holidays_18h",
          "2023_Q3_holidays_19h",
          "2023_Q3_holidays_20h",
          "2023_Q3_holidays_21h",
          "2023_Q3_holidays_22h",
          "2023_Q3_holidays_23h",
          "2023_Q4_labor_0h",
          "2023_Q4_labor_1h",
          "2023_Q4_labor_2h",
          "2023_Q4_labor_3h",
          "2023_Q4_labor_4h",
          "2023_Q4_labor_5h",
          "2023_Q4_labor_6h",
          "2023_Q4_labor_7h",
          "2023_Q4_labor_8h",
          "2023_Q4_labor_9h",
          "2023_Q4_labor_10h",
          "2023_Q4_labor_11h",
          "2023_Q4_labor_12h",
          "2023_Q4_labor_13h",
          "2023_Q4_labor_14h",
          "2023_Q4_labor_15h",
          "2023_Q4_labor_16h",
          "2023_Q4_labor_17h",
          "2023_Q4_labor_18h",
          "2023_Q4_labor_19h",
          "2023_Q4_labor_20h",
          "2023_Q4_labor_21h",
          "2023_Q4_labor_22h",
          "2023_Q4_labor_23h",
          "2023_Q4_holidays_0h",
          "2023_Q4_holidays_1h",
          "2023_Q4_holidays_2h",
          "2023_Q4_holidays_3h",
          "2023_Q4_holidays_4h",
          "2023_Q4_holidays_5h",
          "2023_Q4_holidays_6h",
          "2023_Q4_holidays_7h",
          "2023_Q4_holidays_8h",
          "2023_Q4_holidays_9h",
          "2023_Q4_holidays_10h",
          "2023_Q4_holidays_11h",
          "2023_Q4_holidays_12h",
          "2023_Q4_holidays_13h",
          "2023_Q4_holidays_14h",
          "2023_Q4_holidays_15h",
          "2023_Q4_holidays_16h",
          "2023_Q4_holidays_17h",
          "2023_Q4_holidays_18h",
          "2023_Q4_holidays_19h",
          "2023_Q4_holidays_20h",
          "2023_Q4_holidays_21h",
          "2023_Q4_holidays_22h",
          "2023_Q4_holidays_23h"
         ],
         "xaxis": "x",
         "y": [
          8592.514558621428,
          8119.6096602706,
          7846.90593540936,
          7651.445724301951,
          7557.302066494174,
          7673.283246254652,
          7985.235380886736,
          8167.876280786014,
          8652.251200504686,
          9179.507098911947,
          9507.797622871609,
          9832.592404217765,
          10090.802044621043,
          10047.508229236146,
          10069.127267161699,
          10167.534049913289,
          10145.191347714395,
          9976.904266223453,
          9786.110086163713,
          10288.978738010424,
          10400.116892875405,
          10141.776314256042,
          9706.864316270317,
          9130.509544973951,
          8071.108544847522,
          7889.0921956313905,
          7631.050304662316,
          7418.779673124633,
          7258.089934633885,
          7171.4935851857845,
          7102.570266195022,
          6886.897318127898,
          7108.385188360288,
          7509.487081714005,
          7879.2953724093,
          8177.2326571811145,
          8428.432137644466,
          8536.924045644913,
          8521.1609330654,
          8437.14470729176,
          8364.54523888845,
          8299.442877760206,
          8344.56402460057,
          9047.985835784586,
          9286.033869070967,
          9172.02228511066,
          8900.463377116117,
          8508.917195687312,
          8528.707753453162,
          8035.731421561775,
          7770.480590208936,
          7579.124695370945,
          7492.510558389982,
          7650.1211813719165,
          8024.7322819659485,
          8183.434343288929,
          8659.162829819534,
          9151.66125716241,
          9462.593732534931,
          9798.236957056492,
          10051.495365941888,
          9974.598235863508,
          10025.382400546478,
          10139.76454471653,
          10135.484361680268,
          9975.19377318418,
          9720.442450691988,
          10193.820257244264,
          10398.41160445882,
          10163.116406883317,
          9702.21258816263,
          9082.011500263423,
          8002.9294450337775,
          7957.699409326431,
          7650.424520033232,
          7414.3141991738385,
          7246.599458307318,
          7165.52409859364,
          7059.824762647722,
          6910.023623979962,
          7203.510682056743,
          7584.465022533922,
          7936.174332088902,
          8224.134021509797,
          8460.745641691778,
          8564.67968004747,
          8559.62942218966,
          8448.846879828121,
          8363.244314198793,
          8293.83513669152,
          8309.671894035819,
          8983.739655286347,
          9284.915786812757,
          9171.15166711765,
          8878.878750393586,
          8460.453761711702,
          8817.61004691434,
          8309.450163708982,
          8019.536843265064,
          7813.148386460622,
          7715.2739352843,
          7838.410004196523,
          8123.9595959561075,
          8306.730411427654,
          8830.570349680436,
          9346.875154688732,
          9677.36598874583,
          10032.536907403135,
          10297.75654641244,
          10241.079985035427,
          10295.383754010902,
          10409.442531457225,
          10384.869909578516,
          10231.943519895214,
          9947.878782557635,
          10338.580207107658,
          10634.767808293302,
          10436.500460215759,
          9998.578770149452,
          9392.652831693827,
          8244.675809952689,
          8151.915601542037,
          7856.879412717484,
          7619.695927373226,
          7441.034345860732,
          7342.554630568545,
          7224.2980882775855,
          7054.6088894249115,
          7351.2024119671905,
          7726.176448431582,
          8048.4427844922575,
          8313.302043158457,
          8535.53148295655,
          8666.068008710337,
          8674.987006309191,
          8570.706179856896,
          8478.409940161891,
          8409.019939197577,
          8418.475018239276,
          9029.36876160981,
          9430.235233351426,
          9339.850200136581,
          9095.594286159903,
          8691.140615593227,
          9234.03018261829,
          8715.550262803517,
          8418.299362398016,
          8212.23882772263,
          8111.247388462553,
          8243.329436007509,
          8540.242155460177,
          8734.844976406117,
          9269.343230354703,
          9788.113771467235,
          10125.86440355856,
          10481.25366030078,
          10741.898775562444,
          10698.097634249181,
          10759.799796108526,
          10877.065446197963,
          10854.719113869352,
          10713.193445469511,
          10598.940048113269,
          11114.266196015236,
          11096.286367541406,
          10863.726349404758,
          10417.872512082497,
          9808.919057555602,
          8611.698405147652,
          8433.513650921515,
          8135.0197239459085,
          7884.000093519622,
          7663.936301972573,
          7569.998695984389,
          7453.660827483131,
          7294.016739552859,
          7588.732942431619,
          7983.032444307331,
          8342.4846518089,
          8666.14556430224,
          8930.95245893999,
          9058.665980272883,
          9059.373918501413,
          8959.029337830267,
          8897.642159058354,
          8836.672527531213,
          8999.978622382312,
          9741.397763494268,
          9880.351335460691,
          9762.423653574595,
          9497.469858719614,
          9086.359320264808
         ],
         "yaxis": "y"
        }
       ],
       "layout": {
        "legend": {
         "title": {
          "text": "Series"
         },
         "tracegroupgap": 0
        },
        "template": {
         "data": {
          "bar": [
           {
            "error_x": {
             "color": "#2a3f5f"
            },
            "error_y": {
             "color": "#2a3f5f"
            },
            "marker": {
             "line": {
              "color": "#E5ECF6",
              "width": 0.5
             },
             "pattern": {
              "fillmode": "overlay",
              "size": 10,
              "solidity": 0.2
             }
            },
            "type": "bar"
           }
          ],
          "barpolar": [
           {
            "marker": {
             "line": {
              "color": "#E5ECF6",
              "width": 0.5
             },
             "pattern": {
              "fillmode": "overlay",
              "size": 10,
              "solidity": 0.2
             }
            },
            "type": "barpolar"
           }
          ],
          "carpet": [
           {
            "aaxis": {
             "endlinecolor": "#2a3f5f",
             "gridcolor": "white",
             "linecolor": "white",
             "minorgridcolor": "white",
             "startlinecolor": "#2a3f5f"
            },
            "baxis": {
             "endlinecolor": "#2a3f5f",
             "gridcolor": "white",
             "linecolor": "white",
             "minorgridcolor": "white",
             "startlinecolor": "#2a3f5f"
            },
            "type": "carpet"
           }
          ],
          "choropleth": [
           {
            "colorbar": {
             "outlinewidth": 0,
             "ticks": ""
            },
            "type": "choropleth"
           }
          ],
          "contour": [
           {
            "colorbar": {
             "outlinewidth": 0,
             "ticks": ""
            },
            "colorscale": [
             [
              0,
              "#0d0887"
             ],
             [
              0.1111111111111111,
              "#46039f"
             ],
             [
              0.2222222222222222,
              "#7201a8"
             ],
             [
              0.3333333333333333,
              "#9c179e"
             ],
             [
              0.4444444444444444,
              "#bd3786"
             ],
             [
              0.5555555555555556,
              "#d8576b"
             ],
             [
              0.6666666666666666,
              "#ed7953"
             ],
             [
              0.7777777777777778,
              "#fb9f3a"
             ],
             [
              0.8888888888888888,
              "#fdca26"
             ],
             [
              1,
              "#f0f921"
             ]
            ],
            "type": "contour"
           }
          ],
          "contourcarpet": [
           {
            "colorbar": {
             "outlinewidth": 0,
             "ticks": ""
            },
            "type": "contourcarpet"
           }
          ],
          "heatmap": [
           {
            "colorbar": {
             "outlinewidth": 0,
             "ticks": ""
            },
            "colorscale": [
             [
              0,
              "#0d0887"
             ],
             [
              0.1111111111111111,
              "#46039f"
             ],
             [
              0.2222222222222222,
              "#7201a8"
             ],
             [
              0.3333333333333333,
              "#9c179e"
             ],
             [
              0.4444444444444444,
              "#bd3786"
             ],
             [
              0.5555555555555556,
              "#d8576b"
             ],
             [
              0.6666666666666666,
              "#ed7953"
             ],
             [
              0.7777777777777778,
              "#fb9f3a"
             ],
             [
              0.8888888888888888,
              "#fdca26"
             ],
             [
              1,
              "#f0f921"
             ]
            ],
            "type": "heatmap"
           }
          ],
          "heatmapgl": [
           {
            "colorbar": {
             "outlinewidth": 0,
             "ticks": ""
            },
            "colorscale": [
             [
              0,
              "#0d0887"
             ],
             [
              0.1111111111111111,
              "#46039f"
             ],
             [
              0.2222222222222222,
              "#7201a8"
             ],
             [
              0.3333333333333333,
              "#9c179e"
             ],
             [
              0.4444444444444444,
              "#bd3786"
             ],
             [
              0.5555555555555556,
              "#d8576b"
             ],
             [
              0.6666666666666666,
              "#ed7953"
             ],
             [
              0.7777777777777778,
              "#fb9f3a"
             ],
             [
              0.8888888888888888,
              "#fdca26"
             ],
             [
              1,
              "#f0f921"
             ]
            ],
            "type": "heatmapgl"
           }
          ],
          "histogram": [
           {
            "marker": {
             "pattern": {
              "fillmode": "overlay",
              "size": 10,
              "solidity": 0.2
             }
            },
            "type": "histogram"
           }
          ],
          "histogram2d": [
           {
            "colorbar": {
             "outlinewidth": 0,
             "ticks": ""
            },
            "colorscale": [
             [
              0,
              "#0d0887"
             ],
             [
              0.1111111111111111,
              "#46039f"
             ],
             [
              0.2222222222222222,
              "#7201a8"
             ],
             [
              0.3333333333333333,
              "#9c179e"
             ],
             [
              0.4444444444444444,
              "#bd3786"
             ],
             [
              0.5555555555555556,
              "#d8576b"
             ],
             [
              0.6666666666666666,
              "#ed7953"
             ],
             [
              0.7777777777777778,
              "#fb9f3a"
             ],
             [
              0.8888888888888888,
              "#fdca26"
             ],
             [
              1,
              "#f0f921"
             ]
            ],
            "type": "histogram2d"
           }
          ],
          "histogram2dcontour": [
           {
            "colorbar": {
             "outlinewidth": 0,
             "ticks": ""
            },
            "colorscale": [
             [
              0,
              "#0d0887"
             ],
             [
              0.1111111111111111,
              "#46039f"
             ],
             [
              0.2222222222222222,
              "#7201a8"
             ],
             [
              0.3333333333333333,
              "#9c179e"
             ],
             [
              0.4444444444444444,
              "#bd3786"
             ],
             [
              0.5555555555555556,
              "#d8576b"
             ],
             [
              0.6666666666666666,
              "#ed7953"
             ],
             [
              0.7777777777777778,
              "#fb9f3a"
             ],
             [
              0.8888888888888888,
              "#fdca26"
             ],
             [
              1,
              "#f0f921"
             ]
            ],
            "type": "histogram2dcontour"
           }
          ],
          "mesh3d": [
           {
            "colorbar": {
             "outlinewidth": 0,
             "ticks": ""
            },
            "type": "mesh3d"
           }
          ],
          "parcoords": [
           {
            "line": {
             "colorbar": {
              "outlinewidth": 0,
              "ticks": ""
             }
            },
            "type": "parcoords"
           }
          ],
          "pie": [
           {
            "automargin": true,
            "type": "pie"
           }
          ],
          "scatter": [
           {
            "fillpattern": {
             "fillmode": "overlay",
             "size": 10,
             "solidity": 0.2
            },
            "type": "scatter"
           }
          ],
          "scatter3d": [
           {
            "line": {
             "colorbar": {
              "outlinewidth": 0,
              "ticks": ""
             }
            },
            "marker": {
             "colorbar": {
              "outlinewidth": 0,
              "ticks": ""
             }
            },
            "type": "scatter3d"
           }
          ],
          "scattercarpet": [
           {
            "marker": {
             "colorbar": {
              "outlinewidth": 0,
              "ticks": ""
             }
            },
            "type": "scattercarpet"
           }
          ],
          "scattergeo": [
           {
            "marker": {
             "colorbar": {
              "outlinewidth": 0,
              "ticks": ""
             }
            },
            "type": "scattergeo"
           }
          ],
          "scattergl": [
           {
            "marker": {
             "colorbar": {
              "outlinewidth": 0,
              "ticks": ""
             }
            },
            "type": "scattergl"
           }
          ],
          "scattermapbox": [
           {
            "marker": {
             "colorbar": {
              "outlinewidth": 0,
              "ticks": ""
             }
            },
            "type": "scattermapbox"
           }
          ],
          "scatterpolar": [
           {
            "marker": {
             "colorbar": {
              "outlinewidth": 0,
              "ticks": ""
             }
            },
            "type": "scatterpolar"
           }
          ],
          "scatterpolargl": [
           {
            "marker": {
             "colorbar": {
              "outlinewidth": 0,
              "ticks": ""
             }
            },
            "type": "scatterpolargl"
           }
          ],
          "scatterternary": [
           {
            "marker": {
             "colorbar": {
              "outlinewidth": 0,
              "ticks": ""
             }
            },
            "type": "scatterternary"
           }
          ],
          "surface": [
           {
            "colorbar": {
             "outlinewidth": 0,
             "ticks": ""
            },
            "colorscale": [
             [
              0,
              "#0d0887"
             ],
             [
              0.1111111111111111,
              "#46039f"
             ],
             [
              0.2222222222222222,
              "#7201a8"
             ],
             [
              0.3333333333333333,
              "#9c179e"
             ],
             [
              0.4444444444444444,
              "#bd3786"
             ],
             [
              0.5555555555555556,
              "#d8576b"
             ],
             [
              0.6666666666666666,
              "#ed7953"
             ],
             [
              0.7777777777777778,
              "#fb9f3a"
             ],
             [
              0.8888888888888888,
              "#fdca26"
             ],
             [
              1,
              "#f0f921"
             ]
            ],
            "type": "surface"
           }
          ],
          "table": [
           {
            "cells": {
             "fill": {
              "color": "#EBF0F8"
             },
             "line": {
              "color": "white"
             }
            },
            "header": {
             "fill": {
              "color": "#C8D4E3"
             },
             "line": {
              "color": "white"
             }
            },
            "type": "table"
           }
          ]
         },
         "layout": {
          "annotationdefaults": {
           "arrowcolor": "#2a3f5f",
           "arrowhead": 0,
           "arrowwidth": 1
          },
          "autotypenumbers": "strict",
          "coloraxis": {
           "colorbar": {
            "outlinewidth": 0,
            "ticks": ""
           }
          },
          "colorscale": {
           "diverging": [
            [
             0,
             "#8e0152"
            ],
            [
             0.1,
             "#c51b7d"
            ],
            [
             0.2,
             "#de77ae"
            ],
            [
             0.3,
             "#f1b6da"
            ],
            [
             0.4,
             "#fde0ef"
            ],
            [
             0.5,
             "#f7f7f7"
            ],
            [
             0.6,
             "#e6f5d0"
            ],
            [
             0.7,
             "#b8e186"
            ],
            [
             0.8,
             "#7fbc41"
            ],
            [
             0.9,
             "#4d9221"
            ],
            [
             1,
             "#276419"
            ]
           ],
           "sequential": [
            [
             0,
             "#0d0887"
            ],
            [
             0.1111111111111111,
             "#46039f"
            ],
            [
             0.2222222222222222,
             "#7201a8"
            ],
            [
             0.3333333333333333,
             "#9c179e"
            ],
            [
             0.4444444444444444,
             "#bd3786"
            ],
            [
             0.5555555555555556,
             "#d8576b"
            ],
            [
             0.6666666666666666,
             "#ed7953"
            ],
            [
             0.7777777777777778,
             "#fb9f3a"
            ],
            [
             0.8888888888888888,
             "#fdca26"
            ],
            [
             1,
             "#f0f921"
            ]
           ],
           "sequentialminus": [
            [
             0,
             "#0d0887"
            ],
            [
             0.1111111111111111,
             "#46039f"
            ],
            [
             0.2222222222222222,
             "#7201a8"
            ],
            [
             0.3333333333333333,
             "#9c179e"
            ],
            [
             0.4444444444444444,
             "#bd3786"
            ],
            [
             0.5555555555555556,
             "#d8576b"
            ],
            [
             0.6666666666666666,
             "#ed7953"
            ],
            [
             0.7777777777777778,
             "#fb9f3a"
            ],
            [
             0.8888888888888888,
             "#fdca26"
            ],
            [
             1,
             "#f0f921"
            ]
           ]
          },
          "colorway": [
           "#636efa",
           "#EF553B",
           "#00cc96",
           "#ab63fa",
           "#FFA15A",
           "#19d3f3",
           "#FF6692",
           "#B6E880",
           "#FF97FF",
           "#FECB52"
          ],
          "font": {
           "color": "#2a3f5f"
          },
          "geo": {
           "bgcolor": "white",
           "lakecolor": "white",
           "landcolor": "#E5ECF6",
           "showlakes": true,
           "showland": true,
           "subunitcolor": "white"
          },
          "hoverlabel": {
           "align": "left"
          },
          "hovermode": "closest",
          "mapbox": {
           "style": "light"
          },
          "paper_bgcolor": "white",
          "plot_bgcolor": "#E5ECF6",
          "polar": {
           "angularaxis": {
            "gridcolor": "white",
            "linecolor": "white",
            "ticks": ""
           },
           "bgcolor": "#E5ECF6",
           "radialaxis": {
            "gridcolor": "white",
            "linecolor": "white",
            "ticks": ""
           }
          },
          "scene": {
           "xaxis": {
            "backgroundcolor": "#E5ECF6",
            "gridcolor": "white",
            "gridwidth": 2,
            "linecolor": "white",
            "showbackground": true,
            "ticks": "",
            "zerolinecolor": "white"
           },
           "yaxis": {
            "backgroundcolor": "#E5ECF6",
            "gridcolor": "white",
            "gridwidth": 2,
            "linecolor": "white",
            "showbackground": true,
            "ticks": "",
            "zerolinecolor": "white"
           },
           "zaxis": {
            "backgroundcolor": "#E5ECF6",
            "gridcolor": "white",
            "gridwidth": 2,
            "linecolor": "white",
            "showbackground": true,
            "ticks": "",
            "zerolinecolor": "white"
           }
          },
          "shapedefaults": {
           "line": {
            "color": "#2a3f5f"
           }
          },
          "ternary": {
           "aaxis": {
            "gridcolor": "white",
            "linecolor": "white",
            "ticks": ""
           },
           "baxis": {
            "gridcolor": "white",
            "linecolor": "white",
            "ticks": ""
           },
           "bgcolor": "#E5ECF6",
           "caxis": {
            "gridcolor": "white",
            "linecolor": "white",
            "ticks": ""
           }
          },
          "title": {
           "x": 0.05
          },
          "xaxis": {
           "automargin": true,
           "gridcolor": "white",
           "linecolor": "white",
           "ticks": "",
           "title": {
            "standoff": 15
           },
           "zerolinecolor": "white",
           "zerolinewidth": 2
          },
          "yaxis": {
           "automargin": true,
           "gridcolor": "white",
           "linecolor": "white",
           "ticks": "",
           "title": {
            "standoff": 15
           },
           "zerolinecolor": "white",
           "zerolinewidth": 2
          }
         }
        },
        "title": {
         "text": "Demand/Dispatch XM vs Dispatch Switch"
        },
        "xaxis": {
         "anchor": "y",
         "domain": [
          0,
          1
         ],
         "title": {
          "text": "timestamp"
         }
        },
        "yaxis": {
         "anchor": "x",
         "domain": [
          0,
          1
         ],
         "title": {
          "text": "Values"
         }
        }
       }
      }
     },
     "metadata": {},
     "output_type": "display_data"
    }
   ],
   "source": [
    "# Merge tables\n",
    "demand_x_dispatch = pd.merge(XM, dispatch_sys, on='timestamp', how='inner')\n",
    "import plotly.express as px\n",
    "# Sort by timepoints to sort timestamps as well\n",
    "demand_x_dispatch = demand_x_dispatch.sort_values(by='timepoints')\n",
    "fig = px.line(\n",
    "    demand_x_dispatch,\n",
    "    x='timestamp',\n",
    "    y=['DemaReal_Sistema', 'DemaCome_Sistema', 'Gene_Sistema', 'GeneIdea_Sistema', 'DispatchGen_MW'],\n",
    "    labels={'value': 'Values','variable': 'Series'},\n",
    "    title='Demand/Dispatch XM vs Dispatch Switch'\n",
    ")\n",
    "fig.show()"
   ]
  },
  {
   "cell_type": "markdown",
   "metadata": {},
   "source": [
    "### 3.4.3 Dispatch by Technology XM"
   ]
  },
  {
   "cell_type": "code",
   "execution_count": 99,
   "metadata": {},
   "outputs": [
    {
     "data": {
      "application/vnd.plotly.v1+json": {
       "config": {
        "plotlyServerURL": "https://plot.ly"
       },
       "data": [
        {
         "hovertemplate": "Tech=Menores<br>timestamp=%{x}<br>DispatchGen_MW=%{y}<extra></extra>",
         "legendgroup": "Menores",
         "line": {
          "color": "#636efa",
          "dash": "solid"
         },
         "marker": {
          "symbol": "circle"
         },
         "mode": "lines",
         "name": "Menores",
         "orientation": "v",
         "showlegend": true,
         "type": "scatter",
         "x": [
          "2023_Q1_L_0h",
          "2023_Q1_L_1h",
          "2023_Q1_L_2h",
          "2023_Q1_L_3h",
          "2023_Q1_L_4h",
          "2023_Q1_L_5h",
          "2023_Q1_L_6h",
          "2023_Q1_L_7h",
          "2023_Q1_L_8h",
          "2023_Q1_L_9h",
          "2023_Q1_L_10h",
          "2023_Q1_L_11h",
          "2023_Q1_L_12h",
          "2023_Q1_L_13h",
          "2023_Q1_L_14h",
          "2023_Q1_L_15h",
          "2023_Q1_L_16h",
          "2023_Q1_L_17h",
          "2023_Q1_L_18h",
          "2023_Q1_L_19h",
          "2023_Q1_L_20h",
          "2023_Q1_L_21h",
          "2023_Q1_L_22h",
          "2023_Q1_L_23h",
          "2023_Q1_H_0h",
          "2023_Q1_H_1h",
          "2023_Q1_H_2h",
          "2023_Q1_H_3h",
          "2023_Q1_H_4h",
          "2023_Q1_H_5h",
          "2023_Q1_H_6h",
          "2023_Q1_H_7h",
          "2023_Q1_H_8h",
          "2023_Q1_H_9h",
          "2023_Q1_H_10h",
          "2023_Q1_H_11h",
          "2023_Q1_H_12h",
          "2023_Q1_H_13h",
          "2023_Q1_H_14h",
          "2023_Q1_H_15h",
          "2023_Q1_H_16h",
          "2023_Q1_H_17h",
          "2023_Q1_H_18h",
          "2023_Q1_H_19h",
          "2023_Q1_H_20h",
          "2023_Q1_H_21h",
          "2023_Q1_H_22h",
          "2023_Q1_H_23h",
          "2023_Q2_L_0h",
          "2023_Q2_L_1h",
          "2023_Q2_L_2h",
          "2023_Q2_L_3h",
          "2023_Q2_L_4h",
          "2023_Q2_L_5h",
          "2023_Q2_L_6h",
          "2023_Q2_L_7h",
          "2023_Q2_L_8h",
          "2023_Q2_L_9h",
          "2023_Q2_L_10h",
          "2023_Q2_L_11h",
          "2023_Q2_L_12h",
          "2023_Q2_L_13h",
          "2023_Q2_L_14h",
          "2023_Q2_L_15h",
          "2023_Q2_L_16h",
          "2023_Q2_L_17h",
          "2023_Q2_L_18h",
          "2023_Q2_L_19h",
          "2023_Q2_L_20h",
          "2023_Q2_L_21h",
          "2023_Q2_L_22h",
          "2023_Q2_L_23h",
          "2023_Q2_H_0h",
          "2023_Q2_H_1h",
          "2023_Q2_H_2h",
          "2023_Q2_H_3h",
          "2023_Q2_H_4h",
          "2023_Q2_H_5h",
          "2023_Q2_H_6h",
          "2023_Q2_H_7h",
          "2023_Q2_H_8h",
          "2023_Q2_H_9h",
          "2023_Q2_H_10h",
          "2023_Q2_H_11h",
          "2023_Q2_H_12h",
          "2023_Q2_H_13h",
          "2023_Q2_H_14h",
          "2023_Q2_H_15h",
          "2023_Q2_H_16h",
          "2023_Q2_H_17h",
          "2023_Q2_H_18h",
          "2023_Q2_H_19h",
          "2023_Q2_H_20h",
          "2023_Q2_H_21h",
          "2023_Q2_H_22h",
          "2023_Q2_H_23h",
          "2023_Q3_L_0h",
          "2023_Q3_L_1h",
          "2023_Q3_L_2h",
          "2023_Q3_L_3h",
          "2023_Q3_L_4h",
          "2023_Q3_L_5h",
          "2023_Q3_L_6h",
          "2023_Q3_L_7h",
          "2023_Q3_L_8h",
          "2023_Q3_L_9h",
          "2023_Q3_L_10h",
          "2023_Q3_L_11h",
          "2023_Q3_L_12h",
          "2023_Q3_L_13h",
          "2023_Q3_L_14h",
          "2023_Q3_L_15h",
          "2023_Q3_L_16h",
          "2023_Q3_L_17h",
          "2023_Q3_L_18h",
          "2023_Q3_L_19h",
          "2023_Q3_L_20h",
          "2023_Q3_L_21h",
          "2023_Q3_L_22h",
          "2023_Q3_L_23h",
          "2023_Q3_H_0h",
          "2023_Q3_H_1h",
          "2023_Q3_H_2h",
          "2023_Q3_H_3h",
          "2023_Q3_H_4h",
          "2023_Q3_H_5h",
          "2023_Q3_H_6h",
          "2023_Q3_H_7h",
          "2023_Q3_H_8h",
          "2023_Q3_H_9h",
          "2023_Q3_H_10h",
          "2023_Q3_H_11h",
          "2023_Q3_H_12h",
          "2023_Q3_H_13h",
          "2023_Q3_H_14h",
          "2023_Q3_H_15h",
          "2023_Q3_H_16h",
          "2023_Q3_H_17h",
          "2023_Q3_H_18h",
          "2023_Q3_H_19h",
          "2023_Q3_H_20h",
          "2023_Q3_H_21h",
          "2023_Q3_H_22h",
          "2023_Q3_H_23h",
          "2023_Q4_L_0h",
          "2023_Q4_L_1h",
          "2023_Q4_L_2h",
          "2023_Q4_L_3h",
          "2023_Q4_L_4h",
          "2023_Q4_L_5h",
          "2023_Q4_L_6h",
          "2023_Q4_L_7h",
          "2023_Q4_L_8h",
          "2023_Q4_L_9h",
          "2023_Q4_L_10h",
          "2023_Q4_L_11h",
          "2023_Q4_L_12h",
          "2023_Q4_L_13h",
          "2023_Q4_L_14h",
          "2023_Q4_L_15h",
          "2023_Q4_L_16h",
          "2023_Q4_L_17h",
          "2023_Q4_L_18h",
          "2023_Q4_L_19h",
          "2023_Q4_L_20h",
          "2023_Q4_L_21h",
          "2023_Q4_L_22h",
          "2023_Q4_L_23h",
          "2023_Q4_H_0h",
          "2023_Q4_H_1h",
          "2023_Q4_H_2h",
          "2023_Q4_H_3h",
          "2023_Q4_H_4h",
          "2023_Q4_H_5h",
          "2023_Q4_H_6h",
          "2023_Q4_H_7h",
          "2023_Q4_H_8h",
          "2023_Q4_H_9h",
          "2023_Q4_H_10h",
          "2023_Q4_H_11h",
          "2023_Q4_H_12h",
          "2023_Q4_H_13h",
          "2023_Q4_H_14h",
          "2023_Q4_H_15h",
          "2023_Q4_H_16h",
          "2023_Q4_H_17h",
          "2023_Q4_H_18h",
          "2023_Q4_H_19h",
          "2023_Q4_H_20h",
          "2023_Q4_H_21h",
          "2023_Q4_H_22h",
          "2023_Q4_H_23h"
         ],
         "xaxis": "x",
         "y": [
          106.07456935064936,
          104.69943584415584,
          105.44695246753247,
          105.20175246753249,
          106.1215516883117,
          105.7513225974026,
          105.77165935064937,
          104.74833987012988,
          104.43560168831168,
          102.7650638961039,
          99.35463935064936,
          97.92131155844156,
          98.10420012987014,
          98.81180623376625,
          99.38819077922078,
          98.41008064935063,
          98.63018675324676,
          100.6680896103896,
          102.32421636363635,
          102.96598753246754,
          103.47899103896104,
          104.91770623376624,
          104.88659181818184,
          105.34688155844155,
          98.69870846153843,
          106.4371753846154,
          106.40360230769231,
          106.86192461538462,
          105.25718923076924,
          101.70733461538462,
          100.34636538461541,
          99.41253153846154,
          100.86103,
          100.05026307692307,
          98.33399,
          97.99938692307693,
          94.94314076923075,
          94.30991538461538,
          95.10454692307692,
          95.50632153846152,
          96.91206615384615,
          96.8173676923077,
          98.87469307692308,
          98.19607153846152,
          97.18716,
          97.74883076923075,
          98.07274923076925,
          96.86000076923075,
          72.26760430379747,
          73.50397341772153,
          73.72879189873417,
          73.38900291139241,
          73.18948683544303,
          73.25226405063292,
          74.2141270886076,
          73.43843303797468,
          72.14659189873417,
          70.5506570886076,
          68.05233417721519,
          65.92670050632911,
          65.09881797468354,
          65.28964139240506,
          65.57994848101266,
          65.46179075949367,
          66.04767037974683,
          67.28133569620253,
          68.07881303797468,
          68.9303082278481,
          69.4215735443038,
          71.01387303797469,
          72.08646265822784,
          71.75116493670888,
          68.50010076923077,
          70.65852846153845,
          71.11809461538462,
          71.40040615384615,
          70.77627923076923,
          70.65549846153846,
          70.01696461538461,
          69.2576376923077,
          69.04307538461538,
          67.92741846153845,
          68.02228,
          66.53876846153847,
          65.40193923076923,
          64.31572923076922,
          64.68966307692308,
          65.34936307692307,
          64.74376923076923,
          66.0221046153846,
          67.59430692307691,
          66.8074023076923,
          65.44416076923076,
          65.59087923076922,
          68.01298307692308,
          67.16732,
          96.87880594936708,
          96.31199721518989,
          96.75780050632912,
          96.35199784810128,
          96.22794278481012,
          96.39066025316457,
          97.63772924050632,
          97.15956037974684,
          96.24944898734176,
          94.49827974683544,
          91.13826303797468,
          89.33884898734178,
          89.93755265822786,
          91.07299227848101,
          91.93634265822783,
          91.45755164556962,
          91.88554316455696,
          92.9214451898734,
          93.47612607594937,
          94.2255946835443,
          96.6221493670886,
          97.05267531645569,
          97.71837278481013,
          98.05243379746834,
          99.00986538461541,
          100.85685000000001,
          102.67766153846155,
          100.72117461538461,
          100.88954461538464,
          101.34094230769233,
          101.5340953846154,
          100.91045769230769,
          97.5398376923077,
          96.9635976923077,
          95.89578769230769,
          95.12314153846154,
          93.72937461538464,
          93.97830923076924,
          94.1115953846154,
          95.3039546153846,
          93.81807,
          95.33908230769232,
          96.43835307692308,
          96.16718615384617,
          96.20922615384616,
          99.25679692307693,
          99.3572046153846,
          99.45562538461536,
          89.4686803846154,
          91.70145025641025,
          92.02091230769231,
          91.48546833333334,
          90.58952269230768,
          91.21017307692308,
          92.0568471794872,
          91.91153282051282,
          89.96772128205129,
          88.66308769230768,
          85.8994485897436,
          84.05453499999999,
          84.5686508974359,
          84.7662994871795,
          84.47234038461538,
          84.45876025641026,
          85.39234538461538,
          86.01130423076923,
          87.81799910256409,
          87.81536153846154,
          88.98596064102564,
          89.74882256410257,
          90.42617602564104,
          89.7024823076923,
          95.41231307692308,
          89.48199153846153,
          90.03406461538462,
          91.59764846153844,
          91.32486615384616,
          91.86350384615383,
          92.83946923076924,
          90.83344923076925,
          91.67564692307691,
          92.53179384615386,
          91.48505076923075,
          90.15462846153844,
          87.9225,
          91.29685230769232,
          91.50753615384616,
          91.00483230769233,
          93.38121615384617,
          92.12761461538462,
          93.62566384615384,
          89.84289076923076,
          90.63472846153846,
          93.23994076923076,
          93.10494384615384,
          95.99463769230768
         ],
         "yaxis": "y"
        },
        {
         "hovertemplate": "Tech=Solar<br>timestamp=%{x}<br>DispatchGen_MW=%{y}<extra></extra>",
         "legendgroup": "Solar",
         "line": {
          "color": "#EF553B",
          "dash": "solid"
         },
         "marker": {
          "symbol": "circle"
         },
         "mode": "lines",
         "name": "Solar",
         "orientation": "v",
         "showlegend": true,
         "type": "scatter",
         "x": [
          "2023_Q1_L_0h",
          "2023_Q1_L_1h",
          "2023_Q1_L_2h",
          "2023_Q1_L_3h",
          "2023_Q1_L_4h",
          "2023_Q1_L_5h",
          "2023_Q1_L_6h",
          "2023_Q1_L_7h",
          "2023_Q1_L_8h",
          "2023_Q1_L_9h",
          "2023_Q1_L_10h",
          "2023_Q1_L_11h",
          "2023_Q1_L_12h",
          "2023_Q1_L_13h",
          "2023_Q1_L_14h",
          "2023_Q1_L_15h",
          "2023_Q1_L_16h",
          "2023_Q1_L_17h",
          "2023_Q1_L_18h",
          "2023_Q1_L_19h",
          "2023_Q1_L_20h",
          "2023_Q1_L_21h",
          "2023_Q1_L_22h",
          "2023_Q1_L_23h",
          "2023_Q1_H_0h",
          "2023_Q1_H_1h",
          "2023_Q1_H_2h",
          "2023_Q1_H_3h",
          "2023_Q1_H_4h",
          "2023_Q1_H_5h",
          "2023_Q1_H_6h",
          "2023_Q1_H_7h",
          "2023_Q1_H_8h",
          "2023_Q1_H_9h",
          "2023_Q1_H_10h",
          "2023_Q1_H_11h",
          "2023_Q1_H_12h",
          "2023_Q1_H_13h",
          "2023_Q1_H_14h",
          "2023_Q1_H_15h",
          "2023_Q1_H_16h",
          "2023_Q1_H_17h",
          "2023_Q1_H_18h",
          "2023_Q1_H_19h",
          "2023_Q1_H_20h",
          "2023_Q1_H_21h",
          "2023_Q1_H_22h",
          "2023_Q1_H_23h",
          "2023_Q2_L_0h",
          "2023_Q2_L_1h",
          "2023_Q2_L_2h",
          "2023_Q2_L_3h",
          "2023_Q2_L_4h",
          "2023_Q2_L_5h",
          "2023_Q2_L_6h",
          "2023_Q2_L_7h",
          "2023_Q2_L_8h",
          "2023_Q2_L_9h",
          "2023_Q2_L_10h",
          "2023_Q2_L_11h",
          "2023_Q2_L_12h",
          "2023_Q2_L_13h",
          "2023_Q2_L_14h",
          "2023_Q2_L_15h",
          "2023_Q2_L_16h",
          "2023_Q2_L_17h",
          "2023_Q2_L_18h",
          "2023_Q2_L_19h",
          "2023_Q2_L_20h",
          "2023_Q2_L_21h",
          "2023_Q2_L_22h",
          "2023_Q2_L_23h",
          "2023_Q2_H_0h",
          "2023_Q2_H_1h",
          "2023_Q2_H_2h",
          "2023_Q2_H_3h",
          "2023_Q2_H_4h",
          "2023_Q2_H_5h",
          "2023_Q2_H_6h",
          "2023_Q2_H_7h",
          "2023_Q2_H_8h",
          "2023_Q2_H_9h",
          "2023_Q2_H_10h",
          "2023_Q2_H_11h",
          "2023_Q2_H_12h",
          "2023_Q2_H_13h",
          "2023_Q2_H_14h",
          "2023_Q2_H_15h",
          "2023_Q2_H_16h",
          "2023_Q2_H_17h",
          "2023_Q2_H_18h",
          "2023_Q2_H_19h",
          "2023_Q2_H_20h",
          "2023_Q2_H_21h",
          "2023_Q2_H_22h",
          "2023_Q2_H_23h",
          "2023_Q3_L_0h",
          "2023_Q3_L_1h",
          "2023_Q3_L_2h",
          "2023_Q3_L_3h",
          "2023_Q3_L_4h",
          "2023_Q3_L_5h",
          "2023_Q3_L_6h",
          "2023_Q3_L_7h",
          "2023_Q3_L_8h",
          "2023_Q3_L_9h",
          "2023_Q3_L_10h",
          "2023_Q3_L_11h",
          "2023_Q3_L_12h",
          "2023_Q3_L_13h",
          "2023_Q3_L_14h",
          "2023_Q3_L_15h",
          "2023_Q3_L_16h",
          "2023_Q3_L_17h",
          "2023_Q3_L_18h",
          "2023_Q3_L_19h",
          "2023_Q3_L_20h",
          "2023_Q3_L_21h",
          "2023_Q3_L_22h",
          "2023_Q3_L_23h",
          "2023_Q3_H_0h",
          "2023_Q3_H_1h",
          "2023_Q3_H_2h",
          "2023_Q3_H_3h",
          "2023_Q3_H_4h",
          "2023_Q3_H_5h",
          "2023_Q3_H_6h",
          "2023_Q3_H_7h",
          "2023_Q3_H_8h",
          "2023_Q3_H_9h",
          "2023_Q3_H_10h",
          "2023_Q3_H_11h",
          "2023_Q3_H_12h",
          "2023_Q3_H_13h",
          "2023_Q3_H_14h",
          "2023_Q3_H_15h",
          "2023_Q3_H_16h",
          "2023_Q3_H_17h",
          "2023_Q3_H_18h",
          "2023_Q3_H_19h",
          "2023_Q3_H_20h",
          "2023_Q3_H_21h",
          "2023_Q3_H_22h",
          "2023_Q3_H_23h",
          "2023_Q4_L_0h",
          "2023_Q4_L_1h",
          "2023_Q4_L_2h",
          "2023_Q4_L_3h",
          "2023_Q4_L_4h",
          "2023_Q4_L_5h",
          "2023_Q4_L_6h",
          "2023_Q4_L_7h",
          "2023_Q4_L_8h",
          "2023_Q4_L_9h",
          "2023_Q4_L_10h",
          "2023_Q4_L_11h",
          "2023_Q4_L_12h",
          "2023_Q4_L_13h",
          "2023_Q4_L_14h",
          "2023_Q4_L_15h",
          "2023_Q4_L_16h",
          "2023_Q4_L_17h",
          "2023_Q4_L_18h",
          "2023_Q4_L_19h",
          "2023_Q4_L_20h",
          "2023_Q4_L_21h",
          "2023_Q4_L_22h",
          "2023_Q4_L_23h",
          "2023_Q4_H_0h",
          "2023_Q4_H_1h",
          "2023_Q4_H_2h",
          "2023_Q4_H_3h",
          "2023_Q4_H_4h",
          "2023_Q4_H_5h",
          "2023_Q4_H_6h",
          "2023_Q4_H_7h",
          "2023_Q4_H_8h",
          "2023_Q4_H_9h",
          "2023_Q4_H_10h",
          "2023_Q4_H_11h",
          "2023_Q4_H_12h",
          "2023_Q4_H_13h",
          "2023_Q4_H_14h",
          "2023_Q4_H_15h",
          "2023_Q4_H_16h",
          "2023_Q4_H_17h",
          "2023_Q4_H_18h",
          "2023_Q4_H_19h",
          "2023_Q4_H_20h",
          "2023_Q4_H_21h",
          "2023_Q4_H_22h",
          "2023_Q4_H_23h"
         ],
         "xaxis": "x",
         "y": [
          0.0000167532467532467,
          0.0000329870129870129,
          0.0000438961038961038,
          0.0000318181818181818,
          0.000034675324675324606,
          0.0000307792207792207,
          0.025963506493506493,
          19.160868961038958,
          116.54004506493509,
          196.93674831168832,
          243.17632012987008,
          262.80058207792206,
          270.5466641558442,
          268.74420922077917,
          258.1261984415585,
          239.45520363636365,
          202.4776192207792,
          124.7452374025974,
          20.75173103896104,
          0.012545194805194804,
          5.194805194805e-7,
          7.792207792206999e-7,
          0,
          0,
          0,
          0,
          0,
          0,
          0,
          0,
          0.030633846153846157,
          17.61660923076923,
          108.48702,
          189.82279,
          233.69373230769233,
          265.89607153846157,
          269.04437538461536,
          269.3413076923077,
          253.44489615384612,
          239.59313923076925,
          206.2919523076923,
          118.20721846153846,
          20.290775384615383,
          0.01447153846153846,
          0,
          0,
          0,
          0,
          0.0000177215189873417,
          0.0000025316455696201997,
          0.0000020253164556962,
          0.0000092405063291139,
          0.0000140506329113924,
          0.0000379746835443038,
          0.4152474683544304,
          28.54610658227848,
          109.21890734177217,
          185.27091240506329,
          240.93562911392405,
          271.3965759493671,
          288.1607858227848,
          290.21035822784813,
          281.2397140506329,
          256.83362645569616,
          202.26153898734177,
          124.31126050632912,
          27.95660278481013,
          0.07984721518987342,
          0.0000037974683544302998,
          0.0000162025316455696,
          0.000017215189873417702,
          0.0000177215189873417,
          0,
          0.0000015384615384615002,
          0.0000023076923076923,
          0.0000015384615384615002,
          0,
          0,
          0.5369315384615385,
          26.137053076923074,
          98.7901976923077,
          163.30255076923078,
          225.3532876923077,
          262.8008623076923,
          273.5864861538461,
          279.0660984615385,
          276.97743153846153,
          253.82124538461534,
          197.5332492307693,
          120.74589923076923,
          27.81057384615385,
          0.05326076923076924,
          0.0000015384615384615002,
          0,
          0,
          0,
          0.00002,
          0.0000320253164556962,
          0.0000284810126582278,
          0.0000278481012658227,
          0.0000415189873417721,
          0.0000422784810126582,
          0.2287121518987342,
          42.507012151898735,
          158.8501151898734,
          267.25628582278483,
          338.3630006329114,
          381.2922555696203,
          391.9539818987342,
          389.76135569620254,
          367.5446750632911,
          330.037496329114,
          268.1406559493671,
          174.66934556962025,
          46.77178670886076,
          0.45953164556962023,
          0.0002562025316455696,
          0.0000192405063291139,
          0.0000189873417721519,
          0.000023164556962025298,
          0,
          0.000011538461538461499,
          0.000012307692307692301,
          0.000012307692307692301,
          0.0000107692307692307,
          0.0000092307692307692,
          0.19724769230769232,
          43.87577692307692,
          173.73978461538462,
          274.84486846153845,
          329.4608307692307,
          388.57220384615385,
          402.8527576923077,
          391.5189461538462,
          361.4737715384616,
          321.8367084615385,
          243.8767346153846,
          148.43737692307693,
          41.06443,
          0.34464076923076925,
          0.0000153846153846153,
          0.00001,
          0,
          0,
          0.0006775641025641025,
          0.0007689743589743591,
          0.0005787179487179487,
          0.000588974358974359,
          0.0005602564102564103,
          0.0005112820512820511,
          0.5682333333333334,
          65.13903576923077,
          241.47203756410255,
          393.2111867948718,
          491.8807202564103,
          535.0610543589744,
          551.8461869230769,
          548.3798680769231,
          514.397585897436,
          444.02753923076926,
          342.5471961538462,
          173.63297999999998,
          18.84458,
          0.004502948717948718,
          0.0009097435897435896,
          0.0006012820512820514,
          0.0006356410256410257,
          0.0006760256410256411,
          0,
          0,
          0,
          0,
          0,
          0,
          0.56308,
          56.29506615384615,
          202.21573999999998,
          352.46721461538465,
          446.6933638461539,
          489.2721823076923,
          507.14789846153843,
          502.70255846153844,
          483.8132015384616,
          408.5403484615385,
          321.2780815384616,
          151.40090538461538,
          15.623336923076923,
          0.002468461538461538,
          0,
          0,
          0,
          0
         ],
         "yaxis": "y"
        },
        {
         "hovertemplate": "Tech=Thermal<br>timestamp=%{x}<br>DispatchGen_MW=%{y}<extra></extra>",
         "legendgroup": "Thermal",
         "line": {
          "color": "#00cc96",
          "dash": "solid"
         },
         "marker": {
          "symbol": "circle"
         },
         "mode": "lines",
         "name": "Thermal",
         "orientation": "v",
         "showlegend": true,
         "type": "scatter",
         "x": [
          "2023_Q1_L_0h",
          "2023_Q1_L_1h",
          "2023_Q1_L_2h",
          "2023_Q1_L_3h",
          "2023_Q1_L_4h",
          "2023_Q1_L_5h",
          "2023_Q1_L_6h",
          "2023_Q1_L_7h",
          "2023_Q1_L_8h",
          "2023_Q1_L_9h",
          "2023_Q1_L_10h",
          "2023_Q1_L_11h",
          "2023_Q1_L_12h",
          "2023_Q1_L_13h",
          "2023_Q1_L_14h",
          "2023_Q1_L_15h",
          "2023_Q1_L_16h",
          "2023_Q1_L_17h",
          "2023_Q1_L_18h",
          "2023_Q1_L_19h",
          "2023_Q1_L_20h",
          "2023_Q1_L_21h",
          "2023_Q1_L_22h",
          "2023_Q1_L_23h",
          "2023_Q1_H_0h",
          "2023_Q1_H_1h",
          "2023_Q1_H_2h",
          "2023_Q1_H_3h",
          "2023_Q1_H_4h",
          "2023_Q1_H_5h",
          "2023_Q1_H_6h",
          "2023_Q1_H_7h",
          "2023_Q1_H_8h",
          "2023_Q1_H_9h",
          "2023_Q1_H_10h",
          "2023_Q1_H_11h",
          "2023_Q1_H_12h",
          "2023_Q1_H_13h",
          "2023_Q1_H_14h",
          "2023_Q1_H_15h",
          "2023_Q1_H_16h",
          "2023_Q1_H_17h",
          "2023_Q1_H_18h",
          "2023_Q1_H_19h",
          "2023_Q1_H_20h",
          "2023_Q1_H_21h",
          "2023_Q1_H_22h",
          "2023_Q1_H_23h",
          "2023_Q2_L_0h",
          "2023_Q2_L_1h",
          "2023_Q2_L_2h",
          "2023_Q2_L_3h",
          "2023_Q2_L_4h",
          "2023_Q2_L_5h",
          "2023_Q2_L_6h",
          "2023_Q2_L_7h",
          "2023_Q2_L_8h",
          "2023_Q2_L_9h",
          "2023_Q2_L_10h",
          "2023_Q2_L_11h",
          "2023_Q2_L_12h",
          "2023_Q2_L_13h",
          "2023_Q2_L_14h",
          "2023_Q2_L_15h",
          "2023_Q2_L_16h",
          "2023_Q2_L_17h",
          "2023_Q2_L_18h",
          "2023_Q2_L_19h",
          "2023_Q2_L_20h",
          "2023_Q2_L_21h",
          "2023_Q2_L_22h",
          "2023_Q2_L_23h",
          "2023_Q2_H_0h",
          "2023_Q2_H_1h",
          "2023_Q2_H_2h",
          "2023_Q2_H_3h",
          "2023_Q2_H_4h",
          "2023_Q2_H_5h",
          "2023_Q2_H_6h",
          "2023_Q2_H_7h",
          "2023_Q2_H_8h",
          "2023_Q2_H_9h",
          "2023_Q2_H_10h",
          "2023_Q2_H_11h",
          "2023_Q2_H_12h",
          "2023_Q2_H_13h",
          "2023_Q2_H_14h",
          "2023_Q2_H_15h",
          "2023_Q2_H_16h",
          "2023_Q2_H_17h",
          "2023_Q2_H_18h",
          "2023_Q2_H_19h",
          "2023_Q2_H_20h",
          "2023_Q2_H_21h",
          "2023_Q2_H_22h",
          "2023_Q2_H_23h",
          "2023_Q3_L_0h",
          "2023_Q3_L_1h",
          "2023_Q3_L_2h",
          "2023_Q3_L_3h",
          "2023_Q3_L_4h",
          "2023_Q3_L_5h",
          "2023_Q3_L_6h",
          "2023_Q3_L_7h",
          "2023_Q3_L_8h",
          "2023_Q3_L_9h",
          "2023_Q3_L_10h",
          "2023_Q3_L_11h",
          "2023_Q3_L_12h",
          "2023_Q3_L_13h",
          "2023_Q3_L_14h",
          "2023_Q3_L_15h",
          "2023_Q3_L_16h",
          "2023_Q3_L_17h",
          "2023_Q3_L_18h",
          "2023_Q3_L_19h",
          "2023_Q3_L_20h",
          "2023_Q3_L_21h",
          "2023_Q3_L_22h",
          "2023_Q3_L_23h",
          "2023_Q3_H_0h",
          "2023_Q3_H_1h",
          "2023_Q3_H_2h",
          "2023_Q3_H_3h",
          "2023_Q3_H_4h",
          "2023_Q3_H_5h",
          "2023_Q3_H_6h",
          "2023_Q3_H_7h",
          "2023_Q3_H_8h",
          "2023_Q3_H_9h",
          "2023_Q3_H_10h",
          "2023_Q3_H_11h",
          "2023_Q3_H_12h",
          "2023_Q3_H_13h",
          "2023_Q3_H_14h",
          "2023_Q3_H_15h",
          "2023_Q3_H_16h",
          "2023_Q3_H_17h",
          "2023_Q3_H_18h",
          "2023_Q3_H_19h",
          "2023_Q3_H_20h",
          "2023_Q3_H_21h",
          "2023_Q3_H_22h",
          "2023_Q3_H_23h",
          "2023_Q4_L_0h",
          "2023_Q4_L_1h",
          "2023_Q4_L_2h",
          "2023_Q4_L_3h",
          "2023_Q4_L_4h",
          "2023_Q4_L_5h",
          "2023_Q4_L_6h",
          "2023_Q4_L_7h",
          "2023_Q4_L_8h",
          "2023_Q4_L_9h",
          "2023_Q4_L_10h",
          "2023_Q4_L_11h",
          "2023_Q4_L_12h",
          "2023_Q4_L_13h",
          "2023_Q4_L_14h",
          "2023_Q4_L_15h",
          "2023_Q4_L_16h",
          "2023_Q4_L_17h",
          "2023_Q4_L_18h",
          "2023_Q4_L_19h",
          "2023_Q4_L_20h",
          "2023_Q4_L_21h",
          "2023_Q4_L_22h",
          "2023_Q4_L_23h",
          "2023_Q4_H_0h",
          "2023_Q4_H_1h",
          "2023_Q4_H_2h",
          "2023_Q4_H_3h",
          "2023_Q4_H_4h",
          "2023_Q4_H_5h",
          "2023_Q4_H_6h",
          "2023_Q4_H_7h",
          "2023_Q4_H_8h",
          "2023_Q4_H_9h",
          "2023_Q4_H_10h",
          "2023_Q4_H_11h",
          "2023_Q4_H_12h",
          "2023_Q4_H_13h",
          "2023_Q4_H_14h",
          "2023_Q4_H_15h",
          "2023_Q4_H_16h",
          "2023_Q4_H_17h",
          "2023_Q4_H_18h",
          "2023_Q4_H_19h",
          "2023_Q4_H_20h",
          "2023_Q4_H_21h",
          "2023_Q4_H_22h",
          "2023_Q4_H_23h"
         ],
         "xaxis": "x",
         "y": [
          1499.314782077922,
          1417.7121454545454,
          1370.235328961039,
          1329.130765194805,
          1301.9349536363636,
          1282.4876338961037,
          1301.34394,
          1334.8800074025971,
          1368.2782355844156,
          1405.524732207792,
          1442.3582900000001,
          1471.6045483116882,
          1500.9440777922077,
          1522.193358051948,
          1535.4539,
          1548.5173580519481,
          1559.180198311688,
          1559.7991000000002,
          1559.8319435064936,
          1598.1777481818183,
          1615.917687922078,
          1616.2436801298702,
          1580.5082994805196,
          1544.4163675324678,
          1396.0647761538462,
          1409.6358138461537,
          1390.2109592307693,
          1320.5007492307698,
          1281.1547684615384,
          1233.8538523076925,
          1201.536890769231,
          1123.2369784615385,
          1143.1785476923076,
          1171.990399230769,
          1232.471363846154,
          1287.9861761538464,
          1317.3767915384615,
          1346.459783076923,
          1349.952622307692,
          1370.8080576923076,
          1384.1369384615384,
          1405.3106169230769,
          1421.856016923077,
          1462.857602307692,
          1469.9882253846154,
          1462.1349253846156,
          1434.506856153846,
          1429.9137292307691,
          1470.8374851898734,
          1357.4178097468355,
          1278.296807721519,
          1222.9592973417718,
          1199.3638244303797,
          1191.335988607595,
          1199.2128269620255,
          1202.0965367088609,
          1218.110816835443,
          1265.8304437974684,
          1292.7474583544306,
          1320.0774018987345,
          1356.1175035443039,
          1374.7784096202531,
          1410.2636512658228,
          1457.0924430379746,
          1468.6516634177215,
          1451.1241078481014,
          1448.1019789873415,
          1495.9914079746836,
          1541.8294827848104,
          1552.6184529113923,
          1525.2912582278482,
          1515.3705030379747,
          1321.2486546153848,
          1307.1581107692307,
          1264.4506115384613,
          1221.8362323076924,
          1166.9256607692307,
          1128.4427492307693,
          1091.9717607692307,
          1058.5348061538461,
          1079.25593,
          1095.60726,
          1097.2081353846154,
          1116.6243961538462,
          1135.3803884615384,
          1145.9894138461539,
          1155.2989484615384,
          1193.7324346153846,
          1204.1582292307692,
          1211.27146,
          1228.4854284615385,
          1308.7093061538462,
          1353.99766,
          1371.373677692308,
          1348.6111815384618,
          1344.7652484615385,
          2060.383187468354,
          1884.2937167088608,
          1767.192948227848,
          1694.8587062025317,
          1656.2711096202531,
          1655.9812113924052,
          1681.009959113924,
          1696.9958865822784,
          1740.7684186075949,
          1815.7460827848101,
          1866.473490886076,
          1918.1708686075951,
          1973.1365262025315,
          2006.4667050632909,
          2046.489735443038,
          2076.0398,
          2088.04169886076,
          2081.312371772152,
          2088.3701565822785,
          2131.39598,
          2155.3167367088604,
          2165.650693670886,
          2148.986453544304,
          2126.806705189873,
          1950.9532946153845,
          1921.86171,
          1855.507996923077,
          1745.4466338461534,
          1659.6135007692303,
          1614.031463846154,
          1548.4366476923078,
          1532.088025384615,
          1551.1401484615383,
          1608.7654492307693,
          1680.5167876923074,
          1730.1654123076921,
          1745.8333023076923,
          1758.5309615384615,
          1774.3408369230767,
          1775.8654815384618,
          1799.3294907692307,
          1813.8725361538459,
          1879.4373869230772,
          1986.659267692308,
          2011.833676153846,
          2008.849507692308,
          1984.9461884615384,
          1995.8542153846156,
          2916.916886666667,
          2795.3256992307693,
          2732.222742948718,
          2688.4577666666664,
          2688.8610547435896,
          2700.5322323076925,
          2714.522983974359,
          2732.718401666667,
          2776.3580866666666,
          2822.763123717949,
          2870.3139989743586,
          2909.7483329487177,
          2933.849807051282,
          2958.0874005128208,
          2978.088406923077,
          3013.7925876923077,
          3043.1865103846153,
          3052.5254526923077,
          3076.7896773076923,
          3138.154015128205,
          3147.4036519230767,
          3124.675713846154,
          3058.8854410256413,
          2986.44085448718,
          2728.9183415384614,
          2745.0201453846157,
          2674.338377692308,
          2611.0838730769233,
          2617.212751538462,
          2583.646719230769,
          2529.173266923077,
          2493.009299230769,
          2515.4364915384617,
          2533.438156153846,
          2555.500694615385,
          2624.8108984615383,
          2661.021691538461,
          2679.5919584615385,
          2708.5569576923076,
          2747.282006153846,
          2769.25862,
          2763.146793076923,
          2807.249667692308,
          2847.302399230769,
          2804.5368315384617,
          2762.0971230769233,
          2735.6291407692306,
          2740.986423076923
         ],
         "yaxis": "y"
        },
        {
         "hovertemplate": "Tech=Eolica<br>timestamp=%{x}<br>DispatchGen_MW=%{y}<extra></extra>",
         "legendgroup": "Eolica",
         "line": {
          "color": "#ab63fa",
          "dash": "solid"
         },
         "marker": {
          "symbol": "circle"
         },
         "mode": "lines",
         "name": "Eolica",
         "orientation": "v",
         "showlegend": true,
         "type": "scatter",
         "x": [
          "2023_Q1_L_0h",
          "2023_Q1_L_1h",
          "2023_Q1_L_2h",
          "2023_Q1_L_3h",
          "2023_Q1_L_4h",
          "2023_Q1_L_5h",
          "2023_Q1_L_6h",
          "2023_Q1_L_7h",
          "2023_Q1_L_8h",
          "2023_Q1_L_9h",
          "2023_Q1_L_10h",
          "2023_Q1_L_11h",
          "2023_Q1_L_12h",
          "2023_Q1_L_13h",
          "2023_Q1_L_14h",
          "2023_Q1_L_15h",
          "2023_Q1_L_16h",
          "2023_Q1_L_17h",
          "2023_Q1_L_18h",
          "2023_Q1_L_19h",
          "2023_Q1_L_20h",
          "2023_Q1_L_21h",
          "2023_Q1_L_22h",
          "2023_Q1_L_23h",
          "2023_Q1_H_0h",
          "2023_Q1_H_1h",
          "2023_Q1_H_2h",
          "2023_Q1_H_3h",
          "2023_Q1_H_4h",
          "2023_Q1_H_5h",
          "2023_Q1_H_6h",
          "2023_Q1_H_7h",
          "2023_Q1_H_8h",
          "2023_Q1_H_9h",
          "2023_Q1_H_10h",
          "2023_Q1_H_11h",
          "2023_Q1_H_12h",
          "2023_Q1_H_13h",
          "2023_Q1_H_14h",
          "2023_Q1_H_15h",
          "2023_Q1_H_16h",
          "2023_Q1_H_17h",
          "2023_Q1_H_18h",
          "2023_Q1_H_19h",
          "2023_Q1_H_20h",
          "2023_Q1_H_21h",
          "2023_Q1_H_22h",
          "2023_Q1_H_23h",
          "2023_Q2_L_0h",
          "2023_Q2_L_1h",
          "2023_Q2_L_2h",
          "2023_Q2_L_3h",
          "2023_Q2_L_4h",
          "2023_Q2_L_5h",
          "2023_Q2_L_6h",
          "2023_Q2_L_7h",
          "2023_Q2_L_8h",
          "2023_Q2_L_9h",
          "2023_Q2_L_10h",
          "2023_Q2_L_11h",
          "2023_Q2_L_12h",
          "2023_Q2_L_13h",
          "2023_Q2_L_14h",
          "2023_Q2_L_15h",
          "2023_Q2_L_16h",
          "2023_Q2_L_17h",
          "2023_Q2_L_18h",
          "2023_Q2_L_19h",
          "2023_Q2_L_20h",
          "2023_Q2_L_21h",
          "2023_Q2_L_22h",
          "2023_Q2_L_23h",
          "2023_Q2_H_0h",
          "2023_Q2_H_1h",
          "2023_Q2_H_2h",
          "2023_Q2_H_3h",
          "2023_Q2_H_4h",
          "2023_Q2_H_5h",
          "2023_Q2_H_6h",
          "2023_Q2_H_7h",
          "2023_Q2_H_8h",
          "2023_Q2_H_9h",
          "2023_Q2_H_10h",
          "2023_Q2_H_11h",
          "2023_Q2_H_12h",
          "2023_Q2_H_13h",
          "2023_Q2_H_14h",
          "2023_Q2_H_15h",
          "2023_Q2_H_16h",
          "2023_Q2_H_17h",
          "2023_Q2_H_18h",
          "2023_Q2_H_19h",
          "2023_Q2_H_20h",
          "2023_Q2_H_21h",
          "2023_Q2_H_22h",
          "2023_Q2_H_23h",
          "2023_Q3_L_0h",
          "2023_Q3_L_1h",
          "2023_Q3_L_2h",
          "2023_Q3_L_3h",
          "2023_Q3_L_4h",
          "2023_Q3_L_5h",
          "2023_Q3_L_6h",
          "2023_Q3_L_7h",
          "2023_Q3_L_8h",
          "2023_Q3_L_9h",
          "2023_Q3_L_10h",
          "2023_Q3_L_11h",
          "2023_Q3_L_12h",
          "2023_Q3_L_13h",
          "2023_Q3_L_14h",
          "2023_Q3_L_15h",
          "2023_Q3_L_16h",
          "2023_Q3_L_17h",
          "2023_Q3_L_18h",
          "2023_Q3_L_19h",
          "2023_Q3_L_20h",
          "2023_Q3_L_21h",
          "2023_Q3_L_22h",
          "2023_Q3_L_23h",
          "2023_Q3_H_0h",
          "2023_Q3_H_1h",
          "2023_Q3_H_2h",
          "2023_Q3_H_3h",
          "2023_Q3_H_4h",
          "2023_Q3_H_5h",
          "2023_Q3_H_6h",
          "2023_Q3_H_7h",
          "2023_Q3_H_8h",
          "2023_Q3_H_9h",
          "2023_Q3_H_10h",
          "2023_Q3_H_11h",
          "2023_Q3_H_12h",
          "2023_Q3_H_13h",
          "2023_Q3_H_14h",
          "2023_Q3_H_15h",
          "2023_Q3_H_16h",
          "2023_Q3_H_17h",
          "2023_Q3_H_18h",
          "2023_Q3_H_19h",
          "2023_Q3_H_20h",
          "2023_Q3_H_21h",
          "2023_Q3_H_22h",
          "2023_Q3_H_23h",
          "2023_Q4_L_0h",
          "2023_Q4_L_1h",
          "2023_Q4_L_2h",
          "2023_Q4_L_3h",
          "2023_Q4_L_4h",
          "2023_Q4_L_5h",
          "2023_Q4_L_6h",
          "2023_Q4_L_7h",
          "2023_Q4_L_8h",
          "2023_Q4_L_9h",
          "2023_Q4_L_10h",
          "2023_Q4_L_11h",
          "2023_Q4_L_12h",
          "2023_Q4_L_13h",
          "2023_Q4_L_14h",
          "2023_Q4_L_15h",
          "2023_Q4_L_16h",
          "2023_Q4_L_17h",
          "2023_Q4_L_18h",
          "2023_Q4_L_19h",
          "2023_Q4_L_20h",
          "2023_Q4_L_21h",
          "2023_Q4_L_22h",
          "2023_Q4_L_23h",
          "2023_Q4_H_0h",
          "2023_Q4_H_1h",
          "2023_Q4_H_2h",
          "2023_Q4_H_3h",
          "2023_Q4_H_4h",
          "2023_Q4_H_5h",
          "2023_Q4_H_6h",
          "2023_Q4_H_7h",
          "2023_Q4_H_8h",
          "2023_Q4_H_9h",
          "2023_Q4_H_10h",
          "2023_Q4_H_11h",
          "2023_Q4_H_12h",
          "2023_Q4_H_13h",
          "2023_Q4_H_14h",
          "2023_Q4_H_15h",
          "2023_Q4_H_16h",
          "2023_Q4_H_17h",
          "2023_Q4_H_18h",
          "2023_Q4_H_19h",
          "2023_Q4_H_20h",
          "2023_Q4_H_21h",
          "2023_Q4_H_22h",
          "2023_Q4_H_23h"
         ],
         "xaxis": "x",
         "y": [
          21.928229740259738,
          20.540196103896104,
          19.905551298701297,
          19.21012909090909,
          17.485991818181816,
          16.509596363636362,
          16.182089610389607,
          15.538796233766234,
          15.10408181818182,
          17.11917675324675,
          19.168037402597406,
          20.669737792207798,
          22.08399194805195,
          23.44256116883117,
          24.919838571428567,
          25.153357272727277,
          25.412010779220786,
          25.684628701298703,
          25.767292467532467,
          25.36738194805195,
          24.303351818181813,
          23.228203896103896,
          22.79565974025974,
          22.503550909090908,
          20.02381076923077,
          19.79884769230769,
          18.509237692307693,
          17.932244615384615,
          18.19233923076923,
          17.71273846153846,
          16.250666923076924,
          14.05855076923077,
          13.636209230769232,
          17.331384615384618,
          18.291040769230772,
          19.067581538461535,
          21.15905538461538,
          23.371758461538466,
          23.628488461538453,
          24.08877538461538,
          24.053477692307695,
          24.707456153846156,
          25.04003846153846,
          24.55031384615385,
          22.90508307692308,
          22.771668461538464,
          22.784487692307692,
          21.93121307692308,
          21.51519050632912,
          20.618151012658224,
          19.9773517721519,
          18.899853797468356,
          18.085298101265824,
          17.187221898734176,
          16.49301240506329,
          15.441943417721522,
          15.83740164556962,
          16.41786430379747,
          16.664259746835445,
          18.793352151898738,
          22.347888481012657,
          25.219705063291137,
          26.850277215189873,
          27.49749898734177,
          27.470622151898734,
          27.853097974683546,
          27.85247848101265,
          26.633711898734177,
          25.60711113924051,
          24.40476341772152,
          23.403527721518984,
          22.508732278481013,
          19.473950000000002,
          20.63798769230769,
          19.28081153846154,
          17.90829,
          18.40178461538461,
          15.272185384615385,
          13.410236153846153,
          13.103881538461536,
          11.94945,
          11.005793846153848,
          12.177685384615385,
          12.657023846153848,
          18.147783846153846,
          20.402866153846155,
          22.658400769230767,
          23.89440846153846,
          24.314299230769237,
          25.382925384615387,
          23.849789230769233,
          23.26232230769231,
          23.31357461538461,
          22.404515384615383,
          22.15369384615385,
          20.526132307692308,
          20.58436341772152,
          19.450768860759492,
          18.09618227848101,
          17.12812240506329,
          16.62046012658228,
          15.682761139240503,
          15.248010886075948,
          14.783063164556959,
          16.457180379746834,
          17.87298582278481,
          18.31821683544304,
          18.978911012658227,
          21.55569670886076,
          22.907253797468353,
          23.298163670886076,
          23.50896151898734,
          24.15983379746836,
          24.54724594936709,
          24.845949620253165,
          24.84414924050633,
          23.791843670886074,
          22.48726860759493,
          21.8523435443038,
          20.980759493670885,
          18.93491076923077,
          21.51671461538461,
          18.892049999999998,
          17.389384615384618,
          18.10652076923077,
          18.22288384615385,
          17.14818153846154,
          16.423496153846155,
          18.77485846153846,
          18.40076461538461,
          17.888526923076924,
          18.566558461538463,
          19.97653923076923,
          22.950033076923074,
          25.65026076923077,
          25.93675,
          25.42515846153846,
          24.08117538461539,
          25.091168461538466,
          23.67521153846154,
          22.814206923076924,
          22.135094615384613,
          21.422718461538466,
          20.32232384615385,
          13.476736923076924,
          11.019211666666665,
          10.159110897435898,
          10.070741923076925,
          10.05727294871795,
          9.653785384615384,
          8.797637564102564,
          8.421595384615385,
          9.081372307692309,
          9.089981666666668,
          9.593769743589744,
          11.370048333333335,
          14.84715358974359,
          18.177292948717948,
          20.34661141025641,
          20.540356025641028,
          20.250654102564102,
          20.56111871794872,
          20.966141282051282,
          20.01593935897436,
          18.55989435897436,
          16.966965000000002,
          15.10098205128205,
          14.01730217948718,
          10.413023076923077,
          10.855805384615383,
          8.763176153846155,
          8.25478769230769,
          8.275776153846152,
          8.240633076923077,
          7.261223076923076,
          6.82606,
          7.2992838461538465,
          7.1760807692307695,
          10.034446923076924,
          11.583081538461538,
          12.733040769230767,
          16.013184615384617,
          17.355710769230768,
          18.612125384615386,
          19.247875384615384,
          18.416106923076924,
          16.91921846153846,
          15.815109230769233,
          14.394766153846152,
          13.742505384615386,
          12.10500923076923,
          10.801173846153846
         ],
         "yaxis": "y"
        },
        {
         "hovertemplate": "Tech=Hidro<br>timestamp=%{x}<br>DispatchGen_MW=%{y}<extra></extra>",
         "legendgroup": "Hidro",
         "line": {
          "color": "#FFA15A",
          "dash": "solid"
         },
         "marker": {
          "symbol": "circle"
         },
         "mode": "lines",
         "name": "Hidro",
         "orientation": "v",
         "showlegend": true,
         "type": "scatter",
         "x": [
          "2023_Q1_L_0h",
          "2023_Q1_L_1h",
          "2023_Q1_L_2h",
          "2023_Q1_L_3h",
          "2023_Q1_L_4h",
          "2023_Q1_L_5h",
          "2023_Q1_L_6h",
          "2023_Q1_L_7h",
          "2023_Q1_L_8h",
          "2023_Q1_L_9h",
          "2023_Q1_L_10h",
          "2023_Q1_L_11h",
          "2023_Q1_L_12h",
          "2023_Q1_L_13h",
          "2023_Q1_L_14h",
          "2023_Q1_L_15h",
          "2023_Q1_L_16h",
          "2023_Q1_L_17h",
          "2023_Q1_L_18h",
          "2023_Q1_L_19h",
          "2023_Q1_L_20h",
          "2023_Q1_L_21h",
          "2023_Q1_L_22h",
          "2023_Q1_L_23h",
          "2023_Q1_H_0h",
          "2023_Q1_H_1h",
          "2023_Q1_H_2h",
          "2023_Q1_H_3h",
          "2023_Q1_H_4h",
          "2023_Q1_H_5h",
          "2023_Q1_H_6h",
          "2023_Q1_H_7h",
          "2023_Q1_H_8h",
          "2023_Q1_H_9h",
          "2023_Q1_H_10h",
          "2023_Q1_H_11h",
          "2023_Q1_H_12h",
          "2023_Q1_H_13h",
          "2023_Q1_H_14h",
          "2023_Q1_H_15h",
          "2023_Q1_H_16h",
          "2023_Q1_H_17h",
          "2023_Q1_H_18h",
          "2023_Q1_H_19h",
          "2023_Q1_H_20h",
          "2023_Q1_H_21h",
          "2023_Q1_H_22h",
          "2023_Q1_H_23h",
          "2023_Q2_L_0h",
          "2023_Q2_L_1h",
          "2023_Q2_L_2h",
          "2023_Q2_L_3h",
          "2023_Q2_L_4h",
          "2023_Q2_L_5h",
          "2023_Q2_L_6h",
          "2023_Q2_L_7h",
          "2023_Q2_L_8h",
          "2023_Q2_L_9h",
          "2023_Q2_L_10h",
          "2023_Q2_L_11h",
          "2023_Q2_L_12h",
          "2023_Q2_L_13h",
          "2023_Q2_L_14h",
          "2023_Q2_L_15h",
          "2023_Q2_L_16h",
          "2023_Q2_L_17h",
          "2023_Q2_L_18h",
          "2023_Q2_L_19h",
          "2023_Q2_L_20h",
          "2023_Q2_L_21h",
          "2023_Q2_L_22h",
          "2023_Q2_L_23h",
          "2023_Q2_H_0h",
          "2023_Q2_H_1h",
          "2023_Q2_H_2h",
          "2023_Q2_H_3h",
          "2023_Q2_H_4h",
          "2023_Q2_H_5h",
          "2023_Q2_H_6h",
          "2023_Q2_H_7h",
          "2023_Q2_H_8h",
          "2023_Q2_H_9h",
          "2023_Q2_H_10h",
          "2023_Q2_H_11h",
          "2023_Q2_H_12h",
          "2023_Q2_H_13h",
          "2023_Q2_H_14h",
          "2023_Q2_H_15h",
          "2023_Q2_H_16h",
          "2023_Q2_H_17h",
          "2023_Q2_H_18h",
          "2023_Q2_H_19h",
          "2023_Q2_H_20h",
          "2023_Q2_H_21h",
          "2023_Q2_H_22h",
          "2023_Q2_H_23h",
          "2023_Q3_L_0h",
          "2023_Q3_L_1h",
          "2023_Q3_L_2h",
          "2023_Q3_L_3h",
          "2023_Q3_L_4h",
          "2023_Q3_L_5h",
          "2023_Q3_L_6h",
          "2023_Q3_L_7h",
          "2023_Q3_L_8h",
          "2023_Q3_L_9h",
          "2023_Q3_L_10h",
          "2023_Q3_L_11h",
          "2023_Q3_L_12h",
          "2023_Q3_L_13h",
          "2023_Q3_L_14h",
          "2023_Q3_L_15h",
          "2023_Q3_L_16h",
          "2023_Q3_L_17h",
          "2023_Q3_L_18h",
          "2023_Q3_L_19h",
          "2023_Q3_L_20h",
          "2023_Q3_L_21h",
          "2023_Q3_L_22h",
          "2023_Q3_L_23h",
          "2023_Q3_H_0h",
          "2023_Q3_H_1h",
          "2023_Q3_H_2h",
          "2023_Q3_H_3h",
          "2023_Q3_H_4h",
          "2023_Q3_H_5h",
          "2023_Q3_H_6h",
          "2023_Q3_H_7h",
          "2023_Q3_H_8h",
          "2023_Q3_H_9h",
          "2023_Q3_H_10h",
          "2023_Q3_H_11h",
          "2023_Q3_H_12h",
          "2023_Q3_H_13h",
          "2023_Q3_H_14h",
          "2023_Q3_H_15h",
          "2023_Q3_H_16h",
          "2023_Q3_H_17h",
          "2023_Q3_H_18h",
          "2023_Q3_H_19h",
          "2023_Q3_H_20h",
          "2023_Q3_H_21h",
          "2023_Q3_H_22h",
          "2023_Q3_H_23h",
          "2023_Q4_L_0h",
          "2023_Q4_L_1h",
          "2023_Q4_L_2h",
          "2023_Q4_L_3h",
          "2023_Q4_L_4h",
          "2023_Q4_L_5h",
          "2023_Q4_L_6h",
          "2023_Q4_L_7h",
          "2023_Q4_L_8h",
          "2023_Q4_L_9h",
          "2023_Q4_L_10h",
          "2023_Q4_L_11h",
          "2023_Q4_L_12h",
          "2023_Q4_L_13h",
          "2023_Q4_L_14h",
          "2023_Q4_L_15h",
          "2023_Q4_L_16h",
          "2023_Q4_L_17h",
          "2023_Q4_L_18h",
          "2023_Q4_L_19h",
          "2023_Q4_L_20h",
          "2023_Q4_L_21h",
          "2023_Q4_L_22h",
          "2023_Q4_L_23h",
          "2023_Q4_H_0h",
          "2023_Q4_H_1h",
          "2023_Q4_H_2h",
          "2023_Q4_H_3h",
          "2023_Q4_H_4h",
          "2023_Q4_H_5h",
          "2023_Q4_H_6h",
          "2023_Q4_H_7h",
          "2023_Q4_H_8h",
          "2023_Q4_H_9h",
          "2023_Q4_H_10h",
          "2023_Q4_H_11h",
          "2023_Q4_H_12h",
          "2023_Q4_H_13h",
          "2023_Q4_H_14h",
          "2023_Q4_H_15h",
          "2023_Q4_H_16h",
          "2023_Q4_H_17h",
          "2023_Q4_H_18h",
          "2023_Q4_H_19h",
          "2023_Q4_H_20h",
          "2023_Q4_H_21h",
          "2023_Q4_H_22h",
          "2023_Q4_H_23h"
         ],
         "xaxis": "x",
         "y": [
          6966.895811948051,
          6576.691520779222,
          6348.364212337663,
          6191.568129610389,
          6116.723455584415,
          6244.810741818183,
          6539.973871038961,
          6662.229255584416,
          7008.33375935065,
          7421.5309777922075,
          7670.990523246753,
          7953.249152987013,
          8187.346466233766,
          8126.44400987013,
          8147.603709610389,
          8255.349431818182,
          8262.905646883117,
          8166.6181503896105,
          8063.414943116883,
          8563.89770025974,
          8671.519088701298,
          8411.898743896105,
          8019.849319999999,
          7468.387998831169,
          6558.009311538462,
          6350.677928461539,
          6108.950120769231,
          5965.3150723076915,
          5842.998582307691,
          5807.2309323076925,
          5776.403989230769,
          5606.667970769231,
          5697.0741384615385,
          5978.85366,
          6254.597437692308,
          6462.063486923077,
          6688.695650769232,
          6767.060144615384,
          6762.384094615385,
          6668.7528807692315,
          6619.398513076922,
          6621.313908461539,
          6745.857963076923,
          7443.720403846154,
          7698.258128461539,
          7595.629643076923,
          7356.0473146153845,
          6969.781076153846,
          6847.656811265823,
          6454.106359493671,
          6266.302229493671,
          6130.97889670886,
          6059.434369493671,
          6211.335452405064,
          6582.254981265823,
          6700.550197341772,
          7076.702672278481,
          7480.690894683544,
          7738.10117443038,
          8035.189337468354,
          8245.955765443037,
          8144.478683670886,
          8172.818343291139,
          8262.130560506328,
          8295.98884392405,
          8218.998461012658,
          8063.687681012658,
          8562.947623670885,
          8731.144216582277,
          8474.942987215189,
          8011.675823924051,
          7365.945061898735,
          6432.303634615385,
          6421.685367692307,
          6154.561653076924,
          5932.140770000001,
          5818.657873846154,
          5784.925706923077,
          5736.703513076923,
          5591.231033076922,
          5799.236140769231,
          6127.702516153846,
          6409.055970769231,
          6640.532416923077,
          6821.942157692308,
          6904.474543846153,
          6887.437827692308,
          6769.92176,
          6734.453570769231,
          6727.810320769231,
          6816.061065384615,
          7512.844233846154,
          7776.3861969230775,
          7633.268868461538,
          7311.333096153846,
          6873.310323076923,
          6385.33633721519,
          6026.328163544304,
          5849.1307310126585,
          5712.503489999999,
          5647.2053124050635,
          5764.395988227848,
          6016.26141392405,
          6136.127457341772,
          6522.436893164558,
          6914.090959367088,
          7160.282352151899,
          7452.5144394936715,
          7659.635978481012,
          7558.780275949366,
          7603.260104810126,
          7733.48486278481,
          7751.205485063292,
          7673.743007974684,
          7473.949401392406,
          7955.02261,
          8241.03769506329,
          8025.618745063291,
          7547.375524303797,
          6929.852446582278,
          5864.617354615385,
          5846.774751538461,
          5600.369943076925,
          5485.227504615385,
          5380.772219230769,
          5315.251050000001,
          5266.476606923077,
          5076.346262307692,
          5286.539598461539,
          5516.097713846154,
          5709.3547538461535,
          5881.220344615385,
          6083.980764615385,
          6203.098288461538,
          6206.445158461539,
          6111.841375384614,
          6084.327934615385,
          6081.669078461538,
          6096.566029230768,
          6698.18988,
          7081.583833076923,
          6987.000079230769,
          6735.383935384615,
          6281.592903846154,
          5993.423220897436,
          5594.859225128205,
          5363.467312307692,
          5204.958051282051,
          5103.483736538461,
          5220.94516974359,
          5504.398117692308,
          5615.6338762820515,
          5935.690781282053,
          6261.673735897436,
          6451.9525635897435,
          6731.771894230769,
          6955.672827179487,
          6890.335423717947,
          6973.928537820513,
          7125.071372820514,
          7169.512970384616,
          7177.683676794872,
          7188.828965897436,
          7666.262459871795,
          7642.687605897436,
          7431.065333333333,
          7046.3990973076925,
          6504.582062179487,
          5544.945588461539,
          5363.25542923077,
          5143.583765384616,
          4950.596946153846,
          4723.031037692308,
          4656.888716153846,
          4594.829226923077,
          4413.609333846153,
          4542.767375384615,
          4773.068235384615,
          5012.92592,
          5223.740148461539,
          5441.458928461538,
          5551.433135384616,
          5538.296462307692,
          5470.646457692308,
          5467.866978461539,
          5583.87779923077,
          5822.022386153846,
          6572.4686161538475,
          6771.177505384615,
          6695.84755076923,
          6442.930586153846,
          6011.495091538461
         ],
         "yaxis": "y"
        }
       ],
       "layout": {
        "legend": {
         "title": {
          "text": "Tech"
         },
         "tracegroupgap": 0
        },
        "plot_bgcolor": "white",
        "template": {
         "data": {
          "bar": [
           {
            "error_x": {
             "color": "#2a3f5f"
            },
            "error_y": {
             "color": "#2a3f5f"
            },
            "marker": {
             "line": {
              "color": "#E5ECF6",
              "width": 0.5
             },
             "pattern": {
              "fillmode": "overlay",
              "size": 10,
              "solidity": 0.2
             }
            },
            "type": "bar"
           }
          ],
          "barpolar": [
           {
            "marker": {
             "line": {
              "color": "#E5ECF6",
              "width": 0.5
             },
             "pattern": {
              "fillmode": "overlay",
              "size": 10,
              "solidity": 0.2
             }
            },
            "type": "barpolar"
           }
          ],
          "carpet": [
           {
            "aaxis": {
             "endlinecolor": "#2a3f5f",
             "gridcolor": "white",
             "linecolor": "white",
             "minorgridcolor": "white",
             "startlinecolor": "#2a3f5f"
            },
            "baxis": {
             "endlinecolor": "#2a3f5f",
             "gridcolor": "white",
             "linecolor": "white",
             "minorgridcolor": "white",
             "startlinecolor": "#2a3f5f"
            },
            "type": "carpet"
           }
          ],
          "choropleth": [
           {
            "colorbar": {
             "outlinewidth": 0,
             "ticks": ""
            },
            "type": "choropleth"
           }
          ],
          "contour": [
           {
            "colorbar": {
             "outlinewidth": 0,
             "ticks": ""
            },
            "colorscale": [
             [
              0,
              "#0d0887"
             ],
             [
              0.1111111111111111,
              "#46039f"
             ],
             [
              0.2222222222222222,
              "#7201a8"
             ],
             [
              0.3333333333333333,
              "#9c179e"
             ],
             [
              0.4444444444444444,
              "#bd3786"
             ],
             [
              0.5555555555555556,
              "#d8576b"
             ],
             [
              0.6666666666666666,
              "#ed7953"
             ],
             [
              0.7777777777777778,
              "#fb9f3a"
             ],
             [
              0.8888888888888888,
              "#fdca26"
             ],
             [
              1,
              "#f0f921"
             ]
            ],
            "type": "contour"
           }
          ],
          "contourcarpet": [
           {
            "colorbar": {
             "outlinewidth": 0,
             "ticks": ""
            },
            "type": "contourcarpet"
           }
          ],
          "heatmap": [
           {
            "colorbar": {
             "outlinewidth": 0,
             "ticks": ""
            },
            "colorscale": [
             [
              0,
              "#0d0887"
             ],
             [
              0.1111111111111111,
              "#46039f"
             ],
             [
              0.2222222222222222,
              "#7201a8"
             ],
             [
              0.3333333333333333,
              "#9c179e"
             ],
             [
              0.4444444444444444,
              "#bd3786"
             ],
             [
              0.5555555555555556,
              "#d8576b"
             ],
             [
              0.6666666666666666,
              "#ed7953"
             ],
             [
              0.7777777777777778,
              "#fb9f3a"
             ],
             [
              0.8888888888888888,
              "#fdca26"
             ],
             [
              1,
              "#f0f921"
             ]
            ],
            "type": "heatmap"
           }
          ],
          "heatmapgl": [
           {
            "colorbar": {
             "outlinewidth": 0,
             "ticks": ""
            },
            "colorscale": [
             [
              0,
              "#0d0887"
             ],
             [
              0.1111111111111111,
              "#46039f"
             ],
             [
              0.2222222222222222,
              "#7201a8"
             ],
             [
              0.3333333333333333,
              "#9c179e"
             ],
             [
              0.4444444444444444,
              "#bd3786"
             ],
             [
              0.5555555555555556,
              "#d8576b"
             ],
             [
              0.6666666666666666,
              "#ed7953"
             ],
             [
              0.7777777777777778,
              "#fb9f3a"
             ],
             [
              0.8888888888888888,
              "#fdca26"
             ],
             [
              1,
              "#f0f921"
             ]
            ],
            "type": "heatmapgl"
           }
          ],
          "histogram": [
           {
            "marker": {
             "pattern": {
              "fillmode": "overlay",
              "size": 10,
              "solidity": 0.2
             }
            },
            "type": "histogram"
           }
          ],
          "histogram2d": [
           {
            "colorbar": {
             "outlinewidth": 0,
             "ticks": ""
            },
            "colorscale": [
             [
              0,
              "#0d0887"
             ],
             [
              0.1111111111111111,
              "#46039f"
             ],
             [
              0.2222222222222222,
              "#7201a8"
             ],
             [
              0.3333333333333333,
              "#9c179e"
             ],
             [
              0.4444444444444444,
              "#bd3786"
             ],
             [
              0.5555555555555556,
              "#d8576b"
             ],
             [
              0.6666666666666666,
              "#ed7953"
             ],
             [
              0.7777777777777778,
              "#fb9f3a"
             ],
             [
              0.8888888888888888,
              "#fdca26"
             ],
             [
              1,
              "#f0f921"
             ]
            ],
            "type": "histogram2d"
           }
          ],
          "histogram2dcontour": [
           {
            "colorbar": {
             "outlinewidth": 0,
             "ticks": ""
            },
            "colorscale": [
             [
              0,
              "#0d0887"
             ],
             [
              0.1111111111111111,
              "#46039f"
             ],
             [
              0.2222222222222222,
              "#7201a8"
             ],
             [
              0.3333333333333333,
              "#9c179e"
             ],
             [
              0.4444444444444444,
              "#bd3786"
             ],
             [
              0.5555555555555556,
              "#d8576b"
             ],
             [
              0.6666666666666666,
              "#ed7953"
             ],
             [
              0.7777777777777778,
              "#fb9f3a"
             ],
             [
              0.8888888888888888,
              "#fdca26"
             ],
             [
              1,
              "#f0f921"
             ]
            ],
            "type": "histogram2dcontour"
           }
          ],
          "mesh3d": [
           {
            "colorbar": {
             "outlinewidth": 0,
             "ticks": ""
            },
            "type": "mesh3d"
           }
          ],
          "parcoords": [
           {
            "line": {
             "colorbar": {
              "outlinewidth": 0,
              "ticks": ""
             }
            },
            "type": "parcoords"
           }
          ],
          "pie": [
           {
            "automargin": true,
            "type": "pie"
           }
          ],
          "scatter": [
           {
            "fillpattern": {
             "fillmode": "overlay",
             "size": 10,
             "solidity": 0.2
            },
            "type": "scatter"
           }
          ],
          "scatter3d": [
           {
            "line": {
             "colorbar": {
              "outlinewidth": 0,
              "ticks": ""
             }
            },
            "marker": {
             "colorbar": {
              "outlinewidth": 0,
              "ticks": ""
             }
            },
            "type": "scatter3d"
           }
          ],
          "scattercarpet": [
           {
            "marker": {
             "colorbar": {
              "outlinewidth": 0,
              "ticks": ""
             }
            },
            "type": "scattercarpet"
           }
          ],
          "scattergeo": [
           {
            "marker": {
             "colorbar": {
              "outlinewidth": 0,
              "ticks": ""
             }
            },
            "type": "scattergeo"
           }
          ],
          "scattergl": [
           {
            "marker": {
             "colorbar": {
              "outlinewidth": 0,
              "ticks": ""
             }
            },
            "type": "scattergl"
           }
          ],
          "scattermapbox": [
           {
            "marker": {
             "colorbar": {
              "outlinewidth": 0,
              "ticks": ""
             }
            },
            "type": "scattermapbox"
           }
          ],
          "scatterpolar": [
           {
            "marker": {
             "colorbar": {
              "outlinewidth": 0,
              "ticks": ""
             }
            },
            "type": "scatterpolar"
           }
          ],
          "scatterpolargl": [
           {
            "marker": {
             "colorbar": {
              "outlinewidth": 0,
              "ticks": ""
             }
            },
            "type": "scatterpolargl"
           }
          ],
          "scatterternary": [
           {
            "marker": {
             "colorbar": {
              "outlinewidth": 0,
              "ticks": ""
             }
            },
            "type": "scatterternary"
           }
          ],
          "surface": [
           {
            "colorbar": {
             "outlinewidth": 0,
             "ticks": ""
            },
            "colorscale": [
             [
              0,
              "#0d0887"
             ],
             [
              0.1111111111111111,
              "#46039f"
             ],
             [
              0.2222222222222222,
              "#7201a8"
             ],
             [
              0.3333333333333333,
              "#9c179e"
             ],
             [
              0.4444444444444444,
              "#bd3786"
             ],
             [
              0.5555555555555556,
              "#d8576b"
             ],
             [
              0.6666666666666666,
              "#ed7953"
             ],
             [
              0.7777777777777778,
              "#fb9f3a"
             ],
             [
              0.8888888888888888,
              "#fdca26"
             ],
             [
              1,
              "#f0f921"
             ]
            ],
            "type": "surface"
           }
          ],
          "table": [
           {
            "cells": {
             "fill": {
              "color": "#EBF0F8"
             },
             "line": {
              "color": "white"
             }
            },
            "header": {
             "fill": {
              "color": "#C8D4E3"
             },
             "line": {
              "color": "white"
             }
            },
            "type": "table"
           }
          ]
         },
         "layout": {
          "annotationdefaults": {
           "arrowcolor": "#2a3f5f",
           "arrowhead": 0,
           "arrowwidth": 1
          },
          "autotypenumbers": "strict",
          "coloraxis": {
           "colorbar": {
            "outlinewidth": 0,
            "ticks": ""
           }
          },
          "colorscale": {
           "diverging": [
            [
             0,
             "#8e0152"
            ],
            [
             0.1,
             "#c51b7d"
            ],
            [
             0.2,
             "#de77ae"
            ],
            [
             0.3,
             "#f1b6da"
            ],
            [
             0.4,
             "#fde0ef"
            ],
            [
             0.5,
             "#f7f7f7"
            ],
            [
             0.6,
             "#e6f5d0"
            ],
            [
             0.7,
             "#b8e186"
            ],
            [
             0.8,
             "#7fbc41"
            ],
            [
             0.9,
             "#4d9221"
            ],
            [
             1,
             "#276419"
            ]
           ],
           "sequential": [
            [
             0,
             "#0d0887"
            ],
            [
             0.1111111111111111,
             "#46039f"
            ],
            [
             0.2222222222222222,
             "#7201a8"
            ],
            [
             0.3333333333333333,
             "#9c179e"
            ],
            [
             0.4444444444444444,
             "#bd3786"
            ],
            [
             0.5555555555555556,
             "#d8576b"
            ],
            [
             0.6666666666666666,
             "#ed7953"
            ],
            [
             0.7777777777777778,
             "#fb9f3a"
            ],
            [
             0.8888888888888888,
             "#fdca26"
            ],
            [
             1,
             "#f0f921"
            ]
           ],
           "sequentialminus": [
            [
             0,
             "#0d0887"
            ],
            [
             0.1111111111111111,
             "#46039f"
            ],
            [
             0.2222222222222222,
             "#7201a8"
            ],
            [
             0.3333333333333333,
             "#9c179e"
            ],
            [
             0.4444444444444444,
             "#bd3786"
            ],
            [
             0.5555555555555556,
             "#d8576b"
            ],
            [
             0.6666666666666666,
             "#ed7953"
            ],
            [
             0.7777777777777778,
             "#fb9f3a"
            ],
            [
             0.8888888888888888,
             "#fdca26"
            ],
            [
             1,
             "#f0f921"
            ]
           ]
          },
          "colorway": [
           "#636efa",
           "#EF553B",
           "#00cc96",
           "#ab63fa",
           "#FFA15A",
           "#19d3f3",
           "#FF6692",
           "#B6E880",
           "#FF97FF",
           "#FECB52"
          ],
          "font": {
           "color": "#2a3f5f"
          },
          "geo": {
           "bgcolor": "white",
           "lakecolor": "white",
           "landcolor": "#E5ECF6",
           "showlakes": true,
           "showland": true,
           "subunitcolor": "white"
          },
          "hoverlabel": {
           "align": "left"
          },
          "hovermode": "closest",
          "mapbox": {
           "style": "light"
          },
          "paper_bgcolor": "white",
          "plot_bgcolor": "#E5ECF6",
          "polar": {
           "angularaxis": {
            "gridcolor": "white",
            "linecolor": "white",
            "ticks": ""
           },
           "bgcolor": "#E5ECF6",
           "radialaxis": {
            "gridcolor": "white",
            "linecolor": "white",
            "ticks": ""
           }
          },
          "scene": {
           "xaxis": {
            "backgroundcolor": "#E5ECF6",
            "gridcolor": "white",
            "gridwidth": 2,
            "linecolor": "white",
            "showbackground": true,
            "ticks": "",
            "zerolinecolor": "white"
           },
           "yaxis": {
            "backgroundcolor": "#E5ECF6",
            "gridcolor": "white",
            "gridwidth": 2,
            "linecolor": "white",
            "showbackground": true,
            "ticks": "",
            "zerolinecolor": "white"
           },
           "zaxis": {
            "backgroundcolor": "#E5ECF6",
            "gridcolor": "white",
            "gridwidth": 2,
            "linecolor": "white",
            "showbackground": true,
            "ticks": "",
            "zerolinecolor": "white"
           }
          },
          "shapedefaults": {
           "line": {
            "color": "#2a3f5f"
           }
          },
          "ternary": {
           "aaxis": {
            "gridcolor": "white",
            "linecolor": "white",
            "ticks": ""
           },
           "baxis": {
            "gridcolor": "white",
            "linecolor": "white",
            "ticks": ""
           },
           "bgcolor": "#E5ECF6",
           "caxis": {
            "gridcolor": "white",
            "linecolor": "white",
            "ticks": ""
           }
          },
          "title": {
           "x": 0.05
          },
          "xaxis": {
           "automargin": true,
           "gridcolor": "white",
           "linecolor": "white",
           "ticks": "",
           "title": {
            "standoff": 15
           },
           "zerolinecolor": "white",
           "zerolinewidth": 2
          },
          "yaxis": {
           "automargin": true,
           "gridcolor": "white",
           "linecolor": "white",
           "ticks": "",
           "title": {
            "standoff": 15
           },
           "zerolinecolor": "white",
           "zerolinewidth": 2
          }
         }
        },
        "title": {
         "text": "Generation by Technology (XM)"
        },
        "xaxis": {
         "anchor": "y",
         "domain": [
          0,
          1
         ],
         "gridcolor": "lightgray",
         "title": {
          "text": "timestamp"
         }
        },
        "yaxis": {
         "anchor": "x",
         "domain": [
          0,
          1
         ],
         "gridcolor": "lightgray",
         "title": {
          "text": "DispatchGen_MW"
         }
        }
       }
      }
     },
     "metadata": {},
     "output_type": "display_data"
    }
   ],
   "source": [
    "gen_res = dispatch_xm.copy()\n",
    "gen_res['Tech'] = gen_res['Values_Type']\n",
    "# Change values on Tech to match Switch output\n",
    "gen_res['Tech'] = gen_res['Tech'].replace({\n",
    "        'EOLICA': 'Eolica', 'TERMICA': 'Thermal',\n",
    "        'SOLAR': 'Solar','HIDRAULICA': 'Hidro',\n",
    "        'COGENERADOR': 'Menores'})\n",
    "# Replace prefix 'labor_' by 'L_' and 'holidays_' by 'H_'\n",
    "gen_res['timestamp'] = gen_res['timestamp'].str.replace('labor_', 'L_')\n",
    "gen_res['timestamp'] = gen_res['timestamp'].str.replace('holidays_', 'H_')\n",
    "\n",
    "import plotly.express as px\n",
    "fig = px.line(\n",
    "    gen_res,\n",
    "    x='timestamp', y='DispatchGen_MW',\n",
    "    color='Tech', title='Generation by Technology (XM)',\n",
    "    labels={'GeneReal': 'Reported Generation (MW)'}\n",
    ")\n",
    "fig.update_layout(plot_bgcolor='white',xaxis=dict(gridcolor='lightgray'),yaxis=dict(gridcolor='lightgray'))\n",
    "fig.show()"
   ]
  },
  {
   "cell_type": "markdown",
   "metadata": {},
   "source": [
    "### 3.4.4 Dispatch by Technology Switch"
   ]
  },
  {
   "cell_type": "code",
   "execution_count": 105,
   "metadata": {},
   "outputs": [
    {
     "data": {
      "application/vnd.plotly.v1+json": {
       "config": {
        "plotlyServerURL": "https://plot.ly"
       },
       "data": [
        {
         "hovertemplate": "Tech=Eolica<br>timestamp=%{x}<br>DispatchGen_MW=%{y}<extra></extra>",
         "legendgroup": "Eolica",
         "line": {
          "color": "#636efa",
          "dash": "solid"
         },
         "marker": {
          "symbol": "circle"
         },
         "mode": "lines",
         "name": "Eolica",
         "showlegend": true,
         "type": "scattergl",
         "x": [
          "2023_Q1_L_0h",
          "2023_Q1_L_1h",
          "2023_Q1_L_2h",
          "2023_Q1_L_3h",
          "2023_Q1_L_4h",
          "2023_Q1_L_5h",
          "2023_Q1_L_6h",
          "2023_Q1_L_7h",
          "2023_Q1_L_8h",
          "2023_Q1_L_9h",
          "2023_Q1_L_10h",
          "2023_Q1_L_11h",
          "2023_Q1_L_12h",
          "2023_Q1_L_13h",
          "2023_Q1_L_14h",
          "2023_Q1_L_15h",
          "2023_Q1_L_16h",
          "2023_Q1_L_17h",
          "2023_Q1_L_18h",
          "2023_Q1_L_19h",
          "2023_Q1_L_20h",
          "2023_Q1_L_21h",
          "2023_Q1_L_22h",
          "2023_Q1_L_23h",
          "2023_Q1_H_0h",
          "2023_Q1_H_1h",
          "2023_Q1_H_2h",
          "2023_Q1_H_3h",
          "2023_Q1_H_4h",
          "2023_Q1_H_5h",
          "2023_Q1_H_6h",
          "2023_Q1_H_7h",
          "2023_Q1_H_8h",
          "2023_Q1_H_9h",
          "2023_Q1_H_10h",
          "2023_Q1_H_11h",
          "2023_Q1_H_12h",
          "2023_Q1_H_13h",
          "2023_Q1_H_14h",
          "2023_Q1_H_15h",
          "2023_Q1_H_16h",
          "2023_Q1_H_17h",
          "2023_Q1_H_18h",
          "2023_Q1_H_19h",
          "2023_Q1_H_20h",
          "2023_Q1_H_21h",
          "2023_Q1_H_22h",
          "2023_Q1_H_23h",
          "2023_Q2_L_0h",
          "2023_Q2_L_1h",
          "2023_Q2_L_2h",
          "2023_Q2_L_3h",
          "2023_Q2_L_4h",
          "2023_Q2_L_5h",
          "2023_Q2_L_6h",
          "2023_Q2_L_7h",
          "2023_Q2_L_8h",
          "2023_Q2_L_9h",
          "2023_Q2_L_10h",
          "2023_Q2_L_11h",
          "2023_Q2_L_12h",
          "2023_Q2_L_13h",
          "2023_Q2_L_14h",
          "2023_Q2_L_15h",
          "2023_Q2_L_16h",
          "2023_Q2_L_17h",
          "2023_Q2_L_18h",
          "2023_Q2_L_19h",
          "2023_Q2_L_20h",
          "2023_Q2_L_21h",
          "2023_Q2_L_22h",
          "2023_Q2_L_23h",
          "2023_Q2_H_0h",
          "2023_Q2_H_1h",
          "2023_Q2_H_2h",
          "2023_Q2_H_3h",
          "2023_Q2_H_4h",
          "2023_Q2_H_5h",
          "2023_Q2_H_6h",
          "2023_Q2_H_7h",
          "2023_Q2_H_8h",
          "2023_Q2_H_9h",
          "2023_Q2_H_10h",
          "2023_Q2_H_11h",
          "2023_Q2_H_12h",
          "2023_Q2_H_13h",
          "2023_Q2_H_14h",
          "2023_Q2_H_15h",
          "2023_Q2_H_16h",
          "2023_Q2_H_17h",
          "2023_Q2_H_18h",
          "2023_Q2_H_19h",
          "2023_Q2_H_20h",
          "2023_Q2_H_21h",
          "2023_Q2_H_22h",
          "2023_Q2_H_23h",
          "2023_Q3_L_0h",
          "2023_Q3_L_1h",
          "2023_Q3_L_2h",
          "2023_Q3_L_3h",
          "2023_Q3_L_4h",
          "2023_Q3_L_5h",
          "2023_Q3_L_6h",
          "2023_Q3_L_7h",
          "2023_Q3_L_8h",
          "2023_Q3_L_9h",
          "2023_Q3_L_10h",
          "2023_Q3_L_11h",
          "2023_Q3_L_12h",
          "2023_Q3_L_13h",
          "2023_Q3_L_14h",
          "2023_Q3_L_15h",
          "2023_Q3_L_16h",
          "2023_Q3_L_17h",
          "2023_Q3_L_18h",
          "2023_Q3_L_19h",
          "2023_Q3_L_20h",
          "2023_Q3_L_21h",
          "2023_Q3_L_22h",
          "2023_Q3_L_23h",
          "2023_Q3_H_0h",
          "2023_Q3_H_1h",
          "2023_Q3_H_2h",
          "2023_Q3_H_3h",
          "2023_Q3_H_4h",
          "2023_Q3_H_5h",
          "2023_Q3_H_6h",
          "2023_Q3_H_7h",
          "2023_Q3_H_8h",
          "2023_Q3_H_9h",
          "2023_Q3_H_10h",
          "2023_Q3_H_11h",
          "2023_Q3_H_12h",
          "2023_Q3_H_13h",
          "2023_Q3_H_14h",
          "2023_Q3_H_15h",
          "2023_Q3_H_16h",
          "2023_Q3_H_17h",
          "2023_Q3_H_18h",
          "2023_Q3_H_19h",
          "2023_Q3_H_20h",
          "2023_Q3_H_21h",
          "2023_Q3_H_22h",
          "2023_Q3_H_23h",
          "2023_Q4_L_0h",
          "2023_Q4_L_1h",
          "2023_Q4_L_2h",
          "2023_Q4_L_3h",
          "2023_Q4_L_4h",
          "2023_Q4_L_5h",
          "2023_Q4_L_6h",
          "2023_Q4_L_7h",
          "2023_Q4_L_8h",
          "2023_Q4_L_9h",
          "2023_Q4_L_10h",
          "2023_Q4_L_11h",
          "2023_Q4_L_12h",
          "2023_Q4_L_13h",
          "2023_Q4_L_14h",
          "2023_Q4_L_15h",
          "2023_Q4_L_16h",
          "2023_Q4_L_17h",
          "2023_Q4_L_18h",
          "2023_Q4_L_19h",
          "2023_Q4_L_20h",
          "2023_Q4_L_21h",
          "2023_Q4_L_22h",
          "2023_Q4_L_23h",
          "2023_Q4_H_0h",
          "2023_Q4_H_1h",
          "2023_Q4_H_2h",
          "2023_Q4_H_3h",
          "2023_Q4_H_4h",
          "2023_Q4_H_5h",
          "2023_Q4_H_6h",
          "2023_Q4_H_7h",
          "2023_Q4_H_8h",
          "2023_Q4_H_9h",
          "2023_Q4_H_10h",
          "2023_Q4_H_11h",
          "2023_Q4_H_12h",
          "2023_Q4_H_13h",
          "2023_Q4_H_14h",
          "2023_Q4_H_15h",
          "2023_Q4_H_16h",
          "2023_Q4_H_17h",
          "2023_Q4_H_18h",
          "2023_Q4_H_19h",
          "2023_Q4_H_20h",
          "2023_Q4_H_21h",
          "2023_Q4_H_22h",
          "2023_Q4_H_23h",
          "2024_Q1_L_0h",
          "2024_Q1_L_1h",
          "2024_Q1_L_2h",
          "2024_Q1_L_3h",
          "2024_Q1_L_4h",
          "2024_Q1_L_5h",
          "2024_Q1_L_6h",
          "2024_Q1_L_7h",
          "2024_Q1_L_8h",
          "2024_Q1_L_9h",
          "2024_Q1_L_10h",
          "2024_Q1_L_11h",
          "2024_Q1_L_12h",
          "2024_Q1_L_13h",
          "2024_Q1_L_14h",
          "2024_Q1_L_15h",
          "2024_Q1_L_16h",
          "2024_Q1_L_17h",
          "2024_Q1_L_18h",
          "2024_Q1_L_19h",
          "2024_Q1_L_20h",
          "2024_Q1_L_21h",
          "2024_Q1_L_22h",
          "2024_Q1_L_23h",
          "2024_Q1_H_0h",
          "2024_Q1_H_1h",
          "2024_Q1_H_2h",
          "2024_Q1_H_3h",
          "2024_Q1_H_4h",
          "2024_Q1_H_5h",
          "2024_Q1_H_6h",
          "2024_Q1_H_7h",
          "2024_Q1_H_8h",
          "2024_Q1_H_9h",
          "2024_Q1_H_10h",
          "2024_Q1_H_11h",
          "2024_Q1_H_12h",
          "2024_Q1_H_13h",
          "2024_Q1_H_14h",
          "2024_Q1_H_15h",
          "2024_Q1_H_16h",
          "2024_Q1_H_17h",
          "2024_Q1_H_18h",
          "2024_Q1_H_19h",
          "2024_Q1_H_20h",
          "2024_Q1_H_21h",
          "2024_Q1_H_22h",
          "2024_Q1_H_23h",
          "2024_Q2_L_0h",
          "2024_Q2_L_1h",
          "2024_Q2_L_2h",
          "2024_Q2_L_3h",
          "2024_Q2_L_4h",
          "2024_Q2_L_5h",
          "2024_Q2_L_6h",
          "2024_Q2_L_7h",
          "2024_Q2_L_8h",
          "2024_Q2_L_9h",
          "2024_Q2_L_10h",
          "2024_Q2_L_11h",
          "2024_Q2_L_12h",
          "2024_Q2_L_13h",
          "2024_Q2_L_14h",
          "2024_Q2_L_15h",
          "2024_Q2_L_16h",
          "2024_Q2_L_17h",
          "2024_Q2_L_18h",
          "2024_Q2_L_19h",
          "2024_Q2_L_20h",
          "2024_Q2_L_21h",
          "2024_Q2_L_22h",
          "2024_Q2_L_23h",
          "2024_Q2_H_0h",
          "2024_Q2_H_1h",
          "2024_Q2_H_2h",
          "2024_Q2_H_3h",
          "2024_Q2_H_4h",
          "2024_Q2_H_5h",
          "2024_Q2_H_6h",
          "2024_Q2_H_7h",
          "2024_Q2_H_8h",
          "2024_Q2_H_9h",
          "2024_Q2_H_10h",
          "2024_Q2_H_11h",
          "2024_Q2_H_12h",
          "2024_Q2_H_13h",
          "2024_Q2_H_14h",
          "2024_Q2_H_15h",
          "2024_Q2_H_16h",
          "2024_Q2_H_17h",
          "2024_Q2_H_18h",
          "2024_Q2_H_19h",
          "2024_Q2_H_20h",
          "2024_Q2_H_21h",
          "2024_Q2_H_22h",
          "2024_Q2_H_23h",
          "2024_Q3_L_0h",
          "2024_Q3_L_1h",
          "2024_Q3_L_2h",
          "2024_Q3_L_3h",
          "2024_Q3_L_4h",
          "2024_Q3_L_5h",
          "2024_Q3_L_6h",
          "2024_Q3_L_7h",
          "2024_Q3_L_8h",
          "2024_Q3_L_9h",
          "2024_Q3_L_10h",
          "2024_Q3_L_11h",
          "2024_Q3_L_12h",
          "2024_Q3_L_13h",
          "2024_Q3_L_14h",
          "2024_Q3_L_15h",
          "2024_Q3_L_16h",
          "2024_Q3_L_17h",
          "2024_Q3_L_18h",
          "2024_Q3_L_19h",
          "2024_Q3_L_20h",
          "2024_Q3_L_21h",
          "2024_Q3_L_22h",
          "2024_Q3_L_23h",
          "2024_Q3_H_0h",
          "2024_Q3_H_1h",
          "2024_Q3_H_2h",
          "2024_Q3_H_3h",
          "2024_Q3_H_4h",
          "2024_Q3_H_5h",
          "2024_Q3_H_6h",
          "2024_Q3_H_7h",
          "2024_Q3_H_8h",
          "2024_Q3_H_9h",
          "2024_Q3_H_10h",
          "2024_Q3_H_11h",
          "2024_Q3_H_12h",
          "2024_Q3_H_13h",
          "2024_Q3_H_14h",
          "2024_Q3_H_15h",
          "2024_Q3_H_16h",
          "2024_Q3_H_17h",
          "2024_Q3_H_18h",
          "2024_Q3_H_19h",
          "2024_Q3_H_20h",
          "2024_Q3_H_21h",
          "2024_Q3_H_22h",
          "2024_Q3_H_23h",
          "2024_Q4_L_0h",
          "2024_Q4_L_1h",
          "2024_Q4_L_2h",
          "2024_Q4_L_3h",
          "2024_Q4_L_4h",
          "2024_Q4_L_5h",
          "2024_Q4_L_6h",
          "2024_Q4_L_7h",
          "2024_Q4_L_8h",
          "2024_Q4_L_9h",
          "2024_Q4_L_10h",
          "2024_Q4_L_11h",
          "2024_Q4_L_12h",
          "2024_Q4_L_13h",
          "2024_Q4_L_14h",
          "2024_Q4_L_15h",
          "2024_Q4_L_16h",
          "2024_Q4_L_17h",
          "2024_Q4_L_18h",
          "2024_Q4_L_19h",
          "2024_Q4_L_20h",
          "2024_Q4_L_21h",
          "2024_Q4_L_22h",
          "2024_Q4_L_23h",
          "2024_Q4_H_0h",
          "2024_Q4_H_1h",
          "2024_Q4_H_2h",
          "2024_Q4_H_3h",
          "2024_Q4_H_4h",
          "2024_Q4_H_5h",
          "2024_Q4_H_6h",
          "2024_Q4_H_7h",
          "2024_Q4_H_8h",
          "2024_Q4_H_9h",
          "2024_Q4_H_10h",
          "2024_Q4_H_11h",
          "2024_Q4_H_12h",
          "2024_Q4_H_13h",
          "2024_Q4_H_14h",
          "2024_Q4_H_15h",
          "2024_Q4_H_16h",
          "2024_Q4_H_17h",
          "2024_Q4_H_18h",
          "2024_Q4_H_19h",
          "2024_Q4_H_20h",
          "2024_Q4_H_21h",
          "2024_Q4_H_22h",
          "2024_Q4_H_23h"
         ],
         "xaxis": "x",
         "y": [
          26.847982926098965,
          26.634200612995297,
          26.41017344420351,
          26.323413605882493,
          26.185845127908067,
          26.129478703307516,
          26.042568382099773,
          25.771484654332472,
          25.63965488628499,
          25.529754432578056,
          25.60592518747347,
          25.45535916443449,
          25.446315343636954,
          25.522232411689398,
          25.786450882748618,
          26.120942805654536,
          26.702258540436546,
          27.833828664148793,
          28.599537169973882,
          28.683532945398,
          28.589494490140495,
          28.286751669098972,
          27.922206397412015,
          27.351834675444124,
          27.37659779648112,
          26.991866956606426,
          27.16304725581074,
          27.020177300034653,
          27.14241914318061,
          27.039892244671602,
          26.661947724320523,
          26.506689501050822,
          26.122355839071318,
          25.550863831146238,
          25.745485512451253,
          25.53496309029473,
          25.323554745435317,
          25.288007710516165,
          25.627706424941053,
          26.082616683548885,
          26.99236528699122,
          28.153543430964305,
          28.79422501990055,
          28.68913498575743,
          28.57565056262969,
          28.251530124100725,
          27.757233501729026,
          27.226576703300246,
          25.799033701778498,
          25.56704352557439,
          25.336293330101967,
          25.23376809249274,
          25.196429028968133,
          25.066856975391417,
          24.36928793271335,
          23.986982375402167,
          23.786116313326016,
          24.057735933363215,
          24.27515813658958,
          24.346509141656266,
          24.061925526638383,
          23.92090702175562,
          24.030754083635184,
          24.54703036925021,
          24.94019599329063,
          25.940867165829513,
          26.766547677485207,
          26.929387401505373,
          26.845715108739782,
          26.75440030947379,
          26.459858150480763,
          26.11728690873364,
          25.736137133112635,
          25.4288182017751,
          25.702378173775482,
          25.674115936013514,
          25.493869514941174,
          25.453953677888983,
          24.287527282122767,
          23.921890505553677,
          24.019115151746945,
          24.23819010493936,
          24.295931666955674,
          24.13363746885836,
          23.97881477506046,
          23.88376616270621,
          24.054693273808876,
          24.680645867893976,
          25.087322612216955,
          25.428335976544663,
          26.72240028584682,
          26.92032644028413,
          26.993461345891372,
          26.64649623896964,
          26.13896950072192,
          25.619570665107297,
          25.495396923250254,
          24.96204139906661,
          24.680278019777802,
          24.69470249260594,
          24.676976502885996,
          25.129956590646454,
          25.139133876756496,
          24.23157588757286,
          23.935417431550892,
          23.899166841148855,
          23.829347519113327,
          23.811008226019148,
          23.416193911833886,
          22.962192365114795,
          22.754851806251267,
          22.67697168889045,
          22.941723689150983,
          24.12736862543076,
          25.69551808455944,
          26.279946111560875,
          26.534969646129973,
          26.583708723040267,
          26.234437893863944,
          25.810986697497604,
          25.34422432586377,
          25.50811683687419,
          25.309688874058907,
          25.318886159150004,
          24.268023694633513,
          23.839585960805177,
          24.335690613514146,
          23.923721933437722,
          23.907743274651565,
          24.6820151181418,
          24.724903706906346,
          24.593462590998854,
          24.754239899133886,
          24.495218387825368,
          24.37360520815149,
          24.274211681333348,
          24.27114370354147,
          24.47300371278411,
          26.191116311189052,
          26.54247443207747,
          27.180034935307482,
          27.135704600095792,
          26.56310101046472,
          26.130442023023218,
          23.244883978530908,
          22.83007707710767,
          22.45601078566891,
          22.182953917181088,
          22.01683179680587,
          21.68273900346435,
          21.63678816346075,
          20.734754661829285,
          20.1565507319069,
          19.775037480422707,
          19.41245165411928,
          18.898786700639953,
          18.29749217895315,
          17.90469213450971,
          17.91076813950393,
          18.58317845105158,
          19.965079751286268,
          22.113620676902293,
          23.620762066414713,
          24.271839683910784,
          24.550841848673045,
          24.523524945889474,
          24.262958644045202,
          23.74151247976426,
          23.49307117987643,
          23.247146680649465,
          22.7499833654054,
          22.615102833130045,
          22.5237732566507,
          22.227735876857437,
          21.97591301342245,
          21.36403696505485,
          20.736068095648058,
          20.303344129242078,
          20.13209360536968,
          19.48092757562922,
          18.77675712441855,
          18.320028204555754,
          18.144670194493663,
          18.66975683911857,
          19.87418734716926,
          21.535475181597885,
          22.893217533110704,
          23.95479358166654,
          24.402776498368592,
          24.159892468989362,
          23.85886148540379,
          23.612364030189767,
          26.84798292666552,
          26.634200613547918,
          26.410173444724677,
          26.323413606414636,
          26.185845128441237,
          26.129478703839283,
          26.04256833808396,
          25.77148465398045,
          25.639654842224584,
          25.529754388508266,
          25.60592518455872,
          25.45535916034676,
          25.446315339641828,
          25.52223240798505,
          25.786450880234185,
          26.12094276076369,
          26.702258495623187,
          27.83382861947518,
          28.599537170222668,
          28.683532945648288,
          28.589494490387636,
          28.286751669348394,
          27.922206397657384,
          27.3518346751158,
          27.376597801596738,
          26.991866961742016,
          27.163047261053737,
          27.020177305282143,
          27.14241914859152,
          27.039892250114825,
          26.661947728348714,
          26.506689504187065,
          26.122355841377903,
          25.550863825314583,
          25.745485513458924,
          25.53496308434105,
          25.32355474600525,
          25.28800771136123,
          25.62770642627011,
          26.08261668710261,
          26.99236528084561,
          28.153543436015617,
          28.794225026640035,
          28.689134987359992,
          28.57565056417645,
          28.251530125660505,
          27.75723350314481,
          27.226576708336218,
          25.799033702346307,
          25.567043526125993,
          25.336293330633858,
          25.233768093024622,
          25.196429029511922,
          25.06685697591763,
          24.36928793298686,
          23.986982375108163,
          23.786116311746685,
          24.057735931205464,
          24.275158092340774,
          24.346509096536252,
          24.061925523022836,
          23.92090701905503,
          24.030754081424668,
          24.547030367638172,
          24.94019599228217,
          25.940867165894964,
          26.76654767772233,
          26.929387401756493,
          26.84571510898823,
          26.75440030972458,
          26.45985815072581,
          26.11728690840616,
          25.73613714001676,
          25.428818208661674,
          25.702378180778325,
          25.67411594304479,
          25.49386952165849,
          25.45395368510922,
          24.287527289148073,
          23.921890511542085,
          24.01911514570658,
          24.238190109570347,
          24.295931671116247,
          24.133637472638704,
          23.978814778844928,
          23.883766156172438,
          24.05469327877084,
          24.680645861441214,
          25.08732261919026,
          25.428335984047074,
          26.722400293523812,
          26.920326442744866,
          26.993461348274668,
          26.646496241374578,
          26.138969503072353,
          25.619570672657122,
          25.49539692348481,
          24.962041399294773,
          24.680278020005744,
          24.694702492832977,
          24.676976503112893,
          25.129956546222886,
          25.139133832336466,
          24.231575843040588,
          23.935417430574155,
          23.899166839701646,
          23.82934751730105,
          23.811008181447193,
          23.416193867209213,
          22.962192363329514,
          22.7548518040972,
          22.67697168737632,
          22.941723688194216,
          24.127368580294622,
          25.695518084198703,
          26.27994611124202,
          26.53496964637403,
          26.583708723335405,
          26.23443789355082,
          25.81098669776519,
          25.3442243328954,
          25.508116843905967,
          25.30968888111804,
          25.31888616623316,
          24.268023701728943,
          23.839585954676437,
          24.335690620608165,
          23.923721940056765,
          23.907743280735044,
          24.682015112125548,
          24.724903711841925,
          24.593462595700558,
          24.75423990382692,
          24.495218392727615,
          24.37360520176587,
          24.27421167492605,
          24.271143697166945,
          24.473003720426384,
          26.191116305067276,
          26.542474439773365,
          27.18003494288898,
          27.135704607716796,
          26.56310101811251,
          26.130442030076864,
          23.244883978199397,
          22.83007707690166,
          22.456010785464144,
          22.182953916976466,
          22.01683179660167,
          21.682739003259464,
          21.636788163120904,
          20.734754661069303,
          20.156550686241523,
          19.775037478556023,
          19.412451608381662,
          18.89878669821823,
          18.297492133083885,
          17.90469208859063,
          17.910768137695413,
          18.583178449752157,
          19.965079750481266,
          22.11362067697662,
          23.620762021211547,
          24.27183968415633,
          24.550841848918694,
          24.523524946136455,
          24.26295864430708,
          23.74151247946417,
          23.493071187434346,
          23.24714668822929,
          22.74998337301435,
          22.615102840757885,
          22.523773264294583,
          22.22773588451063,
          21.97591302094189,
          21.364036972140624,
          20.7360680885536,
          20.30334412206358,
          20.132093610959092,
          19.48092756829287,
          18.77675712975075,
          18.320028210094353,
          18.14467018689426,
          18.66975684557227,
          19.8741873397922,
          21.53547517444442,
          22.89321754062854,
          23.954793584700617,
          24.402776500809026,
          24.15989247186033,
          23.858861492800656,
          23.61236403768118
         ],
         "yaxis": "y"
        },
        {
         "hovertemplate": "Tech=Hidro<br>timestamp=%{x}<br>DispatchGen_MW=%{y}<extra></extra>",
         "legendgroup": "Hidro",
         "line": {
          "color": "#EF553B",
          "dash": "solid"
         },
         "marker": {
          "symbol": "circle"
         },
         "mode": "lines",
         "name": "Hidro",
         "showlegend": true,
         "type": "scattergl",
         "x": [
          "2023_Q1_L_0h",
          "2023_Q1_L_1h",
          "2023_Q1_L_2h",
          "2023_Q1_L_3h",
          "2023_Q1_L_4h",
          "2023_Q1_L_5h",
          "2023_Q1_L_6h",
          "2023_Q1_L_7h",
          "2023_Q1_L_8h",
          "2023_Q1_L_9h",
          "2023_Q1_L_10h",
          "2023_Q1_L_11h",
          "2023_Q1_L_12h",
          "2023_Q1_L_13h",
          "2023_Q1_L_14h",
          "2023_Q1_L_15h",
          "2023_Q1_L_16h",
          "2023_Q1_L_17h",
          "2023_Q1_L_18h",
          "2023_Q1_L_19h",
          "2023_Q1_L_20h",
          "2023_Q1_L_21h",
          "2023_Q1_L_22h",
          "2023_Q1_L_23h",
          "2023_Q1_H_0h",
          "2023_Q1_H_1h",
          "2023_Q1_H_2h",
          "2023_Q1_H_3h",
          "2023_Q1_H_4h",
          "2023_Q1_H_5h",
          "2023_Q1_H_6h",
          "2023_Q1_H_7h",
          "2023_Q1_H_8h",
          "2023_Q1_H_9h",
          "2023_Q1_H_10h",
          "2023_Q1_H_11h",
          "2023_Q1_H_12h",
          "2023_Q1_H_13h",
          "2023_Q1_H_14h",
          "2023_Q1_H_15h",
          "2023_Q1_H_16h",
          "2023_Q1_H_17h",
          "2023_Q1_H_18h",
          "2023_Q1_H_19h",
          "2023_Q1_H_20h",
          "2023_Q1_H_21h",
          "2023_Q1_H_22h",
          "2023_Q1_H_23h",
          "2023_Q2_L_0h",
          "2023_Q2_L_1h",
          "2023_Q2_L_2h",
          "2023_Q2_L_3h",
          "2023_Q2_L_4h",
          "2023_Q2_L_5h",
          "2023_Q2_L_6h",
          "2023_Q2_L_7h",
          "2023_Q2_L_8h",
          "2023_Q2_L_9h",
          "2023_Q2_L_10h",
          "2023_Q2_L_11h",
          "2023_Q2_L_12h",
          "2023_Q2_L_13h",
          "2023_Q2_L_14h",
          "2023_Q2_L_15h",
          "2023_Q2_L_16h",
          "2023_Q2_L_17h",
          "2023_Q2_L_18h",
          "2023_Q2_L_19h",
          "2023_Q2_L_20h",
          "2023_Q2_L_21h",
          "2023_Q2_L_22h",
          "2023_Q2_L_23h",
          "2023_Q2_H_0h",
          "2023_Q2_H_1h",
          "2023_Q2_H_2h",
          "2023_Q2_H_3h",
          "2023_Q2_H_4h",
          "2023_Q2_H_5h",
          "2023_Q2_H_6h",
          "2023_Q2_H_7h",
          "2023_Q2_H_8h",
          "2023_Q2_H_9h",
          "2023_Q2_H_10h",
          "2023_Q2_H_11h",
          "2023_Q2_H_12h",
          "2023_Q2_H_13h",
          "2023_Q2_H_14h",
          "2023_Q2_H_15h",
          "2023_Q2_H_16h",
          "2023_Q2_H_17h",
          "2023_Q2_H_18h",
          "2023_Q2_H_19h",
          "2023_Q2_H_20h",
          "2023_Q2_H_21h",
          "2023_Q2_H_22h",
          "2023_Q2_H_23h",
          "2023_Q3_L_0h",
          "2023_Q3_L_1h",
          "2023_Q3_L_2h",
          "2023_Q3_L_3h",
          "2023_Q3_L_4h",
          "2023_Q3_L_5h",
          "2023_Q3_L_6h",
          "2023_Q3_L_7h",
          "2023_Q3_L_8h",
          "2023_Q3_L_9h",
          "2023_Q3_L_10h",
          "2023_Q3_L_11h",
          "2023_Q3_L_12h",
          "2023_Q3_L_13h",
          "2023_Q3_L_14h",
          "2023_Q3_L_15h",
          "2023_Q3_L_16h",
          "2023_Q3_L_17h",
          "2023_Q3_L_18h",
          "2023_Q3_L_19h",
          "2023_Q3_L_20h",
          "2023_Q3_L_21h",
          "2023_Q3_L_22h",
          "2023_Q3_L_23h",
          "2023_Q3_H_0h",
          "2023_Q3_H_1h",
          "2023_Q3_H_2h",
          "2023_Q3_H_3h",
          "2023_Q3_H_4h",
          "2023_Q3_H_5h",
          "2023_Q3_H_6h",
          "2023_Q3_H_7h",
          "2023_Q3_H_8h",
          "2023_Q3_H_9h",
          "2023_Q3_H_10h",
          "2023_Q3_H_11h",
          "2023_Q3_H_12h",
          "2023_Q3_H_13h",
          "2023_Q3_H_14h",
          "2023_Q3_H_15h",
          "2023_Q3_H_16h",
          "2023_Q3_H_17h",
          "2023_Q3_H_18h",
          "2023_Q3_H_19h",
          "2023_Q3_H_20h",
          "2023_Q3_H_21h",
          "2023_Q3_H_22h",
          "2023_Q3_H_23h",
          "2023_Q4_L_0h",
          "2023_Q4_L_1h",
          "2023_Q4_L_2h",
          "2023_Q4_L_3h",
          "2023_Q4_L_4h",
          "2023_Q4_L_5h",
          "2023_Q4_L_6h",
          "2023_Q4_L_7h",
          "2023_Q4_L_8h",
          "2023_Q4_L_9h",
          "2023_Q4_L_10h",
          "2023_Q4_L_11h",
          "2023_Q4_L_12h",
          "2023_Q4_L_13h",
          "2023_Q4_L_14h",
          "2023_Q4_L_15h",
          "2023_Q4_L_16h",
          "2023_Q4_L_17h",
          "2023_Q4_L_18h",
          "2023_Q4_L_19h",
          "2023_Q4_L_20h",
          "2023_Q4_L_21h",
          "2023_Q4_L_22h",
          "2023_Q4_L_23h",
          "2023_Q4_H_0h",
          "2023_Q4_H_1h",
          "2023_Q4_H_2h",
          "2023_Q4_H_3h",
          "2023_Q4_H_4h",
          "2023_Q4_H_5h",
          "2023_Q4_H_6h",
          "2023_Q4_H_7h",
          "2023_Q4_H_8h",
          "2023_Q4_H_9h",
          "2023_Q4_H_10h",
          "2023_Q4_H_11h",
          "2023_Q4_H_12h",
          "2023_Q4_H_13h",
          "2023_Q4_H_14h",
          "2023_Q4_H_15h",
          "2023_Q4_H_16h",
          "2023_Q4_H_17h",
          "2023_Q4_H_18h",
          "2023_Q4_H_19h",
          "2023_Q4_H_20h",
          "2023_Q4_H_21h",
          "2023_Q4_H_22h",
          "2023_Q4_H_23h",
          "2024_Q1_L_0h",
          "2024_Q1_L_1h",
          "2024_Q1_L_2h",
          "2024_Q1_L_3h",
          "2024_Q1_L_4h",
          "2024_Q1_L_5h",
          "2024_Q1_L_6h",
          "2024_Q1_L_7h",
          "2024_Q1_L_8h",
          "2024_Q1_L_9h",
          "2024_Q1_L_10h",
          "2024_Q1_L_11h",
          "2024_Q1_L_12h",
          "2024_Q1_L_13h",
          "2024_Q1_L_14h",
          "2024_Q1_L_15h",
          "2024_Q1_L_16h",
          "2024_Q1_L_17h",
          "2024_Q1_L_18h",
          "2024_Q1_L_19h",
          "2024_Q1_L_20h",
          "2024_Q1_L_21h",
          "2024_Q1_L_22h",
          "2024_Q1_L_23h",
          "2024_Q1_H_0h",
          "2024_Q1_H_1h",
          "2024_Q1_H_2h",
          "2024_Q1_H_3h",
          "2024_Q1_H_4h",
          "2024_Q1_H_5h",
          "2024_Q1_H_6h",
          "2024_Q1_H_7h",
          "2024_Q1_H_8h",
          "2024_Q1_H_9h",
          "2024_Q1_H_10h",
          "2024_Q1_H_11h",
          "2024_Q1_H_12h",
          "2024_Q1_H_13h",
          "2024_Q1_H_14h",
          "2024_Q1_H_15h",
          "2024_Q1_H_16h",
          "2024_Q1_H_17h",
          "2024_Q1_H_18h",
          "2024_Q1_H_19h",
          "2024_Q1_H_20h",
          "2024_Q1_H_21h",
          "2024_Q1_H_22h",
          "2024_Q1_H_23h",
          "2024_Q2_L_0h",
          "2024_Q2_L_1h",
          "2024_Q2_L_2h",
          "2024_Q2_L_3h",
          "2024_Q2_L_4h",
          "2024_Q2_L_5h",
          "2024_Q2_L_6h",
          "2024_Q2_L_7h",
          "2024_Q2_L_8h",
          "2024_Q2_L_9h",
          "2024_Q2_L_10h",
          "2024_Q2_L_11h",
          "2024_Q2_L_12h",
          "2024_Q2_L_13h",
          "2024_Q2_L_14h",
          "2024_Q2_L_15h",
          "2024_Q2_L_16h",
          "2024_Q2_L_17h",
          "2024_Q2_L_18h",
          "2024_Q2_L_19h",
          "2024_Q2_L_20h",
          "2024_Q2_L_21h",
          "2024_Q2_L_22h",
          "2024_Q2_L_23h",
          "2024_Q2_H_0h",
          "2024_Q2_H_1h",
          "2024_Q2_H_2h",
          "2024_Q2_H_3h",
          "2024_Q2_H_4h",
          "2024_Q2_H_5h",
          "2024_Q2_H_6h",
          "2024_Q2_H_7h",
          "2024_Q2_H_8h",
          "2024_Q2_H_9h",
          "2024_Q2_H_10h",
          "2024_Q2_H_11h",
          "2024_Q2_H_12h",
          "2024_Q2_H_13h",
          "2024_Q2_H_14h",
          "2024_Q2_H_15h",
          "2024_Q2_H_16h",
          "2024_Q2_H_17h",
          "2024_Q2_H_18h",
          "2024_Q2_H_19h",
          "2024_Q2_H_20h",
          "2024_Q2_H_21h",
          "2024_Q2_H_22h",
          "2024_Q2_H_23h",
          "2024_Q3_L_0h",
          "2024_Q3_L_1h",
          "2024_Q3_L_2h",
          "2024_Q3_L_3h",
          "2024_Q3_L_4h",
          "2024_Q3_L_5h",
          "2024_Q3_L_6h",
          "2024_Q3_L_7h",
          "2024_Q3_L_8h",
          "2024_Q3_L_9h",
          "2024_Q3_L_10h",
          "2024_Q3_L_11h",
          "2024_Q3_L_12h",
          "2024_Q3_L_13h",
          "2024_Q3_L_14h",
          "2024_Q3_L_15h",
          "2024_Q3_L_16h",
          "2024_Q3_L_17h",
          "2024_Q3_L_18h",
          "2024_Q3_L_19h",
          "2024_Q3_L_20h",
          "2024_Q3_L_21h",
          "2024_Q3_L_22h",
          "2024_Q3_L_23h",
          "2024_Q3_H_0h",
          "2024_Q3_H_1h",
          "2024_Q3_H_2h",
          "2024_Q3_H_3h",
          "2024_Q3_H_4h",
          "2024_Q3_H_5h",
          "2024_Q3_H_6h",
          "2024_Q3_H_7h",
          "2024_Q3_H_8h",
          "2024_Q3_H_9h",
          "2024_Q3_H_10h",
          "2024_Q3_H_11h",
          "2024_Q3_H_12h",
          "2024_Q3_H_13h",
          "2024_Q3_H_14h",
          "2024_Q3_H_15h",
          "2024_Q3_H_16h",
          "2024_Q3_H_17h",
          "2024_Q3_H_18h",
          "2024_Q3_H_19h",
          "2024_Q3_H_20h",
          "2024_Q3_H_21h",
          "2024_Q3_H_22h",
          "2024_Q3_H_23h",
          "2024_Q4_L_0h",
          "2024_Q4_L_1h",
          "2024_Q4_L_2h",
          "2024_Q4_L_3h",
          "2024_Q4_L_4h",
          "2024_Q4_L_5h",
          "2024_Q4_L_6h",
          "2024_Q4_L_7h",
          "2024_Q4_L_8h",
          "2024_Q4_L_9h",
          "2024_Q4_L_10h",
          "2024_Q4_L_11h",
          "2024_Q4_L_12h",
          "2024_Q4_L_13h",
          "2024_Q4_L_14h",
          "2024_Q4_L_15h",
          "2024_Q4_L_16h",
          "2024_Q4_L_17h",
          "2024_Q4_L_18h",
          "2024_Q4_L_19h",
          "2024_Q4_L_20h",
          "2024_Q4_L_21h",
          "2024_Q4_L_22h",
          "2024_Q4_L_23h",
          "2024_Q4_H_0h",
          "2024_Q4_H_1h",
          "2024_Q4_H_2h",
          "2024_Q4_H_3h",
          "2024_Q4_H_4h",
          "2024_Q4_H_5h",
          "2024_Q4_H_6h",
          "2024_Q4_H_7h",
          "2024_Q4_H_8h",
          "2024_Q4_H_9h",
          "2024_Q4_H_10h",
          "2024_Q4_H_11h",
          "2024_Q4_H_12h",
          "2024_Q4_H_13h",
          "2024_Q4_H_14h",
          "2024_Q4_H_15h",
          "2024_Q4_H_16h",
          "2024_Q4_H_17h",
          "2024_Q4_H_18h",
          "2024_Q4_H_19h",
          "2024_Q4_H_20h",
          "2024_Q4_H_21h",
          "2024_Q4_H_22h",
          "2024_Q4_H_23h"
         ],
         "xaxis": "x",
         "y": [
          7042.448624369062,
          6704.5172870211845,
          6509.254063339146,
          6322.6813794014315,
          6228.570677188285,
          6345.072896441141,
          6583.429554165991,
          6644.059730414579,
          6905.394086870821,
          7202.659926446246,
          7377.328624409941,
          7586.165335013647,
          7778.623216286895,
          7783.009551684744,
          7856.997788695295,
          8006.939187094518,
          8075.921739679761,
          8026.225286677263,
          7910.597311183012,
          8273.5653851786,
          8368.12090020493,
          8163.755093875173,
          7850.5545977348265,
          7442.09267471638,
          6843.966253490028,
          6713.028518836842,
          6528.172091498051,
          6376.534466645487,
          6264.18539426955,
          6202.48940967209,
          6127.701603202367,
          5902.647820195033,
          5975.719135223465,
          6183.644801384021,
          6388.805164903435,
          6570.201286121006,
          6750.2938820090185,
          6862.932190682278,
          6913.67267429162,
          6933.656415472237,
          6965.23458024114,
          6989.632336131704,
          7045.44078168106,
          7579.296625811922,
          7772.637710835076,
          7678.029044866204,
          7451.924464571666,
          7154.575623422133,
          6930.393890617096,
          6577.897730674457,
          6381.635314773562,
          6191.388572520386,
          6105.812306338798,
          6265.08988187359,
          6544.627297004701,
          6591.928022377766,
          6854.14189763452,
          7133.761488177833,
          7301.662077625369,
          7528.334155767437,
          7708.4507377604905,
          7685.950123359155,
          7782.242165988698,
          7932.282531928639,
          8004.687155147897,
          7952.271289567638,
          7791.682600675749,
          8131.214147047987,
          8301.900564386677,
          8109.286210623019,
          7777.881768705358,
          7340.577116487723,
          6777.403070646665,
          6742.749919281304,
          6520.508889765946,
          6352.8056296352415,
          6232.145896562174,
          6176.886424936453,
          6073.654100931858,
          5900.518605031272,
          6033.08399929935,
          6234.014359762018,
          6429.620044950939,
          6608.914069744487,
          6780.218386167712,
          6886.764308932892,
          6940.392403351178,
          6934.474614274224,
          6945.727247767033,
          6958.956753868581,
          6993.558815854048,
          7504.3949887353965,
          7763.80223970135,
          7667.032561049194,
          7415.157048347711,
          7102.422968750513,
          7023.115965164103,
          6514.464366797337,
          6225.251918314922,
          6018.520365503202,
          5919.9888434795475,
          6042.60400944114,
          6280.369140768472,
          6356.620607641308,
          6757.274683793247,
          7161.233355695658,
          7407.478742896953,
          7717.989950535994,
          7986.466914847898,
          7982.305368445866,
          8092.395663636178,
          8245.351903177934,
          8301.72350539421,
          8257.254187938986,
          8079.167377924434,
          8358.83566208737,
          8570.486030229353,
          8428.957265809368,
          8115.585684901311,
          7598.192292475079,
          7148.752499157094,
          7057.222355907451,
          6760.95127995736,
          6523.007581372094,
          6345.946568031967,
          6247.903962341384,
          6136.679044363143,
          5948.112648223523,
          6081.705369737505,
          6277.371128136183,
          6471.700170050973,
          6690.99893989759,
          6916.720064782899,
          7097.4105222402,
          7196.6161551197665,
          7207.790744479716,
          7232.026237269024,
          7248.47128923733,
          7281.995622139273,
          7720.16782137092,
          8007.876617642747,
          7942.45162951091,
          7768.492036505921,
          7476.870839784126,
          7162.723121443986,
          6730.133712284791,
          6433.658824172091,
          6228.011876754719,
          6127.116830626609,
          6259.6794610169545,
          6522.257987131049,
          6615.811561871794,
          6997.95620740788,
          7319.944590616097,
          7520.757711954461,
          7748.98687024042,
          7953.883644082862,
          7957.5521079957525,
          8076.8061710301345,
          8273.522494988949,
          8354.424073177644,
          8309.552017210972,
          8233.296559551402,
          8701.17525067604,
          8684.977235069671,
          8473.064084509195,
          8073.792707744983,
          7589.93787947712,
          6902.878668831353,
          6737.682366858413,
          6459.893453281545,
          6226.867821277535,
          6021.164429557082,
          5937.780049806567,
          5796.651812468618,
          5559.05175992166,
          5718.045944901031,
          5978.485900529266,
          6231.765318286915,
          6488.120969603109,
          6739.227971296668,
          6905.697078484504,
          6991.185883163502,
          7002.646596121005,
          7053.613618884664,
          7085.522202221574,
          7275.015287612979,
          7979.576070480569,
          8079.475694671222,
          7998.251092988778,
          7760.257517362398,
          7360.186237955195,
          7190.866353757649,
          6814.232034200409,
          6617.353899117906,
          6479.242927415929,
          6400.785457980628,
          6478.406448121992,
          6676.5979159360295,
          6656.399894330265,
          6729.156788256509,
          6887.1449359049,
          6958.433641198206,
          7172.416637338104,
          7461.210388200507,
          7596.869144199467,
          7770.147303854656,
          7986.853048151247,
          8108.503184440682,
          8134.503965468199,
          7992.1554224704005,
          8352.364478930705,
          8519.759849262697,
          8353.409345904416,
          8050.258841421622,
          7600.913012100529,
          6568.49874724787,
          6489.955171462954,
          6232.326967790287,
          5981.345559197731,
          5881.122191746972,
          5919.19627328972,
          5957.02873377502,
          5826.696057485574,
          5898.849086287763,
          6126.349538447713,
          6263.091997196578,
          6476.803412136353,
          6714.272605362358,
          6823.313463466193,
          6900.131605837655,
          7033.81181028569,
          7345.373964995231,
          7506.733037043776,
          7517.012742162284,
          8002.239120285793,
          8150.488497781215,
          7937.438099582393,
          7570.286039241781,
          7052.057554838593,
          7042.905688946342,
          6738.858830726571,
          6536.350292491202,
          6391.879100590236,
          6319.551133712303,
          6404.611376245206,
          6570.964635260137,
          6544.795401199203,
          6710.774498218977,
          6892.557040928772,
          6996.614309559891,
          7230.276052764672,
          7510.292201378428,
          7553.569660125554,
          7674.17322487009,
          7838.3421616204005,
          7941.760421095276,
          7952.077742585434,
          7836.552781174092,
          8238.427811440726,
          8410.672049478882,
          8244.708103659172,
          7904.338103193464,
          7440.046425938235,
          6495.492982127144,
          6097.975041492179,
          5905.548650649106,
          5764.804125701109,
          5679.509699235229,
          5839.007696179191,
          6103.778578850137,
          6043.71243119692,
          6180.603588130342,
          6347.251392820475,
          6419.177694666061,
          6666.359092145261,
          6945.536527229818,
          6983.216189209166,
          7201.918625308279,
          7438.256374960234,
          7579.733935893165,
          7558.017403227544,
          7371.017167885284,
          7679.747309532966,
          7812.133549497214,
          7647.3466773765185,
          7326.734393029133,
          6888.328222998821,
          7299.6143543573735,
          6963.978552415525,
          6674.309658869201,
          6464.309509632843,
          6351.1954147024935,
          6430.912631594212,
          6522.242243566201,
          6433.747335021974,
          6658.970782177997,
          6905.511456614346,
          7064.195899658502,
          7277.437430897891,
          7484.845322656239,
          7566.370924668005,
          7824.113365640715,
          8043.746593710408,
          8136.545893059963,
          8139.900670301253,
          8012.02458879074,
          8334.523535088962,
          8570.146146605584,
          8436.40986320747,
          8136.208584095194,
          7710.373049741314,
          6742.151091107924,
          6192.8647868885655,
          5902.470946495226,
          5673.311607120862,
          5581.909269606269,
          5723.007015997125,
          5945.280316882222,
          5908.709045667274,
          6157.898864178675,
          6411.153003887943,
          6524.296802708077,
          6778.066198451385,
          7048.929895687002,
          7113.817549332773,
          7423.143175373541,
          7869.207289624336,
          8090.591501670761,
          8090.52357229486,
          7878.372923499843,
          8118.456402270103,
          8306.327444606408,
          8166.214043548813,
          7850.14460797633,
          7290.3937749698625,
          7309.656748471793,
          6881.759358647153,
          6615.820557144917,
          6423.6419916395935,
          6312.461593485174,
          6399.859539325649,
          6535.488336771966,
          6449.448320846961,
          6664.7711036055025,
          6901.611942722566,
          7047.6762232884075,
          7287.356821754597,
          7545.552966070994,
          7638.357403727071,
          7864.424524278546,
          8159.03126510557,
          8410.39142457943,
          8509.343149365961,
          8494.130154174587,
          8910.311825491646,
          8919.361741909952,
          8758.944860494299,
          8451.890996581935,
          7857.730131365603,
          6462.440152821422,
          5975.684759190885,
          5669.54030510326,
          5448.423045953899,
          5341.571258169511,
          5478.764668165302,
          5726.646842254505,
          5700.439063090623,
          5933.21136079873,
          6199.492609007191,
          6326.1105264007365,
          6562.017007638036,
          6830.493518597206,
          6912.774387249324,
          7198.675484789966,
          7622.620223084775,
          7878.025493495466,
          7925.282793672313,
          7852.444057282545,
          8303.12433324459,
          8261.94786309243,
          8055.251396569957,
          7597.289343047316,
          7026.7732557453855
         ],
         "yaxis": "y"
        },
        {
         "hovertemplate": "Tech=Solar<br>timestamp=%{x}<br>DispatchGen_MW=%{y}<extra></extra>",
         "legendgroup": "Solar",
         "line": {
          "color": "#00cc96",
          "dash": "solid"
         },
         "marker": {
          "symbol": "circle"
         },
         "mode": "lines",
         "name": "Solar",
         "showlegend": true,
         "type": "scattergl",
         "x": [
          "2023_Q1_L_0h",
          "2023_Q1_L_1h",
          "2023_Q1_L_2h",
          "2023_Q1_L_3h",
          "2023_Q1_L_4h",
          "2023_Q1_L_5h",
          "2023_Q1_L_6h",
          "2023_Q1_L_7h",
          "2023_Q1_L_8h",
          "2023_Q1_L_9h",
          "2023_Q1_L_10h",
          "2023_Q1_L_11h",
          "2023_Q1_L_12h",
          "2023_Q1_L_13h",
          "2023_Q1_L_14h",
          "2023_Q1_L_15h",
          "2023_Q1_L_16h",
          "2023_Q1_L_17h",
          "2023_Q1_L_18h",
          "2023_Q1_L_19h",
          "2023_Q1_L_20h",
          "2023_Q1_L_21h",
          "2023_Q1_L_22h",
          "2023_Q1_L_23h",
          "2023_Q1_H_0h",
          "2023_Q1_H_1h",
          "2023_Q1_H_2h",
          "2023_Q1_H_3h",
          "2023_Q1_H_4h",
          "2023_Q1_H_5h",
          "2023_Q1_H_6h",
          "2023_Q1_H_7h",
          "2023_Q1_H_8h",
          "2023_Q1_H_9h",
          "2023_Q1_H_10h",
          "2023_Q1_H_11h",
          "2023_Q1_H_12h",
          "2023_Q1_H_13h",
          "2023_Q1_H_14h",
          "2023_Q1_H_15h",
          "2023_Q1_H_16h",
          "2023_Q1_H_17h",
          "2023_Q1_H_18h",
          "2023_Q1_H_19h",
          "2023_Q1_H_20h",
          "2023_Q1_H_21h",
          "2023_Q1_H_22h",
          "2023_Q1_H_23h",
          "2023_Q2_L_0h",
          "2023_Q2_L_1h",
          "2023_Q2_L_2h",
          "2023_Q2_L_3h",
          "2023_Q2_L_4h",
          "2023_Q2_L_5h",
          "2023_Q2_L_6h",
          "2023_Q2_L_7h",
          "2023_Q2_L_8h",
          "2023_Q2_L_9h",
          "2023_Q2_L_10h",
          "2023_Q2_L_11h",
          "2023_Q2_L_12h",
          "2023_Q2_L_13h",
          "2023_Q2_L_14h",
          "2023_Q2_L_15h",
          "2023_Q2_L_16h",
          "2023_Q2_L_17h",
          "2023_Q2_L_18h",
          "2023_Q2_L_19h",
          "2023_Q2_L_20h",
          "2023_Q2_L_21h",
          "2023_Q2_L_22h",
          "2023_Q2_L_23h",
          "2023_Q2_H_0h",
          "2023_Q2_H_1h",
          "2023_Q2_H_2h",
          "2023_Q2_H_3h",
          "2023_Q2_H_4h",
          "2023_Q2_H_5h",
          "2023_Q2_H_6h",
          "2023_Q2_H_7h",
          "2023_Q2_H_8h",
          "2023_Q2_H_9h",
          "2023_Q2_H_10h",
          "2023_Q2_H_11h",
          "2023_Q2_H_12h",
          "2023_Q2_H_13h",
          "2023_Q2_H_14h",
          "2023_Q2_H_15h",
          "2023_Q2_H_16h",
          "2023_Q2_H_17h",
          "2023_Q2_H_18h",
          "2023_Q2_H_19h",
          "2023_Q2_H_20h",
          "2023_Q2_H_21h",
          "2023_Q2_H_22h",
          "2023_Q2_H_23h",
          "2023_Q3_L_0h",
          "2023_Q3_L_1h",
          "2023_Q3_L_2h",
          "2023_Q3_L_3h",
          "2023_Q3_L_4h",
          "2023_Q3_L_5h",
          "2023_Q3_L_6h",
          "2023_Q3_L_7h",
          "2023_Q3_L_8h",
          "2023_Q3_L_9h",
          "2023_Q3_L_10h",
          "2023_Q3_L_11h",
          "2023_Q3_L_12h",
          "2023_Q3_L_13h",
          "2023_Q3_L_14h",
          "2023_Q3_L_15h",
          "2023_Q3_L_16h",
          "2023_Q3_L_17h",
          "2023_Q3_L_18h",
          "2023_Q3_L_19h",
          "2023_Q3_L_20h",
          "2023_Q3_L_21h",
          "2023_Q3_L_22h",
          "2023_Q3_L_23h",
          "2023_Q3_H_0h",
          "2023_Q3_H_1h",
          "2023_Q3_H_2h",
          "2023_Q3_H_3h",
          "2023_Q3_H_4h",
          "2023_Q3_H_5h",
          "2023_Q3_H_6h",
          "2023_Q3_H_7h",
          "2023_Q3_H_8h",
          "2023_Q3_H_9h",
          "2023_Q3_H_10h",
          "2023_Q3_H_11h",
          "2023_Q3_H_12h",
          "2023_Q3_H_13h",
          "2023_Q3_H_14h",
          "2023_Q3_H_15h",
          "2023_Q3_H_16h",
          "2023_Q3_H_17h",
          "2023_Q3_H_18h",
          "2023_Q3_H_19h",
          "2023_Q3_H_20h",
          "2023_Q3_H_21h",
          "2023_Q3_H_22h",
          "2023_Q3_H_23h",
          "2023_Q4_L_0h",
          "2023_Q4_L_1h",
          "2023_Q4_L_2h",
          "2023_Q4_L_3h",
          "2023_Q4_L_4h",
          "2023_Q4_L_5h",
          "2023_Q4_L_6h",
          "2023_Q4_L_7h",
          "2023_Q4_L_8h",
          "2023_Q4_L_9h",
          "2023_Q4_L_10h",
          "2023_Q4_L_11h",
          "2023_Q4_L_12h",
          "2023_Q4_L_13h",
          "2023_Q4_L_14h",
          "2023_Q4_L_15h",
          "2023_Q4_L_16h",
          "2023_Q4_L_17h",
          "2023_Q4_L_18h",
          "2023_Q4_L_19h",
          "2023_Q4_L_20h",
          "2023_Q4_L_21h",
          "2023_Q4_L_22h",
          "2023_Q4_L_23h",
          "2023_Q4_H_0h",
          "2023_Q4_H_1h",
          "2023_Q4_H_2h",
          "2023_Q4_H_3h",
          "2023_Q4_H_4h",
          "2023_Q4_H_5h",
          "2023_Q4_H_6h",
          "2023_Q4_H_7h",
          "2023_Q4_H_8h",
          "2023_Q4_H_9h",
          "2023_Q4_H_10h",
          "2023_Q4_H_11h",
          "2023_Q4_H_12h",
          "2023_Q4_H_13h",
          "2023_Q4_H_14h",
          "2023_Q4_H_15h",
          "2023_Q4_H_16h",
          "2023_Q4_H_17h",
          "2023_Q4_H_18h",
          "2023_Q4_H_19h",
          "2023_Q4_H_20h",
          "2023_Q4_H_21h",
          "2023_Q4_H_22h",
          "2023_Q4_H_23h",
          "2024_Q1_L_0h",
          "2024_Q1_L_1h",
          "2024_Q1_L_2h",
          "2024_Q1_L_3h",
          "2024_Q1_L_4h",
          "2024_Q1_L_5h",
          "2024_Q1_L_6h",
          "2024_Q1_L_7h",
          "2024_Q1_L_8h",
          "2024_Q1_L_9h",
          "2024_Q1_L_10h",
          "2024_Q1_L_11h",
          "2024_Q1_L_12h",
          "2024_Q1_L_13h",
          "2024_Q1_L_14h",
          "2024_Q1_L_15h",
          "2024_Q1_L_16h",
          "2024_Q1_L_17h",
          "2024_Q1_L_18h",
          "2024_Q1_L_19h",
          "2024_Q1_L_20h",
          "2024_Q1_L_21h",
          "2024_Q1_L_22h",
          "2024_Q1_L_23h",
          "2024_Q1_H_0h",
          "2024_Q1_H_1h",
          "2024_Q1_H_2h",
          "2024_Q1_H_3h",
          "2024_Q1_H_4h",
          "2024_Q1_H_5h",
          "2024_Q1_H_6h",
          "2024_Q1_H_7h",
          "2024_Q1_H_8h",
          "2024_Q1_H_9h",
          "2024_Q1_H_10h",
          "2024_Q1_H_11h",
          "2024_Q1_H_12h",
          "2024_Q1_H_13h",
          "2024_Q1_H_14h",
          "2024_Q1_H_15h",
          "2024_Q1_H_16h",
          "2024_Q1_H_17h",
          "2024_Q1_H_18h",
          "2024_Q1_H_19h",
          "2024_Q1_H_20h",
          "2024_Q1_H_21h",
          "2024_Q1_H_22h",
          "2024_Q1_H_23h",
          "2024_Q2_L_0h",
          "2024_Q2_L_1h",
          "2024_Q2_L_2h",
          "2024_Q2_L_3h",
          "2024_Q2_L_4h",
          "2024_Q2_L_5h",
          "2024_Q2_L_6h",
          "2024_Q2_L_7h",
          "2024_Q2_L_8h",
          "2024_Q2_L_9h",
          "2024_Q2_L_10h",
          "2024_Q2_L_11h",
          "2024_Q2_L_12h",
          "2024_Q2_L_13h",
          "2024_Q2_L_14h",
          "2024_Q2_L_15h",
          "2024_Q2_L_16h",
          "2024_Q2_L_17h",
          "2024_Q2_L_18h",
          "2024_Q2_L_19h",
          "2024_Q2_L_20h",
          "2024_Q2_L_21h",
          "2024_Q2_L_22h",
          "2024_Q2_L_23h",
          "2024_Q2_H_0h",
          "2024_Q2_H_1h",
          "2024_Q2_H_2h",
          "2024_Q2_H_3h",
          "2024_Q2_H_4h",
          "2024_Q2_H_5h",
          "2024_Q2_H_6h",
          "2024_Q2_H_7h",
          "2024_Q2_H_8h",
          "2024_Q2_H_9h",
          "2024_Q2_H_10h",
          "2024_Q2_H_11h",
          "2024_Q2_H_12h",
          "2024_Q2_H_13h",
          "2024_Q2_H_14h",
          "2024_Q2_H_15h",
          "2024_Q2_H_16h",
          "2024_Q2_H_17h",
          "2024_Q2_H_18h",
          "2024_Q2_H_19h",
          "2024_Q2_H_20h",
          "2024_Q2_H_21h",
          "2024_Q2_H_22h",
          "2024_Q2_H_23h",
          "2024_Q3_L_0h",
          "2024_Q3_L_1h",
          "2024_Q3_L_2h",
          "2024_Q3_L_3h",
          "2024_Q3_L_4h",
          "2024_Q3_L_5h",
          "2024_Q3_L_6h",
          "2024_Q3_L_7h",
          "2024_Q3_L_8h",
          "2024_Q3_L_9h",
          "2024_Q3_L_10h",
          "2024_Q3_L_11h",
          "2024_Q3_L_12h",
          "2024_Q3_L_13h",
          "2024_Q3_L_14h",
          "2024_Q3_L_15h",
          "2024_Q3_L_16h",
          "2024_Q3_L_17h",
          "2024_Q3_L_18h",
          "2024_Q3_L_19h",
          "2024_Q3_L_20h",
          "2024_Q3_L_21h",
          "2024_Q3_L_22h",
          "2024_Q3_L_23h",
          "2024_Q3_H_0h",
          "2024_Q3_H_1h",
          "2024_Q3_H_2h",
          "2024_Q3_H_3h",
          "2024_Q3_H_4h",
          "2024_Q3_H_5h",
          "2024_Q3_H_6h",
          "2024_Q3_H_7h",
          "2024_Q3_H_8h",
          "2024_Q3_H_9h",
          "2024_Q3_H_10h",
          "2024_Q3_H_11h",
          "2024_Q3_H_12h",
          "2024_Q3_H_13h",
          "2024_Q3_H_14h",
          "2024_Q3_H_15h",
          "2024_Q3_H_16h",
          "2024_Q3_H_17h",
          "2024_Q3_H_18h",
          "2024_Q3_H_19h",
          "2024_Q3_H_20h",
          "2024_Q3_H_21h",
          "2024_Q3_H_22h",
          "2024_Q3_H_23h",
          "2024_Q4_L_0h",
          "2024_Q4_L_1h",
          "2024_Q4_L_2h",
          "2024_Q4_L_3h",
          "2024_Q4_L_4h",
          "2024_Q4_L_5h",
          "2024_Q4_L_6h",
          "2024_Q4_L_7h",
          "2024_Q4_L_8h",
          "2024_Q4_L_9h",
          "2024_Q4_L_10h",
          "2024_Q4_L_11h",
          "2024_Q4_L_12h",
          "2024_Q4_L_13h",
          "2024_Q4_L_14h",
          "2024_Q4_L_15h",
          "2024_Q4_L_16h",
          "2024_Q4_L_17h",
          "2024_Q4_L_18h",
          "2024_Q4_L_19h",
          "2024_Q4_L_20h",
          "2024_Q4_L_21h",
          "2024_Q4_L_22h",
          "2024_Q4_L_23h",
          "2024_Q4_H_0h",
          "2024_Q4_H_1h",
          "2024_Q4_H_2h",
          "2024_Q4_H_3h",
          "2024_Q4_H_4h",
          "2024_Q4_H_5h",
          "2024_Q4_H_6h",
          "2024_Q4_H_7h",
          "2024_Q4_H_8h",
          "2024_Q4_H_9h",
          "2024_Q4_H_10h",
          "2024_Q4_H_11h",
          "2024_Q4_H_12h",
          "2024_Q4_H_13h",
          "2024_Q4_H_14h",
          "2024_Q4_H_15h",
          "2024_Q4_H_16h",
          "2024_Q4_H_17h",
          "2024_Q4_H_18h",
          "2024_Q4_H_19h",
          "2024_Q4_H_20h",
          "2024_Q4_H_21h",
          "2024_Q4_H_22h",
          "2024_Q4_H_23h"
         ],
         "xaxis": "x",
         "y": [
          0,
          0,
          0,
          0,
          0,
          0.07449090073845002,
          46.29000457068385,
          169.90030579660106,
          323.38663579934234,
          461.09064007799867,
          562.9679868326313,
          613.5167457148556,
          610.2092297920516,
          550.7085569691392,
          442.1297144438093,
          303.5201665329947,
          156.26241094005036,
          32.56110117447269,
          0.028106863343530956,
          0,
          0,
          0,
          0,
          0,
          0,
          0,
          0,
          0,
          0,
          0.07553582732224555,
          46.399150205122474,
          169.47283613728763,
          322.47562627335424,
          460.1886583135856,
          562.1790074809086,
          612.7467821331417,
          609.145715531285,
          549.6595288200001,
          441.30488008180606,
          303.0497525484243,
          156.1141626414532,
          32.60540742020238,
          0.02820821183712798,
          0,
          0,
          0,
          0,
          0,
          0,
          0,
          0,
          0,
          0,
          0.6806506241748025,
          46.778437408356424,
          160.54629361360082,
          293.68879631952103,
          416.7730078823543,
          507.9495796863156,
          552.0613601447639,
          545.8030063763078,
          489.9065871977605,
          392.02014335209026,
          270.60249902052334,
          146.12534205362567,
          38.600566054827134,
          0.24074365658910754,
          0,
          0,
          0,
          0,
          0,
          0,
          0,
          0,
          0,
          0,
          0.6886869784732753,
          46.271850482153525,
          159.06000581153398,
          291.1826529883135,
          413.4517047133265,
          503.84850834296566,
          547.4396641185525,
          541.5718405608483,
          486.4567655336522,
          389.37020114019714,
          268.9405244467692,
          145.51528317531097,
          38.755714983971394,
          0.2521932418505698,
          0,
          0,
          0,
          0,
          0,
          0,
          0,
          0,
          0,
          0,
          1.3254222563032534,
          48.70300851165884,
          156.5390059119378,
          279.4278191628587,
          392.16283451821005,
          477.46076838061947,
          522.503738015679,
          518.54438313957,
          466.90875401391577,
          376.4062350334401,
          262.87010815602576,
          145.8209576715948,
          42.83635729365312,
          0.5114762657018453,
          0,
          0,
          0,
          0,
          0,
          0,
          0,
          0,
          0,
          0,
          1.3398656041912267,
          48.887056036866255,
          157.05612111341247,
          280.46930492245616,
          393.884415305791,
          479.8747366303578,
          525.5432841085344,
          521.8766904207727,
          470.24256024958476,
          379.1294344045216,
          264.577540157539,
          146.6932645246387,
          43.072924675745654,
          0.5149358137128999,
          0,
          0,
          0,
          0,
          0,
          0,
          0,
          0,
          0,
          0,
          0.15994116128609195,
          34.20104220795781,
          137.09942895276134,
          260.3556940801094,
          374.6130748291756,
          462.3318616140143,
          509.1694221641867,
          505.7171633857936,
          453.46681771090266,
          361.66223726378354,
          246.67962126674405,
          129.2870555780447,
          32.26049681299322,
          0.05116608760935733,
          0,
          0,
          0,
          0,
          0,
          0,
          0,
          0,
          0,
          0,
          0.16099156492978806,
          34.328852206120864,
          137.32176512017506,
          260.6676460913152,
          375.091156601634,
          463.06199586861635,
          510.19111290653,
          506.8948337367785,
          454.4488197729919,
          362.49013227549796,
          247.200260446782,
          129.4983647502162,
          32.19779790624699,
          0.05116662483169855,
          0,
          0,
          0,
          0,
          0,
          0,
          0,
          0,
          0,
          0,
          0.13731371194377495,
          125.03023342110914,
          444.99866352605846,
          842.8039847991523,
          1193.5424376152525,
          1447.816514290507,
          1568.014820712777,
          1556.1695575686986,
          1403.3631847707422,
          1124.6372325877521,
          768.9128630885535,
          389.3940047907811,
          74.95957205582219,
          0.04193756999190055,
          0,
          0,
          0,
          0,
          0,
          0,
          0,
          0,
          0,
          0,
          0.14147226264420962,
          125.6636407230995,
          444.66460873963354,
          841.5723770114122,
          1192.5554823376249,
          1447.3248838676914,
          1568.1028882724822,
          1555.7869929359351,
          1402.705750568901,
          1124.2742089225205,
          769.1326507022302,
          389.9272511438922,
          75.38482443072553,
          0.04202136319289789,
          0,
          0,
          0,
          0,
          0,
          0,
          0,
          0,
          0,
          0,
          2.3034094413956776,
          126.3551302387577,
          418.5660309706371,
          756.3349109800391,
          1065.9182656466799,
          1291.4464183633731,
          1395.8707414650735,
          1376.4313500013384,
          1233.0225709453453,
          984.1604900939752,
          677.7602800395327,
          364.1578592872576,
          94.79351923229974,
          0.5320584973739467,
          0,
          0,
          0,
          0,
          0,
          0,
          0,
          0,
          0,
          0,
          2.3381518051371284,
          124.95260775746455,
          414.6149306078587,
          749.6607389651666,
          1056.5788689420863,
          1279.261983765603,
          1381.3045909521745,
          1362.312551563849,
          1221.1505161521313,
          974.5605331962846,
          671.3278634475076,
          361.3713469061369,
          94.89964049223651,
          0.55597742980187,
          0,
          0,
          0,
          0,
          0,
          0,
          0,
          0,
          0,
          0,
          4.573154551227421,
          128.34671733133231,
          391.9602286359133,
          688.7734616962254,
          961.1219209006467,
          1168.375664020395,
          1277.7154699026628,
          1266.4880203232028,
          1137.8661247306914,
          914.7943927179375,
          637.0169283335701,
          351.9927895720162,
          104.58399972367985,
          1.2794271291302812,
          0,
          0,
          0,
          0,
          0,
          0,
          0,
          0,
          0,
          0,
          4.62430985156156,
          129.0238585896233,
          393.91747869051903,
          692.8569503988808,
          967.7695636713696,
          1177.4013539790444,
          1288.7052469483208,
          1278.1843456033453,
          1149.2797722203652,
          924.2629385823342,
          642.989942688137,
          355.0327457643274,
          105.37271188388411,
          1.2908130525180341,
          0,
          0,
          0,
          0,
          0,
          0,
          0,
          0,
          0,
          0,
          0.4262643026064267,
          83.81291174203528,
          333.33355790235436,
          630.2659282491824,
          904.5710874953427,
          1115.4455019513937,
          1228.0507309942316,
          1218.1866517448123,
          1089.2186872439252,
          865.276974185168,
          586.8767977880776,
          303.5720500577599,
          71.76285491681791,
          0.07508088754012521,
          0,
          0,
          0,
          0,
          0,
          0,
          0,
          0,
          0,
          0,
          0.4304583274705827,
          84.44743421237118,
          335.1220216721209,
          633.4436963634624,
          909.0495173292412,
          1121.032088385477,
          1234.0366557743737,
          1223.7650618831021,
          1093.596560025072,
          868.698635766053,
          589.08590645678,
          304.58227324042304,
          71.79457476429536,
          0.07517073156021321,
          0,
          0,
          0,
          0,
          0
         ],
         "yaxis": "y"
        },
        {
         "hovertemplate": "Tech=Thermal<br>timestamp=%{x}<br>DispatchGen_MW=%{y}<extra></extra>",
         "legendgroup": "Thermal",
         "line": {
          "color": "#ab63fa",
          "dash": "solid"
         },
         "marker": {
          "symbol": "circle"
         },
         "mode": "lines",
         "name": "Thermal",
         "showlegend": true,
         "type": "scattergl",
         "x": [
          "2023_Q1_L_0h",
          "2023_Q1_L_1h",
          "2023_Q1_L_2h",
          "2023_Q1_L_3h",
          "2023_Q1_L_4h",
          "2023_Q1_L_5h",
          "2023_Q1_L_6h",
          "2023_Q1_L_7h",
          "2023_Q1_L_8h",
          "2023_Q1_L_9h",
          "2023_Q1_L_10h",
          "2023_Q1_L_11h",
          "2023_Q1_L_12h",
          "2023_Q1_L_13h",
          "2023_Q1_L_14h",
          "2023_Q1_L_15h",
          "2023_Q1_L_16h",
          "2023_Q1_L_17h",
          "2023_Q1_L_18h",
          "2023_Q1_L_19h",
          "2023_Q1_L_20h",
          "2023_Q1_L_21h",
          "2023_Q1_L_22h",
          "2023_Q1_L_23h",
          "2023_Q1_H_0h",
          "2023_Q1_H_1h",
          "2023_Q1_H_2h",
          "2023_Q1_H_3h",
          "2023_Q1_H_4h",
          "2023_Q1_H_5h",
          "2023_Q1_H_6h",
          "2023_Q1_H_7h",
          "2023_Q1_H_8h",
          "2023_Q1_H_9h",
          "2023_Q1_H_10h",
          "2023_Q1_H_11h",
          "2023_Q1_H_12h",
          "2023_Q1_H_13h",
          "2023_Q1_H_14h",
          "2023_Q1_H_15h",
          "2023_Q1_H_16h",
          "2023_Q1_H_17h",
          "2023_Q1_H_18h",
          "2023_Q1_H_19h",
          "2023_Q1_H_20h",
          "2023_Q1_H_21h",
          "2023_Q1_H_22h",
          "2023_Q1_H_23h",
          "2023_Q2_L_0h",
          "2023_Q2_L_1h",
          "2023_Q2_L_2h",
          "2023_Q2_L_3h",
          "2023_Q2_L_4h",
          "2023_Q2_L_5h",
          "2023_Q2_L_6h",
          "2023_Q2_L_7h",
          "2023_Q2_L_8h",
          "2023_Q2_L_9h",
          "2023_Q2_L_10h",
          "2023_Q2_L_11h",
          "2023_Q2_L_12h",
          "2023_Q2_L_13h",
          "2023_Q2_L_14h",
          "2023_Q2_L_15h",
          "2023_Q2_L_16h",
          "2023_Q2_L_17h",
          "2023_Q2_L_18h",
          "2023_Q2_L_19h",
          "2023_Q2_L_20h",
          "2023_Q2_L_21h",
          "2023_Q2_L_22h",
          "2023_Q2_L_23h",
          "2023_Q2_H_0h",
          "2023_Q2_H_1h",
          "2023_Q2_H_2h",
          "2023_Q2_H_3h",
          "2023_Q2_H_4h",
          "2023_Q2_H_5h",
          "2023_Q2_H_6h",
          "2023_Q2_H_7h",
          "2023_Q2_H_8h",
          "2023_Q2_H_9h",
          "2023_Q2_H_10h",
          "2023_Q2_H_11h",
          "2023_Q2_H_12h",
          "2023_Q2_H_13h",
          "2023_Q2_H_14h",
          "2023_Q2_H_15h",
          "2023_Q2_H_16h",
          "2023_Q2_H_17h",
          "2023_Q2_H_18h",
          "2023_Q2_H_19h",
          "2023_Q2_H_20h",
          "2023_Q2_H_21h",
          "2023_Q2_H_22h",
          "2023_Q2_H_23h",
          "2023_Q3_L_0h",
          "2023_Q3_L_1h",
          "2023_Q3_L_2h",
          "2023_Q3_L_3h",
          "2023_Q3_L_4h",
          "2023_Q3_L_5h",
          "2023_Q3_L_6h",
          "2023_Q3_L_7h",
          "2023_Q3_L_8h",
          "2023_Q3_L_9h",
          "2023_Q3_L_10h",
          "2023_Q3_L_11h",
          "2023_Q3_L_12h",
          "2023_Q3_L_13h",
          "2023_Q3_L_14h",
          "2023_Q3_L_15h",
          "2023_Q3_L_16h",
          "2023_Q3_L_17h",
          "2023_Q3_L_18h",
          "2023_Q3_L_19h",
          "2023_Q3_L_20h",
          "2023_Q3_L_21h",
          "2023_Q3_L_22h",
          "2023_Q3_L_23h",
          "2023_Q3_H_0h",
          "2023_Q3_H_1h",
          "2023_Q3_H_2h",
          "2023_Q3_H_3h",
          "2023_Q3_H_4h",
          "2023_Q3_H_5h",
          "2023_Q3_H_6h",
          "2023_Q3_H_7h",
          "2023_Q3_H_8h",
          "2023_Q3_H_9h",
          "2023_Q3_H_10h",
          "2023_Q3_H_11h",
          "2023_Q3_H_12h",
          "2023_Q3_H_13h",
          "2023_Q3_H_14h",
          "2023_Q3_H_15h",
          "2023_Q3_H_16h",
          "2023_Q3_H_17h",
          "2023_Q3_H_18h",
          "2023_Q3_H_19h",
          "2023_Q3_H_20h",
          "2023_Q3_H_21h",
          "2023_Q3_H_22h",
          "2023_Q3_H_23h",
          "2023_Q4_L_0h",
          "2023_Q4_L_1h",
          "2023_Q4_L_2h",
          "2023_Q4_L_3h",
          "2023_Q4_L_4h",
          "2023_Q4_L_5h",
          "2023_Q4_L_6h",
          "2023_Q4_L_7h",
          "2023_Q4_L_8h",
          "2023_Q4_L_9h",
          "2023_Q4_L_10h",
          "2023_Q4_L_11h",
          "2023_Q4_L_12h",
          "2023_Q4_L_13h",
          "2023_Q4_L_14h",
          "2023_Q4_L_15h",
          "2023_Q4_L_16h",
          "2023_Q4_L_17h",
          "2023_Q4_L_18h",
          "2023_Q4_L_19h",
          "2023_Q4_L_20h",
          "2023_Q4_L_21h",
          "2023_Q4_L_22h",
          "2023_Q4_L_23h",
          "2023_Q4_H_0h",
          "2023_Q4_H_1h",
          "2023_Q4_H_2h",
          "2023_Q4_H_3h",
          "2023_Q4_H_4h",
          "2023_Q4_H_5h",
          "2023_Q4_H_6h",
          "2023_Q4_H_7h",
          "2023_Q4_H_8h",
          "2023_Q4_H_9h",
          "2023_Q4_H_10h",
          "2023_Q4_H_11h",
          "2023_Q4_H_12h",
          "2023_Q4_H_13h",
          "2023_Q4_H_14h",
          "2023_Q4_H_15h",
          "2023_Q4_H_16h",
          "2023_Q4_H_17h",
          "2023_Q4_H_18h",
          "2023_Q4_H_19h",
          "2023_Q4_H_20h",
          "2023_Q4_H_21h",
          "2023_Q4_H_22h",
          "2023_Q4_H_23h",
          "2024_Q1_L_0h",
          "2024_Q1_L_1h",
          "2024_Q1_L_2h",
          "2024_Q1_L_3h",
          "2024_Q1_L_4h",
          "2024_Q1_L_5h",
          "2024_Q1_L_6h",
          "2024_Q1_L_7h",
          "2024_Q1_L_8h",
          "2024_Q1_L_9h",
          "2024_Q1_L_10h",
          "2024_Q1_L_11h",
          "2024_Q1_L_12h",
          "2024_Q1_L_13h",
          "2024_Q1_L_14h",
          "2024_Q1_L_15h",
          "2024_Q1_L_16h",
          "2024_Q1_L_17h",
          "2024_Q1_L_18h",
          "2024_Q1_L_19h",
          "2024_Q1_L_20h",
          "2024_Q1_L_21h",
          "2024_Q1_L_22h",
          "2024_Q1_L_23h",
          "2024_Q1_H_0h",
          "2024_Q1_H_1h",
          "2024_Q1_H_2h",
          "2024_Q1_H_3h",
          "2024_Q1_H_4h",
          "2024_Q1_H_5h",
          "2024_Q1_H_6h",
          "2024_Q1_H_7h",
          "2024_Q1_H_8h",
          "2024_Q1_H_9h",
          "2024_Q1_H_10h",
          "2024_Q1_H_11h",
          "2024_Q1_H_12h",
          "2024_Q1_H_13h",
          "2024_Q1_H_14h",
          "2024_Q1_H_15h",
          "2024_Q1_H_16h",
          "2024_Q1_H_17h",
          "2024_Q1_H_18h",
          "2024_Q1_H_19h",
          "2024_Q1_H_20h",
          "2024_Q1_H_21h",
          "2024_Q1_H_22h",
          "2024_Q1_H_23h",
          "2024_Q2_L_0h",
          "2024_Q2_L_1h",
          "2024_Q2_L_2h",
          "2024_Q2_L_3h",
          "2024_Q2_L_4h",
          "2024_Q2_L_5h",
          "2024_Q2_L_6h",
          "2024_Q2_L_7h",
          "2024_Q2_L_8h",
          "2024_Q2_L_9h",
          "2024_Q2_L_10h",
          "2024_Q2_L_11h",
          "2024_Q2_L_12h",
          "2024_Q2_L_13h",
          "2024_Q2_L_14h",
          "2024_Q2_L_15h",
          "2024_Q2_L_16h",
          "2024_Q2_L_17h",
          "2024_Q2_L_18h",
          "2024_Q2_L_19h",
          "2024_Q2_L_20h",
          "2024_Q2_L_21h",
          "2024_Q2_L_22h",
          "2024_Q2_L_23h",
          "2024_Q2_H_0h",
          "2024_Q2_H_1h",
          "2024_Q2_H_2h",
          "2024_Q2_H_3h",
          "2024_Q2_H_4h",
          "2024_Q2_H_5h",
          "2024_Q2_H_6h",
          "2024_Q2_H_7h",
          "2024_Q2_H_8h",
          "2024_Q2_H_9h",
          "2024_Q2_H_10h",
          "2024_Q2_H_11h",
          "2024_Q2_H_12h",
          "2024_Q2_H_13h",
          "2024_Q2_H_14h",
          "2024_Q2_H_15h",
          "2024_Q2_H_16h",
          "2024_Q2_H_17h",
          "2024_Q2_H_18h",
          "2024_Q2_H_19h",
          "2024_Q2_H_20h",
          "2024_Q2_H_21h",
          "2024_Q2_H_22h",
          "2024_Q2_H_23h",
          "2024_Q3_L_0h",
          "2024_Q3_L_1h",
          "2024_Q3_L_2h",
          "2024_Q3_L_3h",
          "2024_Q3_L_4h",
          "2024_Q3_L_5h",
          "2024_Q3_L_6h",
          "2024_Q3_L_7h",
          "2024_Q3_L_8h",
          "2024_Q3_L_9h",
          "2024_Q3_L_10h",
          "2024_Q3_L_11h",
          "2024_Q3_L_12h",
          "2024_Q3_L_13h",
          "2024_Q3_L_14h",
          "2024_Q3_L_15h",
          "2024_Q3_L_16h",
          "2024_Q3_L_17h",
          "2024_Q3_L_18h",
          "2024_Q3_L_19h",
          "2024_Q3_L_20h",
          "2024_Q3_L_21h",
          "2024_Q3_L_22h",
          "2024_Q3_L_23h",
          "2024_Q3_H_0h",
          "2024_Q3_H_1h",
          "2024_Q3_H_2h",
          "2024_Q3_H_3h",
          "2024_Q3_H_4h",
          "2024_Q3_H_5h",
          "2024_Q3_H_6h",
          "2024_Q3_H_7h",
          "2024_Q3_H_8h",
          "2024_Q3_H_9h",
          "2024_Q3_H_10h",
          "2024_Q3_H_11h",
          "2024_Q3_H_12h",
          "2024_Q3_H_13h",
          "2024_Q3_H_14h",
          "2024_Q3_H_15h",
          "2024_Q3_H_16h",
          "2024_Q3_H_17h",
          "2024_Q3_H_18h",
          "2024_Q3_H_19h",
          "2024_Q3_H_20h",
          "2024_Q3_H_21h",
          "2024_Q3_H_22h",
          "2024_Q3_H_23h",
          "2024_Q4_L_0h",
          "2024_Q4_L_1h",
          "2024_Q4_L_2h",
          "2024_Q4_L_3h",
          "2024_Q4_L_4h",
          "2024_Q4_L_5h",
          "2024_Q4_L_6h",
          "2024_Q4_L_7h",
          "2024_Q4_L_8h",
          "2024_Q4_L_9h",
          "2024_Q4_L_10h",
          "2024_Q4_L_11h",
          "2024_Q4_L_12h",
          "2024_Q4_L_13h",
          "2024_Q4_L_14h",
          "2024_Q4_L_15h",
          "2024_Q4_L_16h",
          "2024_Q4_L_17h",
          "2024_Q4_L_18h",
          "2024_Q4_L_19h",
          "2024_Q4_L_20h",
          "2024_Q4_L_21h",
          "2024_Q4_L_22h",
          "2024_Q4_L_23h",
          "2024_Q4_H_0h",
          "2024_Q4_H_1h",
          "2024_Q4_H_2h",
          "2024_Q4_H_3h",
          "2024_Q4_H_4h",
          "2024_Q4_H_5h",
          "2024_Q4_H_6h",
          "2024_Q4_H_7h",
          "2024_Q4_H_8h",
          "2024_Q4_H_9h",
          "2024_Q4_H_10h",
          "2024_Q4_H_11h",
          "2024_Q4_H_12h",
          "2024_Q4_H_13h",
          "2024_Q4_H_14h",
          "2024_Q4_H_15h",
          "2024_Q4_H_16h",
          "2024_Q4_H_17h",
          "2024_Q4_H_18h",
          "2024_Q4_H_19h",
          "2024_Q4_H_20h",
          "2024_Q4_H_21h",
          "2024_Q4_H_22h",
          "2024_Q4_H_23h"
         ],
         "xaxis": "x",
         "y": [
          1399.7575632425649,
          1265.2904797925144,
          1188.096002931902,
          1179.4100343539633,
          1179.3709277939115,
          1179.458470603192,
          1206.1624592755938,
          1205.1558037399989,
          1275.7716762140815,
          1367.7155035495482,
          1419.1649080159002,
          1484.6420897578957,
          1553.9682680061096,
          1566.4267442350063,
          1623.115258073868,
          1711.4358601598403,
          1767.7578025657958,
          1770.9502758626727,
          1727.6014177344505,
          1866.5767076736977,
          1881.9128188665961,
          1828.3894872512026,
          1706.0702836516602,
          1538.5693559309639,
          1076.8935903210604,
          1025.3028036739843,
          951.1063158731886,
          890.6591747273696,
          844.6149266559286,
          819.7231086521801,
          778.5179594614054,
          663.9964268340059,
          660.6051870685694,
          717.3033129866529,
          781.1061014518381,
          847.8608486619404,
          921.8029760314763,
          978.4819807218884,
          1019.8876385535198,
          1054.7725416335584,
          1097.4307008524936,
          1130.449186547968,
          1153.9310773231164,
          1322.884360206743,
          1364.9679659718615,
          1344.2020810854656,
          1299.7248040378204,
          1202.6875193901494,
          1431.036766664379,
          1290.2687442397887,
          1219.9986949101885,
          1218.8808394487476,
          1218.3835362331379,
          1219.4016665951895,
          1266.522127306002,
          1264.1681942122846,
          1344.9594120924953,
          1434.940351272903,
          1487.4583572838296,
          1552.2915407499686,
          1631.3116457689734,
          1632.9853725687508,
          1686.0085201636623,
          1771.3433691718803,
          1820.2359832189063,
          1817.527245733924,
          1760.371450911313,
          1893.645117699067,
          1927.968738715585,
          1885.5881032558968,
          1755.294919784312,
          1572.8843739845352,
          1059.704172649994,
          1046.9156723348883,
          958.724015153703,
          891.2654485790146,
          843.5358548857846,
          820.0153653841554,
          770.0735638344396,
          679.7624873133732,
          708.5177777589628,
          767.1481010352678,
          831.8957918236862,
          898.8280471194656,
          969.959728967966,
          1022.7833341643502,
          1061.980743191814,
          1078.8283085273088,
          1105.0025222849758,
          1127.8485241000815,
          1146.8874893841123,
          1310.3392435691896,
          1352.3852464847928,
          1336.3670080144952,
          1295.5096964032225,
          1191.2792713067536,
          1636.0050848421627,
          1635.9994152543836,
          1635.9956849092518,
          1635.9929264653792,
          1635.991613844121,
          1635.9931133519235,
          1635.9962964443328,
          1635.9974067138237,
          1636.002515941869,
          1636.0066832388495,
          1636.0085291785954,
          1636.010372336827,
          1636.0117775386584,
          1636.0117094478276,
          1670.6610910068518,
          1746.120698242373,
          1782.8795103422713,
          1775.7239074067213,
          1709.957801340668,
          1820.9301127943445,
          1904.9083933656345,
          1848.5865835323239,
          1724.6190280318701,
          1636.0091537930418,
          938.5149591163928,
          938.3735073887415,
          938.1718269871357,
          938.0489935135363,
          937.9486023122307,
          936.1775626909449,
          881.9150225333016,
          794.2957449990777,
          833.6805690604934,
          897.0894307410472,
          938.0348210831044,
          938.1780453703049,
          938.3008686380316,
          938.4217933109403,
          938.4894465883688,
          938.520519516881,
          940.6939319285859,
          958.4201756947717,
          975.8362184437921,
          1148.4085580816939,
          1261.7662042036704,
          1236.161378006758,
          1167.654723889078,
          1053.9232198403645,
          1919.264494686862,
          1833.5000015427688,
          1833.5000015338624,
          1833.500001531399,
          1833.5000015302824,
          1833.500001530837,
          1833.5000015342869,
          1833.500001535702,
          1862.5424362814936,
          1945.6960640589493,
          1995.8826461794356,
          2077.1592666568504,
          2136.8255917401643,
          2142.24885120937,
          2176.6346082795517,
          2212.3312167403456,
          2224.8055247293764,
          2222.2164099912743,
          2213.6807279083882,
          2260.5780465723838,
          2258.66618354633,
          2238.326283360176,
          2190.6701544404295,
          2066.318517091974,
          1555.4876523115527,
          1542.4999096717127,
          1520.4347465707176,
          1502.8557768183684,
          1487.4924461374426,
          1480.905009318935,
          1469.3910923562578,
          1445.5002949210489,
          1458.781605459577,
          1478.9573586525073,
          1496.7308972527956,
          1514.7277318738197,
          1533.4542627856702,
          1547.7235591847477,
          1556.1543808396777,
          1559.0888881338922,
          1563.7759462255378,
          1566.1718475112748,
          1571.8819758020852,
          1607.7626291826207,
          1646.8802793681298,
          1613.4884404430125,
          1585.1612034167633,
          1573.6385565435448,
          1514.96658746627,
          1363.327255078526,
          1284.5681904136586,
          1229.113412517048,
          1197.6702948267985,
          1228.6857682380974,
          1242.4095997961413,
          1073.480742244543,
          1014.447114568293,
          1014.2945425025451,
          1013.9872775698336,
          1014.8769621315837,
          1016.5462262085645,
          1017.8655587086229,
          1185.5539498780474,
          1451.7974105068513,
          1694.6290543808173,
          1826.7568845180099,
          1802.0499429721863,
          1936.3932582227603,
          2000.8835701263563,
          1937.8965615563961,
          1824.1294592644392,
          1679.7257084557941,
          1941.4999953956299,
          1941.4999953838906,
          1941.4999953401134,
          1941.4999952677065,
          1941.4999951772384,
          1941.4999952224346,
          1939.556529371941,
          1807.8110497385512,
          1753.8429497689024,
          1746.9288609141825,
          1743.5647833851117,
          1746.4625728371084,
          1756.1567169726843,
          1779.5145147650323,
          1866.8718555041366,
          1941.4999953243043,
          1941.499995456523,
          1941.4999957162895,
          1941.9775549540589,
          2070.8837668653678,
          2124.1052181447267,
          2050.233062485607,
          1951.7239921821838,
          1941.499995482495,
          1451.934796342507,
          1330.9259030942414,
          1250.7991945373574,
          1193.3386299262365,
          1164.3158810217733,
          1195.7260855453662,
          1198.5054816556199,
          1044.3722535561033,
          1000.7233914491778,
          1000.7791090012165,
          1000.7455213075261,
          1001.3520020322721,
          1002.3844747092343,
          1059.3316967599667,
          1227.8438525196298,
          1441.1513200565703,
          1633.7792420826238,
          1742.4283511603658,
          1742.0411441224157,
          1871.4595063214697,
          1931.3562597303699,
          1873.7351690255332,
          1761.8113310344906,
          1610.759682036152,
          2232.0194338245587,
          2076.087262439235,
          2001.0972441737022,
          1945.3235470954723,
          1941.5000024880587,
          1972.4544035246329,
          2014.9941687682563,
          1941.5000022445276,
          1941.500002152845,
          1941.5000021269718,
          1941.5000021090261,
          1941.500002133829,
          1941.5000021964672,
          1941.5000022754282,
          2045.689317350749,
          2283.591970603142,
          2452.1192761077195,
          2565.125953515392,
          2536.5356636754855,
          2656.803356592616,
          2708.39612216624,
          2643.9419942965046,
          2520.0370963773767,
          2387.102778389881,
          1488.5448052739052,
          1381.9673320459656,
          1375.6022205575994,
          1372.8201976384287,
          1370.649694323567,
          1372.0044520269328,
          1370.8688106543325,
          1318.5680731049938,
          1290.214830710373,
          1275.295797631655,
          1250.7925812153735,
          1278.1229851397266,
          1347.885103959171,
          1369.7324044928118,
          1377.8319143668496,
          1508.4927731437854,
          1668.5500763823293,
          1773.1148070587783,
          1769.3356920265549,
          1897.963025392136,
          1991.4794209400818,
          1938.230947890486,
          1819.4802028400713,
          1651.0851139960114,
          2337.4113753463175,
          2324.4158042520653,
          2318.1416975989177,
          2313.3049548230865,
          2311.4170321145516,
          2314.3366926568556,
          2316.9078724305964,
          2312.5409443226413,
          2313.6764163893886,
          2315.212002563186,
          2314.816584974922,
          2318.2109587887576,
          2323.2514042358557,
          2325.9011141711194,
          2334.612936146653,
          2350.303238540474,
          2374.226078977301,
          2436.168617504806,
          2398.8766949653,
          2494.7224794580234,
          2568.6724554538546,
          2513.4049238741623,
          2388.558313544183,
          2353.4540018404714,
          1901.3459649988126,
          1847.290995141824,
          1812.2958290568235,
          1790.4319873161041,
          1779.7863390428315,
          1787.9614797070446,
          1794.7605153194738,
          1768.1964369378588,
          1764.79647755974,
          1764.0497067627414,
          1760.0154236221144,
          1769.9587324221427,
          1791.6840289339304,
          1813.2446554276255,
          1865.3792095036574,
          1930.2337622541277,
          1930.776820470632,
          1934.859078744979,
          1953.5620868082747,
          2118.2419567407683,
          2121.50115599112,
          2057.9904978614527,
          1936.7221738966184,
          1930.6788141330287,
          3058.8271069545344,
          3038.746801047348,
          3023.0573083212726,
          3009.4607269528956,
          3001.9611856253714,
          3011.641933741,
          3023.4455113098893,
          3010.6258951802783,
          3011.0847210442425,
          3014.997944915083,
          3012.0159514559246,
          3022.3828901056536,
          3038.9171185353125,
          3047.647444091623,
          3065.0448004310624,
          3083.219777129977,
          3094.7053889085823,
          3099.9243347460415,
          3099.1453170173986,
          3111.3569048896406,
          3110.182604759232,
          3104.5200730879906,
          3092.5492234635813,
          3077.1034805655167
         ],
         "yaxis": "y"
        },
        {
         "hovertemplate": "Tech=Menores<br>timestamp=%{x}<br>DispatchGen_MW=%{y}<extra></extra>",
         "legendgroup": "Menores",
         "line": {
          "color": "#FFA15A",
          "dash": "solid"
         },
         "marker": {
          "symbol": "circle"
         },
         "mode": "lines",
         "name": "Menores",
         "showlegend": true,
         "type": "scattergl",
         "x": [
          "2023_Q1_L_0h",
          "2023_Q1_L_1h",
          "2023_Q1_L_2h",
          "2023_Q1_L_3h",
          "2023_Q1_L_4h",
          "2023_Q1_L_5h",
          "2023_Q1_L_6h",
          "2023_Q1_L_7h",
          "2023_Q1_L_8h",
          "2023_Q1_L_9h",
          "2023_Q1_L_10h",
          "2023_Q1_L_11h",
          "2023_Q1_L_12h",
          "2023_Q1_L_13h",
          "2023_Q1_L_14h",
          "2023_Q1_L_15h",
          "2023_Q1_L_16h",
          "2023_Q1_L_17h",
          "2023_Q1_L_18h",
          "2023_Q1_L_19h",
          "2023_Q1_L_20h",
          "2023_Q1_L_21h",
          "2023_Q1_L_22h",
          "2023_Q1_L_23h",
          "2023_Q1_H_0h",
          "2023_Q1_H_1h",
          "2023_Q1_H_2h",
          "2023_Q1_H_3h",
          "2023_Q1_H_4h",
          "2023_Q1_H_5h",
          "2023_Q1_H_6h",
          "2023_Q1_H_7h",
          "2023_Q1_H_8h",
          "2023_Q1_H_9h",
          "2023_Q1_H_10h",
          "2023_Q1_H_11h",
          "2023_Q1_H_12h",
          "2023_Q1_H_13h",
          "2023_Q1_H_14h",
          "2023_Q1_H_15h",
          "2023_Q1_H_16h",
          "2023_Q1_H_17h",
          "2023_Q1_H_18h",
          "2023_Q1_H_19h",
          "2023_Q1_H_20h",
          "2023_Q1_H_21h",
          "2023_Q1_H_22h",
          "2023_Q1_H_23h",
          "2023_Q2_L_0h",
          "2023_Q2_L_1h",
          "2023_Q2_L_2h",
          "2023_Q2_L_3h",
          "2023_Q2_L_4h",
          "2023_Q2_L_5h",
          "2023_Q2_L_6h",
          "2023_Q2_L_7h",
          "2023_Q2_L_8h",
          "2023_Q2_L_9h",
          "2023_Q2_L_10h",
          "2023_Q2_L_11h",
          "2023_Q2_L_12h",
          "2023_Q2_L_13h",
          "2023_Q2_L_14h",
          "2023_Q2_L_15h",
          "2023_Q2_L_16h",
          "2023_Q2_L_17h",
          "2023_Q2_L_18h",
          "2023_Q2_L_19h",
          "2023_Q2_L_20h",
          "2023_Q2_L_21h",
          "2023_Q2_L_22h",
          "2023_Q2_L_23h",
          "2023_Q2_H_0h",
          "2023_Q2_H_1h",
          "2023_Q2_H_2h",
          "2023_Q2_H_3h",
          "2023_Q2_H_4h",
          "2023_Q2_H_5h",
          "2023_Q2_H_6h",
          "2023_Q2_H_7h",
          "2023_Q2_H_8h",
          "2023_Q2_H_9h",
          "2023_Q2_H_10h",
          "2023_Q2_H_11h",
          "2023_Q2_H_12h",
          "2023_Q2_H_13h",
          "2023_Q2_H_14h",
          "2023_Q2_H_15h",
          "2023_Q2_H_16h",
          "2023_Q2_H_17h",
          "2023_Q2_H_18h",
          "2023_Q2_H_19h",
          "2023_Q2_H_20h",
          "2023_Q2_H_21h",
          "2023_Q2_H_22h",
          "2023_Q2_H_23h",
          "2023_Q3_L_0h",
          "2023_Q3_L_1h",
          "2023_Q3_L_2h",
          "2023_Q3_L_3h",
          "2023_Q3_L_4h",
          "2023_Q3_L_5h",
          "2023_Q3_L_6h",
          "2023_Q3_L_7h",
          "2023_Q3_L_8h",
          "2023_Q3_L_9h",
          "2023_Q3_L_10h",
          "2023_Q3_L_11h",
          "2023_Q3_L_12h",
          "2023_Q3_L_13h",
          "2023_Q3_L_14h",
          "2023_Q3_L_15h",
          "2023_Q3_L_16h",
          "2023_Q3_L_17h",
          "2023_Q3_L_18h",
          "2023_Q3_L_19h",
          "2023_Q3_L_20h",
          "2023_Q3_L_21h",
          "2023_Q3_L_22h",
          "2023_Q3_L_23h",
          "2023_Q3_H_0h",
          "2023_Q3_H_1h",
          "2023_Q3_H_2h",
          "2023_Q3_H_3h",
          "2023_Q3_H_4h",
          "2023_Q3_H_5h",
          "2023_Q3_H_6h",
          "2023_Q3_H_7h",
          "2023_Q3_H_8h",
          "2023_Q3_H_9h",
          "2023_Q3_H_10h",
          "2023_Q3_H_11h",
          "2023_Q3_H_12h",
          "2023_Q3_H_13h",
          "2023_Q3_H_14h",
          "2023_Q3_H_15h",
          "2023_Q3_H_16h",
          "2023_Q3_H_17h",
          "2023_Q3_H_18h",
          "2023_Q3_H_19h",
          "2023_Q3_H_20h",
          "2023_Q3_H_21h",
          "2023_Q3_H_22h",
          "2023_Q3_H_23h",
          "2023_Q4_L_0h",
          "2023_Q4_L_1h",
          "2023_Q4_L_2h",
          "2023_Q4_L_3h",
          "2023_Q4_L_4h",
          "2023_Q4_L_5h",
          "2023_Q4_L_6h",
          "2023_Q4_L_7h",
          "2023_Q4_L_8h",
          "2023_Q4_L_9h",
          "2023_Q4_L_10h",
          "2023_Q4_L_11h",
          "2023_Q4_L_12h",
          "2023_Q4_L_13h",
          "2023_Q4_L_14h",
          "2023_Q4_L_15h",
          "2023_Q4_L_16h",
          "2023_Q4_L_17h",
          "2023_Q4_L_18h",
          "2023_Q4_L_19h",
          "2023_Q4_L_20h",
          "2023_Q4_L_21h",
          "2023_Q4_L_22h",
          "2023_Q4_L_23h",
          "2023_Q4_H_0h",
          "2023_Q4_H_1h",
          "2023_Q4_H_2h",
          "2023_Q4_H_3h",
          "2023_Q4_H_4h",
          "2023_Q4_H_5h",
          "2023_Q4_H_6h",
          "2023_Q4_H_7h",
          "2023_Q4_H_8h",
          "2023_Q4_H_9h",
          "2023_Q4_H_10h",
          "2023_Q4_H_11h",
          "2023_Q4_H_12h",
          "2023_Q4_H_13h",
          "2023_Q4_H_14h",
          "2023_Q4_H_15h",
          "2023_Q4_H_16h",
          "2023_Q4_H_17h",
          "2023_Q4_H_18h",
          "2023_Q4_H_19h",
          "2023_Q4_H_20h",
          "2023_Q4_H_21h",
          "2023_Q4_H_22h",
          "2023_Q4_H_23h",
          "2024_Q1_L_0h",
          "2024_Q1_L_1h",
          "2024_Q1_L_2h",
          "2024_Q1_L_3h",
          "2024_Q1_L_4h",
          "2024_Q1_L_5h",
          "2024_Q1_L_6h",
          "2024_Q1_L_7h",
          "2024_Q1_L_8h",
          "2024_Q1_L_9h",
          "2024_Q1_L_10h",
          "2024_Q1_L_11h",
          "2024_Q1_L_12h",
          "2024_Q1_L_13h",
          "2024_Q1_L_14h",
          "2024_Q1_L_15h",
          "2024_Q1_L_16h",
          "2024_Q1_L_17h",
          "2024_Q1_L_18h",
          "2024_Q1_L_19h",
          "2024_Q1_L_20h",
          "2024_Q1_L_21h",
          "2024_Q1_L_22h",
          "2024_Q1_L_23h",
          "2024_Q1_H_0h",
          "2024_Q1_H_1h",
          "2024_Q1_H_2h",
          "2024_Q1_H_3h",
          "2024_Q1_H_4h",
          "2024_Q1_H_5h",
          "2024_Q1_H_6h",
          "2024_Q1_H_7h",
          "2024_Q1_H_8h",
          "2024_Q1_H_9h",
          "2024_Q1_H_10h",
          "2024_Q1_H_11h",
          "2024_Q1_H_12h",
          "2024_Q1_H_13h",
          "2024_Q1_H_14h",
          "2024_Q1_H_15h",
          "2024_Q1_H_16h",
          "2024_Q1_H_17h",
          "2024_Q1_H_18h",
          "2024_Q1_H_19h",
          "2024_Q1_H_20h",
          "2024_Q1_H_21h",
          "2024_Q1_H_22h",
          "2024_Q1_H_23h",
          "2024_Q2_L_0h",
          "2024_Q2_L_1h",
          "2024_Q2_L_2h",
          "2024_Q2_L_3h",
          "2024_Q2_L_4h",
          "2024_Q2_L_5h",
          "2024_Q2_L_6h",
          "2024_Q2_L_7h",
          "2024_Q2_L_8h",
          "2024_Q2_L_9h",
          "2024_Q2_L_10h",
          "2024_Q2_L_11h",
          "2024_Q2_L_12h",
          "2024_Q2_L_13h",
          "2024_Q2_L_14h",
          "2024_Q2_L_15h",
          "2024_Q2_L_16h",
          "2024_Q2_L_17h",
          "2024_Q2_L_18h",
          "2024_Q2_L_19h",
          "2024_Q2_L_20h",
          "2024_Q2_L_21h",
          "2024_Q2_L_22h",
          "2024_Q2_L_23h",
          "2024_Q2_H_0h",
          "2024_Q2_H_1h",
          "2024_Q2_H_2h",
          "2024_Q2_H_3h",
          "2024_Q2_H_4h",
          "2024_Q2_H_5h",
          "2024_Q2_H_6h",
          "2024_Q2_H_7h",
          "2024_Q2_H_8h",
          "2024_Q2_H_9h",
          "2024_Q2_H_10h",
          "2024_Q2_H_11h",
          "2024_Q2_H_12h",
          "2024_Q2_H_13h",
          "2024_Q2_H_14h",
          "2024_Q2_H_15h",
          "2024_Q2_H_16h",
          "2024_Q2_H_17h",
          "2024_Q2_H_18h",
          "2024_Q2_H_19h",
          "2024_Q2_H_20h",
          "2024_Q2_H_21h",
          "2024_Q2_H_22h",
          "2024_Q2_H_23h",
          "2024_Q3_L_0h",
          "2024_Q3_L_1h",
          "2024_Q3_L_2h",
          "2024_Q3_L_3h",
          "2024_Q3_L_4h",
          "2024_Q3_L_5h",
          "2024_Q3_L_6h",
          "2024_Q3_L_7h",
          "2024_Q3_L_8h",
          "2024_Q3_L_9h",
          "2024_Q3_L_10h",
          "2024_Q3_L_11h",
          "2024_Q3_L_12h",
          "2024_Q3_L_13h",
          "2024_Q3_L_14h",
          "2024_Q3_L_15h",
          "2024_Q3_L_16h",
          "2024_Q3_L_17h",
          "2024_Q3_L_18h",
          "2024_Q3_L_19h",
          "2024_Q3_L_20h",
          "2024_Q3_L_21h",
          "2024_Q3_L_22h",
          "2024_Q3_L_23h",
          "2024_Q3_H_0h",
          "2024_Q3_H_1h",
          "2024_Q3_H_2h",
          "2024_Q3_H_3h",
          "2024_Q3_H_4h",
          "2024_Q3_H_5h",
          "2024_Q3_H_6h",
          "2024_Q3_H_7h",
          "2024_Q3_H_8h",
          "2024_Q3_H_9h",
          "2024_Q3_H_10h",
          "2024_Q3_H_11h",
          "2024_Q3_H_12h",
          "2024_Q3_H_13h",
          "2024_Q3_H_14h",
          "2024_Q3_H_15h",
          "2024_Q3_H_16h",
          "2024_Q3_H_17h",
          "2024_Q3_H_18h",
          "2024_Q3_H_19h",
          "2024_Q3_H_20h",
          "2024_Q3_H_21h",
          "2024_Q3_H_22h",
          "2024_Q3_H_23h",
          "2024_Q4_L_0h",
          "2024_Q4_L_1h",
          "2024_Q4_L_2h",
          "2024_Q4_L_3h",
          "2024_Q4_L_4h",
          "2024_Q4_L_5h",
          "2024_Q4_L_6h",
          "2024_Q4_L_7h",
          "2024_Q4_L_8h",
          "2024_Q4_L_9h",
          "2024_Q4_L_10h",
          "2024_Q4_L_11h",
          "2024_Q4_L_12h",
          "2024_Q4_L_13h",
          "2024_Q4_L_14h",
          "2024_Q4_L_15h",
          "2024_Q4_L_16h",
          "2024_Q4_L_17h",
          "2024_Q4_L_18h",
          "2024_Q4_L_19h",
          "2024_Q4_L_20h",
          "2024_Q4_L_21h",
          "2024_Q4_L_22h",
          "2024_Q4_L_23h",
          "2024_Q4_H_0h",
          "2024_Q4_H_1h",
          "2024_Q4_H_2h",
          "2024_Q4_H_3h",
          "2024_Q4_H_4h",
          "2024_Q4_H_5h",
          "2024_Q4_H_6h",
          "2024_Q4_H_7h",
          "2024_Q4_H_8h",
          "2024_Q4_H_9h",
          "2024_Q4_H_10h",
          "2024_Q4_H_11h",
          "2024_Q4_H_12h",
          "2024_Q4_H_13h",
          "2024_Q4_H_14h",
          "2024_Q4_H_15h",
          "2024_Q4_H_16h",
          "2024_Q4_H_17h",
          "2024_Q4_H_18h",
          "2024_Q4_H_19h",
          "2024_Q4_H_20h",
          "2024_Q4_H_21h",
          "2024_Q4_H_22h",
          "2024_Q4_H_23h"
         ],
         "xaxis": "x",
         "y": [
          123.46038808370216,
          123.16769284390546,
          123.1456956941081,
          123.03089694067376,
          123.17461638407023,
          122.54790960627375,
          123.31079449236665,
          122.98895618050267,
          122.05914673415674,
          122.51127440557656,
          122.73017842566388,
          122.81287456693249,
          122.55501519234976,
          121.84114393556703,
          121.0980550659778,
          119.51789332028034,
          118.54713598835195,
          119.33377384489492,
          119.28371321293324,
          120.15311221272788,
          121.49367931373811,
          121.34498146056752,
          122.31722848641868,
          122.49567965116294,
          122.87210323995245,
          123.76900616395784,
          124.6088500352659,
          124.56585445174223,
          122.14719456522533,
          122.16563878952033,
          123.28960560180678,
          124.27354546052095,
          123.46288395582825,
          122.7994451985995,
          121.45961306066788,
          120.88877717473198,
          121.86600932725078,
          120.56233771023133,
          120.66803371351295,
          119.58338095399083,
          118.77342986637095,
          118.60240422936747,
          116.36973236465587,
          117.1157147801637,
          119.85254170139997,
          121.53962903488892,
          121.05687500490212,
          124.4274761717292,
          141.47806246990905,
          141.99790312195452,
          143.51028719508324,
          143.6215153093187,
          143.11828678907816,
          139.88212530357129,
          142.43513231417504,
          142.8048507098752,
          142.58660745967157,
          142.12867389595684,
          141.24855980282848,
          141.203391252666,
          141.86805050947723,
          141.83524571608572,
          141.0808169583927,
          140.98911422623775,
          139.49568526654923,
          140.8538046619622,
          141.38110777085052,
          142.03160509570492,
          141.6965862478189,
          141.48769269492715,
          142.57604152247995,
          142.43272288243006,
          140.08606460400634,
          142.60499950846375,
          145.4892369398075,
          144.569005023569,
          145.42383734441785,
          142.4796676166689,
          145.53772011714906,
          146.76063531822908,
          146.70713685836984,
          145.6126669183701,
          146.5140553043558,
          144.81860305843375,
          145.01687122019126,
          144.79150525386908,
          143.83138123266318,
          141.9227867119246,
          141.91193835925606,
          142.84580776234156,
          142.2509952699609,
          142.0850965414772,
          141.73483928072247,
          141.1056018149925,
          142.0730361419295,
          141.13195098932795,
          132.99359998482515,
          134.02434025819358,
          133.6089620211127,
          133.94039199943472,
          134.61650145774598,
          133.35750255650933,
          133.75201635488722,
          133.3418152730112,
          133.9299133509099,
          133.57311439486674,
          132.5886007705489,
          132.22183828861736,
          133.31727697447917,
          132.89196076270312,
          133.16591252818037,
          132.4228501920019,
          131.50421248128967,
          132.0016986304232,
          132.5466089422715,
          132.53448611438273,
          132.83841505218285,
          132.3729021510273,
          132.13961932240693,
          132.64039872820854,
          132.0641273533388,
          130.81162140897086,
          132.4466168989293,
          133.32046632844623,
          132.87115182190058,
          133.29365397121924,
          132.48127473076113,
          131.2206531554605,
          131.43942497208383,
          133.1494591304188,
          134.10815302091584,
          133.98831119102834,
          133.87961921571392,
          135.497914521787,
          136.37836498838337,
          135.5431640214261,
          134.7253627361012,
          134.58254587694583,
          133.9371255313093,
          134.2499077251199,
          133.4123765697023,
          134.10148801881806,
          132.88442475443992,
          134.21611394571434,
          128.79768250891075,
          129.0864718988493,
          128.6845259063945,
          128.54399551933025,
          128.61372450885608,
          128.3072932949667,
          128.64633642342346,
          127.69922938402978,
          128.3323418533133,
          128.08500448259025,
          127.47973215652854,
          127.03931453868282,
          127.17488417467125,
          126.92516519864614,
          126.78601139555202,
          125.94893475087166,
          126.2373806329998,
          127.05090077736821,
          128.29083249945512,
          128.2410590829008,
          128.09210707673137,
          127.81245658949712,
          129.14669125303945,
          128.92114850674253,
          129.8390128248706,
          130.08422771073987,
          131.94154072824097,
          131.6613925905892,
          132.75565302139765,
          128.92490941709926,
          131.3131574387116,
          130.77888262492013,
          130.5016778840474,
          130.19468439468238,
          130.79434679520259,
          133.6248223431521,
          132.5986339964545,
          132.47649462608317,
          131.39885202824166,
          131.42383628946928,
          130.88004185076704,
          131.24520471051846,
          130.1369748093047,
          130.1042702494108,
          129.59258492297064,
          126.52422767381526,
          128.19227645504918,
          128.92216173587795,
          123.46038808349834,
          123.16769287880946,
          123.14569569359028,
          123.03089690574546,
          123.17461641897395,
          122.54790957177477,
          123.3107945272982,
          122.98895621545282,
          122.05914677440597,
          122.51127440524229,
          122.73017839085061,
          122.81287456576177,
          122.5550151565612,
          121.84114393447439,
          121.09805510016807,
          119.51789331991968,
          118.54713598801803,
          119.33377381034393,
          119.28371317837677,
          120.15311224759392,
          121.49367931382781,
          121.34498149537606,
          122.31722848667948,
          122.49567961581393,
          122.87210325322923,
          123.76900616711926,
          124.60885004851613,
          124.56585445503929,
          122.14719456879563,
          122.16563880173811,
          123.28960562212421,
          124.2735454675117,
          123.46288396655127,
          122.79944522139537,
          121.45961307894937,
          120.88877718558159,
          121.86600933785532,
          120.56233773290109,
          120.66803372573762,
          119.583380973724,
          118.77342988757343,
          118.60240424919635,
          116.36973236994422,
          117.1157147801871,
          119.8525417114726,
          121.53962903646553,
          121.05687500459096,
          124.42747618705546,
          141.4780624703323,
          141.9979031557087,
          143.51028716231502,
          143.62151530988194,
          143.11828678933426,
          139.88212533739275,
          142.43513228134242,
          142.8048506770048,
          142.5866074595179,
          142.12867386222752,
          141.24855983609584,
          141.20339125137872,
          141.868050474741,
          141.8352457154902,
          141.0808169580043,
          140.98911422588014,
          139.49568526621138,
          140.85380466222065,
          141.38110777092479,
          142.0316051292508,
          141.6965862146193,
          141.48769269501506,
          142.57604146009766,
          142.43272281944084,
          140.08606462211554,
          142.60499952654277,
          145.48923694697686,
          144.5690050419887,
          145.42383735127956,
          142.4796676494781,
          145.53772015078567,
          146.76063533985354,
          146.70713686529837,
          145.6126669252231,
          146.51405533775002,
          144.81860309123863,
          145.01687125333274,
          144.79150527505982,
          143.83138124842137,
          141.92278674511772,
          141.9119383817005,
          142.84580776725343,
          142.25099527780844,
          142.085096555344,
          141.7348392831525,
          141.1056018175736,
          142.07303614439587,
          141.13195099707218,
          132.99359995119744,
          134.02434029246228,
          133.60896198754287,
          133.94039199988651,
          134.61650145819763,
          133.35750255675146,
          133.7520163553369,
          133.34181523946512,
          133.92991335114962,
          133.57311436123786,
          132.588600736871,
          132.22183832302815,
          133.31727700880742,
          132.89196079707114,
          133.165912527624,
          132.4228501918031,
          131.50421248114992,
          132.00169866425466,
          132.54660894211077,
          132.5344860801691,
          132.83841501856406,
          132.37290211741032,
          132.13961928814697,
          132.64039872849452,
          132.06412737193574,
          130.81162141613675,
          132.44661691858627,
          133.32046633641136,
          132.87115182985605,
          133.29365397872107,
          132.48127473826338,
          131.22065317545892,
          131.4394249803579,
          133.149459150397,
          134.10815303998234,
          133.98831119898767,
          133.87961923476308,
          135.49791452896255,
          136.37836499611643,
          135.54316404110438,
          134.7253627440674,
          134.58254589746733,
          133.93712554006433,
          134.2499077446315,
          133.41237658994473,
          134.1014880266206,
          132.88442477472222,
          134.21611396467736,
          128.7976825085694,
          129.08647193262834,
          128.6845259048325,
          128.54399551912252,
          128.6137245086487,
          128.30729332884533,
          128.64633642321576,
          127.69922941795268,
          128.33234188700106,
          128.08500451639605,
          127.47973212166849,
          127.03931450389314,
          127.1748841741008,
          126.92516523250927,
          126.78601139497813,
          125.94893478477991,
          126.237380632696,
          127.05090077733541,
          128.29083249949088,
          128.24105908316199,
          128.09210707655575,
          127.81245658975963,
          129.14669121863213,
          128.92114847154335,
          129.83901284095396,
          130.08422772532492,
          131.9415407442176,
          131.66139260515203,
          132.75565303724414,
          128.92490942650957,
          131.31315745499776,
          130.77888263967372,
          130.50167789333702,
          130.19468440383415,
          130.79434681028712,
          133.62482235096334,
          132.59863401313885,
          132.47649463385687,
          131.39885204360004,
          131.42383629869153,
          130.88004185998918,
          131.2452047182815,
          130.13697482444863,
          130.1042702596723,
          129.59258493421945,
          126.52422767855617,
          128.19227646958532,
          128.92216174524017
         ],
         "yaxis": "y"
        }
       ],
       "layout": {
        "legend": {
         "title": {
          "text": "Tech"
         },
         "tracegroupgap": 0
        },
        "plot_bgcolor": "white",
        "template": {
         "data": {
          "bar": [
           {
            "error_x": {
             "color": "#2a3f5f"
            },
            "error_y": {
             "color": "#2a3f5f"
            },
            "marker": {
             "line": {
              "color": "#E5ECF6",
              "width": 0.5
             },
             "pattern": {
              "fillmode": "overlay",
              "size": 10,
              "solidity": 0.2
             }
            },
            "type": "bar"
           }
          ],
          "barpolar": [
           {
            "marker": {
             "line": {
              "color": "#E5ECF6",
              "width": 0.5
             },
             "pattern": {
              "fillmode": "overlay",
              "size": 10,
              "solidity": 0.2
             }
            },
            "type": "barpolar"
           }
          ],
          "carpet": [
           {
            "aaxis": {
             "endlinecolor": "#2a3f5f",
             "gridcolor": "white",
             "linecolor": "white",
             "minorgridcolor": "white",
             "startlinecolor": "#2a3f5f"
            },
            "baxis": {
             "endlinecolor": "#2a3f5f",
             "gridcolor": "white",
             "linecolor": "white",
             "minorgridcolor": "white",
             "startlinecolor": "#2a3f5f"
            },
            "type": "carpet"
           }
          ],
          "choropleth": [
           {
            "colorbar": {
             "outlinewidth": 0,
             "ticks": ""
            },
            "type": "choropleth"
           }
          ],
          "contour": [
           {
            "colorbar": {
             "outlinewidth": 0,
             "ticks": ""
            },
            "colorscale": [
             [
              0,
              "#0d0887"
             ],
             [
              0.1111111111111111,
              "#46039f"
             ],
             [
              0.2222222222222222,
              "#7201a8"
             ],
             [
              0.3333333333333333,
              "#9c179e"
             ],
             [
              0.4444444444444444,
              "#bd3786"
             ],
             [
              0.5555555555555556,
              "#d8576b"
             ],
             [
              0.6666666666666666,
              "#ed7953"
             ],
             [
              0.7777777777777778,
              "#fb9f3a"
             ],
             [
              0.8888888888888888,
              "#fdca26"
             ],
             [
              1,
              "#f0f921"
             ]
            ],
            "type": "contour"
           }
          ],
          "contourcarpet": [
           {
            "colorbar": {
             "outlinewidth": 0,
             "ticks": ""
            },
            "type": "contourcarpet"
           }
          ],
          "heatmap": [
           {
            "colorbar": {
             "outlinewidth": 0,
             "ticks": ""
            },
            "colorscale": [
             [
              0,
              "#0d0887"
             ],
             [
              0.1111111111111111,
              "#46039f"
             ],
             [
              0.2222222222222222,
              "#7201a8"
             ],
             [
              0.3333333333333333,
              "#9c179e"
             ],
             [
              0.4444444444444444,
              "#bd3786"
             ],
             [
              0.5555555555555556,
              "#d8576b"
             ],
             [
              0.6666666666666666,
              "#ed7953"
             ],
             [
              0.7777777777777778,
              "#fb9f3a"
             ],
             [
              0.8888888888888888,
              "#fdca26"
             ],
             [
              1,
              "#f0f921"
             ]
            ],
            "type": "heatmap"
           }
          ],
          "heatmapgl": [
           {
            "colorbar": {
             "outlinewidth": 0,
             "ticks": ""
            },
            "colorscale": [
             [
              0,
              "#0d0887"
             ],
             [
              0.1111111111111111,
              "#46039f"
             ],
             [
              0.2222222222222222,
              "#7201a8"
             ],
             [
              0.3333333333333333,
              "#9c179e"
             ],
             [
              0.4444444444444444,
              "#bd3786"
             ],
             [
              0.5555555555555556,
              "#d8576b"
             ],
             [
              0.6666666666666666,
              "#ed7953"
             ],
             [
              0.7777777777777778,
              "#fb9f3a"
             ],
             [
              0.8888888888888888,
              "#fdca26"
             ],
             [
              1,
              "#f0f921"
             ]
            ],
            "type": "heatmapgl"
           }
          ],
          "histogram": [
           {
            "marker": {
             "pattern": {
              "fillmode": "overlay",
              "size": 10,
              "solidity": 0.2
             }
            },
            "type": "histogram"
           }
          ],
          "histogram2d": [
           {
            "colorbar": {
             "outlinewidth": 0,
             "ticks": ""
            },
            "colorscale": [
             [
              0,
              "#0d0887"
             ],
             [
              0.1111111111111111,
              "#46039f"
             ],
             [
              0.2222222222222222,
              "#7201a8"
             ],
             [
              0.3333333333333333,
              "#9c179e"
             ],
             [
              0.4444444444444444,
              "#bd3786"
             ],
             [
              0.5555555555555556,
              "#d8576b"
             ],
             [
              0.6666666666666666,
              "#ed7953"
             ],
             [
              0.7777777777777778,
              "#fb9f3a"
             ],
             [
              0.8888888888888888,
              "#fdca26"
             ],
             [
              1,
              "#f0f921"
             ]
            ],
            "type": "histogram2d"
           }
          ],
          "histogram2dcontour": [
           {
            "colorbar": {
             "outlinewidth": 0,
             "ticks": ""
            },
            "colorscale": [
             [
              0,
              "#0d0887"
             ],
             [
              0.1111111111111111,
              "#46039f"
             ],
             [
              0.2222222222222222,
              "#7201a8"
             ],
             [
              0.3333333333333333,
              "#9c179e"
             ],
             [
              0.4444444444444444,
              "#bd3786"
             ],
             [
              0.5555555555555556,
              "#d8576b"
             ],
             [
              0.6666666666666666,
              "#ed7953"
             ],
             [
              0.7777777777777778,
              "#fb9f3a"
             ],
             [
              0.8888888888888888,
              "#fdca26"
             ],
             [
              1,
              "#f0f921"
             ]
            ],
            "type": "histogram2dcontour"
           }
          ],
          "mesh3d": [
           {
            "colorbar": {
             "outlinewidth": 0,
             "ticks": ""
            },
            "type": "mesh3d"
           }
          ],
          "parcoords": [
           {
            "line": {
             "colorbar": {
              "outlinewidth": 0,
              "ticks": ""
             }
            },
            "type": "parcoords"
           }
          ],
          "pie": [
           {
            "automargin": true,
            "type": "pie"
           }
          ],
          "scatter": [
           {
            "fillpattern": {
             "fillmode": "overlay",
             "size": 10,
             "solidity": 0.2
            },
            "type": "scatter"
           }
          ],
          "scatter3d": [
           {
            "line": {
             "colorbar": {
              "outlinewidth": 0,
              "ticks": ""
             }
            },
            "marker": {
             "colorbar": {
              "outlinewidth": 0,
              "ticks": ""
             }
            },
            "type": "scatter3d"
           }
          ],
          "scattercarpet": [
           {
            "marker": {
             "colorbar": {
              "outlinewidth": 0,
              "ticks": ""
             }
            },
            "type": "scattercarpet"
           }
          ],
          "scattergeo": [
           {
            "marker": {
             "colorbar": {
              "outlinewidth": 0,
              "ticks": ""
             }
            },
            "type": "scattergeo"
           }
          ],
          "scattergl": [
           {
            "marker": {
             "colorbar": {
              "outlinewidth": 0,
              "ticks": ""
             }
            },
            "type": "scattergl"
           }
          ],
          "scattermapbox": [
           {
            "marker": {
             "colorbar": {
              "outlinewidth": 0,
              "ticks": ""
             }
            },
            "type": "scattermapbox"
           }
          ],
          "scatterpolar": [
           {
            "marker": {
             "colorbar": {
              "outlinewidth": 0,
              "ticks": ""
             }
            },
            "type": "scatterpolar"
           }
          ],
          "scatterpolargl": [
           {
            "marker": {
             "colorbar": {
              "outlinewidth": 0,
              "ticks": ""
             }
            },
            "type": "scatterpolargl"
           }
          ],
          "scatterternary": [
           {
            "marker": {
             "colorbar": {
              "outlinewidth": 0,
              "ticks": ""
             }
            },
            "type": "scatterternary"
           }
          ],
          "surface": [
           {
            "colorbar": {
             "outlinewidth": 0,
             "ticks": ""
            },
            "colorscale": [
             [
              0,
              "#0d0887"
             ],
             [
              0.1111111111111111,
              "#46039f"
             ],
             [
              0.2222222222222222,
              "#7201a8"
             ],
             [
              0.3333333333333333,
              "#9c179e"
             ],
             [
              0.4444444444444444,
              "#bd3786"
             ],
             [
              0.5555555555555556,
              "#d8576b"
             ],
             [
              0.6666666666666666,
              "#ed7953"
             ],
             [
              0.7777777777777778,
              "#fb9f3a"
             ],
             [
              0.8888888888888888,
              "#fdca26"
             ],
             [
              1,
              "#f0f921"
             ]
            ],
            "type": "surface"
           }
          ],
          "table": [
           {
            "cells": {
             "fill": {
              "color": "#EBF0F8"
             },
             "line": {
              "color": "white"
             }
            },
            "header": {
             "fill": {
              "color": "#C8D4E3"
             },
             "line": {
              "color": "white"
             }
            },
            "type": "table"
           }
          ]
         },
         "layout": {
          "annotationdefaults": {
           "arrowcolor": "#2a3f5f",
           "arrowhead": 0,
           "arrowwidth": 1
          },
          "autotypenumbers": "strict",
          "coloraxis": {
           "colorbar": {
            "outlinewidth": 0,
            "ticks": ""
           }
          },
          "colorscale": {
           "diverging": [
            [
             0,
             "#8e0152"
            ],
            [
             0.1,
             "#c51b7d"
            ],
            [
             0.2,
             "#de77ae"
            ],
            [
             0.3,
             "#f1b6da"
            ],
            [
             0.4,
             "#fde0ef"
            ],
            [
             0.5,
             "#f7f7f7"
            ],
            [
             0.6,
             "#e6f5d0"
            ],
            [
             0.7,
             "#b8e186"
            ],
            [
             0.8,
             "#7fbc41"
            ],
            [
             0.9,
             "#4d9221"
            ],
            [
             1,
             "#276419"
            ]
           ],
           "sequential": [
            [
             0,
             "#0d0887"
            ],
            [
             0.1111111111111111,
             "#46039f"
            ],
            [
             0.2222222222222222,
             "#7201a8"
            ],
            [
             0.3333333333333333,
             "#9c179e"
            ],
            [
             0.4444444444444444,
             "#bd3786"
            ],
            [
             0.5555555555555556,
             "#d8576b"
            ],
            [
             0.6666666666666666,
             "#ed7953"
            ],
            [
             0.7777777777777778,
             "#fb9f3a"
            ],
            [
             0.8888888888888888,
             "#fdca26"
            ],
            [
             1,
             "#f0f921"
            ]
           ],
           "sequentialminus": [
            [
             0,
             "#0d0887"
            ],
            [
             0.1111111111111111,
             "#46039f"
            ],
            [
             0.2222222222222222,
             "#7201a8"
            ],
            [
             0.3333333333333333,
             "#9c179e"
            ],
            [
             0.4444444444444444,
             "#bd3786"
            ],
            [
             0.5555555555555556,
             "#d8576b"
            ],
            [
             0.6666666666666666,
             "#ed7953"
            ],
            [
             0.7777777777777778,
             "#fb9f3a"
            ],
            [
             0.8888888888888888,
             "#fdca26"
            ],
            [
             1,
             "#f0f921"
            ]
           ]
          },
          "colorway": [
           "#636efa",
           "#EF553B",
           "#00cc96",
           "#ab63fa",
           "#FFA15A",
           "#19d3f3",
           "#FF6692",
           "#B6E880",
           "#FF97FF",
           "#FECB52"
          ],
          "font": {
           "color": "#2a3f5f"
          },
          "geo": {
           "bgcolor": "white",
           "lakecolor": "white",
           "landcolor": "#E5ECF6",
           "showlakes": true,
           "showland": true,
           "subunitcolor": "white"
          },
          "hoverlabel": {
           "align": "left"
          },
          "hovermode": "closest",
          "mapbox": {
           "style": "light"
          },
          "paper_bgcolor": "white",
          "plot_bgcolor": "#E5ECF6",
          "polar": {
           "angularaxis": {
            "gridcolor": "white",
            "linecolor": "white",
            "ticks": ""
           },
           "bgcolor": "#E5ECF6",
           "radialaxis": {
            "gridcolor": "white",
            "linecolor": "white",
            "ticks": ""
           }
          },
          "scene": {
           "xaxis": {
            "backgroundcolor": "#E5ECF6",
            "gridcolor": "white",
            "gridwidth": 2,
            "linecolor": "white",
            "showbackground": true,
            "ticks": "",
            "zerolinecolor": "white"
           },
           "yaxis": {
            "backgroundcolor": "#E5ECF6",
            "gridcolor": "white",
            "gridwidth": 2,
            "linecolor": "white",
            "showbackground": true,
            "ticks": "",
            "zerolinecolor": "white"
           },
           "zaxis": {
            "backgroundcolor": "#E5ECF6",
            "gridcolor": "white",
            "gridwidth": 2,
            "linecolor": "white",
            "showbackground": true,
            "ticks": "",
            "zerolinecolor": "white"
           }
          },
          "shapedefaults": {
           "line": {
            "color": "#2a3f5f"
           }
          },
          "ternary": {
           "aaxis": {
            "gridcolor": "white",
            "linecolor": "white",
            "ticks": ""
           },
           "baxis": {
            "gridcolor": "white",
            "linecolor": "white",
            "ticks": ""
           },
           "bgcolor": "#E5ECF6",
           "caxis": {
            "gridcolor": "white",
            "linecolor": "white",
            "ticks": ""
           }
          },
          "title": {
           "x": 0.05
          },
          "xaxis": {
           "automargin": true,
           "gridcolor": "white",
           "linecolor": "white",
           "ticks": "",
           "title": {
            "standoff": 15
           },
           "zerolinecolor": "white",
           "zerolinewidth": 2
          },
          "yaxis": {
           "automargin": true,
           "gridcolor": "white",
           "linecolor": "white",
           "ticks": "",
           "title": {
            "standoff": 15
           },
           "zerolinecolor": "white",
           "zerolinewidth": 2
          }
         }
        },
        "title": {
         "text": "Generation by Technology (Switch)"
        },
        "xaxis": {
         "anchor": "y",
         "domain": [
          0,
          1
         ],
         "gridcolor": "lightgray",
         "title": {
          "text": "timestamp"
         }
        },
        "yaxis": {
         "anchor": "x",
         "domain": [
          0,
          1
         ],
         "gridcolor": "lightgray",
         "title": {
          "text": "DispatchGen_MW"
         }
        }
       }
      }
     },
     "metadata": {},
     "output_type": "display_data"
    }
   ],
   "source": [
    "gen_disp = dispatch_sw.copy()\n",
    "# Add Timepoints\n",
    "gen_disp = pd.merge(gen_disp, timepoints, on='timestamp', how='inner')\n",
    "# Sort by timepoints to sort timestamps as well\n",
    "gen_disp = gen_disp.sort_values(by='timepoints_x')\n",
    "gen_disp.rename(columns={'timepoints_x': 'timepoints'}, inplace=True)\n",
    "\n",
    "# Change values on gen_tech to match Switch output\n",
    "gen_disp['gen_tech'] = gen_disp['gen_tech'].replace({\n",
    "    'Eolica': 'Eolica', 'Thermal': 'Thermal',\n",
    "    'pv_solar': 'Solar', 'Hidro': 'Hidro',\n",
    "    'Menores': 'Menores'})\n",
    "# Replace prefix 'labor_' by 'L_' and 'holidays_' by 'H_'\n",
    "gen_disp['timestamp'] = gen_disp['timestamp'].str.replace('labor_', 'L_')\n",
    "gen_disp['timestamp'] = gen_disp['timestamp'].str.replace('holidays_', 'H_')\n",
    "\n",
    "gen_disp['Tech'] = gen_disp['gen_tech']\n",
    "fig = px.line(\n",
    "    gen_disp, \n",
    "    x='timestamp', y='DispatchGen_MW', \n",
    "    color='Tech', title='Generation by Technology (Switch)'\n",
    ")\n",
    "fig.update_layout(plot_bgcolor='white',xaxis=dict(gridcolor='lightgray'),yaxis=dict(gridcolor='lightgray'))\n",
    "fig.show()"
   ]
  },
  {
   "cell_type": "markdown",
   "metadata": {},
   "source": [
    "### 3.4.5 Dispatch by Technology Switch x XM"
   ]
  },
  {
   "cell_type": "code",
   "execution_count": 115,
   "metadata": {},
   "outputs": [
    {
     "data": {
      "application/vnd.plotly.v1+json": {
       "config": {
        "plotlyServerURL": "https://plot.ly"
       },
       "data": [
        {
         "hovertemplate": "Tech=Menores<br>timestamp=%{x}<br>DispatchGen_MW=%{y}<extra></extra>",
         "legendgroup": "Menores",
         "line": {
          "color": "#AEE83C",
          "dash": "solid"
         },
         "marker": {
          "symbol": "circle"
         },
         "mode": "lines",
         "name": "Menores",
         "orientation": "v",
         "showlegend": true,
         "type": "scatter",
         "x": [
          "2023_Q1_L_0h",
          "2023_Q1_L_1h",
          "2023_Q1_L_2h",
          "2023_Q1_L_3h",
          "2023_Q1_L_4h",
          "2023_Q1_L_5h",
          "2023_Q1_L_6h",
          "2023_Q1_L_7h",
          "2023_Q1_L_8h",
          "2023_Q1_L_9h",
          "2023_Q1_L_10h",
          "2023_Q1_L_11h",
          "2023_Q1_L_12h",
          "2023_Q1_L_13h",
          "2023_Q1_L_14h",
          "2023_Q1_L_15h",
          "2023_Q1_L_16h",
          "2023_Q1_L_17h",
          "2023_Q1_L_18h",
          "2023_Q1_L_19h",
          "2023_Q1_L_20h",
          "2023_Q1_L_21h",
          "2023_Q1_L_22h",
          "2023_Q1_L_23h",
          "2023_Q1_H_0h",
          "2023_Q1_H_1h",
          "2023_Q1_H_2h",
          "2023_Q1_H_3h",
          "2023_Q1_H_4h",
          "2023_Q1_H_5h",
          "2023_Q1_H_6h",
          "2023_Q1_H_7h",
          "2023_Q1_H_8h",
          "2023_Q1_H_9h",
          "2023_Q1_H_10h",
          "2023_Q1_H_11h",
          "2023_Q1_H_12h",
          "2023_Q1_H_13h",
          "2023_Q1_H_14h",
          "2023_Q1_H_15h",
          "2023_Q1_H_16h",
          "2023_Q1_H_17h",
          "2023_Q1_H_18h",
          "2023_Q1_H_19h",
          "2023_Q1_H_20h",
          "2023_Q1_H_21h",
          "2023_Q1_H_22h",
          "2023_Q1_H_23h",
          "2023_Q2_L_0h",
          "2023_Q2_L_1h",
          "2023_Q2_L_2h",
          "2023_Q2_L_3h",
          "2023_Q2_L_4h",
          "2023_Q2_L_5h",
          "2023_Q2_L_6h",
          "2023_Q2_L_7h",
          "2023_Q2_L_8h",
          "2023_Q2_L_9h",
          "2023_Q2_L_10h",
          "2023_Q2_L_11h",
          "2023_Q2_L_12h",
          "2023_Q2_L_13h",
          "2023_Q2_L_14h",
          "2023_Q2_L_15h",
          "2023_Q2_L_16h",
          "2023_Q2_L_17h",
          "2023_Q2_L_18h",
          "2023_Q2_L_19h",
          "2023_Q2_L_20h",
          "2023_Q2_L_21h",
          "2023_Q2_L_22h",
          "2023_Q2_L_23h",
          "2023_Q2_H_0h",
          "2023_Q2_H_1h",
          "2023_Q2_H_2h",
          "2023_Q2_H_3h",
          "2023_Q2_H_4h",
          "2023_Q2_H_5h",
          "2023_Q2_H_6h",
          "2023_Q2_H_7h",
          "2023_Q2_H_8h",
          "2023_Q2_H_9h",
          "2023_Q2_H_10h",
          "2023_Q2_H_11h",
          "2023_Q2_H_12h",
          "2023_Q2_H_13h",
          "2023_Q2_H_14h",
          "2023_Q2_H_15h",
          "2023_Q2_H_16h",
          "2023_Q2_H_17h",
          "2023_Q2_H_18h",
          "2023_Q2_H_19h",
          "2023_Q2_H_20h",
          "2023_Q2_H_21h",
          "2023_Q2_H_22h",
          "2023_Q2_H_23h",
          "2023_Q3_L_0h",
          "2023_Q3_L_1h",
          "2023_Q3_L_2h",
          "2023_Q3_L_3h",
          "2023_Q3_L_4h",
          "2023_Q3_L_5h",
          "2023_Q3_L_6h",
          "2023_Q3_L_7h",
          "2023_Q3_L_8h",
          "2023_Q3_L_9h",
          "2023_Q3_L_10h",
          "2023_Q3_L_11h",
          "2023_Q3_L_12h",
          "2023_Q3_L_13h",
          "2023_Q3_L_14h",
          "2023_Q3_L_15h",
          "2023_Q3_L_16h",
          "2023_Q3_L_17h",
          "2023_Q3_L_18h",
          "2023_Q3_L_19h",
          "2023_Q3_L_20h",
          "2023_Q3_L_21h",
          "2023_Q3_L_22h",
          "2023_Q3_L_23h",
          "2023_Q3_H_0h",
          "2023_Q3_H_1h",
          "2023_Q3_H_2h",
          "2023_Q3_H_3h",
          "2023_Q3_H_4h",
          "2023_Q3_H_5h",
          "2023_Q3_H_6h",
          "2023_Q3_H_7h",
          "2023_Q3_H_8h",
          "2023_Q3_H_9h",
          "2023_Q3_H_10h",
          "2023_Q3_H_11h",
          "2023_Q3_H_12h",
          "2023_Q3_H_13h",
          "2023_Q3_H_14h",
          "2023_Q3_H_15h",
          "2023_Q3_H_16h",
          "2023_Q3_H_17h",
          "2023_Q3_H_18h",
          "2023_Q3_H_19h",
          "2023_Q3_H_20h",
          "2023_Q3_H_21h",
          "2023_Q3_H_22h",
          "2023_Q3_H_23h",
          "2023_Q4_L_0h",
          "2023_Q4_L_1h",
          "2023_Q4_L_2h",
          "2023_Q4_L_3h",
          "2023_Q4_L_4h",
          "2023_Q4_L_5h",
          "2023_Q4_L_6h",
          "2023_Q4_L_7h",
          "2023_Q4_L_8h",
          "2023_Q4_L_9h",
          "2023_Q4_L_10h",
          "2023_Q4_L_11h",
          "2023_Q4_L_12h",
          "2023_Q4_L_13h",
          "2023_Q4_L_14h",
          "2023_Q4_L_15h",
          "2023_Q4_L_16h",
          "2023_Q4_L_17h",
          "2023_Q4_L_18h",
          "2023_Q4_L_19h",
          "2023_Q4_L_20h",
          "2023_Q4_L_21h",
          "2023_Q4_L_22h",
          "2023_Q4_L_23h",
          "2023_Q4_H_0h",
          "2023_Q4_H_1h",
          "2023_Q4_H_2h",
          "2023_Q4_H_3h",
          "2023_Q4_H_4h",
          "2023_Q4_H_5h",
          "2023_Q4_H_6h",
          "2023_Q4_H_7h",
          "2023_Q4_H_8h",
          "2023_Q4_H_9h",
          "2023_Q4_H_10h",
          "2023_Q4_H_11h",
          "2023_Q4_H_12h",
          "2023_Q4_H_13h",
          "2023_Q4_H_14h",
          "2023_Q4_H_15h",
          "2023_Q4_H_16h",
          "2023_Q4_H_17h",
          "2023_Q4_H_18h",
          "2023_Q4_H_19h",
          "2023_Q4_H_20h",
          "2023_Q4_H_21h",
          "2023_Q4_H_22h",
          "2023_Q4_H_23h"
         ],
         "xaxis": "x",
         "y": [
          106.07456935064936,
          104.69943584415584,
          105.44695246753247,
          105.20175246753249,
          106.1215516883117,
          105.7513225974026,
          105.77165935064937,
          104.74833987012988,
          104.43560168831168,
          102.7650638961039,
          99.35463935064936,
          97.92131155844156,
          98.10420012987014,
          98.81180623376625,
          99.38819077922078,
          98.41008064935063,
          98.63018675324676,
          100.6680896103896,
          102.32421636363635,
          102.96598753246754,
          103.47899103896104,
          104.91770623376624,
          104.88659181818184,
          105.34688155844155,
          98.69870846153843,
          106.4371753846154,
          106.40360230769231,
          106.86192461538462,
          105.25718923076924,
          101.70733461538462,
          100.34636538461541,
          99.41253153846154,
          100.86103,
          100.05026307692307,
          98.33399,
          97.99938692307693,
          94.94314076923075,
          94.30991538461538,
          95.10454692307692,
          95.50632153846152,
          96.91206615384615,
          96.8173676923077,
          98.87469307692308,
          98.19607153846152,
          97.18716,
          97.74883076923075,
          98.07274923076925,
          96.86000076923075,
          72.26760430379747,
          73.50397341772153,
          73.72879189873417,
          73.38900291139241,
          73.18948683544303,
          73.25226405063292,
          74.2141270886076,
          73.43843303797468,
          72.14659189873417,
          70.5506570886076,
          68.05233417721519,
          65.92670050632911,
          65.09881797468354,
          65.28964139240506,
          65.57994848101266,
          65.46179075949367,
          66.04767037974683,
          67.28133569620253,
          68.07881303797468,
          68.9303082278481,
          69.4215735443038,
          71.01387303797469,
          72.08646265822784,
          71.75116493670888,
          68.50010076923077,
          70.65852846153845,
          71.11809461538462,
          71.40040615384615,
          70.77627923076923,
          70.65549846153846,
          70.01696461538461,
          69.2576376923077,
          69.04307538461538,
          67.92741846153845,
          68.02228,
          66.53876846153847,
          65.40193923076923,
          64.31572923076922,
          64.68966307692308,
          65.34936307692307,
          64.74376923076923,
          66.0221046153846,
          67.59430692307691,
          66.8074023076923,
          65.44416076923076,
          65.59087923076922,
          68.01298307692308,
          67.16732,
          96.87880594936708,
          96.31199721518989,
          96.75780050632912,
          96.35199784810128,
          96.22794278481012,
          96.39066025316457,
          97.63772924050632,
          97.15956037974684,
          96.24944898734176,
          94.49827974683544,
          91.13826303797468,
          89.33884898734178,
          89.93755265822786,
          91.07299227848101,
          91.93634265822783,
          91.45755164556962,
          91.88554316455696,
          92.9214451898734,
          93.47612607594937,
          94.2255946835443,
          96.6221493670886,
          97.05267531645569,
          97.71837278481013,
          98.05243379746834,
          99.00986538461541,
          100.85685000000001,
          102.67766153846155,
          100.72117461538461,
          100.88954461538464,
          101.34094230769233,
          101.5340953846154,
          100.91045769230769,
          97.5398376923077,
          96.9635976923077,
          95.89578769230769,
          95.12314153846154,
          93.72937461538464,
          93.97830923076924,
          94.1115953846154,
          95.3039546153846,
          93.81807,
          95.33908230769232,
          96.43835307692308,
          96.16718615384617,
          96.20922615384616,
          99.25679692307693,
          99.3572046153846,
          99.45562538461536,
          89.4686803846154,
          91.70145025641025,
          92.02091230769231,
          91.48546833333334,
          90.58952269230768,
          91.21017307692308,
          92.0568471794872,
          91.91153282051282,
          89.96772128205129,
          88.66308769230768,
          85.8994485897436,
          84.05453499999999,
          84.5686508974359,
          84.7662994871795,
          84.47234038461538,
          84.45876025641026,
          85.39234538461538,
          86.01130423076923,
          87.81799910256409,
          87.81536153846154,
          88.98596064102564,
          89.74882256410257,
          90.42617602564104,
          89.7024823076923,
          95.41231307692308,
          89.48199153846153,
          90.03406461538462,
          91.59764846153844,
          91.32486615384616,
          91.86350384615383,
          92.83946923076924,
          90.83344923076925,
          91.67564692307691,
          92.53179384615386,
          91.48505076923075,
          90.15462846153844,
          87.9225,
          91.29685230769232,
          91.50753615384616,
          91.00483230769233,
          93.38121615384617,
          92.12761461538462,
          93.62566384615384,
          89.84289076923076,
          90.63472846153846,
          93.23994076923076,
          93.10494384615384,
          95.99463769230768
         ],
         "yaxis": "y"
        },
        {
         "hovertemplate": "Tech=Solar<br>timestamp=%{x}<br>DispatchGen_MW=%{y}<extra></extra>",
         "legendgroup": "Solar",
         "line": {
          "color": "#EFB52D",
          "dash": "solid"
         },
         "marker": {
          "symbol": "circle"
         },
         "mode": "lines",
         "name": "Solar",
         "orientation": "v",
         "showlegend": true,
         "type": "scatter",
         "x": [
          "2023_Q1_L_0h",
          "2023_Q1_L_1h",
          "2023_Q1_L_2h",
          "2023_Q1_L_3h",
          "2023_Q1_L_4h",
          "2023_Q1_L_5h",
          "2023_Q1_L_6h",
          "2023_Q1_L_7h",
          "2023_Q1_L_8h",
          "2023_Q1_L_9h",
          "2023_Q1_L_10h",
          "2023_Q1_L_11h",
          "2023_Q1_L_12h",
          "2023_Q1_L_13h",
          "2023_Q1_L_14h",
          "2023_Q1_L_15h",
          "2023_Q1_L_16h",
          "2023_Q1_L_17h",
          "2023_Q1_L_18h",
          "2023_Q1_L_19h",
          "2023_Q1_L_20h",
          "2023_Q1_L_21h",
          "2023_Q1_L_22h",
          "2023_Q1_L_23h",
          "2023_Q1_H_0h",
          "2023_Q1_H_1h",
          "2023_Q1_H_2h",
          "2023_Q1_H_3h",
          "2023_Q1_H_4h",
          "2023_Q1_H_5h",
          "2023_Q1_H_6h",
          "2023_Q1_H_7h",
          "2023_Q1_H_8h",
          "2023_Q1_H_9h",
          "2023_Q1_H_10h",
          "2023_Q1_H_11h",
          "2023_Q1_H_12h",
          "2023_Q1_H_13h",
          "2023_Q1_H_14h",
          "2023_Q1_H_15h",
          "2023_Q1_H_16h",
          "2023_Q1_H_17h",
          "2023_Q1_H_18h",
          "2023_Q1_H_19h",
          "2023_Q1_H_20h",
          "2023_Q1_H_21h",
          "2023_Q1_H_22h",
          "2023_Q1_H_23h",
          "2023_Q2_L_0h",
          "2023_Q2_L_1h",
          "2023_Q2_L_2h",
          "2023_Q2_L_3h",
          "2023_Q2_L_4h",
          "2023_Q2_L_5h",
          "2023_Q2_L_6h",
          "2023_Q2_L_7h",
          "2023_Q2_L_8h",
          "2023_Q2_L_9h",
          "2023_Q2_L_10h",
          "2023_Q2_L_11h",
          "2023_Q2_L_12h",
          "2023_Q2_L_13h",
          "2023_Q2_L_14h",
          "2023_Q2_L_15h",
          "2023_Q2_L_16h",
          "2023_Q2_L_17h",
          "2023_Q2_L_18h",
          "2023_Q2_L_19h",
          "2023_Q2_L_20h",
          "2023_Q2_L_21h",
          "2023_Q2_L_22h",
          "2023_Q2_L_23h",
          "2023_Q2_H_0h",
          "2023_Q2_H_1h",
          "2023_Q2_H_2h",
          "2023_Q2_H_3h",
          "2023_Q2_H_4h",
          "2023_Q2_H_5h",
          "2023_Q2_H_6h",
          "2023_Q2_H_7h",
          "2023_Q2_H_8h",
          "2023_Q2_H_9h",
          "2023_Q2_H_10h",
          "2023_Q2_H_11h",
          "2023_Q2_H_12h",
          "2023_Q2_H_13h",
          "2023_Q2_H_14h",
          "2023_Q2_H_15h",
          "2023_Q2_H_16h",
          "2023_Q2_H_17h",
          "2023_Q2_H_18h",
          "2023_Q2_H_19h",
          "2023_Q2_H_20h",
          "2023_Q2_H_21h",
          "2023_Q2_H_22h",
          "2023_Q2_H_23h",
          "2023_Q3_L_0h",
          "2023_Q3_L_1h",
          "2023_Q3_L_2h",
          "2023_Q3_L_3h",
          "2023_Q3_L_4h",
          "2023_Q3_L_5h",
          "2023_Q3_L_6h",
          "2023_Q3_L_7h",
          "2023_Q3_L_8h",
          "2023_Q3_L_9h",
          "2023_Q3_L_10h",
          "2023_Q3_L_11h",
          "2023_Q3_L_12h",
          "2023_Q3_L_13h",
          "2023_Q3_L_14h",
          "2023_Q3_L_15h",
          "2023_Q3_L_16h",
          "2023_Q3_L_17h",
          "2023_Q3_L_18h",
          "2023_Q3_L_19h",
          "2023_Q3_L_20h",
          "2023_Q3_L_21h",
          "2023_Q3_L_22h",
          "2023_Q3_L_23h",
          "2023_Q3_H_0h",
          "2023_Q3_H_1h",
          "2023_Q3_H_2h",
          "2023_Q3_H_3h",
          "2023_Q3_H_4h",
          "2023_Q3_H_5h",
          "2023_Q3_H_6h",
          "2023_Q3_H_7h",
          "2023_Q3_H_8h",
          "2023_Q3_H_9h",
          "2023_Q3_H_10h",
          "2023_Q3_H_11h",
          "2023_Q3_H_12h",
          "2023_Q3_H_13h",
          "2023_Q3_H_14h",
          "2023_Q3_H_15h",
          "2023_Q3_H_16h",
          "2023_Q3_H_17h",
          "2023_Q3_H_18h",
          "2023_Q3_H_19h",
          "2023_Q3_H_20h",
          "2023_Q3_H_21h",
          "2023_Q3_H_22h",
          "2023_Q3_H_23h",
          "2023_Q4_L_0h",
          "2023_Q4_L_1h",
          "2023_Q4_L_2h",
          "2023_Q4_L_3h",
          "2023_Q4_L_4h",
          "2023_Q4_L_5h",
          "2023_Q4_L_6h",
          "2023_Q4_L_7h",
          "2023_Q4_L_8h",
          "2023_Q4_L_9h",
          "2023_Q4_L_10h",
          "2023_Q4_L_11h",
          "2023_Q4_L_12h",
          "2023_Q4_L_13h",
          "2023_Q4_L_14h",
          "2023_Q4_L_15h",
          "2023_Q4_L_16h",
          "2023_Q4_L_17h",
          "2023_Q4_L_18h",
          "2023_Q4_L_19h",
          "2023_Q4_L_20h",
          "2023_Q4_L_21h",
          "2023_Q4_L_22h",
          "2023_Q4_L_23h",
          "2023_Q4_H_0h",
          "2023_Q4_H_1h",
          "2023_Q4_H_2h",
          "2023_Q4_H_3h",
          "2023_Q4_H_4h",
          "2023_Q4_H_5h",
          "2023_Q4_H_6h",
          "2023_Q4_H_7h",
          "2023_Q4_H_8h",
          "2023_Q4_H_9h",
          "2023_Q4_H_10h",
          "2023_Q4_H_11h",
          "2023_Q4_H_12h",
          "2023_Q4_H_13h",
          "2023_Q4_H_14h",
          "2023_Q4_H_15h",
          "2023_Q4_H_16h",
          "2023_Q4_H_17h",
          "2023_Q4_H_18h",
          "2023_Q4_H_19h",
          "2023_Q4_H_20h",
          "2023_Q4_H_21h",
          "2023_Q4_H_22h",
          "2023_Q4_H_23h"
         ],
         "xaxis": "x",
         "y": [
          0.0000167532467532467,
          0.0000329870129870129,
          0.0000438961038961038,
          0.0000318181818181818,
          0.000034675324675324606,
          0.0000307792207792207,
          0.025963506493506493,
          19.160868961038958,
          116.54004506493509,
          196.93674831168832,
          243.17632012987008,
          262.80058207792206,
          270.5466641558442,
          268.74420922077917,
          258.1261984415585,
          239.45520363636365,
          202.4776192207792,
          124.7452374025974,
          20.75173103896104,
          0.012545194805194804,
          5.194805194805e-7,
          7.792207792206999e-7,
          0,
          0,
          0,
          0,
          0,
          0,
          0,
          0,
          0.030633846153846157,
          17.61660923076923,
          108.48702,
          189.82279,
          233.69373230769233,
          265.89607153846157,
          269.04437538461536,
          269.3413076923077,
          253.44489615384612,
          239.59313923076925,
          206.2919523076923,
          118.20721846153846,
          20.290775384615383,
          0.01447153846153846,
          0,
          0,
          0,
          0,
          0.0000177215189873417,
          0.0000025316455696201997,
          0.0000020253164556962,
          0.0000092405063291139,
          0.0000140506329113924,
          0.0000379746835443038,
          0.4152474683544304,
          28.54610658227848,
          109.21890734177217,
          185.27091240506329,
          240.93562911392405,
          271.3965759493671,
          288.1607858227848,
          290.21035822784813,
          281.2397140506329,
          256.83362645569616,
          202.26153898734177,
          124.31126050632912,
          27.95660278481013,
          0.07984721518987342,
          0.0000037974683544302998,
          0.0000162025316455696,
          0.000017215189873417702,
          0.0000177215189873417,
          0,
          0.0000015384615384615002,
          0.0000023076923076923,
          0.0000015384615384615002,
          0,
          0,
          0.5369315384615385,
          26.137053076923074,
          98.7901976923077,
          163.30255076923078,
          225.3532876923077,
          262.8008623076923,
          273.5864861538461,
          279.0660984615385,
          276.97743153846153,
          253.82124538461534,
          197.5332492307693,
          120.74589923076923,
          27.81057384615385,
          0.05326076923076924,
          0.0000015384615384615002,
          0,
          0,
          0,
          0.00002,
          0.0000320253164556962,
          0.0000284810126582278,
          0.0000278481012658227,
          0.0000415189873417721,
          0.0000422784810126582,
          0.2287121518987342,
          42.507012151898735,
          158.8501151898734,
          267.25628582278483,
          338.3630006329114,
          381.2922555696203,
          391.9539818987342,
          389.76135569620254,
          367.5446750632911,
          330.037496329114,
          268.1406559493671,
          174.66934556962025,
          46.77178670886076,
          0.45953164556962023,
          0.0002562025316455696,
          0.0000192405063291139,
          0.0000189873417721519,
          0.000023164556962025298,
          0,
          0.000011538461538461499,
          0.000012307692307692301,
          0.000012307692307692301,
          0.0000107692307692307,
          0.0000092307692307692,
          0.19724769230769232,
          43.87577692307692,
          173.73978461538462,
          274.84486846153845,
          329.4608307692307,
          388.57220384615385,
          402.8527576923077,
          391.5189461538462,
          361.4737715384616,
          321.8367084615385,
          243.8767346153846,
          148.43737692307693,
          41.06443,
          0.34464076923076925,
          0.0000153846153846153,
          0.00001,
          0,
          0,
          0.0006775641025641025,
          0.0007689743589743591,
          0.0005787179487179487,
          0.000588974358974359,
          0.0005602564102564103,
          0.0005112820512820511,
          0.5682333333333334,
          65.13903576923077,
          241.47203756410255,
          393.2111867948718,
          491.8807202564103,
          535.0610543589744,
          551.8461869230769,
          548.3798680769231,
          514.397585897436,
          444.02753923076926,
          342.5471961538462,
          173.63297999999998,
          18.84458,
          0.004502948717948718,
          0.0009097435897435896,
          0.0006012820512820514,
          0.0006356410256410257,
          0.0006760256410256411,
          0,
          0,
          0,
          0,
          0,
          0,
          0.56308,
          56.29506615384615,
          202.21573999999998,
          352.46721461538465,
          446.6933638461539,
          489.2721823076923,
          507.14789846153843,
          502.70255846153844,
          483.8132015384616,
          408.5403484615385,
          321.2780815384616,
          151.40090538461538,
          15.623336923076923,
          0.002468461538461538,
          0,
          0,
          0,
          0
         ],
         "yaxis": "y"
        },
        {
         "hovertemplate": "Tech=Thermal<br>timestamp=%{x}<br>DispatchGen_MW=%{y}<extra></extra>",
         "legendgroup": "Thermal",
         "line": {
          "color": "#E84A59",
          "dash": "solid"
         },
         "marker": {
          "symbol": "circle"
         },
         "mode": "lines",
         "name": "Thermal",
         "orientation": "v",
         "showlegend": true,
         "type": "scatter",
         "x": [
          "2023_Q1_L_0h",
          "2023_Q1_L_1h",
          "2023_Q1_L_2h",
          "2023_Q1_L_3h",
          "2023_Q1_L_4h",
          "2023_Q1_L_5h",
          "2023_Q1_L_6h",
          "2023_Q1_L_7h",
          "2023_Q1_L_8h",
          "2023_Q1_L_9h",
          "2023_Q1_L_10h",
          "2023_Q1_L_11h",
          "2023_Q1_L_12h",
          "2023_Q1_L_13h",
          "2023_Q1_L_14h",
          "2023_Q1_L_15h",
          "2023_Q1_L_16h",
          "2023_Q1_L_17h",
          "2023_Q1_L_18h",
          "2023_Q1_L_19h",
          "2023_Q1_L_20h",
          "2023_Q1_L_21h",
          "2023_Q1_L_22h",
          "2023_Q1_L_23h",
          "2023_Q1_H_0h",
          "2023_Q1_H_1h",
          "2023_Q1_H_2h",
          "2023_Q1_H_3h",
          "2023_Q1_H_4h",
          "2023_Q1_H_5h",
          "2023_Q1_H_6h",
          "2023_Q1_H_7h",
          "2023_Q1_H_8h",
          "2023_Q1_H_9h",
          "2023_Q1_H_10h",
          "2023_Q1_H_11h",
          "2023_Q1_H_12h",
          "2023_Q1_H_13h",
          "2023_Q1_H_14h",
          "2023_Q1_H_15h",
          "2023_Q1_H_16h",
          "2023_Q1_H_17h",
          "2023_Q1_H_18h",
          "2023_Q1_H_19h",
          "2023_Q1_H_20h",
          "2023_Q1_H_21h",
          "2023_Q1_H_22h",
          "2023_Q1_H_23h",
          "2023_Q2_L_0h",
          "2023_Q2_L_1h",
          "2023_Q2_L_2h",
          "2023_Q2_L_3h",
          "2023_Q2_L_4h",
          "2023_Q2_L_5h",
          "2023_Q2_L_6h",
          "2023_Q2_L_7h",
          "2023_Q2_L_8h",
          "2023_Q2_L_9h",
          "2023_Q2_L_10h",
          "2023_Q2_L_11h",
          "2023_Q2_L_12h",
          "2023_Q2_L_13h",
          "2023_Q2_L_14h",
          "2023_Q2_L_15h",
          "2023_Q2_L_16h",
          "2023_Q2_L_17h",
          "2023_Q2_L_18h",
          "2023_Q2_L_19h",
          "2023_Q2_L_20h",
          "2023_Q2_L_21h",
          "2023_Q2_L_22h",
          "2023_Q2_L_23h",
          "2023_Q2_H_0h",
          "2023_Q2_H_1h",
          "2023_Q2_H_2h",
          "2023_Q2_H_3h",
          "2023_Q2_H_4h",
          "2023_Q2_H_5h",
          "2023_Q2_H_6h",
          "2023_Q2_H_7h",
          "2023_Q2_H_8h",
          "2023_Q2_H_9h",
          "2023_Q2_H_10h",
          "2023_Q2_H_11h",
          "2023_Q2_H_12h",
          "2023_Q2_H_13h",
          "2023_Q2_H_14h",
          "2023_Q2_H_15h",
          "2023_Q2_H_16h",
          "2023_Q2_H_17h",
          "2023_Q2_H_18h",
          "2023_Q2_H_19h",
          "2023_Q2_H_20h",
          "2023_Q2_H_21h",
          "2023_Q2_H_22h",
          "2023_Q2_H_23h",
          "2023_Q3_L_0h",
          "2023_Q3_L_1h",
          "2023_Q3_L_2h",
          "2023_Q3_L_3h",
          "2023_Q3_L_4h",
          "2023_Q3_L_5h",
          "2023_Q3_L_6h",
          "2023_Q3_L_7h",
          "2023_Q3_L_8h",
          "2023_Q3_L_9h",
          "2023_Q3_L_10h",
          "2023_Q3_L_11h",
          "2023_Q3_L_12h",
          "2023_Q3_L_13h",
          "2023_Q3_L_14h",
          "2023_Q3_L_15h",
          "2023_Q3_L_16h",
          "2023_Q3_L_17h",
          "2023_Q3_L_18h",
          "2023_Q3_L_19h",
          "2023_Q3_L_20h",
          "2023_Q3_L_21h",
          "2023_Q3_L_22h",
          "2023_Q3_L_23h",
          "2023_Q3_H_0h",
          "2023_Q3_H_1h",
          "2023_Q3_H_2h",
          "2023_Q3_H_3h",
          "2023_Q3_H_4h",
          "2023_Q3_H_5h",
          "2023_Q3_H_6h",
          "2023_Q3_H_7h",
          "2023_Q3_H_8h",
          "2023_Q3_H_9h",
          "2023_Q3_H_10h",
          "2023_Q3_H_11h",
          "2023_Q3_H_12h",
          "2023_Q3_H_13h",
          "2023_Q3_H_14h",
          "2023_Q3_H_15h",
          "2023_Q3_H_16h",
          "2023_Q3_H_17h",
          "2023_Q3_H_18h",
          "2023_Q3_H_19h",
          "2023_Q3_H_20h",
          "2023_Q3_H_21h",
          "2023_Q3_H_22h",
          "2023_Q3_H_23h",
          "2023_Q4_L_0h",
          "2023_Q4_L_1h",
          "2023_Q4_L_2h",
          "2023_Q4_L_3h",
          "2023_Q4_L_4h",
          "2023_Q4_L_5h",
          "2023_Q4_L_6h",
          "2023_Q4_L_7h",
          "2023_Q4_L_8h",
          "2023_Q4_L_9h",
          "2023_Q4_L_10h",
          "2023_Q4_L_11h",
          "2023_Q4_L_12h",
          "2023_Q4_L_13h",
          "2023_Q4_L_14h",
          "2023_Q4_L_15h",
          "2023_Q4_L_16h",
          "2023_Q4_L_17h",
          "2023_Q4_L_18h",
          "2023_Q4_L_19h",
          "2023_Q4_L_20h",
          "2023_Q4_L_21h",
          "2023_Q4_L_22h",
          "2023_Q4_L_23h",
          "2023_Q4_H_0h",
          "2023_Q4_H_1h",
          "2023_Q4_H_2h",
          "2023_Q4_H_3h",
          "2023_Q4_H_4h",
          "2023_Q4_H_5h",
          "2023_Q4_H_6h",
          "2023_Q4_H_7h",
          "2023_Q4_H_8h",
          "2023_Q4_H_9h",
          "2023_Q4_H_10h",
          "2023_Q4_H_11h",
          "2023_Q4_H_12h",
          "2023_Q4_H_13h",
          "2023_Q4_H_14h",
          "2023_Q4_H_15h",
          "2023_Q4_H_16h",
          "2023_Q4_H_17h",
          "2023_Q4_H_18h",
          "2023_Q4_H_19h",
          "2023_Q4_H_20h",
          "2023_Q4_H_21h",
          "2023_Q4_H_22h",
          "2023_Q4_H_23h"
         ],
         "xaxis": "x",
         "y": [
          1499.314782077922,
          1417.7121454545454,
          1370.235328961039,
          1329.130765194805,
          1301.9349536363636,
          1282.4876338961037,
          1301.34394,
          1334.8800074025971,
          1368.2782355844156,
          1405.524732207792,
          1442.3582900000001,
          1471.6045483116882,
          1500.9440777922077,
          1522.193358051948,
          1535.4539,
          1548.5173580519481,
          1559.180198311688,
          1559.7991000000002,
          1559.8319435064936,
          1598.1777481818183,
          1615.917687922078,
          1616.2436801298702,
          1580.5082994805196,
          1544.4163675324678,
          1396.0647761538462,
          1409.6358138461537,
          1390.2109592307693,
          1320.5007492307698,
          1281.1547684615384,
          1233.8538523076925,
          1201.536890769231,
          1123.2369784615385,
          1143.1785476923076,
          1171.990399230769,
          1232.471363846154,
          1287.9861761538464,
          1317.3767915384615,
          1346.459783076923,
          1349.952622307692,
          1370.8080576923076,
          1384.1369384615384,
          1405.3106169230769,
          1421.856016923077,
          1462.857602307692,
          1469.9882253846154,
          1462.1349253846156,
          1434.506856153846,
          1429.9137292307691,
          1470.8374851898734,
          1357.4178097468355,
          1278.296807721519,
          1222.9592973417718,
          1199.3638244303797,
          1191.335988607595,
          1199.2128269620255,
          1202.0965367088609,
          1218.110816835443,
          1265.8304437974684,
          1292.7474583544306,
          1320.0774018987345,
          1356.1175035443039,
          1374.7784096202531,
          1410.2636512658228,
          1457.0924430379746,
          1468.6516634177215,
          1451.1241078481014,
          1448.1019789873415,
          1495.9914079746836,
          1541.8294827848104,
          1552.6184529113923,
          1525.2912582278482,
          1515.3705030379747,
          1321.2486546153848,
          1307.1581107692307,
          1264.4506115384613,
          1221.8362323076924,
          1166.9256607692307,
          1128.4427492307693,
          1091.9717607692307,
          1058.5348061538461,
          1079.25593,
          1095.60726,
          1097.2081353846154,
          1116.6243961538462,
          1135.3803884615384,
          1145.9894138461539,
          1155.2989484615384,
          1193.7324346153846,
          1204.1582292307692,
          1211.27146,
          1228.4854284615385,
          1308.7093061538462,
          1353.99766,
          1371.373677692308,
          1348.6111815384618,
          1344.7652484615385,
          2060.383187468354,
          1884.2937167088608,
          1767.192948227848,
          1694.8587062025317,
          1656.2711096202531,
          1655.9812113924052,
          1681.009959113924,
          1696.9958865822784,
          1740.7684186075949,
          1815.7460827848101,
          1866.473490886076,
          1918.1708686075951,
          1973.1365262025315,
          2006.4667050632909,
          2046.489735443038,
          2076.0398,
          2088.04169886076,
          2081.312371772152,
          2088.3701565822785,
          2131.39598,
          2155.3167367088604,
          2165.650693670886,
          2148.986453544304,
          2126.806705189873,
          1950.9532946153845,
          1921.86171,
          1855.507996923077,
          1745.4466338461534,
          1659.6135007692303,
          1614.031463846154,
          1548.4366476923078,
          1532.088025384615,
          1551.1401484615383,
          1608.7654492307693,
          1680.5167876923074,
          1730.1654123076921,
          1745.8333023076923,
          1758.5309615384615,
          1774.3408369230767,
          1775.8654815384618,
          1799.3294907692307,
          1813.8725361538459,
          1879.4373869230772,
          1986.659267692308,
          2011.833676153846,
          2008.849507692308,
          1984.9461884615384,
          1995.8542153846156,
          2916.916886666667,
          2795.3256992307693,
          2732.222742948718,
          2688.4577666666664,
          2688.8610547435896,
          2700.5322323076925,
          2714.522983974359,
          2732.718401666667,
          2776.3580866666666,
          2822.763123717949,
          2870.3139989743586,
          2909.7483329487177,
          2933.849807051282,
          2958.0874005128208,
          2978.088406923077,
          3013.7925876923077,
          3043.1865103846153,
          3052.5254526923077,
          3076.7896773076923,
          3138.154015128205,
          3147.4036519230767,
          3124.675713846154,
          3058.8854410256413,
          2986.44085448718,
          2728.9183415384614,
          2745.0201453846157,
          2674.338377692308,
          2611.0838730769233,
          2617.212751538462,
          2583.646719230769,
          2529.173266923077,
          2493.009299230769,
          2515.4364915384617,
          2533.438156153846,
          2555.500694615385,
          2624.8108984615383,
          2661.021691538461,
          2679.5919584615385,
          2708.5569576923076,
          2747.282006153846,
          2769.25862,
          2763.146793076923,
          2807.249667692308,
          2847.302399230769,
          2804.5368315384617,
          2762.0971230769233,
          2735.6291407692306,
          2740.986423076923
         ],
         "yaxis": "y"
        },
        {
         "hovertemplate": "Tech=Eolica<br>timestamp=%{x}<br>DispatchGen_MW=%{y}<extra></extra>",
         "legendgroup": "Eolica",
         "line": {
          "color": "#45CFFF",
          "dash": "solid"
         },
         "marker": {
          "symbol": "circle"
         },
         "mode": "lines",
         "name": "Eolica",
         "orientation": "v",
         "showlegend": true,
         "type": "scatter",
         "x": [
          "2023_Q1_L_0h",
          "2023_Q1_L_1h",
          "2023_Q1_L_2h",
          "2023_Q1_L_3h",
          "2023_Q1_L_4h",
          "2023_Q1_L_5h",
          "2023_Q1_L_6h",
          "2023_Q1_L_7h",
          "2023_Q1_L_8h",
          "2023_Q1_L_9h",
          "2023_Q1_L_10h",
          "2023_Q1_L_11h",
          "2023_Q1_L_12h",
          "2023_Q1_L_13h",
          "2023_Q1_L_14h",
          "2023_Q1_L_15h",
          "2023_Q1_L_16h",
          "2023_Q1_L_17h",
          "2023_Q1_L_18h",
          "2023_Q1_L_19h",
          "2023_Q1_L_20h",
          "2023_Q1_L_21h",
          "2023_Q1_L_22h",
          "2023_Q1_L_23h",
          "2023_Q1_H_0h",
          "2023_Q1_H_1h",
          "2023_Q1_H_2h",
          "2023_Q1_H_3h",
          "2023_Q1_H_4h",
          "2023_Q1_H_5h",
          "2023_Q1_H_6h",
          "2023_Q1_H_7h",
          "2023_Q1_H_8h",
          "2023_Q1_H_9h",
          "2023_Q1_H_10h",
          "2023_Q1_H_11h",
          "2023_Q1_H_12h",
          "2023_Q1_H_13h",
          "2023_Q1_H_14h",
          "2023_Q1_H_15h",
          "2023_Q1_H_16h",
          "2023_Q1_H_17h",
          "2023_Q1_H_18h",
          "2023_Q1_H_19h",
          "2023_Q1_H_20h",
          "2023_Q1_H_21h",
          "2023_Q1_H_22h",
          "2023_Q1_H_23h",
          "2023_Q2_L_0h",
          "2023_Q2_L_1h",
          "2023_Q2_L_2h",
          "2023_Q2_L_3h",
          "2023_Q2_L_4h",
          "2023_Q2_L_5h",
          "2023_Q2_L_6h",
          "2023_Q2_L_7h",
          "2023_Q2_L_8h",
          "2023_Q2_L_9h",
          "2023_Q2_L_10h",
          "2023_Q2_L_11h",
          "2023_Q2_L_12h",
          "2023_Q2_L_13h",
          "2023_Q2_L_14h",
          "2023_Q2_L_15h",
          "2023_Q2_L_16h",
          "2023_Q2_L_17h",
          "2023_Q2_L_18h",
          "2023_Q2_L_19h",
          "2023_Q2_L_20h",
          "2023_Q2_L_21h",
          "2023_Q2_L_22h",
          "2023_Q2_L_23h",
          "2023_Q2_H_0h",
          "2023_Q2_H_1h",
          "2023_Q2_H_2h",
          "2023_Q2_H_3h",
          "2023_Q2_H_4h",
          "2023_Q2_H_5h",
          "2023_Q2_H_6h",
          "2023_Q2_H_7h",
          "2023_Q2_H_8h",
          "2023_Q2_H_9h",
          "2023_Q2_H_10h",
          "2023_Q2_H_11h",
          "2023_Q2_H_12h",
          "2023_Q2_H_13h",
          "2023_Q2_H_14h",
          "2023_Q2_H_15h",
          "2023_Q2_H_16h",
          "2023_Q2_H_17h",
          "2023_Q2_H_18h",
          "2023_Q2_H_19h",
          "2023_Q2_H_20h",
          "2023_Q2_H_21h",
          "2023_Q2_H_22h",
          "2023_Q2_H_23h",
          "2023_Q3_L_0h",
          "2023_Q3_L_1h",
          "2023_Q3_L_2h",
          "2023_Q3_L_3h",
          "2023_Q3_L_4h",
          "2023_Q3_L_5h",
          "2023_Q3_L_6h",
          "2023_Q3_L_7h",
          "2023_Q3_L_8h",
          "2023_Q3_L_9h",
          "2023_Q3_L_10h",
          "2023_Q3_L_11h",
          "2023_Q3_L_12h",
          "2023_Q3_L_13h",
          "2023_Q3_L_14h",
          "2023_Q3_L_15h",
          "2023_Q3_L_16h",
          "2023_Q3_L_17h",
          "2023_Q3_L_18h",
          "2023_Q3_L_19h",
          "2023_Q3_L_20h",
          "2023_Q3_L_21h",
          "2023_Q3_L_22h",
          "2023_Q3_L_23h",
          "2023_Q3_H_0h",
          "2023_Q3_H_1h",
          "2023_Q3_H_2h",
          "2023_Q3_H_3h",
          "2023_Q3_H_4h",
          "2023_Q3_H_5h",
          "2023_Q3_H_6h",
          "2023_Q3_H_7h",
          "2023_Q3_H_8h",
          "2023_Q3_H_9h",
          "2023_Q3_H_10h",
          "2023_Q3_H_11h",
          "2023_Q3_H_12h",
          "2023_Q3_H_13h",
          "2023_Q3_H_14h",
          "2023_Q3_H_15h",
          "2023_Q3_H_16h",
          "2023_Q3_H_17h",
          "2023_Q3_H_18h",
          "2023_Q3_H_19h",
          "2023_Q3_H_20h",
          "2023_Q3_H_21h",
          "2023_Q3_H_22h",
          "2023_Q3_H_23h",
          "2023_Q4_L_0h",
          "2023_Q4_L_1h",
          "2023_Q4_L_2h",
          "2023_Q4_L_3h",
          "2023_Q4_L_4h",
          "2023_Q4_L_5h",
          "2023_Q4_L_6h",
          "2023_Q4_L_7h",
          "2023_Q4_L_8h",
          "2023_Q4_L_9h",
          "2023_Q4_L_10h",
          "2023_Q4_L_11h",
          "2023_Q4_L_12h",
          "2023_Q4_L_13h",
          "2023_Q4_L_14h",
          "2023_Q4_L_15h",
          "2023_Q4_L_16h",
          "2023_Q4_L_17h",
          "2023_Q4_L_18h",
          "2023_Q4_L_19h",
          "2023_Q4_L_20h",
          "2023_Q4_L_21h",
          "2023_Q4_L_22h",
          "2023_Q4_L_23h",
          "2023_Q4_H_0h",
          "2023_Q4_H_1h",
          "2023_Q4_H_2h",
          "2023_Q4_H_3h",
          "2023_Q4_H_4h",
          "2023_Q4_H_5h",
          "2023_Q4_H_6h",
          "2023_Q4_H_7h",
          "2023_Q4_H_8h",
          "2023_Q4_H_9h",
          "2023_Q4_H_10h",
          "2023_Q4_H_11h",
          "2023_Q4_H_12h",
          "2023_Q4_H_13h",
          "2023_Q4_H_14h",
          "2023_Q4_H_15h",
          "2023_Q4_H_16h",
          "2023_Q4_H_17h",
          "2023_Q4_H_18h",
          "2023_Q4_H_19h",
          "2023_Q4_H_20h",
          "2023_Q4_H_21h",
          "2023_Q4_H_22h",
          "2023_Q4_H_23h"
         ],
         "xaxis": "x",
         "y": [
          21.928229740259738,
          20.540196103896104,
          19.905551298701297,
          19.21012909090909,
          17.485991818181816,
          16.509596363636362,
          16.182089610389607,
          15.538796233766234,
          15.10408181818182,
          17.11917675324675,
          19.168037402597406,
          20.669737792207798,
          22.08399194805195,
          23.44256116883117,
          24.919838571428567,
          25.153357272727277,
          25.412010779220786,
          25.684628701298703,
          25.767292467532467,
          25.36738194805195,
          24.303351818181813,
          23.228203896103896,
          22.79565974025974,
          22.503550909090908,
          20.02381076923077,
          19.79884769230769,
          18.509237692307693,
          17.932244615384615,
          18.19233923076923,
          17.71273846153846,
          16.250666923076924,
          14.05855076923077,
          13.636209230769232,
          17.331384615384618,
          18.291040769230772,
          19.067581538461535,
          21.15905538461538,
          23.371758461538466,
          23.628488461538453,
          24.08877538461538,
          24.053477692307695,
          24.707456153846156,
          25.04003846153846,
          24.55031384615385,
          22.90508307692308,
          22.771668461538464,
          22.784487692307692,
          21.93121307692308,
          21.51519050632912,
          20.618151012658224,
          19.9773517721519,
          18.899853797468356,
          18.085298101265824,
          17.187221898734176,
          16.49301240506329,
          15.441943417721522,
          15.83740164556962,
          16.41786430379747,
          16.664259746835445,
          18.793352151898738,
          22.347888481012657,
          25.219705063291137,
          26.850277215189873,
          27.49749898734177,
          27.470622151898734,
          27.853097974683546,
          27.85247848101265,
          26.633711898734177,
          25.60711113924051,
          24.40476341772152,
          23.403527721518984,
          22.508732278481013,
          19.473950000000002,
          20.63798769230769,
          19.28081153846154,
          17.90829,
          18.40178461538461,
          15.272185384615385,
          13.410236153846153,
          13.103881538461536,
          11.94945,
          11.005793846153848,
          12.177685384615385,
          12.657023846153848,
          18.147783846153846,
          20.402866153846155,
          22.658400769230767,
          23.89440846153846,
          24.314299230769237,
          25.382925384615387,
          23.849789230769233,
          23.26232230769231,
          23.31357461538461,
          22.404515384615383,
          22.15369384615385,
          20.526132307692308,
          20.58436341772152,
          19.450768860759492,
          18.09618227848101,
          17.12812240506329,
          16.62046012658228,
          15.682761139240503,
          15.248010886075948,
          14.783063164556959,
          16.457180379746834,
          17.87298582278481,
          18.31821683544304,
          18.978911012658227,
          21.55569670886076,
          22.907253797468353,
          23.298163670886076,
          23.50896151898734,
          24.15983379746836,
          24.54724594936709,
          24.845949620253165,
          24.84414924050633,
          23.791843670886074,
          22.48726860759493,
          21.8523435443038,
          20.980759493670885,
          18.93491076923077,
          21.51671461538461,
          18.892049999999998,
          17.389384615384618,
          18.10652076923077,
          18.22288384615385,
          17.14818153846154,
          16.423496153846155,
          18.77485846153846,
          18.40076461538461,
          17.888526923076924,
          18.566558461538463,
          19.97653923076923,
          22.950033076923074,
          25.65026076923077,
          25.93675,
          25.42515846153846,
          24.08117538461539,
          25.091168461538466,
          23.67521153846154,
          22.814206923076924,
          22.135094615384613,
          21.422718461538466,
          20.32232384615385,
          13.476736923076924,
          11.019211666666665,
          10.159110897435898,
          10.070741923076925,
          10.05727294871795,
          9.653785384615384,
          8.797637564102564,
          8.421595384615385,
          9.081372307692309,
          9.089981666666668,
          9.593769743589744,
          11.370048333333335,
          14.84715358974359,
          18.177292948717948,
          20.34661141025641,
          20.540356025641028,
          20.250654102564102,
          20.56111871794872,
          20.966141282051282,
          20.01593935897436,
          18.55989435897436,
          16.966965000000002,
          15.10098205128205,
          14.01730217948718,
          10.413023076923077,
          10.855805384615383,
          8.763176153846155,
          8.25478769230769,
          8.275776153846152,
          8.240633076923077,
          7.261223076923076,
          6.82606,
          7.2992838461538465,
          7.1760807692307695,
          10.034446923076924,
          11.583081538461538,
          12.733040769230767,
          16.013184615384617,
          17.355710769230768,
          18.612125384615386,
          19.247875384615384,
          18.416106923076924,
          16.91921846153846,
          15.815109230769233,
          14.394766153846152,
          13.742505384615386,
          12.10500923076923,
          10.801173846153846
         ],
         "yaxis": "y"
        },
        {
         "hovertemplate": "Tech=Hidro<br>timestamp=%{x}<br>DispatchGen_MW=%{y}<extra></extra>",
         "legendgroup": "Hidro",
         "line": {
          "color": "#744FD0",
          "dash": "solid"
         },
         "marker": {
          "symbol": "circle"
         },
         "mode": "lines",
         "name": "Hidro",
         "orientation": "v",
         "showlegend": true,
         "type": "scatter",
         "x": [
          "2023_Q1_L_0h",
          "2023_Q1_L_1h",
          "2023_Q1_L_2h",
          "2023_Q1_L_3h",
          "2023_Q1_L_4h",
          "2023_Q1_L_5h",
          "2023_Q1_L_6h",
          "2023_Q1_L_7h",
          "2023_Q1_L_8h",
          "2023_Q1_L_9h",
          "2023_Q1_L_10h",
          "2023_Q1_L_11h",
          "2023_Q1_L_12h",
          "2023_Q1_L_13h",
          "2023_Q1_L_14h",
          "2023_Q1_L_15h",
          "2023_Q1_L_16h",
          "2023_Q1_L_17h",
          "2023_Q1_L_18h",
          "2023_Q1_L_19h",
          "2023_Q1_L_20h",
          "2023_Q1_L_21h",
          "2023_Q1_L_22h",
          "2023_Q1_L_23h",
          "2023_Q1_H_0h",
          "2023_Q1_H_1h",
          "2023_Q1_H_2h",
          "2023_Q1_H_3h",
          "2023_Q1_H_4h",
          "2023_Q1_H_5h",
          "2023_Q1_H_6h",
          "2023_Q1_H_7h",
          "2023_Q1_H_8h",
          "2023_Q1_H_9h",
          "2023_Q1_H_10h",
          "2023_Q1_H_11h",
          "2023_Q1_H_12h",
          "2023_Q1_H_13h",
          "2023_Q1_H_14h",
          "2023_Q1_H_15h",
          "2023_Q1_H_16h",
          "2023_Q1_H_17h",
          "2023_Q1_H_18h",
          "2023_Q1_H_19h",
          "2023_Q1_H_20h",
          "2023_Q1_H_21h",
          "2023_Q1_H_22h",
          "2023_Q1_H_23h",
          "2023_Q2_L_0h",
          "2023_Q2_L_1h",
          "2023_Q2_L_2h",
          "2023_Q2_L_3h",
          "2023_Q2_L_4h",
          "2023_Q2_L_5h",
          "2023_Q2_L_6h",
          "2023_Q2_L_7h",
          "2023_Q2_L_8h",
          "2023_Q2_L_9h",
          "2023_Q2_L_10h",
          "2023_Q2_L_11h",
          "2023_Q2_L_12h",
          "2023_Q2_L_13h",
          "2023_Q2_L_14h",
          "2023_Q2_L_15h",
          "2023_Q2_L_16h",
          "2023_Q2_L_17h",
          "2023_Q2_L_18h",
          "2023_Q2_L_19h",
          "2023_Q2_L_20h",
          "2023_Q2_L_21h",
          "2023_Q2_L_22h",
          "2023_Q2_L_23h",
          "2023_Q2_H_0h",
          "2023_Q2_H_1h",
          "2023_Q2_H_2h",
          "2023_Q2_H_3h",
          "2023_Q2_H_4h",
          "2023_Q2_H_5h",
          "2023_Q2_H_6h",
          "2023_Q2_H_7h",
          "2023_Q2_H_8h",
          "2023_Q2_H_9h",
          "2023_Q2_H_10h",
          "2023_Q2_H_11h",
          "2023_Q2_H_12h",
          "2023_Q2_H_13h",
          "2023_Q2_H_14h",
          "2023_Q2_H_15h",
          "2023_Q2_H_16h",
          "2023_Q2_H_17h",
          "2023_Q2_H_18h",
          "2023_Q2_H_19h",
          "2023_Q2_H_20h",
          "2023_Q2_H_21h",
          "2023_Q2_H_22h",
          "2023_Q2_H_23h",
          "2023_Q3_L_0h",
          "2023_Q3_L_1h",
          "2023_Q3_L_2h",
          "2023_Q3_L_3h",
          "2023_Q3_L_4h",
          "2023_Q3_L_5h",
          "2023_Q3_L_6h",
          "2023_Q3_L_7h",
          "2023_Q3_L_8h",
          "2023_Q3_L_9h",
          "2023_Q3_L_10h",
          "2023_Q3_L_11h",
          "2023_Q3_L_12h",
          "2023_Q3_L_13h",
          "2023_Q3_L_14h",
          "2023_Q3_L_15h",
          "2023_Q3_L_16h",
          "2023_Q3_L_17h",
          "2023_Q3_L_18h",
          "2023_Q3_L_19h",
          "2023_Q3_L_20h",
          "2023_Q3_L_21h",
          "2023_Q3_L_22h",
          "2023_Q3_L_23h",
          "2023_Q3_H_0h",
          "2023_Q3_H_1h",
          "2023_Q3_H_2h",
          "2023_Q3_H_3h",
          "2023_Q3_H_4h",
          "2023_Q3_H_5h",
          "2023_Q3_H_6h",
          "2023_Q3_H_7h",
          "2023_Q3_H_8h",
          "2023_Q3_H_9h",
          "2023_Q3_H_10h",
          "2023_Q3_H_11h",
          "2023_Q3_H_12h",
          "2023_Q3_H_13h",
          "2023_Q3_H_14h",
          "2023_Q3_H_15h",
          "2023_Q3_H_16h",
          "2023_Q3_H_17h",
          "2023_Q3_H_18h",
          "2023_Q3_H_19h",
          "2023_Q3_H_20h",
          "2023_Q3_H_21h",
          "2023_Q3_H_22h",
          "2023_Q3_H_23h",
          "2023_Q4_L_0h",
          "2023_Q4_L_1h",
          "2023_Q4_L_2h",
          "2023_Q4_L_3h",
          "2023_Q4_L_4h",
          "2023_Q4_L_5h",
          "2023_Q4_L_6h",
          "2023_Q4_L_7h",
          "2023_Q4_L_8h",
          "2023_Q4_L_9h",
          "2023_Q4_L_10h",
          "2023_Q4_L_11h",
          "2023_Q4_L_12h",
          "2023_Q4_L_13h",
          "2023_Q4_L_14h",
          "2023_Q4_L_15h",
          "2023_Q4_L_16h",
          "2023_Q4_L_17h",
          "2023_Q4_L_18h",
          "2023_Q4_L_19h",
          "2023_Q4_L_20h",
          "2023_Q4_L_21h",
          "2023_Q4_L_22h",
          "2023_Q4_L_23h",
          "2023_Q4_H_0h",
          "2023_Q4_H_1h",
          "2023_Q4_H_2h",
          "2023_Q4_H_3h",
          "2023_Q4_H_4h",
          "2023_Q4_H_5h",
          "2023_Q4_H_6h",
          "2023_Q4_H_7h",
          "2023_Q4_H_8h",
          "2023_Q4_H_9h",
          "2023_Q4_H_10h",
          "2023_Q4_H_11h",
          "2023_Q4_H_12h",
          "2023_Q4_H_13h",
          "2023_Q4_H_14h",
          "2023_Q4_H_15h",
          "2023_Q4_H_16h",
          "2023_Q4_H_17h",
          "2023_Q4_H_18h",
          "2023_Q4_H_19h",
          "2023_Q4_H_20h",
          "2023_Q4_H_21h",
          "2023_Q4_H_22h",
          "2023_Q4_H_23h"
         ],
         "xaxis": "x",
         "y": [
          6966.895811948051,
          6576.691520779222,
          6348.364212337663,
          6191.568129610389,
          6116.723455584415,
          6244.810741818183,
          6539.973871038961,
          6662.229255584416,
          7008.33375935065,
          7421.5309777922075,
          7670.990523246753,
          7953.249152987013,
          8187.346466233766,
          8126.44400987013,
          8147.603709610389,
          8255.349431818182,
          8262.905646883117,
          8166.6181503896105,
          8063.414943116883,
          8563.89770025974,
          8671.519088701298,
          8411.898743896105,
          8019.849319999999,
          7468.387998831169,
          6558.009311538462,
          6350.677928461539,
          6108.950120769231,
          5965.3150723076915,
          5842.998582307691,
          5807.2309323076925,
          5776.403989230769,
          5606.667970769231,
          5697.0741384615385,
          5978.85366,
          6254.597437692308,
          6462.063486923077,
          6688.695650769232,
          6767.060144615384,
          6762.384094615385,
          6668.7528807692315,
          6619.398513076922,
          6621.313908461539,
          6745.857963076923,
          7443.720403846154,
          7698.258128461539,
          7595.629643076923,
          7356.0473146153845,
          6969.781076153846,
          6847.656811265823,
          6454.106359493671,
          6266.302229493671,
          6130.97889670886,
          6059.434369493671,
          6211.335452405064,
          6582.254981265823,
          6700.550197341772,
          7076.702672278481,
          7480.690894683544,
          7738.10117443038,
          8035.189337468354,
          8245.955765443037,
          8144.478683670886,
          8172.818343291139,
          8262.130560506328,
          8295.98884392405,
          8218.998461012658,
          8063.687681012658,
          8562.947623670885,
          8731.144216582277,
          8474.942987215189,
          8011.675823924051,
          7365.945061898735,
          6432.303634615385,
          6421.685367692307,
          6154.561653076924,
          5932.140770000001,
          5818.657873846154,
          5784.925706923077,
          5736.703513076923,
          5591.231033076922,
          5799.236140769231,
          6127.702516153846,
          6409.055970769231,
          6640.532416923077,
          6821.942157692308,
          6904.474543846153,
          6887.437827692308,
          6769.92176,
          6734.453570769231,
          6727.810320769231,
          6816.061065384615,
          7512.844233846154,
          7776.3861969230775,
          7633.268868461538,
          7311.333096153846,
          6873.310323076923,
          6385.33633721519,
          6026.328163544304,
          5849.1307310126585,
          5712.503489999999,
          5647.2053124050635,
          5764.395988227848,
          6016.26141392405,
          6136.127457341772,
          6522.436893164558,
          6914.090959367088,
          7160.282352151899,
          7452.5144394936715,
          7659.635978481012,
          7558.780275949366,
          7603.260104810126,
          7733.48486278481,
          7751.205485063292,
          7673.743007974684,
          7473.949401392406,
          7955.02261,
          8241.03769506329,
          8025.618745063291,
          7547.375524303797,
          6929.852446582278,
          5864.617354615385,
          5846.774751538461,
          5600.369943076925,
          5485.227504615385,
          5380.772219230769,
          5315.251050000001,
          5266.476606923077,
          5076.346262307692,
          5286.539598461539,
          5516.097713846154,
          5709.3547538461535,
          5881.220344615385,
          6083.980764615385,
          6203.098288461538,
          6206.445158461539,
          6111.841375384614,
          6084.327934615385,
          6081.669078461538,
          6096.566029230768,
          6698.18988,
          7081.583833076923,
          6987.000079230769,
          6735.383935384615,
          6281.592903846154,
          5993.423220897436,
          5594.859225128205,
          5363.467312307692,
          5204.958051282051,
          5103.483736538461,
          5220.94516974359,
          5504.398117692308,
          5615.6338762820515,
          5935.690781282053,
          6261.673735897436,
          6451.9525635897435,
          6731.771894230769,
          6955.672827179487,
          6890.335423717947,
          6973.928537820513,
          7125.071372820514,
          7169.512970384616,
          7177.683676794872,
          7188.828965897436,
          7666.262459871795,
          7642.687605897436,
          7431.065333333333,
          7046.3990973076925,
          6504.582062179487,
          5544.945588461539,
          5363.25542923077,
          5143.583765384616,
          4950.596946153846,
          4723.031037692308,
          4656.888716153846,
          4594.829226923077,
          4413.609333846153,
          4542.767375384615,
          4773.068235384615,
          5012.92592,
          5223.740148461539,
          5441.458928461538,
          5551.433135384616,
          5538.296462307692,
          5470.646457692308,
          5467.866978461539,
          5583.87779923077,
          5822.022386153846,
          6572.4686161538475,
          6771.177505384615,
          6695.84755076923,
          6442.930586153846,
          6011.495091538461
         ],
         "yaxis": "y"
        },
        {
         "hovertemplate": "Tech=Eolica<br>timestamp=%{x}<br>DispatchGen_MW=%{y}<extra></extra>",
         "legendgroup": "Eolica",
         "line": {
          "color": "#45CFFF",
          "dash": "solid"
         },
         "marker": {
          "symbol": "circle"
         },
         "mode": "lines",
         "name": "Eolica",
         "orientation": "v",
         "showlegend": false,
         "type": "scatter",
         "x": [
          "2023_Q1_L_0h",
          "2023_Q1_L_1h",
          "2023_Q1_L_2h",
          "2023_Q1_L_3h",
          "2023_Q1_L_4h",
          "2023_Q1_L_5h",
          "2023_Q1_L_6h",
          "2023_Q1_L_7h",
          "2023_Q1_L_8h",
          "2023_Q1_L_9h",
          "2023_Q1_L_10h",
          "2023_Q1_L_11h",
          "2023_Q1_L_12h",
          "2023_Q1_L_13h",
          "2023_Q1_L_14h",
          "2023_Q1_L_15h",
          "2023_Q1_L_16h",
          "2023_Q1_L_17h",
          "2023_Q1_L_18h",
          "2023_Q1_L_19h",
          "2023_Q1_L_20h",
          "2023_Q1_L_21h",
          "2023_Q1_L_22h",
          "2023_Q1_L_23h",
          "2023_Q1_H_0h",
          "2023_Q1_H_1h",
          "2023_Q1_H_2h",
          "2023_Q1_H_3h",
          "2023_Q1_H_4h",
          "2023_Q1_H_5h",
          "2023_Q1_H_6h",
          "2023_Q1_H_7h",
          "2023_Q1_H_8h",
          "2023_Q1_H_9h",
          "2023_Q1_H_10h",
          "2023_Q1_H_11h",
          "2023_Q1_H_12h",
          "2023_Q1_H_13h",
          "2023_Q1_H_14h",
          "2023_Q1_H_15h",
          "2023_Q1_H_16h",
          "2023_Q1_H_17h",
          "2023_Q1_H_18h",
          "2023_Q1_H_19h",
          "2023_Q1_H_20h",
          "2023_Q1_H_21h",
          "2023_Q1_H_22h",
          "2023_Q1_H_23h",
          "2023_Q2_L_0h",
          "2023_Q2_L_1h",
          "2023_Q2_L_2h",
          "2023_Q2_L_3h",
          "2023_Q2_L_4h",
          "2023_Q2_L_5h",
          "2023_Q2_L_6h",
          "2023_Q2_L_7h",
          "2023_Q2_L_8h",
          "2023_Q2_L_9h",
          "2023_Q2_L_10h",
          "2023_Q2_L_11h",
          "2023_Q2_L_12h",
          "2023_Q2_L_13h",
          "2023_Q2_L_14h",
          "2023_Q2_L_15h",
          "2023_Q2_L_16h",
          "2023_Q2_L_17h",
          "2023_Q2_L_18h",
          "2023_Q2_L_19h",
          "2023_Q2_L_20h",
          "2023_Q2_L_21h",
          "2023_Q2_L_22h",
          "2023_Q2_L_23h",
          "2023_Q2_H_0h",
          "2023_Q2_H_1h",
          "2023_Q2_H_2h",
          "2023_Q2_H_3h",
          "2023_Q2_H_4h",
          "2023_Q2_H_5h",
          "2023_Q2_H_6h",
          "2023_Q2_H_7h",
          "2023_Q2_H_8h",
          "2023_Q2_H_9h",
          "2023_Q2_H_10h",
          "2023_Q2_H_11h",
          "2023_Q2_H_12h",
          "2023_Q2_H_13h",
          "2023_Q2_H_14h",
          "2023_Q2_H_15h",
          "2023_Q2_H_16h",
          "2023_Q2_H_17h",
          "2023_Q2_H_18h",
          "2023_Q2_H_19h",
          "2023_Q2_H_20h",
          "2023_Q2_H_21h",
          "2023_Q2_H_22h",
          "2023_Q2_H_23h",
          "2023_Q3_L_0h",
          "2023_Q3_L_1h",
          "2023_Q3_L_2h",
          "2023_Q3_L_3h",
          "2023_Q3_L_4h",
          "2023_Q3_L_5h",
          "2023_Q3_L_6h",
          "2023_Q3_L_7h",
          "2023_Q3_L_8h",
          "2023_Q3_L_9h",
          "2023_Q3_L_10h",
          "2023_Q3_L_11h",
          "2023_Q3_L_12h",
          "2023_Q3_L_13h",
          "2023_Q3_L_14h",
          "2023_Q3_L_15h",
          "2023_Q3_L_16h",
          "2023_Q3_L_17h",
          "2023_Q3_L_18h",
          "2023_Q3_L_19h",
          "2023_Q3_L_20h",
          "2023_Q3_L_21h",
          "2023_Q3_L_22h",
          "2023_Q3_L_23h",
          "2023_Q3_H_0h",
          "2023_Q3_H_1h",
          "2023_Q3_H_2h",
          "2023_Q3_H_3h",
          "2023_Q3_H_4h",
          "2023_Q3_H_5h",
          "2023_Q3_H_6h",
          "2023_Q3_H_7h",
          "2023_Q3_H_8h",
          "2023_Q3_H_9h",
          "2023_Q3_H_10h",
          "2023_Q3_H_11h",
          "2023_Q3_H_12h",
          "2023_Q3_H_13h",
          "2023_Q3_H_14h",
          "2023_Q3_H_15h",
          "2023_Q3_H_16h",
          "2023_Q3_H_17h",
          "2023_Q3_H_18h",
          "2023_Q3_H_19h",
          "2023_Q3_H_20h",
          "2023_Q3_H_21h",
          "2023_Q3_H_22h",
          "2023_Q3_H_23h",
          "2023_Q4_L_0h",
          "2023_Q4_L_1h",
          "2023_Q4_L_2h",
          "2023_Q4_L_3h",
          "2023_Q4_L_4h",
          "2023_Q4_L_5h",
          "2023_Q4_L_6h",
          "2023_Q4_L_7h",
          "2023_Q4_L_8h",
          "2023_Q4_L_9h",
          "2023_Q4_L_10h",
          "2023_Q4_L_11h",
          "2023_Q4_L_12h",
          "2023_Q4_L_13h",
          "2023_Q4_L_14h",
          "2023_Q4_L_15h",
          "2023_Q4_L_16h",
          "2023_Q4_L_17h",
          "2023_Q4_L_18h",
          "2023_Q4_L_19h",
          "2023_Q4_L_20h",
          "2023_Q4_L_21h",
          "2023_Q4_L_22h",
          "2023_Q4_L_23h",
          "2023_Q4_H_0h",
          "2023_Q4_H_1h",
          "2023_Q4_H_2h",
          "2023_Q4_H_3h",
          "2023_Q4_H_4h",
          "2023_Q4_H_5h",
          "2023_Q4_H_6h",
          "2023_Q4_H_7h",
          "2023_Q4_H_8h",
          "2023_Q4_H_9h",
          "2023_Q4_H_10h",
          "2023_Q4_H_11h",
          "2023_Q4_H_12h",
          "2023_Q4_H_13h",
          "2023_Q4_H_14h",
          "2023_Q4_H_15h",
          "2023_Q4_H_16h",
          "2023_Q4_H_17h",
          "2023_Q4_H_18h",
          "2023_Q4_H_19h",
          "2023_Q4_H_20h",
          "2023_Q4_H_21h",
          "2023_Q4_H_22h",
          "2023_Q4_H_23h"
         ],
         "xaxis": "x2",
         "y": [
          26.847982926098965,
          26.634200612995297,
          26.41017344420351,
          26.323413605882493,
          26.185845127908067,
          26.129478703307516,
          26.042568382099773,
          25.771484654332472,
          25.63965488628499,
          25.529754432578056,
          25.60592518747347,
          25.45535916443449,
          25.446315343636954,
          25.522232411689398,
          25.786450882748618,
          26.120942805654536,
          26.702258540436546,
          27.833828664148793,
          28.599537169973882,
          28.683532945398,
          28.589494490140495,
          28.286751669098972,
          27.922206397412015,
          27.351834675444124,
          27.37659779648112,
          26.991866956606426,
          27.16304725581074,
          27.020177300034653,
          27.14241914318061,
          27.039892244671602,
          26.661947724320523,
          26.506689501050822,
          26.122355839071318,
          25.550863831146238,
          25.745485512451253,
          25.53496309029473,
          25.323554745435317,
          25.288007710516165,
          25.627706424941053,
          26.082616683548885,
          26.99236528699122,
          28.153543430964305,
          28.79422501990055,
          28.68913498575743,
          28.57565056262969,
          28.251530124100725,
          27.757233501729026,
          27.226576703300246,
          25.799033701778498,
          25.56704352557439,
          25.336293330101967,
          25.23376809249274,
          25.196429028968133,
          25.066856975391417,
          24.36928793271335,
          23.986982375402167,
          23.786116313326016,
          24.057735933363215,
          24.27515813658958,
          24.346509141656266,
          24.061925526638383,
          23.92090702175562,
          24.030754083635184,
          24.54703036925021,
          24.94019599329063,
          25.940867165829513,
          26.766547677485207,
          26.929387401505373,
          26.845715108739782,
          26.75440030947379,
          26.459858150480763,
          26.11728690873364,
          25.736137133112635,
          25.4288182017751,
          25.702378173775482,
          25.674115936013514,
          25.493869514941174,
          25.453953677888983,
          24.287527282122767,
          23.921890505553677,
          24.019115151746945,
          24.23819010493936,
          24.295931666955674,
          24.13363746885836,
          23.97881477506046,
          23.88376616270621,
          24.054693273808876,
          24.680645867893976,
          25.087322612216955,
          25.428335976544663,
          26.72240028584682,
          26.92032644028413,
          26.993461345891372,
          26.64649623896964,
          26.13896950072192,
          25.619570665107297,
          25.495396923250254,
          24.96204139906661,
          24.680278019777802,
          24.69470249260594,
          24.676976502885996,
          25.129956590646454,
          25.139133876756496,
          24.23157588757286,
          23.935417431550892,
          23.899166841148855,
          23.829347519113327,
          23.811008226019148,
          23.416193911833886,
          22.962192365114795,
          22.754851806251267,
          22.67697168889045,
          22.941723689150983,
          24.12736862543076,
          25.69551808455944,
          26.279946111560875,
          26.534969646129973,
          26.583708723040267,
          26.234437893863944,
          25.810986697497604,
          25.34422432586377,
          25.50811683687419,
          25.309688874058907,
          25.318886159150004,
          24.268023694633513,
          23.839585960805177,
          24.335690613514146,
          23.923721933437722,
          23.907743274651565,
          24.6820151181418,
          24.724903706906346,
          24.593462590998854,
          24.754239899133886,
          24.495218387825368,
          24.37360520815149,
          24.274211681333348,
          24.27114370354147,
          24.47300371278411,
          26.191116311189052,
          26.54247443207747,
          27.180034935307482,
          27.135704600095792,
          26.56310101046472,
          26.130442023023218,
          23.244883978530908,
          22.83007707710767,
          22.45601078566891,
          22.182953917181088,
          22.01683179680587,
          21.68273900346435,
          21.63678816346075,
          20.734754661829285,
          20.1565507319069,
          19.775037480422707,
          19.41245165411928,
          18.898786700639953,
          18.29749217895315,
          17.90469213450971,
          17.91076813950393,
          18.58317845105158,
          19.965079751286268,
          22.113620676902293,
          23.620762066414713,
          24.271839683910784,
          24.550841848673045,
          24.523524945889474,
          24.262958644045202,
          23.74151247976426,
          23.49307117987643,
          23.247146680649465,
          22.7499833654054,
          22.615102833130045,
          22.5237732566507,
          22.227735876857437,
          21.97591301342245,
          21.36403696505485,
          20.736068095648058,
          20.303344129242078,
          20.13209360536968,
          19.48092757562922,
          18.77675712441855,
          18.320028204555754,
          18.144670194493663,
          18.66975683911857,
          19.87418734716926,
          21.535475181597885,
          22.893217533110704,
          23.95479358166654,
          24.402776498368592,
          24.159892468989362,
          23.85886148540379,
          23.612364030189767
         ],
         "yaxis": "y2"
        },
        {
         "hovertemplate": "Tech=Hidro<br>timestamp=%{x}<br>DispatchGen_MW=%{y}<extra></extra>",
         "legendgroup": "Hidro",
         "line": {
          "color": "#744FD0",
          "dash": "solid"
         },
         "marker": {
          "symbol": "circle"
         },
         "mode": "lines",
         "name": "Hidro",
         "orientation": "v",
         "showlegend": false,
         "type": "scatter",
         "x": [
          "2023_Q1_L_0h",
          "2023_Q1_L_1h",
          "2023_Q1_L_2h",
          "2023_Q1_L_3h",
          "2023_Q1_L_4h",
          "2023_Q1_L_5h",
          "2023_Q1_L_6h",
          "2023_Q1_L_7h",
          "2023_Q1_L_8h",
          "2023_Q1_L_9h",
          "2023_Q1_L_10h",
          "2023_Q1_L_11h",
          "2023_Q1_L_12h",
          "2023_Q1_L_13h",
          "2023_Q1_L_14h",
          "2023_Q1_L_15h",
          "2023_Q1_L_16h",
          "2023_Q1_L_17h",
          "2023_Q1_L_18h",
          "2023_Q1_L_19h",
          "2023_Q1_L_20h",
          "2023_Q1_L_21h",
          "2023_Q1_L_22h",
          "2023_Q1_L_23h",
          "2023_Q1_H_0h",
          "2023_Q1_H_1h",
          "2023_Q1_H_2h",
          "2023_Q1_H_3h",
          "2023_Q1_H_4h",
          "2023_Q1_H_5h",
          "2023_Q1_H_6h",
          "2023_Q1_H_7h",
          "2023_Q1_H_8h",
          "2023_Q1_H_9h",
          "2023_Q1_H_10h",
          "2023_Q1_H_11h",
          "2023_Q1_H_12h",
          "2023_Q1_H_13h",
          "2023_Q1_H_14h",
          "2023_Q1_H_15h",
          "2023_Q1_H_16h",
          "2023_Q1_H_17h",
          "2023_Q1_H_18h",
          "2023_Q1_H_19h",
          "2023_Q1_H_20h",
          "2023_Q1_H_21h",
          "2023_Q1_H_22h",
          "2023_Q1_H_23h",
          "2023_Q2_L_0h",
          "2023_Q2_L_1h",
          "2023_Q2_L_2h",
          "2023_Q2_L_3h",
          "2023_Q2_L_4h",
          "2023_Q2_L_5h",
          "2023_Q2_L_6h",
          "2023_Q2_L_7h",
          "2023_Q2_L_8h",
          "2023_Q2_L_9h",
          "2023_Q2_L_10h",
          "2023_Q2_L_11h",
          "2023_Q2_L_12h",
          "2023_Q2_L_13h",
          "2023_Q2_L_14h",
          "2023_Q2_L_15h",
          "2023_Q2_L_16h",
          "2023_Q2_L_17h",
          "2023_Q2_L_18h",
          "2023_Q2_L_19h",
          "2023_Q2_L_20h",
          "2023_Q2_L_21h",
          "2023_Q2_L_22h",
          "2023_Q2_L_23h",
          "2023_Q2_H_0h",
          "2023_Q2_H_1h",
          "2023_Q2_H_2h",
          "2023_Q2_H_3h",
          "2023_Q2_H_4h",
          "2023_Q2_H_5h",
          "2023_Q2_H_6h",
          "2023_Q2_H_7h",
          "2023_Q2_H_8h",
          "2023_Q2_H_9h",
          "2023_Q2_H_10h",
          "2023_Q2_H_11h",
          "2023_Q2_H_12h",
          "2023_Q2_H_13h",
          "2023_Q2_H_14h",
          "2023_Q2_H_15h",
          "2023_Q2_H_16h",
          "2023_Q2_H_17h",
          "2023_Q2_H_18h",
          "2023_Q2_H_19h",
          "2023_Q2_H_20h",
          "2023_Q2_H_21h",
          "2023_Q2_H_22h",
          "2023_Q2_H_23h",
          "2023_Q3_L_0h",
          "2023_Q3_L_1h",
          "2023_Q3_L_2h",
          "2023_Q3_L_3h",
          "2023_Q3_L_4h",
          "2023_Q3_L_5h",
          "2023_Q3_L_6h",
          "2023_Q3_L_7h",
          "2023_Q3_L_8h",
          "2023_Q3_L_9h",
          "2023_Q3_L_10h",
          "2023_Q3_L_11h",
          "2023_Q3_L_12h",
          "2023_Q3_L_13h",
          "2023_Q3_L_14h",
          "2023_Q3_L_15h",
          "2023_Q3_L_16h",
          "2023_Q3_L_17h",
          "2023_Q3_L_18h",
          "2023_Q3_L_19h",
          "2023_Q3_L_20h",
          "2023_Q3_L_21h",
          "2023_Q3_L_22h",
          "2023_Q3_L_23h",
          "2023_Q3_H_0h",
          "2023_Q3_H_1h",
          "2023_Q3_H_2h",
          "2023_Q3_H_3h",
          "2023_Q3_H_4h",
          "2023_Q3_H_5h",
          "2023_Q3_H_6h",
          "2023_Q3_H_7h",
          "2023_Q3_H_8h",
          "2023_Q3_H_9h",
          "2023_Q3_H_10h",
          "2023_Q3_H_11h",
          "2023_Q3_H_12h",
          "2023_Q3_H_13h",
          "2023_Q3_H_14h",
          "2023_Q3_H_15h",
          "2023_Q3_H_16h",
          "2023_Q3_H_17h",
          "2023_Q3_H_18h",
          "2023_Q3_H_19h",
          "2023_Q3_H_20h",
          "2023_Q3_H_21h",
          "2023_Q3_H_22h",
          "2023_Q3_H_23h",
          "2023_Q4_L_0h",
          "2023_Q4_L_1h",
          "2023_Q4_L_2h",
          "2023_Q4_L_3h",
          "2023_Q4_L_4h",
          "2023_Q4_L_5h",
          "2023_Q4_L_6h",
          "2023_Q4_L_7h",
          "2023_Q4_L_8h",
          "2023_Q4_L_9h",
          "2023_Q4_L_10h",
          "2023_Q4_L_11h",
          "2023_Q4_L_12h",
          "2023_Q4_L_13h",
          "2023_Q4_L_14h",
          "2023_Q4_L_15h",
          "2023_Q4_L_16h",
          "2023_Q4_L_17h",
          "2023_Q4_L_18h",
          "2023_Q4_L_19h",
          "2023_Q4_L_20h",
          "2023_Q4_L_21h",
          "2023_Q4_L_22h",
          "2023_Q4_L_23h",
          "2023_Q4_H_0h",
          "2023_Q4_H_1h",
          "2023_Q4_H_2h",
          "2023_Q4_H_3h",
          "2023_Q4_H_4h",
          "2023_Q4_H_5h",
          "2023_Q4_H_6h",
          "2023_Q4_H_7h",
          "2023_Q4_H_8h",
          "2023_Q4_H_9h",
          "2023_Q4_H_10h",
          "2023_Q4_H_11h",
          "2023_Q4_H_12h",
          "2023_Q4_H_13h",
          "2023_Q4_H_14h",
          "2023_Q4_H_15h",
          "2023_Q4_H_16h",
          "2023_Q4_H_17h",
          "2023_Q4_H_18h",
          "2023_Q4_H_19h",
          "2023_Q4_H_20h",
          "2023_Q4_H_21h",
          "2023_Q4_H_22h",
          "2023_Q4_H_23h"
         ],
         "xaxis": "x2",
         "y": [
          7042.448624369062,
          6704.5172870211845,
          6509.254063339146,
          6322.6813794014315,
          6228.570677188285,
          6345.072896441141,
          6583.429554165991,
          6644.059730414579,
          6905.394086870821,
          7202.659926446246,
          7377.328624409941,
          7586.165335013647,
          7778.623216286895,
          7783.009551684744,
          7856.997788695295,
          8006.939187094518,
          8075.921739679761,
          8026.225286677263,
          7910.597311183012,
          8273.5653851786,
          8368.12090020493,
          8163.755093875173,
          7850.5545977348265,
          7442.09267471638,
          6843.966253490028,
          6713.028518836842,
          6528.172091498051,
          6376.534466645487,
          6264.18539426955,
          6202.48940967209,
          6127.701603202367,
          5902.647820195033,
          5975.719135223465,
          6183.644801384021,
          6388.805164903435,
          6570.201286121006,
          6750.2938820090185,
          6862.932190682278,
          6913.67267429162,
          6933.656415472237,
          6965.23458024114,
          6989.632336131704,
          7045.44078168106,
          7579.296625811922,
          7772.637710835076,
          7678.029044866204,
          7451.924464571666,
          7154.575623422133,
          6930.393890617096,
          6577.897730674457,
          6381.635314773562,
          6191.388572520386,
          6105.812306338798,
          6265.08988187359,
          6544.627297004701,
          6591.928022377766,
          6854.14189763452,
          7133.761488177833,
          7301.662077625369,
          7528.334155767437,
          7708.4507377604905,
          7685.950123359155,
          7782.242165988698,
          7932.282531928639,
          8004.687155147897,
          7952.271289567638,
          7791.682600675749,
          8131.214147047987,
          8301.900564386677,
          8109.286210623019,
          7777.881768705358,
          7340.577116487723,
          6777.403070646665,
          6742.749919281304,
          6520.508889765946,
          6352.8056296352415,
          6232.145896562174,
          6176.886424936453,
          6073.654100931858,
          5900.518605031272,
          6033.08399929935,
          6234.014359762018,
          6429.620044950939,
          6608.914069744487,
          6780.218386167712,
          6886.764308932892,
          6940.392403351178,
          6934.474614274224,
          6945.727247767033,
          6958.956753868581,
          6993.558815854048,
          7504.3949887353965,
          7763.80223970135,
          7667.032561049194,
          7415.157048347711,
          7102.422968750513,
          7023.115965164103,
          6514.464366797337,
          6225.251918314922,
          6018.520365503202,
          5919.9888434795475,
          6042.60400944114,
          6280.369140768472,
          6356.620607641308,
          6757.274683793247,
          7161.233355695658,
          7407.478742896953,
          7717.989950535994,
          7986.466914847898,
          7982.305368445866,
          8092.395663636178,
          8245.351903177934,
          8301.72350539421,
          8257.254187938986,
          8079.167377924434,
          8358.83566208737,
          8570.486030229353,
          8428.957265809368,
          8115.585684901311,
          7598.192292475079,
          7148.752499157094,
          7057.222355907451,
          6760.95127995736,
          6523.007581372094,
          6345.946568031967,
          6247.903962341384,
          6136.679044363143,
          5948.112648223523,
          6081.705369737505,
          6277.371128136183,
          6471.700170050973,
          6690.99893989759,
          6916.720064782899,
          7097.4105222402,
          7196.6161551197665,
          7207.790744479716,
          7232.026237269024,
          7248.47128923733,
          7281.995622139273,
          7720.16782137092,
          8007.876617642747,
          7942.45162951091,
          7768.492036505921,
          7476.870839784126,
          7162.723121443986,
          6730.133712284791,
          6433.658824172091,
          6228.011876754719,
          6127.116830626609,
          6259.6794610169545,
          6522.257987131049,
          6615.811561871794,
          6997.95620740788,
          7319.944590616097,
          7520.757711954461,
          7748.98687024042,
          7953.883644082862,
          7957.5521079957525,
          8076.8061710301345,
          8273.522494988949,
          8354.424073177644,
          8309.552017210972,
          8233.296559551402,
          8701.17525067604,
          8684.977235069671,
          8473.064084509195,
          8073.792707744983,
          7589.93787947712,
          6902.878668831353,
          6737.682366858413,
          6459.893453281545,
          6226.867821277535,
          6021.164429557082,
          5937.780049806567,
          5796.651812468618,
          5559.05175992166,
          5718.045944901031,
          5978.485900529266,
          6231.765318286915,
          6488.120969603109,
          6739.227971296668,
          6905.697078484504,
          6991.185883163502,
          7002.646596121005,
          7053.613618884664,
          7085.522202221574,
          7275.015287612979,
          7979.576070480569,
          8079.475694671222,
          7998.251092988778,
          7760.257517362398,
          7360.186237955195
         ],
         "yaxis": "y2"
        },
        {
         "hovertemplate": "Tech=Solar<br>timestamp=%{x}<br>DispatchGen_MW=%{y}<extra></extra>",
         "legendgroup": "Solar",
         "line": {
          "color": "#EFB52D",
          "dash": "solid"
         },
         "marker": {
          "symbol": "circle"
         },
         "mode": "lines",
         "name": "Solar",
         "orientation": "v",
         "showlegend": false,
         "type": "scatter",
         "x": [
          "2023_Q1_L_0h",
          "2023_Q1_L_1h",
          "2023_Q1_L_2h",
          "2023_Q1_L_3h",
          "2023_Q1_L_4h",
          "2023_Q1_L_5h",
          "2023_Q1_L_6h",
          "2023_Q1_L_7h",
          "2023_Q1_L_8h",
          "2023_Q1_L_9h",
          "2023_Q1_L_10h",
          "2023_Q1_L_11h",
          "2023_Q1_L_12h",
          "2023_Q1_L_13h",
          "2023_Q1_L_14h",
          "2023_Q1_L_15h",
          "2023_Q1_L_16h",
          "2023_Q1_L_17h",
          "2023_Q1_L_18h",
          "2023_Q1_L_19h",
          "2023_Q1_L_20h",
          "2023_Q1_L_21h",
          "2023_Q1_L_22h",
          "2023_Q1_L_23h",
          "2023_Q1_H_0h",
          "2023_Q1_H_1h",
          "2023_Q1_H_2h",
          "2023_Q1_H_3h",
          "2023_Q1_H_4h",
          "2023_Q1_H_5h",
          "2023_Q1_H_6h",
          "2023_Q1_H_7h",
          "2023_Q1_H_8h",
          "2023_Q1_H_9h",
          "2023_Q1_H_10h",
          "2023_Q1_H_11h",
          "2023_Q1_H_12h",
          "2023_Q1_H_13h",
          "2023_Q1_H_14h",
          "2023_Q1_H_15h",
          "2023_Q1_H_16h",
          "2023_Q1_H_17h",
          "2023_Q1_H_18h",
          "2023_Q1_H_19h",
          "2023_Q1_H_20h",
          "2023_Q1_H_21h",
          "2023_Q1_H_22h",
          "2023_Q1_H_23h",
          "2023_Q2_L_0h",
          "2023_Q2_L_1h",
          "2023_Q2_L_2h",
          "2023_Q2_L_3h",
          "2023_Q2_L_4h",
          "2023_Q2_L_5h",
          "2023_Q2_L_6h",
          "2023_Q2_L_7h",
          "2023_Q2_L_8h",
          "2023_Q2_L_9h",
          "2023_Q2_L_10h",
          "2023_Q2_L_11h",
          "2023_Q2_L_12h",
          "2023_Q2_L_13h",
          "2023_Q2_L_14h",
          "2023_Q2_L_15h",
          "2023_Q2_L_16h",
          "2023_Q2_L_17h",
          "2023_Q2_L_18h",
          "2023_Q2_L_19h",
          "2023_Q2_L_20h",
          "2023_Q2_L_21h",
          "2023_Q2_L_22h",
          "2023_Q2_L_23h",
          "2023_Q2_H_0h",
          "2023_Q2_H_1h",
          "2023_Q2_H_2h",
          "2023_Q2_H_3h",
          "2023_Q2_H_4h",
          "2023_Q2_H_5h",
          "2023_Q2_H_6h",
          "2023_Q2_H_7h",
          "2023_Q2_H_8h",
          "2023_Q2_H_9h",
          "2023_Q2_H_10h",
          "2023_Q2_H_11h",
          "2023_Q2_H_12h",
          "2023_Q2_H_13h",
          "2023_Q2_H_14h",
          "2023_Q2_H_15h",
          "2023_Q2_H_16h",
          "2023_Q2_H_17h",
          "2023_Q2_H_18h",
          "2023_Q2_H_19h",
          "2023_Q2_H_20h",
          "2023_Q2_H_21h",
          "2023_Q2_H_22h",
          "2023_Q2_H_23h",
          "2023_Q3_L_0h",
          "2023_Q3_L_1h",
          "2023_Q3_L_2h",
          "2023_Q3_L_3h",
          "2023_Q3_L_4h",
          "2023_Q3_L_5h",
          "2023_Q3_L_6h",
          "2023_Q3_L_7h",
          "2023_Q3_L_8h",
          "2023_Q3_L_9h",
          "2023_Q3_L_10h",
          "2023_Q3_L_11h",
          "2023_Q3_L_12h",
          "2023_Q3_L_13h",
          "2023_Q3_L_14h",
          "2023_Q3_L_15h",
          "2023_Q3_L_16h",
          "2023_Q3_L_17h",
          "2023_Q3_L_18h",
          "2023_Q3_L_19h",
          "2023_Q3_L_20h",
          "2023_Q3_L_21h",
          "2023_Q3_L_22h",
          "2023_Q3_L_23h",
          "2023_Q3_H_0h",
          "2023_Q3_H_1h",
          "2023_Q3_H_2h",
          "2023_Q3_H_3h",
          "2023_Q3_H_4h",
          "2023_Q3_H_5h",
          "2023_Q3_H_6h",
          "2023_Q3_H_7h",
          "2023_Q3_H_8h",
          "2023_Q3_H_9h",
          "2023_Q3_H_10h",
          "2023_Q3_H_11h",
          "2023_Q3_H_12h",
          "2023_Q3_H_13h",
          "2023_Q3_H_14h",
          "2023_Q3_H_15h",
          "2023_Q3_H_16h",
          "2023_Q3_H_17h",
          "2023_Q3_H_18h",
          "2023_Q3_H_19h",
          "2023_Q3_H_20h",
          "2023_Q3_H_21h",
          "2023_Q3_H_22h",
          "2023_Q3_H_23h",
          "2023_Q4_L_0h",
          "2023_Q4_L_1h",
          "2023_Q4_L_2h",
          "2023_Q4_L_3h",
          "2023_Q4_L_4h",
          "2023_Q4_L_5h",
          "2023_Q4_L_6h",
          "2023_Q4_L_7h",
          "2023_Q4_L_8h",
          "2023_Q4_L_9h",
          "2023_Q4_L_10h",
          "2023_Q4_L_11h",
          "2023_Q4_L_12h",
          "2023_Q4_L_13h",
          "2023_Q4_L_14h",
          "2023_Q4_L_15h",
          "2023_Q4_L_16h",
          "2023_Q4_L_17h",
          "2023_Q4_L_18h",
          "2023_Q4_L_19h",
          "2023_Q4_L_20h",
          "2023_Q4_L_21h",
          "2023_Q4_L_22h",
          "2023_Q4_L_23h",
          "2023_Q4_H_0h",
          "2023_Q4_H_1h",
          "2023_Q4_H_2h",
          "2023_Q4_H_3h",
          "2023_Q4_H_4h",
          "2023_Q4_H_5h",
          "2023_Q4_H_6h",
          "2023_Q4_H_7h",
          "2023_Q4_H_8h",
          "2023_Q4_H_9h",
          "2023_Q4_H_10h",
          "2023_Q4_H_11h",
          "2023_Q4_H_12h",
          "2023_Q4_H_13h",
          "2023_Q4_H_14h",
          "2023_Q4_H_15h",
          "2023_Q4_H_16h",
          "2023_Q4_H_17h",
          "2023_Q4_H_18h",
          "2023_Q4_H_19h",
          "2023_Q4_H_20h",
          "2023_Q4_H_21h",
          "2023_Q4_H_22h",
          "2023_Q4_H_23h"
         ],
         "xaxis": "x2",
         "y": [
          0,
          0,
          0,
          0,
          0,
          0.07449090073845002,
          46.29000457068385,
          169.90030579660106,
          323.38663579934234,
          461.09064007799867,
          562.9679868326313,
          613.5167457148556,
          610.2092297920516,
          550.7085569691392,
          442.1297144438093,
          303.5201665329947,
          156.26241094005036,
          32.56110117447269,
          0.028106863343530956,
          0,
          0,
          0,
          0,
          0,
          0,
          0,
          0,
          0,
          0,
          0.07553582732224555,
          46.399150205122474,
          169.47283613728763,
          322.47562627335424,
          460.1886583135856,
          562.1790074809086,
          612.7467821331417,
          609.145715531285,
          549.6595288200001,
          441.30488008180606,
          303.0497525484243,
          156.1141626414532,
          32.60540742020238,
          0.02820821183712798,
          0,
          0,
          0,
          0,
          0,
          0,
          0,
          0,
          0,
          0,
          0.6806506241748025,
          46.778437408356424,
          160.54629361360082,
          293.68879631952103,
          416.7730078823543,
          507.9495796863156,
          552.0613601447639,
          545.8030063763078,
          489.9065871977605,
          392.02014335209026,
          270.60249902052334,
          146.12534205362567,
          38.600566054827134,
          0.24074365658910754,
          0,
          0,
          0,
          0,
          0,
          0,
          0,
          0,
          0,
          0,
          0.6886869784732753,
          46.271850482153525,
          159.06000581153398,
          291.1826529883135,
          413.4517047133265,
          503.84850834296566,
          547.4396641185525,
          541.5718405608483,
          486.4567655336522,
          389.37020114019714,
          268.9405244467692,
          145.51528317531097,
          38.755714983971394,
          0.2521932418505698,
          0,
          0,
          0,
          0,
          0,
          0,
          0,
          0,
          0,
          0,
          1.3254222563032534,
          48.70300851165884,
          156.5390059119378,
          279.4278191628587,
          392.16283451821005,
          477.46076838061947,
          522.503738015679,
          518.54438313957,
          466.90875401391577,
          376.4062350334401,
          262.87010815602576,
          145.8209576715948,
          42.83635729365312,
          0.5114762657018453,
          0,
          0,
          0,
          0,
          0,
          0,
          0,
          0,
          0,
          0,
          1.3398656041912267,
          48.887056036866255,
          157.05612111341247,
          280.46930492245616,
          393.884415305791,
          479.8747366303578,
          525.5432841085344,
          521.8766904207727,
          470.24256024958476,
          379.1294344045216,
          264.577540157539,
          146.6932645246387,
          43.072924675745654,
          0.5149358137128999,
          0,
          0,
          0,
          0,
          0,
          0,
          0,
          0,
          0,
          0,
          0.15994116128609195,
          34.20104220795781,
          137.09942895276134,
          260.3556940801094,
          374.6130748291756,
          462.3318616140143,
          509.1694221641867,
          505.7171633857936,
          453.46681771090266,
          361.66223726378354,
          246.67962126674405,
          129.2870555780447,
          32.26049681299322,
          0.05116608760935733,
          0,
          0,
          0,
          0,
          0,
          0,
          0,
          0,
          0,
          0,
          0.16099156492978806,
          34.328852206120864,
          137.32176512017506,
          260.6676460913152,
          375.091156601634,
          463.06199586861635,
          510.19111290653,
          506.8948337367785,
          454.4488197729919,
          362.49013227549796,
          247.200260446782,
          129.4983647502162,
          32.19779790624699,
          0.05116662483169855,
          0,
          0,
          0,
          0,
          0
         ],
         "yaxis": "y2"
        },
        {
         "hovertemplate": "Tech=Thermal<br>timestamp=%{x}<br>DispatchGen_MW=%{y}<extra></extra>",
         "legendgroup": "Thermal",
         "line": {
          "color": "#E84A59",
          "dash": "solid"
         },
         "marker": {
          "symbol": "circle"
         },
         "mode": "lines",
         "name": "Thermal",
         "orientation": "v",
         "showlegend": false,
         "type": "scatter",
         "x": [
          "2023_Q1_L_0h",
          "2023_Q1_L_1h",
          "2023_Q1_L_2h",
          "2023_Q1_L_3h",
          "2023_Q1_L_4h",
          "2023_Q1_L_5h",
          "2023_Q1_L_6h",
          "2023_Q1_L_7h",
          "2023_Q1_L_8h",
          "2023_Q1_L_9h",
          "2023_Q1_L_10h",
          "2023_Q1_L_11h",
          "2023_Q1_L_12h",
          "2023_Q1_L_13h",
          "2023_Q1_L_14h",
          "2023_Q1_L_15h",
          "2023_Q1_L_16h",
          "2023_Q1_L_17h",
          "2023_Q1_L_18h",
          "2023_Q1_L_19h",
          "2023_Q1_L_20h",
          "2023_Q1_L_21h",
          "2023_Q1_L_22h",
          "2023_Q1_L_23h",
          "2023_Q1_H_0h",
          "2023_Q1_H_1h",
          "2023_Q1_H_2h",
          "2023_Q1_H_3h",
          "2023_Q1_H_4h",
          "2023_Q1_H_5h",
          "2023_Q1_H_6h",
          "2023_Q1_H_7h",
          "2023_Q1_H_8h",
          "2023_Q1_H_9h",
          "2023_Q1_H_10h",
          "2023_Q1_H_11h",
          "2023_Q1_H_12h",
          "2023_Q1_H_13h",
          "2023_Q1_H_14h",
          "2023_Q1_H_15h",
          "2023_Q1_H_16h",
          "2023_Q1_H_17h",
          "2023_Q1_H_18h",
          "2023_Q1_H_19h",
          "2023_Q1_H_20h",
          "2023_Q1_H_21h",
          "2023_Q1_H_22h",
          "2023_Q1_H_23h",
          "2023_Q2_L_0h",
          "2023_Q2_L_1h",
          "2023_Q2_L_2h",
          "2023_Q2_L_3h",
          "2023_Q2_L_4h",
          "2023_Q2_L_5h",
          "2023_Q2_L_6h",
          "2023_Q2_L_7h",
          "2023_Q2_L_8h",
          "2023_Q2_L_9h",
          "2023_Q2_L_10h",
          "2023_Q2_L_11h",
          "2023_Q2_L_12h",
          "2023_Q2_L_13h",
          "2023_Q2_L_14h",
          "2023_Q2_L_15h",
          "2023_Q2_L_16h",
          "2023_Q2_L_17h",
          "2023_Q2_L_18h",
          "2023_Q2_L_19h",
          "2023_Q2_L_20h",
          "2023_Q2_L_21h",
          "2023_Q2_L_22h",
          "2023_Q2_L_23h",
          "2023_Q2_H_0h",
          "2023_Q2_H_1h",
          "2023_Q2_H_2h",
          "2023_Q2_H_3h",
          "2023_Q2_H_4h",
          "2023_Q2_H_5h",
          "2023_Q2_H_6h",
          "2023_Q2_H_7h",
          "2023_Q2_H_8h",
          "2023_Q2_H_9h",
          "2023_Q2_H_10h",
          "2023_Q2_H_11h",
          "2023_Q2_H_12h",
          "2023_Q2_H_13h",
          "2023_Q2_H_14h",
          "2023_Q2_H_15h",
          "2023_Q2_H_16h",
          "2023_Q2_H_17h",
          "2023_Q2_H_18h",
          "2023_Q2_H_19h",
          "2023_Q2_H_20h",
          "2023_Q2_H_21h",
          "2023_Q2_H_22h",
          "2023_Q2_H_23h",
          "2023_Q3_L_0h",
          "2023_Q3_L_1h",
          "2023_Q3_L_2h",
          "2023_Q3_L_3h",
          "2023_Q3_L_4h",
          "2023_Q3_L_5h",
          "2023_Q3_L_6h",
          "2023_Q3_L_7h",
          "2023_Q3_L_8h",
          "2023_Q3_L_9h",
          "2023_Q3_L_10h",
          "2023_Q3_L_11h",
          "2023_Q3_L_12h",
          "2023_Q3_L_13h",
          "2023_Q3_L_14h",
          "2023_Q3_L_15h",
          "2023_Q3_L_16h",
          "2023_Q3_L_17h",
          "2023_Q3_L_18h",
          "2023_Q3_L_19h",
          "2023_Q3_L_20h",
          "2023_Q3_L_21h",
          "2023_Q3_L_22h",
          "2023_Q3_L_23h",
          "2023_Q3_H_0h",
          "2023_Q3_H_1h",
          "2023_Q3_H_2h",
          "2023_Q3_H_3h",
          "2023_Q3_H_4h",
          "2023_Q3_H_5h",
          "2023_Q3_H_6h",
          "2023_Q3_H_7h",
          "2023_Q3_H_8h",
          "2023_Q3_H_9h",
          "2023_Q3_H_10h",
          "2023_Q3_H_11h",
          "2023_Q3_H_12h",
          "2023_Q3_H_13h",
          "2023_Q3_H_14h",
          "2023_Q3_H_15h",
          "2023_Q3_H_16h",
          "2023_Q3_H_17h",
          "2023_Q3_H_18h",
          "2023_Q3_H_19h",
          "2023_Q3_H_20h",
          "2023_Q3_H_21h",
          "2023_Q3_H_22h",
          "2023_Q3_H_23h",
          "2023_Q4_L_0h",
          "2023_Q4_L_1h",
          "2023_Q4_L_2h",
          "2023_Q4_L_3h",
          "2023_Q4_L_4h",
          "2023_Q4_L_5h",
          "2023_Q4_L_6h",
          "2023_Q4_L_7h",
          "2023_Q4_L_8h",
          "2023_Q4_L_9h",
          "2023_Q4_L_10h",
          "2023_Q4_L_11h",
          "2023_Q4_L_12h",
          "2023_Q4_L_13h",
          "2023_Q4_L_14h",
          "2023_Q4_L_15h",
          "2023_Q4_L_16h",
          "2023_Q4_L_17h",
          "2023_Q4_L_18h",
          "2023_Q4_L_19h",
          "2023_Q4_L_20h",
          "2023_Q4_L_21h",
          "2023_Q4_L_22h",
          "2023_Q4_L_23h",
          "2023_Q4_H_0h",
          "2023_Q4_H_1h",
          "2023_Q4_H_2h",
          "2023_Q4_H_3h",
          "2023_Q4_H_4h",
          "2023_Q4_H_5h",
          "2023_Q4_H_6h",
          "2023_Q4_H_7h",
          "2023_Q4_H_8h",
          "2023_Q4_H_9h",
          "2023_Q4_H_10h",
          "2023_Q4_H_11h",
          "2023_Q4_H_12h",
          "2023_Q4_H_13h",
          "2023_Q4_H_14h",
          "2023_Q4_H_15h",
          "2023_Q4_H_16h",
          "2023_Q4_H_17h",
          "2023_Q4_H_18h",
          "2023_Q4_H_19h",
          "2023_Q4_H_20h",
          "2023_Q4_H_21h",
          "2023_Q4_H_22h",
          "2023_Q4_H_23h"
         ],
         "xaxis": "x2",
         "y": [
          1399.7575632425649,
          1265.2904797925144,
          1188.096002931902,
          1179.4100343539633,
          1179.3709277939115,
          1179.458470603192,
          1206.1624592755938,
          1205.1558037399989,
          1275.7716762140815,
          1367.7155035495482,
          1419.1649080159002,
          1484.6420897578957,
          1553.9682680061096,
          1566.4267442350063,
          1623.115258073868,
          1711.4358601598403,
          1767.7578025657958,
          1770.9502758626727,
          1727.6014177344505,
          1866.5767076736977,
          1881.9128188665961,
          1828.3894872512026,
          1706.0702836516602,
          1538.5693559309639,
          1076.8935903210604,
          1025.3028036739843,
          951.1063158731886,
          890.6591747273696,
          844.6149266559286,
          819.7231086521801,
          778.5179594614054,
          663.9964268340059,
          660.6051870685694,
          717.3033129866529,
          781.1061014518381,
          847.8608486619404,
          921.8029760314763,
          978.4819807218884,
          1019.8876385535198,
          1054.7725416335584,
          1097.4307008524936,
          1130.449186547968,
          1153.9310773231164,
          1322.884360206743,
          1364.9679659718615,
          1344.2020810854656,
          1299.7248040378204,
          1202.6875193901494,
          1431.036766664379,
          1290.2687442397887,
          1219.9986949101885,
          1218.8808394487476,
          1218.3835362331379,
          1219.4016665951895,
          1266.522127306002,
          1264.1681942122846,
          1344.9594120924953,
          1434.940351272903,
          1487.4583572838296,
          1552.2915407499686,
          1631.3116457689734,
          1632.9853725687508,
          1686.0085201636623,
          1771.3433691718803,
          1820.2359832189063,
          1817.527245733924,
          1760.371450911313,
          1893.645117699067,
          1927.968738715585,
          1885.5881032558968,
          1755.294919784312,
          1572.8843739845352,
          1059.704172649994,
          1046.9156723348883,
          958.724015153703,
          891.2654485790146,
          843.5358548857846,
          820.0153653841554,
          770.0735638344396,
          679.7624873133732,
          708.5177777589628,
          767.1481010352678,
          831.8957918236862,
          898.8280471194656,
          969.959728967966,
          1022.7833341643502,
          1061.980743191814,
          1078.8283085273088,
          1105.0025222849758,
          1127.8485241000815,
          1146.8874893841123,
          1310.3392435691896,
          1352.3852464847928,
          1336.3670080144952,
          1295.5096964032225,
          1191.2792713067536,
          1636.0050848421627,
          1635.9994152543836,
          1635.9956849092518,
          1635.9929264653792,
          1635.991613844121,
          1635.9931133519235,
          1635.9962964443328,
          1635.9974067138237,
          1636.002515941869,
          1636.0066832388495,
          1636.0085291785954,
          1636.010372336827,
          1636.0117775386584,
          1636.0117094478276,
          1670.6610910068518,
          1746.120698242373,
          1782.8795103422713,
          1775.7239074067213,
          1709.957801340668,
          1820.9301127943445,
          1904.9083933656345,
          1848.5865835323239,
          1724.6190280318701,
          1636.0091537930418,
          938.5149591163928,
          938.3735073887415,
          938.1718269871357,
          938.0489935135363,
          937.9486023122307,
          936.1775626909449,
          881.9150225333016,
          794.2957449990777,
          833.6805690604934,
          897.0894307410472,
          938.0348210831044,
          938.1780453703049,
          938.3008686380316,
          938.4217933109403,
          938.4894465883688,
          938.520519516881,
          940.6939319285859,
          958.4201756947717,
          975.8362184437921,
          1148.4085580816939,
          1261.7662042036704,
          1236.161378006758,
          1167.654723889078,
          1053.9232198403645,
          1919.264494686862,
          1833.5000015427688,
          1833.5000015338624,
          1833.500001531399,
          1833.5000015302824,
          1833.500001530837,
          1833.5000015342869,
          1833.500001535702,
          1862.5424362814936,
          1945.6960640589493,
          1995.8826461794356,
          2077.1592666568504,
          2136.8255917401643,
          2142.24885120937,
          2176.6346082795517,
          2212.3312167403456,
          2224.8055247293764,
          2222.2164099912743,
          2213.6807279083882,
          2260.5780465723838,
          2258.66618354633,
          2238.326283360176,
          2190.6701544404295,
          2066.318517091974,
          1555.4876523115527,
          1542.4999096717127,
          1520.4347465707176,
          1502.8557768183684,
          1487.4924461374426,
          1480.905009318935,
          1469.3910923562578,
          1445.5002949210489,
          1458.781605459577,
          1478.9573586525073,
          1496.7308972527956,
          1514.7277318738197,
          1533.4542627856702,
          1547.7235591847477,
          1556.1543808396777,
          1559.0888881338922,
          1563.7759462255378,
          1566.1718475112748,
          1571.8819758020852,
          1607.7626291826207,
          1646.8802793681298,
          1613.4884404430125,
          1585.1612034167633,
          1573.6385565435448
         ],
         "yaxis": "y2"
        },
        {
         "hovertemplate": "Tech=Menores<br>timestamp=%{x}<br>DispatchGen_MW=%{y}<extra></extra>",
         "legendgroup": "Menores",
         "line": {
          "color": "#AEE83C",
          "dash": "solid"
         },
         "marker": {
          "symbol": "circle"
         },
         "mode": "lines",
         "name": "Menores",
         "orientation": "v",
         "showlegend": false,
         "type": "scatter",
         "x": [
          "2023_Q1_L_0h",
          "2023_Q1_L_1h",
          "2023_Q1_L_2h",
          "2023_Q1_L_3h",
          "2023_Q1_L_4h",
          "2023_Q1_L_5h",
          "2023_Q1_L_6h",
          "2023_Q1_L_7h",
          "2023_Q1_L_8h",
          "2023_Q1_L_9h",
          "2023_Q1_L_10h",
          "2023_Q1_L_11h",
          "2023_Q1_L_12h",
          "2023_Q1_L_13h",
          "2023_Q1_L_14h",
          "2023_Q1_L_15h",
          "2023_Q1_L_16h",
          "2023_Q1_L_17h",
          "2023_Q1_L_18h",
          "2023_Q1_L_19h",
          "2023_Q1_L_20h",
          "2023_Q1_L_21h",
          "2023_Q1_L_22h",
          "2023_Q1_L_23h",
          "2023_Q1_H_0h",
          "2023_Q1_H_1h",
          "2023_Q1_H_2h",
          "2023_Q1_H_3h",
          "2023_Q1_H_4h",
          "2023_Q1_H_5h",
          "2023_Q1_H_6h",
          "2023_Q1_H_7h",
          "2023_Q1_H_8h",
          "2023_Q1_H_9h",
          "2023_Q1_H_10h",
          "2023_Q1_H_11h",
          "2023_Q1_H_12h",
          "2023_Q1_H_13h",
          "2023_Q1_H_14h",
          "2023_Q1_H_15h",
          "2023_Q1_H_16h",
          "2023_Q1_H_17h",
          "2023_Q1_H_18h",
          "2023_Q1_H_19h",
          "2023_Q1_H_20h",
          "2023_Q1_H_21h",
          "2023_Q1_H_22h",
          "2023_Q1_H_23h",
          "2023_Q2_L_0h",
          "2023_Q2_L_1h",
          "2023_Q2_L_2h",
          "2023_Q2_L_3h",
          "2023_Q2_L_4h",
          "2023_Q2_L_5h",
          "2023_Q2_L_6h",
          "2023_Q2_L_7h",
          "2023_Q2_L_8h",
          "2023_Q2_L_9h",
          "2023_Q2_L_10h",
          "2023_Q2_L_11h",
          "2023_Q2_L_12h",
          "2023_Q2_L_13h",
          "2023_Q2_L_14h",
          "2023_Q2_L_15h",
          "2023_Q2_L_16h",
          "2023_Q2_L_17h",
          "2023_Q2_L_18h",
          "2023_Q2_L_19h",
          "2023_Q2_L_20h",
          "2023_Q2_L_21h",
          "2023_Q2_L_22h",
          "2023_Q2_L_23h",
          "2023_Q2_H_0h",
          "2023_Q2_H_1h",
          "2023_Q2_H_2h",
          "2023_Q2_H_3h",
          "2023_Q2_H_4h",
          "2023_Q2_H_5h",
          "2023_Q2_H_6h",
          "2023_Q2_H_7h",
          "2023_Q2_H_8h",
          "2023_Q2_H_9h",
          "2023_Q2_H_10h",
          "2023_Q2_H_11h",
          "2023_Q2_H_12h",
          "2023_Q2_H_13h",
          "2023_Q2_H_14h",
          "2023_Q2_H_15h",
          "2023_Q2_H_16h",
          "2023_Q2_H_17h",
          "2023_Q2_H_18h",
          "2023_Q2_H_19h",
          "2023_Q2_H_20h",
          "2023_Q2_H_21h",
          "2023_Q2_H_22h",
          "2023_Q2_H_23h",
          "2023_Q3_L_0h",
          "2023_Q3_L_1h",
          "2023_Q3_L_2h",
          "2023_Q3_L_3h",
          "2023_Q3_L_4h",
          "2023_Q3_L_5h",
          "2023_Q3_L_6h",
          "2023_Q3_L_7h",
          "2023_Q3_L_8h",
          "2023_Q3_L_9h",
          "2023_Q3_L_10h",
          "2023_Q3_L_11h",
          "2023_Q3_L_12h",
          "2023_Q3_L_13h",
          "2023_Q3_L_14h",
          "2023_Q3_L_15h",
          "2023_Q3_L_16h",
          "2023_Q3_L_17h",
          "2023_Q3_L_18h",
          "2023_Q3_L_19h",
          "2023_Q3_L_20h",
          "2023_Q3_L_21h",
          "2023_Q3_L_22h",
          "2023_Q3_L_23h",
          "2023_Q3_H_0h",
          "2023_Q3_H_1h",
          "2023_Q3_H_2h",
          "2023_Q3_H_3h",
          "2023_Q3_H_4h",
          "2023_Q3_H_5h",
          "2023_Q3_H_6h",
          "2023_Q3_H_7h",
          "2023_Q3_H_8h",
          "2023_Q3_H_9h",
          "2023_Q3_H_10h",
          "2023_Q3_H_11h",
          "2023_Q3_H_12h",
          "2023_Q3_H_13h",
          "2023_Q3_H_14h",
          "2023_Q3_H_15h",
          "2023_Q3_H_16h",
          "2023_Q3_H_17h",
          "2023_Q3_H_18h",
          "2023_Q3_H_19h",
          "2023_Q3_H_20h",
          "2023_Q3_H_21h",
          "2023_Q3_H_22h",
          "2023_Q3_H_23h",
          "2023_Q4_L_0h",
          "2023_Q4_L_1h",
          "2023_Q4_L_2h",
          "2023_Q4_L_3h",
          "2023_Q4_L_4h",
          "2023_Q4_L_5h",
          "2023_Q4_L_6h",
          "2023_Q4_L_7h",
          "2023_Q4_L_8h",
          "2023_Q4_L_9h",
          "2023_Q4_L_10h",
          "2023_Q4_L_11h",
          "2023_Q4_L_12h",
          "2023_Q4_L_13h",
          "2023_Q4_L_14h",
          "2023_Q4_L_15h",
          "2023_Q4_L_16h",
          "2023_Q4_L_17h",
          "2023_Q4_L_18h",
          "2023_Q4_L_19h",
          "2023_Q4_L_20h",
          "2023_Q4_L_21h",
          "2023_Q4_L_22h",
          "2023_Q4_L_23h",
          "2023_Q4_H_0h",
          "2023_Q4_H_1h",
          "2023_Q4_H_2h",
          "2023_Q4_H_3h",
          "2023_Q4_H_4h",
          "2023_Q4_H_5h",
          "2023_Q4_H_6h",
          "2023_Q4_H_7h",
          "2023_Q4_H_8h",
          "2023_Q4_H_9h",
          "2023_Q4_H_10h",
          "2023_Q4_H_11h",
          "2023_Q4_H_12h",
          "2023_Q4_H_13h",
          "2023_Q4_H_14h",
          "2023_Q4_H_15h",
          "2023_Q4_H_16h",
          "2023_Q4_H_17h",
          "2023_Q4_H_18h",
          "2023_Q4_H_19h",
          "2023_Q4_H_20h",
          "2023_Q4_H_21h",
          "2023_Q4_H_22h",
          "2023_Q4_H_23h"
         ],
         "xaxis": "x2",
         "y": [
          123.46038808370216,
          123.16769284390546,
          123.1456956941081,
          123.03089694067376,
          123.17461638407023,
          122.54790960627375,
          123.31079449236665,
          122.98895618050267,
          122.05914673415674,
          122.51127440557656,
          122.73017842566388,
          122.81287456693249,
          122.55501519234976,
          121.84114393556703,
          121.0980550659778,
          119.51789332028034,
          118.54713598835195,
          119.33377384489492,
          119.28371321293324,
          120.15311221272788,
          121.49367931373811,
          121.34498146056752,
          122.31722848641868,
          122.49567965116294,
          122.87210323995245,
          123.76900616395784,
          124.6088500352659,
          124.56585445174223,
          122.14719456522533,
          122.16563878952033,
          123.28960560180678,
          124.27354546052095,
          123.46288395582825,
          122.7994451985995,
          121.45961306066788,
          120.88877717473198,
          121.86600932725078,
          120.56233771023133,
          120.66803371351295,
          119.58338095399083,
          118.77342986637095,
          118.60240422936747,
          116.36973236465587,
          117.1157147801637,
          119.85254170139997,
          121.53962903488892,
          121.05687500490212,
          124.4274761717292,
          141.47806246990905,
          141.99790312195452,
          143.51028719508324,
          143.6215153093187,
          143.11828678907816,
          139.88212530357129,
          142.43513231417504,
          142.8048507098752,
          142.58660745967157,
          142.12867389595684,
          141.24855980282848,
          141.203391252666,
          141.86805050947723,
          141.83524571608572,
          141.0808169583927,
          140.98911422623775,
          139.49568526654923,
          140.8538046619622,
          141.38110777085052,
          142.03160509570492,
          141.6965862478189,
          141.48769269492715,
          142.57604152247995,
          142.43272288243006,
          140.08606460400634,
          142.60499950846375,
          145.4892369398075,
          144.569005023569,
          145.42383734441785,
          142.4796676166689,
          145.53772011714906,
          146.76063531822908,
          146.70713685836984,
          145.6126669183701,
          146.5140553043558,
          144.81860305843375,
          145.01687122019126,
          144.79150525386908,
          143.83138123266318,
          141.9227867119246,
          141.91193835925606,
          142.84580776234156,
          142.2509952699609,
          142.0850965414772,
          141.73483928072247,
          141.1056018149925,
          142.0730361419295,
          141.13195098932795,
          132.99359998482515,
          134.02434025819358,
          133.6089620211127,
          133.94039199943472,
          134.61650145774598,
          133.35750255650933,
          133.75201635488722,
          133.3418152730112,
          133.9299133509099,
          133.57311439486674,
          132.5886007705489,
          132.22183828861736,
          133.31727697447917,
          132.89196076270312,
          133.16591252818037,
          132.4228501920019,
          131.50421248128967,
          132.0016986304232,
          132.5466089422715,
          132.53448611438273,
          132.83841505218285,
          132.3729021510273,
          132.13961932240693,
          132.64039872820854,
          132.0641273533388,
          130.81162140897086,
          132.4466168989293,
          133.32046632844623,
          132.87115182190058,
          133.29365397121924,
          132.48127473076113,
          131.2206531554605,
          131.43942497208383,
          133.1494591304188,
          134.10815302091584,
          133.98831119102834,
          133.87961921571392,
          135.497914521787,
          136.37836498838337,
          135.5431640214261,
          134.7253627361012,
          134.58254587694583,
          133.9371255313093,
          134.2499077251199,
          133.4123765697023,
          134.10148801881806,
          132.88442475443992,
          134.21611394571434,
          128.79768250891075,
          129.0864718988493,
          128.6845259063945,
          128.54399551933025,
          128.61372450885608,
          128.3072932949667,
          128.64633642342346,
          127.69922938402978,
          128.3323418533133,
          128.08500448259025,
          127.47973215652854,
          127.03931453868282,
          127.17488417467125,
          126.92516519864614,
          126.78601139555202,
          125.94893475087166,
          126.2373806329998,
          127.05090077736821,
          128.29083249945512,
          128.2410590829008,
          128.09210707673137,
          127.81245658949712,
          129.14669125303945,
          128.92114850674253,
          129.8390128248706,
          130.08422771073987,
          131.94154072824097,
          131.6613925905892,
          132.75565302139765,
          128.92490941709926,
          131.3131574387116,
          130.77888262492013,
          130.5016778840474,
          130.19468439468238,
          130.79434679520259,
          133.6248223431521,
          132.5986339964545,
          132.47649462608317,
          131.39885202824166,
          131.42383628946928,
          130.88004185076704,
          131.24520471051846,
          130.1369748093047,
          130.1042702494108,
          129.59258492297064,
          126.52422767381526,
          128.19227645504918,
          128.92216173587795
         ],
         "yaxis": "y2"
        }
       ],
       "layout": {
        "annotations": [
         {
          "font": {
           "size": 16
          },
          "showarrow": false,
          "text": "Generation Reported (XM)",
          "x": 0.225,
          "xanchor": "center",
          "xref": "paper",
          "y": 1,
          "yanchor": "bottom",
          "yref": "paper"
         },
         {
          "font": {
           "size": 16
          },
          "showarrow": false,
          "text": "Generation Predicted (Switch)",
          "x": 0.775,
          "xanchor": "center",
          "xref": "paper",
          "y": 1,
          "yanchor": "bottom",
          "yref": "paper"
         }
        ],
        "plot_bgcolor": "white",
        "template": {
         "data": {
          "bar": [
           {
            "error_x": {
             "color": "#2a3f5f"
            },
            "error_y": {
             "color": "#2a3f5f"
            },
            "marker": {
             "line": {
              "color": "#E5ECF6",
              "width": 0.5
             },
             "pattern": {
              "fillmode": "overlay",
              "size": 10,
              "solidity": 0.2
             }
            },
            "type": "bar"
           }
          ],
          "barpolar": [
           {
            "marker": {
             "line": {
              "color": "#E5ECF6",
              "width": 0.5
             },
             "pattern": {
              "fillmode": "overlay",
              "size": 10,
              "solidity": 0.2
             }
            },
            "type": "barpolar"
           }
          ],
          "carpet": [
           {
            "aaxis": {
             "endlinecolor": "#2a3f5f",
             "gridcolor": "white",
             "linecolor": "white",
             "minorgridcolor": "white",
             "startlinecolor": "#2a3f5f"
            },
            "baxis": {
             "endlinecolor": "#2a3f5f",
             "gridcolor": "white",
             "linecolor": "white",
             "minorgridcolor": "white",
             "startlinecolor": "#2a3f5f"
            },
            "type": "carpet"
           }
          ],
          "choropleth": [
           {
            "colorbar": {
             "outlinewidth": 0,
             "ticks": ""
            },
            "type": "choropleth"
           }
          ],
          "contour": [
           {
            "colorbar": {
             "outlinewidth": 0,
             "ticks": ""
            },
            "colorscale": [
             [
              0,
              "#0d0887"
             ],
             [
              0.1111111111111111,
              "#46039f"
             ],
             [
              0.2222222222222222,
              "#7201a8"
             ],
             [
              0.3333333333333333,
              "#9c179e"
             ],
             [
              0.4444444444444444,
              "#bd3786"
             ],
             [
              0.5555555555555556,
              "#d8576b"
             ],
             [
              0.6666666666666666,
              "#ed7953"
             ],
             [
              0.7777777777777778,
              "#fb9f3a"
             ],
             [
              0.8888888888888888,
              "#fdca26"
             ],
             [
              1,
              "#f0f921"
             ]
            ],
            "type": "contour"
           }
          ],
          "contourcarpet": [
           {
            "colorbar": {
             "outlinewidth": 0,
             "ticks": ""
            },
            "type": "contourcarpet"
           }
          ],
          "heatmap": [
           {
            "colorbar": {
             "outlinewidth": 0,
             "ticks": ""
            },
            "colorscale": [
             [
              0,
              "#0d0887"
             ],
             [
              0.1111111111111111,
              "#46039f"
             ],
             [
              0.2222222222222222,
              "#7201a8"
             ],
             [
              0.3333333333333333,
              "#9c179e"
             ],
             [
              0.4444444444444444,
              "#bd3786"
             ],
             [
              0.5555555555555556,
              "#d8576b"
             ],
             [
              0.6666666666666666,
              "#ed7953"
             ],
             [
              0.7777777777777778,
              "#fb9f3a"
             ],
             [
              0.8888888888888888,
              "#fdca26"
             ],
             [
              1,
              "#f0f921"
             ]
            ],
            "type": "heatmap"
           }
          ],
          "heatmapgl": [
           {
            "colorbar": {
             "outlinewidth": 0,
             "ticks": ""
            },
            "colorscale": [
             [
              0,
              "#0d0887"
             ],
             [
              0.1111111111111111,
              "#46039f"
             ],
             [
              0.2222222222222222,
              "#7201a8"
             ],
             [
              0.3333333333333333,
              "#9c179e"
             ],
             [
              0.4444444444444444,
              "#bd3786"
             ],
             [
              0.5555555555555556,
              "#d8576b"
             ],
             [
              0.6666666666666666,
              "#ed7953"
             ],
             [
              0.7777777777777778,
              "#fb9f3a"
             ],
             [
              0.8888888888888888,
              "#fdca26"
             ],
             [
              1,
              "#f0f921"
             ]
            ],
            "type": "heatmapgl"
           }
          ],
          "histogram": [
           {
            "marker": {
             "pattern": {
              "fillmode": "overlay",
              "size": 10,
              "solidity": 0.2
             }
            },
            "type": "histogram"
           }
          ],
          "histogram2d": [
           {
            "colorbar": {
             "outlinewidth": 0,
             "ticks": ""
            },
            "colorscale": [
             [
              0,
              "#0d0887"
             ],
             [
              0.1111111111111111,
              "#46039f"
             ],
             [
              0.2222222222222222,
              "#7201a8"
             ],
             [
              0.3333333333333333,
              "#9c179e"
             ],
             [
              0.4444444444444444,
              "#bd3786"
             ],
             [
              0.5555555555555556,
              "#d8576b"
             ],
             [
              0.6666666666666666,
              "#ed7953"
             ],
             [
              0.7777777777777778,
              "#fb9f3a"
             ],
             [
              0.8888888888888888,
              "#fdca26"
             ],
             [
              1,
              "#f0f921"
             ]
            ],
            "type": "histogram2d"
           }
          ],
          "histogram2dcontour": [
           {
            "colorbar": {
             "outlinewidth": 0,
             "ticks": ""
            },
            "colorscale": [
             [
              0,
              "#0d0887"
             ],
             [
              0.1111111111111111,
              "#46039f"
             ],
             [
              0.2222222222222222,
              "#7201a8"
             ],
             [
              0.3333333333333333,
              "#9c179e"
             ],
             [
              0.4444444444444444,
              "#bd3786"
             ],
             [
              0.5555555555555556,
              "#d8576b"
             ],
             [
              0.6666666666666666,
              "#ed7953"
             ],
             [
              0.7777777777777778,
              "#fb9f3a"
             ],
             [
              0.8888888888888888,
              "#fdca26"
             ],
             [
              1,
              "#f0f921"
             ]
            ],
            "type": "histogram2dcontour"
           }
          ],
          "mesh3d": [
           {
            "colorbar": {
             "outlinewidth": 0,
             "ticks": ""
            },
            "type": "mesh3d"
           }
          ],
          "parcoords": [
           {
            "line": {
             "colorbar": {
              "outlinewidth": 0,
              "ticks": ""
             }
            },
            "type": "parcoords"
           }
          ],
          "pie": [
           {
            "automargin": true,
            "type": "pie"
           }
          ],
          "scatter": [
           {
            "fillpattern": {
             "fillmode": "overlay",
             "size": 10,
             "solidity": 0.2
            },
            "type": "scatter"
           }
          ],
          "scatter3d": [
           {
            "line": {
             "colorbar": {
              "outlinewidth": 0,
              "ticks": ""
             }
            },
            "marker": {
             "colorbar": {
              "outlinewidth": 0,
              "ticks": ""
             }
            },
            "type": "scatter3d"
           }
          ],
          "scattercarpet": [
           {
            "marker": {
             "colorbar": {
              "outlinewidth": 0,
              "ticks": ""
             }
            },
            "type": "scattercarpet"
           }
          ],
          "scattergeo": [
           {
            "marker": {
             "colorbar": {
              "outlinewidth": 0,
              "ticks": ""
             }
            },
            "type": "scattergeo"
           }
          ],
          "scattergl": [
           {
            "marker": {
             "colorbar": {
              "outlinewidth": 0,
              "ticks": ""
             }
            },
            "type": "scattergl"
           }
          ],
          "scattermapbox": [
           {
            "marker": {
             "colorbar": {
              "outlinewidth": 0,
              "ticks": ""
             }
            },
            "type": "scattermapbox"
           }
          ],
          "scatterpolar": [
           {
            "marker": {
             "colorbar": {
              "outlinewidth": 0,
              "ticks": ""
             }
            },
            "type": "scatterpolar"
           }
          ],
          "scatterpolargl": [
           {
            "marker": {
             "colorbar": {
              "outlinewidth": 0,
              "ticks": ""
             }
            },
            "type": "scatterpolargl"
           }
          ],
          "scatterternary": [
           {
            "marker": {
             "colorbar": {
              "outlinewidth": 0,
              "ticks": ""
             }
            },
            "type": "scatterternary"
           }
          ],
          "surface": [
           {
            "colorbar": {
             "outlinewidth": 0,
             "ticks": ""
            },
            "colorscale": [
             [
              0,
              "#0d0887"
             ],
             [
              0.1111111111111111,
              "#46039f"
             ],
             [
              0.2222222222222222,
              "#7201a8"
             ],
             [
              0.3333333333333333,
              "#9c179e"
             ],
             [
              0.4444444444444444,
              "#bd3786"
             ],
             [
              0.5555555555555556,
              "#d8576b"
             ],
             [
              0.6666666666666666,
              "#ed7953"
             ],
             [
              0.7777777777777778,
              "#fb9f3a"
             ],
             [
              0.8888888888888888,
              "#fdca26"
             ],
             [
              1,
              "#f0f921"
             ]
            ],
            "type": "surface"
           }
          ],
          "table": [
           {
            "cells": {
             "fill": {
              "color": "#EBF0F8"
             },
             "line": {
              "color": "white"
             }
            },
            "header": {
             "fill": {
              "color": "#C8D4E3"
             },
             "line": {
              "color": "white"
             }
            },
            "type": "table"
           }
          ]
         },
         "layout": {
          "annotationdefaults": {
           "arrowcolor": "#2a3f5f",
           "arrowhead": 0,
           "arrowwidth": 1
          },
          "autotypenumbers": "strict",
          "coloraxis": {
           "colorbar": {
            "outlinewidth": 0,
            "ticks": ""
           }
          },
          "colorscale": {
           "diverging": [
            [
             0,
             "#8e0152"
            ],
            [
             0.1,
             "#c51b7d"
            ],
            [
             0.2,
             "#de77ae"
            ],
            [
             0.3,
             "#f1b6da"
            ],
            [
             0.4,
             "#fde0ef"
            ],
            [
             0.5,
             "#f7f7f7"
            ],
            [
             0.6,
             "#e6f5d0"
            ],
            [
             0.7,
             "#b8e186"
            ],
            [
             0.8,
             "#7fbc41"
            ],
            [
             0.9,
             "#4d9221"
            ],
            [
             1,
             "#276419"
            ]
           ],
           "sequential": [
            [
             0,
             "#0d0887"
            ],
            [
             0.1111111111111111,
             "#46039f"
            ],
            [
             0.2222222222222222,
             "#7201a8"
            ],
            [
             0.3333333333333333,
             "#9c179e"
            ],
            [
             0.4444444444444444,
             "#bd3786"
            ],
            [
             0.5555555555555556,
             "#d8576b"
            ],
            [
             0.6666666666666666,
             "#ed7953"
            ],
            [
             0.7777777777777778,
             "#fb9f3a"
            ],
            [
             0.8888888888888888,
             "#fdca26"
            ],
            [
             1,
             "#f0f921"
            ]
           ],
           "sequentialminus": [
            [
             0,
             "#0d0887"
            ],
            [
             0.1111111111111111,
             "#46039f"
            ],
            [
             0.2222222222222222,
             "#7201a8"
            ],
            [
             0.3333333333333333,
             "#9c179e"
            ],
            [
             0.4444444444444444,
             "#bd3786"
            ],
            [
             0.5555555555555556,
             "#d8576b"
            ],
            [
             0.6666666666666666,
             "#ed7953"
            ],
            [
             0.7777777777777778,
             "#fb9f3a"
            ],
            [
             0.8888888888888888,
             "#fdca26"
            ],
            [
             1,
             "#f0f921"
            ]
           ]
          },
          "colorway": [
           "#636efa",
           "#EF553B",
           "#00cc96",
           "#ab63fa",
           "#FFA15A",
           "#19d3f3",
           "#FF6692",
           "#B6E880",
           "#FF97FF",
           "#FECB52"
          ],
          "font": {
           "color": "#2a3f5f"
          },
          "geo": {
           "bgcolor": "white",
           "lakecolor": "white",
           "landcolor": "#E5ECF6",
           "showlakes": true,
           "showland": true,
           "subunitcolor": "white"
          },
          "hoverlabel": {
           "align": "left"
          },
          "hovermode": "closest",
          "mapbox": {
           "style": "light"
          },
          "paper_bgcolor": "white",
          "plot_bgcolor": "#E5ECF6",
          "polar": {
           "angularaxis": {
            "gridcolor": "white",
            "linecolor": "white",
            "ticks": ""
           },
           "bgcolor": "#E5ECF6",
           "radialaxis": {
            "gridcolor": "white",
            "linecolor": "white",
            "ticks": ""
           }
          },
          "scene": {
           "xaxis": {
            "backgroundcolor": "#E5ECF6",
            "gridcolor": "white",
            "gridwidth": 2,
            "linecolor": "white",
            "showbackground": true,
            "ticks": "",
            "zerolinecolor": "white"
           },
           "yaxis": {
            "backgroundcolor": "#E5ECF6",
            "gridcolor": "white",
            "gridwidth": 2,
            "linecolor": "white",
            "showbackground": true,
            "ticks": "",
            "zerolinecolor": "white"
           },
           "zaxis": {
            "backgroundcolor": "#E5ECF6",
            "gridcolor": "white",
            "gridwidth": 2,
            "linecolor": "white",
            "showbackground": true,
            "ticks": "",
            "zerolinecolor": "white"
           }
          },
          "shapedefaults": {
           "line": {
            "color": "#2a3f5f"
           }
          },
          "ternary": {
           "aaxis": {
            "gridcolor": "white",
            "linecolor": "white",
            "ticks": ""
           },
           "baxis": {
            "gridcolor": "white",
            "linecolor": "white",
            "ticks": ""
           },
           "bgcolor": "#E5ECF6",
           "caxis": {
            "gridcolor": "white",
            "linecolor": "white",
            "ticks": ""
           }
          },
          "title": {
           "x": 0.05
          },
          "xaxis": {
           "automargin": true,
           "gridcolor": "white",
           "linecolor": "white",
           "ticks": "",
           "title": {
            "standoff": 15
           },
           "zerolinecolor": "white",
           "zerolinewidth": 2
          },
          "yaxis": {
           "automargin": true,
           "gridcolor": "white",
           "linecolor": "white",
           "ticks": "",
           "title": {
            "standoff": 15
           },
           "zerolinecolor": "white",
           "zerolinewidth": 2
          }
         }
        },
        "title": {
         "text": "Base Year (2023)"
        },
        "updatemenus": [
         {
          "buttons": [
           {
            "args": [
             {
              "yaxis.autorange": true,
              "yaxis2.autorange": true
             }
            ],
            "label": "Auto",
            "method": "relayout"
           },
           {
            "args": [
             {
              "yaxis.range": [
               0,
               700
              ],
              "yaxis2.range": [
               0,
               7000
              ]
             }
            ],
            "label": "700k Fixed",
            "method": "relayout"
           }
          ],
          "direction": "down",
          "x": 1.2,
          "xanchor": "right",
          "y": 1.2
         }
        ],
        "xaxis": {
         "anchor": "y",
         "domain": [
          0,
          0.45
         ],
         "gridcolor": "lightgray",
         "showgrid": true
        },
        "xaxis2": {
         "anchor": "y2",
         "domain": [
          0.55,
          1
         ],
         "gridcolor": "lightgray",
         "showgrid": true
        },
        "yaxis": {
         "anchor": "x",
         "domain": [
          0,
          1
         ],
         "gridcolor": "lightgray",
         "showgrid": true
        },
        "yaxis2": {
         "anchor": "x2",
         "domain": [
          0,
          1
         ],
         "gridcolor": "lightgray",
         "showgrid": true
        }
       }
      }
     },
     "metadata": {},
     "output_type": "display_data"
    }
   ],
   "source": [
    "# Take both Sets\n",
    "gen_res = gen_res[['timestamp', 'Tech', 'DispatchGen_MW', ]]\n",
    "gen_disp = gen_disp[['timestamp', 'Tech', 'DispatchGen_MW']].iloc[0:960]\n",
    "\n",
    "# Define colors by Technology\n",
    "tech_colors = {'Eolica': '#45CFFF',\n",
    "               'Thermal': '#E84A59',\n",
    "               'Solar': '#EFB52D',\n",
    "               'Hidro': '#744FD0',\n",
    "               'Menores': '#AEE83C'}\n",
    "\n",
    "# Crete individual plots\n",
    "fig1 = px.line(\n",
    "    gen_res, x='timestamp', y='DispatchGen_MW', \n",
    "    color='Tech', title='Generation Reported (XM)',\n",
    "    color_discrete_map=tech_colors)\n",
    "fig2 = px.line(\n",
    "    gen_disp, x='timestamp', y='DispatchGen_MW', \n",
    "    color='Tech', title='Generation Predicted (Switch)',\n",
    "    color_discrete_map=tech_colors)\n",
    "\n",
    "# Create subplots\n",
    "fig = make_subplots(rows=1, cols=2, subplot_titles=(\"Generation Reported (XM)\", \"Generation Predicted (Switch)\"))\n",
    "# Add figures to subplots\n",
    "for trace in fig1['data']:\n",
    "    fig.add_trace(trace, row=1, col=1)\n",
    "for trace in fig2['data']:\n",
    "    fig.add_trace(trace, row=1, col=2)\n",
    "\n",
    "# Only show one legend\n",
    "names = set()\n",
    "for trace in fig['data']:\n",
    "    if (trace.name in names): trace.showlegend = False\n",
    "    else: names.add(trace.name)\n",
    "\n",
    "# Add buttons to change y-range\n",
    "fig.update_layout(\n",
    "    title='Base Year (2023)',\n",
    "    updatemenus=[\n",
    "        go.layout.Updatemenu(\n",
    "            buttons=list([\n",
    "                dict(\n",
    "                    args=[{\"yaxis.autorange\": True, \"yaxis2.autorange\": True}],\n",
    "                    label=\"Auto\",\n",
    "                    method=\"relayout\"\n",
    "                ),\n",
    "                dict(\n",
    "                    args=[{\"yaxis.range\": [0, 700], \"yaxis2.range\": [0, 7000]}],\n",
    "                    label=\"700k Fixed\",\n",
    "                    method=\"relayout\"\n",
    "                )]),\n",
    "            direction=\"down\",\n",
    "            x=1.2, # Adjust horizontal position\n",
    "            xanchor=\"right\",\n",
    "            y=1.2  # Adjust vertical position\n",
    "        )],\n",
    "    plot_bgcolor='white',\n",
    "    xaxis=dict(showgrid=True, gridcolor='lightgray'),\n",
    "    yaxis=dict(showgrid=True, gridcolor='lightgray'),\n",
    "    xaxis2=dict(showgrid=True, gridcolor='lightgray'),\n",
    "    yaxis2=dict(showgrid=True, gridcolor='lightgray'))\n",
    "fig.show()"
   ]
  },
  {
   "cell_type": "markdown",
   "metadata": {},
   "source": [
    "## 4. Calibration\n",
    "### 4.1 Error by timestamp"
   ]
  },
  {
   "cell_type": "code",
   "execution_count": null,
   "metadata": {},
   "outputs": [
    {
     "name": "stdout",
     "output_type": "stream",
     "text": [
      "Index(['timestamp', 'Tech', 'DispatchGen_MW_x', 'DispatchGen_MW_xm',\n",
      "       'DispatchGen_MW_y', 'DispatchGen_MW_sw'],\n",
      "      dtype='object')\n"
     ]
    },
    {
     "data": {
      "application/vnd.plotly.v1+json": {
       "config": {
        "plotlyServerURL": "https://plot.ly"
       },
       "data": [
        {
         "hovertemplate": "Tech=Menores<br>timestamp=%{x}<br>percentage_error (%)=%{y}<extra></extra>",
         "legendgroup": "Menores",
         "line": {
          "color": "#636efa",
          "dash": "solid"
         },
         "marker": {
          "symbol": "circle"
         },
         "mode": "lines",
         "name": "Menores",
         "orientation": "v",
         "showlegend": true,
         "type": "scatter",
         "x": [
          "2023_Q1_L_0h",
          "2023_Q1_L_1h",
          "2023_Q1_L_2h",
          "2023_Q1_L_3h",
          "2023_Q1_L_4h",
          "2023_Q1_L_5h",
          "2023_Q1_L_6h",
          "2023_Q1_L_7h",
          "2023_Q1_L_8h",
          "2023_Q1_L_9h",
          "2023_Q1_L_10h",
          "2023_Q1_L_11h",
          "2023_Q1_L_12h",
          "2023_Q1_L_13h",
          "2023_Q1_L_14h",
          "2023_Q1_L_15h",
          "2023_Q1_L_16h",
          "2023_Q1_L_17h",
          "2023_Q1_L_18h",
          "2023_Q1_L_19h",
          "2023_Q1_L_20h",
          "2023_Q1_L_21h",
          "2023_Q1_L_22h",
          "2023_Q1_L_23h",
          "2023_Q1_H_0h",
          "2023_Q1_H_1h",
          "2023_Q1_H_2h",
          "2023_Q1_H_3h",
          "2023_Q1_H_4h",
          "2023_Q1_H_5h",
          "2023_Q1_H_6h",
          "2023_Q1_H_7h",
          "2023_Q1_H_8h",
          "2023_Q1_H_9h",
          "2023_Q1_H_10h",
          "2023_Q1_H_11h",
          "2023_Q1_H_12h",
          "2023_Q1_H_13h",
          "2023_Q1_H_14h",
          "2023_Q1_H_15h",
          "2023_Q1_H_16h",
          "2023_Q1_H_17h",
          "2023_Q1_H_18h",
          "2023_Q1_H_19h",
          "2023_Q1_H_20h",
          "2023_Q1_H_21h",
          "2023_Q1_H_22h",
          "2023_Q1_H_23h",
          "2023_Q2_L_0h",
          "2023_Q2_L_1h",
          "2023_Q2_L_2h",
          "2023_Q2_L_3h",
          "2023_Q2_L_4h",
          "2023_Q2_L_5h",
          "2023_Q2_L_6h",
          "2023_Q2_L_7h",
          "2023_Q2_L_8h",
          "2023_Q2_L_9h",
          "2023_Q2_L_10h",
          "2023_Q2_L_11h",
          "2023_Q2_L_12h",
          "2023_Q2_L_13h",
          "2023_Q2_L_14h",
          "2023_Q2_L_15h",
          "2023_Q2_L_16h",
          "2023_Q2_L_17h",
          "2023_Q2_L_18h",
          "2023_Q2_L_19h",
          "2023_Q2_L_20h",
          "2023_Q2_L_21h",
          "2023_Q2_L_22h",
          "2023_Q2_L_23h",
          "2023_Q2_H_0h",
          "2023_Q2_H_1h",
          "2023_Q2_H_2h",
          "2023_Q2_H_3h",
          "2023_Q2_H_4h",
          "2023_Q2_H_5h",
          "2023_Q2_H_6h",
          "2023_Q2_H_7h",
          "2023_Q2_H_8h",
          "2023_Q2_H_9h",
          "2023_Q2_H_10h",
          "2023_Q2_H_11h",
          "2023_Q2_H_12h",
          "2023_Q2_H_13h",
          "2023_Q2_H_14h",
          "2023_Q2_H_15h",
          "2023_Q2_H_16h",
          "2023_Q2_H_17h",
          "2023_Q2_H_18h",
          "2023_Q2_H_19h",
          "2023_Q2_H_20h",
          "2023_Q2_H_21h",
          "2023_Q2_H_22h",
          "2023_Q2_H_23h",
          "2023_Q3_L_0h",
          "2023_Q3_L_1h",
          "2023_Q3_L_2h",
          "2023_Q3_L_3h",
          "2023_Q3_L_4h",
          "2023_Q3_L_5h",
          "2023_Q3_L_6h",
          "2023_Q3_L_7h",
          "2023_Q3_L_8h",
          "2023_Q3_L_9h",
          "2023_Q3_L_10h",
          "2023_Q3_L_11h",
          "2023_Q3_L_12h",
          "2023_Q3_L_13h",
          "2023_Q3_L_14h",
          "2023_Q3_L_15h",
          "2023_Q3_L_16h",
          "2023_Q3_L_17h",
          "2023_Q3_L_18h",
          "2023_Q3_L_19h",
          "2023_Q3_L_20h",
          "2023_Q3_L_21h",
          "2023_Q3_L_22h",
          "2023_Q3_L_23h",
          "2023_Q3_H_0h",
          "2023_Q3_H_1h",
          "2023_Q3_H_2h",
          "2023_Q3_H_3h",
          "2023_Q3_H_4h",
          "2023_Q3_H_5h",
          "2023_Q3_H_6h",
          "2023_Q3_H_7h",
          "2023_Q3_H_8h",
          "2023_Q3_H_9h",
          "2023_Q3_H_10h",
          "2023_Q3_H_11h",
          "2023_Q3_H_12h",
          "2023_Q3_H_13h",
          "2023_Q3_H_14h",
          "2023_Q3_H_15h",
          "2023_Q3_H_16h",
          "2023_Q3_H_17h",
          "2023_Q3_H_18h",
          "2023_Q3_H_19h",
          "2023_Q3_H_20h",
          "2023_Q3_H_21h",
          "2023_Q3_H_22h",
          "2023_Q3_H_23h",
          "2023_Q4_L_0h",
          "2023_Q4_L_1h",
          "2023_Q4_L_2h",
          "2023_Q4_L_3h",
          "2023_Q4_L_4h",
          "2023_Q4_L_5h",
          "2023_Q4_L_6h",
          "2023_Q4_L_7h",
          "2023_Q4_L_8h",
          "2023_Q4_L_9h",
          "2023_Q4_L_10h",
          "2023_Q4_L_11h",
          "2023_Q4_L_12h",
          "2023_Q4_L_13h",
          "2023_Q4_L_14h",
          "2023_Q4_L_15h",
          "2023_Q4_L_16h",
          "2023_Q4_L_17h",
          "2023_Q4_L_18h",
          "2023_Q4_L_19h",
          "2023_Q4_L_20h",
          "2023_Q4_L_21h",
          "2023_Q4_L_22h",
          "2023_Q4_L_23h",
          "2023_Q4_H_0h",
          "2023_Q4_H_1h",
          "2023_Q4_H_2h",
          "2023_Q4_H_3h",
          "2023_Q4_H_4h",
          "2023_Q4_H_5h",
          "2023_Q4_H_6h",
          "2023_Q4_H_7h",
          "2023_Q4_H_8h",
          "2023_Q4_H_9h",
          "2023_Q4_H_10h",
          "2023_Q4_H_11h",
          "2023_Q4_H_12h",
          "2023_Q4_H_13h",
          "2023_Q4_H_14h",
          "2023_Q4_H_15h",
          "2023_Q4_H_16h",
          "2023_Q4_H_17h",
          "2023_Q4_H_18h",
          "2023_Q4_H_19h",
          "2023_Q4_H_20h",
          "2023_Q4_H_21h",
          "2023_Q4_H_22h",
          "2023_Q4_H_23h"
         ],
         "xaxis": "x",
         "y": [
          16.39018554539753,
          17.639308990393655,
          16.784499516024564,
          16.94757364298063,
          16.06936991068966,
          15.883098760680369,
          16.582074299857897,
          17.413752173054053,
          16.87503567839115,
          19.214906078817016,
          23.527375498305545,
          25.41996488030607,
          24.923311163142547,
          23.306261245056703,
          21.84350486365423,
          21.44883179817716,
          20.19356334073812,
          18.541808339411368,
          16.574274841281756,
          16.6920408303187,
          17.409029691828295,
          15.657295433241568,
          16.6185556857948,
          16.278410750305916,
          24.49210851409882,
          16.28362526223861,
          17.109615964813507,
          16.5671074146168,
          16.046414936490372,
          20.114875934464905,
          22.864047072609672,
          25.007927609650473,
          22.408906547779893,
          22.737753427180742,
          23.51742572498876,
          23.356666781621517,
          28.35683372162596,
          27.836333240840204,
          26.879352898986486,
          25.209911791894513,
          22.557937912313484,
          22.50116591301483,
          17.694152814332288,
          19.26720992528883,
          23.321374656281723,
          24.33870367393387,
          23.435792260753562,
          28.461155465172915,
          95.7696866152719,
          93.18398246987745,
          94.64619383997682,
          95.69895980563035,
          95.54486986752737,
          90.95945649800386,
          91.92455385767093,
          94.45519845995554,
          97.63457109631437,
          101.45620148860037,
          107.55872889679713,
          114.18240283253694,
          117.92722959216971,
          117.24004404255308,
          115.12797772209255,
          115.37619516739338,
          111.20455038687456,
          109.3504880728939,
          107.67269795374878,
          106.05102276087548,
          104.11030608142337,
          99.23951003104219,
          97.78476605025442,
          98.50928275250837,
          104.50490295764779,
          101.82277017853254,
          104.57414913410035,
          102.47644629929242,
          105.46974060370835,
          101.65404068903166,
          107.86065336681352,
          111.90534388459147,
          112.48638772406143,
          114.36508293159741,
          115.39127371848723,
          117.6454515267194,
          121.73176044291681,
          125.12611920226742,
          122.34059414041458,
          117.17547047071686,
          119.19010901795465,
          116.36057892201053,
          110.44818971491806,
          112.67867277204,
          116.57369827158139,
          115.12991359444791,
          108.89105243515647,
          110.11996755167237,
          37.27832282979744,
          39.156433397121845,
          38.08598513188925,
          39.0115358174425,
          39.89335899945645,
          38.35106244344988,
          36.98804488316429,
          37.24003561959988,
          39.148758522787695,
          41.34978409418066,
          45.48071945951293,
          48.000382574160525,
          48.233160714411284,
          45.91807893645241,
          44.845779892749206,
          44.791597642136004,
          43.11741319935389,
          42.057302661074814,
          41.7972850464271,
          40.656566360232006,
          37.48236395311471,
          36.39284205139568,
          35.224948550256066,
          35.27496829113203,
          33.38481659410426,
          29.70028452105222,
          28.99263083559489,
          32.365877222486496,
          31.699624900119794,
          31.52991371099727,
          30.479593311898356,
          30.0367238007913,
          34.75460702191589,
          37.31901692936233,
          39.84780379636359,
          40.85774399792326,
          42.836351746807736,
          44.179987521443856,
          44.91133045936802,
          42.2219723918422,
          43.60278647397158,
          41.161990045804316,
          38.88367154556829,
          39.600536414104724,
          38.66900494175618,
          35.105596972613796,
          33.744125822420656,
          34.950751580589866,
          43.958401929283596,
          40.768190184457545,
          39.84269736004058,
          40.5075558568184,
          41.97417172149112,
          40.67213005588464,
          39.74662435766039,
          38.93711209604576,
          42.64265008000798,
          44.46260311516623,
          48.40576307465334,
          51.139155714421406,
          50.380646758699974,
          49.735408961485895,
          50.091746976911125,
          49.12477328402696,
          47.83219744628682,
          47.71418933084577,
          46.08717325661467,
          46.03488141050758,
          43.94642273230281,
          42.4112906865244,
          42.820029475114495,
          43.72082599066167,
          36.082030335216906,
          45.37475694740938,
          46.546244792879634,
          43.73883478665219,
          45.36638115379994,
          40.3439930105574,
          41.44109022457796,
          43.976567808920784,
          42.35152111176112,
          40.70264822829219,
          42.96799935666951,
          48.21737344318247,
          50.81308424630158,
          45.10521587272862,
          43.593476068821936,
          44.414129400423576,
          40.15671164010255,
          42.46022244084187,
          38.99711837893764,
          44.81309443124986,
          42.983365342087666,
          35.69745607943193,
          37.68578891672334,
          34.301420199233526
         ],
         "yaxis": "y"
        },
        {
         "hovertemplate": "Tech=Solar<br>timestamp=%{x}<br>percentage_error (%)=%{y}<extra></extra>",
         "legendgroup": "Solar",
         "line": {
          "color": "#EF553B",
          "dash": "solid"
         },
         "marker": {
          "symbol": "circle"
         },
         "mode": "lines",
         "name": "Solar",
         "orientation": "v",
         "showlegend": true,
         "type": "scatter",
         "x": [
          "2023_Q1_L_0h",
          "2023_Q1_L_1h",
          "2023_Q1_L_2h",
          "2023_Q1_L_3h",
          "2023_Q1_L_4h",
          "2023_Q1_L_5h",
          "2023_Q1_L_6h",
          "2023_Q1_L_7h",
          "2023_Q1_L_8h",
          "2023_Q1_L_9h",
          "2023_Q1_L_10h",
          "2023_Q1_L_11h",
          "2023_Q1_L_12h",
          "2023_Q1_L_13h",
          "2023_Q1_L_14h",
          "2023_Q1_L_15h",
          "2023_Q1_L_16h",
          "2023_Q1_L_17h",
          "2023_Q1_L_18h",
          "2023_Q1_L_19h",
          "2023_Q1_L_20h",
          "2023_Q1_L_21h",
          "2023_Q1_L_22h",
          "2023_Q1_L_23h",
          "2023_Q1_H_0h",
          "2023_Q1_H_1h",
          "2023_Q1_H_2h",
          "2023_Q1_H_3h",
          "2023_Q1_H_4h",
          "2023_Q1_H_5h",
          "2023_Q1_H_6h",
          "2023_Q1_H_7h",
          "2023_Q1_H_8h",
          "2023_Q1_H_9h",
          "2023_Q1_H_10h",
          "2023_Q1_H_11h",
          "2023_Q1_H_12h",
          "2023_Q1_H_13h",
          "2023_Q1_H_14h",
          "2023_Q1_H_15h",
          "2023_Q1_H_16h",
          "2023_Q1_H_17h",
          "2023_Q1_H_18h",
          "2023_Q1_H_19h",
          "2023_Q1_H_20h",
          "2023_Q1_H_21h",
          "2023_Q1_H_22h",
          "2023_Q1_H_23h",
          "2023_Q2_L_0h",
          "2023_Q2_L_1h",
          "2023_Q2_L_2h",
          "2023_Q2_L_3h",
          "2023_Q2_L_4h",
          "2023_Q2_L_5h",
          "2023_Q2_L_6h",
          "2023_Q2_L_7h",
          "2023_Q2_L_8h",
          "2023_Q2_L_9h",
          "2023_Q2_L_10h",
          "2023_Q2_L_11h",
          "2023_Q2_L_12h",
          "2023_Q2_L_13h",
          "2023_Q2_L_14h",
          "2023_Q2_L_15h",
          "2023_Q2_L_16h",
          "2023_Q2_L_17h",
          "2023_Q2_L_18h",
          "2023_Q2_L_19h",
          "2023_Q2_L_20h",
          "2023_Q2_L_21h",
          "2023_Q2_L_22h",
          "2023_Q2_L_23h",
          "2023_Q2_H_0h",
          "2023_Q2_H_1h",
          "2023_Q2_H_2h",
          "2023_Q2_H_3h",
          "2023_Q2_H_4h",
          "2023_Q2_H_5h",
          "2023_Q2_H_6h",
          "2023_Q2_H_7h",
          "2023_Q2_H_8h",
          "2023_Q2_H_9h",
          "2023_Q2_H_10h",
          "2023_Q2_H_11h",
          "2023_Q2_H_12h",
          "2023_Q2_H_13h",
          "2023_Q2_H_14h",
          "2023_Q2_H_15h",
          "2023_Q2_H_16h",
          "2023_Q2_H_17h",
          "2023_Q2_H_18h",
          "2023_Q2_H_19h",
          "2023_Q2_H_20h",
          "2023_Q2_H_21h",
          "2023_Q2_H_22h",
          "2023_Q2_H_23h",
          "2023_Q3_L_0h",
          "2023_Q3_L_1h",
          "2023_Q3_L_2h",
          "2023_Q3_L_3h",
          "2023_Q3_L_4h",
          "2023_Q3_L_5h",
          "2023_Q3_L_6h",
          "2023_Q3_L_7h",
          "2023_Q3_L_8h",
          "2023_Q3_L_9h",
          "2023_Q3_L_10h",
          "2023_Q3_L_11h",
          "2023_Q3_L_12h",
          "2023_Q3_L_13h",
          "2023_Q3_L_14h",
          "2023_Q3_L_15h",
          "2023_Q3_L_16h",
          "2023_Q3_L_17h",
          "2023_Q3_L_18h",
          "2023_Q3_L_19h",
          "2023_Q3_L_20h",
          "2023_Q3_L_21h",
          "2023_Q3_L_22h",
          "2023_Q3_L_23h",
          "2023_Q3_H_0h",
          "2023_Q3_H_1h",
          "2023_Q3_H_2h",
          "2023_Q3_H_3h",
          "2023_Q3_H_4h",
          "2023_Q3_H_5h",
          "2023_Q3_H_6h",
          "2023_Q3_H_7h",
          "2023_Q3_H_8h",
          "2023_Q3_H_9h",
          "2023_Q3_H_10h",
          "2023_Q3_H_11h",
          "2023_Q3_H_12h",
          "2023_Q3_H_13h",
          "2023_Q3_H_14h",
          "2023_Q3_H_15h",
          "2023_Q3_H_16h",
          "2023_Q3_H_17h",
          "2023_Q3_H_18h",
          "2023_Q3_H_19h",
          "2023_Q3_H_20h",
          "2023_Q3_H_21h",
          "2023_Q3_H_22h",
          "2023_Q3_H_23h",
          "2023_Q4_L_0h",
          "2023_Q4_L_1h",
          "2023_Q4_L_2h",
          "2023_Q4_L_3h",
          "2023_Q4_L_4h",
          "2023_Q4_L_5h",
          "2023_Q4_L_6h",
          "2023_Q4_L_7h",
          "2023_Q4_L_8h",
          "2023_Q4_L_9h",
          "2023_Q4_L_10h",
          "2023_Q4_L_11h",
          "2023_Q4_L_12h",
          "2023_Q4_L_13h",
          "2023_Q4_L_14h",
          "2023_Q4_L_15h",
          "2023_Q4_L_16h",
          "2023_Q4_L_17h",
          "2023_Q4_L_18h",
          "2023_Q4_L_19h",
          "2023_Q4_L_20h",
          "2023_Q4_L_21h",
          "2023_Q4_L_22h",
          "2023_Q4_L_23h",
          "2023_Q4_H_0h",
          "2023_Q4_H_1h",
          "2023_Q4_H_2h",
          "2023_Q4_H_3h",
          "2023_Q4_H_4h",
          "2023_Q4_H_5h",
          "2023_Q4_H_6h",
          "2023_Q4_H_7h",
          "2023_Q4_H_8h",
          "2023_Q4_H_9h",
          "2023_Q4_H_10h",
          "2023_Q4_H_11h",
          "2023_Q4_H_12h",
          "2023_Q4_H_13h",
          "2023_Q4_H_14h",
          "2023_Q4_H_15h",
          "2023_Q4_H_16h",
          "2023_Q4_H_17h",
          "2023_Q4_H_18h",
          "2023_Q4_H_19h",
          "2023_Q4_H_20h",
          "2023_Q4_H_21h",
          "2023_Q4_H_22h",
          "2023_Q4_H_23h"
         ],
         "xaxis": "x",
         "y": [
          null,
          null,
          null,
          null,
          null,
          null,
          null,
          null,
          177.48971232948657,
          134.13133609184945,
          131.50608847603834,
          133.4533435443244,
          125.54675796725037,
          104.91922730759948,
          71.2843241457765,
          26.754466774470288,
          -22.824847733090103,
          -73.89792039163274,
          -99.86455653607518,
          null,
          null,
          null,
          null,
          null,
          null,
          null,
          null,
          null,
          null,
          null,
          null,
          null,
          197.24811896700106,
          142.4306682635871,
          140.5622957575588,
          130.44597033262616,
          126.41087168630602,
          104.07546600609984,
          74.12261472960387,
          26.485154592233727,
          -24.323677731934513,
          -72.41673745092704,
          -99.86098011878582,
          null,
          null,
          null,
          null,
          null,
          null,
          null,
          null,
          null,
          null,
          null,
          null,
          null,
          168.89922584603264,
          124.95328730888482,
          110.82377129292765,
          103.41500559231771,
          89.40918862984005,
          68.81085506022086,
          39.39003766783556,
          5.3610085076621905,
          -27.75426174188722,
          -68.94845575726276,
          -99.13886655527433,
          null,
          null,
          null,
          null,
          null,
          null,
          null,
          null,
          null,
          null,
          null,
          null,
          null,
          194.74852747560246,
          153.18141251669198,
          123.58160979258001,
          108.30969096197242,
          97.95270160248548,
          74.31596607951887,
          40.57831317788381,
          5.956664123699973,
          -26.333777355470957,
          -67.90307974774234,
          -99.09317497997098,
          null,
          null,
          null,
          null,
          null,
          null,
          null,
          null,
          null,
          null,
          null,
          null,
          null,
          75.90658894320529,
          46.73661774161211,
          41.10903600202276,
          37.0349726183397,
          32.29726118040608,
          19.79349599190263,
          2.411015740773026,
          -20.35144155441926,
          -45.61773664821267,
          -75.4757440958183,
          -98.90644274745026,
          null,
          null,
          null,
          null,
          null,
          null,
          null,
          null,
          null,
          null,
          null,
          null,
          null,
          61.43067377650051,
          43.3115406194716,
          45.654564006876974,
          35.24984003143237,
          29.545269445411982,
          20.10722976987285,
          4.884355174904131,
          -17.791372705031982,
          -39.84942239119813,
          -70.98242668484578,
          -98.74602955961424,
          null,
          null,
          null,
          null,
          null,
          null,
          null,
          null,
          null,
          null,
          null,
          null,
          null,
          7.820224944676624,
          -4.729802353105061,
          -6.007321983872959,
          -4.8390051908762,
          -8.359036381946282,
          -17.307902038574962,
          -29.692081149095017,
          -44.44497255866373,
          -62.257155501579774,
          -81.42029422463796,
          -99.72848379953622,
          null,
          null,
          null,
          null,
          null,
          null,
          null,
          null,
          null,
          null,
          null,
          null,
          null,
          28.905715297590184,
          6.418736565594285,
          3.664400089028419,
          4.275520120553744,
          -0.0498995905391042,
          -9.598864751399194,
          -25.076428025769538,
          -39.491836882776255,
          -59.692748372343175,
          -78.73341785872915,
          -99.67249874285102,
          null,
          null,
          null,
          null,
          null
         ],
         "yaxis": "y"
        },
        {
         "hovertemplate": "Tech=Thermal<br>timestamp=%{x}<br>percentage_error (%)=%{y}<extra></extra>",
         "legendgroup": "Thermal",
         "line": {
          "color": "#00cc96",
          "dash": "solid"
         },
         "marker": {
          "symbol": "circle"
         },
         "mode": "lines",
         "name": "Thermal",
         "orientation": "v",
         "showlegend": true,
         "type": "scatter",
         "x": [
          "2023_Q1_L_0h",
          "2023_Q1_L_1h",
          "2023_Q1_L_2h",
          "2023_Q1_L_3h",
          "2023_Q1_L_4h",
          "2023_Q1_L_5h",
          "2023_Q1_L_6h",
          "2023_Q1_L_7h",
          "2023_Q1_L_8h",
          "2023_Q1_L_9h",
          "2023_Q1_L_10h",
          "2023_Q1_L_11h",
          "2023_Q1_L_12h",
          "2023_Q1_L_13h",
          "2023_Q1_L_14h",
          "2023_Q1_L_15h",
          "2023_Q1_L_16h",
          "2023_Q1_L_17h",
          "2023_Q1_L_18h",
          "2023_Q1_L_19h",
          "2023_Q1_L_20h",
          "2023_Q1_L_21h",
          "2023_Q1_L_22h",
          "2023_Q1_L_23h",
          "2023_Q1_H_0h",
          "2023_Q1_H_1h",
          "2023_Q1_H_2h",
          "2023_Q1_H_3h",
          "2023_Q1_H_4h",
          "2023_Q1_H_5h",
          "2023_Q1_H_6h",
          "2023_Q1_H_7h",
          "2023_Q1_H_8h",
          "2023_Q1_H_9h",
          "2023_Q1_H_10h",
          "2023_Q1_H_11h",
          "2023_Q1_H_12h",
          "2023_Q1_H_13h",
          "2023_Q1_H_14h",
          "2023_Q1_H_15h",
          "2023_Q1_H_16h",
          "2023_Q1_H_17h",
          "2023_Q1_H_18h",
          "2023_Q1_H_19h",
          "2023_Q1_H_20h",
          "2023_Q1_H_21h",
          "2023_Q1_H_22h",
          "2023_Q1_H_23h",
          "2023_Q2_L_0h",
          "2023_Q2_L_1h",
          "2023_Q2_L_2h",
          "2023_Q2_L_3h",
          "2023_Q2_L_4h",
          "2023_Q2_L_5h",
          "2023_Q2_L_6h",
          "2023_Q2_L_7h",
          "2023_Q2_L_8h",
          "2023_Q2_L_9h",
          "2023_Q2_L_10h",
          "2023_Q2_L_11h",
          "2023_Q2_L_12h",
          "2023_Q2_L_13h",
          "2023_Q2_L_14h",
          "2023_Q2_L_15h",
          "2023_Q2_L_16h",
          "2023_Q2_L_17h",
          "2023_Q2_L_18h",
          "2023_Q2_L_19h",
          "2023_Q2_L_20h",
          "2023_Q2_L_21h",
          "2023_Q2_L_22h",
          "2023_Q2_L_23h",
          "2023_Q2_H_0h",
          "2023_Q2_H_1h",
          "2023_Q2_H_2h",
          "2023_Q2_H_3h",
          "2023_Q2_H_4h",
          "2023_Q2_H_5h",
          "2023_Q2_H_6h",
          "2023_Q2_H_7h",
          "2023_Q2_H_8h",
          "2023_Q2_H_9h",
          "2023_Q2_H_10h",
          "2023_Q2_H_11h",
          "2023_Q2_H_12h",
          "2023_Q2_H_13h",
          "2023_Q2_H_14h",
          "2023_Q2_H_15h",
          "2023_Q2_H_16h",
          "2023_Q2_H_17h",
          "2023_Q2_H_18h",
          "2023_Q2_H_19h",
          "2023_Q2_H_20h",
          "2023_Q2_H_21h",
          "2023_Q2_H_22h",
          "2023_Q2_H_23h",
          "2023_Q3_L_0h",
          "2023_Q3_L_1h",
          "2023_Q3_L_2h",
          "2023_Q3_L_3h",
          "2023_Q3_L_4h",
          "2023_Q3_L_5h",
          "2023_Q3_L_6h",
          "2023_Q3_L_7h",
          "2023_Q3_L_8h",
          "2023_Q3_L_9h",
          "2023_Q3_L_10h",
          "2023_Q3_L_11h",
          "2023_Q3_L_12h",
          "2023_Q3_L_13h",
          "2023_Q3_L_14h",
          "2023_Q3_L_15h",
          "2023_Q3_L_16h",
          "2023_Q3_L_17h",
          "2023_Q3_L_18h",
          "2023_Q3_L_19h",
          "2023_Q3_L_20h",
          "2023_Q3_L_21h",
          "2023_Q3_L_22h",
          "2023_Q3_L_23h",
          "2023_Q3_H_0h",
          "2023_Q3_H_1h",
          "2023_Q3_H_2h",
          "2023_Q3_H_3h",
          "2023_Q3_H_4h",
          "2023_Q3_H_5h",
          "2023_Q3_H_6h",
          "2023_Q3_H_7h",
          "2023_Q3_H_8h",
          "2023_Q3_H_9h",
          "2023_Q3_H_10h",
          "2023_Q3_H_11h",
          "2023_Q3_H_12h",
          "2023_Q3_H_13h",
          "2023_Q3_H_14h",
          "2023_Q3_H_15h",
          "2023_Q3_H_16h",
          "2023_Q3_H_17h",
          "2023_Q3_H_18h",
          "2023_Q3_H_19h",
          "2023_Q3_H_20h",
          "2023_Q3_H_21h",
          "2023_Q3_H_22h",
          "2023_Q3_H_23h",
          "2023_Q4_L_0h",
          "2023_Q4_L_1h",
          "2023_Q4_L_2h",
          "2023_Q4_L_3h",
          "2023_Q4_L_4h",
          "2023_Q4_L_5h",
          "2023_Q4_L_6h",
          "2023_Q4_L_7h",
          "2023_Q4_L_8h",
          "2023_Q4_L_9h",
          "2023_Q4_L_10h",
          "2023_Q4_L_11h",
          "2023_Q4_L_12h",
          "2023_Q4_L_13h",
          "2023_Q4_L_14h",
          "2023_Q4_L_15h",
          "2023_Q4_L_16h",
          "2023_Q4_L_17h",
          "2023_Q4_L_18h",
          "2023_Q4_L_19h",
          "2023_Q4_L_20h",
          "2023_Q4_L_21h",
          "2023_Q4_L_22h",
          "2023_Q4_L_23h",
          "2023_Q4_H_0h",
          "2023_Q4_H_1h",
          "2023_Q4_H_2h",
          "2023_Q4_H_3h",
          "2023_Q4_H_4h",
          "2023_Q4_H_5h",
          "2023_Q4_H_6h",
          "2023_Q4_H_7h",
          "2023_Q4_H_8h",
          "2023_Q4_H_9h",
          "2023_Q4_H_10h",
          "2023_Q4_H_11h",
          "2023_Q4_H_12h",
          "2023_Q4_H_13h",
          "2023_Q4_H_14h",
          "2023_Q4_H_15h",
          "2023_Q4_H_16h",
          "2023_Q4_H_17h",
          "2023_Q4_H_18h",
          "2023_Q4_H_19h",
          "2023_Q4_H_20h",
          "2023_Q4_H_21h",
          "2023_Q4_H_22h",
          "2023_Q4_H_23h"
         ],
         "xaxis": "x",
         "y": [
          -6.6401812364832,
          -10.75124214395171,
          -13.292558013902733,
          -11.264559873376934,
          -9.413989961643265,
          -8.033540485682245,
          -7.314091056082084,
          -9.71804229168245,
          -6.760800322956461,
          -2.690043639349793,
          -1.6080180732417015,
          0.8859405511599583,
          3.5327225709765875,
          2.9058979891796843,
          5.709149462179752,
          10.520934832325391,
          13.377389251092332,
          13.537075118370856,
          10.755612162346928,
          16.7940618493297,
          16.460933185684958,
          13.125855323021952,
          7.9444052405425625,
          -0.3785903674956348,
          -22.86220462578401,
          -27.264702442791023,
          -31.585468409812123,
          -32.55140708960562,
          -34.07393490248054,
          -33.564002971742426,
          -35.20648717135987,
          -40.88545520078404,
          -42.213297441409416,
          -38.79614428092142,
          -36.6227788843505,
          -34.17158783537552,
          -30.027386093922715,
          -27.329282833396896,
          -24.45011612258947,
          -23.054687655599317,
          -20.713719115661878,
          -19.558767084313146,
          -18.843324247398495,
          -9.568480341499964,
          -7.144292559573106,
          -8.065797639580197,
          -9.395706373784718,
          -15.890903429737502,
          -2.7059902216427734,
          -4.946823669535494,
          -4.560608495552998,
          -0.3334908939233938,
          1.5858166984310529,
          2.355815509308745,
          5.612790226276321,
          5.16361669865264,
          10.413551337356552,
          13.359601856952331,
          15.061789344165577,
          17.590948721433207,
          20.29279479878634,
          18.781715012517598,
          19.552717582300083,
          21.56698620155535,
          23.93925861105877,
          25.249607246148553,
          21.56405256364209,
          26.58128299431468,
          25.044225722895153,
          21.445684206582527,
          15.079327329502457,
          3.7953669304805704,
          -19.795250579954338,
          -19.9090252579465,
          -24.17861113711509,
          -27.055244801860724,
          -27.712974078423247,
          -27.332125095124315,
          -29.47861918224264,
          -35.78269856016645,
          -34.3512731258319,
          -29.97964425361075,
          -24.18067593601342,
          -19.504889001580892,
          -14.569624521850377,
          -10.751066126195797,
          -8.077407617655341,
          -9.62561816669557,
          -8.234441665455805,
          -6.887220466658928,
          -6.642157667235271,
          0.12454541338393632,
          -0.11908539895166825,
          -2.5526718389929037,
          -3.9374940577507567,
          -11.413588901882953,
          -20.597047442793194,
          -13.177048739946562,
          -7.424048599229738,
          -3.4731968819422088,
          -1.2244067808911852,
          -1.207024445867655,
          -2.6777748951183122,
          -3.5944978034864072,
          -6.018371056474359,
          -9.898928118313455,
          -12.347615052280837,
          -14.709872873608443,
          -17.085728442354586,
          -18.4630522241224,
          -18.36455067070366,
          -15.891752256273072,
          -14.614755475668218,
          -14.682489207770121,
          -18.119984814421073,
          -14.566315697266885,
          -11.618169110754273,
          -14.640593289821947,
          -19.747329017013037,
          -23.076735191739704,
          -51.89454500491188,
          -51.17372376450845,
          -49.43854574904163,
          -46.25736614779725,
          -43.483913460724935,
          -41.997564256889895,
          -43.04481078721225,
          -48.15599809941222,
          -46.253691525723205,
          -44.23740072426404,
          -44.18176432672133,
          -45.77523982987475,
          -46.25484189139028,
          -46.636038043370235,
          -47.107713069613844,
          -47.151373272719674,
          -47.71975134323896,
          -47.16165791191613,
          -48.0782799558232,
          -42.193984808694516,
          -37.282777440336346,
          -38.46421181510931,
          -41.174489732939016,
          -47.19437864166518,
          -34.202290663135116,
          -34.408358852518695,
          -32.89346535652214,
          -31.801048755000615,
          -31.811277555763272,
          -32.10597601480758,
          -32.45590432062424,
          -32.905637096838724,
          -32.91418548542896,
          -31.071224230242432,
          -30.46465833032139,
          -28.613782740726844,
          -27.16649684641427,
          -27.579933884374586,
          -26.911685925119233,
          -26.593116401737838,
          -26.89223887075548,
          -27.200724631753893,
          -28.05225705757558,
          -27.964719523811176,
          -28.23716201236929,
          -28.366125372894235,
          -28.383386802942844,
          -30.809996990655474,
          -42.999846179544264,
          -43.80733736088531,
          -43.14725618667956,
          -42.443220904758206,
          -43.16501609343535,
          -42.68159813428959,
          -41.90231600289375,
          -42.01785386973624,
          -42.00682027287542,
          -41.622519773768815,
          -41.43101191846631,
          -42.29192919148437,
          -42.37347753827934,
          -42.24032676701426,
          -42.54673595029279,
          -43.249768875507854,
          -43.53088097544542,
          -43.31926731379869,
          -44.00633495864845,
          -43.53382943740096,
          -41.27799425387777,
          -41.58465946173474,
          -42.05496718129591,
          -42.58860447849134
         ],
         "yaxis": "y"
        },
        {
         "hovertemplate": "Tech=Eolica<br>timestamp=%{x}<br>percentage_error (%)=%{y}<extra></extra>",
         "legendgroup": "Eolica",
         "line": {
          "color": "#ab63fa",
          "dash": "solid"
         },
         "marker": {
          "symbol": "circle"
         },
         "mode": "lines",
         "name": "Eolica",
         "orientation": "v",
         "showlegend": true,
         "type": "scatter",
         "x": [
          "2023_Q1_L_0h",
          "2023_Q1_L_1h",
          "2023_Q1_L_2h",
          "2023_Q1_L_3h",
          "2023_Q1_L_4h",
          "2023_Q1_L_5h",
          "2023_Q1_L_6h",
          "2023_Q1_L_7h",
          "2023_Q1_L_8h",
          "2023_Q1_L_9h",
          "2023_Q1_L_10h",
          "2023_Q1_L_11h",
          "2023_Q1_L_12h",
          "2023_Q1_L_13h",
          "2023_Q1_L_14h",
          "2023_Q1_L_15h",
          "2023_Q1_L_16h",
          "2023_Q1_L_17h",
          "2023_Q1_L_18h",
          "2023_Q1_L_19h",
          "2023_Q1_L_20h",
          "2023_Q1_L_21h",
          "2023_Q1_L_22h",
          "2023_Q1_L_23h",
          "2023_Q1_H_0h",
          "2023_Q1_H_1h",
          "2023_Q1_H_2h",
          "2023_Q1_H_3h",
          "2023_Q1_H_4h",
          "2023_Q1_H_5h",
          "2023_Q1_H_6h",
          "2023_Q1_H_7h",
          "2023_Q1_H_8h",
          "2023_Q1_H_9h",
          "2023_Q1_H_10h",
          "2023_Q1_H_11h",
          "2023_Q1_H_12h",
          "2023_Q1_H_13h",
          "2023_Q1_H_14h",
          "2023_Q1_H_15h",
          "2023_Q1_H_16h",
          "2023_Q1_H_17h",
          "2023_Q1_H_18h",
          "2023_Q1_H_19h",
          "2023_Q1_H_20h",
          "2023_Q1_H_21h",
          "2023_Q1_H_22h",
          "2023_Q1_H_23h",
          "2023_Q2_L_0h",
          "2023_Q2_L_1h",
          "2023_Q2_L_2h",
          "2023_Q2_L_3h",
          "2023_Q2_L_4h",
          "2023_Q2_L_5h",
          "2023_Q2_L_6h",
          "2023_Q2_L_7h",
          "2023_Q2_L_8h",
          "2023_Q2_L_9h",
          "2023_Q2_L_10h",
          "2023_Q2_L_11h",
          "2023_Q2_L_12h",
          "2023_Q2_L_13h",
          "2023_Q2_L_14h",
          "2023_Q2_L_15h",
          "2023_Q2_L_16h",
          "2023_Q2_L_17h",
          "2023_Q2_L_18h",
          "2023_Q2_L_19h",
          "2023_Q2_L_20h",
          "2023_Q2_L_21h",
          "2023_Q2_L_22h",
          "2023_Q2_L_23h",
          "2023_Q2_H_0h",
          "2023_Q2_H_1h",
          "2023_Q2_H_2h",
          "2023_Q2_H_3h",
          "2023_Q2_H_4h",
          "2023_Q2_H_5h",
          "2023_Q2_H_6h",
          "2023_Q2_H_7h",
          "2023_Q2_H_8h",
          "2023_Q2_H_9h",
          "2023_Q2_H_10h",
          "2023_Q2_H_11h",
          "2023_Q2_H_12h",
          "2023_Q2_H_13h",
          "2023_Q2_H_14h",
          "2023_Q2_H_15h",
          "2023_Q2_H_16h",
          "2023_Q2_H_17h",
          "2023_Q2_H_18h",
          "2023_Q2_H_19h",
          "2023_Q2_H_20h",
          "2023_Q2_H_21h",
          "2023_Q2_H_22h",
          "2023_Q2_H_23h",
          "2023_Q3_L_0h",
          "2023_Q3_L_1h",
          "2023_Q3_L_2h",
          "2023_Q3_L_3h",
          "2023_Q3_L_4h",
          "2023_Q3_L_5h",
          "2023_Q3_L_6h",
          "2023_Q3_L_7h",
          "2023_Q3_L_8h",
          "2023_Q3_L_9h",
          "2023_Q3_L_10h",
          "2023_Q3_L_11h",
          "2023_Q3_L_12h",
          "2023_Q3_L_13h",
          "2023_Q3_L_14h",
          "2023_Q3_L_15h",
          "2023_Q3_L_16h",
          "2023_Q3_L_17h",
          "2023_Q3_L_18h",
          "2023_Q3_L_19h",
          "2023_Q3_L_20h",
          "2023_Q3_L_21h",
          "2023_Q3_L_22h",
          "2023_Q3_L_23h",
          "2023_Q3_H_0h",
          "2023_Q3_H_1h",
          "2023_Q3_H_2h",
          "2023_Q3_H_3h",
          "2023_Q3_H_4h",
          "2023_Q3_H_5h",
          "2023_Q3_H_6h",
          "2023_Q3_H_7h",
          "2023_Q3_H_8h",
          "2023_Q3_H_9h",
          "2023_Q3_H_10h",
          "2023_Q3_H_11h",
          "2023_Q3_H_12h",
          "2023_Q3_H_13h",
          "2023_Q3_H_14h",
          "2023_Q3_H_15h",
          "2023_Q3_H_16h",
          "2023_Q3_H_17h",
          "2023_Q3_H_18h",
          "2023_Q3_H_19h",
          "2023_Q3_H_20h",
          "2023_Q3_H_21h",
          "2023_Q3_H_22h",
          "2023_Q3_H_23h",
          "2023_Q4_L_0h",
          "2023_Q4_L_1h",
          "2023_Q4_L_2h",
          "2023_Q4_L_3h",
          "2023_Q4_L_4h",
          "2023_Q4_L_5h",
          "2023_Q4_L_6h",
          "2023_Q4_L_7h",
          "2023_Q4_L_8h",
          "2023_Q4_L_9h",
          "2023_Q4_L_10h",
          "2023_Q4_L_11h",
          "2023_Q4_L_12h",
          "2023_Q4_L_13h",
          "2023_Q4_L_14h",
          "2023_Q4_L_15h",
          "2023_Q4_L_16h",
          "2023_Q4_L_17h",
          "2023_Q4_L_18h",
          "2023_Q4_L_19h",
          "2023_Q4_L_20h",
          "2023_Q4_L_21h",
          "2023_Q4_L_22h",
          "2023_Q4_L_23h",
          "2023_Q4_H_0h",
          "2023_Q4_H_1h",
          "2023_Q4_H_2h",
          "2023_Q4_H_3h",
          "2023_Q4_H_4h",
          "2023_Q4_H_5h",
          "2023_Q4_H_6h",
          "2023_Q4_H_7h",
          "2023_Q4_H_8h",
          "2023_Q4_H_9h",
          "2023_Q4_H_10h",
          "2023_Q4_H_11h",
          "2023_Q4_H_12h",
          "2023_Q4_H_13h",
          "2023_Q4_H_14h",
          "2023_Q4_H_15h",
          "2023_Q4_H_16h",
          "2023_Q4_H_17h",
          "2023_Q4_H_18h",
          "2023_Q4_H_19h",
          "2023_Q4_H_20h",
          "2023_Q4_H_21h",
          "2023_Q4_H_22h",
          "2023_Q4_H_23h"
         ],
         "xaxis": "x",
         "y": [
          22.435706138223587,
          29.66867734988796,
          32.67742775818823,
          37.02882204128271,
          49.75327336411197,
          58.26842842057407,
          60.93452087534672,
          65.85251693004585,
          69.75315146545869,
          49.1295685567134,
          33.586577747410296,
          23.152791875428647,
          15.2251613000683,
          8.871348262165668,
          3.477600020706606,
          3.8467450783453483,
          5.07731470927435,
          8.367650503514646,
          10.991627102498747,
          13.072499969200436,
          17.636014587716797,
          21.777610510141756,
          22.489134842183176,
          21.544527732263894,
          36.72021830404471,
          36.330494461520566,
          46.75400309489519,
          50.67928125881813,
          49.19697131237444,
          52.65788688398565,
          64.06679092326331,
          88.54496410159614,
          91.56611193767763,
          47.425404248806544,
          40.754623191045326,
          33.918205823783865,
          19.681877499351486,
          8.198994748859656,
          8.461048901443057,
          8.277055462964288,
          12.218140063893479,
          13.947560022611661,
          14.992734792035268,
          16.85852639416252,
          24.756808201318936,
          24.06438365207095,
          21.82513768391725,
          24.145329343177856,
          19.910784402253846,
          24.00260096008544,
          26.82508482140433,
          33.51303329062161,
          39.31995418535339,
          45.84589134348449,
          47.75522708775792,
          55.33655140760434,
          50.18951243166825,
          46.533894349453455,
          45.671986067064594,
          29.548517714528533,
          7.669794160115018,
          -5.149933507454052,
          -10.500908832180011,
          -10.72995263841917,
          -9.211390061048197,
          -6.865415152713405,
          -3.898865963643894,
          1.1101550692423245,
          4.836953152443768,
          9.627779837628282,
          13.059272368377005,
          16.031798617563673,
          32.15673827401546,
          23.2136513544539,
          33.30547898621459,
          43.3644191378044,
          38.540201658633165,
          66.66870547243566,
          81.11185368765432,
          82.55575979788834,
          101.00603083612168,
          120.23118408137172,
          99.51190147882956,
          90.67387216934073,
          32.1308154116152,
          17.06083832836334,
          6.16236123104601,
          3.2904660838165567,
          3.1792953360937126,
          0.1789021211747288,
          12.044597238501197,
          15.725016978989249,
          15.784309318565025,
          18.9335978999444,
          17.989215172168514,
          24.81440868188396,
          23.8580781240032,
          28.334471391646154,
          36.38389379579934,
          44.17635458575351,
          48.47348578165027,
          60.23936325707162,
          64.8682838999862,
          63.91444464411897,
          45.44057292467434,
          33.71670004170071,
          30.085519421339455,
          25.46035022840927,
          8.631116071550316,
          0.23983044031454792,
          -2.3319943679241284,
          -3.5390326766451263,
          -5.041881159153583,
          -1.7104864830963074,
          3.4193439063151976,
          5.779215287894002,
          11.529690650248536,
          18.21670824913697,
          20.053200887473754,
          23.022175175707147,
          33.849188067197744,
          18.550240093976498,
          33.97005022778845,
          45.599667378396205,
          34.02919315053208,
          30.8222461497871,
          41.91411817592314,
          45.667656321976956,
          27.339139858913764,
          34.1358124732791,
          38.2165441191819,
          32.461073181362174,
          23.916558384676122,
          6.7328238949512675,
          -4.977164063028616,
          -6.409971637412748,
          -4.538869481355279,
          1.6271146317012652,
          4.3838048089974935,
          12.110822701448388,
          19.13644435220081,
          22.591319674032896,
          23.99500585397274,
          28.579990265082778,
          72.48154439171009,
          107.18430471908538,
          121.04307170558282,
          120.27129765235314,
          118.91452990358053,
          124.60349116543168,
          145.9386171095114,
          146.20934294359054,
          121.95489898408245,
          117.54760576623133,
          102.3443565246088,
          66.21553529578912,
          23.239057697854303,
          -1.4996777296669261,
          -11.971739281975037,
          -9.52845010157689,
          -1.4101981586939205,
          7.550668717253828,
          12.661465687231633,
          21.262556049003244,
          32.278995633409146,
          44.53689829553766,
          60.671395818163454,
          69.3729091073418,
          125.6123990730495,
          114.14483639873305,
          159.60887885861382,
          173.96347036525438,
          172.16508564194086,
          169.73335263650551,
          202.64753996147275,
          212.97757366701805,
          184.08359686648365,
          182.93081951220108,
          100.6298280283937,
          68.18432565585368,
          47.46483157261496,
          14.405901415480127,
          4.5458203109814965,
          0.30964467148293373,
          3.2539277714489057,
          16.938261010051647,
          35.30895404626764,
          51.46777193964027,
          69.52534162459033,
          75.80413318255745,
          97.0990771717705,
          118.6092397596009
         ],
         "yaxis": "y"
        },
        {
         "hovertemplate": "Tech=Hidro<br>timestamp=%{x}<br>percentage_error (%)=%{y}<extra></extra>",
         "legendgroup": "Hidro",
         "line": {
          "color": "#FFA15A",
          "dash": "solid"
         },
         "marker": {
          "symbol": "circle"
         },
         "mode": "lines",
         "name": "Hidro",
         "orientation": "v",
         "showlegend": true,
         "type": "scatter",
         "x": [
          "2023_Q1_L_0h",
          "2023_Q1_L_1h",
          "2023_Q1_L_2h",
          "2023_Q1_L_3h",
          "2023_Q1_L_4h",
          "2023_Q1_L_5h",
          "2023_Q1_L_6h",
          "2023_Q1_L_7h",
          "2023_Q1_L_8h",
          "2023_Q1_L_9h",
          "2023_Q1_L_10h",
          "2023_Q1_L_11h",
          "2023_Q1_L_12h",
          "2023_Q1_L_13h",
          "2023_Q1_L_14h",
          "2023_Q1_L_15h",
          "2023_Q1_L_16h",
          "2023_Q1_L_17h",
          "2023_Q1_L_18h",
          "2023_Q1_L_19h",
          "2023_Q1_L_20h",
          "2023_Q1_L_21h",
          "2023_Q1_L_22h",
          "2023_Q1_L_23h",
          "2023_Q1_H_0h",
          "2023_Q1_H_1h",
          "2023_Q1_H_2h",
          "2023_Q1_H_3h",
          "2023_Q1_H_4h",
          "2023_Q1_H_5h",
          "2023_Q1_H_6h",
          "2023_Q1_H_7h",
          "2023_Q1_H_8h",
          "2023_Q1_H_9h",
          "2023_Q1_H_10h",
          "2023_Q1_H_11h",
          "2023_Q1_H_12h",
          "2023_Q1_H_13h",
          "2023_Q1_H_14h",
          "2023_Q1_H_15h",
          "2023_Q1_H_16h",
          "2023_Q1_H_17h",
          "2023_Q1_H_18h",
          "2023_Q1_H_19h",
          "2023_Q1_H_20h",
          "2023_Q1_H_21h",
          "2023_Q1_H_22h",
          "2023_Q1_H_23h",
          "2023_Q2_L_0h",
          "2023_Q2_L_1h",
          "2023_Q2_L_2h",
          "2023_Q2_L_3h",
          "2023_Q2_L_4h",
          "2023_Q2_L_5h",
          "2023_Q2_L_6h",
          "2023_Q2_L_7h",
          "2023_Q2_L_8h",
          "2023_Q2_L_9h",
          "2023_Q2_L_10h",
          "2023_Q2_L_11h",
          "2023_Q2_L_12h",
          "2023_Q2_L_13h",
          "2023_Q2_L_14h",
          "2023_Q2_L_15h",
          "2023_Q2_L_16h",
          "2023_Q2_L_17h",
          "2023_Q2_L_18h",
          "2023_Q2_L_19h",
          "2023_Q2_L_20h",
          "2023_Q2_L_21h",
          "2023_Q2_L_22h",
          "2023_Q2_L_23h",
          "2023_Q2_H_0h",
          "2023_Q2_H_1h",
          "2023_Q2_H_2h",
          "2023_Q2_H_3h",
          "2023_Q2_H_4h",
          "2023_Q2_H_5h",
          "2023_Q2_H_6h",
          "2023_Q2_H_7h",
          "2023_Q2_H_8h",
          "2023_Q2_H_9h",
          "2023_Q2_H_10h",
          "2023_Q2_H_11h",
          "2023_Q2_H_12h",
          "2023_Q2_H_13h",
          "2023_Q2_H_14h",
          "2023_Q2_H_15h",
          "2023_Q2_H_16h",
          "2023_Q2_H_17h",
          "2023_Q2_H_18h",
          "2023_Q2_H_19h",
          "2023_Q2_H_20h",
          "2023_Q2_H_21h",
          "2023_Q2_H_22h",
          "2023_Q2_H_23h",
          "2023_Q3_L_0h",
          "2023_Q3_L_1h",
          "2023_Q3_L_2h",
          "2023_Q3_L_3h",
          "2023_Q3_L_4h",
          "2023_Q3_L_5h",
          "2023_Q3_L_6h",
          "2023_Q3_L_7h",
          "2023_Q3_L_8h",
          "2023_Q3_L_9h",
          "2023_Q3_L_10h",
          "2023_Q3_L_11h",
          "2023_Q3_L_12h",
          "2023_Q3_L_13h",
          "2023_Q3_L_14h",
          "2023_Q3_L_15h",
          "2023_Q3_L_16h",
          "2023_Q3_L_17h",
          "2023_Q3_L_18h",
          "2023_Q3_L_19h",
          "2023_Q3_L_20h",
          "2023_Q3_L_21h",
          "2023_Q3_L_22h",
          "2023_Q3_L_23h",
          "2023_Q3_H_0h",
          "2023_Q3_H_1h",
          "2023_Q3_H_2h",
          "2023_Q3_H_3h",
          "2023_Q3_H_4h",
          "2023_Q3_H_5h",
          "2023_Q3_H_6h",
          "2023_Q3_H_7h",
          "2023_Q3_H_8h",
          "2023_Q3_H_9h",
          "2023_Q3_H_10h",
          "2023_Q3_H_11h",
          "2023_Q3_H_12h",
          "2023_Q3_H_13h",
          "2023_Q3_H_14h",
          "2023_Q3_H_15h",
          "2023_Q3_H_16h",
          "2023_Q3_H_17h",
          "2023_Q3_H_18h",
          "2023_Q3_H_19h",
          "2023_Q3_H_20h",
          "2023_Q3_H_21h",
          "2023_Q3_H_22h",
          "2023_Q3_H_23h",
          "2023_Q4_L_0h",
          "2023_Q4_L_1h",
          "2023_Q4_L_2h",
          "2023_Q4_L_3h",
          "2023_Q4_L_4h",
          "2023_Q4_L_5h",
          "2023_Q4_L_6h",
          "2023_Q4_L_7h",
          "2023_Q4_L_8h",
          "2023_Q4_L_9h",
          "2023_Q4_L_10h",
          "2023_Q4_L_11h",
          "2023_Q4_L_12h",
          "2023_Q4_L_13h",
          "2023_Q4_L_14h",
          "2023_Q4_L_15h",
          "2023_Q4_L_16h",
          "2023_Q4_L_17h",
          "2023_Q4_L_18h",
          "2023_Q4_L_19h",
          "2023_Q4_L_20h",
          "2023_Q4_L_21h",
          "2023_Q4_L_22h",
          "2023_Q4_L_23h",
          "2023_Q4_H_0h",
          "2023_Q4_H_1h",
          "2023_Q4_H_2h",
          "2023_Q4_H_3h",
          "2023_Q4_H_4h",
          "2023_Q4_H_5h",
          "2023_Q4_H_6h",
          "2023_Q4_H_7h",
          "2023_Q4_H_8h",
          "2023_Q4_H_9h",
          "2023_Q4_H_10h",
          "2023_Q4_H_11h",
          "2023_Q4_H_12h",
          "2023_Q4_H_13h",
          "2023_Q4_H_14h",
          "2023_Q4_H_15h",
          "2023_Q4_H_16h",
          "2023_Q4_H_17h",
          "2023_Q4_H_18h",
          "2023_Q4_H_19h",
          "2023_Q4_H_20h",
          "2023_Q4_H_21h",
          "2023_Q4_H_22h",
          "2023_Q4_H_23h"
         ],
         "xaxis": "x",
         "y": [
          1.084454460929929,
          1.9436180918337653,
          2.534351300903692,
          2.117609740317805,
          1.8285479540808058,
          1.6055275134529756,
          0.6644626413488508,
          -0.2727244060928613,
          -1.468818067382771,
          -2.9491361283931816,
          -3.828213552694093,
          -4.615520159273522,
          -4.992133307568292,
          -4.226134552434746,
          -3.566765533433036,
          -3.009082132444063,
          -2.2629316513360975,
          -1.7191065031692432,
          -1.895197419603456,
          -3.3901889681883457,
          -3.498789374651612,
          -2.949912470130378,
          -2.1109464219356777,
          -0.3520883505102379,
          4.360422932740282,
          5.705699367171069,
          6.862422551193315,
          6.893506702550645,
          7.208401748328175,
          6.80631581508897,
          6.081597039032216,
          5.279068619167648,
          4.89101931956204,
          3.4252576334845575,
          2.1457452465660998,
          1.6734252056910481,
          0.9209303944439862,
          1.4167458840037117,
          2.2372077296925585,
          3.9723099571872256,
          5.224584476686256,
          5.562618428337651,
          4.440989126125805,
          1.8213502739264031,
          0.9661871702969504,
          1.084826481296175,
          1.3033786469234254,
          2.6513680307769905,
          1.2082538835058498,
          1.9180249640400548,
          1.840528609313652,
          0.9853186062009467,
          0.7653839288798592,
          0.8654246720439351,
          -0.5716533979345351,
          -1.6210933694235874,
          -3.1449784589056784,
          -4.637665309126337,
          -5.640131693381967,
          -6.307943228387103,
          -6.518407847094099,
          -5.629931369714902,
          -4.778965601542529,
          -3.992287778099146,
          -3.5113558402323664,
          -3.2452515073491894,
          -3.373209517742004,
          -5.041879217262057,
          -4.916235965732607,
          -4.314563261885995,
          -2.9181666901767156,
          -0.3443949852712125,
          5.36509865880912,
          4.999692965405655,
          5.945951268618299,
          7.0912824888213155,
          7.10624394286139,
          6.77555318548515,
          5.873592509824688,
          5.531654301613531,
          4.0323906951494015,
          1.734938067373748,
          0.3208596441581557,
          -0.4761417487852637,
          -0.6116113353079156,
          -0.2565037324823827,
          0.7688574036335494,
          2.4306463221847263,
          3.137205933304399,
          3.4356859376041493,
          2.6041103324448756,
          -0.11246399962203668,
          -0.16182268862503513,
          0.44232285236482927,
          1.4200413362165376,
          3.333366818959882,
          9.988191604438889,
          8.100060103031993,
          6.4303775141839825,
          5.356966101445715,
          4.830416391542691,
          4.826316959859356,
          4.389897789899377,
          3.5933600113817743,
          3.6004609086336625,
          3.5744741829545346,
          3.452327416540535,
          3.5622273958366035,
          4.26692518136742,
          5.603087760654701,
          6.4332345873134855,
          6.6188406581920045,
          7.102353580894927,
          7.603996893796272,
          8.09769967695091,
          5.07620244321807,
          3.9976559670806378,
          5.025637692971374,
          7.5285794216517266,
          9.644358967879874,
          21.896315938346934,
          20.70282601618072,
          20.723297722771417,
          18.919544829881694,
          17.9374690002986,
          17.54673304361387,
          16.52342737640067,
          17.173107208796434,
          15.041328197132419,
          13.80094142239594,
          13.352566954983125,
          13.768887200827407,
          13.687408497586828,
          14.417186254201141,
          15.953915186188027,
          17.93157416534119,
          18.863189410354984,
          19.185559025367983,
          19.444218060213082,
          15.257524192057105,
          13.080305287628757,
          13.674703584450665,
          15.33851835370259,
          19.028261688307047,
          19.509716858798143,
          20.291386100614005,
          19.953351993189216,
          19.655371194022898,
          20.057536124969566,
          19.89552193141264,
          18.49175600447799,
          17.81059284890436,
          17.89623929662301,
          16.900766462035843,
          16.565607664202275,
          15.110657223567237,
          14.351031765077238,
          15.488602784187066,
          15.814295016482793,
          16.11845077860339,
          16.527079422097234,
          15.769270301996997,
          14.529036629035685,
          13.499574221746036,
          13.637736918200849,
          14.022198762024018,
          14.580406193992612,
          16.68601928490334,
          24.489565473744833,
          25.626729059681796,
          25.591294862454728,
          25.780141041682512,
          27.485175970790298,
          27.505302611367057,
          26.155979388821393,
          25.95251050634637,
          25.871423130419725,
          25.254565945829555,
          24.313931977812175,
          24.204512192551284,
          23.849652453446858,
          24.394852825802094,
          26.23350755496432,
          28.004005564544254,
          29.001192725966753,
          26.89250117897761,
          24.956841542119367,
          21.409116368670446,
          19.321575726617922,
          19.450913903646526,
          20.446082936847844,
          22.435203320969155
         ],
         "yaxis": "y"
        }
       ],
       "layout": {
        "legend": {
         "title": {
          "text": "Tech"
         },
         "tracegroupgap": 0
        },
        "margin": {
         "t": 60
        },
        "plot_bgcolor": "white",
        "template": {
         "data": {
          "bar": [
           {
            "error_x": {
             "color": "#2a3f5f"
            },
            "error_y": {
             "color": "#2a3f5f"
            },
            "marker": {
             "line": {
              "color": "#E5ECF6",
              "width": 0.5
             },
             "pattern": {
              "fillmode": "overlay",
              "size": 10,
              "solidity": 0.2
             }
            },
            "type": "bar"
           }
          ],
          "barpolar": [
           {
            "marker": {
             "line": {
              "color": "#E5ECF6",
              "width": 0.5
             },
             "pattern": {
              "fillmode": "overlay",
              "size": 10,
              "solidity": 0.2
             }
            },
            "type": "barpolar"
           }
          ],
          "carpet": [
           {
            "aaxis": {
             "endlinecolor": "#2a3f5f",
             "gridcolor": "white",
             "linecolor": "white",
             "minorgridcolor": "white",
             "startlinecolor": "#2a3f5f"
            },
            "baxis": {
             "endlinecolor": "#2a3f5f",
             "gridcolor": "white",
             "linecolor": "white",
             "minorgridcolor": "white",
             "startlinecolor": "#2a3f5f"
            },
            "type": "carpet"
           }
          ],
          "choropleth": [
           {
            "colorbar": {
             "outlinewidth": 0,
             "ticks": ""
            },
            "type": "choropleth"
           }
          ],
          "contour": [
           {
            "colorbar": {
             "outlinewidth": 0,
             "ticks": ""
            },
            "colorscale": [
             [
              0,
              "#0d0887"
             ],
             [
              0.1111111111111111,
              "#46039f"
             ],
             [
              0.2222222222222222,
              "#7201a8"
             ],
             [
              0.3333333333333333,
              "#9c179e"
             ],
             [
              0.4444444444444444,
              "#bd3786"
             ],
             [
              0.5555555555555556,
              "#d8576b"
             ],
             [
              0.6666666666666666,
              "#ed7953"
             ],
             [
              0.7777777777777778,
              "#fb9f3a"
             ],
             [
              0.8888888888888888,
              "#fdca26"
             ],
             [
              1,
              "#f0f921"
             ]
            ],
            "type": "contour"
           }
          ],
          "contourcarpet": [
           {
            "colorbar": {
             "outlinewidth": 0,
             "ticks": ""
            },
            "type": "contourcarpet"
           }
          ],
          "heatmap": [
           {
            "colorbar": {
             "outlinewidth": 0,
             "ticks": ""
            },
            "colorscale": [
             [
              0,
              "#0d0887"
             ],
             [
              0.1111111111111111,
              "#46039f"
             ],
             [
              0.2222222222222222,
              "#7201a8"
             ],
             [
              0.3333333333333333,
              "#9c179e"
             ],
             [
              0.4444444444444444,
              "#bd3786"
             ],
             [
              0.5555555555555556,
              "#d8576b"
             ],
             [
              0.6666666666666666,
              "#ed7953"
             ],
             [
              0.7777777777777778,
              "#fb9f3a"
             ],
             [
              0.8888888888888888,
              "#fdca26"
             ],
             [
              1,
              "#f0f921"
             ]
            ],
            "type": "heatmap"
           }
          ],
          "heatmapgl": [
           {
            "colorbar": {
             "outlinewidth": 0,
             "ticks": ""
            },
            "colorscale": [
             [
              0,
              "#0d0887"
             ],
             [
              0.1111111111111111,
              "#46039f"
             ],
             [
              0.2222222222222222,
              "#7201a8"
             ],
             [
              0.3333333333333333,
              "#9c179e"
             ],
             [
              0.4444444444444444,
              "#bd3786"
             ],
             [
              0.5555555555555556,
              "#d8576b"
             ],
             [
              0.6666666666666666,
              "#ed7953"
             ],
             [
              0.7777777777777778,
              "#fb9f3a"
             ],
             [
              0.8888888888888888,
              "#fdca26"
             ],
             [
              1,
              "#f0f921"
             ]
            ],
            "type": "heatmapgl"
           }
          ],
          "histogram": [
           {
            "marker": {
             "pattern": {
              "fillmode": "overlay",
              "size": 10,
              "solidity": 0.2
             }
            },
            "type": "histogram"
           }
          ],
          "histogram2d": [
           {
            "colorbar": {
             "outlinewidth": 0,
             "ticks": ""
            },
            "colorscale": [
             [
              0,
              "#0d0887"
             ],
             [
              0.1111111111111111,
              "#46039f"
             ],
             [
              0.2222222222222222,
              "#7201a8"
             ],
             [
              0.3333333333333333,
              "#9c179e"
             ],
             [
              0.4444444444444444,
              "#bd3786"
             ],
             [
              0.5555555555555556,
              "#d8576b"
             ],
             [
              0.6666666666666666,
              "#ed7953"
             ],
             [
              0.7777777777777778,
              "#fb9f3a"
             ],
             [
              0.8888888888888888,
              "#fdca26"
             ],
             [
              1,
              "#f0f921"
             ]
            ],
            "type": "histogram2d"
           }
          ],
          "histogram2dcontour": [
           {
            "colorbar": {
             "outlinewidth": 0,
             "ticks": ""
            },
            "colorscale": [
             [
              0,
              "#0d0887"
             ],
             [
              0.1111111111111111,
              "#46039f"
             ],
             [
              0.2222222222222222,
              "#7201a8"
             ],
             [
              0.3333333333333333,
              "#9c179e"
             ],
             [
              0.4444444444444444,
              "#bd3786"
             ],
             [
              0.5555555555555556,
              "#d8576b"
             ],
             [
              0.6666666666666666,
              "#ed7953"
             ],
             [
              0.7777777777777778,
              "#fb9f3a"
             ],
             [
              0.8888888888888888,
              "#fdca26"
             ],
             [
              1,
              "#f0f921"
             ]
            ],
            "type": "histogram2dcontour"
           }
          ],
          "mesh3d": [
           {
            "colorbar": {
             "outlinewidth": 0,
             "ticks": ""
            },
            "type": "mesh3d"
           }
          ],
          "parcoords": [
           {
            "line": {
             "colorbar": {
              "outlinewidth": 0,
              "ticks": ""
             }
            },
            "type": "parcoords"
           }
          ],
          "pie": [
           {
            "automargin": true,
            "type": "pie"
           }
          ],
          "scatter": [
           {
            "fillpattern": {
             "fillmode": "overlay",
             "size": 10,
             "solidity": 0.2
            },
            "type": "scatter"
           }
          ],
          "scatter3d": [
           {
            "line": {
             "colorbar": {
              "outlinewidth": 0,
              "ticks": ""
             }
            },
            "marker": {
             "colorbar": {
              "outlinewidth": 0,
              "ticks": ""
             }
            },
            "type": "scatter3d"
           }
          ],
          "scattercarpet": [
           {
            "marker": {
             "colorbar": {
              "outlinewidth": 0,
              "ticks": ""
             }
            },
            "type": "scattercarpet"
           }
          ],
          "scattergeo": [
           {
            "marker": {
             "colorbar": {
              "outlinewidth": 0,
              "ticks": ""
             }
            },
            "type": "scattergeo"
           }
          ],
          "scattergl": [
           {
            "marker": {
             "colorbar": {
              "outlinewidth": 0,
              "ticks": ""
             }
            },
            "type": "scattergl"
           }
          ],
          "scattermapbox": [
           {
            "marker": {
             "colorbar": {
              "outlinewidth": 0,
              "ticks": ""
             }
            },
            "type": "scattermapbox"
           }
          ],
          "scatterpolar": [
           {
            "marker": {
             "colorbar": {
              "outlinewidth": 0,
              "ticks": ""
             }
            },
            "type": "scatterpolar"
           }
          ],
          "scatterpolargl": [
           {
            "marker": {
             "colorbar": {
              "outlinewidth": 0,
              "ticks": ""
             }
            },
            "type": "scatterpolargl"
           }
          ],
          "scatterternary": [
           {
            "marker": {
             "colorbar": {
              "outlinewidth": 0,
              "ticks": ""
             }
            },
            "type": "scatterternary"
           }
          ],
          "surface": [
           {
            "colorbar": {
             "outlinewidth": 0,
             "ticks": ""
            },
            "colorscale": [
             [
              0,
              "#0d0887"
             ],
             [
              0.1111111111111111,
              "#46039f"
             ],
             [
              0.2222222222222222,
              "#7201a8"
             ],
             [
              0.3333333333333333,
              "#9c179e"
             ],
             [
              0.4444444444444444,
              "#bd3786"
             ],
             [
              0.5555555555555556,
              "#d8576b"
             ],
             [
              0.6666666666666666,
              "#ed7953"
             ],
             [
              0.7777777777777778,
              "#fb9f3a"
             ],
             [
              0.8888888888888888,
              "#fdca26"
             ],
             [
              1,
              "#f0f921"
             ]
            ],
            "type": "surface"
           }
          ],
          "table": [
           {
            "cells": {
             "fill": {
              "color": "#EBF0F8"
             },
             "line": {
              "color": "white"
             }
            },
            "header": {
             "fill": {
              "color": "#C8D4E3"
             },
             "line": {
              "color": "white"
             }
            },
            "type": "table"
           }
          ]
         },
         "layout": {
          "annotationdefaults": {
           "arrowcolor": "#2a3f5f",
           "arrowhead": 0,
           "arrowwidth": 1
          },
          "autotypenumbers": "strict",
          "coloraxis": {
           "colorbar": {
            "outlinewidth": 0,
            "ticks": ""
           }
          },
          "colorscale": {
           "diverging": [
            [
             0,
             "#8e0152"
            ],
            [
             0.1,
             "#c51b7d"
            ],
            [
             0.2,
             "#de77ae"
            ],
            [
             0.3,
             "#f1b6da"
            ],
            [
             0.4,
             "#fde0ef"
            ],
            [
             0.5,
             "#f7f7f7"
            ],
            [
             0.6,
             "#e6f5d0"
            ],
            [
             0.7,
             "#b8e186"
            ],
            [
             0.8,
             "#7fbc41"
            ],
            [
             0.9,
             "#4d9221"
            ],
            [
             1,
             "#276419"
            ]
           ],
           "sequential": [
            [
             0,
             "#0d0887"
            ],
            [
             0.1111111111111111,
             "#46039f"
            ],
            [
             0.2222222222222222,
             "#7201a8"
            ],
            [
             0.3333333333333333,
             "#9c179e"
            ],
            [
             0.4444444444444444,
             "#bd3786"
            ],
            [
             0.5555555555555556,
             "#d8576b"
            ],
            [
             0.6666666666666666,
             "#ed7953"
            ],
            [
             0.7777777777777778,
             "#fb9f3a"
            ],
            [
             0.8888888888888888,
             "#fdca26"
            ],
            [
             1,
             "#f0f921"
            ]
           ],
           "sequentialminus": [
            [
             0,
             "#0d0887"
            ],
            [
             0.1111111111111111,
             "#46039f"
            ],
            [
             0.2222222222222222,
             "#7201a8"
            ],
            [
             0.3333333333333333,
             "#9c179e"
            ],
            [
             0.4444444444444444,
             "#bd3786"
            ],
            [
             0.5555555555555556,
             "#d8576b"
            ],
            [
             0.6666666666666666,
             "#ed7953"
            ],
            [
             0.7777777777777778,
             "#fb9f3a"
            ],
            [
             0.8888888888888888,
             "#fdca26"
            ],
            [
             1,
             "#f0f921"
            ]
           ]
          },
          "colorway": [
           "#636efa",
           "#EF553B",
           "#00cc96",
           "#ab63fa",
           "#FFA15A",
           "#19d3f3",
           "#FF6692",
           "#B6E880",
           "#FF97FF",
           "#FECB52"
          ],
          "font": {
           "color": "#2a3f5f"
          },
          "geo": {
           "bgcolor": "white",
           "lakecolor": "white",
           "landcolor": "#E5ECF6",
           "showlakes": true,
           "showland": true,
           "subunitcolor": "white"
          },
          "hoverlabel": {
           "align": "left"
          },
          "hovermode": "closest",
          "mapbox": {
           "style": "light"
          },
          "paper_bgcolor": "white",
          "plot_bgcolor": "#E5ECF6",
          "polar": {
           "angularaxis": {
            "gridcolor": "white",
            "linecolor": "white",
            "ticks": ""
           },
           "bgcolor": "#E5ECF6",
           "radialaxis": {
            "gridcolor": "white",
            "linecolor": "white",
            "ticks": ""
           }
          },
          "scene": {
           "xaxis": {
            "backgroundcolor": "#E5ECF6",
            "gridcolor": "white",
            "gridwidth": 2,
            "linecolor": "white",
            "showbackground": true,
            "ticks": "",
            "zerolinecolor": "white"
           },
           "yaxis": {
            "backgroundcolor": "#E5ECF6",
            "gridcolor": "white",
            "gridwidth": 2,
            "linecolor": "white",
            "showbackground": true,
            "ticks": "",
            "zerolinecolor": "white"
           },
           "zaxis": {
            "backgroundcolor": "#E5ECF6",
            "gridcolor": "white",
            "gridwidth": 2,
            "linecolor": "white",
            "showbackground": true,
            "ticks": "",
            "zerolinecolor": "white"
           }
          },
          "shapedefaults": {
           "line": {
            "color": "#2a3f5f"
           }
          },
          "ternary": {
           "aaxis": {
            "gridcolor": "white",
            "linecolor": "white",
            "ticks": ""
           },
           "baxis": {
            "gridcolor": "white",
            "linecolor": "white",
            "ticks": ""
           },
           "bgcolor": "#E5ECF6",
           "caxis": {
            "gridcolor": "white",
            "linecolor": "white",
            "ticks": ""
           }
          },
          "title": {
           "x": 0.05
          },
          "xaxis": {
           "automargin": true,
           "gridcolor": "white",
           "linecolor": "white",
           "ticks": "",
           "title": {
            "standoff": 15
           },
           "zerolinecolor": "white",
           "zerolinewidth": 2
          },
          "yaxis": {
           "automargin": true,
           "gridcolor": "white",
           "linecolor": "white",
           "ticks": "",
           "title": {
            "standoff": 15
           },
           "zerolinecolor": "white",
           "zerolinewidth": 2
          }
         }
        },
        "xaxis": {
         "anchor": "y",
         "domain": [
          0,
          1
         ],
         "gridcolor": "lightgray",
         "title": {
          "text": "timestamp"
         }
        },
        "yaxis": {
         "anchor": "x",
         "domain": [
          0,
          1
         ],
         "gridcolor": "lightgray",
         "title": {
          "text": "percentage_error (%)"
         }
        }
       }
      }
     },
     "metadata": {},
     "output_type": "display_data"
    }
   ],
   "source": [
    "# Align dataframes based on 'timestamp', 'Tech'\n",
    "gen_res['DispatchGen_MW_xm'] = gen_res['DispatchGen_MW']\n",
    "gen_disp['DispatchGen_MW_sw'] = gen_disp['DispatchGen_MW']\n",
    "gen_compare = pd.merge(gen_res, gen_disp, on=['timestamp', 'Tech'])\n",
    "# Calculate error percentage\n",
    "gen_compare['percentage_error (%)'] = 100*((gen_compare['DispatchGen_MW_sw'] / gen_compare['DispatchGen_MW_xm']) - 1)\n",
    "# Remove rows where 'type' contains '_0h' and 'tech' is 'solar'\n",
    "hours = r'_19h|_20h|_21h|_22h|_23h|_0h|_1h|_2h|_3h|_4h|_5h|_6h|_7h'\n",
    "condition = ((gen_compare['Tech'] == 'Solar') & (gen_compare['timestamp'].str.contains(hours)))\n",
    "gen_compare.loc[condition, ['percentage_error (%)']] = np.nan\n",
    "#print(gen_compare.head(5))\n",
    "import plotly.express as px\n",
    "fig = px.line(\n",
    "    gen_compare,\n",
    "    x='timestamp', y='percentage_error (%)', \n",
    "    color='Tech')\n",
    "fig.update_layout(plot_bgcolor='white',xaxis=dict(gridcolor='lightgray'),yaxis=dict(gridcolor='lightgray'))\n",
    "fig.show()"
   ]
  },
  {
   "cell_type": "markdown",
   "metadata": {},
   "source": [
    "### Error by Quartil"
   ]
  },
  {
   "cell_type": "code",
   "execution_count": 117,
   "metadata": {},
   "outputs": [
    {
     "data": {
      "application/vnd.plotly.v1+json": {
       "config": {
        "plotlyServerURL": "https://plot.ly"
       },
       "data": [
        {
         "hovertemplate": "Tech=Eolica<br>Quarter=%{x}<br>percentage_error (%)=%{y}<extra></extra>",
         "legendgroup": "Eolica",
         "line": {
          "color": "#636efa",
          "dash": "solid"
         },
         "marker": {
          "symbol": "circle"
         },
         "mode": "lines",
         "name": "Eolica",
         "orientation": "v",
         "showlegend": true,
         "type": "scatter",
         "x": [
          "2023_Q1",
          "2023_Q2",
          "2023_Q3",
          "2023_Q4"
         ],
         "xaxis": "x",
         "y": [
          28.270526816249976,
          23.459289595477294,
          20.744021748038577,
          63.507413769484074
         ],
         "yaxis": "y"
        },
        {
         "hovertemplate": "Tech=Hidro<br>Quarter=%{x}<br>percentage_error (%)=%{y}<extra></extra>",
         "legendgroup": "Hidro",
         "line": {
          "color": "#EF553B",
          "dash": "solid"
         },
         "marker": {
          "symbol": "circle"
         },
         "mode": "lines",
         "name": "Hidro",
         "orientation": "v",
         "showlegend": true,
         "type": "scatter",
         "x": [
          "2023_Q1",
          "2023_Q2",
          "2023_Q3",
          "2023_Q4"
         ],
         "xaxis": "x",
         "y": [
          0.8234635271430646,
          -0.25216478382832364,
          10.819823151729446,
          20.195604942262936
         ],
         "yaxis": "y"
        },
        {
         "hovertemplate": "Tech=Menores<br>Quarter=%{x}<br>percentage_error (%)=%{y}<extra></extra>",
         "legendgroup": "Menores",
         "line": {
          "color": "#00cc96",
          "dash": "solid"
         },
         "marker": {
          "symbol": "circle"
         },
         "mode": "lines",
         "name": "Menores",
         "orientation": "v",
         "showlegend": true,
         "type": "scatter",
         "x": [
          "2023_Q1",
          "2023_Q2",
          "2023_Q3",
          "2023_Q4"
         ],
         "xaxis": "x",
         "y": [
          20.467897071531095,
          107.30877633858596,
          38.52378099899614,
          43.45099485037043
         ],
         "yaxis": "y"
        },
        {
         "hovertemplate": "Tech=Solar<br>Quarter=%{x}<br>percentage_error (%)=%{y}<extra></extra>",
         "legendgroup": "Solar",
         "line": {
          "color": "#ab63fa",
          "dash": "solid"
         },
         "marker": {
          "symbol": "circle"
         },
         "mode": "lines",
         "name": "Solar",
         "orientation": "v",
         "showlegend": true,
         "type": "scatter",
         "x": [
          "2023_Q1",
          "2023_Q2",
          "2023_Q3",
          "2023_Q4"
         ],
         "xaxis": "x",
         "y": [
          93.37620222512713,
          70.48486251069892,
          17.918187083394876,
          -14.994182657258603
         ],
         "yaxis": "y"
        },
        {
         "hovertemplate": "Tech=Thermal<br>Quarter=%{x}<br>percentage_error (%)=%{y}<extra></extra>",
         "legendgroup": "Thermal",
         "line": {
          "color": "#FFA15A",
          "dash": "solid"
         },
         "marker": {
          "symbol": "circle"
         },
         "mode": "lines",
         "name": "Thermal",
         "orientation": "v",
         "showlegend": true,
         "type": "scatter",
         "x": [
          "2023_Q1",
          "2023_Q2",
          "2023_Q3",
          "2023_Q4"
         ],
         "xaxis": "x",
         "y": [
          -11.099516059308279,
          -0.6273990140371555,
          -28.53630939935944,
          -35.974632841770394
         ],
         "yaxis": "y"
        }
       ],
       "layout": {
        "legend": {
         "title": {
          "text": "Tech"
         },
         "tracegroupgap": 0
        },
        "margin": {
         "t": 60
        },
        "plot_bgcolor": "white",
        "template": {
         "data": {
          "bar": [
           {
            "error_x": {
             "color": "#2a3f5f"
            },
            "error_y": {
             "color": "#2a3f5f"
            },
            "marker": {
             "line": {
              "color": "#E5ECF6",
              "width": 0.5
             },
             "pattern": {
              "fillmode": "overlay",
              "size": 10,
              "solidity": 0.2
             }
            },
            "type": "bar"
           }
          ],
          "barpolar": [
           {
            "marker": {
             "line": {
              "color": "#E5ECF6",
              "width": 0.5
             },
             "pattern": {
              "fillmode": "overlay",
              "size": 10,
              "solidity": 0.2
             }
            },
            "type": "barpolar"
           }
          ],
          "carpet": [
           {
            "aaxis": {
             "endlinecolor": "#2a3f5f",
             "gridcolor": "white",
             "linecolor": "white",
             "minorgridcolor": "white",
             "startlinecolor": "#2a3f5f"
            },
            "baxis": {
             "endlinecolor": "#2a3f5f",
             "gridcolor": "white",
             "linecolor": "white",
             "minorgridcolor": "white",
             "startlinecolor": "#2a3f5f"
            },
            "type": "carpet"
           }
          ],
          "choropleth": [
           {
            "colorbar": {
             "outlinewidth": 0,
             "ticks": ""
            },
            "type": "choropleth"
           }
          ],
          "contour": [
           {
            "colorbar": {
             "outlinewidth": 0,
             "ticks": ""
            },
            "colorscale": [
             [
              0,
              "#0d0887"
             ],
             [
              0.1111111111111111,
              "#46039f"
             ],
             [
              0.2222222222222222,
              "#7201a8"
             ],
             [
              0.3333333333333333,
              "#9c179e"
             ],
             [
              0.4444444444444444,
              "#bd3786"
             ],
             [
              0.5555555555555556,
              "#d8576b"
             ],
             [
              0.6666666666666666,
              "#ed7953"
             ],
             [
              0.7777777777777778,
              "#fb9f3a"
             ],
             [
              0.8888888888888888,
              "#fdca26"
             ],
             [
              1,
              "#f0f921"
             ]
            ],
            "type": "contour"
           }
          ],
          "contourcarpet": [
           {
            "colorbar": {
             "outlinewidth": 0,
             "ticks": ""
            },
            "type": "contourcarpet"
           }
          ],
          "heatmap": [
           {
            "colorbar": {
             "outlinewidth": 0,
             "ticks": ""
            },
            "colorscale": [
             [
              0,
              "#0d0887"
             ],
             [
              0.1111111111111111,
              "#46039f"
             ],
             [
              0.2222222222222222,
              "#7201a8"
             ],
             [
              0.3333333333333333,
              "#9c179e"
             ],
             [
              0.4444444444444444,
              "#bd3786"
             ],
             [
              0.5555555555555556,
              "#d8576b"
             ],
             [
              0.6666666666666666,
              "#ed7953"
             ],
             [
              0.7777777777777778,
              "#fb9f3a"
             ],
             [
              0.8888888888888888,
              "#fdca26"
             ],
             [
              1,
              "#f0f921"
             ]
            ],
            "type": "heatmap"
           }
          ],
          "heatmapgl": [
           {
            "colorbar": {
             "outlinewidth": 0,
             "ticks": ""
            },
            "colorscale": [
             [
              0,
              "#0d0887"
             ],
             [
              0.1111111111111111,
              "#46039f"
             ],
             [
              0.2222222222222222,
              "#7201a8"
             ],
             [
              0.3333333333333333,
              "#9c179e"
             ],
             [
              0.4444444444444444,
              "#bd3786"
             ],
             [
              0.5555555555555556,
              "#d8576b"
             ],
             [
              0.6666666666666666,
              "#ed7953"
             ],
             [
              0.7777777777777778,
              "#fb9f3a"
             ],
             [
              0.8888888888888888,
              "#fdca26"
             ],
             [
              1,
              "#f0f921"
             ]
            ],
            "type": "heatmapgl"
           }
          ],
          "histogram": [
           {
            "marker": {
             "pattern": {
              "fillmode": "overlay",
              "size": 10,
              "solidity": 0.2
             }
            },
            "type": "histogram"
           }
          ],
          "histogram2d": [
           {
            "colorbar": {
             "outlinewidth": 0,
             "ticks": ""
            },
            "colorscale": [
             [
              0,
              "#0d0887"
             ],
             [
              0.1111111111111111,
              "#46039f"
             ],
             [
              0.2222222222222222,
              "#7201a8"
             ],
             [
              0.3333333333333333,
              "#9c179e"
             ],
             [
              0.4444444444444444,
              "#bd3786"
             ],
             [
              0.5555555555555556,
              "#d8576b"
             ],
             [
              0.6666666666666666,
              "#ed7953"
             ],
             [
              0.7777777777777778,
              "#fb9f3a"
             ],
             [
              0.8888888888888888,
              "#fdca26"
             ],
             [
              1,
              "#f0f921"
             ]
            ],
            "type": "histogram2d"
           }
          ],
          "histogram2dcontour": [
           {
            "colorbar": {
             "outlinewidth": 0,
             "ticks": ""
            },
            "colorscale": [
             [
              0,
              "#0d0887"
             ],
             [
              0.1111111111111111,
              "#46039f"
             ],
             [
              0.2222222222222222,
              "#7201a8"
             ],
             [
              0.3333333333333333,
              "#9c179e"
             ],
             [
              0.4444444444444444,
              "#bd3786"
             ],
             [
              0.5555555555555556,
              "#d8576b"
             ],
             [
              0.6666666666666666,
              "#ed7953"
             ],
             [
              0.7777777777777778,
              "#fb9f3a"
             ],
             [
              0.8888888888888888,
              "#fdca26"
             ],
             [
              1,
              "#f0f921"
             ]
            ],
            "type": "histogram2dcontour"
           }
          ],
          "mesh3d": [
           {
            "colorbar": {
             "outlinewidth": 0,
             "ticks": ""
            },
            "type": "mesh3d"
           }
          ],
          "parcoords": [
           {
            "line": {
             "colorbar": {
              "outlinewidth": 0,
              "ticks": ""
             }
            },
            "type": "parcoords"
           }
          ],
          "pie": [
           {
            "automargin": true,
            "type": "pie"
           }
          ],
          "scatter": [
           {
            "fillpattern": {
             "fillmode": "overlay",
             "size": 10,
             "solidity": 0.2
            },
            "type": "scatter"
           }
          ],
          "scatter3d": [
           {
            "line": {
             "colorbar": {
              "outlinewidth": 0,
              "ticks": ""
             }
            },
            "marker": {
             "colorbar": {
              "outlinewidth": 0,
              "ticks": ""
             }
            },
            "type": "scatter3d"
           }
          ],
          "scattercarpet": [
           {
            "marker": {
             "colorbar": {
              "outlinewidth": 0,
              "ticks": ""
             }
            },
            "type": "scattercarpet"
           }
          ],
          "scattergeo": [
           {
            "marker": {
             "colorbar": {
              "outlinewidth": 0,
              "ticks": ""
             }
            },
            "type": "scattergeo"
           }
          ],
          "scattergl": [
           {
            "marker": {
             "colorbar": {
              "outlinewidth": 0,
              "ticks": ""
             }
            },
            "type": "scattergl"
           }
          ],
          "scattermapbox": [
           {
            "marker": {
             "colorbar": {
              "outlinewidth": 0,
              "ticks": ""
             }
            },
            "type": "scattermapbox"
           }
          ],
          "scatterpolar": [
           {
            "marker": {
             "colorbar": {
              "outlinewidth": 0,
              "ticks": ""
             }
            },
            "type": "scatterpolar"
           }
          ],
          "scatterpolargl": [
           {
            "marker": {
             "colorbar": {
              "outlinewidth": 0,
              "ticks": ""
             }
            },
            "type": "scatterpolargl"
           }
          ],
          "scatterternary": [
           {
            "marker": {
             "colorbar": {
              "outlinewidth": 0,
              "ticks": ""
             }
            },
            "type": "scatterternary"
           }
          ],
          "surface": [
           {
            "colorbar": {
             "outlinewidth": 0,
             "ticks": ""
            },
            "colorscale": [
             [
              0,
              "#0d0887"
             ],
             [
              0.1111111111111111,
              "#46039f"
             ],
             [
              0.2222222222222222,
              "#7201a8"
             ],
             [
              0.3333333333333333,
              "#9c179e"
             ],
             [
              0.4444444444444444,
              "#bd3786"
             ],
             [
              0.5555555555555556,
              "#d8576b"
             ],
             [
              0.6666666666666666,
              "#ed7953"
             ],
             [
              0.7777777777777778,
              "#fb9f3a"
             ],
             [
              0.8888888888888888,
              "#fdca26"
             ],
             [
              1,
              "#f0f921"
             ]
            ],
            "type": "surface"
           }
          ],
          "table": [
           {
            "cells": {
             "fill": {
              "color": "#EBF0F8"
             },
             "line": {
              "color": "white"
             }
            },
            "header": {
             "fill": {
              "color": "#C8D4E3"
             },
             "line": {
              "color": "white"
             }
            },
            "type": "table"
           }
          ]
         },
         "layout": {
          "annotationdefaults": {
           "arrowcolor": "#2a3f5f",
           "arrowhead": 0,
           "arrowwidth": 1
          },
          "autotypenumbers": "strict",
          "coloraxis": {
           "colorbar": {
            "outlinewidth": 0,
            "ticks": ""
           }
          },
          "colorscale": {
           "diverging": [
            [
             0,
             "#8e0152"
            ],
            [
             0.1,
             "#c51b7d"
            ],
            [
             0.2,
             "#de77ae"
            ],
            [
             0.3,
             "#f1b6da"
            ],
            [
             0.4,
             "#fde0ef"
            ],
            [
             0.5,
             "#f7f7f7"
            ],
            [
             0.6,
             "#e6f5d0"
            ],
            [
             0.7,
             "#b8e186"
            ],
            [
             0.8,
             "#7fbc41"
            ],
            [
             0.9,
             "#4d9221"
            ],
            [
             1,
             "#276419"
            ]
           ],
           "sequential": [
            [
             0,
             "#0d0887"
            ],
            [
             0.1111111111111111,
             "#46039f"
            ],
            [
             0.2222222222222222,
             "#7201a8"
            ],
            [
             0.3333333333333333,
             "#9c179e"
            ],
            [
             0.4444444444444444,
             "#bd3786"
            ],
            [
             0.5555555555555556,
             "#d8576b"
            ],
            [
             0.6666666666666666,
             "#ed7953"
            ],
            [
             0.7777777777777778,
             "#fb9f3a"
            ],
            [
             0.8888888888888888,
             "#fdca26"
            ],
            [
             1,
             "#f0f921"
            ]
           ],
           "sequentialminus": [
            [
             0,
             "#0d0887"
            ],
            [
             0.1111111111111111,
             "#46039f"
            ],
            [
             0.2222222222222222,
             "#7201a8"
            ],
            [
             0.3333333333333333,
             "#9c179e"
            ],
            [
             0.4444444444444444,
             "#bd3786"
            ],
            [
             0.5555555555555556,
             "#d8576b"
            ],
            [
             0.6666666666666666,
             "#ed7953"
            ],
            [
             0.7777777777777778,
             "#fb9f3a"
            ],
            [
             0.8888888888888888,
             "#fdca26"
            ],
            [
             1,
             "#f0f921"
            ]
           ]
          },
          "colorway": [
           "#636efa",
           "#EF553B",
           "#00cc96",
           "#ab63fa",
           "#FFA15A",
           "#19d3f3",
           "#FF6692",
           "#B6E880",
           "#FF97FF",
           "#FECB52"
          ],
          "font": {
           "color": "#2a3f5f"
          },
          "geo": {
           "bgcolor": "white",
           "lakecolor": "white",
           "landcolor": "#E5ECF6",
           "showlakes": true,
           "showland": true,
           "subunitcolor": "white"
          },
          "hoverlabel": {
           "align": "left"
          },
          "hovermode": "closest",
          "mapbox": {
           "style": "light"
          },
          "paper_bgcolor": "white",
          "plot_bgcolor": "#E5ECF6",
          "polar": {
           "angularaxis": {
            "gridcolor": "white",
            "linecolor": "white",
            "ticks": ""
           },
           "bgcolor": "#E5ECF6",
           "radialaxis": {
            "gridcolor": "white",
            "linecolor": "white",
            "ticks": ""
           }
          },
          "scene": {
           "xaxis": {
            "backgroundcolor": "#E5ECF6",
            "gridcolor": "white",
            "gridwidth": 2,
            "linecolor": "white",
            "showbackground": true,
            "ticks": "",
            "zerolinecolor": "white"
           },
           "yaxis": {
            "backgroundcolor": "#E5ECF6",
            "gridcolor": "white",
            "gridwidth": 2,
            "linecolor": "white",
            "showbackground": true,
            "ticks": "",
            "zerolinecolor": "white"
           },
           "zaxis": {
            "backgroundcolor": "#E5ECF6",
            "gridcolor": "white",
            "gridwidth": 2,
            "linecolor": "white",
            "showbackground": true,
            "ticks": "",
            "zerolinecolor": "white"
           }
          },
          "shapedefaults": {
           "line": {
            "color": "#2a3f5f"
           }
          },
          "ternary": {
           "aaxis": {
            "gridcolor": "white",
            "linecolor": "white",
            "ticks": ""
           },
           "baxis": {
            "gridcolor": "white",
            "linecolor": "white",
            "ticks": ""
           },
           "bgcolor": "#E5ECF6",
           "caxis": {
            "gridcolor": "white",
            "linecolor": "white",
            "ticks": ""
           }
          },
          "title": {
           "x": 0.05
          },
          "xaxis": {
           "automargin": true,
           "gridcolor": "white",
           "linecolor": "white",
           "ticks": "",
           "title": {
            "standoff": 15
           },
           "zerolinecolor": "white",
           "zerolinewidth": 2
          },
          "yaxis": {
           "automargin": true,
           "gridcolor": "white",
           "linecolor": "white",
           "ticks": "",
           "title": {
            "standoff": 15
           },
           "zerolinecolor": "white",
           "zerolinewidth": 2
          }
         }
        },
        "xaxis": {
         "anchor": "y",
         "domain": [
          0,
          1
         ],
         "gridcolor": "lightgray",
         "title": {
          "text": "Quarter"
         }
        },
        "yaxis": {
         "anchor": "x",
         "domain": [
          0,
          1
         ],
         "gridcolor": "lightgray",
         "title": {
          "text": "percentage_error (%)"
         }
        }
       }
      }
     },
     "metadata": {},
     "output_type": "display_data"
    }
   ],
   "source": [
    "# Align dataframes based on 'timestamp', 'Tech'\n",
    "gen_compare_Q = pd.merge(gen_res, gen_disp, on=['timestamp', 'Tech'])\n",
    "gen_compare_Q['Quarter'] = gen_compare_Q['timestamp'].apply(lambda x: x[:7])\n",
    "\n",
    "gen_compare_Q = gen_compare_Q.groupby(['Quarter','Tech']).agg({\n",
    "    'DispatchGen_MW_xm': 'mean', 'DispatchGen_MW_sw' : 'mean'\n",
    "}).reset_index()\n",
    "\n",
    "# Calculate error percentage\n",
    "gen_compare_Q['percentage_error (%)'] = 100 * ((gen_compare_Q['DispatchGen_MW_sw'] / gen_compare_Q['DispatchGen_MW_xm']) -1)\n",
    "#print(gen_compare_Q.head(5))\n",
    "import plotly.express as px\n",
    "fig = px.line(\n",
    "    gen_compare_Q, \n",
    "    x='Quarter', y='percentage_error (%)', \n",
    "    color='Tech')\n",
    "fig.update_layout(plot_bgcolor='white',xaxis=dict(gridcolor='lightgray'),yaxis=dict(gridcolor='lightgray'))\n",
    "fig.show()"
   ]
  },
  {
   "cell_type": "code",
   "execution_count": 118,
   "metadata": {},
   "outputs": [
    {
     "name": "stdout",
     "output_type": "stream",
     "text": [
      "Error by Tech (Year)\n"
     ]
    },
    {
     "data": {
      "text/html": [
       "<div>\n",
       "<style scoped>\n",
       "    .dataframe tbody tr th:only-of-type {\n",
       "        vertical-align: middle;\n",
       "    }\n",
       "\n",
       "    .dataframe tbody tr th {\n",
       "        vertical-align: top;\n",
       "    }\n",
       "\n",
       "    .dataframe thead th {\n",
       "        text-align: right;\n",
       "    }\n",
       "</style>\n",
       "<table border=\"1\" class=\"dataframe\">\n",
       "  <thead>\n",
       "    <tr style=\"text-align: right;\">\n",
       "      <th></th>\n",
       "      <th>Tech</th>\n",
       "      <th>DispatchGen_MW_xm</th>\n",
       "      <th>DispatchGen_MW_sw</th>\n",
       "      <th>percentage</th>\n",
       "    </tr>\n",
       "  </thead>\n",
       "  <tbody>\n",
       "    <tr>\n",
       "      <th>0</th>\n",
       "      <td>Eolica</td>\n",
       "      <td>18.755296</td>\n",
       "      <td>24.585346</td>\n",
       "      <td>0.310848</td>\n",
       "    </tr>\n",
       "    <tr>\n",
       "      <th>1</th>\n",
       "      <td>Hidro</td>\n",
       "      <td>6613.706746</td>\n",
       "      <td>7098.591954</td>\n",
       "      <td>0.073315</td>\n",
       "    </tr>\n",
       "    <tr>\n",
       "      <th>2</th>\n",
       "      <td>Menores</td>\n",
       "      <td>89.051693</td>\n",
       "      <td>131.747253</td>\n",
       "      <td>0.479447</td>\n",
       "    </tr>\n",
       "    <tr>\n",
       "      <th>3</th>\n",
       "      <td>Solar</td>\n",
       "      <td>122.227058</td>\n",
       "      <td>159.679775</td>\n",
       "      <td>0.306419</td>\n",
       "    </tr>\n",
       "    <tr>\n",
       "      <th>4</th>\n",
       "      <td>Thermal</td>\n",
       "      <td>1836.659252</td>\n",
       "      <td>1411.507575</td>\n",
       "      <td>-0.231481</td>\n",
       "    </tr>\n",
       "  </tbody>\n",
       "</table>\n",
       "</div>"
      ],
      "text/plain": [
       "      Tech  DispatchGen_MW_xm  DispatchGen_MW_sw  percentage\n",
       "0   Eolica          18.755296          24.585346    0.310848\n",
       "1    Hidro        6613.706746        7098.591954    0.073315\n",
       "2  Menores          89.051693         131.747253    0.479447\n",
       "3    Solar         122.227058         159.679775    0.306419\n",
       "4  Thermal        1836.659252        1411.507575   -0.231481"
      ]
     },
     "execution_count": 118,
     "metadata": {},
     "output_type": "execute_result"
    }
   ],
   "source": [
    "# Alinear los dataframes usando merge\n",
    "gen_compare_year = pd.merge(gen_res, gen_disp, on=['timestamp', 'Tech'])\n",
    "\n",
    "gen_compare_year = gen_compare_Q.groupby(['Tech']).agg({\n",
    "    'DispatchGen_MW_xm': 'mean', 'DispatchGen_MW_sw' : 'mean'\n",
    "}).reset_index()\n",
    "\n",
    "# Calcular el porcentaje\n",
    "gen_compare_year['percentage'] = (gen_compare_year['DispatchGen_MW_sw'] / gen_compare_year['DispatchGen_MW_xm']) - 1\n",
    "print('Error by Tech (Year)')\n",
    "gen_compare_year"
   ]
  },
  {
   "cell_type": "code",
   "execution_count": 123,
   "metadata": {},
   "outputs": [
    {
     "name": "stdout",
     "output_type": "stream",
     "text": [
      "Average error percentage: 1.678631%\n"
     ]
    }
   ],
   "source": [
    "# Promedio ponderado de GeneReal y percentage\n",
    "weighted_avg_percentage = \\\n",
    "    (gen_compare_year['DispatchGen_MW_xm'] * gen_compare_year['percentage']).sum() / gen_compare_year['DispatchGen_MW_xm'].sum()\n",
    "print(f\"Average error percentage: {weighted_avg_percentage*100:.6f}%\")\n"
   ]
  },
  {
   "cell_type": "code",
   "execution_count": 36,
   "metadata": {},
   "outputs": [
    {
     "data": {
      "text/html": [
       "<div>\n",
       "<style scoped>\n",
       "    .dataframe tbody tr th:only-of-type {\n",
       "        vertical-align: middle;\n",
       "    }\n",
       "\n",
       "    .dataframe tbody tr th {\n",
       "        vertical-align: top;\n",
       "    }\n",
       "\n",
       "    .dataframe thead th {\n",
       "        text-align: right;\n",
       "    }\n",
       "</style>\n",
       "<table border=\"1\" class=\"dataframe\">\n",
       "  <thead>\n",
       "    <tr style=\"text-align: right;\">\n",
       "      <th>Year</th>\n",
       "      <th>2023</th>\n",
       "      <th>2024</th>\n",
       "      <th>2025</th>\n",
       "      <th>2026</th>\n",
       "      <th>2027</th>\n",
       "      <th>2028</th>\n",
       "      <th>2029</th>\n",
       "      <th>2030</th>\n",
       "      <th>2031</th>\n",
       "      <th>2032</th>\n",
       "      <th>2033</th>\n",
       "      <th>2034</th>\n",
       "      <th>2035</th>\n",
       "      <th>2036</th>\n",
       "      <th>2037</th>\n",
       "    </tr>\n",
       "    <tr>\n",
       "      <th>gen_tech</th>\n",
       "      <th></th>\n",
       "      <th></th>\n",
       "      <th></th>\n",
       "      <th></th>\n",
       "      <th></th>\n",
       "      <th></th>\n",
       "      <th></th>\n",
       "      <th></th>\n",
       "      <th></th>\n",
       "      <th></th>\n",
       "      <th></th>\n",
       "      <th></th>\n",
       "      <th></th>\n",
       "      <th></th>\n",
       "      <th></th>\n",
       "    </tr>\n",
       "  </thead>\n",
       "  <tbody>\n",
       "    <tr>\n",
       "      <th>Eolica</th>\n",
       "      <td>20.00</td>\n",
       "      <td>0.0</td>\n",
       "      <td>0.0</td>\n",
       "      <td>0.0</td>\n",
       "      <td>255.0</td>\n",
       "      <td>450.0</td>\n",
       "      <td>492.0</td>\n",
       "      <td>0.0</td>\n",
       "      <td>0.0</td>\n",
       "      <td>0.0</td>\n",
       "      <td>0.0</td>\n",
       "      <td>0.0</td>\n",
       "      <td>0.0</td>\n",
       "      <td>0.0</td>\n",
       "      <td>0.0</td>\n",
       "    </tr>\n",
       "    <tr>\n",
       "      <th>Hidro</th>\n",
       "      <td>45.64</td>\n",
       "      <td>0.0</td>\n",
       "      <td>0.0</td>\n",
       "      <td>0.0</td>\n",
       "      <td>0.0</td>\n",
       "      <td>0.0</td>\n",
       "      <td>0.0</td>\n",
       "      <td>0.0</td>\n",
       "      <td>0.0</td>\n",
       "      <td>0.0</td>\n",
       "      <td>0.0</td>\n",
       "      <td>0.0</td>\n",
       "      <td>0.0</td>\n",
       "      <td>0.0</td>\n",
       "      <td>0.0</td>\n",
       "    </tr>\n",
       "    <tr>\n",
       "      <th>Thermal</th>\n",
       "      <td>0.00</td>\n",
       "      <td>52.0</td>\n",
       "      <td>0.0</td>\n",
       "      <td>0.0</td>\n",
       "      <td>0.0</td>\n",
       "      <td>0.0</td>\n",
       "      <td>0.0</td>\n",
       "      <td>0.0</td>\n",
       "      <td>0.0</td>\n",
       "      <td>0.0</td>\n",
       "      <td>0.0</td>\n",
       "      <td>0.0</td>\n",
       "      <td>0.0</td>\n",
       "      <td>0.0</td>\n",
       "      <td>0.0</td>\n",
       "    </tr>\n",
       "    <tr>\n",
       "      <th>pv_solar</th>\n",
       "      <td>466.60</td>\n",
       "      <td>1079.9</td>\n",
       "      <td>110.0</td>\n",
       "      <td>218.0</td>\n",
       "      <td>128.0</td>\n",
       "      <td>128.0</td>\n",
       "      <td>123.0</td>\n",
       "      <td>109.0</td>\n",
       "      <td>109.0</td>\n",
       "      <td>91.0</td>\n",
       "      <td>79.0</td>\n",
       "      <td>80.0</td>\n",
       "      <td>68.0</td>\n",
       "      <td>51.0</td>\n",
       "      <td>69.0</td>\n",
       "    </tr>\n",
       "    <tr>\n",
       "      <th>Total</th>\n",
       "      <td>532.24</td>\n",
       "      <td>1131.9</td>\n",
       "      <td>110.0</td>\n",
       "      <td>218.0</td>\n",
       "      <td>383.0</td>\n",
       "      <td>578.0</td>\n",
       "      <td>615.0</td>\n",
       "      <td>109.0</td>\n",
       "      <td>109.0</td>\n",
       "      <td>91.0</td>\n",
       "      <td>79.0</td>\n",
       "      <td>80.0</td>\n",
       "      <td>68.0</td>\n",
       "      <td>51.0</td>\n",
       "      <td>69.0</td>\n",
       "    </tr>\n",
       "  </tbody>\n",
       "</table>\n",
       "</div>"
      ],
      "text/plain": [
       "Year        2023    2024   2025   2026   2027   2028   2029   2030   2031  \\\n",
       "gen_tech                                                                    \n",
       "Eolica     20.00     0.0    0.0    0.0  255.0  450.0  492.0    0.0    0.0   \n",
       "Hidro      45.64     0.0    0.0    0.0    0.0    0.0    0.0    0.0    0.0   \n",
       "Thermal     0.00    52.0    0.0    0.0    0.0    0.0    0.0    0.0    0.0   \n",
       "pv_solar  466.60  1079.9  110.0  218.0  128.0  128.0  123.0  109.0  109.0   \n",
       "Total     532.24  1131.9  110.0  218.0  383.0  578.0  615.0  109.0  109.0   \n",
       "\n",
       "Year      2032  2033  2034  2035  2036  2037  \n",
       "gen_tech                                      \n",
       "Eolica     0.0   0.0   0.0   0.0   0.0   0.0  \n",
       "Hidro      0.0   0.0   0.0   0.0   0.0   0.0  \n",
       "Thermal    0.0   0.0   0.0   0.0   0.0   0.0  \n",
       "pv_solar  91.0  79.0  80.0  68.0  51.0  69.0  \n",
       "Total     91.0  79.0  80.0  68.0  51.0  69.0  "
      ]
     },
     "execution_count": 36,
     "metadata": {},
     "output_type": "execute_result"
    }
   ],
   "source": [
    "import pandas as pd\n",
    "model_outputs_path = '../../../model/outputs/'\n",
    "new_gen = pd.read_csv(model_outputs_path+'BuildGen.csv')\n",
    "new_gen = new_gen[new_gen['GEN_BLD_YRS_2'] >= 2023]\n",
    "new_gen = new_gen[new_gen['BuildGen'] > 1]\n",
    "\n",
    "model_inputs_path = '../../../model/inputs/'\n",
    "gen_info = pd.read_csv(model_inputs_path+'gen_info.csv')\n",
    "new_gen = pd.merge(new_gen, gen_info,\n",
    "                    left_on='GEN_BLD_YRS_1',right_on='GENERATION_PROJECT',how='inner')\n",
    "\n",
    "new_gen = new_gen.groupby(['gen_tech','GEN_BLD_YRS_2']).agg({\n",
    "    'BuildGen' : 'sum'}).reset_index()\n",
    "new_gen.rename(columns={'GEN_BLD_YRS_2': 'Year'}, inplace=True)\n",
    "new_gen['BuildGen'] = new_gen['BuildGen'].round(2)\n",
    "\n",
    "pivot_table = new_gen.pivot_table(index='gen_tech',columns='Year',\n",
    "                                  values='BuildGen',aggfunc='sum').fillna(0)\n",
    "pivot_table.loc['Total'] = pivot_table.sum()\n",
    "\n",
    "pivot_table"
   ]
  },
  {
   "cell_type": "code",
   "execution_count": 37,
   "metadata": {},
   "outputs": [
    {
     "data": {
      "application/vnd.plotly.v1+json": {
       "config": {
        "plotlyServerURL": "https://plot.ly"
       },
       "data": [
        {
         "alignmentgroup": "True",
         "hovertemplate": "Tech=Menores<br>Year=%{x}<br>Dispatched Generation (MW)=%{y}<extra></extra>",
         "legendgroup": "Menores",
         "marker": {
          "color": "#636efa",
          "pattern": {
           "shape": ""
          }
         },
         "name": "Menores",
         "offsetgroup": "Menores",
         "orientation": "v",
         "showlegend": true,
         "textposition": "auto",
         "type": "bar",
         "x": [
          "2023",
          "2024"
         ],
         "xaxis": "x",
         "y": [
          0.9053676616369021,
          0.9053676616658609
         ],
         "yaxis": "y"
        },
        {
         "alignmentgroup": "True",
         "hovertemplate": "Tech=Thermal<br>Year=%{x}<br>Dispatched Generation (MW)=%{y}<extra></extra>",
         "legendgroup": "Thermal",
         "marker": {
          "color": "#EF553B",
          "pattern": {
           "shape": ""
          }
         },
         "name": "Thermal",
         "offsetgroup": "Thermal",
         "orientation": "v",
         "showlegend": true,
         "textposition": "auto",
         "type": "bar",
         "x": [
          "2023",
          "2024"
         ],
         "xaxis": "x",
         "y": [
          14.35190367646895,
          14.76643393349146
         ],
         "yaxis": "y"
        },
        {
         "alignmentgroup": "True",
         "hovertemplate": "Tech=Hidro<br>Year=%{x}<br>Dispatched Generation (MW)=%{y}<extra></extra>",
         "legendgroup": "Hidro",
         "marker": {
          "color": "#00cc96",
          "pattern": {
           "shape": ""
          }
         },
         "name": "Hidro",
         "offsetgroup": "Hidro",
         "orientation": "v",
         "showlegend": true,
         "textposition": "auto",
         "type": "bar",
         "x": [
          "2023",
          "2024"
         ],
         "xaxis": "x",
         "y": [
          63.989058448246716,
          63.989058448323995
         ],
         "yaxis": "y"
        },
        {
         "alignmentgroup": "True",
         "hovertemplate": "Tech=Eolica<br>Year=%{x}<br>Dispatched Generation (MW)=%{y}<extra></extra>",
         "legendgroup": "Eolica",
         "marker": {
          "color": "#ab63fa",
          "pattern": {
           "shape": ""
          }
         },
         "name": "Eolica",
         "offsetgroup": "Eolica",
         "orientation": "v",
         "showlegend": true,
         "textposition": "auto",
         "type": "bar",
         "x": [
          "2023",
          "2024"
         ],
         "xaxis": "x",
         "y": [
          0.21464037637062844,
          0.21464037627344495
         ],
         "yaxis": "y"
        },
        {
         "alignmentgroup": "True",
         "hovertemplate": "Tech=pv_solar<br>Year=%{x}<br>Dispatched Generation (MW)=%{y}<extra></extra>",
         "legendgroup": "pv_solar",
         "marker": {
          "color": "#FFA15A",
          "pattern": {
           "shape": ""
          }
         },
         "name": "pv_solar",
         "offsetgroup": "pv_solar",
         "orientation": "v",
         "showlegend": true,
         "textposition": "auto",
         "type": "bar",
         "x": [
          "2023",
          "2024"
         ],
         "xaxis": "x",
         "y": [
          1.399071226785172,
          3.4853781420451178
         ],
         "yaxis": "y"
        }
       ],
       "layout": {
        "barmode": "stack",
        "legend": {
         "title": {
          "text": "Tech"
         },
         "tracegroupgap": 0
        },
        "template": {
         "data": {
          "bar": [
           {
            "error_x": {
             "color": "#2a3f5f"
            },
            "error_y": {
             "color": "#2a3f5f"
            },
            "marker": {
             "line": {
              "color": "#E5ECF6",
              "width": 0.5
             },
             "pattern": {
              "fillmode": "overlay",
              "size": 10,
              "solidity": 0.2
             }
            },
            "type": "bar"
           }
          ],
          "barpolar": [
           {
            "marker": {
             "line": {
              "color": "#E5ECF6",
              "width": 0.5
             },
             "pattern": {
              "fillmode": "overlay",
              "size": 10,
              "solidity": 0.2
             }
            },
            "type": "barpolar"
           }
          ],
          "carpet": [
           {
            "aaxis": {
             "endlinecolor": "#2a3f5f",
             "gridcolor": "white",
             "linecolor": "white",
             "minorgridcolor": "white",
             "startlinecolor": "#2a3f5f"
            },
            "baxis": {
             "endlinecolor": "#2a3f5f",
             "gridcolor": "white",
             "linecolor": "white",
             "minorgridcolor": "white",
             "startlinecolor": "#2a3f5f"
            },
            "type": "carpet"
           }
          ],
          "choropleth": [
           {
            "colorbar": {
             "outlinewidth": 0,
             "ticks": ""
            },
            "type": "choropleth"
           }
          ],
          "contour": [
           {
            "colorbar": {
             "outlinewidth": 0,
             "ticks": ""
            },
            "colorscale": [
             [
              0,
              "#0d0887"
             ],
             [
              0.1111111111111111,
              "#46039f"
             ],
             [
              0.2222222222222222,
              "#7201a8"
             ],
             [
              0.3333333333333333,
              "#9c179e"
             ],
             [
              0.4444444444444444,
              "#bd3786"
             ],
             [
              0.5555555555555556,
              "#d8576b"
             ],
             [
              0.6666666666666666,
              "#ed7953"
             ],
             [
              0.7777777777777778,
              "#fb9f3a"
             ],
             [
              0.8888888888888888,
              "#fdca26"
             ],
             [
              1,
              "#f0f921"
             ]
            ],
            "type": "contour"
           }
          ],
          "contourcarpet": [
           {
            "colorbar": {
             "outlinewidth": 0,
             "ticks": ""
            },
            "type": "contourcarpet"
           }
          ],
          "heatmap": [
           {
            "colorbar": {
             "outlinewidth": 0,
             "ticks": ""
            },
            "colorscale": [
             [
              0,
              "#0d0887"
             ],
             [
              0.1111111111111111,
              "#46039f"
             ],
             [
              0.2222222222222222,
              "#7201a8"
             ],
             [
              0.3333333333333333,
              "#9c179e"
             ],
             [
              0.4444444444444444,
              "#bd3786"
             ],
             [
              0.5555555555555556,
              "#d8576b"
             ],
             [
              0.6666666666666666,
              "#ed7953"
             ],
             [
              0.7777777777777778,
              "#fb9f3a"
             ],
             [
              0.8888888888888888,
              "#fdca26"
             ],
             [
              1,
              "#f0f921"
             ]
            ],
            "type": "heatmap"
           }
          ],
          "heatmapgl": [
           {
            "colorbar": {
             "outlinewidth": 0,
             "ticks": ""
            },
            "colorscale": [
             [
              0,
              "#0d0887"
             ],
             [
              0.1111111111111111,
              "#46039f"
             ],
             [
              0.2222222222222222,
              "#7201a8"
             ],
             [
              0.3333333333333333,
              "#9c179e"
             ],
             [
              0.4444444444444444,
              "#bd3786"
             ],
             [
              0.5555555555555556,
              "#d8576b"
             ],
             [
              0.6666666666666666,
              "#ed7953"
             ],
             [
              0.7777777777777778,
              "#fb9f3a"
             ],
             [
              0.8888888888888888,
              "#fdca26"
             ],
             [
              1,
              "#f0f921"
             ]
            ],
            "type": "heatmapgl"
           }
          ],
          "histogram": [
           {
            "marker": {
             "pattern": {
              "fillmode": "overlay",
              "size": 10,
              "solidity": 0.2
             }
            },
            "type": "histogram"
           }
          ],
          "histogram2d": [
           {
            "colorbar": {
             "outlinewidth": 0,
             "ticks": ""
            },
            "colorscale": [
             [
              0,
              "#0d0887"
             ],
             [
              0.1111111111111111,
              "#46039f"
             ],
             [
              0.2222222222222222,
              "#7201a8"
             ],
             [
              0.3333333333333333,
              "#9c179e"
             ],
             [
              0.4444444444444444,
              "#bd3786"
             ],
             [
              0.5555555555555556,
              "#d8576b"
             ],
             [
              0.6666666666666666,
              "#ed7953"
             ],
             [
              0.7777777777777778,
              "#fb9f3a"
             ],
             [
              0.8888888888888888,
              "#fdca26"
             ],
             [
              1,
              "#f0f921"
             ]
            ],
            "type": "histogram2d"
           }
          ],
          "histogram2dcontour": [
           {
            "colorbar": {
             "outlinewidth": 0,
             "ticks": ""
            },
            "colorscale": [
             [
              0,
              "#0d0887"
             ],
             [
              0.1111111111111111,
              "#46039f"
             ],
             [
              0.2222222222222222,
              "#7201a8"
             ],
             [
              0.3333333333333333,
              "#9c179e"
             ],
             [
              0.4444444444444444,
              "#bd3786"
             ],
             [
              0.5555555555555556,
              "#d8576b"
             ],
             [
              0.6666666666666666,
              "#ed7953"
             ],
             [
              0.7777777777777778,
              "#fb9f3a"
             ],
             [
              0.8888888888888888,
              "#fdca26"
             ],
             [
              1,
              "#f0f921"
             ]
            ],
            "type": "histogram2dcontour"
           }
          ],
          "mesh3d": [
           {
            "colorbar": {
             "outlinewidth": 0,
             "ticks": ""
            },
            "type": "mesh3d"
           }
          ],
          "parcoords": [
           {
            "line": {
             "colorbar": {
              "outlinewidth": 0,
              "ticks": ""
             }
            },
            "type": "parcoords"
           }
          ],
          "pie": [
           {
            "automargin": true,
            "type": "pie"
           }
          ],
          "scatter": [
           {
            "fillpattern": {
             "fillmode": "overlay",
             "size": 10,
             "solidity": 0.2
            },
            "type": "scatter"
           }
          ],
          "scatter3d": [
           {
            "line": {
             "colorbar": {
              "outlinewidth": 0,
              "ticks": ""
             }
            },
            "marker": {
             "colorbar": {
              "outlinewidth": 0,
              "ticks": ""
             }
            },
            "type": "scatter3d"
           }
          ],
          "scattercarpet": [
           {
            "marker": {
             "colorbar": {
              "outlinewidth": 0,
              "ticks": ""
             }
            },
            "type": "scattercarpet"
           }
          ],
          "scattergeo": [
           {
            "marker": {
             "colorbar": {
              "outlinewidth": 0,
              "ticks": ""
             }
            },
            "type": "scattergeo"
           }
          ],
          "scattergl": [
           {
            "marker": {
             "colorbar": {
              "outlinewidth": 0,
              "ticks": ""
             }
            },
            "type": "scattergl"
           }
          ],
          "scattermapbox": [
           {
            "marker": {
             "colorbar": {
              "outlinewidth": 0,
              "ticks": ""
             }
            },
            "type": "scattermapbox"
           }
          ],
          "scatterpolar": [
           {
            "marker": {
             "colorbar": {
              "outlinewidth": 0,
              "ticks": ""
             }
            },
            "type": "scatterpolar"
           }
          ],
          "scatterpolargl": [
           {
            "marker": {
             "colorbar": {
              "outlinewidth": 0,
              "ticks": ""
             }
            },
            "type": "scatterpolargl"
           }
          ],
          "scatterternary": [
           {
            "marker": {
             "colorbar": {
              "outlinewidth": 0,
              "ticks": ""
             }
            },
            "type": "scatterternary"
           }
          ],
          "surface": [
           {
            "colorbar": {
             "outlinewidth": 0,
             "ticks": ""
            },
            "colorscale": [
             [
              0,
              "#0d0887"
             ],
             [
              0.1111111111111111,
              "#46039f"
             ],
             [
              0.2222222222222222,
              "#7201a8"
             ],
             [
              0.3333333333333333,
              "#9c179e"
             ],
             [
              0.4444444444444444,
              "#bd3786"
             ],
             [
              0.5555555555555556,
              "#d8576b"
             ],
             [
              0.6666666666666666,
              "#ed7953"
             ],
             [
              0.7777777777777778,
              "#fb9f3a"
             ],
             [
              0.8888888888888888,
              "#fdca26"
             ],
             [
              1,
              "#f0f921"
             ]
            ],
            "type": "surface"
           }
          ],
          "table": [
           {
            "cells": {
             "fill": {
              "color": "#EBF0F8"
             },
             "line": {
              "color": "white"
             }
            },
            "header": {
             "fill": {
              "color": "#C8D4E3"
             },
             "line": {
              "color": "white"
             }
            },
            "type": "table"
           }
          ]
         },
         "layout": {
          "annotationdefaults": {
           "arrowcolor": "#2a3f5f",
           "arrowhead": 0,
           "arrowwidth": 1
          },
          "autotypenumbers": "strict",
          "coloraxis": {
           "colorbar": {
            "outlinewidth": 0,
            "ticks": ""
           }
          },
          "colorscale": {
           "diverging": [
            [
             0,
             "#8e0152"
            ],
            [
             0.1,
             "#c51b7d"
            ],
            [
             0.2,
             "#de77ae"
            ],
            [
             0.3,
             "#f1b6da"
            ],
            [
             0.4,
             "#fde0ef"
            ],
            [
             0.5,
             "#f7f7f7"
            ],
            [
             0.6,
             "#e6f5d0"
            ],
            [
             0.7,
             "#b8e186"
            ],
            [
             0.8,
             "#7fbc41"
            ],
            [
             0.9,
             "#4d9221"
            ],
            [
             1,
             "#276419"
            ]
           ],
           "sequential": [
            [
             0,
             "#0d0887"
            ],
            [
             0.1111111111111111,
             "#46039f"
            ],
            [
             0.2222222222222222,
             "#7201a8"
            ],
            [
             0.3333333333333333,
             "#9c179e"
            ],
            [
             0.4444444444444444,
             "#bd3786"
            ],
            [
             0.5555555555555556,
             "#d8576b"
            ],
            [
             0.6666666666666666,
             "#ed7953"
            ],
            [
             0.7777777777777778,
             "#fb9f3a"
            ],
            [
             0.8888888888888888,
             "#fdca26"
            ],
            [
             1,
             "#f0f921"
            ]
           ],
           "sequentialminus": [
            [
             0,
             "#0d0887"
            ],
            [
             0.1111111111111111,
             "#46039f"
            ],
            [
             0.2222222222222222,
             "#7201a8"
            ],
            [
             0.3333333333333333,
             "#9c179e"
            ],
            [
             0.4444444444444444,
             "#bd3786"
            ],
            [
             0.5555555555555556,
             "#d8576b"
            ],
            [
             0.6666666666666666,
             "#ed7953"
            ],
            [
             0.7777777777777778,
             "#fb9f3a"
            ],
            [
             0.8888888888888888,
             "#fdca26"
            ],
            [
             1,
             "#f0f921"
            ]
           ]
          },
          "colorway": [
           "#636efa",
           "#EF553B",
           "#00cc96",
           "#ab63fa",
           "#FFA15A",
           "#19d3f3",
           "#FF6692",
           "#B6E880",
           "#FF97FF",
           "#FECB52"
          ],
          "font": {
           "color": "#2a3f5f"
          },
          "geo": {
           "bgcolor": "white",
           "lakecolor": "white",
           "landcolor": "#E5ECF6",
           "showlakes": true,
           "showland": true,
           "subunitcolor": "white"
          },
          "hoverlabel": {
           "align": "left"
          },
          "hovermode": "closest",
          "mapbox": {
           "style": "light"
          },
          "paper_bgcolor": "white",
          "plot_bgcolor": "#E5ECF6",
          "polar": {
           "angularaxis": {
            "gridcolor": "white",
            "linecolor": "white",
            "ticks": ""
           },
           "bgcolor": "#E5ECF6",
           "radialaxis": {
            "gridcolor": "white",
            "linecolor": "white",
            "ticks": ""
           }
          },
          "scene": {
           "xaxis": {
            "backgroundcolor": "#E5ECF6",
            "gridcolor": "white",
            "gridwidth": 2,
            "linecolor": "white",
            "showbackground": true,
            "ticks": "",
            "zerolinecolor": "white"
           },
           "yaxis": {
            "backgroundcolor": "#E5ECF6",
            "gridcolor": "white",
            "gridwidth": 2,
            "linecolor": "white",
            "showbackground": true,
            "ticks": "",
            "zerolinecolor": "white"
           },
           "zaxis": {
            "backgroundcolor": "#E5ECF6",
            "gridcolor": "white",
            "gridwidth": 2,
            "linecolor": "white",
            "showbackground": true,
            "ticks": "",
            "zerolinecolor": "white"
           }
          },
          "shapedefaults": {
           "line": {
            "color": "#2a3f5f"
           }
          },
          "ternary": {
           "aaxis": {
            "gridcolor": "white",
            "linecolor": "white",
            "ticks": ""
           },
           "baxis": {
            "gridcolor": "white",
            "linecolor": "white",
            "ticks": ""
           },
           "bgcolor": "#E5ECF6",
           "caxis": {
            "gridcolor": "white",
            "linecolor": "white",
            "ticks": ""
           }
          },
          "title": {
           "x": 0.05
          },
          "xaxis": {
           "automargin": true,
           "gridcolor": "white",
           "linecolor": "white",
           "ticks": "",
           "title": {
            "standoff": 15
           },
           "zerolinecolor": "white",
           "zerolinewidth": 2
          },
          "yaxis": {
           "automargin": true,
           "gridcolor": "white",
           "linecolor": "white",
           "ticks": "",
           "title": {
            "standoff": 15
           },
           "zerolinecolor": "white",
           "zerolinewidth": 2
          }
         }
        },
        "title": {
         "text": "Generation Dispatch Over Time by Technology"
        },
        "xaxis": {
         "anchor": "y",
         "domain": [
          0,
          1
         ],
         "tickangle": -45,
         "title": {
          "text": "Timestamp"
         }
        },
        "yaxis": {
         "anchor": "x",
         "domain": [
          0,
          1
         ],
         "title": {
          "text": "Dispatched Generation (TWh)"
         }
        }
       }
      }
     },
     "metadata": {},
     "output_type": "display_data"
    }
   ],
   "source": [
    "import pandas as pd\n",
    "model_inputs_path = '../../../model/outputs/'\n",
    "gen_disp = pd.read_csv(model_inputs_path+'dispatch.csv')\n",
    "gen_disp = gen_disp.drop(gen_disp.columns[0], axis=1)\n",
    "gen_disp['year'] = gen_disp['timestamp'].str[:4]\n",
    "\n",
    "gen_disp = gen_disp.groupby(['year','gen_tech']).agg({\n",
    "    'Energy_GWh_typical_yr' : 'sum'}).reset_index()\n",
    "gen_disp['Energy_GWh_typical_yr'] = gen_disp['Energy_GWh_typical_yr'] / 1000\n",
    "# Convert gen_tech to a categorical type with the specified order\n",
    "gen_disp['gen_tech'] = pd.Categorical(gen_disp['gen_tech'], categories=[\n",
    "    'Menores','Thermal', 'Hidro','Eolica','pv_solar'], ordered=True)\n",
    "gen_disp = gen_disp.sort_values(['year', 'gen_tech'])\n",
    "gen_disp.rename(columns={'gen_tech': 'Tech'}, inplace=True)\n",
    "\n",
    "import plotly.express as px\n",
    "# Create a stacked bar plot\n",
    "fig = px.bar(\n",
    "    gen_disp, x='year', y='Energy_GWh_typical_yr',\n",
    "    color='Tech', title='Generation Dispatch Over Time by Technology',\n",
    "    labels={'Energy_GWh_typical_yr': 'Dispatched Generation (MW)', 'year': 'Year'})\n",
    "# Update layout for better readability if needed\n",
    "fig.update_layout(barmode='stack', xaxis_title=\"Timestamp\", xaxis={'tickangle': -45},\n",
    "                  yaxis_title=\"Dispatched Generation (TWh)\")\n",
    "fig.show()"
   ]
  },
  {
   "cell_type": "code",
   "execution_count": 38,
   "metadata": {},
   "outputs": [
    {
     "data": {
      "application/vnd.plotly.v1+json": {
       "config": {
        "plotlyServerURL": "https://plot.ly"
       },
       "data": [
        {
         "alignmentgroup": "True",
         "hovertemplate": "Tech= Menores<br>Year=%{x}<br>Dispatched Generation (MW)=%{y}<extra></extra>",
         "legendgroup": " Menores",
         "marker": {
          "color": "#636efa",
          "pattern": {
           "shape": ""
          }
         },
         "name": " Menores",
         "offsetgroup": " Menores",
         "orientation": "v",
         "showlegend": true,
         "textposition": "auto",
         "type": "bar",
         "x": [
          2024,
          2025,
          2026,
          2027,
          2028,
          2029,
          2030,
          2031,
          2032,
          2033,
          2034,
          2035,
          2036,
          2037
         ],
         "xaxis": "x",
         "y": [
          1.191,
          1.191,
          1.191,
          1.191,
          1.191,
          1.191,
          1.191,
          1.191,
          1.191,
          1.191,
          1.191,
          1.191,
          1.191,
          1.191
         ],
         "yaxis": "y"
        },
        {
         "alignmentgroup": "True",
         "hovertemplate": "Tech= Thermal<br>Year=%{x}<br>Dispatched Generation (MW)=%{y}<extra></extra>",
         "legendgroup": " Thermal",
         "marker": {
          "color": "#EF553B",
          "pattern": {
           "shape": ""
          }
         },
         "name": " Thermal",
         "offsetgroup": " Thermal",
         "orientation": "v",
         "showlegend": true,
         "textposition": "auto",
         "type": "bar",
         "x": [
          2024,
          2024,
          2025,
          2025,
          2026,
          2026,
          2027,
          2027,
          2028,
          2028,
          2029,
          2029,
          2030,
          2030,
          2031,
          2031,
          2032,
          2032,
          2033,
          2033,
          2034,
          2034,
          2035,
          2035,
          2036,
          2036,
          2037,
          2037
         ],
         "xaxis": "x",
         "y": [
          2.514,
          7.569,
          3.21,
          7.449,
          4.635,
          7.244,
          4.67,
          7.244,
          5.06,
          7.328,
          5.639,
          7.752,
          6.716,
          8.433,
          8.395,
          8.599,
          9.428,
          12.475,
          9.596,
          16.435,
          9.611,
          18.857,
          9.611,
          21.45,
          9.685,
          23.745,
          9.64,
          25.465
         ],
         "yaxis": "y"
        },
        {
         "alignmentgroup": "True",
         "hovertemplate": "Tech= Hidro<br>Year=%{x}<br>Dispatched Generation (MW)=%{y}<extra></extra>",
         "legendgroup": " Hidro",
         "marker": {
          "color": "#00cc96",
          "pattern": {
           "shape": ""
          }
         },
         "name": " Hidro",
         "offsetgroup": " Hidro",
         "orientation": "v",
         "showlegend": true,
         "textposition": "auto",
         "type": "bar",
         "x": [
          2024,
          2025,
          2026,
          2027,
          2028,
          2029,
          2030,
          2031,
          2032,
          2033,
          2034,
          2035,
          2036,
          2037
         ],
         "xaxis": "x",
         "y": [
          64.919,
          66.128,
          66.534,
          66.778,
          67.054,
          65.906,
          66.412,
          67.994,
          65.973,
          64.781,
          65.564,
          66.333,
          67.345,
          68.775
         ],
         "yaxis": "y"
        },
        {
         "alignmentgroup": "True",
         "hovertemplate": "Tech= Eolica<br>Year=%{x}<br>Dispatched Generation (MW)=%{y}<extra></extra>",
         "legendgroup": " Eolica",
         "marker": {
          "color": "#ab63fa",
          "pattern": {
           "shape": ""
          }
         },
         "name": " Eolica",
         "offsetgroup": " Eolica",
         "orientation": "v",
         "showlegend": true,
         "textposition": "auto",
         "type": "bar",
         "x": [
          2024,
          2025,
          2026,
          2027,
          2028,
          2029,
          2030,
          2031,
          2032,
          2033,
          2034,
          2035,
          2036,
          2037
         ],
         "xaxis": "x",
         "y": [
          0.063,
          0.206,
          0.206,
          1.513,
          3.619,
          5.922,
          5.922,
          5.922,
          5.922,
          5.922,
          5.922,
          5.922,
          5.922,
          5.922
         ],
         "yaxis": "y"
        },
        {
         "alignmentgroup": "True",
         "hovertemplate": "Tech= pv_solar<br>Year=%{x}<br>Dispatched Generation (MW)=%{y}<extra></extra>",
         "legendgroup": " pv_solar",
         "marker": {
          "color": "#FFA15A",
          "pattern": {
           "shape": ""
          }
         },
         "name": " pv_solar",
         "offsetgroup": " pv_solar",
         "orientation": "v",
         "showlegend": true,
         "textposition": "auto",
         "type": "bar",
         "x": [
          2024,
          2025,
          2026,
          2027,
          2028,
          2029,
          2030,
          2031,
          2032,
          2033,
          2034,
          2035,
          2036,
          2037
         ],
         "xaxis": "x",
         "y": [
          2.496,
          3.487,
          3.711,
          3.965,
          4.133,
          4.294,
          4.436,
          4.579,
          4.698,
          4.802,
          4.908,
          4.996,
          5.064,
          5.155
         ],
         "yaxis": "y"
        }
       ],
       "layout": {
        "barmode": "stack",
        "legend": {
         "title": {
          "text": "Tech"
         },
         "tracegroupgap": 0
        },
        "template": {
         "data": {
          "bar": [
           {
            "error_x": {
             "color": "#2a3f5f"
            },
            "error_y": {
             "color": "#2a3f5f"
            },
            "marker": {
             "line": {
              "color": "#E5ECF6",
              "width": 0.5
             },
             "pattern": {
              "fillmode": "overlay",
              "size": 10,
              "solidity": 0.2
             }
            },
            "type": "bar"
           }
          ],
          "barpolar": [
           {
            "marker": {
             "line": {
              "color": "#E5ECF6",
              "width": 0.5
             },
             "pattern": {
              "fillmode": "overlay",
              "size": 10,
              "solidity": 0.2
             }
            },
            "type": "barpolar"
           }
          ],
          "carpet": [
           {
            "aaxis": {
             "endlinecolor": "#2a3f5f",
             "gridcolor": "white",
             "linecolor": "white",
             "minorgridcolor": "white",
             "startlinecolor": "#2a3f5f"
            },
            "baxis": {
             "endlinecolor": "#2a3f5f",
             "gridcolor": "white",
             "linecolor": "white",
             "minorgridcolor": "white",
             "startlinecolor": "#2a3f5f"
            },
            "type": "carpet"
           }
          ],
          "choropleth": [
           {
            "colorbar": {
             "outlinewidth": 0,
             "ticks": ""
            },
            "type": "choropleth"
           }
          ],
          "contour": [
           {
            "colorbar": {
             "outlinewidth": 0,
             "ticks": ""
            },
            "colorscale": [
             [
              0,
              "#0d0887"
             ],
             [
              0.1111111111111111,
              "#46039f"
             ],
             [
              0.2222222222222222,
              "#7201a8"
             ],
             [
              0.3333333333333333,
              "#9c179e"
             ],
             [
              0.4444444444444444,
              "#bd3786"
             ],
             [
              0.5555555555555556,
              "#d8576b"
             ],
             [
              0.6666666666666666,
              "#ed7953"
             ],
             [
              0.7777777777777778,
              "#fb9f3a"
             ],
             [
              0.8888888888888888,
              "#fdca26"
             ],
             [
              1,
              "#f0f921"
             ]
            ],
            "type": "contour"
           }
          ],
          "contourcarpet": [
           {
            "colorbar": {
             "outlinewidth": 0,
             "ticks": ""
            },
            "type": "contourcarpet"
           }
          ],
          "heatmap": [
           {
            "colorbar": {
             "outlinewidth": 0,
             "ticks": ""
            },
            "colorscale": [
             [
              0,
              "#0d0887"
             ],
             [
              0.1111111111111111,
              "#46039f"
             ],
             [
              0.2222222222222222,
              "#7201a8"
             ],
             [
              0.3333333333333333,
              "#9c179e"
             ],
             [
              0.4444444444444444,
              "#bd3786"
             ],
             [
              0.5555555555555556,
              "#d8576b"
             ],
             [
              0.6666666666666666,
              "#ed7953"
             ],
             [
              0.7777777777777778,
              "#fb9f3a"
             ],
             [
              0.8888888888888888,
              "#fdca26"
             ],
             [
              1,
              "#f0f921"
             ]
            ],
            "type": "heatmap"
           }
          ],
          "heatmapgl": [
           {
            "colorbar": {
             "outlinewidth": 0,
             "ticks": ""
            },
            "colorscale": [
             [
              0,
              "#0d0887"
             ],
             [
              0.1111111111111111,
              "#46039f"
             ],
             [
              0.2222222222222222,
              "#7201a8"
             ],
             [
              0.3333333333333333,
              "#9c179e"
             ],
             [
              0.4444444444444444,
              "#bd3786"
             ],
             [
              0.5555555555555556,
              "#d8576b"
             ],
             [
              0.6666666666666666,
              "#ed7953"
             ],
             [
              0.7777777777777778,
              "#fb9f3a"
             ],
             [
              0.8888888888888888,
              "#fdca26"
             ],
             [
              1,
              "#f0f921"
             ]
            ],
            "type": "heatmapgl"
           }
          ],
          "histogram": [
           {
            "marker": {
             "pattern": {
              "fillmode": "overlay",
              "size": 10,
              "solidity": 0.2
             }
            },
            "type": "histogram"
           }
          ],
          "histogram2d": [
           {
            "colorbar": {
             "outlinewidth": 0,
             "ticks": ""
            },
            "colorscale": [
             [
              0,
              "#0d0887"
             ],
             [
              0.1111111111111111,
              "#46039f"
             ],
             [
              0.2222222222222222,
              "#7201a8"
             ],
             [
              0.3333333333333333,
              "#9c179e"
             ],
             [
              0.4444444444444444,
              "#bd3786"
             ],
             [
              0.5555555555555556,
              "#d8576b"
             ],
             [
              0.6666666666666666,
              "#ed7953"
             ],
             [
              0.7777777777777778,
              "#fb9f3a"
             ],
             [
              0.8888888888888888,
              "#fdca26"
             ],
             [
              1,
              "#f0f921"
             ]
            ],
            "type": "histogram2d"
           }
          ],
          "histogram2dcontour": [
           {
            "colorbar": {
             "outlinewidth": 0,
             "ticks": ""
            },
            "colorscale": [
             [
              0,
              "#0d0887"
             ],
             [
              0.1111111111111111,
              "#46039f"
             ],
             [
              0.2222222222222222,
              "#7201a8"
             ],
             [
              0.3333333333333333,
              "#9c179e"
             ],
             [
              0.4444444444444444,
              "#bd3786"
             ],
             [
              0.5555555555555556,
              "#d8576b"
             ],
             [
              0.6666666666666666,
              "#ed7953"
             ],
             [
              0.7777777777777778,
              "#fb9f3a"
             ],
             [
              0.8888888888888888,
              "#fdca26"
             ],
             [
              1,
              "#f0f921"
             ]
            ],
            "type": "histogram2dcontour"
           }
          ],
          "mesh3d": [
           {
            "colorbar": {
             "outlinewidth": 0,
             "ticks": ""
            },
            "type": "mesh3d"
           }
          ],
          "parcoords": [
           {
            "line": {
             "colorbar": {
              "outlinewidth": 0,
              "ticks": ""
             }
            },
            "type": "parcoords"
           }
          ],
          "pie": [
           {
            "automargin": true,
            "type": "pie"
           }
          ],
          "scatter": [
           {
            "fillpattern": {
             "fillmode": "overlay",
             "size": 10,
             "solidity": 0.2
            },
            "type": "scatter"
           }
          ],
          "scatter3d": [
           {
            "line": {
             "colorbar": {
              "outlinewidth": 0,
              "ticks": ""
             }
            },
            "marker": {
             "colorbar": {
              "outlinewidth": 0,
              "ticks": ""
             }
            },
            "type": "scatter3d"
           }
          ],
          "scattercarpet": [
           {
            "marker": {
             "colorbar": {
              "outlinewidth": 0,
              "ticks": ""
             }
            },
            "type": "scattercarpet"
           }
          ],
          "scattergeo": [
           {
            "marker": {
             "colorbar": {
              "outlinewidth": 0,
              "ticks": ""
             }
            },
            "type": "scattergeo"
           }
          ],
          "scattergl": [
           {
            "marker": {
             "colorbar": {
              "outlinewidth": 0,
              "ticks": ""
             }
            },
            "type": "scattergl"
           }
          ],
          "scattermapbox": [
           {
            "marker": {
             "colorbar": {
              "outlinewidth": 0,
              "ticks": ""
             }
            },
            "type": "scattermapbox"
           }
          ],
          "scatterpolar": [
           {
            "marker": {
             "colorbar": {
              "outlinewidth": 0,
              "ticks": ""
             }
            },
            "type": "scatterpolar"
           }
          ],
          "scatterpolargl": [
           {
            "marker": {
             "colorbar": {
              "outlinewidth": 0,
              "ticks": ""
             }
            },
            "type": "scatterpolargl"
           }
          ],
          "scatterternary": [
           {
            "marker": {
             "colorbar": {
              "outlinewidth": 0,
              "ticks": ""
             }
            },
            "type": "scatterternary"
           }
          ],
          "surface": [
           {
            "colorbar": {
             "outlinewidth": 0,
             "ticks": ""
            },
            "colorscale": [
             [
              0,
              "#0d0887"
             ],
             [
              0.1111111111111111,
              "#46039f"
             ],
             [
              0.2222222222222222,
              "#7201a8"
             ],
             [
              0.3333333333333333,
              "#9c179e"
             ],
             [
              0.4444444444444444,
              "#bd3786"
             ],
             [
              0.5555555555555556,
              "#d8576b"
             ],
             [
              0.6666666666666666,
              "#ed7953"
             ],
             [
              0.7777777777777778,
              "#fb9f3a"
             ],
             [
              0.8888888888888888,
              "#fdca26"
             ],
             [
              1,
              "#f0f921"
             ]
            ],
            "type": "surface"
           }
          ],
          "table": [
           {
            "cells": {
             "fill": {
              "color": "#EBF0F8"
             },
             "line": {
              "color": "white"
             }
            },
            "header": {
             "fill": {
              "color": "#C8D4E3"
             },
             "line": {
              "color": "white"
             }
            },
            "type": "table"
           }
          ]
         },
         "layout": {
          "annotationdefaults": {
           "arrowcolor": "#2a3f5f",
           "arrowhead": 0,
           "arrowwidth": 1
          },
          "autotypenumbers": "strict",
          "coloraxis": {
           "colorbar": {
            "outlinewidth": 0,
            "ticks": ""
           }
          },
          "colorscale": {
           "diverging": [
            [
             0,
             "#8e0152"
            ],
            [
             0.1,
             "#c51b7d"
            ],
            [
             0.2,
             "#de77ae"
            ],
            [
             0.3,
             "#f1b6da"
            ],
            [
             0.4,
             "#fde0ef"
            ],
            [
             0.5,
             "#f7f7f7"
            ],
            [
             0.6,
             "#e6f5d0"
            ],
            [
             0.7,
             "#b8e186"
            ],
            [
             0.8,
             "#7fbc41"
            ],
            [
             0.9,
             "#4d9221"
            ],
            [
             1,
             "#276419"
            ]
           ],
           "sequential": [
            [
             0,
             "#0d0887"
            ],
            [
             0.1111111111111111,
             "#46039f"
            ],
            [
             0.2222222222222222,
             "#7201a8"
            ],
            [
             0.3333333333333333,
             "#9c179e"
            ],
            [
             0.4444444444444444,
             "#bd3786"
            ],
            [
             0.5555555555555556,
             "#d8576b"
            ],
            [
             0.6666666666666666,
             "#ed7953"
            ],
            [
             0.7777777777777778,
             "#fb9f3a"
            ],
            [
             0.8888888888888888,
             "#fdca26"
            ],
            [
             1,
             "#f0f921"
            ]
           ],
           "sequentialminus": [
            [
             0,
             "#0d0887"
            ],
            [
             0.1111111111111111,
             "#46039f"
            ],
            [
             0.2222222222222222,
             "#7201a8"
            ],
            [
             0.3333333333333333,
             "#9c179e"
            ],
            [
             0.4444444444444444,
             "#bd3786"
            ],
            [
             0.5555555555555556,
             "#d8576b"
            ],
            [
             0.6666666666666666,
             "#ed7953"
            ],
            [
             0.7777777777777778,
             "#fb9f3a"
            ],
            [
             0.8888888888888888,
             "#fdca26"
            ],
            [
             1,
             "#f0f921"
            ]
           ]
          },
          "colorway": [
           "#636efa",
           "#EF553B",
           "#00cc96",
           "#ab63fa",
           "#FFA15A",
           "#19d3f3",
           "#FF6692",
           "#B6E880",
           "#FF97FF",
           "#FECB52"
          ],
          "font": {
           "color": "#2a3f5f"
          },
          "geo": {
           "bgcolor": "white",
           "lakecolor": "white",
           "landcolor": "#E5ECF6",
           "showlakes": true,
           "showland": true,
           "subunitcolor": "white"
          },
          "hoverlabel": {
           "align": "left"
          },
          "hovermode": "closest",
          "mapbox": {
           "style": "light"
          },
          "paper_bgcolor": "white",
          "plot_bgcolor": "#E5ECF6",
          "polar": {
           "angularaxis": {
            "gridcolor": "white",
            "linecolor": "white",
            "ticks": ""
           },
           "bgcolor": "#E5ECF6",
           "radialaxis": {
            "gridcolor": "white",
            "linecolor": "white",
            "ticks": ""
           }
          },
          "scene": {
           "xaxis": {
            "backgroundcolor": "#E5ECF6",
            "gridcolor": "white",
            "gridwidth": 2,
            "linecolor": "white",
            "showbackground": true,
            "ticks": "",
            "zerolinecolor": "white"
           },
           "yaxis": {
            "backgroundcolor": "#E5ECF6",
            "gridcolor": "white",
            "gridwidth": 2,
            "linecolor": "white",
            "showbackground": true,
            "ticks": "",
            "zerolinecolor": "white"
           },
           "zaxis": {
            "backgroundcolor": "#E5ECF6",
            "gridcolor": "white",
            "gridwidth": 2,
            "linecolor": "white",
            "showbackground": true,
            "ticks": "",
            "zerolinecolor": "white"
           }
          },
          "shapedefaults": {
           "line": {
            "color": "#2a3f5f"
           }
          },
          "ternary": {
           "aaxis": {
            "gridcolor": "white",
            "linecolor": "white",
            "ticks": ""
           },
           "baxis": {
            "gridcolor": "white",
            "linecolor": "white",
            "ticks": ""
           },
           "bgcolor": "#E5ECF6",
           "caxis": {
            "gridcolor": "white",
            "linecolor": "white",
            "ticks": ""
           }
          },
          "title": {
           "x": 0.05
          },
          "xaxis": {
           "automargin": true,
           "gridcolor": "white",
           "linecolor": "white",
           "ticks": "",
           "title": {
            "standoff": 15
           },
           "zerolinecolor": "white",
           "zerolinewidth": 2
          },
          "yaxis": {
           "automargin": true,
           "gridcolor": "white",
           "linecolor": "white",
           "ticks": "",
           "title": {
            "standoff": 15
           },
           "zerolinecolor": "white",
           "zerolinewidth": 2
          }
         }
        },
        "title": {
         "text": "Generation Dispatch Over Time by Technology"
        },
        "xaxis": {
         "anchor": "y",
         "domain": [
          0,
          1
         ],
         "showgrid": true,
         "tickangle": -45,
         "tickfont": {
          "size": 10
         },
         "tickvals": [
          2024,
          2025,
          2026,
          2027,
          2028,
          2029,
          2030,
          2031,
          2032,
          2033,
          2034,
          2035,
          2036,
          2037
         ],
         "title": {
          "text": "Timestamp"
         }
        },
        "yaxis": {
         "anchor": "x",
         "domain": [
          0,
          1
         ],
         "title": {
          "text": "Dispatched Generation (TWh)"
         }
        }
       }
      }
     },
     "metadata": {},
     "output_type": "display_data"
    }
   ],
   "source": [
    "import pandas as pd\n",
    "esc0_gen = pd.read_csv('../../../data/XM-API/Plan/gen_per_res_vs_marg_cost/Esc0.csv')\n",
    "esc0_gen['Energy_GWh_typical_yr'] = esc0_gen['Energy_GWh_typical_yr'] / 1000\n",
    "# Create a stacked bar plot\n",
    "fig = px.bar(\n",
    "    esc0_gen,                        # DataFrame\n",
    "    x='year',                   # X-axis based on timestamp\n",
    "    y='Energy_GWh_typical_yr',              # Y-axis value\n",
    "    color='Tech',                # Stack bars based on 'gen_tech'\n",
    "    title='Generation Dispatch Over Time by Technology',\n",
    "    labels={'Energy_GWh_typical_yr': 'Dispatched Generation (MW)', 'year': 'Year'}\n",
    ")\n",
    "\n",
    "unique_years = esc0_gen['year'].unique()\n",
    "# Update layout for better readability if needed\n",
    "fig.update_layout(barmode='stack', xaxis_title=\"Timestamp\", xaxis=dict(\n",
    "        tickvals=unique_years,\n",
    "        tickangle=-45,\n",
    "        tickfont=dict(size=10),  # Adjust the font size for better fit\n",
    "        showgrid=True  # Show grid to help align the labels visually\n",
    "    ),\n",
    "                  yaxis_title=\"Dispatched Generation (TWh)\")\n",
    "fig.show()"
   ]
  },
  {
   "cell_type": "code",
   "execution_count": 39,
   "metadata": {},
   "outputs": [
    {
     "data": {
      "application/vnd.plotly.v1+json": {
       "config": {
        "plotlyServerURL": "https://plot.ly"
       },
       "data": [
        {
         "alignmentgroup": "True",
         "hovertemplate": "Year=%{x}<br>Annual Emissions (MtCO2)=%{text}<extra></extra>",
         "legendgroup": "",
         "marker": {
          "color": "#636efa",
          "pattern": {
           "shape": ""
          }
         },
         "name": "",
         "offsetgroup": "",
         "orientation": "v",
         "showlegend": false,
         "text": [
          11.7531,
          12.2563
         ],
         "textposition": "outside",
         "texttemplate": "%{text:.2f}",
         "type": "bar",
         "x": [
          2023,
          2024
         ],
         "xaxis": "x",
         "y": [
          11.7531,
          12.2563
         ],
         "yaxis": "y"
        }
       ],
       "layout": {
        "barmode": "relative",
        "legend": {
         "tracegroupgap": 0
        },
        "margin": {
         "t": 60
        },
        "template": {
         "data": {
          "bar": [
           {
            "error_x": {
             "color": "#2a3f5f"
            },
            "error_y": {
             "color": "#2a3f5f"
            },
            "marker": {
             "line": {
              "color": "#E5ECF6",
              "width": 0.5
             },
             "pattern": {
              "fillmode": "overlay",
              "size": 10,
              "solidity": 0.2
             }
            },
            "type": "bar"
           }
          ],
          "barpolar": [
           {
            "marker": {
             "line": {
              "color": "#E5ECF6",
              "width": 0.5
             },
             "pattern": {
              "fillmode": "overlay",
              "size": 10,
              "solidity": 0.2
             }
            },
            "type": "barpolar"
           }
          ],
          "carpet": [
           {
            "aaxis": {
             "endlinecolor": "#2a3f5f",
             "gridcolor": "white",
             "linecolor": "white",
             "minorgridcolor": "white",
             "startlinecolor": "#2a3f5f"
            },
            "baxis": {
             "endlinecolor": "#2a3f5f",
             "gridcolor": "white",
             "linecolor": "white",
             "minorgridcolor": "white",
             "startlinecolor": "#2a3f5f"
            },
            "type": "carpet"
           }
          ],
          "choropleth": [
           {
            "colorbar": {
             "outlinewidth": 0,
             "ticks": ""
            },
            "type": "choropleth"
           }
          ],
          "contour": [
           {
            "colorbar": {
             "outlinewidth": 0,
             "ticks": ""
            },
            "colorscale": [
             [
              0,
              "#0d0887"
             ],
             [
              0.1111111111111111,
              "#46039f"
             ],
             [
              0.2222222222222222,
              "#7201a8"
             ],
             [
              0.3333333333333333,
              "#9c179e"
             ],
             [
              0.4444444444444444,
              "#bd3786"
             ],
             [
              0.5555555555555556,
              "#d8576b"
             ],
             [
              0.6666666666666666,
              "#ed7953"
             ],
             [
              0.7777777777777778,
              "#fb9f3a"
             ],
             [
              0.8888888888888888,
              "#fdca26"
             ],
             [
              1,
              "#f0f921"
             ]
            ],
            "type": "contour"
           }
          ],
          "contourcarpet": [
           {
            "colorbar": {
             "outlinewidth": 0,
             "ticks": ""
            },
            "type": "contourcarpet"
           }
          ],
          "heatmap": [
           {
            "colorbar": {
             "outlinewidth": 0,
             "ticks": ""
            },
            "colorscale": [
             [
              0,
              "#0d0887"
             ],
             [
              0.1111111111111111,
              "#46039f"
             ],
             [
              0.2222222222222222,
              "#7201a8"
             ],
             [
              0.3333333333333333,
              "#9c179e"
             ],
             [
              0.4444444444444444,
              "#bd3786"
             ],
             [
              0.5555555555555556,
              "#d8576b"
             ],
             [
              0.6666666666666666,
              "#ed7953"
             ],
             [
              0.7777777777777778,
              "#fb9f3a"
             ],
             [
              0.8888888888888888,
              "#fdca26"
             ],
             [
              1,
              "#f0f921"
             ]
            ],
            "type": "heatmap"
           }
          ],
          "heatmapgl": [
           {
            "colorbar": {
             "outlinewidth": 0,
             "ticks": ""
            },
            "colorscale": [
             [
              0,
              "#0d0887"
             ],
             [
              0.1111111111111111,
              "#46039f"
             ],
             [
              0.2222222222222222,
              "#7201a8"
             ],
             [
              0.3333333333333333,
              "#9c179e"
             ],
             [
              0.4444444444444444,
              "#bd3786"
             ],
             [
              0.5555555555555556,
              "#d8576b"
             ],
             [
              0.6666666666666666,
              "#ed7953"
             ],
             [
              0.7777777777777778,
              "#fb9f3a"
             ],
             [
              0.8888888888888888,
              "#fdca26"
             ],
             [
              1,
              "#f0f921"
             ]
            ],
            "type": "heatmapgl"
           }
          ],
          "histogram": [
           {
            "marker": {
             "pattern": {
              "fillmode": "overlay",
              "size": 10,
              "solidity": 0.2
             }
            },
            "type": "histogram"
           }
          ],
          "histogram2d": [
           {
            "colorbar": {
             "outlinewidth": 0,
             "ticks": ""
            },
            "colorscale": [
             [
              0,
              "#0d0887"
             ],
             [
              0.1111111111111111,
              "#46039f"
             ],
             [
              0.2222222222222222,
              "#7201a8"
             ],
             [
              0.3333333333333333,
              "#9c179e"
             ],
             [
              0.4444444444444444,
              "#bd3786"
             ],
             [
              0.5555555555555556,
              "#d8576b"
             ],
             [
              0.6666666666666666,
              "#ed7953"
             ],
             [
              0.7777777777777778,
              "#fb9f3a"
             ],
             [
              0.8888888888888888,
              "#fdca26"
             ],
             [
              1,
              "#f0f921"
             ]
            ],
            "type": "histogram2d"
           }
          ],
          "histogram2dcontour": [
           {
            "colorbar": {
             "outlinewidth": 0,
             "ticks": ""
            },
            "colorscale": [
             [
              0,
              "#0d0887"
             ],
             [
              0.1111111111111111,
              "#46039f"
             ],
             [
              0.2222222222222222,
              "#7201a8"
             ],
             [
              0.3333333333333333,
              "#9c179e"
             ],
             [
              0.4444444444444444,
              "#bd3786"
             ],
             [
              0.5555555555555556,
              "#d8576b"
             ],
             [
              0.6666666666666666,
              "#ed7953"
             ],
             [
              0.7777777777777778,
              "#fb9f3a"
             ],
             [
              0.8888888888888888,
              "#fdca26"
             ],
             [
              1,
              "#f0f921"
             ]
            ],
            "type": "histogram2dcontour"
           }
          ],
          "mesh3d": [
           {
            "colorbar": {
             "outlinewidth": 0,
             "ticks": ""
            },
            "type": "mesh3d"
           }
          ],
          "parcoords": [
           {
            "line": {
             "colorbar": {
              "outlinewidth": 0,
              "ticks": ""
             }
            },
            "type": "parcoords"
           }
          ],
          "pie": [
           {
            "automargin": true,
            "type": "pie"
           }
          ],
          "scatter": [
           {
            "fillpattern": {
             "fillmode": "overlay",
             "size": 10,
             "solidity": 0.2
            },
            "type": "scatter"
           }
          ],
          "scatter3d": [
           {
            "line": {
             "colorbar": {
              "outlinewidth": 0,
              "ticks": ""
             }
            },
            "marker": {
             "colorbar": {
              "outlinewidth": 0,
              "ticks": ""
             }
            },
            "type": "scatter3d"
           }
          ],
          "scattercarpet": [
           {
            "marker": {
             "colorbar": {
              "outlinewidth": 0,
              "ticks": ""
             }
            },
            "type": "scattercarpet"
           }
          ],
          "scattergeo": [
           {
            "marker": {
             "colorbar": {
              "outlinewidth": 0,
              "ticks": ""
             }
            },
            "type": "scattergeo"
           }
          ],
          "scattergl": [
           {
            "marker": {
             "colorbar": {
              "outlinewidth": 0,
              "ticks": ""
             }
            },
            "type": "scattergl"
           }
          ],
          "scattermapbox": [
           {
            "marker": {
             "colorbar": {
              "outlinewidth": 0,
              "ticks": ""
             }
            },
            "type": "scattermapbox"
           }
          ],
          "scatterpolar": [
           {
            "marker": {
             "colorbar": {
              "outlinewidth": 0,
              "ticks": ""
             }
            },
            "type": "scatterpolar"
           }
          ],
          "scatterpolargl": [
           {
            "marker": {
             "colorbar": {
              "outlinewidth": 0,
              "ticks": ""
             }
            },
            "type": "scatterpolargl"
           }
          ],
          "scatterternary": [
           {
            "marker": {
             "colorbar": {
              "outlinewidth": 0,
              "ticks": ""
             }
            },
            "type": "scatterternary"
           }
          ],
          "surface": [
           {
            "colorbar": {
             "outlinewidth": 0,
             "ticks": ""
            },
            "colorscale": [
             [
              0,
              "#0d0887"
             ],
             [
              0.1111111111111111,
              "#46039f"
             ],
             [
              0.2222222222222222,
              "#7201a8"
             ],
             [
              0.3333333333333333,
              "#9c179e"
             ],
             [
              0.4444444444444444,
              "#bd3786"
             ],
             [
              0.5555555555555556,
              "#d8576b"
             ],
             [
              0.6666666666666666,
              "#ed7953"
             ],
             [
              0.7777777777777778,
              "#fb9f3a"
             ],
             [
              0.8888888888888888,
              "#fdca26"
             ],
             [
              1,
              "#f0f921"
             ]
            ],
            "type": "surface"
           }
          ],
          "table": [
           {
            "cells": {
             "fill": {
              "color": "#EBF0F8"
             },
             "line": {
              "color": "white"
             }
            },
            "header": {
             "fill": {
              "color": "#C8D4E3"
             },
             "line": {
              "color": "white"
             }
            },
            "type": "table"
           }
          ]
         },
         "layout": {
          "annotationdefaults": {
           "arrowcolor": "#2a3f5f",
           "arrowhead": 0,
           "arrowwidth": 1
          },
          "autotypenumbers": "strict",
          "coloraxis": {
           "colorbar": {
            "outlinewidth": 0,
            "ticks": ""
           }
          },
          "colorscale": {
           "diverging": [
            [
             0,
             "#8e0152"
            ],
            [
             0.1,
             "#c51b7d"
            ],
            [
             0.2,
             "#de77ae"
            ],
            [
             0.3,
             "#f1b6da"
            ],
            [
             0.4,
             "#fde0ef"
            ],
            [
             0.5,
             "#f7f7f7"
            ],
            [
             0.6,
             "#e6f5d0"
            ],
            [
             0.7,
             "#b8e186"
            ],
            [
             0.8,
             "#7fbc41"
            ],
            [
             0.9,
             "#4d9221"
            ],
            [
             1,
             "#276419"
            ]
           ],
           "sequential": [
            [
             0,
             "#0d0887"
            ],
            [
             0.1111111111111111,
             "#46039f"
            ],
            [
             0.2222222222222222,
             "#7201a8"
            ],
            [
             0.3333333333333333,
             "#9c179e"
            ],
            [
             0.4444444444444444,
             "#bd3786"
            ],
            [
             0.5555555555555556,
             "#d8576b"
            ],
            [
             0.6666666666666666,
             "#ed7953"
            ],
            [
             0.7777777777777778,
             "#fb9f3a"
            ],
            [
             0.8888888888888888,
             "#fdca26"
            ],
            [
             1,
             "#f0f921"
            ]
           ],
           "sequentialminus": [
            [
             0,
             "#0d0887"
            ],
            [
             0.1111111111111111,
             "#46039f"
            ],
            [
             0.2222222222222222,
             "#7201a8"
            ],
            [
             0.3333333333333333,
             "#9c179e"
            ],
            [
             0.4444444444444444,
             "#bd3786"
            ],
            [
             0.5555555555555556,
             "#d8576b"
            ],
            [
             0.6666666666666666,
             "#ed7953"
            ],
            [
             0.7777777777777778,
             "#fb9f3a"
            ],
            [
             0.8888888888888888,
             "#fdca26"
            ],
            [
             1,
             "#f0f921"
            ]
           ]
          },
          "colorway": [
           "#636efa",
           "#EF553B",
           "#00cc96",
           "#ab63fa",
           "#FFA15A",
           "#19d3f3",
           "#FF6692",
           "#B6E880",
           "#FF97FF",
           "#FECB52"
          ],
          "font": {
           "color": "#2a3f5f"
          },
          "geo": {
           "bgcolor": "white",
           "lakecolor": "white",
           "landcolor": "#E5ECF6",
           "showlakes": true,
           "showland": true,
           "subunitcolor": "white"
          },
          "hoverlabel": {
           "align": "left"
          },
          "hovermode": "closest",
          "mapbox": {
           "style": "light"
          },
          "paper_bgcolor": "white",
          "plot_bgcolor": "#E5ECF6",
          "polar": {
           "angularaxis": {
            "gridcolor": "white",
            "linecolor": "white",
            "ticks": ""
           },
           "bgcolor": "#E5ECF6",
           "radialaxis": {
            "gridcolor": "white",
            "linecolor": "white",
            "ticks": ""
           }
          },
          "scene": {
           "xaxis": {
            "backgroundcolor": "#E5ECF6",
            "gridcolor": "white",
            "gridwidth": 2,
            "linecolor": "white",
            "showbackground": true,
            "ticks": "",
            "zerolinecolor": "white"
           },
           "yaxis": {
            "backgroundcolor": "#E5ECF6",
            "gridcolor": "white",
            "gridwidth": 2,
            "linecolor": "white",
            "showbackground": true,
            "ticks": "",
            "zerolinecolor": "white"
           },
           "zaxis": {
            "backgroundcolor": "#E5ECF6",
            "gridcolor": "white",
            "gridwidth": 2,
            "linecolor": "white",
            "showbackground": true,
            "ticks": "",
            "zerolinecolor": "white"
           }
          },
          "shapedefaults": {
           "line": {
            "color": "#2a3f5f"
           }
          },
          "ternary": {
           "aaxis": {
            "gridcolor": "white",
            "linecolor": "white",
            "ticks": ""
           },
           "baxis": {
            "gridcolor": "white",
            "linecolor": "white",
            "ticks": ""
           },
           "bgcolor": "#E5ECF6",
           "caxis": {
            "gridcolor": "white",
            "linecolor": "white",
            "ticks": ""
           }
          },
          "title": {
           "x": 0.05
          },
          "xaxis": {
           "automargin": true,
           "gridcolor": "white",
           "linecolor": "white",
           "ticks": "",
           "title": {
            "standoff": 15
           },
           "zerolinecolor": "white",
           "zerolinewidth": 2
          },
          "yaxis": {
           "automargin": true,
           "gridcolor": "white",
           "linecolor": "white",
           "ticks": "",
           "title": {
            "standoff": 15
           },
           "zerolinecolor": "white",
           "zerolinewidth": 2
          }
         }
        },
        "xaxis": {
         "anchor": "y",
         "domain": [
          0,
          1
         ],
         "tickvals": [
          2023,
          2024
         ],
         "title": {
          "text": "Year"
         }
        },
        "yaxis": {
         "anchor": "x",
         "domain": [
          0,
          1
         ],
         "title": {
          "text": "Annual Emissions (MtCO2)"
         }
        }
       }
      }
     },
     "metadata": {},
     "output_type": "display_data"
    }
   ],
   "source": [
    "import pandas as pd\n",
    "import plotly.express as px\n",
    "\n",
    "model_outputs_path = '../../../model/outputs/'\n",
    "\n",
    "# Cargar el archivo CSV\n",
    "emissions = pd.read_csv(model_outputs_path + 'emissions.csv')\n",
    "# Filtrar las columnas necesarias\n",
    "emissions = emissions[['PERIOD', 'AnnualEmissions_tCO2_per_yr']]\n",
    "# Convertir las emisiones a millones\n",
    "emissions['AnnualEmissions_tCO2_per_yr'] = emissions['AnnualEmissions_tCO2_per_yr'] / 1000000\n",
    "# Crear el gráfico de barras interactivo\n",
    "fig = px.bar(\n",
    "    emissions, x='PERIOD', y='AnnualEmissions_tCO2_per_yr',\n",
    "    labels={'AnnualEmissions_tCO2_per_yr': 'Annual Emissions (MtCO2)', 'PERIOD': 'Year'},\n",
    "    text='AnnualEmissions_tCO2_per_yr')\n",
    "# Mejorar la visualización\n",
    "fig.update_traces(texttemplate='%{text:.2f}', textposition='outside')\n",
    "fig.update_layout(xaxis=dict(tickvals=emissions['PERIOD'].to_list()))\n",
    "fig.show()"
   ]
  },
  {
   "cell_type": "code",
   "execution_count": 40,
   "metadata": {},
   "outputs": [
    {
     "data": {
      "application/vnd.plotly.v1+json": {
       "config": {
        "plotlyServerURL": "https://plot.ly"
       },
       "data": [
        {
         "alignmentgroup": "True",
         "hovertemplate": "Year=%{x}<br>Annual Emissions (MtCO2)=%{text}<extra></extra>",
         "legendgroup": "",
         "marker": {
          "color": "#636efa",
          "pattern": {
           "shape": ""
          }
         },
         "name": "",
         "offsetgroup": "",
         "orientation": "v",
         "showlegend": false,
         "text": [
          7.02,
          7.59,
          8.84,
          8.99,
          9.45,
          10.24,
          11.64,
          12.91,
          15.86,
          17.89,
          19.15,
          20.56,
          21.79,
          22.75
         ],
         "textposition": "outside",
         "texttemplate": "%{text:.2f}",
         "type": "bar",
         "x": [
          2024,
          2025,
          2026,
          2027,
          2028,
          2029,
          2030,
          2031,
          2032,
          2033,
          2034,
          2035,
          2036,
          2037
         ],
         "xaxis": "x",
         "y": [
          7.02,
          7.59,
          8.84,
          8.99,
          9.45,
          10.24,
          11.64,
          12.91,
          15.86,
          17.89,
          19.15,
          20.56,
          21.79,
          22.75
         ],
         "yaxis": "y"
        }
       ],
       "layout": {
        "barmode": "relative",
        "legend": {
         "tracegroupgap": 0
        },
        "margin": {
         "t": 60
        },
        "template": {
         "data": {
          "bar": [
           {
            "error_x": {
             "color": "#2a3f5f"
            },
            "error_y": {
             "color": "#2a3f5f"
            },
            "marker": {
             "line": {
              "color": "#E5ECF6",
              "width": 0.5
             },
             "pattern": {
              "fillmode": "overlay",
              "size": 10,
              "solidity": 0.2
             }
            },
            "type": "bar"
           }
          ],
          "barpolar": [
           {
            "marker": {
             "line": {
              "color": "#E5ECF6",
              "width": 0.5
             },
             "pattern": {
              "fillmode": "overlay",
              "size": 10,
              "solidity": 0.2
             }
            },
            "type": "barpolar"
           }
          ],
          "carpet": [
           {
            "aaxis": {
             "endlinecolor": "#2a3f5f",
             "gridcolor": "white",
             "linecolor": "white",
             "minorgridcolor": "white",
             "startlinecolor": "#2a3f5f"
            },
            "baxis": {
             "endlinecolor": "#2a3f5f",
             "gridcolor": "white",
             "linecolor": "white",
             "minorgridcolor": "white",
             "startlinecolor": "#2a3f5f"
            },
            "type": "carpet"
           }
          ],
          "choropleth": [
           {
            "colorbar": {
             "outlinewidth": 0,
             "ticks": ""
            },
            "type": "choropleth"
           }
          ],
          "contour": [
           {
            "colorbar": {
             "outlinewidth": 0,
             "ticks": ""
            },
            "colorscale": [
             [
              0,
              "#0d0887"
             ],
             [
              0.1111111111111111,
              "#46039f"
             ],
             [
              0.2222222222222222,
              "#7201a8"
             ],
             [
              0.3333333333333333,
              "#9c179e"
             ],
             [
              0.4444444444444444,
              "#bd3786"
             ],
             [
              0.5555555555555556,
              "#d8576b"
             ],
             [
              0.6666666666666666,
              "#ed7953"
             ],
             [
              0.7777777777777778,
              "#fb9f3a"
             ],
             [
              0.8888888888888888,
              "#fdca26"
             ],
             [
              1,
              "#f0f921"
             ]
            ],
            "type": "contour"
           }
          ],
          "contourcarpet": [
           {
            "colorbar": {
             "outlinewidth": 0,
             "ticks": ""
            },
            "type": "contourcarpet"
           }
          ],
          "heatmap": [
           {
            "colorbar": {
             "outlinewidth": 0,
             "ticks": ""
            },
            "colorscale": [
             [
              0,
              "#0d0887"
             ],
             [
              0.1111111111111111,
              "#46039f"
             ],
             [
              0.2222222222222222,
              "#7201a8"
             ],
             [
              0.3333333333333333,
              "#9c179e"
             ],
             [
              0.4444444444444444,
              "#bd3786"
             ],
             [
              0.5555555555555556,
              "#d8576b"
             ],
             [
              0.6666666666666666,
              "#ed7953"
             ],
             [
              0.7777777777777778,
              "#fb9f3a"
             ],
             [
              0.8888888888888888,
              "#fdca26"
             ],
             [
              1,
              "#f0f921"
             ]
            ],
            "type": "heatmap"
           }
          ],
          "heatmapgl": [
           {
            "colorbar": {
             "outlinewidth": 0,
             "ticks": ""
            },
            "colorscale": [
             [
              0,
              "#0d0887"
             ],
             [
              0.1111111111111111,
              "#46039f"
             ],
             [
              0.2222222222222222,
              "#7201a8"
             ],
             [
              0.3333333333333333,
              "#9c179e"
             ],
             [
              0.4444444444444444,
              "#bd3786"
             ],
             [
              0.5555555555555556,
              "#d8576b"
             ],
             [
              0.6666666666666666,
              "#ed7953"
             ],
             [
              0.7777777777777778,
              "#fb9f3a"
             ],
             [
              0.8888888888888888,
              "#fdca26"
             ],
             [
              1,
              "#f0f921"
             ]
            ],
            "type": "heatmapgl"
           }
          ],
          "histogram": [
           {
            "marker": {
             "pattern": {
              "fillmode": "overlay",
              "size": 10,
              "solidity": 0.2
             }
            },
            "type": "histogram"
           }
          ],
          "histogram2d": [
           {
            "colorbar": {
             "outlinewidth": 0,
             "ticks": ""
            },
            "colorscale": [
             [
              0,
              "#0d0887"
             ],
             [
              0.1111111111111111,
              "#46039f"
             ],
             [
              0.2222222222222222,
              "#7201a8"
             ],
             [
              0.3333333333333333,
              "#9c179e"
             ],
             [
              0.4444444444444444,
              "#bd3786"
             ],
             [
              0.5555555555555556,
              "#d8576b"
             ],
             [
              0.6666666666666666,
              "#ed7953"
             ],
             [
              0.7777777777777778,
              "#fb9f3a"
             ],
             [
              0.8888888888888888,
              "#fdca26"
             ],
             [
              1,
              "#f0f921"
             ]
            ],
            "type": "histogram2d"
           }
          ],
          "histogram2dcontour": [
           {
            "colorbar": {
             "outlinewidth": 0,
             "ticks": ""
            },
            "colorscale": [
             [
              0,
              "#0d0887"
             ],
             [
              0.1111111111111111,
              "#46039f"
             ],
             [
              0.2222222222222222,
              "#7201a8"
             ],
             [
              0.3333333333333333,
              "#9c179e"
             ],
             [
              0.4444444444444444,
              "#bd3786"
             ],
             [
              0.5555555555555556,
              "#d8576b"
             ],
             [
              0.6666666666666666,
              "#ed7953"
             ],
             [
              0.7777777777777778,
              "#fb9f3a"
             ],
             [
              0.8888888888888888,
              "#fdca26"
             ],
             [
              1,
              "#f0f921"
             ]
            ],
            "type": "histogram2dcontour"
           }
          ],
          "mesh3d": [
           {
            "colorbar": {
             "outlinewidth": 0,
             "ticks": ""
            },
            "type": "mesh3d"
           }
          ],
          "parcoords": [
           {
            "line": {
             "colorbar": {
              "outlinewidth": 0,
              "ticks": ""
             }
            },
            "type": "parcoords"
           }
          ],
          "pie": [
           {
            "automargin": true,
            "type": "pie"
           }
          ],
          "scatter": [
           {
            "fillpattern": {
             "fillmode": "overlay",
             "size": 10,
             "solidity": 0.2
            },
            "type": "scatter"
           }
          ],
          "scatter3d": [
           {
            "line": {
             "colorbar": {
              "outlinewidth": 0,
              "ticks": ""
             }
            },
            "marker": {
             "colorbar": {
              "outlinewidth": 0,
              "ticks": ""
             }
            },
            "type": "scatter3d"
           }
          ],
          "scattercarpet": [
           {
            "marker": {
             "colorbar": {
              "outlinewidth": 0,
              "ticks": ""
             }
            },
            "type": "scattercarpet"
           }
          ],
          "scattergeo": [
           {
            "marker": {
             "colorbar": {
              "outlinewidth": 0,
              "ticks": ""
             }
            },
            "type": "scattergeo"
           }
          ],
          "scattergl": [
           {
            "marker": {
             "colorbar": {
              "outlinewidth": 0,
              "ticks": ""
             }
            },
            "type": "scattergl"
           }
          ],
          "scattermapbox": [
           {
            "marker": {
             "colorbar": {
              "outlinewidth": 0,
              "ticks": ""
             }
            },
            "type": "scattermapbox"
           }
          ],
          "scatterpolar": [
           {
            "marker": {
             "colorbar": {
              "outlinewidth": 0,
              "ticks": ""
             }
            },
            "type": "scatterpolar"
           }
          ],
          "scatterpolargl": [
           {
            "marker": {
             "colorbar": {
              "outlinewidth": 0,
              "ticks": ""
             }
            },
            "type": "scatterpolargl"
           }
          ],
          "scatterternary": [
           {
            "marker": {
             "colorbar": {
              "outlinewidth": 0,
              "ticks": ""
             }
            },
            "type": "scatterternary"
           }
          ],
          "surface": [
           {
            "colorbar": {
             "outlinewidth": 0,
             "ticks": ""
            },
            "colorscale": [
             [
              0,
              "#0d0887"
             ],
             [
              0.1111111111111111,
              "#46039f"
             ],
             [
              0.2222222222222222,
              "#7201a8"
             ],
             [
              0.3333333333333333,
              "#9c179e"
             ],
             [
              0.4444444444444444,
              "#bd3786"
             ],
             [
              0.5555555555555556,
              "#d8576b"
             ],
             [
              0.6666666666666666,
              "#ed7953"
             ],
             [
              0.7777777777777778,
              "#fb9f3a"
             ],
             [
              0.8888888888888888,
              "#fdca26"
             ],
             [
              1,
              "#f0f921"
             ]
            ],
            "type": "surface"
           }
          ],
          "table": [
           {
            "cells": {
             "fill": {
              "color": "#EBF0F8"
             },
             "line": {
              "color": "white"
             }
            },
            "header": {
             "fill": {
              "color": "#C8D4E3"
             },
             "line": {
              "color": "white"
             }
            },
            "type": "table"
           }
          ]
         },
         "layout": {
          "annotationdefaults": {
           "arrowcolor": "#2a3f5f",
           "arrowhead": 0,
           "arrowwidth": 1
          },
          "autotypenumbers": "strict",
          "coloraxis": {
           "colorbar": {
            "outlinewidth": 0,
            "ticks": ""
           }
          },
          "colorscale": {
           "diverging": [
            [
             0,
             "#8e0152"
            ],
            [
             0.1,
             "#c51b7d"
            ],
            [
             0.2,
             "#de77ae"
            ],
            [
             0.3,
             "#f1b6da"
            ],
            [
             0.4,
             "#fde0ef"
            ],
            [
             0.5,
             "#f7f7f7"
            ],
            [
             0.6,
             "#e6f5d0"
            ],
            [
             0.7,
             "#b8e186"
            ],
            [
             0.8,
             "#7fbc41"
            ],
            [
             0.9,
             "#4d9221"
            ],
            [
             1,
             "#276419"
            ]
           ],
           "sequential": [
            [
             0,
             "#0d0887"
            ],
            [
             0.1111111111111111,
             "#46039f"
            ],
            [
             0.2222222222222222,
             "#7201a8"
            ],
            [
             0.3333333333333333,
             "#9c179e"
            ],
            [
             0.4444444444444444,
             "#bd3786"
            ],
            [
             0.5555555555555556,
             "#d8576b"
            ],
            [
             0.6666666666666666,
             "#ed7953"
            ],
            [
             0.7777777777777778,
             "#fb9f3a"
            ],
            [
             0.8888888888888888,
             "#fdca26"
            ],
            [
             1,
             "#f0f921"
            ]
           ],
           "sequentialminus": [
            [
             0,
             "#0d0887"
            ],
            [
             0.1111111111111111,
             "#46039f"
            ],
            [
             0.2222222222222222,
             "#7201a8"
            ],
            [
             0.3333333333333333,
             "#9c179e"
            ],
            [
             0.4444444444444444,
             "#bd3786"
            ],
            [
             0.5555555555555556,
             "#d8576b"
            ],
            [
             0.6666666666666666,
             "#ed7953"
            ],
            [
             0.7777777777777778,
             "#fb9f3a"
            ],
            [
             0.8888888888888888,
             "#fdca26"
            ],
            [
             1,
             "#f0f921"
            ]
           ]
          },
          "colorway": [
           "#636efa",
           "#EF553B",
           "#00cc96",
           "#ab63fa",
           "#FFA15A",
           "#19d3f3",
           "#FF6692",
           "#B6E880",
           "#FF97FF",
           "#FECB52"
          ],
          "font": {
           "color": "#2a3f5f"
          },
          "geo": {
           "bgcolor": "white",
           "lakecolor": "white",
           "landcolor": "#E5ECF6",
           "showlakes": true,
           "showland": true,
           "subunitcolor": "white"
          },
          "hoverlabel": {
           "align": "left"
          },
          "hovermode": "closest",
          "mapbox": {
           "style": "light"
          },
          "paper_bgcolor": "white",
          "plot_bgcolor": "#E5ECF6",
          "polar": {
           "angularaxis": {
            "gridcolor": "white",
            "linecolor": "white",
            "ticks": ""
           },
           "bgcolor": "#E5ECF6",
           "radialaxis": {
            "gridcolor": "white",
            "linecolor": "white",
            "ticks": ""
           }
          },
          "scene": {
           "xaxis": {
            "backgroundcolor": "#E5ECF6",
            "gridcolor": "white",
            "gridwidth": 2,
            "linecolor": "white",
            "showbackground": true,
            "ticks": "",
            "zerolinecolor": "white"
           },
           "yaxis": {
            "backgroundcolor": "#E5ECF6",
            "gridcolor": "white",
            "gridwidth": 2,
            "linecolor": "white",
            "showbackground": true,
            "ticks": "",
            "zerolinecolor": "white"
           },
           "zaxis": {
            "backgroundcolor": "#E5ECF6",
            "gridcolor": "white",
            "gridwidth": 2,
            "linecolor": "white",
            "showbackground": true,
            "ticks": "",
            "zerolinecolor": "white"
           }
          },
          "shapedefaults": {
           "line": {
            "color": "#2a3f5f"
           }
          },
          "ternary": {
           "aaxis": {
            "gridcolor": "white",
            "linecolor": "white",
            "ticks": ""
           },
           "baxis": {
            "gridcolor": "white",
            "linecolor": "white",
            "ticks": ""
           },
           "bgcolor": "#E5ECF6",
           "caxis": {
            "gridcolor": "white",
            "linecolor": "white",
            "ticks": ""
           }
          },
          "title": {
           "x": 0.05
          },
          "xaxis": {
           "automargin": true,
           "gridcolor": "white",
           "linecolor": "white",
           "ticks": "",
           "title": {
            "standoff": 15
           },
           "zerolinecolor": "white",
           "zerolinewidth": 2
          },
          "yaxis": {
           "automargin": true,
           "gridcolor": "white",
           "linecolor": "white",
           "ticks": "",
           "title": {
            "standoff": 15
           },
           "zerolinecolor": "white",
           "zerolinewidth": 2
          }
         }
        },
        "xaxis": {
         "anchor": "y",
         "domain": [
          0,
          1
         ],
         "tickvals": [
          2023,
          2024
         ],
         "title": {
          "text": "Year"
         }
        },
        "yaxis": {
         "anchor": "x",
         "domain": [
          0,
          1
         ],
         "title": {
          "text": "Annual Emissions (MtCO2)"
         }
        }
       }
      }
     },
     "metadata": {},
     "output_type": "display_data"
    }
   ],
   "source": [
    "import pandas as pd\n",
    "esc_ems = pd.read_csv('../../../data/XM-API/Plan/emissions/esc0.csv')\n",
    "fig = px.bar(\n",
    "    esc_ems, x='PERIOD', y='AnnualEmissions_tCO2_per_yr',\n",
    "    labels={'AnnualEmissions_tCO2_per_yr': 'Annual Emissions (MtCO2)', 'PERIOD': 'Year'},\n",
    "    text='AnnualEmissions_tCO2_per_yr')\n",
    "# Mejorar la visualización\n",
    "fig.update_traces(texttemplate='%{text:.2f}', textposition='outside')\n",
    "fig.update_layout(xaxis=dict(tickvals=emissions['PERIOD'].to_list()))\n",
    "fig.show()"
   ]
  },
  {
   "cell_type": "code",
   "execution_count": 41,
   "metadata": {},
   "outputs": [
    {
     "data": {
      "application/vnd.plotly.v1+json": {
       "config": {
        "plotlyServerURL": "https://plot.ly"
       },
       "data": [
        {
         "domain": {
          "x": [
           0,
           0.45
          ],
          "y": [
           0,
           1
          ]
         },
         "hovertemplate": "gen_tech=%{label}<br>BuildGen=%{value}<extra></extra>",
         "labels": [
          "Eolica",
          "Hidro",
          "Menores",
          "Thermal",
          "pv_solar"
         ],
         "legendgroup": "",
         "name": "",
         "showlegend": true,
         "type": "pie",
         "values": [
          50.42,
          12988.792,
          184.76,
          5821.5,
          752.17
         ]
        },
        {
         "domain": {
          "x": [
           0.55,
           1
          ],
          "y": [
           0,
           1
          ]
         },
         "hovertemplate": "gen_tech=%{label}<br>BuildGen=%{value}<extra></extra>",
         "labels": [
          "Eolica",
          "Hidro",
          "Menores",
          "Thermal",
          "pv_solar"
         ],
         "legendgroup": "",
         "name": "",
         "showlegend": false,
         "type": "pie",
         "values": [
          1247.42,
          12988.792,
          184.76,
          5873.5,
          3195.0699999999997
         ]
        }
       ],
       "layout": {
        "annotations": [
         {
          "font": {
           "size": 16
          },
          "showarrow": false,
          "text": "2023",
          "x": 0.225,
          "xanchor": "center",
          "xref": "paper",
          "y": 1,
          "yanchor": "bottom",
          "yref": "paper"
         },
         {
          "font": {
           "size": 16
          },
          "showarrow": false,
          "text": "2037",
          "x": 0.775,
          "xanchor": "center",
          "xref": "paper",
          "y": 1,
          "yanchor": "bottom",
          "yref": "paper"
         }
        ],
        "template": {
         "data": {
          "bar": [
           {
            "error_x": {
             "color": "#2a3f5f"
            },
            "error_y": {
             "color": "#2a3f5f"
            },
            "marker": {
             "line": {
              "color": "#E5ECF6",
              "width": 0.5
             },
             "pattern": {
              "fillmode": "overlay",
              "size": 10,
              "solidity": 0.2
             }
            },
            "type": "bar"
           }
          ],
          "barpolar": [
           {
            "marker": {
             "line": {
              "color": "#E5ECF6",
              "width": 0.5
             },
             "pattern": {
              "fillmode": "overlay",
              "size": 10,
              "solidity": 0.2
             }
            },
            "type": "barpolar"
           }
          ],
          "carpet": [
           {
            "aaxis": {
             "endlinecolor": "#2a3f5f",
             "gridcolor": "white",
             "linecolor": "white",
             "minorgridcolor": "white",
             "startlinecolor": "#2a3f5f"
            },
            "baxis": {
             "endlinecolor": "#2a3f5f",
             "gridcolor": "white",
             "linecolor": "white",
             "minorgridcolor": "white",
             "startlinecolor": "#2a3f5f"
            },
            "type": "carpet"
           }
          ],
          "choropleth": [
           {
            "colorbar": {
             "outlinewidth": 0,
             "ticks": ""
            },
            "type": "choropleth"
           }
          ],
          "contour": [
           {
            "colorbar": {
             "outlinewidth": 0,
             "ticks": ""
            },
            "colorscale": [
             [
              0,
              "#0d0887"
             ],
             [
              0.1111111111111111,
              "#46039f"
             ],
             [
              0.2222222222222222,
              "#7201a8"
             ],
             [
              0.3333333333333333,
              "#9c179e"
             ],
             [
              0.4444444444444444,
              "#bd3786"
             ],
             [
              0.5555555555555556,
              "#d8576b"
             ],
             [
              0.6666666666666666,
              "#ed7953"
             ],
             [
              0.7777777777777778,
              "#fb9f3a"
             ],
             [
              0.8888888888888888,
              "#fdca26"
             ],
             [
              1,
              "#f0f921"
             ]
            ],
            "type": "contour"
           }
          ],
          "contourcarpet": [
           {
            "colorbar": {
             "outlinewidth": 0,
             "ticks": ""
            },
            "type": "contourcarpet"
           }
          ],
          "heatmap": [
           {
            "colorbar": {
             "outlinewidth": 0,
             "ticks": ""
            },
            "colorscale": [
             [
              0,
              "#0d0887"
             ],
             [
              0.1111111111111111,
              "#46039f"
             ],
             [
              0.2222222222222222,
              "#7201a8"
             ],
             [
              0.3333333333333333,
              "#9c179e"
             ],
             [
              0.4444444444444444,
              "#bd3786"
             ],
             [
              0.5555555555555556,
              "#d8576b"
             ],
             [
              0.6666666666666666,
              "#ed7953"
             ],
             [
              0.7777777777777778,
              "#fb9f3a"
             ],
             [
              0.8888888888888888,
              "#fdca26"
             ],
             [
              1,
              "#f0f921"
             ]
            ],
            "type": "heatmap"
           }
          ],
          "heatmapgl": [
           {
            "colorbar": {
             "outlinewidth": 0,
             "ticks": ""
            },
            "colorscale": [
             [
              0,
              "#0d0887"
             ],
             [
              0.1111111111111111,
              "#46039f"
             ],
             [
              0.2222222222222222,
              "#7201a8"
             ],
             [
              0.3333333333333333,
              "#9c179e"
             ],
             [
              0.4444444444444444,
              "#bd3786"
             ],
             [
              0.5555555555555556,
              "#d8576b"
             ],
             [
              0.6666666666666666,
              "#ed7953"
             ],
             [
              0.7777777777777778,
              "#fb9f3a"
             ],
             [
              0.8888888888888888,
              "#fdca26"
             ],
             [
              1,
              "#f0f921"
             ]
            ],
            "type": "heatmapgl"
           }
          ],
          "histogram": [
           {
            "marker": {
             "pattern": {
              "fillmode": "overlay",
              "size": 10,
              "solidity": 0.2
             }
            },
            "type": "histogram"
           }
          ],
          "histogram2d": [
           {
            "colorbar": {
             "outlinewidth": 0,
             "ticks": ""
            },
            "colorscale": [
             [
              0,
              "#0d0887"
             ],
             [
              0.1111111111111111,
              "#46039f"
             ],
             [
              0.2222222222222222,
              "#7201a8"
             ],
             [
              0.3333333333333333,
              "#9c179e"
             ],
             [
              0.4444444444444444,
              "#bd3786"
             ],
             [
              0.5555555555555556,
              "#d8576b"
             ],
             [
              0.6666666666666666,
              "#ed7953"
             ],
             [
              0.7777777777777778,
              "#fb9f3a"
             ],
             [
              0.8888888888888888,
              "#fdca26"
             ],
             [
              1,
              "#f0f921"
             ]
            ],
            "type": "histogram2d"
           }
          ],
          "histogram2dcontour": [
           {
            "colorbar": {
             "outlinewidth": 0,
             "ticks": ""
            },
            "colorscale": [
             [
              0,
              "#0d0887"
             ],
             [
              0.1111111111111111,
              "#46039f"
             ],
             [
              0.2222222222222222,
              "#7201a8"
             ],
             [
              0.3333333333333333,
              "#9c179e"
             ],
             [
              0.4444444444444444,
              "#bd3786"
             ],
             [
              0.5555555555555556,
              "#d8576b"
             ],
             [
              0.6666666666666666,
              "#ed7953"
             ],
             [
              0.7777777777777778,
              "#fb9f3a"
             ],
             [
              0.8888888888888888,
              "#fdca26"
             ],
             [
              1,
              "#f0f921"
             ]
            ],
            "type": "histogram2dcontour"
           }
          ],
          "mesh3d": [
           {
            "colorbar": {
             "outlinewidth": 0,
             "ticks": ""
            },
            "type": "mesh3d"
           }
          ],
          "parcoords": [
           {
            "line": {
             "colorbar": {
              "outlinewidth": 0,
              "ticks": ""
             }
            },
            "type": "parcoords"
           }
          ],
          "pie": [
           {
            "automargin": true,
            "type": "pie"
           }
          ],
          "scatter": [
           {
            "fillpattern": {
             "fillmode": "overlay",
             "size": 10,
             "solidity": 0.2
            },
            "type": "scatter"
           }
          ],
          "scatter3d": [
           {
            "line": {
             "colorbar": {
              "outlinewidth": 0,
              "ticks": ""
             }
            },
            "marker": {
             "colorbar": {
              "outlinewidth": 0,
              "ticks": ""
             }
            },
            "type": "scatter3d"
           }
          ],
          "scattercarpet": [
           {
            "marker": {
             "colorbar": {
              "outlinewidth": 0,
              "ticks": ""
             }
            },
            "type": "scattercarpet"
           }
          ],
          "scattergeo": [
           {
            "marker": {
             "colorbar": {
              "outlinewidth": 0,
              "ticks": ""
             }
            },
            "type": "scattergeo"
           }
          ],
          "scattergl": [
           {
            "marker": {
             "colorbar": {
              "outlinewidth": 0,
              "ticks": ""
             }
            },
            "type": "scattergl"
           }
          ],
          "scattermapbox": [
           {
            "marker": {
             "colorbar": {
              "outlinewidth": 0,
              "ticks": ""
             }
            },
            "type": "scattermapbox"
           }
          ],
          "scatterpolar": [
           {
            "marker": {
             "colorbar": {
              "outlinewidth": 0,
              "ticks": ""
             }
            },
            "type": "scatterpolar"
           }
          ],
          "scatterpolargl": [
           {
            "marker": {
             "colorbar": {
              "outlinewidth": 0,
              "ticks": ""
             }
            },
            "type": "scatterpolargl"
           }
          ],
          "scatterternary": [
           {
            "marker": {
             "colorbar": {
              "outlinewidth": 0,
              "ticks": ""
             }
            },
            "type": "scatterternary"
           }
          ],
          "surface": [
           {
            "colorbar": {
             "outlinewidth": 0,
             "ticks": ""
            },
            "colorscale": [
             [
              0,
              "#0d0887"
             ],
             [
              0.1111111111111111,
              "#46039f"
             ],
             [
              0.2222222222222222,
              "#7201a8"
             ],
             [
              0.3333333333333333,
              "#9c179e"
             ],
             [
              0.4444444444444444,
              "#bd3786"
             ],
             [
              0.5555555555555556,
              "#d8576b"
             ],
             [
              0.6666666666666666,
              "#ed7953"
             ],
             [
              0.7777777777777778,
              "#fb9f3a"
             ],
             [
              0.8888888888888888,
              "#fdca26"
             ],
             [
              1,
              "#f0f921"
             ]
            ],
            "type": "surface"
           }
          ],
          "table": [
           {
            "cells": {
             "fill": {
              "color": "#EBF0F8"
             },
             "line": {
              "color": "white"
             }
            },
            "header": {
             "fill": {
              "color": "#C8D4E3"
             },
             "line": {
              "color": "white"
             }
            },
            "type": "table"
           }
          ]
         },
         "layout": {
          "annotationdefaults": {
           "arrowcolor": "#2a3f5f",
           "arrowhead": 0,
           "arrowwidth": 1
          },
          "autotypenumbers": "strict",
          "coloraxis": {
           "colorbar": {
            "outlinewidth": 0,
            "ticks": ""
           }
          },
          "colorscale": {
           "diverging": [
            [
             0,
             "#8e0152"
            ],
            [
             0.1,
             "#c51b7d"
            ],
            [
             0.2,
             "#de77ae"
            ],
            [
             0.3,
             "#f1b6da"
            ],
            [
             0.4,
             "#fde0ef"
            ],
            [
             0.5,
             "#f7f7f7"
            ],
            [
             0.6,
             "#e6f5d0"
            ],
            [
             0.7,
             "#b8e186"
            ],
            [
             0.8,
             "#7fbc41"
            ],
            [
             0.9,
             "#4d9221"
            ],
            [
             1,
             "#276419"
            ]
           ],
           "sequential": [
            [
             0,
             "#0d0887"
            ],
            [
             0.1111111111111111,
             "#46039f"
            ],
            [
             0.2222222222222222,
             "#7201a8"
            ],
            [
             0.3333333333333333,
             "#9c179e"
            ],
            [
             0.4444444444444444,
             "#bd3786"
            ],
            [
             0.5555555555555556,
             "#d8576b"
            ],
            [
             0.6666666666666666,
             "#ed7953"
            ],
            [
             0.7777777777777778,
             "#fb9f3a"
            ],
            [
             0.8888888888888888,
             "#fdca26"
            ],
            [
             1,
             "#f0f921"
            ]
           ],
           "sequentialminus": [
            [
             0,
             "#0d0887"
            ],
            [
             0.1111111111111111,
             "#46039f"
            ],
            [
             0.2222222222222222,
             "#7201a8"
            ],
            [
             0.3333333333333333,
             "#9c179e"
            ],
            [
             0.4444444444444444,
             "#bd3786"
            ],
            [
             0.5555555555555556,
             "#d8576b"
            ],
            [
             0.6666666666666666,
             "#ed7953"
            ],
            [
             0.7777777777777778,
             "#fb9f3a"
            ],
            [
             0.8888888888888888,
             "#fdca26"
            ],
            [
             1,
             "#f0f921"
            ]
           ]
          },
          "colorway": [
           "#636efa",
           "#EF553B",
           "#00cc96",
           "#ab63fa",
           "#FFA15A",
           "#19d3f3",
           "#FF6692",
           "#B6E880",
           "#FF97FF",
           "#FECB52"
          ],
          "font": {
           "color": "#2a3f5f"
          },
          "geo": {
           "bgcolor": "white",
           "lakecolor": "white",
           "landcolor": "#E5ECF6",
           "showlakes": true,
           "showland": true,
           "subunitcolor": "white"
          },
          "hoverlabel": {
           "align": "left"
          },
          "hovermode": "closest",
          "mapbox": {
           "style": "light"
          },
          "paper_bgcolor": "white",
          "plot_bgcolor": "#E5ECF6",
          "polar": {
           "angularaxis": {
            "gridcolor": "white",
            "linecolor": "white",
            "ticks": ""
           },
           "bgcolor": "#E5ECF6",
           "radialaxis": {
            "gridcolor": "white",
            "linecolor": "white",
            "ticks": ""
           }
          },
          "scene": {
           "xaxis": {
            "backgroundcolor": "#E5ECF6",
            "gridcolor": "white",
            "gridwidth": 2,
            "linecolor": "white",
            "showbackground": true,
            "ticks": "",
            "zerolinecolor": "white"
           },
           "yaxis": {
            "backgroundcolor": "#E5ECF6",
            "gridcolor": "white",
            "gridwidth": 2,
            "linecolor": "white",
            "showbackground": true,
            "ticks": "",
            "zerolinecolor": "white"
           },
           "zaxis": {
            "backgroundcolor": "#E5ECF6",
            "gridcolor": "white",
            "gridwidth": 2,
            "linecolor": "white",
            "showbackground": true,
            "ticks": "",
            "zerolinecolor": "white"
           }
          },
          "shapedefaults": {
           "line": {
            "color": "#2a3f5f"
           }
          },
          "ternary": {
           "aaxis": {
            "gridcolor": "white",
            "linecolor": "white",
            "ticks": ""
           },
           "baxis": {
            "gridcolor": "white",
            "linecolor": "white",
            "ticks": ""
           },
           "bgcolor": "#E5ECF6",
           "caxis": {
            "gridcolor": "white",
            "linecolor": "white",
            "ticks": ""
           }
          },
          "title": {
           "x": 0.05
          },
          "xaxis": {
           "automargin": true,
           "gridcolor": "white",
           "linecolor": "white",
           "ticks": "",
           "title": {
            "standoff": 15
           },
           "zerolinecolor": "white",
           "zerolinewidth": 2
          },
          "yaxis": {
           "automargin": true,
           "gridcolor": "white",
           "linecolor": "white",
           "ticks": "",
           "title": {
            "standoff": 15
           },
           "zerolinecolor": "white",
           "zerolinewidth": 2
          }
         }
        }
       }
      }
     },
     "metadata": {},
     "output_type": "display_data"
    }
   ],
   "source": [
    "import pandas as pd\n",
    "model_outputs_path = '../../../model/outputs/'\n",
    "model_inputs_path = '../../../model/inputs/'\n",
    "cap_inst = pd.read_csv(model_outputs_path+'BuildGen.csv')\n",
    "\n",
    "gen_info = pd.read_csv(model_inputs_path+'gen_info.csv')\n",
    "#costs = gen_build_costs.merge(gen_info,on='GENERATION_PROJECT')\n",
    "cap_inst = pd.merge(cap_inst, gen_info, left_on='GEN_BLD_YRS_1',\n",
    "                    right_on='GENERATION_PROJECT', how='inner')\n",
    "## Remove disabled projects\n",
    "cap_inst = cap_inst[cap_inst['gen_max_age'] > 1]\n",
    "\n",
    "cap_inst = cap_inst[['GENERATION_PROJECT','gen_tech','GEN_BLD_YRS_2','BuildGen']]\n",
    "cap_inst_2023 = cap_inst[cap_inst['GEN_BLD_YRS_2'] <= 2023]\n",
    "cap_inst_2023 = cap_inst_2023.groupby(['gen_tech']).agg({\n",
    "    'BuildGen' : 'sum'}).reset_index()\n",
    "\n",
    "cap_inst = cap_inst[cap_inst['GEN_BLD_YRS_2'] <= 2037]\n",
    "cap_inst = cap_inst.groupby(['gen_tech']).agg({\n",
    "    'BuildGen' : 'sum'}).reset_index()\n",
    "\n",
    "# Create individual figures\n",
    "fig1 = px.pie(cap_inst_2023, names='gen_tech', values='BuildGen', title='Generation Reported (XM)')\n",
    "fig2 = px.pie(cap_inst, names='gen_tech', values='BuildGen', title='Generation Predicted (Switch)')\n",
    "\n",
    "# Create subplots with the 'type' argument set to 'domain' to accommodate pie charts\n",
    "fig = make_subplots(rows=1, cols=2, specs=[[{'type':'domain'}, {'type':'domain'}]], \n",
    "                    subplot_titles=(\"2023\", \"2037\"))\n",
    "\n",
    "# Add figures to the subplots\n",
    "for trace in fig1.data:\n",
    "    fig.add_trace(trace, row=1, col=1)\n",
    "\n",
    "for trace in fig2.data:\n",
    "    fig.add_trace(trace, row=1, col=2)\n",
    "\n",
    "# Ensure legend items show only once\n",
    "names = set()\n",
    "for trace in fig.data:\n",
    "    if (trace.name in names):\n",
    "        trace.showlegend = False\n",
    "    else:\n",
    "        names.add(trace.name)\n",
    "\n",
    "# Show the figure\n",
    "fig.show()"
   ]
  },
  {
   "cell_type": "code",
   "execution_count": 42,
   "metadata": {},
   "outputs": [
    {
     "data": {
      "application/vnd.plotly.v1+json": {
       "config": {
        "plotlyServerURL": "https://plot.ly"
       },
       "data": [
        {
         "domain": {
          "x": [
           0,
           0.45
          ],
          "y": [
           0,
           1
          ]
         },
         "hovertemplate": "gen_tech=%{label}<br>BuildGen=%{value}<extra></extra>",
         "labels": [
          "Eolica",
          "Hidro",
          "Menores",
          "Thermal",
          "pv_solar"
         ],
         "legendgroup": "",
         "name": "",
         "showlegend": true,
         "type": "pie",
         "values": [
          0,
          62.9,
          6.6,
          28.3,
          2.2
         ]
        },
        {
         "domain": {
          "x": [
           0.55,
           1
          ],
          "y": [
           0,
           1
          ]
         },
         "hovertemplate": "gen_tech=%{label}<br>BuildGen=%{value}<extra></extra>",
         "labels": [
          "Eolica",
          "Hidro",
          "Menores",
          "Thermal",
          "pv_solar"
         ],
         "legendgroup": "",
         "name": "",
         "showlegend": false,
         "type": "pie",
         "values": [
          5.1,
          52.8,
          5.5,
          23.9,
          12.7
         ]
        }
       ],
       "layout": {
        "annotations": [
         {
          "font": {
           "size": 16
          },
          "showarrow": false,
          "text": "2023",
          "x": 0.225,
          "xanchor": "center",
          "xref": "paper",
          "y": 1,
          "yanchor": "bottom",
          "yref": "paper"
         },
         {
          "font": {
           "size": 16
          },
          "showarrow": false,
          "text": "2037",
          "x": 0.775,
          "xanchor": "center",
          "xref": "paper",
          "y": 1,
          "yanchor": "bottom",
          "yref": "paper"
         }
        ],
        "template": {
         "data": {
          "bar": [
           {
            "error_x": {
             "color": "#2a3f5f"
            },
            "error_y": {
             "color": "#2a3f5f"
            },
            "marker": {
             "line": {
              "color": "#E5ECF6",
              "width": 0.5
             },
             "pattern": {
              "fillmode": "overlay",
              "size": 10,
              "solidity": 0.2
             }
            },
            "type": "bar"
           }
          ],
          "barpolar": [
           {
            "marker": {
             "line": {
              "color": "#E5ECF6",
              "width": 0.5
             },
             "pattern": {
              "fillmode": "overlay",
              "size": 10,
              "solidity": 0.2
             }
            },
            "type": "barpolar"
           }
          ],
          "carpet": [
           {
            "aaxis": {
             "endlinecolor": "#2a3f5f",
             "gridcolor": "white",
             "linecolor": "white",
             "minorgridcolor": "white",
             "startlinecolor": "#2a3f5f"
            },
            "baxis": {
             "endlinecolor": "#2a3f5f",
             "gridcolor": "white",
             "linecolor": "white",
             "minorgridcolor": "white",
             "startlinecolor": "#2a3f5f"
            },
            "type": "carpet"
           }
          ],
          "choropleth": [
           {
            "colorbar": {
             "outlinewidth": 0,
             "ticks": ""
            },
            "type": "choropleth"
           }
          ],
          "contour": [
           {
            "colorbar": {
             "outlinewidth": 0,
             "ticks": ""
            },
            "colorscale": [
             [
              0,
              "#0d0887"
             ],
             [
              0.1111111111111111,
              "#46039f"
             ],
             [
              0.2222222222222222,
              "#7201a8"
             ],
             [
              0.3333333333333333,
              "#9c179e"
             ],
             [
              0.4444444444444444,
              "#bd3786"
             ],
             [
              0.5555555555555556,
              "#d8576b"
             ],
             [
              0.6666666666666666,
              "#ed7953"
             ],
             [
              0.7777777777777778,
              "#fb9f3a"
             ],
             [
              0.8888888888888888,
              "#fdca26"
             ],
             [
              1,
              "#f0f921"
             ]
            ],
            "type": "contour"
           }
          ],
          "contourcarpet": [
           {
            "colorbar": {
             "outlinewidth": 0,
             "ticks": ""
            },
            "type": "contourcarpet"
           }
          ],
          "heatmap": [
           {
            "colorbar": {
             "outlinewidth": 0,
             "ticks": ""
            },
            "colorscale": [
             [
              0,
              "#0d0887"
             ],
             [
              0.1111111111111111,
              "#46039f"
             ],
             [
              0.2222222222222222,
              "#7201a8"
             ],
             [
              0.3333333333333333,
              "#9c179e"
             ],
             [
              0.4444444444444444,
              "#bd3786"
             ],
             [
              0.5555555555555556,
              "#d8576b"
             ],
             [
              0.6666666666666666,
              "#ed7953"
             ],
             [
              0.7777777777777778,
              "#fb9f3a"
             ],
             [
              0.8888888888888888,
              "#fdca26"
             ],
             [
              1,
              "#f0f921"
             ]
            ],
            "type": "heatmap"
           }
          ],
          "heatmapgl": [
           {
            "colorbar": {
             "outlinewidth": 0,
             "ticks": ""
            },
            "colorscale": [
             [
              0,
              "#0d0887"
             ],
             [
              0.1111111111111111,
              "#46039f"
             ],
             [
              0.2222222222222222,
              "#7201a8"
             ],
             [
              0.3333333333333333,
              "#9c179e"
             ],
             [
              0.4444444444444444,
              "#bd3786"
             ],
             [
              0.5555555555555556,
              "#d8576b"
             ],
             [
              0.6666666666666666,
              "#ed7953"
             ],
             [
              0.7777777777777778,
              "#fb9f3a"
             ],
             [
              0.8888888888888888,
              "#fdca26"
             ],
             [
              1,
              "#f0f921"
             ]
            ],
            "type": "heatmapgl"
           }
          ],
          "histogram": [
           {
            "marker": {
             "pattern": {
              "fillmode": "overlay",
              "size": 10,
              "solidity": 0.2
             }
            },
            "type": "histogram"
           }
          ],
          "histogram2d": [
           {
            "colorbar": {
             "outlinewidth": 0,
             "ticks": ""
            },
            "colorscale": [
             [
              0,
              "#0d0887"
             ],
             [
              0.1111111111111111,
              "#46039f"
             ],
             [
              0.2222222222222222,
              "#7201a8"
             ],
             [
              0.3333333333333333,
              "#9c179e"
             ],
             [
              0.4444444444444444,
              "#bd3786"
             ],
             [
              0.5555555555555556,
              "#d8576b"
             ],
             [
              0.6666666666666666,
              "#ed7953"
             ],
             [
              0.7777777777777778,
              "#fb9f3a"
             ],
             [
              0.8888888888888888,
              "#fdca26"
             ],
             [
              1,
              "#f0f921"
             ]
            ],
            "type": "histogram2d"
           }
          ],
          "histogram2dcontour": [
           {
            "colorbar": {
             "outlinewidth": 0,
             "ticks": ""
            },
            "colorscale": [
             [
              0,
              "#0d0887"
             ],
             [
              0.1111111111111111,
              "#46039f"
             ],
             [
              0.2222222222222222,
              "#7201a8"
             ],
             [
              0.3333333333333333,
              "#9c179e"
             ],
             [
              0.4444444444444444,
              "#bd3786"
             ],
             [
              0.5555555555555556,
              "#d8576b"
             ],
             [
              0.6666666666666666,
              "#ed7953"
             ],
             [
              0.7777777777777778,
              "#fb9f3a"
             ],
             [
              0.8888888888888888,
              "#fdca26"
             ],
             [
              1,
              "#f0f921"
             ]
            ],
            "type": "histogram2dcontour"
           }
          ],
          "mesh3d": [
           {
            "colorbar": {
             "outlinewidth": 0,
             "ticks": ""
            },
            "type": "mesh3d"
           }
          ],
          "parcoords": [
           {
            "line": {
             "colorbar": {
              "outlinewidth": 0,
              "ticks": ""
             }
            },
            "type": "parcoords"
           }
          ],
          "pie": [
           {
            "automargin": true,
            "type": "pie"
           }
          ],
          "scatter": [
           {
            "fillpattern": {
             "fillmode": "overlay",
             "size": 10,
             "solidity": 0.2
            },
            "type": "scatter"
           }
          ],
          "scatter3d": [
           {
            "line": {
             "colorbar": {
              "outlinewidth": 0,
              "ticks": ""
             }
            },
            "marker": {
             "colorbar": {
              "outlinewidth": 0,
              "ticks": ""
             }
            },
            "type": "scatter3d"
           }
          ],
          "scattercarpet": [
           {
            "marker": {
             "colorbar": {
              "outlinewidth": 0,
              "ticks": ""
             }
            },
            "type": "scattercarpet"
           }
          ],
          "scattergeo": [
           {
            "marker": {
             "colorbar": {
              "outlinewidth": 0,
              "ticks": ""
             }
            },
            "type": "scattergeo"
           }
          ],
          "scattergl": [
           {
            "marker": {
             "colorbar": {
              "outlinewidth": 0,
              "ticks": ""
             }
            },
            "type": "scattergl"
           }
          ],
          "scattermapbox": [
           {
            "marker": {
             "colorbar": {
              "outlinewidth": 0,
              "ticks": ""
             }
            },
            "type": "scattermapbox"
           }
          ],
          "scatterpolar": [
           {
            "marker": {
             "colorbar": {
              "outlinewidth": 0,
              "ticks": ""
             }
            },
            "type": "scatterpolar"
           }
          ],
          "scatterpolargl": [
           {
            "marker": {
             "colorbar": {
              "outlinewidth": 0,
              "ticks": ""
             }
            },
            "type": "scatterpolargl"
           }
          ],
          "scatterternary": [
           {
            "marker": {
             "colorbar": {
              "outlinewidth": 0,
              "ticks": ""
             }
            },
            "type": "scatterternary"
           }
          ],
          "surface": [
           {
            "colorbar": {
             "outlinewidth": 0,
             "ticks": ""
            },
            "colorscale": [
             [
              0,
              "#0d0887"
             ],
             [
              0.1111111111111111,
              "#46039f"
             ],
             [
              0.2222222222222222,
              "#7201a8"
             ],
             [
              0.3333333333333333,
              "#9c179e"
             ],
             [
              0.4444444444444444,
              "#bd3786"
             ],
             [
              0.5555555555555556,
              "#d8576b"
             ],
             [
              0.6666666666666666,
              "#ed7953"
             ],
             [
              0.7777777777777778,
              "#fb9f3a"
             ],
             [
              0.8888888888888888,
              "#fdca26"
             ],
             [
              1,
              "#f0f921"
             ]
            ],
            "type": "surface"
           }
          ],
          "table": [
           {
            "cells": {
             "fill": {
              "color": "#EBF0F8"
             },
             "line": {
              "color": "white"
             }
            },
            "header": {
             "fill": {
              "color": "#C8D4E3"
             },
             "line": {
              "color": "white"
             }
            },
            "type": "table"
           }
          ]
         },
         "layout": {
          "annotationdefaults": {
           "arrowcolor": "#2a3f5f",
           "arrowhead": 0,
           "arrowwidth": 1
          },
          "autotypenumbers": "strict",
          "coloraxis": {
           "colorbar": {
            "outlinewidth": 0,
            "ticks": ""
           }
          },
          "colorscale": {
           "diverging": [
            [
             0,
             "#8e0152"
            ],
            [
             0.1,
             "#c51b7d"
            ],
            [
             0.2,
             "#de77ae"
            ],
            [
             0.3,
             "#f1b6da"
            ],
            [
             0.4,
             "#fde0ef"
            ],
            [
             0.5,
             "#f7f7f7"
            ],
            [
             0.6,
             "#e6f5d0"
            ],
            [
             0.7,
             "#b8e186"
            ],
            [
             0.8,
             "#7fbc41"
            ],
            [
             0.9,
             "#4d9221"
            ],
            [
             1,
             "#276419"
            ]
           ],
           "sequential": [
            [
             0,
             "#0d0887"
            ],
            [
             0.1111111111111111,
             "#46039f"
            ],
            [
             0.2222222222222222,
             "#7201a8"
            ],
            [
             0.3333333333333333,
             "#9c179e"
            ],
            [
             0.4444444444444444,
             "#bd3786"
            ],
            [
             0.5555555555555556,
             "#d8576b"
            ],
            [
             0.6666666666666666,
             "#ed7953"
            ],
            [
             0.7777777777777778,
             "#fb9f3a"
            ],
            [
             0.8888888888888888,
             "#fdca26"
            ],
            [
             1,
             "#f0f921"
            ]
           ],
           "sequentialminus": [
            [
             0,
             "#0d0887"
            ],
            [
             0.1111111111111111,
             "#46039f"
            ],
            [
             0.2222222222222222,
             "#7201a8"
            ],
            [
             0.3333333333333333,
             "#9c179e"
            ],
            [
             0.4444444444444444,
             "#bd3786"
            ],
            [
             0.5555555555555556,
             "#d8576b"
            ],
            [
             0.6666666666666666,
             "#ed7953"
            ],
            [
             0.7777777777777778,
             "#fb9f3a"
            ],
            [
             0.8888888888888888,
             "#fdca26"
            ],
            [
             1,
             "#f0f921"
            ]
           ]
          },
          "colorway": [
           "#636efa",
           "#EF553B",
           "#00cc96",
           "#ab63fa",
           "#FFA15A",
           "#19d3f3",
           "#FF6692",
           "#B6E880",
           "#FF97FF",
           "#FECB52"
          ],
          "font": {
           "color": "#2a3f5f"
          },
          "geo": {
           "bgcolor": "white",
           "lakecolor": "white",
           "landcolor": "#E5ECF6",
           "showlakes": true,
           "showland": true,
           "subunitcolor": "white"
          },
          "hoverlabel": {
           "align": "left"
          },
          "hovermode": "closest",
          "mapbox": {
           "style": "light"
          },
          "paper_bgcolor": "white",
          "plot_bgcolor": "#E5ECF6",
          "polar": {
           "angularaxis": {
            "gridcolor": "white",
            "linecolor": "white",
            "ticks": ""
           },
           "bgcolor": "#E5ECF6",
           "radialaxis": {
            "gridcolor": "white",
            "linecolor": "white",
            "ticks": ""
           }
          },
          "scene": {
           "xaxis": {
            "backgroundcolor": "#E5ECF6",
            "gridcolor": "white",
            "gridwidth": 2,
            "linecolor": "white",
            "showbackground": true,
            "ticks": "",
            "zerolinecolor": "white"
           },
           "yaxis": {
            "backgroundcolor": "#E5ECF6",
            "gridcolor": "white",
            "gridwidth": 2,
            "linecolor": "white",
            "showbackground": true,
            "ticks": "",
            "zerolinecolor": "white"
           },
           "zaxis": {
            "backgroundcolor": "#E5ECF6",
            "gridcolor": "white",
            "gridwidth": 2,
            "linecolor": "white",
            "showbackground": true,
            "ticks": "",
            "zerolinecolor": "white"
           }
          },
          "shapedefaults": {
           "line": {
            "color": "#2a3f5f"
           }
          },
          "ternary": {
           "aaxis": {
            "gridcolor": "white",
            "linecolor": "white",
            "ticks": ""
           },
           "baxis": {
            "gridcolor": "white",
            "linecolor": "white",
            "ticks": ""
           },
           "bgcolor": "#E5ECF6",
           "caxis": {
            "gridcolor": "white",
            "linecolor": "white",
            "ticks": ""
           }
          },
          "title": {
           "x": 0.05
          },
          "xaxis": {
           "automargin": true,
           "gridcolor": "white",
           "linecolor": "white",
           "ticks": "",
           "title": {
            "standoff": 15
           },
           "zerolinecolor": "white",
           "zerolinewidth": 2
          },
          "yaxis": {
           "automargin": true,
           "gridcolor": "white",
           "linecolor": "white",
           "ticks": "",
           "title": {
            "standoff": 15
           },
           "zerolinecolor": "white",
           "zerolinewidth": 2
          }
         }
        }
       }
      }
     },
     "metadata": {},
     "output_type": "display_data"
    }
   ],
   "source": [
    "import pandas as pd\n",
    "esc_cap_2023 = pd.read_csv('../../../data/XM-API/Plan/installed_capacity/esc0/2023.csv')\n",
    "esc_cap_2037 = pd.read_csv('../../../data/XM-API/Plan/installed_capacity/esc0/2037.csv')\n",
    "\n",
    "# Create individual figures\n",
    "fig1 = px.pie(esc_cap_2023, names='gen_tech', values='BuildGen', title='Generation Reported (XM)')\n",
    "fig2 = px.pie(esc_cap_2037, names='gen_tech', values='BuildGen', title='Generation Predicted (Switch)')\n",
    "\n",
    "# Create subplots with the 'type' argument set to 'domain' to accommodate pie charts\n",
    "fig = make_subplots(rows=1, cols=2, specs=[[{'type':'domain'}, {'type':'domain'}]], \n",
    "                    subplot_titles=(\"2023\", \"2037\"))\n",
    "\n",
    "# Add figures to the subplots\n",
    "for trace in fig1.data: fig.add_trace(trace, row=1, col=1)\n",
    "for trace in fig2.data: fig.add_trace(trace, row=1, col=2)\n",
    "\n",
    "# Ensure legend items show only once\n",
    "names = set()\n",
    "for trace in fig.data:\n",
    "    if (trace.name in names): trace.showlegend = False\n",
    "    else: names.add(trace.name)\n",
    "\n",
    "# Show the figure\n",
    "fig.show()"
   ]
  }
 ],
 "metadata": {
  "kernelspec": {
   "display_name": "plot_switch",
   "language": "python",
   "name": "python3"
  },
  "language_info": {
   "codemirror_mode": {
    "name": "ipython",
    "version": 3
   },
   "file_extension": ".py",
   "mimetype": "text/x-python",
   "name": "python",
   "nbconvert_exporter": "python",
   "pygments_lexer": "ipython3",
   "version": "3.9.19"
  }
 },
 "nbformat": 4,
 "nbformat_minor": 2
}
